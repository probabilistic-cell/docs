{
 "cells": [
  {
   "cell_type": "markdown",
   "id": "9f4d7a2a",
   "metadata": {},
   "source": [
    "# Manifolds"
   ]
  },
  {
   "cell_type": "code",
   "execution_count": 1,
   "id": "b18ac688",
   "metadata": {},
   "outputs": [],
   "source": [
    "import latenta as la"
   ]
  },
  {
   "cell_type": "markdown",
   "id": "b30ed905-303a-4756-9c1c-40cff74fa77a",
   "metadata": {},
   "source": [
    "So far, we have focused on models that basically look like this:"
   ]
  },
  {
   "cell_type": "markdown",
   "id": "d68693c0-f034-496e-8e01-2d59ceea314e",
   "metadata": {},
   "source": [
    "<img src=\"_static/regression.svg\">|"
   ]
  },
  {
   "cell_type": "markdown",
   "id": "495f28df-d0dc-4cd0-b83e-c63c2f4f1928",
   "metadata": {},
   "source": [
    "But what if our cellular variables are also unknown:"
   ]
  },
  {
   "cell_type": "code",
   "execution_count": 21,
   "id": "78b2a675-110c-40b6-8ac2-3039b218bccf",
   "metadata": {},
   "outputs": [
    {
     "data": {
      "text/html": [
       "<canvas id=\"canvas\", width = 100, height = 200>\n",
       "\n",
       "</canvas>\n"
      ],
      "text/plain": [
       "<IPython.core.display.HTML object>"
      ]
     },
     "metadata": {},
     "output_type": "display_data"
    }
   ],
   "source": [
    "%%html\n",
    "<canvas id=\"canvas\", width = 100, height = 200>\n",
    "\n",
    "</canvas>"
   ]
  },
  {
   "cell_type": "code",
   "execution_count": 19,
   "id": "dbab90c3-cf3f-4001-8816-ef2b4444f61f",
   "metadata": {},
   "outputs": [
    {
     "data": {
      "application/javascript": [
       "const rc = rough.canvas(document.getElementById('canvas'));\n",
       "rc.rectangle(10, 10, 200, 200); // x, y, width, height\n"
      ],
      "text/plain": [
       "<IPython.core.display.Javascript object>"
      ]
     },
     "metadata": {},
     "output_type": "display_data"
    }
   ],
   "source": [
    "%%javascript\n",
    "const rc = rough.canvas(document.getElementById('canvas'));\n",
    "rc.rectangle(10, 10, 200, 200); // x, y, width, height"
   ]
  },
  {
   "cell_type": "markdown",
   "id": "7d26b687-f130-44f9-8a8d-4e339aa0010d",
   "metadata": {},
   "source": [
    "So far, we have "
   ]
  }
 ],
 "metadata": {
  "jupytext": {
   "encoding": "# -*- coding: utf-8 -*-",
   "formats": "ipynb,py:percent"
  },
  "kernelspec": {
   "display_name": "Python 3 (ipykernel)",
   "language": "python",
   "name": "python3"
  },
  "language_info": {
   "codemirror_mode": {
    "name": "ipython",
    "version": 3
   },
   "file_extension": ".py",
   "mimetype": "text/x-python",
   "name": "python",
   "nbconvert_exporter": "python",
   "pygments_lexer": "ipython3",
   "version": "3.8.10"
  }
 },
 "nbformat": 4,
 "nbformat_minor": 5
}
