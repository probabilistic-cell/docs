{
 "cells": [
  {
   "cell_type": "markdown",
   "id": "c41e444e",
   "metadata": {},
   "source": [
    "# Workflows"
   ]
  },
  {
   "cell_type": "markdown",
   "id": "ca07933e-66cf-42a2-9ff9-d31aa4c22334",
   "metadata": {},
   "source": [
    "For now we mainly looked at models in isolation. However, the true power of probabilistic modelling lies in its ability to move beyond the \"one-model-fits-all\" idea, but rather create a variety of models and connect or compare them in various ways. Indeed, even for a normal use cases, we already typically go up to a dozen models or more. In more complex experimental designs, which are becoming every more common, this can easily go up to a hundred or more."
   ]
  },
  {
   "cell_type": "code",
   "execution_count": 1,
   "id": "64bdec88",
   "metadata": {
    "execution": {
     "iopub.execute_input": "2021-10-05T15:39:17.155227Z",
     "iopub.status.busy": "2021-10-05T15:39:17.154427Z",
     "iopub.status.idle": "2021-10-05T15:39:18.558224Z",
     "shell.execute_reply": "2021-10-05T15:39:18.557916Z"
    }
   },
   "outputs": [],
   "source": [
    "%load_ext autoreload\n",
    "%autoreload 2\n",
    "import latenta as la\n",
    "import lacell as lac\n",
    "import numpy as np"
   ]
  },
  {
   "cell_type": "markdown",
   "id": "92267d0c-2c29-4dca-93a6-df6e11df7851",
   "metadata": {},
   "source": [
    "Even in relatively simple use cases, managing different models, storing them across sessions, and let them depend on each other can be a pain. To make this easier, we created a small workflow manager in the `laflow` package. It borrows elements from other workflow managers such as snakemake or nextflow. However, it is much more focused on interactivity, modularization and model inheritance that, all concepts very central to the modelling we're doing here.\n",
    "\n",
    "The core tasks of laflow is:\n",
    "- **Persistence**, to store sure models and its derivatives on disk\n",
    "- **Model inheritance**, creation of similar models that only differ in certain aspects\n",
    "- **Connecting data**, to explicitely define what a model needs and where it gets this"
   ]
  },
  {
   "cell_type": "code",
   "execution_count": 2,
   "id": "95ac7ce5-08eb-4936-989c-74dd5c159b3a",
   "metadata": {
    "execution": {
     "iopub.execute_input": "2021-10-05T15:39:18.562118Z",
     "iopub.status.busy": "2021-10-05T15:39:18.561791Z",
     "iopub.status.idle": "2021-10-05T15:39:18.574437Z",
     "shell.execute_reply": "2021-10-05T15:39:18.574136Z"
    }
   },
   "outputs": [],
   "source": [
    "import laflow as laf"
   ]
  },
  {
   "cell_type": "markdown",
   "id": "0ff40293-2cf6-4b8f-9e3f-3d79e75692e4",
   "metadata": {},
   "source": [
    "We'll use the same dataset as [before](./1-variables)."
   ]
  },
  {
   "cell_type": "code",
   "execution_count": 3,
   "id": "46e1c2f9-b86b-4272-9ef9-17e5a46e652f",
   "metadata": {
    "execution": {
     "iopub.execute_input": "2021-10-05T15:39:18.577101Z",
     "iopub.status.busy": "2021-10-05T15:39:18.576623Z",
     "iopub.status.idle": "2021-10-05T15:39:19.173085Z",
     "shell.execute_reply": "2021-10-05T15:39:19.172658Z"
    }
   },
   "outputs": [],
   "source": [
    "adata = la.data.load_myod1()"
   ]
  },
  {
   "cell_type": "code",
   "execution_count": 4,
   "id": "1b6cc03b-c47a-4c44-86f8-602539837674",
   "metadata": {
    "execution": {
     "iopub.execute_input": "2021-10-05T15:39:19.176105Z",
     "iopub.status.busy": "2021-10-05T15:39:19.175658Z",
     "iopub.status.idle": "2021-10-05T15:39:22.565582Z",
     "shell.execute_reply": "2021-10-05T15:39:22.565148Z"
    },
    "tags": [
     "hide-input",
     "remove-output"
    ]
   },
   "outputs": [
    {
     "name": "stderr",
     "output_type": "stream",
     "text": [
      "/home/wsaelens/projects/probabilistic-cell/.venv/lib/python3.8/site-packages/anndata/_core/anndata.py:1220: FutureWarning: The `inplace` parameter in pandas.Categorical.reorder_categories is deprecated and will be removed in a future version. Removing unused categories will always return a new Categorical object.\n",
      "  c.reorder_categories(natsorted(c.categories), inplace=True)\n",
      "... storing 'dissociation' as categorical\n"
     ]
    },
    {
     "name": "stderr",
     "output_type": "stream",
     "text": [
      "/home/wsaelens/projects/probabilistic-cell/.venv/lib/python3.8/site-packages/anndata/_core/anndata.py:1220: FutureWarning: The `inplace` parameter in pandas.Categorical.reorder_categories is deprecated and will be removed in a future version. Removing unused categories will always return a new Categorical object.\n",
      "  c.reorder_categories(natsorted(c.categories), inplace=True)\n",
      "... storing 'gene_overexpressed' as categorical\n"
     ]
    },
    {
     "name": "stderr",
     "output_type": "stream",
     "text": [
      "/home/wsaelens/projects/probabilistic-cell/.venv/lib/python3.8/site-packages/anndata/_core/anndata.py:1220: FutureWarning: The `inplace` parameter in pandas.Categorical.reorder_categories is deprecated and will be removed in a future version. Removing unused categories will always return a new Categorical object.\n",
      "  c.reorder_categories(natsorted(c.categories), inplace=True)\n",
      "... storing 'batch' as categorical\n"
     ]
    },
    {
     "name": "stderr",
     "output_type": "stream",
     "text": [
      "/home/wsaelens/projects/probabilistic-cell/.venv/lib/python3.8/site-packages/anndata/_core/anndata.py:1220: FutureWarning: The `inplace` parameter in pandas.Categorical.reorder_categories is deprecated and will be removed in a future version. Removing unused categories will always return a new Categorical object.\n",
      "  c.reorder_categories(natsorted(c.categories), inplace=True)\n",
      "... storing 'biotype' as categorical\n"
     ]
    },
    {
     "name": "stderr",
     "output_type": "stream",
     "text": [
      "/home/wsaelens/projects/probabilistic-cell/.venv/lib/python3.8/site-packages/scanpy/preprocessing/_combat.py:340: RuntimeWarning: divide by zero encountered in true_divide\n",
      "  (abs(g_new - g_old) / g_old).max(), (abs(d_new - d_old) / d_old).max()\n"
     ]
    }
   ],
   "source": [
    "import scanpy as sc\n",
    "\n",
    "adata.raw = adata\n",
    "\n",
    "sc.pp.normalize_per_cell(adata)\n",
    "sc.pp.log1p(adata)\n",
    "\n",
    "sc.pp.combat(adata)\n",
    "sc.pp.pca(adata)\n",
    "\n",
    "sc.pp.neighbors(adata)\n",
    "sc.tl.umap(adata)\n",
    "\n",
    "adata.obs[\"log_overexpression\"] = np.log1p(adata.obs[\"overexpression\"])"
   ]
  },
  {
   "cell_type": "markdown",
   "id": "f4ed7637-f900-4df1-8d6c-314aff7e1881",
   "metadata": {},
   "source": [
    "## Persistence"
   ]
  },
  {
   "cell_type": "markdown",
   "id": "4192e621-8002-45e0-95f1-26ec53318101",
   "metadata": {},
   "source": [
    "The basis of laflow is the {class}`~laflow.Flow` class. Each instance we create is associated with a particular folder on disk, starting from a given root directory. We work from a temporary directory in these tutorials, but in real life use cases this root is typically  your project's root directory or one of its subdirectories."
   ]
  },
  {
   "cell_type": "code",
   "execution_count": 5,
   "id": "b50f9f6c-c147-4934-83e0-39e2ab96f10e",
   "metadata": {
    "execution": {
     "iopub.execute_input": "2021-10-05T15:39:22.568560Z",
     "iopub.status.busy": "2021-10-05T15:39:22.568081Z",
     "iopub.status.idle": "2021-10-05T15:39:22.583687Z",
     "shell.execute_reply": "2021-10-05T15:39:22.583264Z"
    }
   },
   "outputs": [],
   "source": [
    "import tempfile\n",
    "import pathlib\n",
    "\n",
    "project_root = pathlib.Path(tempfile.TemporaryDirectory().name)\n",
    "project_root.mkdir()\n",
    "laf.set_project_root(project_root)  # sets the default project root"
   ]
  },
  {
   "cell_type": "markdown",
   "id": "bc6b41e6-f769-4908-9fb2-abde5670234a",
   "metadata": {},
   "source": [
    "We can then create a {class}`~laflow.Flow` object as follows. Because we set the default root for this python session, we don't have to provide this explicitely. All we need to provide is a name for the flow, and optionally a base flow if this is not the root:"
   ]
  },
  {
   "cell_type": "code",
   "execution_count": 6,
   "id": "00f27ea1-efb4-494e-949e-ad9ad5903672",
   "metadata": {
    "execution": {
     "iopub.execute_input": "2021-10-05T15:39:22.586239Z",
     "iopub.status.busy": "2021-10-05T15:39:22.585822Z",
     "iopub.status.idle": "2021-10-05T15:39:22.601727Z",
     "shell.execute_reply": "2021-10-05T15:39:22.601317Z"
    }
   },
   "outputs": [
    {
     "data": {
      "text/plain": [
       "PosixPath('/tmp/tmpxwdoe057/dataset')"
      ]
     },
     "execution_count": 6,
     "metadata": {},
     "output_type": "execute_result"
    }
   ],
   "source": [
    "dataset = laf.Flow(\"dataset\")\n",
    "dataset.path  # the path associated with this flow"
   ]
  },
  {
   "cell_type": "markdown",
   "id": "cbe2dbe1-8c2b-4492-a15c-853ed87f9425",
   "metadata": {},
   "source": [
    "This folder will store information on each object, links to other objects or flows, and the objects themselves if they are labeled as persistent. We can store a python object inside a flow by simply assigning it:"
   ]
  },
  {
   "cell_type": "code",
   "execution_count": 7,
   "id": "f1916ca7-4d2d-4751-88b2-8963e77447df",
   "metadata": {
    "execution": {
     "iopub.execute_input": "2021-10-05T15:39:22.604957Z",
     "iopub.status.busy": "2021-10-05T15:39:22.604476Z",
     "iopub.status.idle": "2021-10-05T15:39:22.630008Z",
     "shell.execute_reply": "2021-10-05T15:39:22.630393Z"
    }
   },
   "outputs": [],
   "source": [
    "dataset.adata = adata"
   ]
  },
  {
   "cell_type": "markdown",
   "id": "8dce0ffe-42bf-4b33-abdc-1ba3ee058865",
   "metadata": {},
   "source": [
    "Because python objects are by default persistent, the `adata` object was saved in the folder as a pickle. Along with it is a info json file which is used internally to keep track which type of object it is and how it was created."
   ]
  },
  {
   "cell_type": "code",
   "execution_count": 8,
   "id": "32b42049-fb75-487a-985b-7256f38a6303",
   "metadata": {
    "execution": {
     "iopub.execute_input": "2021-10-05T15:39:22.633786Z",
     "iopub.status.busy": "2021-10-05T15:39:22.632633Z",
     "iopub.status.idle": "2021-10-05T15:39:22.836179Z",
     "shell.execute_reply": "2021-10-05T15:39:22.835711Z"
    }
   },
   "outputs": [
    {
     "name": "stdout",
     "output_type": "stream",
     "text": [
      "total 17M\r\n",
      "-rw-r--r-- 1 wsaelens updepla 156 Oct  5 17:39 adata.info\r\n",
      "-rw-r--r-- 1 wsaelens updepla 17M Oct  5 17:39 adata.pkl\r\n"
     ]
    }
   ],
   "source": [
    "!ls -lh {dataset.path}"
   ]
  },
  {
   "cell_type": "markdown",
   "id": "bb303b21-fb93-44ef-8cc0-8a0e4401ad0a",
   "metadata": {},
   "source": [
    "When working in IPython environments (e.g. Jupyter), we can always check what contents a flow object has as follows:"
   ]
  },
  {
   "cell_type": "code",
   "execution_count": 9,
   "id": "a8c86c6b-1038-49c3-a2c4-fc88fc40ba98",
   "metadata": {
    "execution": {
     "iopub.execute_input": "2021-10-05T15:39:22.842796Z",
     "iopub.status.busy": "2021-10-05T15:39:22.839358Z",
     "iopub.status.idle": "2021-10-05T15:39:22.861418Z",
     "shell.execute_reply": "2021-10-05T15:39:22.861028Z"
    }
   },
   "outputs": [
    {
     "data": {
      "text/html": [
       "<script src=\"https://cdnjs.cloudflare.com/ajax/libs/require.js/2.3.6/require.js\" integrity=\"sha512-vRqhAr2wsn+/cSsyz80psBbCcqzz2GTuhGk3bq3dAyytz4J/8XwFqMjiAGFBj+WM95lHBJ9cDf87T3P8yMrY7A==\" crossorigin=\"anonymous\" referrerpolicy=\"no-referrer\" id=\"script26140\" onload=\"loaded26140\"></script>\n",
       "<style>\n",
       ".la-flow ul {\n",
       "    margin-top:0;\n",
       "    list-style: none;\n",
       "    padding: 0;\n",
       "    padding-left: 10px !important;\n",
       "}\n",
       ".la-flow li {\n",
       "    padding-left: 10px;\n",
       "}\n",
       ".la-flow .instances li {\n",
       "    border-left: 1px dashed #ccc;\n",
       "}\n",
       ".la-flow .steps li {\n",
       "    border-left: 1px dotted #ccc;\n",
       "}\n",
       ".la-flow .soft {\n",
       "    opacity:0.5;\n",
       "}\n",
       "</style>\n",
       "\n",
       "<script>\n",
       "function loaded26140() {\n",
       "    require.config({\n",
       "    paths: {\n",
       "        'fontawesome': 'https://kit.fontawesome.com/77f7a120e4.js'\n",
       "    }\n",
       "    })\n",
       "\n",
       "    require(['fontawesome'], function (fontawesome) {\n",
       "    console.log('Congrats, Font Awesome is installed using Require.js')\n",
       "    })\n",
       "}\n",
       "</script>\n",
       "\n",
       "\n",
       "\n",
       "        <div class='la-flow'><strong>dataset</strong> <span class='soft'>(laflow.flow.Flow)</span><ul class='instances'><li><i class='fas fa-check-square' style='color:#2ECC40;' title='available and persistent'></i> adata <span class='soft'>(Py)</span></li></ul><ul class='steps'></ul>"
      ],
      "text/plain": [
       "<laflow.flow.Flow at 0x7f6b0c4bfb20>"
      ]
     },
     "execution_count": 9,
     "metadata": {},
     "output_type": "execute_result"
    }
   ],
   "source": [
    "dataset"
   ]
  },
  {
   "cell_type": "markdown",
   "id": "234f23aa-7525-4f4b-806a-2cc4bccfd852",
   "metadata": {},
   "source": [
    "Even if we restart our session (simulated here by removing the flow object), we can always retrieve it by recreating a flow object in the correct folder:"
   ]
  },
  {
   "cell_type": "code",
   "execution_count": 10,
   "id": "8aaef670-e512-46d0-b218-9319d400255d",
   "metadata": {
    "execution": {
     "iopub.execute_input": "2021-10-05T15:39:22.864052Z",
     "iopub.status.busy": "2021-10-05T15:39:22.863590Z",
     "iopub.status.idle": "2021-10-05T15:39:22.878831Z",
     "shell.execute_reply": "2021-10-05T15:39:22.878412Z"
    }
   },
   "outputs": [],
   "source": [
    "if \"dataset\" in globals():\n",
    "    del dataset\n",
    "dataset = laf.Flow(\"dataset\")"
   ]
  },
  {
   "cell_type": "code",
   "execution_count": 11,
   "id": "e141def7-df7f-4088-a7d8-f54d7a7181e0",
   "metadata": {
    "execution": {
     "iopub.execute_input": "2021-10-05T15:39:22.881295Z",
     "iopub.status.busy": "2021-10-05T15:39:22.880830Z",
     "iopub.status.idle": "2021-10-05T15:39:22.897220Z",
     "shell.execute_reply": "2021-10-05T15:39:22.896813Z"
    }
   },
   "outputs": [
    {
     "data": {
      "text/html": [
       "<script src=\"https://cdnjs.cloudflare.com/ajax/libs/require.js/2.3.6/require.js\" integrity=\"sha512-vRqhAr2wsn+/cSsyz80psBbCcqzz2GTuhGk3bq3dAyytz4J/8XwFqMjiAGFBj+WM95lHBJ9cDf87T3P8yMrY7A==\" crossorigin=\"anonymous\" referrerpolicy=\"no-referrer\" id=\"script6144\" onload=\"loaded6144\"></script>\n",
       "<style>\n",
       ".la-flow ul {\n",
       "    margin-top:0;\n",
       "    list-style: none;\n",
       "    padding: 0;\n",
       "    padding-left: 10px !important;\n",
       "}\n",
       ".la-flow li {\n",
       "    padding-left: 10px;\n",
       "}\n",
       ".la-flow .instances li {\n",
       "    border-left: 1px dashed #ccc;\n",
       "}\n",
       ".la-flow .steps li {\n",
       "    border-left: 1px dotted #ccc;\n",
       "}\n",
       ".la-flow .soft {\n",
       "    opacity:0.5;\n",
       "}\n",
       "</style>\n",
       "\n",
       "<script>\n",
       "function loaded6144() {\n",
       "    require.config({\n",
       "    paths: {\n",
       "        'fontawesome': 'https://kit.fontawesome.com/77f7a120e4.js'\n",
       "    }\n",
       "    })\n",
       "\n",
       "    require(['fontawesome'], function (fontawesome) {\n",
       "    console.log('Congrats, Font Awesome is installed using Require.js')\n",
       "    })\n",
       "}\n",
       "</script>\n",
       "\n",
       "\n",
       "\n",
       "        <div class='la-flow'><strong>dataset</strong> <span class='soft'>(laflow.flow.Flow)</span><ul class='instances'><li><i class='fas fa-check-square' style='color:#2ECC40;' title='available and persistent'></i> adata <span class='soft'>(Py)</span></li></ul><ul class='steps'></ul>"
      ],
      "text/plain": [
       "<laflow.flow.Flow at 0x7f68b2a0d040>"
      ]
     },
     "execution_count": 11,
     "metadata": {},
     "output_type": "execute_result"
    }
   ],
   "source": [
    "dataset"
   ]
  },
  {
   "cell_type": "markdown",
   "id": "337fecae-9b99-4128-9421-d1325f853324",
   "metadata": {},
   "source": [
    "We can also have persistence of other objects. If you for example provide a "
   ]
  },
  {
   "cell_type": "code",
   "execution_count": 12,
   "id": "88f211e0-e229-4fd5-b249-208f07b51e22",
   "metadata": {
    "execution": {
     "iopub.execute_input": "2021-10-05T15:39:22.899978Z",
     "iopub.status.busy": "2021-10-05T15:39:22.899518Z",
     "iopub.status.idle": "2021-10-05T15:39:23.028591Z",
     "shell.execute_reply": "2021-10-05T15:39:23.028182Z"
    }
   },
   "outputs": [
    {
     "data": {
      "image/png": "[encoded data removed]",
      "text/plain": [
       "<Figure size 432x288 with 1 Axes>"
      ]
     },
     "metadata": {},
     "output_type": "display_data"
    }
   ],
   "source": [
    "dataset.basic_umap = sc.pl.umap(dataset.adata, return_fig=True)"
   ]
  },
  {
   "cell_type": "code",
   "execution_count": 13,
   "id": "b4149603-f377-4f66-9130-9ffd0bf4470e",
   "metadata": {
    "execution": {
     "iopub.execute_input": "2021-10-05T15:39:23.031366Z",
     "iopub.status.busy": "2021-10-05T15:39:23.030902Z",
     "iopub.status.idle": "2021-10-05T15:39:23.048328Z",
     "shell.execute_reply": "2021-10-05T15:39:23.047939Z"
    }
   },
   "outputs": [
    {
     "data": {
      "text/html": [
       "<script src=\"https://cdnjs.cloudflare.com/ajax/libs/require.js/2.3.6/require.js\" integrity=\"sha512-vRqhAr2wsn+/cSsyz80psBbCcqzz2GTuhGk3bq3dAyytz4J/8XwFqMjiAGFBj+WM95lHBJ9cDf87T3P8yMrY7A==\" crossorigin=\"anonymous\" referrerpolicy=\"no-referrer\" id=\"script17307\" onload=\"loaded17307\"></script>\n",
       "<style>\n",
       ".la-flow ul {\n",
       "    margin-top:0;\n",
       "    list-style: none;\n",
       "    padding: 0;\n",
       "    padding-left: 10px !important;\n",
       "}\n",
       ".la-flow li {\n",
       "    padding-left: 10px;\n",
       "}\n",
       ".la-flow .instances li {\n",
       "    border-left: 1px dashed #ccc;\n",
       "}\n",
       ".la-flow .steps li {\n",
       "    border-left: 1px dotted #ccc;\n",
       "}\n",
       ".la-flow .soft {\n",
       "    opacity:0.5;\n",
       "}\n",
       "</style>\n",
       "\n",
       "<script>\n",
       "function loaded17307() {\n",
       "    require.config({\n",
       "    paths: {\n",
       "        'fontawesome': 'https://kit.fontawesome.com/77f7a120e4.js'\n",
       "    }\n",
       "    })\n",
       "\n",
       "    require(['fontawesome'], function (fontawesome) {\n",
       "    console.log('Congrats, Font Awesome is installed using Require.js')\n",
       "    })\n",
       "}\n",
       "</script>\n",
       "\n",
       "\n",
       "\n",
       "        <div class='la-flow'><strong>dataset</strong> <span class='soft'>(laflow.flow.Flow)</span><ul class='instances'><li><i class='fas fa-check-square' style='color:#2ECC40;' title='available and persistent'></i> adata <span class='soft'>(Py)</span></li><li><i class='fas fa-check-square' style='color:#2ECC40;' title='available and persistent'></i> basic_umap <span class='soft'>(Figure)</span></li></ul><ul class='steps'></ul>"
      ],
      "text/plain": [
       "<laflow.flow.Flow at 0x7f68b2a0d040>"
      ]
     },
     "execution_count": 13,
     "metadata": {},
     "output_type": "execute_result"
    }
   ],
   "source": [
    "dataset"
   ]
  },
  {
   "cell_type": "markdown",
   "id": "77e6b710-8fcf-48d7-b862-124ea9cb851a",
   "metadata": {},
   "source": [
    "## Connecting flows"
   ]
  },
  {
   "cell_type": "markdown",
   "id": "7450629d-b9d0-4f99-98a1-c0462662a134",
   "metadata": {},
   "source": [
    "To make our workflows more modular, we use Python's OOP system to systematically let certain flows depend on each other and share common code. For example, a dataset in our example would be defined as follows:"
   ]
  },
  {
   "cell_type": "code",
   "execution_count": 14,
   "id": "8b64c708-9053-49fa-a0a1-ba831416f507",
   "metadata": {
    "execution": {
     "iopub.execute_input": "2021-10-05T15:39:23.050993Z",
     "iopub.status.busy": "2021-10-05T15:39:23.050530Z",
     "iopub.status.idle": "2021-10-05T15:39:23.065325Z",
     "shell.execute_reply": "2021-10-05T15:39:23.064857Z"
    }
   },
   "outputs": [],
   "source": [
    "class Dataset(laf.Flow):\n",
    "    default_name = \"dataset\"\n",
    "    adata = laf.PyObj()"
   ]
  },
  {
   "cell_type": "markdown",
   "id": "d6a3d9f7-7b1d-4409-8a45-af3fd2fb16e0",
   "metadata": {},
   "source": [
    "We can initialize this dataset as before. Note that we do not provide a name in this case as we want to use the default \"dataset\" name:"
   ]
  },
  {
   "cell_type": "code",
   "execution_count": 15,
   "id": "6fbb395b-4fe1-4514-aeb6-d200f37aef52",
   "metadata": {
    "execution": {
     "iopub.execute_input": "2021-10-05T15:39:23.067819Z",
     "iopub.status.busy": "2021-10-05T15:39:23.067458Z",
     "iopub.status.idle": "2021-10-05T15:39:23.099540Z",
     "shell.execute_reply": "2021-10-05T15:39:23.099218Z"
    }
   },
   "outputs": [],
   "source": [
    "dataset = Dataset(adata = adata)"
   ]
  },
  {
   "cell_type": "code",
   "execution_count": 16,
   "id": "56da4823-5e0c-4386-9bf5-e711dd139f08",
   "metadata": {
    "execution": {
     "iopub.execute_input": "2021-10-05T15:39:23.101936Z",
     "iopub.status.busy": "2021-10-05T15:39:23.101573Z",
     "iopub.status.idle": "2021-10-05T15:39:23.119177Z",
     "shell.execute_reply": "2021-10-05T15:39:23.118770Z"
    }
   },
   "outputs": [
    {
     "data": {
      "text/html": [
       "<script src=\"https://cdnjs.cloudflare.com/ajax/libs/require.js/2.3.6/require.js\" integrity=\"sha512-vRqhAr2wsn+/cSsyz80psBbCcqzz2GTuhGk3bq3dAyytz4J/8XwFqMjiAGFBj+WM95lHBJ9cDf87T3P8yMrY7A==\" crossorigin=\"anonymous\" referrerpolicy=\"no-referrer\" id=\"script2330\" onload=\"loaded2330\"></script>\n",
       "<style>\n",
       ".la-flow ul {\n",
       "    margin-top:0;\n",
       "    list-style: none;\n",
       "    padding: 0;\n",
       "    padding-left: 10px !important;\n",
       "}\n",
       ".la-flow li {\n",
       "    padding-left: 10px;\n",
       "}\n",
       ".la-flow .instances li {\n",
       "    border-left: 1px dashed #ccc;\n",
       "}\n",
       ".la-flow .steps li {\n",
       "    border-left: 1px dotted #ccc;\n",
       "}\n",
       ".la-flow .soft {\n",
       "    opacity:0.5;\n",
       "}\n",
       "</style>\n",
       "\n",
       "<script>\n",
       "function loaded2330() {\n",
       "    require.config({\n",
       "    paths: {\n",
       "        'fontawesome': 'https://kit.fontawesome.com/77f7a120e4.js'\n",
       "    }\n",
       "    })\n",
       "\n",
       "    require(['fontawesome'], function (fontawesome) {\n",
       "    console.log('Congrats, Font Awesome is installed using Require.js')\n",
       "    })\n",
       "}\n",
       "</script>\n",
       "\n",
       "\n",
       "\n",
       "        <div class='la-flow'><strong>dataset</strong> <span class='soft'>(__main__.Dataset)</span><ul class='instances'><li><i class='fas fa-check-square' style='color:#2ECC40;' title='available and persistent'></i> basic_umap <span class='soft'>(Figure)</span></li><li><i class='fas fa-check-square' style='color:#2ECC40;' title='available and persistent'></i> adata <span class='soft'>(Py)</span></li></ul><ul class='steps'></ul>"
      ],
      "text/plain": [
       "<__main__.Dataset at 0x7f68b29b6d60>"
      ]
     },
     "execution_count": 16,
     "metadata": {},
     "output_type": "execute_result"
    }
   ],
   "source": [
    "dataset"
   ]
  },
  {
   "cell_type": "markdown",
   "id": "ddc81bc9-a9d7-4dd9-b035-ac2ea69b1151",
   "metadata": {},
   "source": [
    "If we would then make a model, we could make it depend on the dataset as follows:"
   ]
  },
  {
   "cell_type": "code",
   "execution_count": 17,
   "id": "58819700-ff55-4e90-b0df-f5dfa2639424",
   "metadata": {
    "execution": {
     "iopub.execute_input": "2021-10-05T15:39:23.121753Z",
     "iopub.status.busy": "2021-10-05T15:39:23.121289Z",
     "iopub.status.idle": "2021-10-05T15:39:23.136248Z",
     "shell.execute_reply": "2021-10-05T15:39:23.135862Z"
    }
   },
   "outputs": [],
   "source": [
    "class Model(laf.Flow):\n",
    "    default_name = \"model\"\n",
    "    dataset = laf.FlowObj()"
   ]
  },
  {
   "cell_type": "code",
   "execution_count": 18,
   "id": "7cf22a6c-a761-48bc-ae76-81c1458366a6",
   "metadata": {
    "execution": {
     "iopub.execute_input": "2021-10-05T15:39:23.139151Z",
     "iopub.status.busy": "2021-10-05T15:39:23.138790Z",
     "iopub.status.idle": "2021-10-05T15:39:23.152981Z",
     "shell.execute_reply": "2021-10-05T15:39:23.152631Z"
    }
   },
   "outputs": [],
   "source": [
    "model = Model(dataset = dataset)"
   ]
  },
  {
   "cell_type": "code",
   "execution_count": 19,
   "id": "30b05599-f99c-40fb-b225-6054e1e5d6b1",
   "metadata": {
    "execution": {
     "iopub.execute_input": "2021-10-05T15:39:23.155374Z",
     "iopub.status.busy": "2021-10-05T15:39:23.154918Z",
     "iopub.status.idle": "2021-10-05T15:39:23.170900Z",
     "shell.execute_reply": "2021-10-05T15:39:23.170445Z"
    }
   },
   "outputs": [
    {
     "data": {
      "text/html": [
       "<script src=\"https://cdnjs.cloudflare.com/ajax/libs/require.js/2.3.6/require.js\" integrity=\"sha512-vRqhAr2wsn+/cSsyz80psBbCcqzz2GTuhGk3bq3dAyytz4J/8XwFqMjiAGFBj+WM95lHBJ9cDf87T3P8yMrY7A==\" crossorigin=\"anonymous\" referrerpolicy=\"no-referrer\" id=\"script30199\" onload=\"loaded30199\"></script>\n",
       "<style>\n",
       ".la-flow ul {\n",
       "    margin-top:0;\n",
       "    list-style: none;\n",
       "    padding: 0;\n",
       "    padding-left: 10px !important;\n",
       "}\n",
       ".la-flow li {\n",
       "    padding-left: 10px;\n",
       "}\n",
       ".la-flow .instances li {\n",
       "    border-left: 1px dashed #ccc;\n",
       "}\n",
       ".la-flow .steps li {\n",
       "    border-left: 1px dotted #ccc;\n",
       "}\n",
       ".la-flow .soft {\n",
       "    opacity:0.5;\n",
       "}\n",
       "</style>\n",
       "\n",
       "<script>\n",
       "function loaded30199() {\n",
       "    require.config({\n",
       "    paths: {\n",
       "        'fontawesome': 'https://kit.fontawesome.com/77f7a120e4.js'\n",
       "    }\n",
       "    })\n",
       "\n",
       "    require(['fontawesome'], function (fontawesome) {\n",
       "    console.log('Congrats, Font Awesome is installed using Require.js')\n",
       "    })\n",
       "}\n",
       "</script>\n",
       "\n",
       "\n",
       "\n",
       "        <div class='la-flow'><strong>model</strong> <span class='soft'>(__main__.Model)</span><ul class='instances'><li><i class='fas fa-check-square' style='color:#2ECC40;' title='available and persistent'></i> dataset <span class='soft'>(FlowLink)</span> → dataset</li></ul><ul class='steps'></ul>"
      ],
      "text/plain": [
       "<__main__.Model at 0x7f68b23ba340>"
      ]
     },
     "execution_count": 19,
     "metadata": {},
     "output_type": "execute_result"
    }
   ],
   "source": [
    "model"
   ]
  },
  {
   "cell_type": "markdown",
   "id": "31dcb434-4a68-4a52-950e-1677d645d25a",
   "metadata": {},
   "source": [
    "The dataset is now linked to the model, and we can access it as follows:"
   ]
  },
  {
   "cell_type": "code",
   "execution_count": 20,
   "id": "caa3b4be-bf08-4a27-9cc9-0ba7efcd8bac",
   "metadata": {
    "execution": {
     "iopub.execute_input": "2021-10-05T15:39:23.173255Z",
     "iopub.status.busy": "2021-10-05T15:39:23.172816Z",
     "iopub.status.idle": "2021-10-05T15:39:23.189200Z",
     "shell.execute_reply": "2021-10-05T15:39:23.188752Z"
    }
   },
   "outputs": [
    {
     "data": {
      "text/html": [
       "<script src=\"https://cdnjs.cloudflare.com/ajax/libs/require.js/2.3.6/require.js\" integrity=\"sha512-vRqhAr2wsn+/cSsyz80psBbCcqzz2GTuhGk3bq3dAyytz4J/8XwFqMjiAGFBj+WM95lHBJ9cDf87T3P8yMrY7A==\" crossorigin=\"anonymous\" referrerpolicy=\"no-referrer\" id=\"script29647\" onload=\"loaded29647\"></script>\n",
       "<style>\n",
       ".la-flow ul {\n",
       "    margin-top:0;\n",
       "    list-style: none;\n",
       "    padding: 0;\n",
       "    padding-left: 10px !important;\n",
       "}\n",
       ".la-flow li {\n",
       "    padding-left: 10px;\n",
       "}\n",
       ".la-flow .instances li {\n",
       "    border-left: 1px dashed #ccc;\n",
       "}\n",
       ".la-flow .steps li {\n",
       "    border-left: 1px dotted #ccc;\n",
       "}\n",
       ".la-flow .soft {\n",
       "    opacity:0.5;\n",
       "}\n",
       "</style>\n",
       "\n",
       "<script>\n",
       "function loaded29647() {\n",
       "    require.config({\n",
       "    paths: {\n",
       "        'fontawesome': 'https://kit.fontawesome.com/77f7a120e4.js'\n",
       "    }\n",
       "    })\n",
       "\n",
       "    require(['fontawesome'], function (fontawesome) {\n",
       "    console.log('Congrats, Font Awesome is installed using Require.js')\n",
       "    })\n",
       "}\n",
       "</script>\n",
       "\n",
       "\n",
       "\n",
       "        <div class='la-flow'><strong>dataset</strong> <span class='soft'>(__main__.Dataset)</span><ul class='instances'><li><i class='fas fa-check-square' style='color:#2ECC40;' title='available and persistent'></i> basic_umap <span class='soft'>(Figure)</span></li><li><i class='fas fa-check-square' style='color:#2ECC40;' title='available and persistent'></i> adata <span class='soft'>(Py)</span></li></ul><ul class='steps'></ul>"
      ],
      "text/plain": [
       "<__main__.Dataset at 0x7f68b29b6d60>"
      ]
     },
     "execution_count": 20,
     "metadata": {},
     "output_type": "execute_result"
    }
   ],
   "source": [
    "model.dataset"
   ]
  },
  {
   "cell_type": "markdown",
   "id": "38de3791-6cbb-45e8-9e85-b5154281d8ed",
   "metadata": {},
   "source": [
    "This can stack indefintely. On disk, the link to the dataset is stored as a symbolic link:"
   ]
  },
  {
   "cell_type": "code",
   "execution_count": 21,
   "id": "3ec2e269-37a2-4824-b275-4671ae96e7e8",
   "metadata": {
    "execution": {
     "iopub.execute_input": "2021-10-05T15:39:23.191736Z",
     "iopub.status.busy": "2021-10-05T15:39:23.191297Z",
     "iopub.status.idle": "2021-10-05T15:39:23.397753Z",
     "shell.execute_reply": "2021-10-05T15:39:23.397365Z"
    }
   },
   "outputs": [
    {
     "name": "stdout",
     "output_type": "stream",
     "text": [
      "16K\r\n",
      "2 wsaelens 4.0K Oct  5 17:39 \u001b[0m\u001b[01;34m.\u001b[0m\r\n",
      "4 wsaelens 4.0K Oct  5 17:39 \u001b[01;34m..\u001b[0m\r\n",
      "1 wsaelens   24 Oct  5 17:39 \u001b[01;36mdataset\u001b[0m -> \u001b[01;34m/tmp/tmpxwdoe057/dataset\u001b[0m\r\n",
      "1 wsaelens   97 Oct  5 17:39 dataset.info\r\n",
      "1 wsaelens   40 Oct  5 17:39 .flow\r\n"
     ]
    }
   ],
   "source": [
    "!ls -lhaG --color=always {model.path} | sed -re 's/^[^ ]* //'"
   ]
  },
  {
   "cell_type": "markdown",
   "id": "38929360-2c53-4577-be41-1a96d88ecc68",
   "metadata": {},
   "source": [
    "## Building workflows"
   ]
  },
  {
   "cell_type": "markdown",
   "id": "b687691d-6604-494e-ac8e-21e60fed0720",
   "metadata": {},
   "source": [
    "We learned how to define and assign objects in a flow, but to create workflows we also need to define how those objects are created and how they depend on each other. We do this by defining functions inside the Flow class that are decorated by {class}`~laflow.Step`. This decorator allows you to specify where each input is coming from, and which outputs are produced by the step.\n",
    "\n",
    "For example, to write a step that creates the initial model (before we inferred the parameters), we would do the following:"
   ]
  },
  {
   "cell_type": "code",
   "execution_count": 22,
   "id": "99b51a24-93e2-44f1-bc66-eca3d3f417ae",
   "metadata": {
    "execution": {
     "iopub.execute_input": "2021-10-05T15:39:23.403900Z",
     "iopub.status.busy": "2021-10-05T15:39:23.403422Z",
     "iopub.status.idle": "2021-10-05T15:39:23.422021Z",
     "shell.execute_reply": "2021-10-05T15:39:23.421550Z"
    }
   },
   "outputs": [],
   "source": [
    "class LinearModel(laf.Flow):\n",
    "    # sets the default name\n",
    "    default_name = \"linear\"\n",
    "\n",
    "    # lets the flow know that it can contain a link to another flow called dataset\n",
    "    dataset = laf.FlowObj()\n",
    "\n",
    "    # lets the flow know that it can expect a model_initial object, that is not persistent\n",
    "    model_initial = laf.LatentaObj(persistent=False)\n",
    "\n",
    "    # creates a particular step, that expects adata as input, and that outputs model_initial\n",
    "    # note that our function not only expects \"output\" as an argument\n",
    "    # this object should be used to store the outputs\n",
    "    @laf.Step(\n",
    "        laf.Inputs(adata = dataset.adata),\n",
    "        laf.Outputs(model_initial)\n",
    "    )\n",
    "    def create_model(self, output, adata):\n",
    "        # define the model as before\n",
    "        overexpression = la.Fixed(\n",
    "            adata.obs[\"log_overexpression\"], label=\"overexpression\"\n",
    "        )\n",
    "        transcriptome = lac.transcriptome.Transcriptome.from_adata(adata)\n",
    "        foldchange = transcriptome.find(\"foldchange\")\n",
    "\n",
    "        foldchange.overexpression = la.links.scalar.Constant(\n",
    "            overexpression, definition=foldchange.value_definition\n",
    "        )\n",
    "        \n",
    "        # apart from each input, the step function will also receive an output object\n",
    "        # you should put any expected outputs in this object either by assigning it \n",
    "        # or by using the update function\n",
    "        return output.update(model_initial = transcriptome)"
   ]
  },
  {
   "cell_type": "markdown",
   "id": "2a08144b-8af5-4996-b655-89ba1c5b7e6b",
   "metadata": {},
   "source": [
    "Apart from all inputs, your function will also receive a special `output` object in which you can store all the outputs that are produced. These will then be saved for you."
   ]
  },
  {
   "cell_type": "code",
   "execution_count": 23,
   "id": "6abca9b5-9279-4c2e-a174-09a326a9ccae",
   "metadata": {
    "execution": {
     "iopub.execute_input": "2021-10-05T15:39:23.424659Z",
     "iopub.status.busy": "2021-10-05T15:39:23.424218Z",
     "iopub.status.idle": "2021-10-05T15:39:23.439647Z",
     "shell.execute_reply": "2021-10-05T15:39:23.439263Z"
    }
   },
   "outputs": [],
   "source": [
    "model = LinearModel(dataset = dataset)"
   ]
  },
  {
   "cell_type": "code",
   "execution_count": 24,
   "id": "364026a5-25bc-4d5c-b7dd-e83136593e3b",
   "metadata": {
    "execution": {
     "iopub.execute_input": "2021-10-05T15:39:23.441986Z",
     "iopub.status.busy": "2021-10-05T15:39:23.441548Z",
     "iopub.status.idle": "2021-10-05T15:39:23.457919Z",
     "shell.execute_reply": "2021-10-05T15:39:23.457475Z"
    }
   },
   "outputs": [
    {
     "data": {
      "text/html": [
       "<script src=\"https://cdnjs.cloudflare.com/ajax/libs/require.js/2.3.6/require.js\" integrity=\"sha512-vRqhAr2wsn+/cSsyz80psBbCcqzz2GTuhGk3bq3dAyytz4J/8XwFqMjiAGFBj+WM95lHBJ9cDf87T3P8yMrY7A==\" crossorigin=\"anonymous\" referrerpolicy=\"no-referrer\" id=\"script9251\" onload=\"loaded9251\"></script>\n",
       "<style>\n",
       ".la-flow ul {\n",
       "    margin-top:0;\n",
       "    list-style: none;\n",
       "    padding: 0;\n",
       "    padding-left: 10px !important;\n",
       "}\n",
       ".la-flow li {\n",
       "    padding-left: 10px;\n",
       "}\n",
       ".la-flow .instances li {\n",
       "    border-left: 1px dashed #ccc;\n",
       "}\n",
       ".la-flow .steps li {\n",
       "    border-left: 1px dotted #ccc;\n",
       "}\n",
       ".la-flow .soft {\n",
       "    opacity:0.5;\n",
       "}\n",
       "</style>\n",
       "\n",
       "<script>\n",
       "function loaded9251() {\n",
       "    require.config({\n",
       "    paths: {\n",
       "        'fontawesome': 'https://kit.fontawesome.com/77f7a120e4.js'\n",
       "    }\n",
       "    })\n",
       "\n",
       "    require(['fontawesome'], function (fontawesome) {\n",
       "    console.log('Congrats, Font Awesome is installed using Require.js')\n",
       "    })\n",
       "}\n",
       "</script>\n",
       "\n",
       "\n",
       "\n",
       "        <div class='la-flow'><strong>linear</strong> <span class='soft'>(__main__.LinearModel)</span><ul class='instances'><li><i class='fas fa-check-square' style='color:#2ECC40;' title='available and persistent'></i> dataset <span class='soft'>(FlowLink)</span> → dataset</li><li><i class='fas fa-minus' style='color:#FF4136;' title='unavailable'></i> model_initial <span class='soft'>(Latenta)</span></li></ul><ul class='steps'><li>create_model → model_initial</li></ul>"
      ],
      "text/plain": [
       "<__main__.LinearModel at 0x7f68b2965f40>"
      ]
     },
     "execution_count": 24,
     "metadata": {},
     "output_type": "execute_result"
    }
   ],
   "source": [
    "model"
   ]
  },
  {
   "cell_type": "code",
   "execution_count": 25,
   "id": "461c7a1b-a6fc-41ca-b1ce-7d38dceb091b",
   "metadata": {
    "execution": {
     "iopub.execute_input": "2021-10-05T15:39:23.460293Z",
     "iopub.status.busy": "2021-10-05T15:39:23.459856Z",
     "iopub.status.idle": "2021-10-05T15:39:23.571985Z",
     "shell.execute_reply": "2021-10-05T15:39:23.571553Z"
    }
   },
   "outputs": [
    {
     "name": "stdout",
     "output_type": "stream",
     "text": [
      "▶️ | linear/create_model                                                                                 \n"
     ]
    },
    {
     "name": "stdout",
     "output_type": "stream",
     "text": [
      "✅ | linear/create_model                                                                                 \n"
     ]
    }
   ],
   "source": [
    "model.create_model()"
   ]
  },
  {
   "cell_type": "markdown",
   "id": "2302695c-e3c4-4603-93a6-63260c894be3",
   "metadata": {},
   "source": [
    "In real use cases, we will typically store our workflows in a separate file so that they are easier to maintain. A full linear regression workflow, that includes inference and interpretation, is contained in the `basic_workflow.py` file:"
   ]
  },
  {
   "cell_type": "code",
   "execution_count": 26,
   "id": "6a694170-bb5b-4ffe-b6e5-ac1a6ceec0ca",
   "metadata": {
    "execution": {
     "iopub.execute_input": "2021-10-05T15:39:23.575828Z",
     "iopub.status.busy": "2021-10-05T15:39:23.575347Z",
     "iopub.status.idle": "2021-10-05T15:39:23.591204Z",
     "shell.execute_reply": "2021-10-05T15:39:23.590843Z"
    },
    "tags": [
     "remove-output",
     "remove-input"
    ]
   },
   "outputs": [],
   "source": [
    "basic_workflow_text = \"\"\"\n",
    "import laflow as laf\n",
    "import latenta as la\n",
    "import lacell as lac\n",
    "\n",
    "class LinearModel(laf.Flow):\n",
    "    # sets the default name\n",
    "    default_name = \"linear\"\n",
    "\n",
    "    # lets the flow know that it can contain a link to another flow called dataset\n",
    "    dataset = laf.FlowObj()\n",
    "\n",
    "    # lets the flow know that it can expect a model_initial object, that is not persistent\n",
    "    model_initial = laf.LatentaObj(persistent=False)\n",
    "\n",
    "    # creates a particular step, that expects adata as input, and that outputs model initial\n",
    "    # note the way we access the adata from the dataset object\n",
    "    @laf.Step(\n",
    "        laf.Inputs(adata = dataset.adata),\n",
    "        laf.Outputs(model_initial)\n",
    "    )\n",
    "    def create_model(self, output, adata):\n",
    "        # define the model as before\n",
    "        overexpression = la.Fixed(\n",
    "            adata.obs[\"log_overexpression\"], label=\"overexpression\"\n",
    "        )\n",
    "        transcriptome = lac.transcriptome.Transcriptome.from_adata(adata)\n",
    "        foldchange = transcriptome.find(\"foldchange\")\n",
    "\n",
    "        foldchange.overexpression = la.links.scalar.Linear(\n",
    "            overexpression, a = True, definition=foldchange.value_definition\n",
    "        )\n",
    "        \n",
    "        # apart from each input, the step function will also receive an output object\n",
    "        # you should put any expected outputs in this object either by assigning it \n",
    "        # or by using the update function\n",
    "        return output.update(model_initial = transcriptome)\n",
    "\n",
    "    # the (final) model is persistent by default\n",
    "    model = laf.LatentaObj()\n",
    "    \n",
    "    # another step, that receives the model_initial as input, and outputs the model\n",
    "    @laf.Step(\n",
    "        laf.Inputs(model_initial),\n",
    "        laf.Outputs(model)\n",
    "    )\n",
    "    def infer_model(self, output, model_initial):\n",
    "        # infer the model as before\n",
    "        # we first clone the model_initial so that we do not overwrite it\n",
    "        model = model_initial.clone()\n",
    "        with model.switch(la.config.device):\n",
    "            inference = la.infer.svi.SVI(\n",
    "                model, [la.infer.loss.ELBO()], la.infer.optim.Adam(lr=5e-2)\n",
    "            )\n",
    "            trainer = la.infer.trainer.Trainer(inference)\n",
    "            trace = trainer.train(10000)\n",
    "\n",
    "        return output.update(model = model)\n",
    "\n",
    "    # define our three posteriors, each one with a \"db\" argument\n",
    "    # this will make sure that any model objects are not stored in the posterior,\n",
    "    # but are rather extracted each time from the model object as defined earlier\n",
    "    transcriptome_observed = laf.LatentaObj(db = {model})\n",
    "    overexpression_observed = laf.LatentaObj(db = {model})\n",
    "    overexpression_causal = laf.LatentaObj(db = {model})\n",
    "    \n",
    "    @laf.Step(\n",
    "        laf.Inputs(model),\n",
    "        laf.Outputs(transcriptome_observed, overexpression_observed, overexpression_causal)\n",
    "    )\n",
    "    def interpret(self, output, model):\n",
    "        transcriptome_observed = la.posterior.vector.VectorObserved(model)\n",
    "        transcriptome_observed.sample(5)\n",
    "        output.transcriptome_observed = transcriptome_observed\n",
    "\n",
    "        overexpression = model.find(\"overexpression\")\n",
    "\n",
    "        overexpression_observed = la.posterior.scalar.ScalarObserved(overexpression)\n",
    "        overexpression_observed.sample(5)\n",
    "        output.overexpression_observed = overexpression_observed\n",
    "\n",
    "        overexpression_causal = la.posterior.scalar.ScalarVectorCausal(\n",
    "            overexpression,\n",
    "            model,\n",
    "            interpretable=model.p.mu.expression,\n",
    "            observed=overexpression_observed,\n",
    "        )\n",
    "        overexpression_causal.sample(10)\n",
    "        overexpression_causal.sample_random(10)\n",
    "        overexpression_causal.observed\n",
    "        overexpression_causal.sample_empirical()\n",
    "        output.overexpression_causal = overexpression_causal\n",
    "        \n",
    "        return output\n",
    "\"\"\"\n",
    "with open(\"./basic_workflow.py\", \"w\") as f:\n",
    "    f.write(basic_workflow_text)"
   ]
  },
  {
   "cell_type": "code",
   "execution_count": 27,
   "id": "0802a130-ae81-447e-9d71-c48aab5d475c",
   "metadata": {
    "execution": {
     "iopub.execute_input": "2021-10-05T15:39:23.593574Z",
     "iopub.status.busy": "2021-10-05T15:39:23.593140Z",
     "iopub.status.idle": "2021-10-05T15:39:23.923153Z",
     "shell.execute_reply": "2021-10-05T15:39:23.922763Z"
    },
    "tags": [
     "remove-input",
     "remove-output"
    ]
   },
   "outputs": [
    {
     "data": {
      "application/papermill.record/text/markdown": "```python\n\nimport laflow as laf\nimport latenta as la\nimport lacell as lac\n\nclass LinearModel(laf.Flow):\n    # sets the default name\n    default_name = \"linear\"\n\n    # lets the flow know that it can contain a link to another flow called dataset\n    dataset = laf.FlowObj()\n\n    # lets the flow know that it can expect a model_initial object, that is not persistent\n    model_initial = laf.LatentaObj(persistent=False)\n\n    # creates a particular step, that expects adata as input, and that outputs model initial\n    # note the way we access the adata from the dataset object\n    @laf.Step(\n        laf.Inputs(adata = dataset.adata),\n        laf.Outputs(model_initial)\n    )\n    def create_model(self, output, adata):\n        # define the model as before\n        overexpression = la.Fixed(\n            adata.obs[\"log_overexpression\"], label=\"overexpression\"\n        )\n        transcriptome = lac.transcriptome.Transcriptome.from_adata(adata)\n        foldchange = transcriptome.find(\"foldchange\")\n\n        foldchange.overexpression = la.links.scalar.Linear(\n            overexpression, a = True, definition=foldchange.value_definition\n        )\n        \n        # apart from each input, the step function will also receive an output object\n        # you should put any expected outputs in this object either by assigning it \n        # or by using the update function\n        return output.update(model_initial = transcriptome)\n\n    # the (final) model is persistent by default\n    model = laf.LatentaObj()\n    \n    # another step, that receives the model_initial as input, and outputs the model\n    @laf.Step(\n        laf.Inputs(model_initial),\n        laf.Outputs(model)\n    )\n    def infer_model(self, output, model_initial):\n        # infer the model as before\n        # we first clone the model_initial so that we do not overwrite it\n        model = model_initial.clone()\n        with model.switch(la.config.device):\n            inference = la.infer.svi.SVI(\n                model, [la.infer.loss.ELBO()], la.infer.optim.Adam(lr=5e-2)\n            )\n            trainer = la.infer.trainer.Trainer(inference)\n            trace = trainer.train(10000)\n\n        return output.update(model = model)\n\n    # define our three posteriors, each one with a \"db\" argument\n    # this will make sure that any model objects are not stored in the posterior,\n    # but are rather extracted each time from the model object as defined earlier\n    transcriptome_observed = laf.LatentaObj(db = {model})\n    overexpression_observed = laf.LatentaObj(db = {model})\n    overexpression_causal = laf.LatentaObj(db = {model})\n    \n    @laf.Step(\n        laf.Inputs(model),\n        laf.Outputs(transcriptome_observed, overexpression_observed, overexpression_causal)\n    )\n    def interpret(self, output, model):\n        transcriptome_observed = la.posterior.vector.VectorObserved(model)\n        transcriptome_observed.sample(5)\n        output.transcriptome_observed = transcriptome_observed\n\n        overexpression = model.find(\"overexpression\")\n\n        overexpression_observed = la.posterior.scalar.ScalarObserved(overexpression)\n        overexpression_observed.sample(5)\n        output.overexpression_observed = overexpression_observed\n\n        overexpression_causal = la.posterior.scalar.ScalarVectorCausal(\n            overexpression,\n            model,\n            interpretable=model.p.mu.expression,\n            observed=overexpression_observed,\n        )\n        overexpression_causal.sample(10)\n        overexpression_causal.sample_random(10)\n        overexpression_causal.observed\n        overexpression_causal.sample_empirical()\n        output.overexpression_causal = overexpression_causal\n        \n        return output\n\n```",
      "application/papermill.record/text/plain": "<IPython.core.display.Markdown object>"
     },
     "metadata": {
      "scrapbook": {
       "mime_prefix": "application/papermill.record/",
       "name": "basic_workflow_1"
      }
     },
     "output_type": "display_data"
    }
   ],
   "source": [
    "text = open(\"./basic_workflow.py\").read()\n",
    "from myst_nb import glue\n",
    "from IPython import display\n",
    "glue(\"basic_workflow_1\", display.Markdown(\"```python\\n\" + text + \"\\n```\"), display = False)"
   ]
  },
  {
   "cell_type": "markdown",
   "id": "5bec597d-fd67-4125-a011-9561bbf53b87",
   "metadata": {},
   "source": [
    "::::{dropdown} 📃 basic_workflow.py (1)\n",
    ":::{glue:} cool_text\n",
    ":::\n",
    "::::"
   ]
  },
  {
   "cell_type": "markdown",
   "id": "85d0deac-759e-4d51-8d0e-25ba80ebef47",
   "metadata": {},
   "source": [
    "Because this is a `.py` file, we can import it as a python module as follows:"
   ]
  },
  {
   "cell_type": "code",
   "execution_count": 28,
   "id": "82781805-b098-42ec-bf51-1f69814bf1c8",
   "metadata": {
    "execution": {
     "iopub.execute_input": "2021-10-05T15:39:23.927884Z",
     "iopub.status.busy": "2021-10-05T15:39:23.927347Z",
     "iopub.status.idle": "2021-10-05T15:39:23.947010Z",
     "shell.execute_reply": "2021-10-05T15:39:23.946621Z"
    }
   },
   "outputs": [],
   "source": [
    "import basic_workflow"
   ]
  },
  {
   "cell_type": "code",
   "execution_count": 29,
   "id": "4aa1ad49-c247-486a-9ab7-5df78e73c7de",
   "metadata": {
    "execution": {
     "iopub.execute_input": "2021-10-05T15:39:23.949513Z",
     "iopub.status.busy": "2021-10-05T15:39:23.949055Z",
     "iopub.status.idle": "2021-10-05T15:39:23.969079Z",
     "shell.execute_reply": "2021-10-05T15:39:23.968623Z"
    }
   },
   "outputs": [
    {
     "data": {
      "text/html": [
       "<script src=\"https://cdnjs.cloudflare.com/ajax/libs/require.js/2.3.6/require.js\" integrity=\"sha512-vRqhAr2wsn+/cSsyz80psBbCcqzz2GTuhGk3bq3dAyytz4J/8XwFqMjiAGFBj+WM95lHBJ9cDf87T3P8yMrY7A==\" crossorigin=\"anonymous\" referrerpolicy=\"no-referrer\" id=\"script30024\" onload=\"loaded30024\"></script>\n",
       "<style>\n",
       ".la-flow ul {\n",
       "    margin-top:0;\n",
       "    list-style: none;\n",
       "    padding: 0;\n",
       "    padding-left: 10px !important;\n",
       "}\n",
       ".la-flow li {\n",
       "    padding-left: 10px;\n",
       "}\n",
       ".la-flow .instances li {\n",
       "    border-left: 1px dashed #ccc;\n",
       "}\n",
       ".la-flow .steps li {\n",
       "    border-left: 1px dotted #ccc;\n",
       "}\n",
       ".la-flow .soft {\n",
       "    opacity:0.5;\n",
       "}\n",
       "</style>\n",
       "\n",
       "<script>\n",
       "function loaded30024() {\n",
       "    require.config({\n",
       "    paths: {\n",
       "        'fontawesome': 'https://kit.fontawesome.com/77f7a120e4.js'\n",
       "    }\n",
       "    })\n",
       "\n",
       "    require(['fontawesome'], function (fontawesome) {\n",
       "    console.log('Congrats, Font Awesome is installed using Require.js')\n",
       "    })\n",
       "}\n",
       "</script>\n",
       "\n",
       "\n",
       "\n",
       "        <div class='la-flow'><strong>linear</strong> <span class='soft'>(basic_workflow.LinearModel)</span><ul class='instances'><li><i class='fas fa-check-square' style='color:#2ECC40;' title='available and persistent'></i> dataset <span class='soft'>(FlowLink)</span> → linear/dataset</li><li><i class='fas fa-minus' style='color:#FF4136;' title='unavailable'></i> model_initial <span class='soft'>(Latenta)</span></li><li><i class='fas fa-minus' style='color:#FF4136;' title='unavailable'></i> model <span class='soft'>(Latenta)</span></li><li><i class='fas fa-minus' style='color:#FF4136;' title='unavailable'></i> transcriptome_observed <span class='soft'>(Latenta)</span></li><li><i class='fas fa-minus' style='color:#FF4136;' title='unavailable'></i> overexpression_observed <span class='soft'>(Latenta)</span></li><li><i class='fas fa-minus' style='color:#FF4136;' title='unavailable'></i> overexpression_causal <span class='soft'>(Latenta)</span></li></ul><ul class='steps'><li>create_model → model_initial</li><li>infer_model → model</li><li>interpret → transcriptome_observed, overexpression_observed, overexpression_causal</li></ul>"
      ],
      "text/plain": [
       "<basic_workflow.LinearModel at 0x7f68b8560a30>"
      ]
     },
     "execution_count": 29,
     "metadata": {},
     "output_type": "execute_result"
    }
   ],
   "source": [
    "model = basic_workflow.LinearModel()\n",
    "model"
   ]
  },
  {
   "cell_type": "code",
   "execution_count": 30,
   "id": "8f8f6481-f4df-4036-806b-920b1b3e2967",
   "metadata": {
    "execution": {
     "iopub.execute_input": "2021-10-05T15:39:23.971553Z",
     "iopub.status.busy": "2021-10-05T15:39:23.971094Z",
     "iopub.status.idle": "2021-10-05T15:39:31.059175Z",
     "shell.execute_reply": "2021-10-05T15:39:31.059577Z"
    }
   },
   "outputs": [
    {
     "name": "stdout",
     "output_type": "stream",
     "text": [
      "▶️ | linear/create_model                                                                                 \n"
     ]
    },
    {
     "name": "stdout",
     "output_type": "stream",
     "text": [
      "✅ | linear/create_model                                                                                 \n"
     ]
    },
    {
     "name": "stdout",
     "output_type": "stream",
     "text": [
      "▶️ | linear/infer_model                                                                                  \n"
     ]
    },
    {
     "data": {
      "application/vnd.jupyter.widget-view+json": {
       "model_id": "42807755d84b42c0bf3511e657cb7c93",
       "version_major": 2,
       "version_minor": 0
      },
      "text/plain": [
       "  0%|                                                                                                         …"
      ]
     },
     "metadata": {},
     "output_type": "display_data"
    },
    {
     "name": "stdout",
     "output_type": "stream",
     "text": [
      "✅ | linear/infer_model                                                                                  \n"
     ]
    }
   ],
   "source": [
    "model.infer_model()"
   ]
  },
  {
   "cell_type": "code",
   "execution_count": 31,
   "id": "b6655373-1588-42dd-84fe-c2fb45c22611",
   "metadata": {
    "execution": {
     "iopub.execute_input": "2021-10-05T15:39:31.064205Z",
     "iopub.status.busy": "2021-10-05T15:39:31.063745Z",
     "iopub.status.idle": "2021-10-05T15:39:32.482923Z",
     "shell.execute_reply": "2021-10-05T15:39:32.483213Z"
    }
   },
   "outputs": [
    {
     "name": "stdout",
     "output_type": "stream",
     "text": [
      "▶️ | linear/interpret                                                                                    \n"
     ]
    },
    {
     "data": {
      "application/vnd.jupyter.widget-view+json": {
       "model_id": "6c16865a725143ab8822486093bd18f4",
       "version_major": 2,
       "version_minor": 0
      },
      "text/plain": [
       "  0%|          | 0/5 [00:00<?, ?it/s]"
      ]
     },
     "metadata": {},
     "output_type": "display_data"
    },
    {
     "data": {
      "application/vnd.jupyter.widget-view+json": {
       "model_id": "23e8067e1fa34822817c9fc391afec73",
       "version_major": 2,
       "version_minor": 0
      },
      "text/plain": [
       "  0%|          | 0/5 [00:00<?, ?it/s]"
      ]
     },
     "metadata": {},
     "output_type": "display_data"
    },
    {
     "data": {
      "application/vnd.jupyter.widget-view+json": {
       "model_id": "53aad9d8692c4ce6a6447fa4a4ad5571",
       "version_major": 2,
       "version_minor": 0
      },
      "text/plain": [
       "  0%|          | 0/10 [00:00<?, ?it/s]"
      ]
     },
     "metadata": {},
     "output_type": "display_data"
    },
    {
     "data": {
      "application/vnd.jupyter.widget-view+json": {
       "model_id": "45ab17c6c3ee4002bf4a1e215210ffea",
       "version_major": 2,
       "version_minor": 0
      },
      "text/plain": [
       "  0%|          | 0/10 [00:00<?, ?it/s]"
      ]
     },
     "metadata": {},
     "output_type": "display_data"
    },
    {
     "name": "stdout",
     "output_type": "stream",
     "text": [
      "✅ | linear/interpret                                                                                    \n"
     ]
    }
   ],
   "source": [
    "model.interpret()"
   ]
  },
  {
   "cell_type": "code",
   "execution_count": 32,
   "id": "36c79305-c543-43e8-a18c-e7d7c69e9da6",
   "metadata": {
    "execution": {
     "iopub.execute_input": "2021-10-05T15:39:32.486187Z",
     "iopub.status.busy": "2021-10-05T15:39:32.485965Z",
     "iopub.status.idle": "2021-10-05T15:39:32.507979Z",
     "shell.execute_reply": "2021-10-05T15:39:32.507632Z"
    }
   },
   "outputs": [
    {
     "data": {
      "text/html": [
       "<script src=\"https://cdnjs.cloudflare.com/ajax/libs/require.js/2.3.6/require.js\" integrity=\"sha512-vRqhAr2wsn+/cSsyz80psBbCcqzz2GTuhGk3bq3dAyytz4J/8XwFqMjiAGFBj+WM95lHBJ9cDf87T3P8yMrY7A==\" crossorigin=\"anonymous\" referrerpolicy=\"no-referrer\" id=\"script6938\" onload=\"loaded6938\"></script>\n",
       "<style>\n",
       ".la-flow ul {\n",
       "    margin-top:0;\n",
       "    list-style: none;\n",
       "    padding: 0;\n",
       "    padding-left: 10px !important;\n",
       "}\n",
       ".la-flow li {\n",
       "    padding-left: 10px;\n",
       "}\n",
       ".la-flow .instances li {\n",
       "    border-left: 1px dashed #ccc;\n",
       "}\n",
       ".la-flow .steps li {\n",
       "    border-left: 1px dotted #ccc;\n",
       "}\n",
       ".la-flow .soft {\n",
       "    opacity:0.5;\n",
       "}\n",
       "</style>\n",
       "\n",
       "<script>\n",
       "function loaded6938() {\n",
       "    require.config({\n",
       "    paths: {\n",
       "        'fontawesome': 'https://kit.fontawesome.com/77f7a120e4.js'\n",
       "    }\n",
       "    })\n",
       "\n",
       "    require(['fontawesome'], function (fontawesome) {\n",
       "    console.log('Congrats, Font Awesome is installed using Require.js')\n",
       "    })\n",
       "}\n",
       "</script>\n",
       "\n",
       "\n",
       "\n",
       "        <div class='la-flow'><strong>linear</strong> <span class='soft'>(basic_workflow.LinearModel)</span><ul class='instances'><li><i class='fas fa-check-square' style='color:#2ECC40;' title='available and persistent'></i> dataset <span class='soft'>(FlowLink)</span> → linear/dataset</li><li><i class='fas fa-check' style='color:#2ECC40;' title='available but not persistent'></i> model_initial <span class='soft'>(Latenta)</span></li><li><i class='fas fa-check-square' style='color:#2ECC40;' title='available and persistent'></i> model <span class='soft'>(Latenta)</span></li><li><i class='fas fa-check-square' style='color:#2ECC40;' title='available and persistent'></i> transcriptome_observed <span class='soft'>(Latenta)</span></li><li><i class='fas fa-check-square' style='color:#2ECC40;' title='available and persistent'></i> overexpression_observed <span class='soft'>(Latenta)</span></li><li><i class='fas fa-check-square' style='color:#2ECC40;' title='available and persistent'></i> overexpression_causal <span class='soft'>(Latenta)</span></li></ul><ul class='steps'><li>create_model → model_initial</li><li>infer_model → model</li><li>interpret → transcriptome_observed, overexpression_observed, overexpression_causal</li></ul>"
      ],
      "text/plain": [
       "<basic_workflow.LinearModel at 0x7f68b8560a30>"
      ]
     },
     "execution_count": 32,
     "metadata": {},
     "output_type": "execute_result"
    }
   ],
   "source": [
    "model"
   ]
  },
  {
   "cell_type": "code",
   "execution_count": 33,
   "id": "566e9332-48b4-4d95-8952-452ef61f533b",
   "metadata": {
    "execution": {
     "iopub.execute_input": "2021-10-05T15:39:32.509868Z",
     "iopub.status.busy": "2021-10-05T15:39:32.509530Z",
     "iopub.status.idle": "2021-10-05T15:39:33.212193Z",
     "shell.execute_reply": "2021-10-05T15:39:33.212580Z"
    }
   },
   "outputs": [
    {
     "data": {
      "image/png": "[encoded data removed]",
      "text/plain": [
       "<Figure size 1296x720 with 11 Axes>"
      ]
     },
     "metadata": {
      "needs_background": "light"
     },
     "output_type": "display_data"
    }
   ],
   "source": [
    "model.overexpression_causal.plot_features();"
   ]
  },
  {
   "cell_type": "markdown",
   "id": "3a478745-53a9-4add-9a18-aa683d368671",
   "metadata": {},
   "source": [
    "## Sharing and inheriting workflow steps"
   ]
  },
  {
   "cell_type": "markdown",
   "id": "3bb8fb58-f437-4296-bf33-63fbc4220d91",
   "metadata": {},
   "source": [
    "We defined a basic linear model, but what we actually want is to create many different models and infer/interpret them in the same way. We do this using inheritance: we first create the linear model by using `super().create_model_`, and then make the desired adaptations to the model:"
   ]
  },
  {
   "cell_type": "code",
   "execution_count": 34,
   "id": "dd7f070a-a005-4ab3-91e0-fb18b4137f59",
   "metadata": {
    "execution": {
     "iopub.execute_input": "2021-10-05T15:39:33.215641Z",
     "iopub.status.busy": "2021-10-05T15:39:33.215159Z",
     "iopub.status.idle": "2021-10-05T15:39:33.236029Z",
     "shell.execute_reply": "2021-10-05T15:39:33.235667Z"
    },
    "tags": [
     "remove-output",
     "remove-input"
    ]
   },
   "outputs": [],
   "source": [
    "extended_workflow_text = \"\"\"\n",
    "class ConstantModel(LinearModel):\n",
    "    # we change the default name, as to make sure this model is put in a different folder\n",
    "    default_name = \"constant\"\n",
    "\n",
    "    def create_model(self, output, adata):\n",
    "        # we can access the parent function by adding a \"_\" at the end\n",
    "        # without this, we would call the actual step itself, and not the user-defined function\n",
    "        output = super().create_model_(output, adata)\n",
    "        \n",
    "        # extract the model_initial from the output\n",
    "        model_initial = output.model_initial\n",
    "        \n",
    "        # now we can further adapt the model to our wishes\n",
    "        foldchange = model_initial.find(\"foldchange\")\n",
    "        overexpression = model_initial.find(\"overexpression\")\n",
    "\n",
    "        foldchange.overexpression = la.links.scalar.Constant(\n",
    "            overexpression, definition=foldchange.value_definition\n",
    "        )\n",
    "        \n",
    "        # again return the output\n",
    "        # because we only adapted the model inplace, we do not need to update the output\n",
    "        return output\n",
    "\n",
    "\n",
    "class SplineModel(LinearModel):\n",
    "    default_name = \"spline\"\n",
    "\n",
    "    def create_model(self, output, adata):\n",
    "        output = super().create_model_(output, adata)\n",
    "        \n",
    "        model_initial = output.model_initial\n",
    "\n",
    "        foldchange = model_initial.find(\"foldchange\")\n",
    "        overexpression = model_initial.find(\"overexpression\")\n",
    "\n",
    "        foldchange.overexpression = la.links.scalar.Spline(\n",
    "            overexpression, definition=foldchange.value_definition\n",
    "        )\n",
    "\n",
    "        return output\n",
    "\"\"\"\n",
    "with open(\"./basic_workflow.py\", \"a\") as f:\n",
    "    f.write(extended_workflow_text)"
   ]
  },
  {
   "cell_type": "code",
   "execution_count": 35,
   "id": "7339d7e6-84cf-491e-84b3-86272fb0ab3e",
   "metadata": {
    "execution": {
     "iopub.execute_input": "2021-10-05T15:39:33.239188Z",
     "iopub.status.busy": "2021-10-05T15:39:33.238722Z",
     "iopub.status.idle": "2021-10-05T15:39:33.283187Z",
     "shell.execute_reply": "2021-10-05T15:39:33.282800Z"
    },
    "tags": [
     "remove-input",
     "remove-output"
    ]
   },
   "outputs": [
    {
     "data": {
      "application/papermill.record/text/markdown": "```python\n\nclass ConstantModel(LinearModel):\n    # we change the default name, as to make sure this model is put in a different folder\n    default_name = \"constant\"\n\n    def create_model(self, output, adata):\n        # we can access the parent function by adding a \"_\" at the end\n        # without this, we would call the actual step itself, and not the user-defined function\n        output = super().create_model_(output, adata)\n        \n        # extract the model_initial from the output\n        model_initial = output.model_initial\n        \n        # now we can further adapt the model to our wishes\n        foldchange = model_initial.find(\"foldchange\")\n        overexpression = model_initial.find(\"overexpression\")\n\n        foldchange.overexpression = la.links.scalar.Constant(\n            overexpression, definition=foldchange.value_definition\n        )\n        \n        # again return the output\n        # because we only adapted the model inplace, we do not need to update the output\n        return output\n\n\nclass SplineModel(LinearModel):\n    default_name = \"spline\"\n\n    def create_model(self, output, adata):\n        output = super().create_model_(output, adata)\n        \n        model_initial = output.model_initial\n\n        foldchange = model_initial.find(\"foldchange\")\n        overexpression = model_initial.find(\"overexpression\")\n\n        foldchange.overexpression = la.links.scalar.Spline(\n            overexpression, definition=foldchange.value_definition\n        )\n\n        return output\n\n```",
      "application/papermill.record/text/plain": "<IPython.core.display.Markdown object>"
     },
     "metadata": {
      "scrapbook": {
       "mime_prefix": "application/papermill.record/",
       "name": "basic_workflow_2"
      }
     },
     "output_type": "display_data"
    }
   ],
   "source": [
    "# glue the \n",
    "text = extended_workflow_text\n",
    "glue(\"basic_workflow_2\", display.Markdown(\"```python\\n\" + text + \"\\n```\"), display = False)"
   ]
  },
  {
   "cell_type": "markdown",
   "id": "1f88fd78-683c-4ed4-b7bf-c50ef36889da",
   "metadata": {},
   "source": [
    "::::{dropdown} 📃 basic_workflow.py (2)\n",
    ":::{glue:} cool_text\n",
    ":::\n",
    "::::"
   ]
  },
  {
   "cell_type": "code",
   "execution_count": 36,
   "id": "62ede4b6-a326-4078-87cc-69cd5dc045e8",
   "metadata": {
    "execution": {
     "iopub.execute_input": "2021-10-05T15:39:33.285923Z",
     "iopub.status.busy": "2021-10-05T15:39:33.285462Z",
     "iopub.status.idle": "2021-10-05T15:39:39.107084Z",
     "shell.execute_reply": "2021-10-05T15:39:39.107337Z"
    }
   },
   "outputs": [
    {
     "name": "stdout",
     "output_type": "stream",
     "text": [
      "▶️ | constant/create_model                                                                               \n"
     ]
    },
    {
     "name": "stdout",
     "output_type": "stream",
     "text": [
      "✅ | constant/create_model                                                                               \n"
     ]
    },
    {
     "name": "stdout",
     "output_type": "stream",
     "text": [
      "▶️ | constant/infer_model                                                                                \n"
     ]
    },
    {
     "data": {
      "application/vnd.jupyter.widget-view+json": {
       "model_id": "28433bb06e184a828ade1bee5fb4f435",
       "version_major": 2,
       "version_minor": 0
      },
      "text/plain": [
       "  0%|                                                                                                         …"
      ]
     },
     "metadata": {},
     "output_type": "display_data"
    },
    {
     "name": "stdout",
     "output_type": "stream",
     "text": [
      "✅ | constant/infer_model                                                                                \n"
     ]
    },
    {
     "name": "stdout",
     "output_type": "stream",
     "text": [
      "▶️ | constant/interpret                                                                                  \n"
     ]
    },
    {
     "data": {
      "application/vnd.jupyter.widget-view+json": {
       "model_id": "dcf632f8cec54c30bd069e602cbdde5c",
       "version_major": 2,
       "version_minor": 0
      },
      "text/plain": [
       "  0%|          | 0/5 [00:00<?, ?it/s]"
      ]
     },
     "metadata": {},
     "output_type": "display_data"
    },
    {
     "data": {
      "application/vnd.jupyter.widget-view+json": {
       "model_id": "1baeedda31074249a7587001ed9c2b9f",
       "version_major": 2,
       "version_minor": 0
      },
      "text/plain": [
       "  0%|          | 0/5 [00:00<?, ?it/s]"
      ]
     },
     "metadata": {},
     "output_type": "display_data"
    },
    {
     "data": {
      "application/vnd.jupyter.widget-view+json": {
       "model_id": "65a4a874f3f6483caf19178d963fcabd",
       "version_major": 2,
       "version_minor": 0
      },
      "text/plain": [
       "  0%|          | 0/10 [00:00<?, ?it/s]"
      ]
     },
     "metadata": {},
     "output_type": "display_data"
    },
    {
     "data": {
      "application/vnd.jupyter.widget-view+json": {
       "model_id": "b7f807b30b14403fbf8c77b25c735515",
       "version_major": 2,
       "version_minor": 0
      },
      "text/plain": [
       "  0%|          | 0/10 [00:00<?, ?it/s]"
      ]
     },
     "metadata": {},
     "output_type": "display_data"
    },
    {
     "name": "stdout",
     "output_type": "stream",
     "text": [
      "✅ | constant/interpret                                                                                  \n"
     ]
    }
   ],
   "source": [
    "model = basic_workflow.ConstantModel(dataset=dataset)\n",
    "model.create_model()\n",
    "model.infer_model()\n",
    "model.interpret()"
   ]
  },
  {
   "cell_type": "code",
   "execution_count": 37,
   "id": "50b1aa5a-cfb9-431d-bfee-2f3ccd5c9d9a",
   "metadata": {
    "execution": {
     "iopub.execute_input": "2021-10-05T15:39:39.110319Z",
     "iopub.status.busy": "2021-10-05T15:39:39.110077Z",
     "iopub.status.idle": "2021-10-05T15:39:45.284859Z",
     "shell.execute_reply": "2021-10-05T15:39:45.285106Z"
    }
   },
   "outputs": [
    {
     "name": "stdout",
     "output_type": "stream",
     "text": [
      "▶️ | spline/create_model                                                                                 \n"
     ]
    },
    {
     "name": "stdout",
     "output_type": "stream",
     "text": [
      "✅ | spline/create_model                                                                                 \n"
     ]
    },
    {
     "name": "stdout",
     "output_type": "stream",
     "text": [
      "▶️ | spline/infer_model                                                                                  \n"
     ]
    },
    {
     "data": {
      "application/vnd.jupyter.widget-view+json": {
       "model_id": "73c3a257fd844b75a63573e15979eb7d",
       "version_major": 2,
       "version_minor": 0
      },
      "text/plain": [
       "  0%|                                                                                                         …"
      ]
     },
     "metadata": {},
     "output_type": "display_data"
    },
    {
     "name": "stdout",
     "output_type": "stream",
     "text": [
      "✅ | spline/infer_model                                                                                  \n"
     ]
    },
    {
     "name": "stdout",
     "output_type": "stream",
     "text": [
      "▶️ | spline/interpret                                                                                    \n"
     ]
    },
    {
     "data": {
      "application/vnd.jupyter.widget-view+json": {
       "model_id": "861df90e5b73425d97a8f4b14fc2d516",
       "version_major": 2,
       "version_minor": 0
      },
      "text/plain": [
       "  0%|          | 0/5 [00:00<?, ?it/s]"
      ]
     },
     "metadata": {},
     "output_type": "display_data"
    },
    {
     "data": {
      "application/vnd.jupyter.widget-view+json": {
       "model_id": "47938c5b586143a8bead47e2d4d3b40d",
       "version_major": 2,
       "version_minor": 0
      },
      "text/plain": [
       "  0%|          | 0/5 [00:00<?, ?it/s]"
      ]
     },
     "metadata": {},
     "output_type": "display_data"
    },
    {
     "data": {
      "application/vnd.jupyter.widget-view+json": {
       "model_id": "491328a091ba4bc1a245590bb33ea83c",
       "version_major": 2,
       "version_minor": 0
      },
      "text/plain": [
       "  0%|          | 0/10 [00:00<?, ?it/s]"
      ]
     },
     "metadata": {},
     "output_type": "display_data"
    },
    {
     "data": {
      "application/vnd.jupyter.widget-view+json": {
       "model_id": "693a566a64694ea6a533c79fda00b9f4",
       "version_major": 2,
       "version_minor": 0
      },
      "text/plain": [
       "  0%|          | 0/10 [00:00<?, ?it/s]"
      ]
     },
     "metadata": {},
     "output_type": "display_data"
    },
    {
     "name": "stdout",
     "output_type": "stream",
     "text": [
      "✅ | spline/interpret                                                                                    \n"
     ]
    }
   ],
   "source": [
    "model = basic_workflow.SplineModel(dataset=dataset)\n",
    "model.create_model()\n",
    "model.infer_model()\n",
    "model.interpret()"
   ]
  },
  {
   "cell_type": "code",
   "execution_count": null,
   "id": "945122c9-8660-405d-a624-72b08bd1ea39",
   "metadata": {},
   "outputs": [],
   "source": []
  }
 ],
 "metadata": {
  "jupytext": {
   "encoding": "# -*- coding: utf-8 -*-",
   "formats": "ipynb,py:percent"
  },
  "kernelspec": {
   "display_name": "Python 3 (ipykernel)",
   "language": "python",
   "name": "python3"
  },
  "language_info": {
   "codemirror_mode": {
    "name": "ipython",
    "version": 3
   },
   "file_extension": ".py",
   "mimetype": "text/x-python",
   "name": "python",
   "nbconvert_exporter": "python",
   "pygments_lexer": "ipython3",
   "version": "3.8.10"
  },
  "widgets": {
   "application/vnd.jupyter.widget-state+json": {
    "state": {
     "00aa1515cc7c4b83bae66d9502663e69": {
      "model_module": "@jupyter-widgets/controls",
      "model_module_version": "1.5.0",
      "model_name": "FloatProgressModel",
      "state": {
       "_dom_classes": [],
       "_model_module": "@jupyter-widgets/controls",
       "_model_module_version": "1.5.0",
       "_model_name": "FloatProgressModel",
       "_view_count": null,
       "_view_module": "@jupyter-widgets/controls",
       "_view_module_version": "1.5.0",
       "_view_name": "ProgressView",
       "bar_style": "success",
       "description": "",
       "description_tooltip": null,
       "layout": "IPY_MODEL_86f48ac1629a48b9a9535ad6fa386d44",
       "max": 10000.0,
       "min": 0.0,
       "orientation": "horizontal",
       "style": "IPY_MODEL_143582939d094db5a4bedcf1447f9401",
       "value": 447.0
      }
     },
     "01d13449e98a4668ad42c883f2c2f607": {
      "model_module": "@jupyter-widgets/controls",
      "model_module_version": "1.5.0",
      "model_name": "HTMLModel",
      "state": {
       "_dom_classes": [],
       "_model_module": "@jupyter-widgets/controls",
       "_model_module_version": "1.5.0",
       "_model_name": "HTMLModel",
       "_view_count": null,
       "_view_module": "@jupyter-widgets/controls",
       "_view_module_version": "1.5.0",
       "_view_name": "HTMLView",
       "description": "",
       "description_tooltip": null,
       "layout": "IPY_MODEL_fa1393c0498848be9230a5cb71fde5e0",
       "placeholder": "​",
       "style": "IPY_MODEL_3f8ea3a00dca4c5dae4e1efaf2c31089",
       "value": "100%"
      }
     },
     "0311300b83d940b2968e2583910fc154": {
      "model_module": "@jupyter-widgets/base",
      "model_module_version": "1.2.0",
      "model_name": "LayoutModel",
      "state": {
       "_model_module": "@jupyter-widgets/base",
       "_model_module_version": "1.2.0",
       "_model_name": "LayoutModel",
       "_view_count": null,
       "_view_module": "@jupyter-widgets/base",
       "_view_module_version": "1.2.0",
       "_view_name": "LayoutView",
       "align_content": null,
       "align_items": null,
       "align_self": null,
       "border": null,
       "bottom": null,
       "display": null,
       "flex": null,
       "flex_flow": null,
       "grid_area": null,
       "grid_auto_columns": null,
       "grid_auto_flow": null,
       "grid_auto_rows": null,
       "grid_column": null,
       "grid_gap": null,
       "grid_row": null,
       "grid_template_areas": null,
       "grid_template_columns": null,
       "grid_template_rows": null,
       "height": null,
       "justify_content": null,
       "justify_items": null,
       "left": null,
       "margin": null,
       "max_height": null,
       "max_width": null,
       "min_height": null,
       "min_width": null,
       "object_fit": null,
       "object_position": null,
       "order": null,
       "overflow": null,
       "overflow_x": null,
       "overflow_y": null,
       "padding": null,
       "right": null,
       "top": null,
       "visibility": null,
       "width": null
      }
     },
     "04f396be68db4d0ea6719a83dffeadd3": {
      "model_module": "@jupyter-widgets/controls",
      "model_module_version": "1.5.0",
      "model_name": "ProgressStyleModel",
      "state": {
       "_model_module": "@jupyter-widgets/controls",
       "_model_module_version": "1.5.0",
       "_model_name": "ProgressStyleModel",
       "_view_count": null,
       "_view_module": "@jupyter-widgets/base",
       "_view_module_version": "1.2.0",
       "_view_name": "StyleView",
       "bar_color": null,
       "description_width": ""
      }
     },
     "0944a310107e407bbb0f6f9cf5131926": {
      "model_module": "@jupyter-widgets/base",
      "model_module_version": "1.2.0",
      "model_name": "LayoutModel",
      "state": {
       "_model_module": "@jupyter-widgets/base",
       "_model_module_version": "1.2.0",
       "_model_name": "LayoutModel",
       "_view_count": null,
       "_view_module": "@jupyter-widgets/base",
       "_view_module_version": "1.2.0",
       "_view_name": "LayoutView",
       "align_content": null,
       "align_items": null,
       "align_self": null,
       "border": null,
       "bottom": null,
       "display": null,
       "flex": null,
       "flex_flow": null,
       "grid_area": null,
       "grid_auto_columns": null,
       "grid_auto_flow": null,
       "grid_auto_rows": null,
       "grid_column": null,
       "grid_gap": null,
       "grid_row": null,
       "grid_template_areas": null,
       "grid_template_columns": null,
       "grid_template_rows": null,
       "height": null,
       "justify_content": null,
       "justify_items": null,
       "left": null,
       "margin": null,
       "max_height": null,
       "max_width": null,
       "min_height": null,
       "min_width": null,
       "object_fit": null,
       "object_position": null,
       "order": null,
       "overflow": null,
       "overflow_x": null,
       "overflow_y": null,
       "padding": null,
       "right": null,
       "top": null,
       "visibility": null,
       "width": null
      }
     },
     "0a4c30fa26ca49bc80181fde670790f7": {
      "model_module": "@jupyter-widgets/controls",
      "model_module_version": "1.5.0",
      "model_name": "FloatProgressModel",
      "state": {
       "_dom_classes": [],
       "_model_module": "@jupyter-widgets/controls",
       "_model_module_version": "1.5.0",
       "_model_name": "FloatProgressModel",
       "_view_count": null,
       "_view_module": "@jupyter-widgets/controls",
       "_view_module_version": "1.5.0",
       "_view_name": "ProgressView",
       "bar_style": "success",
       "description": "",
       "description_tooltip": null,
       "layout": "IPY_MODEL_fa88cdc95eea4e5ca21b96493870e993",
       "max": 10000.0,
       "min": 0.0,
       "orientation": "horizontal",
       "style": "IPY_MODEL_dc22fa77c6ce4236829f9083b010039e",
       "value": 536.0
      }
     },
     "0a740fddce8642c9b6995117d700717b": {
      "model_module": "@jupyter-widgets/controls",
      "model_module_version": "1.5.0",
      "model_name": "DescriptionStyleModel",
      "state": {
       "_model_module": "@jupyter-widgets/controls",
       "_model_module_version": "1.5.0",
       "_model_name": "DescriptionStyleModel",
       "_view_count": null,
       "_view_module": "@jupyter-widgets/base",
       "_view_module_version": "1.2.0",
       "_view_name": "StyleView",
       "description_width": ""
      }
     },
     "0a8e5d4e89004264a90b4a4f064fae66": {
      "model_module": "@jupyter-widgets/controls",
      "model_module_version": "1.5.0",
      "model_name": "HTMLModel",
      "state": {
       "_dom_classes": [],
       "_model_module": "@jupyter-widgets/controls",
       "_model_module_version": "1.5.0",
       "_model_name": "HTMLModel",
       "_view_count": null,
       "_view_module": "@jupyter-widgets/controls",
       "_view_module_version": "1.5.0",
       "_view_name": "HTMLView",
       "description": "",
       "description_tooltip": null,
       "layout": "IPY_MODEL_ea678592e4524d3cbda0a4177554abc3",
       "placeholder": "​",
       "style": "IPY_MODEL_e9bedd2a18f54370864696c98c7212f4",
       "value": " 10/10 [00:00&lt;00:00, 16.73it/s]"
      }
     },
     "0bd3db904ad048bfbe241180bccb7c11": {
      "model_module": "@jupyter-widgets/base",
      "model_module_version": "1.2.0",
      "model_name": "LayoutModel",
      "state": {
       "_model_module": "@jupyter-widgets/base",
       "_model_module_version": "1.2.0",
       "_model_name": "LayoutModel",
       "_view_count": null,
       "_view_module": "@jupyter-widgets/base",
       "_view_module_version": "1.2.0",
       "_view_name": "LayoutView",
       "align_content": null,
       "align_items": null,
       "align_self": null,
       "border": null,
       "bottom": null,
       "display": null,
       "flex": null,
       "flex_flow": null,
       "grid_area": null,
       "grid_auto_columns": null,
       "grid_auto_flow": null,
       "grid_auto_rows": null,
       "grid_column": null,
       "grid_gap": null,
       "grid_row": null,
       "grid_template_areas": null,
       "grid_template_columns": null,
       "grid_template_rows": null,
       "height": null,
       "justify_content": null,
       "justify_items": null,
       "left": null,
       "margin": null,
       "max_height": null,
       "max_width": null,
       "min_height": null,
       "min_width": null,
       "object_fit": null,
       "object_position": null,
       "order": null,
       "overflow": null,
       "overflow_x": null,
       "overflow_y": null,
       "padding": null,
       "right": null,
       "top": null,
       "visibility": null,
       "width": null
      }
     },
     "0cfa82bb21624bfe8d2935b0cf4c66ec": {
      "model_module": "@jupyter-widgets/base",
      "model_module_version": "1.2.0",
      "model_name": "LayoutModel",
      "state": {
       "_model_module": "@jupyter-widgets/base",
       "_model_module_version": "1.2.0",
       "_model_name": "LayoutModel",
       "_view_count": null,
       "_view_module": "@jupyter-widgets/base",
       "_view_module_version": "1.2.0",
       "_view_name": "LayoutView",
       "align_content": null,
       "align_items": null,
       "align_self": null,
       "border": null,
       "bottom": null,
       "display": null,
       "flex": null,
       "flex_flow": null,
       "grid_area": null,
       "grid_auto_columns": null,
       "grid_auto_flow": null,
       "grid_auto_rows": null,
       "grid_column": null,
       "grid_gap": null,
       "grid_row": null,
       "grid_template_areas": null,
       "grid_template_columns": null,
       "grid_template_rows": null,
       "height": null,
       "justify_content": null,
       "justify_items": null,
       "left": null,
       "margin": null,
       "max_height": null,
       "max_width": null,
       "min_height": null,
       "min_width": null,
       "object_fit": null,
       "object_position": null,
       "order": null,
       "overflow": null,
       "overflow_x": null,
       "overflow_y": null,
       "padding": null,
       "right": null,
       "top": null,
       "visibility": null,
       "width": null
      }
     },
     "0efb51ecd0044c3e9e0e2ec55839613b": {
      "model_module": "@jupyter-widgets/controls",
      "model_module_version": "1.5.0",
      "model_name": "ProgressStyleModel",
      "state": {
       "_model_module": "@jupyter-widgets/controls",
       "_model_module_version": "1.5.0",
       "_model_name": "ProgressStyleModel",
       "_view_count": null,
       "_view_module": "@jupyter-widgets/base",
       "_view_module_version": "1.2.0",
       "_view_name": "StyleView",
       "bar_color": null,
       "description_width": ""
      }
     },
     "10cca630559e4d79bf298ead51b5de8c": {
      "model_module": "@jupyter-widgets/base",
      "model_module_version": "1.2.0",
      "model_name": "LayoutModel",
      "state": {
       "_model_module": "@jupyter-widgets/base",
       "_model_module_version": "1.2.0",
       "_model_name": "LayoutModel",
       "_view_count": null,
       "_view_module": "@jupyter-widgets/base",
       "_view_module_version": "1.2.0",
       "_view_name": "LayoutView",
       "align_content": null,
       "align_items": null,
       "align_self": null,
       "border": null,
       "bottom": null,
       "display": null,
       "flex": null,
       "flex_flow": null,
       "grid_area": null,
       "grid_auto_columns": null,
       "grid_auto_flow": null,
       "grid_auto_rows": null,
       "grid_column": null,
       "grid_gap": null,
       "grid_row": null,
       "grid_template_areas": null,
       "grid_template_columns": null,
       "grid_template_rows": null,
       "height": null,
       "justify_content": null,
       "justify_items": null,
       "left": null,
       "margin": null,
       "max_height": null,
       "max_width": null,
       "min_height": null,
       "min_width": null,
       "object_fit": null,
       "object_position": null,
       "order": null,
       "overflow": null,
       "overflow_x": null,
       "overflow_y": null,
       "padding": null,
       "right": null,
       "top": null,
       "visibility": null,
       "width": null
      }
     },
     "12b71f1a09a04855b0fad2d1e9255b12": {
      "model_module": "@jupyter-widgets/controls",
      "model_module_version": "1.5.0",
      "model_name": "HTMLModel",
      "state": {
       "_dom_classes": [],
       "_model_module": "@jupyter-widgets/controls",
       "_model_module_version": "1.5.0",
       "_model_name": "HTMLModel",
       "_view_count": null,
       "_view_module": "@jupyter-widgets/controls",
       "_view_module_version": "1.5.0",
       "_view_name": "HTMLView",
       "description": "",
       "description_tooltip": null,
       "layout": "IPY_MODEL_5f4de36f13934293a0542d472922bb57",
       "placeholder": "​",
       "style": "IPY_MODEL_b84e02f68dd0443b8485d6f07a1a083c",
       "value": " 447/447 [00:04&lt;00:00, 114.87it/s]"
      }
     },
     "143582939d094db5a4bedcf1447f9401": {
      "model_module": "@jupyter-widgets/controls",
      "model_module_version": "1.5.0",
      "model_name": "ProgressStyleModel",
      "state": {
       "_model_module": "@jupyter-widgets/controls",
       "_model_module_version": "1.5.0",
       "_model_name": "ProgressStyleModel",
       "_view_count": null,
       "_view_module": "@jupyter-widgets/base",
       "_view_module_version": "1.2.0",
       "_view_name": "StyleView",
       "bar_color": null,
       "description_width": ""
      }
     },
     "14e307979cb841a49dbdf3db87ac9298": {
      "model_module": "@jupyter-widgets/controls",
      "model_module_version": "1.5.0",
      "model_name": "HTMLModel",
      "state": {
       "_dom_classes": [],
       "_model_module": "@jupyter-widgets/controls",
       "_model_module_version": "1.5.0",
       "_model_name": "HTMLModel",
       "_view_count": null,
       "_view_module": "@jupyter-widgets/controls",
       "_view_module_version": "1.5.0",
       "_view_name": "HTMLView",
       "description": "",
       "description_tooltip": null,
       "layout": "IPY_MODEL_ccb3ab8c166f46debf3273e75f0d0b07",
       "placeholder": "​",
       "style": "IPY_MODEL_c40e598299b54111ad7b5838e515f812",
       "value": "100%"
      }
     },
     "153cd35bee024a29a0ad24cc4783a195": {
      "model_module": "@jupyter-widgets/base",
      "model_module_version": "1.2.0",
      "model_name": "LayoutModel",
      "state": {
       "_model_module": "@jupyter-widgets/base",
       "_model_module_version": "1.2.0",
       "_model_name": "LayoutModel",
       "_view_count": null,
       "_view_module": "@jupyter-widgets/base",
       "_view_module_version": "1.2.0",
       "_view_name": "LayoutView",
       "align_content": null,
       "align_items": null,
       "align_self": null,
       "border": null,
       "bottom": null,
       "display": null,
       "flex": null,
       "flex_flow": null,
       "grid_area": null,
       "grid_auto_columns": null,
       "grid_auto_flow": null,
       "grid_auto_rows": null,
       "grid_column": null,
       "grid_gap": null,
       "grid_row": null,
       "grid_template_areas": null,
       "grid_template_columns": null,
       "grid_template_rows": null,
       "height": null,
       "justify_content": null,
       "justify_items": null,
       "left": null,
       "margin": null,
       "max_height": null,
       "max_width": null,
       "min_height": null,
       "min_width": null,
       "object_fit": null,
       "object_position": null,
       "order": null,
       "overflow": null,
       "overflow_x": null,
       "overflow_y": null,
       "padding": null,
       "right": null,
       "top": null,
       "visibility": null,
       "width": null
      }
     },
     "155c7bb7d74f482fba749b0398bed3b3": {
      "model_module": "@jupyter-widgets/controls",
      "model_module_version": "1.5.0",
      "model_name": "HTMLModel",
      "state": {
       "_dom_classes": [],
       "_model_module": "@jupyter-widgets/controls",
       "_model_module_version": "1.5.0",
       "_model_name": "HTMLModel",
       "_view_count": null,
       "_view_module": "@jupyter-widgets/controls",
       "_view_module_version": "1.5.0",
       "_view_name": "HTMLView",
       "description": "",
       "description_tooltip": null,
       "layout": "IPY_MODEL_6d3c2fb714324c0e9c82426147413792",
       "placeholder": "​",
       "style": "IPY_MODEL_e2d51a1b5f76466293af4aeefb2db115",
       "value": " 10/10 [00:00&lt;00:00, 120.63it/s]"
      }
     },
     "15f1fc0b7d814190b8f7ac0bec70290f": {
      "model_module": "@jupyter-widgets/controls",
      "model_module_version": "1.5.0",
      "model_name": "ProgressStyleModel",
      "state": {
       "_model_module": "@jupyter-widgets/controls",
       "_model_module_version": "1.5.0",
       "_model_name": "ProgressStyleModel",
       "_view_count": null,
       "_view_module": "@jupyter-widgets/base",
       "_view_module_version": "1.2.0",
       "_view_name": "StyleView",
       "bar_color": null,
       "description_width": ""
      }
     },
     "172d4abac0674cd5bbea8bca24a38bb0": {
      "model_module": "@jupyter-widgets/base",
      "model_module_version": "1.2.0",
      "model_name": "LayoutModel",
      "state": {
       "_model_module": "@jupyter-widgets/base",
       "_model_module_version": "1.2.0",
       "_model_name": "LayoutModel",
       "_view_count": null,
       "_view_module": "@jupyter-widgets/base",
       "_view_module_version": "1.2.0",
       "_view_name": "LayoutView",
       "align_content": null,
       "align_items": null,
       "align_self": null,
       "border": null,
       "bottom": null,
       "display": null,
       "flex": null,
       "flex_flow": null,
       "grid_area": null,
       "grid_auto_columns": null,
       "grid_auto_flow": null,
       "grid_auto_rows": null,
       "grid_column": null,
       "grid_gap": null,
       "grid_row": null,
       "grid_template_areas": null,
       "grid_template_columns": null,
       "grid_template_rows": null,
       "height": null,
       "justify_content": null,
       "justify_items": null,
       "left": null,
       "margin": null,
       "max_height": null,
       "max_width": null,
       "min_height": null,
       "min_width": null,
       "object_fit": null,
       "object_position": null,
       "order": null,
       "overflow": null,
       "overflow_x": null,
       "overflow_y": null,
       "padding": null,
       "right": null,
       "top": null,
       "visibility": null,
       "width": null
      }
     },
     "1732b693cb524b4298789fb83b6539e0": {
      "model_module": "@jupyter-widgets/controls",
      "model_module_version": "1.5.0",
      "model_name": "ProgressStyleModel",
      "state": {
       "_model_module": "@jupyter-widgets/controls",
       "_model_module_version": "1.5.0",
       "_model_name": "ProgressStyleModel",
       "_view_count": null,
       "_view_module": "@jupyter-widgets/base",
       "_view_module_version": "1.2.0",
       "_view_name": "StyleView",
       "bar_color": null,
       "description_width": ""
      }
     },
     "1931f9dd2c4e4e4db12746b2d929ac62": {
      "model_module": "@jupyter-widgets/base",
      "model_module_version": "1.2.0",
      "model_name": "LayoutModel",
      "state": {
       "_model_module": "@jupyter-widgets/base",
       "_model_module_version": "1.2.0",
       "_model_name": "LayoutModel",
       "_view_count": null,
       "_view_module": "@jupyter-widgets/base",
       "_view_module_version": "1.2.0",
       "_view_name": "LayoutView",
       "align_content": null,
       "align_items": null,
       "align_self": null,
       "border": null,
       "bottom": null,
       "display": null,
       "flex": null,
       "flex_flow": null,
       "grid_area": null,
       "grid_auto_columns": null,
       "grid_auto_flow": null,
       "grid_auto_rows": null,
       "grid_column": null,
       "grid_gap": null,
       "grid_row": null,
       "grid_template_areas": null,
       "grid_template_columns": null,
       "grid_template_rows": null,
       "height": null,
       "justify_content": null,
       "justify_items": null,
       "left": null,
       "margin": null,
       "max_height": null,
       "max_width": null,
       "min_height": null,
       "min_width": null,
       "object_fit": null,
       "object_position": null,
       "order": null,
       "overflow": null,
       "overflow_x": null,
       "overflow_y": null,
       "padding": null,
       "right": null,
       "top": null,
       "visibility": null,
       "width": null
      }
     },
     "1933ef79c6e249da8ab91092a2d54a4f": {
      "model_module": "@jupyter-widgets/base",
      "model_module_version": "1.2.0",
      "model_name": "LayoutModel",
      "state": {
       "_model_module": "@jupyter-widgets/base",
       "_model_module_version": "1.2.0",
       "_model_name": "LayoutModel",
       "_view_count": null,
       "_view_module": "@jupyter-widgets/base",
       "_view_module_version": "1.2.0",
       "_view_name": "LayoutView",
       "align_content": null,
       "align_items": null,
       "align_self": null,
       "border": null,
       "bottom": null,
       "display": "inline-flex",
       "flex": null,
       "flex_flow": "row wrap",
       "grid_area": null,
       "grid_auto_columns": null,
       "grid_auto_flow": null,
       "grid_auto_rows": null,
       "grid_column": null,
       "grid_gap": null,
       "grid_row": null,
       "grid_template_areas": null,
       "grid_template_columns": null,
       "grid_template_rows": null,
       "height": null,
       "justify_content": null,
       "justify_items": null,
       "left": null,
       "margin": null,
       "max_height": null,
       "max_width": null,
       "min_height": null,
       "min_width": null,
       "object_fit": null,
       "object_position": null,
       "order": null,
       "overflow": null,
       "overflow_x": null,
       "overflow_y": null,
       "padding": null,
       "right": null,
       "top": null,
       "visibility": null,
       "width": "1000px"
      }
     },
     "1baeedda31074249a7587001ed9c2b9f": {
      "model_module": "@jupyter-widgets/controls",
      "model_module_version": "1.5.0",
      "model_name": "HBoxModel",
      "state": {
       "_dom_classes": [],
       "_model_module": "@jupyter-widgets/controls",
       "_model_module_version": "1.5.0",
       "_model_name": "HBoxModel",
       "_view_count": null,
       "_view_module": "@jupyter-widgets/controls",
       "_view_module_version": "1.5.0",
       "_view_name": "HBoxView",
       "box_style": "",
       "children": [
        "IPY_MODEL_d3ee147c20164f14bf88a553eb128281",
        "IPY_MODEL_912a01deb0d548e2aa61a289187db437",
        "IPY_MODEL_3793965133f14e7ea28dfa8b4e565be8"
       ],
       "layout": "IPY_MODEL_786cc633d7e0493c8e55bcacfba4e6c6"
      }
     },
     "1d24535154e1433ab6c2a26ab79cb71d": {
      "model_module": "@jupyter-widgets/controls",
      "model_module_version": "1.5.0",
      "model_name": "HTMLModel",
      "state": {
       "_dom_classes": [],
       "_model_module": "@jupyter-widgets/controls",
       "_model_module_version": "1.5.0",
       "_model_name": "HTMLModel",
       "_view_count": null,
       "_view_module": "@jupyter-widgets/controls",
       "_view_module_version": "1.5.0",
       "_view_name": "HTMLView",
       "description": "",
       "description_tooltip": null,
       "layout": "IPY_MODEL_7e1fdfe80c5947e2ade89dace3c2a836",
       "placeholder": "​",
       "style": "IPY_MODEL_b437c13908a34ac390b27d775c1aae6f",
       "value": " 536/536 [00:04&lt;00:00, 132.92it/s]"
      }
     },
     "23b9f9503bf043abafc5d2eedf3295ff": {
      "model_module": "@jupyter-widgets/controls",
      "model_module_version": "1.5.0",
      "model_name": "FloatProgressModel",
      "state": {
       "_dom_classes": [],
       "_model_module": "@jupyter-widgets/controls",
       "_model_module_version": "1.5.0",
       "_model_name": "FloatProgressModel",
       "_view_count": null,
       "_view_module": "@jupyter-widgets/controls",
       "_view_module_version": "1.5.0",
       "_view_name": "ProgressView",
       "bar_style": "success",
       "description": "",
       "description_tooltip": null,
       "layout": "IPY_MODEL_375da608faef426684930497dbbd8ebc",
       "max": 5.0,
       "min": 0.0,
       "orientation": "horizontal",
       "style": "IPY_MODEL_8e7144f8d0be4de4a829267b2a5602fd",
       "value": 5.0
      }
     },
     "23e8067e1fa34822817c9fc391afec73": {
      "model_module": "@jupyter-widgets/controls",
      "model_module_version": "1.5.0",
      "model_name": "HBoxModel",
      "state": {
       "_dom_classes": [],
       "_model_module": "@jupyter-widgets/controls",
       "_model_module_version": "1.5.0",
       "_model_name": "HBoxModel",
       "_view_count": null,
       "_view_module": "@jupyter-widgets/controls",
       "_view_module_version": "1.5.0",
       "_view_name": "HBoxView",
       "box_style": "",
       "children": [
        "IPY_MODEL_864253109dee41fa8545bebdd4e93d8d",
        "IPY_MODEL_23b9f9503bf043abafc5d2eedf3295ff",
        "IPY_MODEL_d3b0e64bf44c48368b7f2c9d70867e0a"
       ],
       "layout": "IPY_MODEL_7e5ddf90f42b45e3b2aee086a37820a5"
      }
     },
     "2406767cc212465590b377a2e3365123": {
      "model_module": "@jupyter-widgets/controls",
      "model_module_version": "1.5.0",
      "model_name": "HTMLModel",
      "state": {
       "_dom_classes": [],
       "_model_module": "@jupyter-widgets/controls",
       "_model_module_version": "1.5.0",
       "_model_name": "HTMLModel",
       "_view_count": null,
       "_view_module": "@jupyter-widgets/controls",
       "_view_module_version": "1.5.0",
       "_view_name": "HTMLView",
       "description": "",
       "description_tooltip": null,
       "layout": "IPY_MODEL_1931f9dd2c4e4e4db12746b2d929ac62",
       "placeholder": "​",
       "style": "IPY_MODEL_954008c1fada4e2e9acc1192ba7496ca",
       "value": " 5/5 [00:00&lt;00:00, 354.57it/s]"
      }
     },
     "266d75b5d0e34189bf131085f1047fe8": {
      "model_module": "@jupyter-widgets/base",
      "model_module_version": "1.2.0",
      "model_name": "LayoutModel",
      "state": {
       "_model_module": "@jupyter-widgets/base",
       "_model_module_version": "1.2.0",
       "_model_name": "LayoutModel",
       "_view_count": null,
       "_view_module": "@jupyter-widgets/base",
       "_view_module_version": "1.2.0",
       "_view_name": "LayoutView",
       "align_content": null,
       "align_items": null,
       "align_self": null,
       "border": null,
       "bottom": null,
       "display": null,
       "flex": null,
       "flex_flow": null,
       "grid_area": null,
       "grid_auto_columns": null,
       "grid_auto_flow": null,
       "grid_auto_rows": null,
       "grid_column": null,
       "grid_gap": null,
       "grid_row": null,
       "grid_template_areas": null,
       "grid_template_columns": null,
       "grid_template_rows": null,
       "height": null,
       "justify_content": null,
       "justify_items": null,
       "left": null,
       "margin": null,
       "max_height": null,
       "max_width": null,
       "min_height": null,
       "min_width": null,
       "object_fit": null,
       "object_position": null,
       "order": null,
       "overflow": null,
       "overflow_x": null,
       "overflow_y": null,
       "padding": null,
       "right": null,
       "top": null,
       "visibility": null,
       "width": null
      }
     },
     "28433bb06e184a828ade1bee5fb4f435": {
      "model_module": "@jupyter-widgets/controls",
      "model_module_version": "1.5.0",
      "model_name": "HBoxModel",
      "state": {
       "_dom_classes": [],
       "_model_module": "@jupyter-widgets/controls",
       "_model_module_version": "1.5.0",
       "_model_name": "HBoxModel",
       "_view_count": null,
       "_view_module": "@jupyter-widgets/controls",
       "_view_module_version": "1.5.0",
       "_view_name": "HBoxView",
       "box_style": "",
       "children": [
        "IPY_MODEL_2cb3c37d07d54552913f67b4233ff2a9",
        "IPY_MODEL_be8e14931e07489cbf6b9a9b21f89b14",
        "IPY_MODEL_602fb4dbb2e54983b305830ec8e41b9e"
       ],
       "layout": "IPY_MODEL_1933ef79c6e249da8ab91092a2d54a4f"
      }
     },
     "2cb3c37d07d54552913f67b4233ff2a9": {
      "model_module": "@jupyter-widgets/controls",
      "model_module_version": "1.5.0",
      "model_name": "HTMLModel",
      "state": {
       "_dom_classes": [],
       "_model_module": "@jupyter-widgets/controls",
       "_model_module_version": "1.5.0",
       "_model_name": "HTMLModel",
       "_view_count": null,
       "_view_module": "@jupyter-widgets/controls",
       "_view_module_version": "1.5.0",
       "_view_name": "HTMLView",
       "description": "",
       "description_tooltip": null,
       "layout": "IPY_MODEL_46d11c65d76940baa2d5a51517383a2d",
       "placeholder": "​",
       "style": "IPY_MODEL_54c7b4d3526e4a43b206d8382bd461d1",
       "value": " | loss 0.800 Δ -0.000 :  ✓: 100%"
      }
     },
     "2df82a38585641e6abc841bcd305d5dd": {
      "model_module": "@jupyter-widgets/controls",
      "model_module_version": "1.5.0",
      "model_name": "HTMLModel",
      "state": {
       "_dom_classes": [],
       "_model_module": "@jupyter-widgets/controls",
       "_model_module_version": "1.5.0",
       "_model_name": "HTMLModel",
       "_view_count": null,
       "_view_module": "@jupyter-widgets/controls",
       "_view_module_version": "1.5.0",
       "_view_name": "HTMLView",
       "description": "",
       "description_tooltip": null,
       "layout": "IPY_MODEL_7593aeae2e824233aa7c5cbc5e26a34c",
       "placeholder": "​",
       "style": "IPY_MODEL_51ee8f5ebd074563b4bcc6d51e982c33",
       "value": " 10/10 [00:00&lt;00:00, 12.67it/s]"
      }
     },
     "2e02e71f25d04aa3af23372be5779bbf": {
      "model_module": "@jupyter-widgets/base",
      "model_module_version": "1.2.0",
      "model_name": "LayoutModel",
      "state": {
       "_model_module": "@jupyter-widgets/base",
       "_model_module_version": "1.2.0",
       "_model_name": "LayoutModel",
       "_view_count": null,
       "_view_module": "@jupyter-widgets/base",
       "_view_module_version": "1.2.0",
       "_view_name": "LayoutView",
       "align_content": null,
       "align_items": null,
       "align_self": null,
       "border": null,
       "bottom": null,
       "display": null,
       "flex": null,
       "flex_flow": null,
       "grid_area": null,
       "grid_auto_columns": null,
       "grid_auto_flow": null,
       "grid_auto_rows": null,
       "grid_column": null,
       "grid_gap": null,
       "grid_row": null,
       "grid_template_areas": null,
       "grid_template_columns": null,
       "grid_template_rows": null,
       "height": null,
       "justify_content": null,
       "justify_items": null,
       "left": null,
       "margin": null,
       "max_height": null,
       "max_width": null,
       "min_height": null,
       "min_width": null,
       "object_fit": null,
       "object_position": null,
       "order": null,
       "overflow": null,
       "overflow_x": null,
       "overflow_y": null,
       "padding": null,
       "right": null,
       "top": null,
       "visibility": null,
       "width": null
      }
     },
     "2fe5107540f548bb86f9c8ce30b3b3cb": {
      "model_module": "@jupyter-widgets/controls",
      "model_module_version": "1.5.0",
      "model_name": "FloatProgressModel",
      "state": {
       "_dom_classes": [],
       "_model_module": "@jupyter-widgets/controls",
       "_model_module_version": "1.5.0",
       "_model_name": "FloatProgressModel",
       "_view_count": null,
       "_view_module": "@jupyter-widgets/controls",
       "_view_module_version": "1.5.0",
       "_view_name": "ProgressView",
       "bar_style": "success",
       "description": "",
       "description_tooltip": null,
       "layout": "IPY_MODEL_0944a310107e407bbb0f6f9cf5131926",
       "max": 10.0,
       "min": 0.0,
       "orientation": "horizontal",
       "style": "IPY_MODEL_49abb1a9a936483c840fe23c99a1c2c2",
       "value": 10.0
      }
     },
     "335e0979bcca4f17848079d29d50fffb": {
      "model_module": "@jupyter-widgets/controls",
      "model_module_version": "1.5.0",
      "model_name": "DescriptionStyleModel",
      "state": {
       "_model_module": "@jupyter-widgets/controls",
       "_model_module_version": "1.5.0",
       "_model_name": "DescriptionStyleModel",
       "_view_count": null,
       "_view_module": "@jupyter-widgets/base",
       "_view_module_version": "1.2.0",
       "_view_name": "StyleView",
       "description_width": ""
      }
     },
     "3423ee1a8b4042b6a56fafd4988535d9": {
      "model_module": "@jupyter-widgets/controls",
      "model_module_version": "1.5.0",
      "model_name": "HTMLModel",
      "state": {
       "_dom_classes": [],
       "_model_module": "@jupyter-widgets/controls",
       "_model_module_version": "1.5.0",
       "_model_name": "HTMLModel",
       "_view_count": null,
       "_view_module": "@jupyter-widgets/controls",
       "_view_module_version": "1.5.0",
       "_view_name": "HTMLView",
       "description": "",
       "description_tooltip": null,
       "layout": "IPY_MODEL_0bd3db904ad048bfbe241180bccb7c11",
       "placeholder": "​",
       "style": "IPY_MODEL_80aa6f7361df4dda924c9d4d696b75db",
       "value": " 5/5 [00:00&lt;00:00, 18.30it/s]"
      }
     },
     "3573373c41504e9baa8234b4c5f562d9": {
      "model_module": "@jupyter-widgets/base",
      "model_module_version": "1.2.0",
      "model_name": "LayoutModel",
      "state": {
       "_model_module": "@jupyter-widgets/base",
       "_model_module_version": "1.2.0",
       "_model_name": "LayoutModel",
       "_view_count": null,
       "_view_module": "@jupyter-widgets/base",
       "_view_module_version": "1.2.0",
       "_view_name": "LayoutView",
       "align_content": null,
       "align_items": null,
       "align_self": null,
       "border": null,
       "bottom": null,
       "display": null,
       "flex": null,
       "flex_flow": null,
       "grid_area": null,
       "grid_auto_columns": null,
       "grid_auto_flow": null,
       "grid_auto_rows": null,
       "grid_column": null,
       "grid_gap": null,
       "grid_row": null,
       "grid_template_areas": null,
       "grid_template_columns": null,
       "grid_template_rows": null,
       "height": null,
       "justify_content": null,
       "justify_items": null,
       "left": null,
       "margin": null,
       "max_height": null,
       "max_width": null,
       "min_height": null,
       "min_width": null,
       "object_fit": null,
       "object_position": null,
       "order": null,
       "overflow": null,
       "overflow_x": null,
       "overflow_y": null,
       "padding": null,
       "right": null,
       "top": null,
       "visibility": null,
       "width": null
      }
     },
     "35d5a32e166b491c8fb204fdb3b2d60b": {
      "model_module": "@jupyter-widgets/controls",
      "model_module_version": "1.5.0",
      "model_name": "ProgressStyleModel",
      "state": {
       "_model_module": "@jupyter-widgets/controls",
       "_model_module_version": "1.5.0",
       "_model_name": "ProgressStyleModel",
       "_view_count": null,
       "_view_module": "@jupyter-widgets/base",
       "_view_module_version": "1.2.0",
       "_view_name": "StyleView",
       "bar_color": null,
       "description_width": ""
      }
     },
     "3750d52982c54ff3b340a348879149de": {
      "model_module": "@jupyter-widgets/base",
      "model_module_version": "1.2.0",
      "model_name": "LayoutModel",
      "state": {
       "_model_module": "@jupyter-widgets/base",
       "_model_module_version": "1.2.0",
       "_model_name": "LayoutModel",
       "_view_count": null,
       "_view_module": "@jupyter-widgets/base",
       "_view_module_version": "1.2.0",
       "_view_name": "LayoutView",
       "align_content": null,
       "align_items": null,
       "align_self": null,
       "border": null,
       "bottom": null,
       "display": null,
       "flex": null,
       "flex_flow": null,
       "grid_area": null,
       "grid_auto_columns": null,
       "grid_auto_flow": null,
       "grid_auto_rows": null,
       "grid_column": null,
       "grid_gap": null,
       "grid_row": null,
       "grid_template_areas": null,
       "grid_template_columns": null,
       "grid_template_rows": null,
       "height": null,
       "justify_content": null,
       "justify_items": null,
       "left": null,
       "margin": null,
       "max_height": null,
       "max_width": null,
       "min_height": null,
       "min_width": null,
       "object_fit": null,
       "object_position": null,
       "order": null,
       "overflow": null,
       "overflow_x": null,
       "overflow_y": null,
       "padding": null,
       "right": null,
       "top": null,
       "visibility": null,
       "width": null
      }
     },
     "375da608faef426684930497dbbd8ebc": {
      "model_module": "@jupyter-widgets/base",
      "model_module_version": "1.2.0",
      "model_name": "LayoutModel",
      "state": {
       "_model_module": "@jupyter-widgets/base",
       "_model_module_version": "1.2.0",
       "_model_name": "LayoutModel",
       "_view_count": null,
       "_view_module": "@jupyter-widgets/base",
       "_view_module_version": "1.2.0",
       "_view_name": "LayoutView",
       "align_content": null,
       "align_items": null,
       "align_self": null,
       "border": null,
       "bottom": null,
       "display": null,
       "flex": null,
       "flex_flow": null,
       "grid_area": null,
       "grid_auto_columns": null,
       "grid_auto_flow": null,
       "grid_auto_rows": null,
       "grid_column": null,
       "grid_gap": null,
       "grid_row": null,
       "grid_template_areas": null,
       "grid_template_columns": null,
       "grid_template_rows": null,
       "height": null,
       "justify_content": null,
       "justify_items": null,
       "left": null,
       "margin": null,
       "max_height": null,
       "max_width": null,
       "min_height": null,
       "min_width": null,
       "object_fit": null,
       "object_position": null,
       "order": null,
       "overflow": null,
       "overflow_x": null,
       "overflow_y": null,
       "padding": null,
       "right": null,
       "top": null,
       "visibility": null,
       "width": null
      }
     },
     "3793965133f14e7ea28dfa8b4e565be8": {
      "model_module": "@jupyter-widgets/controls",
      "model_module_version": "1.5.0",
      "model_name": "HTMLModel",
      "state": {
       "_dom_classes": [],
       "_model_module": "@jupyter-widgets/controls",
       "_model_module_version": "1.5.0",
       "_model_name": "HTMLModel",
       "_view_count": null,
       "_view_module": "@jupyter-widgets/controls",
       "_view_module_version": "1.5.0",
       "_view_name": "HTMLView",
       "description": "",
       "description_tooltip": null,
       "layout": "IPY_MODEL_ca159f3f91e648e2b902f5e7900d2290",
       "placeholder": "​",
       "style": "IPY_MODEL_c74dcf6121f248edb62c069fca656fc1",
       "value": " 5/5 [00:00&lt;00:00, 373.54it/s]"
      }
     },
     "3d69809d4643432588bad53277a67d3c": {
      "model_module": "@jupyter-widgets/controls",
      "model_module_version": "1.5.0",
      "model_name": "HTMLModel",
      "state": {
       "_dom_classes": [],
       "_model_module": "@jupyter-widgets/controls",
       "_model_module_version": "1.5.0",
       "_model_name": "HTMLModel",
       "_view_count": null,
       "_view_module": "@jupyter-widgets/controls",
       "_view_module_version": "1.5.0",
       "_view_name": "HTMLView",
       "description": "",
       "description_tooltip": null,
       "layout": "IPY_MODEL_91356a9f5ed24a1fa91218a2ea53e07d",
       "placeholder": "​",
       "style": "IPY_MODEL_48174db3864b441aab006a4e91bddc1d",
       "value": " | loss 0.783 Δ 0.001 :  ✓: 100%"
      }
     },
     "3dee9af733be445a97ee867221c4f9c5": {
      "model_module": "@jupyter-widgets/base",
      "model_module_version": "1.2.0",
      "model_name": "LayoutModel",
      "state": {
       "_model_module": "@jupyter-widgets/base",
       "_model_module_version": "1.2.0",
       "_model_name": "LayoutModel",
       "_view_count": null,
       "_view_module": "@jupyter-widgets/base",
       "_view_module_version": "1.2.0",
       "_view_name": "LayoutView",
       "align_content": null,
       "align_items": null,
       "align_self": null,
       "border": null,
       "bottom": null,
       "display": null,
       "flex": null,
       "flex_flow": null,
       "grid_area": null,
       "grid_auto_columns": null,
       "grid_auto_flow": null,
       "grid_auto_rows": null,
       "grid_column": null,
       "grid_gap": null,
       "grid_row": null,
       "grid_template_areas": null,
       "grid_template_columns": null,
       "grid_template_rows": null,
       "height": null,
       "justify_content": null,
       "justify_items": null,
       "left": null,
       "margin": null,
       "max_height": null,
       "max_width": null,
       "min_height": null,
       "min_width": null,
       "object_fit": null,
       "object_position": null,
       "order": null,
       "overflow": null,
       "overflow_x": null,
       "overflow_y": null,
       "padding": null,
       "right": null,
       "top": null,
       "visibility": null,
       "width": null
      }
     },
     "3e2928ae608a4e92887a7a9d1a5f695b": {
      "model_module": "@jupyter-widgets/base",
      "model_module_version": "1.2.0",
      "model_name": "LayoutModel",
      "state": {
       "_model_module": "@jupyter-widgets/base",
       "_model_module_version": "1.2.0",
       "_model_name": "LayoutModel",
       "_view_count": null,
       "_view_module": "@jupyter-widgets/base",
       "_view_module_version": "1.2.0",
       "_view_name": "LayoutView",
       "align_content": null,
       "align_items": null,
       "align_self": null,
       "border": null,
       "bottom": null,
       "display": null,
       "flex": null,
       "flex_flow": null,
       "grid_area": null,
       "grid_auto_columns": null,
       "grid_auto_flow": null,
       "grid_auto_rows": null,
       "grid_column": null,
       "grid_gap": null,
       "grid_row": null,
       "grid_template_areas": null,
       "grid_template_columns": null,
       "grid_template_rows": null,
       "height": null,
       "justify_content": null,
       "justify_items": null,
       "left": null,
       "margin": null,
       "max_height": null,
       "max_width": null,
       "min_height": null,
       "min_width": null,
       "object_fit": null,
       "object_position": null,
       "order": null,
       "overflow": null,
       "overflow_x": null,
       "overflow_y": null,
       "padding": null,
       "right": null,
       "top": null,
       "visibility": null,
       "width": null
      }
     },
     "3e4c38dca4974693958fa1407e8f2308": {
      "model_module": "@jupyter-widgets/base",
      "model_module_version": "1.2.0",
      "model_name": "LayoutModel",
      "state": {
       "_model_module": "@jupyter-widgets/base",
       "_model_module_version": "1.2.0",
       "_model_name": "LayoutModel",
       "_view_count": null,
       "_view_module": "@jupyter-widgets/base",
       "_view_module_version": "1.2.0",
       "_view_name": "LayoutView",
       "align_content": null,
       "align_items": null,
       "align_self": null,
       "border": null,
       "bottom": null,
       "display": null,
       "flex": null,
       "flex_flow": null,
       "grid_area": null,
       "grid_auto_columns": null,
       "grid_auto_flow": null,
       "grid_auto_rows": null,
       "grid_column": null,
       "grid_gap": null,
       "grid_row": null,
       "grid_template_areas": null,
       "grid_template_columns": null,
       "grid_template_rows": null,
       "height": null,
       "justify_content": null,
       "justify_items": null,
       "left": null,
       "margin": null,
       "max_height": null,
       "max_width": null,
       "min_height": null,
       "min_width": null,
       "object_fit": null,
       "object_position": null,
       "order": null,
       "overflow": null,
       "overflow_x": null,
       "overflow_y": null,
       "padding": null,
       "right": null,
       "top": null,
       "visibility": null,
       "width": null
      }
     },
     "3f8ea3a00dca4c5dae4e1efaf2c31089": {
      "model_module": "@jupyter-widgets/controls",
      "model_module_version": "1.5.0",
      "model_name": "DescriptionStyleModel",
      "state": {
       "_model_module": "@jupyter-widgets/controls",
       "_model_module_version": "1.5.0",
       "_model_name": "DescriptionStyleModel",
       "_view_count": null,
       "_view_module": "@jupyter-widgets/base",
       "_view_module_version": "1.2.0",
       "_view_name": "StyleView",
       "description_width": ""
      }
     },
     "4154818e625c4a688806fbf1fd45390c": {
      "model_module": "@jupyter-widgets/controls",
      "model_module_version": "1.5.0",
      "model_name": "FloatProgressModel",
      "state": {
       "_dom_classes": [],
       "_model_module": "@jupyter-widgets/controls",
       "_model_module_version": "1.5.0",
       "_model_name": "FloatProgressModel",
       "_view_count": null,
       "_view_module": "@jupyter-widgets/controls",
       "_view_module_version": "1.5.0",
       "_view_name": "ProgressView",
       "bar_style": "success",
       "description": "",
       "description_tooltip": null,
       "layout": "IPY_MODEL_e51915f148fb413b93aba7c6a32bed14",
       "max": 10.0,
       "min": 0.0,
       "orientation": "horizontal",
       "style": "IPY_MODEL_8a8c834523114f1abba105deb3bf41e6",
       "value": 10.0
      }
     },
     "42807755d84b42c0bf3511e657cb7c93": {
      "model_module": "@jupyter-widgets/controls",
      "model_module_version": "1.5.0",
      "model_name": "HBoxModel",
      "state": {
       "_dom_classes": [],
       "_model_module": "@jupyter-widgets/controls",
       "_model_module_version": "1.5.0",
       "_model_name": "HBoxModel",
       "_view_count": null,
       "_view_module": "@jupyter-widgets/controls",
       "_view_module_version": "1.5.0",
       "_view_name": "HBoxView",
       "box_style": "",
       "children": [
        "IPY_MODEL_3d69809d4643432588bad53277a67d3c",
        "IPY_MODEL_0a4c30fa26ca49bc80181fde670790f7",
        "IPY_MODEL_1d24535154e1433ab6c2a26ab79cb71d"
       ],
       "layout": "IPY_MODEL_4659c165756c46b7878d397bd23255e6"
      }
     },
     "45099678a841497ab4124f4c0c496a48": {
      "model_module": "@jupyter-widgets/controls",
      "model_module_version": "1.5.0",
      "model_name": "DescriptionStyleModel",
      "state": {
       "_model_module": "@jupyter-widgets/controls",
       "_model_module_version": "1.5.0",
       "_model_name": "DescriptionStyleModel",
       "_view_count": null,
       "_view_module": "@jupyter-widgets/base",
       "_view_module_version": "1.2.0",
       "_view_name": "StyleView",
       "description_width": ""
      }
     },
     "45ab17c6c3ee4002bf4a1e215210ffea": {
      "model_module": "@jupyter-widgets/controls",
      "model_module_version": "1.5.0",
      "model_name": "HBoxModel",
      "state": {
       "_dom_classes": [],
       "_model_module": "@jupyter-widgets/controls",
       "_model_module_version": "1.5.0",
       "_model_name": "HBoxModel",
       "_view_count": null,
       "_view_module": "@jupyter-widgets/controls",
       "_view_module_version": "1.5.0",
       "_view_name": "HBoxView",
       "box_style": "",
       "children": [
        "IPY_MODEL_52b9eafd55ad46da95c82d05495989f8",
        "IPY_MODEL_4154818e625c4a688806fbf1fd45390c",
        "IPY_MODEL_4e683d1930b1487f97de0b452f2a9534"
       ],
       "layout": "IPY_MODEL_5432cf28279b4e77b28616e61532e3be"
      }
     },
     "4621d1a255424c78b25671aec1c47d00": {
      "model_module": "@jupyter-widgets/controls",
      "model_module_version": "1.5.0",
      "model_name": "HTMLModel",
      "state": {
       "_dom_classes": [],
       "_model_module": "@jupyter-widgets/controls",
       "_model_module_version": "1.5.0",
       "_model_name": "HTMLModel",
       "_view_count": null,
       "_view_module": "@jupyter-widgets/controls",
       "_view_module_version": "1.5.0",
       "_view_name": "HTMLView",
       "description": "",
       "description_tooltip": null,
       "layout": "IPY_MODEL_3e4c38dca4974693958fa1407e8f2308",
       "placeholder": "​",
       "style": "IPY_MODEL_d0828f5784ea4aba866becdcac5838e5",
       "value": " 5/5 [00:00&lt;00:00, 14.28it/s]"
      }
     },
     "4659c165756c46b7878d397bd23255e6": {
      "model_module": "@jupyter-widgets/base",
      "model_module_version": "1.2.0",
      "model_name": "LayoutModel",
      "state": {
       "_model_module": "@jupyter-widgets/base",
       "_model_module_version": "1.2.0",
       "_model_name": "LayoutModel",
       "_view_count": null,
       "_view_module": "@jupyter-widgets/base",
       "_view_module_version": "1.2.0",
       "_view_name": "LayoutView",
       "align_content": null,
       "align_items": null,
       "align_self": null,
       "border": null,
       "bottom": null,
       "display": "inline-flex",
       "flex": null,
       "flex_flow": "row wrap",
       "grid_area": null,
       "grid_auto_columns": null,
       "grid_auto_flow": null,
       "grid_auto_rows": null,
       "grid_column": null,
       "grid_gap": null,
       "grid_row": null,
       "grid_template_areas": null,
       "grid_template_columns": null,
       "grid_template_rows": null,
       "height": null,
       "justify_content": null,
       "justify_items": null,
       "left": null,
       "margin": null,
       "max_height": null,
       "max_width": null,
       "min_height": null,
       "min_width": null,
       "object_fit": null,
       "object_position": null,
       "order": null,
       "overflow": null,
       "overflow_x": null,
       "overflow_y": null,
       "padding": null,
       "right": null,
       "top": null,
       "visibility": null,
       "width": "1000px"
      }
     },
     "46717fbc065c4e5487ecded267a50a0f": {
      "model_module": "@jupyter-widgets/base",
      "model_module_version": "1.2.0",
      "model_name": "LayoutModel",
      "state": {
       "_model_module": "@jupyter-widgets/base",
       "_model_module_version": "1.2.0",
       "_model_name": "LayoutModel",
       "_view_count": null,
       "_view_module": "@jupyter-widgets/base",
       "_view_module_version": "1.2.0",
       "_view_name": "LayoutView",
       "align_content": null,
       "align_items": null,
       "align_self": null,
       "border": null,
       "bottom": null,
       "display": null,
       "flex": null,
       "flex_flow": null,
       "grid_area": null,
       "grid_auto_columns": null,
       "grid_auto_flow": null,
       "grid_auto_rows": null,
       "grid_column": null,
       "grid_gap": null,
       "grid_row": null,
       "grid_template_areas": null,
       "grid_template_columns": null,
       "grid_template_rows": null,
       "height": null,
       "justify_content": null,
       "justify_items": null,
       "left": null,
       "margin": null,
       "max_height": null,
       "max_width": null,
       "min_height": null,
       "min_width": null,
       "object_fit": null,
       "object_position": null,
       "order": null,
       "overflow": null,
       "overflow_x": null,
       "overflow_y": null,
       "padding": null,
       "right": null,
       "top": null,
       "visibility": null,
       "width": null
      }
     },
     "46d11c65d76940baa2d5a51517383a2d": {
      "model_module": "@jupyter-widgets/base",
      "model_module_version": "1.2.0",
      "model_name": "LayoutModel",
      "state": {
       "_model_module": "@jupyter-widgets/base",
       "_model_module_version": "1.2.0",
       "_model_name": "LayoutModel",
       "_view_count": null,
       "_view_module": "@jupyter-widgets/base",
       "_view_module_version": "1.2.0",
       "_view_name": "LayoutView",
       "align_content": null,
       "align_items": null,
       "align_self": null,
       "border": null,
       "bottom": null,
       "display": null,
       "flex": null,
       "flex_flow": null,
       "grid_area": null,
       "grid_auto_columns": null,
       "grid_auto_flow": null,
       "grid_auto_rows": null,
       "grid_column": null,
       "grid_gap": null,
       "grid_row": null,
       "grid_template_areas": null,
       "grid_template_columns": null,
       "grid_template_rows": null,
       "height": null,
       "justify_content": null,
       "justify_items": null,
       "left": null,
       "margin": null,
       "max_height": null,
       "max_width": null,
       "min_height": null,
       "min_width": null,
       "object_fit": null,
       "object_position": null,
       "order": null,
       "overflow": null,
       "overflow_x": null,
       "overflow_y": null,
       "padding": null,
       "right": null,
       "top": null,
       "visibility": null,
       "width": null
      }
     },
     "47938c5b586143a8bead47e2d4d3b40d": {
      "model_module": "@jupyter-widgets/controls",
      "model_module_version": "1.5.0",
      "model_name": "HBoxModel",
      "state": {
       "_dom_classes": [],
       "_model_module": "@jupyter-widgets/controls",
       "_model_module_version": "1.5.0",
       "_model_name": "HBoxModel",
       "_view_count": null,
       "_view_module": "@jupyter-widgets/controls",
       "_view_module_version": "1.5.0",
       "_view_name": "HBoxView",
       "box_style": "",
       "children": [
        "IPY_MODEL_fe805b8d3acf44ab92b84161eb28fce4",
        "IPY_MODEL_b997393323b147289126b6f4a4c1613f",
        "IPY_MODEL_2406767cc212465590b377a2e3365123"
       ],
       "layout": "IPY_MODEL_656b8ee86aa34b449acf7f46d6765e80"
      }
     },
     "48174db3864b441aab006a4e91bddc1d": {
      "model_module": "@jupyter-widgets/controls",
      "model_module_version": "1.5.0",
      "model_name": "DescriptionStyleModel",
      "state": {
       "_model_module": "@jupyter-widgets/controls",
       "_model_module_version": "1.5.0",
       "_model_name": "DescriptionStyleModel",
       "_view_count": null,
       "_view_module": "@jupyter-widgets/base",
       "_view_module_version": "1.2.0",
       "_view_name": "StyleView",
       "description_width": ""
      }
     },
     "491328a091ba4bc1a245590bb33ea83c": {
      "model_module": "@jupyter-widgets/controls",
      "model_module_version": "1.5.0",
      "model_name": "HBoxModel",
      "state": {
       "_dom_classes": [],
       "_model_module": "@jupyter-widgets/controls",
       "_model_module_version": "1.5.0",
       "_model_name": "HBoxModel",
       "_view_count": null,
       "_view_module": "@jupyter-widgets/controls",
       "_view_module_version": "1.5.0",
       "_view_name": "HBoxView",
       "box_style": "",
       "children": [
        "IPY_MODEL_e3b220472f2245769ab929f3741150cb",
        "IPY_MODEL_b5c36d8bece74baeb1b4ad53ddb4c22a",
        "IPY_MODEL_adc5a95cb47e4fc9b2f508d5712a02f4"
       ],
       "layout": "IPY_MODEL_604aa033384c4bf2baf0e2dfa403fac3"
      }
     },
     "49abb1a9a936483c840fe23c99a1c2c2": {
      "model_module": "@jupyter-widgets/controls",
      "model_module_version": "1.5.0",
      "model_name": "ProgressStyleModel",
      "state": {
       "_model_module": "@jupyter-widgets/controls",
       "_model_module_version": "1.5.0",
       "_model_name": "ProgressStyleModel",
       "_view_count": null,
       "_view_module": "@jupyter-widgets/base",
       "_view_module_version": "1.2.0",
       "_view_name": "StyleView",
       "bar_color": null,
       "description_width": ""
      }
     },
     "4ad98d4bf4374cee9b0b7e03a5a32863": {
      "model_module": "@jupyter-widgets/base",
      "model_module_version": "1.2.0",
      "model_name": "LayoutModel",
      "state": {
       "_model_module": "@jupyter-widgets/base",
       "_model_module_version": "1.2.0",
       "_model_name": "LayoutModel",
       "_view_count": null,
       "_view_module": "@jupyter-widgets/base",
       "_view_module_version": "1.2.0",
       "_view_name": "LayoutView",
       "align_content": null,
       "align_items": null,
       "align_self": null,
       "border": null,
       "bottom": null,
       "display": null,
       "flex": null,
       "flex_flow": null,
       "grid_area": null,
       "grid_auto_columns": null,
       "grid_auto_flow": null,
       "grid_auto_rows": null,
       "grid_column": null,
       "grid_gap": null,
       "grid_row": null,
       "grid_template_areas": null,
       "grid_template_columns": null,
       "grid_template_rows": null,
       "height": null,
       "justify_content": null,
       "justify_items": null,
       "left": null,
       "margin": null,
       "max_height": null,
       "max_width": null,
       "min_height": null,
       "min_width": null,
       "object_fit": null,
       "object_position": null,
       "order": null,
       "overflow": null,
       "overflow_x": null,
       "overflow_y": null,
       "padding": null,
       "right": null,
       "top": null,
       "visibility": null,
       "width": null
      }
     },
     "4e683d1930b1487f97de0b452f2a9534": {
      "model_module": "@jupyter-widgets/controls",
      "model_module_version": "1.5.0",
      "model_name": "HTMLModel",
      "state": {
       "_dom_classes": [],
       "_model_module": "@jupyter-widgets/controls",
       "_model_module_version": "1.5.0",
       "_model_name": "HTMLModel",
       "_view_count": null,
       "_view_module": "@jupyter-widgets/controls",
       "_view_module_version": "1.5.0",
       "_view_name": "HTMLView",
       "description": "",
       "description_tooltip": null,
       "layout": "IPY_MODEL_4ad98d4bf4374cee9b0b7e03a5a32863",
       "placeholder": "​",
       "style": "IPY_MODEL_e4951116631a421898c39b4f4dd86f0f",
       "value": " 10/10 [00:00&lt;00:00, 15.83it/s]"
      }
     },
     "51ee8f5ebd074563b4bcc6d51e982c33": {
      "model_module": "@jupyter-widgets/controls",
      "model_module_version": "1.5.0",
      "model_name": "DescriptionStyleModel",
      "state": {
       "_model_module": "@jupyter-widgets/controls",
       "_model_module_version": "1.5.0",
       "_model_name": "DescriptionStyleModel",
       "_view_count": null,
       "_view_module": "@jupyter-widgets/base",
       "_view_module_version": "1.2.0",
       "_view_name": "StyleView",
       "description_width": ""
      }
     },
     "52b9eafd55ad46da95c82d05495989f8": {
      "model_module": "@jupyter-widgets/controls",
      "model_module_version": "1.5.0",
      "model_name": "HTMLModel",
      "state": {
       "_dom_classes": [],
       "_model_module": "@jupyter-widgets/controls",
       "_model_module_version": "1.5.0",
       "_model_name": "HTMLModel",
       "_view_count": null,
       "_view_module": "@jupyter-widgets/controls",
       "_view_module_version": "1.5.0",
       "_view_name": "HTMLView",
       "description": "",
       "description_tooltip": null,
       "layout": "IPY_MODEL_8a70abbc84304e81b55d2d0bc402434e",
       "placeholder": "​",
       "style": "IPY_MODEL_0a740fddce8642c9b6995117d700717b",
       "value": "100%"
      }
     },
     "53aad9d8692c4ce6a6447fa4a4ad5571": {
      "model_module": "@jupyter-widgets/controls",
      "model_module_version": "1.5.0",
      "model_name": "HBoxModel",
      "state": {
       "_dom_classes": [],
       "_model_module": "@jupyter-widgets/controls",
       "_model_module_version": "1.5.0",
       "_model_name": "HBoxModel",
       "_view_count": null,
       "_view_module": "@jupyter-widgets/controls",
       "_view_module_version": "1.5.0",
       "_view_name": "HBoxView",
       "box_style": "",
       "children": [
        "IPY_MODEL_01d13449e98a4668ad42c883f2c2f607",
        "IPY_MODEL_2fe5107540f548bb86f9c8ce30b3b3cb",
        "IPY_MODEL_6e7e7a968fc44f16856a4d61a064c8e1"
       ],
       "layout": "IPY_MODEL_97e0d8eeaa2846078d5d244dd5bb48ed"
      }
     },
     "5432cf28279b4e77b28616e61532e3be": {
      "model_module": "@jupyter-widgets/base",
      "model_module_version": "1.2.0",
      "model_name": "LayoutModel",
      "state": {
       "_model_module": "@jupyter-widgets/base",
       "_model_module_version": "1.2.0",
       "_model_name": "LayoutModel",
       "_view_count": null,
       "_view_module": "@jupyter-widgets/base",
       "_view_module_version": "1.2.0",
       "_view_name": "LayoutView",
       "align_content": null,
       "align_items": null,
       "align_self": null,
       "border": null,
       "bottom": null,
       "display": null,
       "flex": null,
       "flex_flow": null,
       "grid_area": null,
       "grid_auto_columns": null,
       "grid_auto_flow": null,
       "grid_auto_rows": null,
       "grid_column": null,
       "grid_gap": null,
       "grid_row": null,
       "grid_template_areas": null,
       "grid_template_columns": null,
       "grid_template_rows": null,
       "height": null,
       "justify_content": null,
       "justify_items": null,
       "left": null,
       "margin": null,
       "max_height": null,
       "max_width": null,
       "min_height": null,
       "min_width": null,
       "object_fit": null,
       "object_position": null,
       "order": null,
       "overflow": null,
       "overflow_x": null,
       "overflow_y": null,
       "padding": null,
       "right": null,
       "top": null,
       "visibility": null,
       "width": null
      }
     },
     "54c7b4d3526e4a43b206d8382bd461d1": {
      "model_module": "@jupyter-widgets/controls",
      "model_module_version": "1.5.0",
      "model_name": "DescriptionStyleModel",
      "state": {
       "_model_module": "@jupyter-widgets/controls",
       "_model_module_version": "1.5.0",
       "_model_name": "DescriptionStyleModel",
       "_view_count": null,
       "_view_module": "@jupyter-widgets/base",
       "_view_module_version": "1.2.0",
       "_view_name": "StyleView",
       "description_width": ""
      }
     },
     "5b3bbc092ef1483b97c28788cf7b50f6": {
      "model_module": "@jupyter-widgets/controls",
      "model_module_version": "1.5.0",
      "model_name": "FloatProgressModel",
      "state": {
       "_dom_classes": [],
       "_model_module": "@jupyter-widgets/controls",
       "_model_module_version": "1.5.0",
       "_model_name": "FloatProgressModel",
       "_view_count": null,
       "_view_module": "@jupyter-widgets/controls",
       "_view_module_version": "1.5.0",
       "_view_name": "ProgressView",
       "bar_style": "success",
       "description": "",
       "description_tooltip": null,
       "layout": "IPY_MODEL_679b3efa68a74861aed80befbf9dd8f2",
       "max": 5.0,
       "min": 0.0,
       "orientation": "horizontal",
       "style": "IPY_MODEL_0efb51ecd0044c3e9e0e2ec55839613b",
       "value": 5.0
      }
     },
     "5f4de36f13934293a0542d472922bb57": {
      "model_module": "@jupyter-widgets/base",
      "model_module_version": "1.2.0",
      "model_name": "LayoutModel",
      "state": {
       "_model_module": "@jupyter-widgets/base",
       "_model_module_version": "1.2.0",
       "_model_name": "LayoutModel",
       "_view_count": null,
       "_view_module": "@jupyter-widgets/base",
       "_view_module_version": "1.2.0",
       "_view_name": "LayoutView",
       "align_content": null,
       "align_items": null,
       "align_self": null,
       "border": null,
       "bottom": null,
       "display": null,
       "flex": null,
       "flex_flow": null,
       "grid_area": null,
       "grid_auto_columns": null,
       "grid_auto_flow": null,
       "grid_auto_rows": null,
       "grid_column": null,
       "grid_gap": null,
       "grid_row": null,
       "grid_template_areas": null,
       "grid_template_columns": null,
       "grid_template_rows": null,
       "height": null,
       "justify_content": null,
       "justify_items": null,
       "left": null,
       "margin": null,
       "max_height": null,
       "max_width": null,
       "min_height": null,
       "min_width": null,
       "object_fit": null,
       "object_position": null,
       "order": null,
       "overflow": null,
       "overflow_x": null,
       "overflow_y": null,
       "padding": null,
       "right": null,
       "top": null,
       "visibility": null,
       "width": null
      }
     },
     "5f876019fda6478cbedcc191c7f0d09e": {
      "model_module": "@jupyter-widgets/controls",
      "model_module_version": "1.5.0",
      "model_name": "FloatProgressModel",
      "state": {
       "_dom_classes": [],
       "_model_module": "@jupyter-widgets/controls",
       "_model_module_version": "1.5.0",
       "_model_name": "FloatProgressModel",
       "_view_count": null,
       "_view_module": "@jupyter-widgets/controls",
       "_view_module_version": "1.5.0",
       "_view_name": "ProgressView",
       "bar_style": "success",
       "description": "",
       "description_tooltip": null,
       "layout": "IPY_MODEL_0cfa82bb21624bfe8d2935b0cf4c66ec",
       "max": 5.0,
       "min": 0.0,
       "orientation": "horizontal",
       "style": "IPY_MODEL_fe3ba3c8120c41fca9bf5c9b06f6585c",
       "value": 5.0
      }
     },
     "5febb43ebf5340ef9252edfd83445490": {
      "model_module": "@jupyter-widgets/base",
      "model_module_version": "1.2.0",
      "model_name": "LayoutModel",
      "state": {
       "_model_module": "@jupyter-widgets/base",
       "_model_module_version": "1.2.0",
       "_model_name": "LayoutModel",
       "_view_count": null,
       "_view_module": "@jupyter-widgets/base",
       "_view_module_version": "1.2.0",
       "_view_name": "LayoutView",
       "align_content": null,
       "align_items": null,
       "align_self": null,
       "border": null,
       "bottom": null,
       "display": null,
       "flex": null,
       "flex_flow": null,
       "grid_area": null,
       "grid_auto_columns": null,
       "grid_auto_flow": null,
       "grid_auto_rows": null,
       "grid_column": null,
       "grid_gap": null,
       "grid_row": null,
       "grid_template_areas": null,
       "grid_template_columns": null,
       "grid_template_rows": null,
       "height": null,
       "justify_content": null,
       "justify_items": null,
       "left": null,
       "margin": null,
       "max_height": null,
       "max_width": null,
       "min_height": null,
       "min_width": null,
       "object_fit": null,
       "object_position": null,
       "order": null,
       "overflow": null,
       "overflow_x": null,
       "overflow_y": null,
       "padding": null,
       "right": null,
       "top": null,
       "visibility": null,
       "width": null
      }
     },
     "602fb4dbb2e54983b305830ec8e41b9e": {
      "model_module": "@jupyter-widgets/controls",
      "model_module_version": "1.5.0",
      "model_name": "HTMLModel",
      "state": {
       "_dom_classes": [],
       "_model_module": "@jupyter-widgets/controls",
       "_model_module_version": "1.5.0",
       "_model_name": "HTMLModel",
       "_view_count": null,
       "_view_module": "@jupyter-widgets/controls",
       "_view_module_version": "1.5.0",
       "_view_name": "HTMLView",
       "description": "",
       "description_tooltip": null,
       "layout": "IPY_MODEL_153cd35bee024a29a0ad24cc4783a195",
       "placeholder": "​",
       "style": "IPY_MODEL_98f8714f5174418f8367ffdb30373b80",
       "value": " 680/680 [00:04&lt;00:00, 182.42it/s]"
      }
     },
     "604aa033384c4bf2baf0e2dfa403fac3": {
      "model_module": "@jupyter-widgets/base",
      "model_module_version": "1.2.0",
      "model_name": "LayoutModel",
      "state": {
       "_model_module": "@jupyter-widgets/base",
       "_model_module_version": "1.2.0",
       "_model_name": "LayoutModel",
       "_view_count": null,
       "_view_module": "@jupyter-widgets/base",
       "_view_module_version": "1.2.0",
       "_view_name": "LayoutView",
       "align_content": null,
       "align_items": null,
       "align_self": null,
       "border": null,
       "bottom": null,
       "display": null,
       "flex": null,
       "flex_flow": null,
       "grid_area": null,
       "grid_auto_columns": null,
       "grid_auto_flow": null,
       "grid_auto_rows": null,
       "grid_column": null,
       "grid_gap": null,
       "grid_row": null,
       "grid_template_areas": null,
       "grid_template_columns": null,
       "grid_template_rows": null,
       "height": null,
       "justify_content": null,
       "justify_items": null,
       "left": null,
       "margin": null,
       "max_height": null,
       "max_width": null,
       "min_height": null,
       "min_width": null,
       "object_fit": null,
       "object_position": null,
       "order": null,
       "overflow": null,
       "overflow_x": null,
       "overflow_y": null,
       "padding": null,
       "right": null,
       "top": null,
       "visibility": null,
       "width": null
      }
     },
     "63d0b17216fc42919b431e4a992eaf34": {
      "model_module": "@jupyter-widgets/controls",
      "model_module_version": "1.5.0",
      "model_name": "ProgressStyleModel",
      "state": {
       "_model_module": "@jupyter-widgets/controls",
       "_model_module_version": "1.5.0",
       "_model_name": "ProgressStyleModel",
       "_view_count": null,
       "_view_module": "@jupyter-widgets/base",
       "_view_module_version": "1.2.0",
       "_view_name": "StyleView",
       "bar_color": null,
       "description_width": ""
      }
     },
     "656b8ee86aa34b449acf7f46d6765e80": {
      "model_module": "@jupyter-widgets/base",
      "model_module_version": "1.2.0",
      "model_name": "LayoutModel",
      "state": {
       "_model_module": "@jupyter-widgets/base",
       "_model_module_version": "1.2.0",
       "_model_name": "LayoutModel",
       "_view_count": null,
       "_view_module": "@jupyter-widgets/base",
       "_view_module_version": "1.2.0",
       "_view_name": "LayoutView",
       "align_content": null,
       "align_items": null,
       "align_self": null,
       "border": null,
       "bottom": null,
       "display": null,
       "flex": null,
       "flex_flow": null,
       "grid_area": null,
       "grid_auto_columns": null,
       "grid_auto_flow": null,
       "grid_auto_rows": null,
       "grid_column": null,
       "grid_gap": null,
       "grid_row": null,
       "grid_template_areas": null,
       "grid_template_columns": null,
       "grid_template_rows": null,
       "height": null,
       "justify_content": null,
       "justify_items": null,
       "left": null,
       "margin": null,
       "max_height": null,
       "max_width": null,
       "min_height": null,
       "min_width": null,
       "object_fit": null,
       "object_position": null,
       "order": null,
       "overflow": null,
       "overflow_x": null,
       "overflow_y": null,
       "padding": null,
       "right": null,
       "top": null,
       "visibility": null,
       "width": null
      }
     },
     "65a4a874f3f6483caf19178d963fcabd": {
      "model_module": "@jupyter-widgets/controls",
      "model_module_version": "1.5.0",
      "model_name": "HBoxModel",
      "state": {
       "_dom_classes": [],
       "_model_module": "@jupyter-widgets/controls",
       "_model_module_version": "1.5.0",
       "_model_name": "HBoxModel",
       "_view_count": null,
       "_view_module": "@jupyter-widgets/controls",
       "_view_module_version": "1.5.0",
       "_view_name": "HBoxView",
       "box_style": "",
       "children": [
        "IPY_MODEL_f2a8087ffdba463190fd6bb3d493b41b",
        "IPY_MODEL_b78c1dbf38f846de9e89a0e0ff4aa670",
        "IPY_MODEL_155c7bb7d74f482fba749b0398bed3b3"
       ],
       "layout": "IPY_MODEL_3573373c41504e9baa8234b4c5f562d9"
      }
     },
     "679b3efa68a74861aed80befbf9dd8f2": {
      "model_module": "@jupyter-widgets/base",
      "model_module_version": "1.2.0",
      "model_name": "LayoutModel",
      "state": {
       "_model_module": "@jupyter-widgets/base",
       "_model_module_version": "1.2.0",
       "_model_name": "LayoutModel",
       "_view_count": null,
       "_view_module": "@jupyter-widgets/base",
       "_view_module_version": "1.2.0",
       "_view_name": "LayoutView",
       "align_content": null,
       "align_items": null,
       "align_self": null,
       "border": null,
       "bottom": null,
       "display": null,
       "flex": null,
       "flex_flow": null,
       "grid_area": null,
       "grid_auto_columns": null,
       "grid_auto_flow": null,
       "grid_auto_rows": null,
       "grid_column": null,
       "grid_gap": null,
       "grid_row": null,
       "grid_template_areas": null,
       "grid_template_columns": null,
       "grid_template_rows": null,
       "height": null,
       "justify_content": null,
       "justify_items": null,
       "left": null,
       "margin": null,
       "max_height": null,
       "max_width": null,
       "min_height": null,
       "min_width": null,
       "object_fit": null,
       "object_position": null,
       "order": null,
       "overflow": null,
       "overflow_x": null,
       "overflow_y": null,
       "padding": null,
       "right": null,
       "top": null,
       "visibility": null,
       "width": null
      }
     },
     "693a566a64694ea6a533c79fda00b9f4": {
      "model_module": "@jupyter-widgets/controls",
      "model_module_version": "1.5.0",
      "model_name": "HBoxModel",
      "state": {
       "_dom_classes": [],
       "_model_module": "@jupyter-widgets/controls",
       "_model_module_version": "1.5.0",
       "_model_name": "HBoxModel",
       "_view_count": null,
       "_view_module": "@jupyter-widgets/controls",
       "_view_module_version": "1.5.0",
       "_view_name": "HBoxView",
       "box_style": "",
       "children": [
        "IPY_MODEL_e171e2253af949ed893e6e9b4ac9637b",
        "IPY_MODEL_8d106a8b13024311a28fe67c6bd1afe2",
        "IPY_MODEL_2df82a38585641e6abc841bcd305d5dd"
       ],
       "layout": "IPY_MODEL_83b11338aeff44bb99b153994ac730ce"
      }
     },
     "6b475becc1c74101bd7765fcc0a9fc1f": {
      "model_module": "@jupyter-widgets/base",
      "model_module_version": "1.2.0",
      "model_name": "LayoutModel",
      "state": {
       "_model_module": "@jupyter-widgets/base",
       "_model_module_version": "1.2.0",
       "_model_name": "LayoutModel",
       "_view_count": null,
       "_view_module": "@jupyter-widgets/base",
       "_view_module_version": "1.2.0",
       "_view_name": "LayoutView",
       "align_content": null,
       "align_items": null,
       "align_self": null,
       "border": null,
       "bottom": null,
       "display": null,
       "flex": null,
       "flex_flow": null,
       "grid_area": null,
       "grid_auto_columns": null,
       "grid_auto_flow": null,
       "grid_auto_rows": null,
       "grid_column": null,
       "grid_gap": null,
       "grid_row": null,
       "grid_template_areas": null,
       "grid_template_columns": null,
       "grid_template_rows": null,
       "height": null,
       "justify_content": null,
       "justify_items": null,
       "left": null,
       "margin": null,
       "max_height": null,
       "max_width": null,
       "min_height": null,
       "min_width": null,
       "object_fit": null,
       "object_position": null,
       "order": null,
       "overflow": null,
       "overflow_x": null,
       "overflow_y": null,
       "padding": null,
       "right": null,
       "top": null,
       "visibility": null,
       "width": null
      }
     },
     "6c16865a725143ab8822486093bd18f4": {
      "model_module": "@jupyter-widgets/controls",
      "model_module_version": "1.5.0",
      "model_name": "HBoxModel",
      "state": {
       "_dom_classes": [],
       "_model_module": "@jupyter-widgets/controls",
       "_model_module_version": "1.5.0",
       "_model_name": "HBoxModel",
       "_view_count": null,
       "_view_module": "@jupyter-widgets/controls",
       "_view_module_version": "1.5.0",
       "_view_name": "HBoxView",
       "box_style": "",
       "children": [
        "IPY_MODEL_14e307979cb841a49dbdf3db87ac9298",
        "IPY_MODEL_5f876019fda6478cbedcc191c7f0d09e",
        "IPY_MODEL_79336f744e654bb597b92028494667c9"
       ],
       "layout": "IPY_MODEL_aff7bbf3593240509cc3057082122a78"
      }
     },
     "6d3c2fb714324c0e9c82426147413792": {
      "model_module": "@jupyter-widgets/base",
      "model_module_version": "1.2.0",
      "model_name": "LayoutModel",
      "state": {
       "_model_module": "@jupyter-widgets/base",
       "_model_module_version": "1.2.0",
       "_model_name": "LayoutModel",
       "_view_count": null,
       "_view_module": "@jupyter-widgets/base",
       "_view_module_version": "1.2.0",
       "_view_name": "LayoutView",
       "align_content": null,
       "align_items": null,
       "align_self": null,
       "border": null,
       "bottom": null,
       "display": null,
       "flex": null,
       "flex_flow": null,
       "grid_area": null,
       "grid_auto_columns": null,
       "grid_auto_flow": null,
       "grid_auto_rows": null,
       "grid_column": null,
       "grid_gap": null,
       "grid_row": null,
       "grid_template_areas": null,
       "grid_template_columns": null,
       "grid_template_rows": null,
       "height": null,
       "justify_content": null,
       "justify_items": null,
       "left": null,
       "margin": null,
       "max_height": null,
       "max_width": null,
       "min_height": null,
       "min_width": null,
       "object_fit": null,
       "object_position": null,
       "order": null,
       "overflow": null,
       "overflow_x": null,
       "overflow_y": null,
       "padding": null,
       "right": null,
       "top": null,
       "visibility": null,
       "width": null
      }
     },
     "6e7e7a968fc44f16856a4d61a064c8e1": {
      "model_module": "@jupyter-widgets/controls",
      "model_module_version": "1.5.0",
      "model_name": "HTMLModel",
      "state": {
       "_dom_classes": [],
       "_model_module": "@jupyter-widgets/controls",
       "_model_module_version": "1.5.0",
       "_model_name": "HTMLModel",
       "_view_count": null,
       "_view_module": "@jupyter-widgets/controls",
       "_view_module_version": "1.5.0",
       "_view_name": "HTMLView",
       "description": "",
       "description_tooltip": null,
       "layout": "IPY_MODEL_5febb43ebf5340ef9252edfd83445490",
       "placeholder": "​",
       "style": "IPY_MODEL_af62a6704c6149bdb5550f2336241d6a",
       "value": " 10/10 [00:00&lt;00:00, 113.49it/s]"
      }
     },
     "732ab5cf6ac8489ca804250546e91c14": {
      "model_module": "@jupyter-widgets/controls",
      "model_module_version": "1.5.0",
      "model_name": "HTMLModel",
      "state": {
       "_dom_classes": [],
       "_model_module": "@jupyter-widgets/controls",
       "_model_module_version": "1.5.0",
       "_model_name": "HTMLModel",
       "_view_count": null,
       "_view_module": "@jupyter-widgets/controls",
       "_view_module_version": "1.5.0",
       "_view_name": "HTMLView",
       "description": "",
       "description_tooltip": null,
       "layout": "IPY_MODEL_10cca630559e4d79bf298ead51b5de8c",
       "placeholder": "​",
       "style": "IPY_MODEL_d55163eec4074e1c95c197f5fef59156",
       "value": " | loss 0.776 Δ 0.001 :  ✓: 100%"
      }
     },
     "739e0d73d5ef40acbab9f41d3e52df34": {
      "model_module": "@jupyter-widgets/controls",
      "model_module_version": "1.5.0",
      "model_name": "ProgressStyleModel",
      "state": {
       "_model_module": "@jupyter-widgets/controls",
       "_model_module_version": "1.5.0",
       "_model_name": "ProgressStyleModel",
       "_view_count": null,
       "_view_module": "@jupyter-widgets/base",
       "_view_module_version": "1.2.0",
       "_view_name": "StyleView",
       "bar_color": null,
       "description_width": ""
      }
     },
     "73c3a257fd844b75a63573e15979eb7d": {
      "model_module": "@jupyter-widgets/controls",
      "model_module_version": "1.5.0",
      "model_name": "HBoxModel",
      "state": {
       "_dom_classes": [],
       "_model_module": "@jupyter-widgets/controls",
       "_model_module_version": "1.5.0",
       "_model_name": "HBoxModel",
       "_view_count": null,
       "_view_module": "@jupyter-widgets/controls",
       "_view_module_version": "1.5.0",
       "_view_name": "HBoxView",
       "box_style": "",
       "children": [
        "IPY_MODEL_732ab5cf6ac8489ca804250546e91c14",
        "IPY_MODEL_00aa1515cc7c4b83bae66d9502663e69",
        "IPY_MODEL_12b71f1a09a04855b0fad2d1e9255b12"
       ],
       "layout": "IPY_MODEL_f20aaf5cb772499aa832ab390c5e3774"
      }
     },
     "750bc955007d42fda414d79779b92c76": {
      "model_module": "@jupyter-widgets/controls",
      "model_module_version": "1.5.0",
      "model_name": "HTMLModel",
      "state": {
       "_dom_classes": [],
       "_model_module": "@jupyter-widgets/controls",
       "_model_module_version": "1.5.0",
       "_model_name": "HTMLModel",
       "_view_count": null,
       "_view_module": "@jupyter-widgets/controls",
       "_view_module_version": "1.5.0",
       "_view_name": "HTMLView",
       "description": "",
       "description_tooltip": null,
       "layout": "IPY_MODEL_b0c5a69993424aaca927c85c9005a877",
       "placeholder": "​",
       "style": "IPY_MODEL_fac9efd1190f44cb94f8ea11e003a6bb",
       "value": "100%"
      }
     },
     "7593aeae2e824233aa7c5cbc5e26a34c": {
      "model_module": "@jupyter-widgets/base",
      "model_module_version": "1.2.0",
      "model_name": "LayoutModel",
      "state": {
       "_model_module": "@jupyter-widgets/base",
       "_model_module_version": "1.2.0",
       "_model_name": "LayoutModel",
       "_view_count": null,
       "_view_module": "@jupyter-widgets/base",
       "_view_module_version": "1.2.0",
       "_view_name": "LayoutView",
       "align_content": null,
       "align_items": null,
       "align_self": null,
       "border": null,
       "bottom": null,
       "display": null,
       "flex": null,
       "flex_flow": null,
       "grid_area": null,
       "grid_auto_columns": null,
       "grid_auto_flow": null,
       "grid_auto_rows": null,
       "grid_column": null,
       "grid_gap": null,
       "grid_row": null,
       "grid_template_areas": null,
       "grid_template_columns": null,
       "grid_template_rows": null,
       "height": null,
       "justify_content": null,
       "justify_items": null,
       "left": null,
       "margin": null,
       "max_height": null,
       "max_width": null,
       "min_height": null,
       "min_width": null,
       "object_fit": null,
       "object_position": null,
       "order": null,
       "overflow": null,
       "overflow_x": null,
       "overflow_y": null,
       "padding": null,
       "right": null,
       "top": null,
       "visibility": null,
       "width": null
      }
     },
     "760f9c1edac54e5fa9639904ac576780": {
      "model_module": "@jupyter-widgets/controls",
      "model_module_version": "1.5.0",
      "model_name": "DescriptionStyleModel",
      "state": {
       "_model_module": "@jupyter-widgets/controls",
       "_model_module_version": "1.5.0",
       "_model_name": "DescriptionStyleModel",
       "_view_count": null,
       "_view_module": "@jupyter-widgets/base",
       "_view_module_version": "1.2.0",
       "_view_name": "StyleView",
       "description_width": ""
      }
     },
     "778f0ea0c5ba46d5abd719766248a15f": {
      "model_module": "@jupyter-widgets/controls",
      "model_module_version": "1.5.0",
      "model_name": "DescriptionStyleModel",
      "state": {
       "_model_module": "@jupyter-widgets/controls",
       "_model_module_version": "1.5.0",
       "_model_name": "DescriptionStyleModel",
       "_view_count": null,
       "_view_module": "@jupyter-widgets/base",
       "_view_module_version": "1.2.0",
       "_view_name": "StyleView",
       "description_width": ""
      }
     },
     "786cc633d7e0493c8e55bcacfba4e6c6": {
      "model_module": "@jupyter-widgets/base",
      "model_module_version": "1.2.0",
      "model_name": "LayoutModel",
      "state": {
       "_model_module": "@jupyter-widgets/base",
       "_model_module_version": "1.2.0",
       "_model_name": "LayoutModel",
       "_view_count": null,
       "_view_module": "@jupyter-widgets/base",
       "_view_module_version": "1.2.0",
       "_view_name": "LayoutView",
       "align_content": null,
       "align_items": null,
       "align_self": null,
       "border": null,
       "bottom": null,
       "display": null,
       "flex": null,
       "flex_flow": null,
       "grid_area": null,
       "grid_auto_columns": null,
       "grid_auto_flow": null,
       "grid_auto_rows": null,
       "grid_column": null,
       "grid_gap": null,
       "grid_row": null,
       "grid_template_areas": null,
       "grid_template_columns": null,
       "grid_template_rows": null,
       "height": null,
       "justify_content": null,
       "justify_items": null,
       "left": null,
       "margin": null,
       "max_height": null,
       "max_width": null,
       "min_height": null,
       "min_width": null,
       "object_fit": null,
       "object_position": null,
       "order": null,
       "overflow": null,
       "overflow_x": null,
       "overflow_y": null,
       "padding": null,
       "right": null,
       "top": null,
       "visibility": null,
       "width": null
      }
     },
     "79336f744e654bb597b92028494667c9": {
      "model_module": "@jupyter-widgets/controls",
      "model_module_version": "1.5.0",
      "model_name": "HTMLModel",
      "state": {
       "_dom_classes": [],
       "_model_module": "@jupyter-widgets/controls",
       "_model_module_version": "1.5.0",
       "_model_name": "HTMLModel",
       "_view_count": null,
       "_view_module": "@jupyter-widgets/controls",
       "_view_module_version": "1.5.0",
       "_view_name": "HTMLView",
       "description": "",
       "description_tooltip": null,
       "layout": "IPY_MODEL_3e2928ae608a4e92887a7a9d1a5f695b",
       "placeholder": "​",
       "style": "IPY_MODEL_45099678a841497ab4124f4c0c496a48",
       "value": " 5/5 [00:00&lt;00:00, 14.27it/s]"
      }
     },
     "7e1fdfe80c5947e2ade89dace3c2a836": {
      "model_module": "@jupyter-widgets/base",
      "model_module_version": "1.2.0",
      "model_name": "LayoutModel",
      "state": {
       "_model_module": "@jupyter-widgets/base",
       "_model_module_version": "1.2.0",
       "_model_name": "LayoutModel",
       "_view_count": null,
       "_view_module": "@jupyter-widgets/base",
       "_view_module_version": "1.2.0",
       "_view_name": "LayoutView",
       "align_content": null,
       "align_items": null,
       "align_self": null,
       "border": null,
       "bottom": null,
       "display": null,
       "flex": null,
       "flex_flow": null,
       "grid_area": null,
       "grid_auto_columns": null,
       "grid_auto_flow": null,
       "grid_auto_rows": null,
       "grid_column": null,
       "grid_gap": null,
       "grid_row": null,
       "grid_template_areas": null,
       "grid_template_columns": null,
       "grid_template_rows": null,
       "height": null,
       "justify_content": null,
       "justify_items": null,
       "left": null,
       "margin": null,
       "max_height": null,
       "max_width": null,
       "min_height": null,
       "min_width": null,
       "object_fit": null,
       "object_position": null,
       "order": null,
       "overflow": null,
       "overflow_x": null,
       "overflow_y": null,
       "padding": null,
       "right": null,
       "top": null,
       "visibility": null,
       "width": null
      }
     },
     "7e5ddf90f42b45e3b2aee086a37820a5": {
      "model_module": "@jupyter-widgets/base",
      "model_module_version": "1.2.0",
      "model_name": "LayoutModel",
      "state": {
       "_model_module": "@jupyter-widgets/base",
       "_model_module_version": "1.2.0",
       "_model_name": "LayoutModel",
       "_view_count": null,
       "_view_module": "@jupyter-widgets/base",
       "_view_module_version": "1.2.0",
       "_view_name": "LayoutView",
       "align_content": null,
       "align_items": null,
       "align_self": null,
       "border": null,
       "bottom": null,
       "display": null,
       "flex": null,
       "flex_flow": null,
       "grid_area": null,
       "grid_auto_columns": null,
       "grid_auto_flow": null,
       "grid_auto_rows": null,
       "grid_column": null,
       "grid_gap": null,
       "grid_row": null,
       "grid_template_areas": null,
       "grid_template_columns": null,
       "grid_template_rows": null,
       "height": null,
       "justify_content": null,
       "justify_items": null,
       "left": null,
       "margin": null,
       "max_height": null,
       "max_width": null,
       "min_height": null,
       "min_width": null,
       "object_fit": null,
       "object_position": null,
       "order": null,
       "overflow": null,
       "overflow_x": null,
       "overflow_y": null,
       "padding": null,
       "right": null,
       "top": null,
       "visibility": null,
       "width": null
      }
     },
     "80aa6f7361df4dda924c9d4d696b75db": {
      "model_module": "@jupyter-widgets/controls",
      "model_module_version": "1.5.0",
      "model_name": "DescriptionStyleModel",
      "state": {
       "_model_module": "@jupyter-widgets/controls",
       "_model_module_version": "1.5.0",
       "_model_name": "DescriptionStyleModel",
       "_view_count": null,
       "_view_module": "@jupyter-widgets/base",
       "_view_module_version": "1.2.0",
       "_view_name": "StyleView",
       "description_width": ""
      }
     },
     "832b591149f548aa8190dccf181a124e": {
      "model_module": "@jupyter-widgets/controls",
      "model_module_version": "1.5.0",
      "model_name": "DescriptionStyleModel",
      "state": {
       "_model_module": "@jupyter-widgets/controls",
       "_model_module_version": "1.5.0",
       "_model_name": "DescriptionStyleModel",
       "_view_count": null,
       "_view_module": "@jupyter-widgets/base",
       "_view_module_version": "1.2.0",
       "_view_name": "StyleView",
       "description_width": ""
      }
     },
     "83b11338aeff44bb99b153994ac730ce": {
      "model_module": "@jupyter-widgets/base",
      "model_module_version": "1.2.0",
      "model_name": "LayoutModel",
      "state": {
       "_model_module": "@jupyter-widgets/base",
       "_model_module_version": "1.2.0",
       "_model_name": "LayoutModel",
       "_view_count": null,
       "_view_module": "@jupyter-widgets/base",
       "_view_module_version": "1.2.0",
       "_view_name": "LayoutView",
       "align_content": null,
       "align_items": null,
       "align_self": null,
       "border": null,
       "bottom": null,
       "display": null,
       "flex": null,
       "flex_flow": null,
       "grid_area": null,
       "grid_auto_columns": null,
       "grid_auto_flow": null,
       "grid_auto_rows": null,
       "grid_column": null,
       "grid_gap": null,
       "grid_row": null,
       "grid_template_areas": null,
       "grid_template_columns": null,
       "grid_template_rows": null,
       "height": null,
       "justify_content": null,
       "justify_items": null,
       "left": null,
       "margin": null,
       "max_height": null,
       "max_width": null,
       "min_height": null,
       "min_width": null,
       "object_fit": null,
       "object_position": null,
       "order": null,
       "overflow": null,
       "overflow_x": null,
       "overflow_y": null,
       "padding": null,
       "right": null,
       "top": null,
       "visibility": null,
       "width": null
      }
     },
     "8402a6d72701444a815c6bb7ca396f3e": {
      "model_module": "@jupyter-widgets/controls",
      "model_module_version": "1.5.0",
      "model_name": "DescriptionStyleModel",
      "state": {
       "_model_module": "@jupyter-widgets/controls",
       "_model_module_version": "1.5.0",
       "_model_name": "DescriptionStyleModel",
       "_view_count": null,
       "_view_module": "@jupyter-widgets/base",
       "_view_module_version": "1.2.0",
       "_view_name": "StyleView",
       "description_width": ""
      }
     },
     "861df90e5b73425d97a8f4b14fc2d516": {
      "model_module": "@jupyter-widgets/controls",
      "model_module_version": "1.5.0",
      "model_name": "HBoxModel",
      "state": {
       "_dom_classes": [],
       "_model_module": "@jupyter-widgets/controls",
       "_model_module_version": "1.5.0",
       "_model_name": "HBoxModel",
       "_view_count": null,
       "_view_module": "@jupyter-widgets/controls",
       "_view_module_version": "1.5.0",
       "_view_name": "HBoxView",
       "box_style": "",
       "children": [
        "IPY_MODEL_750bc955007d42fda414d79779b92c76",
        "IPY_MODEL_5b3bbc092ef1483b97c28788cf7b50f6",
        "IPY_MODEL_4621d1a255424c78b25671aec1c47d00"
       ],
       "layout": "IPY_MODEL_e5b6f40129db48ea854b837978545001"
      }
     },
     "864253109dee41fa8545bebdd4e93d8d": {
      "model_module": "@jupyter-widgets/controls",
      "model_module_version": "1.5.0",
      "model_name": "HTMLModel",
      "state": {
       "_dom_classes": [],
       "_model_module": "@jupyter-widgets/controls",
       "_model_module_version": "1.5.0",
       "_model_name": "HTMLModel",
       "_view_count": null,
       "_view_module": "@jupyter-widgets/controls",
       "_view_module_version": "1.5.0",
       "_view_name": "HTMLView",
       "description": "",
       "description_tooltip": null,
       "layout": "IPY_MODEL_266d75b5d0e34189bf131085f1047fe8",
       "placeholder": "​",
       "style": "IPY_MODEL_9217c32a3c4b4bb7a270731d3f9d5c16",
       "value": "100%"
      }
     },
     "86f48ac1629a48b9a9535ad6fa386d44": {
      "model_module": "@jupyter-widgets/base",
      "model_module_version": "1.2.0",
      "model_name": "LayoutModel",
      "state": {
       "_model_module": "@jupyter-widgets/base",
       "_model_module_version": "1.2.0",
       "_model_name": "LayoutModel",
       "_view_count": null,
       "_view_module": "@jupyter-widgets/base",
       "_view_module_version": "1.2.0",
       "_view_name": "LayoutView",
       "align_content": null,
       "align_items": null,
       "align_self": null,
       "border": null,
       "bottom": null,
       "display": null,
       "flex": "2",
       "flex_flow": null,
       "grid_area": null,
       "grid_auto_columns": null,
       "grid_auto_flow": null,
       "grid_auto_rows": null,
       "grid_column": null,
       "grid_gap": null,
       "grid_row": null,
       "grid_template_areas": null,
       "grid_template_columns": null,
       "grid_template_rows": null,
       "height": null,
       "justify_content": null,
       "justify_items": null,
       "left": null,
       "margin": null,
       "max_height": null,
       "max_width": null,
       "min_height": null,
       "min_width": null,
       "object_fit": null,
       "object_position": null,
       "order": null,
       "overflow": null,
       "overflow_x": null,
       "overflow_y": null,
       "padding": null,
       "right": null,
       "top": null,
       "visibility": null,
       "width": null
      }
     },
     "8a70abbc84304e81b55d2d0bc402434e": {
      "model_module": "@jupyter-widgets/base",
      "model_module_version": "1.2.0",
      "model_name": "LayoutModel",
      "state": {
       "_model_module": "@jupyter-widgets/base",
       "_model_module_version": "1.2.0",
       "_model_name": "LayoutModel",
       "_view_count": null,
       "_view_module": "@jupyter-widgets/base",
       "_view_module_version": "1.2.0",
       "_view_name": "LayoutView",
       "align_content": null,
       "align_items": null,
       "align_self": null,
       "border": null,
       "bottom": null,
       "display": null,
       "flex": null,
       "flex_flow": null,
       "grid_area": null,
       "grid_auto_columns": null,
       "grid_auto_flow": null,
       "grid_auto_rows": null,
       "grid_column": null,
       "grid_gap": null,
       "grid_row": null,
       "grid_template_areas": null,
       "grid_template_columns": null,
       "grid_template_rows": null,
       "height": null,
       "justify_content": null,
       "justify_items": null,
       "left": null,
       "margin": null,
       "max_height": null,
       "max_width": null,
       "min_height": null,
       "min_width": null,
       "object_fit": null,
       "object_position": null,
       "order": null,
       "overflow": null,
       "overflow_x": null,
       "overflow_y": null,
       "padding": null,
       "right": null,
       "top": null,
       "visibility": null,
       "width": null
      }
     },
     "8a8c834523114f1abba105deb3bf41e6": {
      "model_module": "@jupyter-widgets/controls",
      "model_module_version": "1.5.0",
      "model_name": "ProgressStyleModel",
      "state": {
       "_model_module": "@jupyter-widgets/controls",
       "_model_module_version": "1.5.0",
       "_model_name": "ProgressStyleModel",
       "_view_count": null,
       "_view_module": "@jupyter-widgets/base",
       "_view_module_version": "1.2.0",
       "_view_name": "StyleView",
       "bar_color": null,
       "description_width": ""
      }
     },
     "8d106a8b13024311a28fe67c6bd1afe2": {
      "model_module": "@jupyter-widgets/controls",
      "model_module_version": "1.5.0",
      "model_name": "FloatProgressModel",
      "state": {
       "_dom_classes": [],
       "_model_module": "@jupyter-widgets/controls",
       "_model_module_version": "1.5.0",
       "_model_name": "FloatProgressModel",
       "_view_count": null,
       "_view_module": "@jupyter-widgets/controls",
       "_view_module_version": "1.5.0",
       "_view_name": "ProgressView",
       "bar_style": "success",
       "description": "",
       "description_tooltip": null,
       "layout": "IPY_MODEL_a8fa5c72c2004ca2b13de91307c4df7c",
       "max": 10.0,
       "min": 0.0,
       "orientation": "horizontal",
       "style": "IPY_MODEL_739e0d73d5ef40acbab9f41d3e52df34",
       "value": 10.0
      }
     },
     "8e7144f8d0be4de4a829267b2a5602fd": {
      "model_module": "@jupyter-widgets/controls",
      "model_module_version": "1.5.0",
      "model_name": "ProgressStyleModel",
      "state": {
       "_model_module": "@jupyter-widgets/controls",
       "_model_module_version": "1.5.0",
       "_model_name": "ProgressStyleModel",
       "_view_count": null,
       "_view_module": "@jupyter-widgets/base",
       "_view_module_version": "1.2.0",
       "_view_name": "StyleView",
       "bar_color": null,
       "description_width": ""
      }
     },
     "9079d48c3eb14e448854be61b92c768e": {
      "model_module": "@jupyter-widgets/base",
      "model_module_version": "1.2.0",
      "model_name": "LayoutModel",
      "state": {
       "_model_module": "@jupyter-widgets/base",
       "_model_module_version": "1.2.0",
       "_model_name": "LayoutModel",
       "_view_count": null,
       "_view_module": "@jupyter-widgets/base",
       "_view_module_version": "1.2.0",
       "_view_name": "LayoutView",
       "align_content": null,
       "align_items": null,
       "align_self": null,
       "border": null,
       "bottom": null,
       "display": null,
       "flex": null,
       "flex_flow": null,
       "grid_area": null,
       "grid_auto_columns": null,
       "grid_auto_flow": null,
       "grid_auto_rows": null,
       "grid_column": null,
       "grid_gap": null,
       "grid_row": null,
       "grid_template_areas": null,
       "grid_template_columns": null,
       "grid_template_rows": null,
       "height": null,
       "justify_content": null,
       "justify_items": null,
       "left": null,
       "margin": null,
       "max_height": null,
       "max_width": null,
       "min_height": null,
       "min_width": null,
       "object_fit": null,
       "object_position": null,
       "order": null,
       "overflow": null,
       "overflow_x": null,
       "overflow_y": null,
       "padding": null,
       "right": null,
       "top": null,
       "visibility": null,
       "width": null
      }
     },
     "912a01deb0d548e2aa61a289187db437": {
      "model_module": "@jupyter-widgets/controls",
      "model_module_version": "1.5.0",
      "model_name": "FloatProgressModel",
      "state": {
       "_dom_classes": [],
       "_model_module": "@jupyter-widgets/controls",
       "_model_module_version": "1.5.0",
       "_model_name": "FloatProgressModel",
       "_view_count": null,
       "_view_module": "@jupyter-widgets/controls",
       "_view_module_version": "1.5.0",
       "_view_name": "ProgressView",
       "bar_style": "success",
       "description": "",
       "description_tooltip": null,
       "layout": "IPY_MODEL_2e02e71f25d04aa3af23372be5779bbf",
       "max": 5.0,
       "min": 0.0,
       "orientation": "horizontal",
       "style": "IPY_MODEL_63d0b17216fc42919b431e4a992eaf34",
       "value": 5.0
      }
     },
     "91356a9f5ed24a1fa91218a2ea53e07d": {
      "model_module": "@jupyter-widgets/base",
      "model_module_version": "1.2.0",
      "model_name": "LayoutModel",
      "state": {
       "_model_module": "@jupyter-widgets/base",
       "_model_module_version": "1.2.0",
       "_model_name": "LayoutModel",
       "_view_count": null,
       "_view_module": "@jupyter-widgets/base",
       "_view_module_version": "1.2.0",
       "_view_name": "LayoutView",
       "align_content": null,
       "align_items": null,
       "align_self": null,
       "border": null,
       "bottom": null,
       "display": null,
       "flex": null,
       "flex_flow": null,
       "grid_area": null,
       "grid_auto_columns": null,
       "grid_auto_flow": null,
       "grid_auto_rows": null,
       "grid_column": null,
       "grid_gap": null,
       "grid_row": null,
       "grid_template_areas": null,
       "grid_template_columns": null,
       "grid_template_rows": null,
       "height": null,
       "justify_content": null,
       "justify_items": null,
       "left": null,
       "margin": null,
       "max_height": null,
       "max_width": null,
       "min_height": null,
       "min_width": null,
       "object_fit": null,
       "object_position": null,
       "order": null,
       "overflow": null,
       "overflow_x": null,
       "overflow_y": null,
       "padding": null,
       "right": null,
       "top": null,
       "visibility": null,
       "width": null
      }
     },
     "9217c32a3c4b4bb7a270731d3f9d5c16": {
      "model_module": "@jupyter-widgets/controls",
      "model_module_version": "1.5.0",
      "model_name": "DescriptionStyleModel",
      "state": {
       "_model_module": "@jupyter-widgets/controls",
       "_model_module_version": "1.5.0",
       "_model_name": "DescriptionStyleModel",
       "_view_count": null,
       "_view_module": "@jupyter-widgets/base",
       "_view_module_version": "1.2.0",
       "_view_name": "StyleView",
       "description_width": ""
      }
     },
     "931fc30b0a6a4d9abb17df3d1e61e724": {
      "model_module": "@jupyter-widgets/base",
      "model_module_version": "1.2.0",
      "model_name": "LayoutModel",
      "state": {
       "_model_module": "@jupyter-widgets/base",
       "_model_module_version": "1.2.0",
       "_model_name": "LayoutModel",
       "_view_count": null,
       "_view_module": "@jupyter-widgets/base",
       "_view_module_version": "1.2.0",
       "_view_name": "LayoutView",
       "align_content": null,
       "align_items": null,
       "align_self": null,
       "border": null,
       "bottom": null,
       "display": null,
       "flex": null,
       "flex_flow": null,
       "grid_area": null,
       "grid_auto_columns": null,
       "grid_auto_flow": null,
       "grid_auto_rows": null,
       "grid_column": null,
       "grid_gap": null,
       "grid_row": null,
       "grid_template_areas": null,
       "grid_template_columns": null,
       "grid_template_rows": null,
       "height": null,
       "justify_content": null,
       "justify_items": null,
       "left": null,
       "margin": null,
       "max_height": null,
       "max_width": null,
       "min_height": null,
       "min_width": null,
       "object_fit": null,
       "object_position": null,
       "order": null,
       "overflow": null,
       "overflow_x": null,
       "overflow_y": null,
       "padding": null,
       "right": null,
       "top": null,
       "visibility": null,
       "width": null
      }
     },
     "936312714bc2490cae5a43c05297c7c3": {
      "model_module": "@jupyter-widgets/controls",
      "model_module_version": "1.5.0",
      "model_name": "FloatProgressModel",
      "state": {
       "_dom_classes": [],
       "_model_module": "@jupyter-widgets/controls",
       "_model_module_version": "1.5.0",
       "_model_name": "FloatProgressModel",
       "_view_count": null,
       "_view_module": "@jupyter-widgets/controls",
       "_view_module_version": "1.5.0",
       "_view_name": "ProgressView",
       "bar_style": "success",
       "description": "",
       "description_tooltip": null,
       "layout": "IPY_MODEL_931fc30b0a6a4d9abb17df3d1e61e724",
       "max": 10.0,
       "min": 0.0,
       "orientation": "horizontal",
       "style": "IPY_MODEL_15f1fc0b7d814190b8f7ac0bec70290f",
       "value": 10.0
      }
     },
     "94bb6cf7ef2244ffa60d98e46a005183": {
      "model_module": "@jupyter-widgets/base",
      "model_module_version": "1.2.0",
      "model_name": "LayoutModel",
      "state": {
       "_model_module": "@jupyter-widgets/base",
       "_model_module_version": "1.2.0",
       "_model_name": "LayoutModel",
       "_view_count": null,
       "_view_module": "@jupyter-widgets/base",
       "_view_module_version": "1.2.0",
       "_view_name": "LayoutView",
       "align_content": null,
       "align_items": null,
       "align_self": null,
       "border": null,
       "bottom": null,
       "display": null,
       "flex": null,
       "flex_flow": null,
       "grid_area": null,
       "grid_auto_columns": null,
       "grid_auto_flow": null,
       "grid_auto_rows": null,
       "grid_column": null,
       "grid_gap": null,
       "grid_row": null,
       "grid_template_areas": null,
       "grid_template_columns": null,
       "grid_template_rows": null,
       "height": null,
       "justify_content": null,
       "justify_items": null,
       "left": null,
       "margin": null,
       "max_height": null,
       "max_width": null,
       "min_height": null,
       "min_width": null,
       "object_fit": null,
       "object_position": null,
       "order": null,
       "overflow": null,
       "overflow_x": null,
       "overflow_y": null,
       "padding": null,
       "right": null,
       "top": null,
       "visibility": null,
       "width": null
      }
     },
     "9514c561f81442caaf1342e1d736da1f": {
      "model_module": "@jupyter-widgets/controls",
      "model_module_version": "1.5.0",
      "model_name": "DescriptionStyleModel",
      "state": {
       "_model_module": "@jupyter-widgets/controls",
       "_model_module_version": "1.5.0",
       "_model_name": "DescriptionStyleModel",
       "_view_count": null,
       "_view_module": "@jupyter-widgets/base",
       "_view_module_version": "1.2.0",
       "_view_name": "StyleView",
       "description_width": ""
      }
     },
     "954008c1fada4e2e9acc1192ba7496ca": {
      "model_module": "@jupyter-widgets/controls",
      "model_module_version": "1.5.0",
      "model_name": "DescriptionStyleModel",
      "state": {
       "_model_module": "@jupyter-widgets/controls",
       "_model_module_version": "1.5.0",
       "_model_name": "DescriptionStyleModel",
       "_view_count": null,
       "_view_module": "@jupyter-widgets/base",
       "_view_module_version": "1.2.0",
       "_view_name": "StyleView",
       "description_width": ""
      }
     },
     "97e0d8eeaa2846078d5d244dd5bb48ed": {
      "model_module": "@jupyter-widgets/base",
      "model_module_version": "1.2.0",
      "model_name": "LayoutModel",
      "state": {
       "_model_module": "@jupyter-widgets/base",
       "_model_module_version": "1.2.0",
       "_model_name": "LayoutModel",
       "_view_count": null,
       "_view_module": "@jupyter-widgets/base",
       "_view_module_version": "1.2.0",
       "_view_name": "LayoutView",
       "align_content": null,
       "align_items": null,
       "align_self": null,
       "border": null,
       "bottom": null,
       "display": null,
       "flex": null,
       "flex_flow": null,
       "grid_area": null,
       "grid_auto_columns": null,
       "grid_auto_flow": null,
       "grid_auto_rows": null,
       "grid_column": null,
       "grid_gap": null,
       "grid_row": null,
       "grid_template_areas": null,
       "grid_template_columns": null,
       "grid_template_rows": null,
       "height": null,
       "justify_content": null,
       "justify_items": null,
       "left": null,
       "margin": null,
       "max_height": null,
       "max_width": null,
       "min_height": null,
       "min_width": null,
       "object_fit": null,
       "object_position": null,
       "order": null,
       "overflow": null,
       "overflow_x": null,
       "overflow_y": null,
       "padding": null,
       "right": null,
       "top": null,
       "visibility": null,
       "width": null
      }
     },
     "98f8714f5174418f8367ffdb30373b80": {
      "model_module": "@jupyter-widgets/controls",
      "model_module_version": "1.5.0",
      "model_name": "DescriptionStyleModel",
      "state": {
       "_model_module": "@jupyter-widgets/controls",
       "_model_module_version": "1.5.0",
       "_model_name": "DescriptionStyleModel",
       "_view_count": null,
       "_view_module": "@jupyter-widgets/base",
       "_view_module_version": "1.2.0",
       "_view_name": "StyleView",
       "description_width": ""
      }
     },
     "9e419cca668343a2adb2ba351e9e4be4": {
      "model_module": "@jupyter-widgets/base",
      "model_module_version": "1.2.0",
      "model_name": "LayoutModel",
      "state": {
       "_model_module": "@jupyter-widgets/base",
       "_model_module_version": "1.2.0",
       "_model_name": "LayoutModel",
       "_view_count": null,
       "_view_module": "@jupyter-widgets/base",
       "_view_module_version": "1.2.0",
       "_view_name": "LayoutView",
       "align_content": null,
       "align_items": null,
       "align_self": null,
       "border": null,
       "bottom": null,
       "display": null,
       "flex": null,
       "flex_flow": null,
       "grid_area": null,
       "grid_auto_columns": null,
       "grid_auto_flow": null,
       "grid_auto_rows": null,
       "grid_column": null,
       "grid_gap": null,
       "grid_row": null,
       "grid_template_areas": null,
       "grid_template_columns": null,
       "grid_template_rows": null,
       "height": null,
       "justify_content": null,
       "justify_items": null,
       "left": null,
       "margin": null,
       "max_height": null,
       "max_width": null,
       "min_height": null,
       "min_width": null,
       "object_fit": null,
       "object_position": null,
       "order": null,
       "overflow": null,
       "overflow_x": null,
       "overflow_y": null,
       "padding": null,
       "right": null,
       "top": null,
       "visibility": null,
       "width": null
      }
     },
     "a61cd671e27b4f5b8ac5515b8f7835ef": {
      "model_module": "@jupyter-widgets/base",
      "model_module_version": "1.2.0",
      "model_name": "LayoutModel",
      "state": {
       "_model_module": "@jupyter-widgets/base",
       "_model_module_version": "1.2.0",
       "_model_name": "LayoutModel",
       "_view_count": null,
       "_view_module": "@jupyter-widgets/base",
       "_view_module_version": "1.2.0",
       "_view_name": "LayoutView",
       "align_content": null,
       "align_items": null,
       "align_self": null,
       "border": null,
       "bottom": null,
       "display": null,
       "flex": null,
       "flex_flow": null,
       "grid_area": null,
       "grid_auto_columns": null,
       "grid_auto_flow": null,
       "grid_auto_rows": null,
       "grid_column": null,
       "grid_gap": null,
       "grid_row": null,
       "grid_template_areas": null,
       "grid_template_columns": null,
       "grid_template_rows": null,
       "height": null,
       "justify_content": null,
       "justify_items": null,
       "left": null,
       "margin": null,
       "max_height": null,
       "max_width": null,
       "min_height": null,
       "min_width": null,
       "object_fit": null,
       "object_position": null,
       "order": null,
       "overflow": null,
       "overflow_x": null,
       "overflow_y": null,
       "padding": null,
       "right": null,
       "top": null,
       "visibility": null,
       "width": null
      }
     },
     "a8fa5c72c2004ca2b13de91307c4df7c": {
      "model_module": "@jupyter-widgets/base",
      "model_module_version": "1.2.0",
      "model_name": "LayoutModel",
      "state": {
       "_model_module": "@jupyter-widgets/base",
       "_model_module_version": "1.2.0",
       "_model_name": "LayoutModel",
       "_view_count": null,
       "_view_module": "@jupyter-widgets/base",
       "_view_module_version": "1.2.0",
       "_view_name": "LayoutView",
       "align_content": null,
       "align_items": null,
       "align_self": null,
       "border": null,
       "bottom": null,
       "display": null,
       "flex": null,
       "flex_flow": null,
       "grid_area": null,
       "grid_auto_columns": null,
       "grid_auto_flow": null,
       "grid_auto_rows": null,
       "grid_column": null,
       "grid_gap": null,
       "grid_row": null,
       "grid_template_areas": null,
       "grid_template_columns": null,
       "grid_template_rows": null,
       "height": null,
       "justify_content": null,
       "justify_items": null,
       "left": null,
       "margin": null,
       "max_height": null,
       "max_width": null,
       "min_height": null,
       "min_width": null,
       "object_fit": null,
       "object_position": null,
       "order": null,
       "overflow": null,
       "overflow_x": null,
       "overflow_y": null,
       "padding": null,
       "right": null,
       "top": null,
       "visibility": null,
       "width": null
      }
     },
     "aaf68169d623414fb26bc571f8c8b412": {
      "model_module": "@jupyter-widgets/base",
      "model_module_version": "1.2.0",
      "model_name": "LayoutModel",
      "state": {
       "_model_module": "@jupyter-widgets/base",
       "_model_module_version": "1.2.0",
       "_model_name": "LayoutModel",
       "_view_count": null,
       "_view_module": "@jupyter-widgets/base",
       "_view_module_version": "1.2.0",
       "_view_name": "LayoutView",
       "align_content": null,
       "align_items": null,
       "align_self": null,
       "border": null,
       "bottom": null,
       "display": null,
       "flex": null,
       "flex_flow": null,
       "grid_area": null,
       "grid_auto_columns": null,
       "grid_auto_flow": null,
       "grid_auto_rows": null,
       "grid_column": null,
       "grid_gap": null,
       "grid_row": null,
       "grid_template_areas": null,
       "grid_template_columns": null,
       "grid_template_rows": null,
       "height": null,
       "justify_content": null,
       "justify_items": null,
       "left": null,
       "margin": null,
       "max_height": null,
       "max_width": null,
       "min_height": null,
       "min_width": null,
       "object_fit": null,
       "object_position": null,
       "order": null,
       "overflow": null,
       "overflow_x": null,
       "overflow_y": null,
       "padding": null,
       "right": null,
       "top": null,
       "visibility": null,
       "width": null
      }
     },
     "adc5a95cb47e4fc9b2f508d5712a02f4": {
      "model_module": "@jupyter-widgets/controls",
      "model_module_version": "1.5.0",
      "model_name": "HTMLModel",
      "state": {
       "_dom_classes": [],
       "_model_module": "@jupyter-widgets/controls",
       "_model_module_version": "1.5.0",
       "_model_name": "HTMLModel",
       "_view_count": null,
       "_view_module": "@jupyter-widgets/controls",
       "_view_module_version": "1.5.0",
       "_view_name": "HTMLView",
       "description": "",
       "description_tooltip": null,
       "layout": "IPY_MODEL_94bb6cf7ef2244ffa60d98e46a005183",
       "placeholder": "​",
       "style": "IPY_MODEL_8402a6d72701444a815c6bb7ca396f3e",
       "value": " 10/10 [00:00&lt;00:00, 111.72it/s]"
      }
     },
     "af62a6704c6149bdb5550f2336241d6a": {
      "model_module": "@jupyter-widgets/controls",
      "model_module_version": "1.5.0",
      "model_name": "DescriptionStyleModel",
      "state": {
       "_model_module": "@jupyter-widgets/controls",
       "_model_module_version": "1.5.0",
       "_model_name": "DescriptionStyleModel",
       "_view_count": null,
       "_view_module": "@jupyter-widgets/base",
       "_view_module_version": "1.2.0",
       "_view_name": "StyleView",
       "description_width": ""
      }
     },
     "aff7bbf3593240509cc3057082122a78": {
      "model_module": "@jupyter-widgets/base",
      "model_module_version": "1.2.0",
      "model_name": "LayoutModel",
      "state": {
       "_model_module": "@jupyter-widgets/base",
       "_model_module_version": "1.2.0",
       "_model_name": "LayoutModel",
       "_view_count": null,
       "_view_module": "@jupyter-widgets/base",
       "_view_module_version": "1.2.0",
       "_view_name": "LayoutView",
       "align_content": null,
       "align_items": null,
       "align_self": null,
       "border": null,
       "bottom": null,
       "display": null,
       "flex": null,
       "flex_flow": null,
       "grid_area": null,
       "grid_auto_columns": null,
       "grid_auto_flow": null,
       "grid_auto_rows": null,
       "grid_column": null,
       "grid_gap": null,
       "grid_row": null,
       "grid_template_areas": null,
       "grid_template_columns": null,
       "grid_template_rows": null,
       "height": null,
       "justify_content": null,
       "justify_items": null,
       "left": null,
       "margin": null,
       "max_height": null,
       "max_width": null,
       "min_height": null,
       "min_width": null,
       "object_fit": null,
       "object_position": null,
       "order": null,
       "overflow": null,
       "overflow_x": null,
       "overflow_y": null,
       "padding": null,
       "right": null,
       "top": null,
       "visibility": null,
       "width": null
      }
     },
     "b0c5a69993424aaca927c85c9005a877": {
      "model_module": "@jupyter-widgets/base",
      "model_module_version": "1.2.0",
      "model_name": "LayoutModel",
      "state": {
       "_model_module": "@jupyter-widgets/base",
       "_model_module_version": "1.2.0",
       "_model_name": "LayoutModel",
       "_view_count": null,
       "_view_module": "@jupyter-widgets/base",
       "_view_module_version": "1.2.0",
       "_view_name": "LayoutView",
       "align_content": null,
       "align_items": null,
       "align_self": null,
       "border": null,
       "bottom": null,
       "display": null,
       "flex": null,
       "flex_flow": null,
       "grid_area": null,
       "grid_auto_columns": null,
       "grid_auto_flow": null,
       "grid_auto_rows": null,
       "grid_column": null,
       "grid_gap": null,
       "grid_row": null,
       "grid_template_areas": null,
       "grid_template_columns": null,
       "grid_template_rows": null,
       "height": null,
       "justify_content": null,
       "justify_items": null,
       "left": null,
       "margin": null,
       "max_height": null,
       "max_width": null,
       "min_height": null,
       "min_width": null,
       "object_fit": null,
       "object_position": null,
       "order": null,
       "overflow": null,
       "overflow_x": null,
       "overflow_y": null,
       "padding": null,
       "right": null,
       "top": null,
       "visibility": null,
       "width": null
      }
     },
     "b275cb3e2d4c4d5992d85a5aef6e8149": {
      "model_module": "@jupyter-widgets/controls",
      "model_module_version": "1.5.0",
      "model_name": "DescriptionStyleModel",
      "state": {
       "_model_module": "@jupyter-widgets/controls",
       "_model_module_version": "1.5.0",
       "_model_name": "DescriptionStyleModel",
       "_view_count": null,
       "_view_module": "@jupyter-widgets/base",
       "_view_module_version": "1.2.0",
       "_view_name": "StyleView",
       "description_width": ""
      }
     },
     "b437c13908a34ac390b27d775c1aae6f": {
      "model_module": "@jupyter-widgets/controls",
      "model_module_version": "1.5.0",
      "model_name": "DescriptionStyleModel",
      "state": {
       "_model_module": "@jupyter-widgets/controls",
       "_model_module_version": "1.5.0",
       "_model_name": "DescriptionStyleModel",
       "_view_count": null,
       "_view_module": "@jupyter-widgets/base",
       "_view_module_version": "1.2.0",
       "_view_name": "StyleView",
       "description_width": ""
      }
     },
     "b5c36d8bece74baeb1b4ad53ddb4c22a": {
      "model_module": "@jupyter-widgets/controls",
      "model_module_version": "1.5.0",
      "model_name": "FloatProgressModel",
      "state": {
       "_dom_classes": [],
       "_model_module": "@jupyter-widgets/controls",
       "_model_module_version": "1.5.0",
       "_model_name": "FloatProgressModel",
       "_view_count": null,
       "_view_module": "@jupyter-widgets/controls",
       "_view_module_version": "1.5.0",
       "_view_name": "ProgressView",
       "bar_style": "success",
       "description": "",
       "description_tooltip": null,
       "layout": "IPY_MODEL_3750d52982c54ff3b340a348879149de",
       "max": 10.0,
       "min": 0.0,
       "orientation": "horizontal",
       "style": "IPY_MODEL_ed6a0c97ba104a4fbb2f7967dc1f0c55",
       "value": 10.0
      }
     },
     "b78c1dbf38f846de9e89a0e0ff4aa670": {
      "model_module": "@jupyter-widgets/controls",
      "model_module_version": "1.5.0",
      "model_name": "FloatProgressModel",
      "state": {
       "_dom_classes": [],
       "_model_module": "@jupyter-widgets/controls",
       "_model_module_version": "1.5.0",
       "_model_name": "FloatProgressModel",
       "_view_count": null,
       "_view_module": "@jupyter-widgets/controls",
       "_view_module_version": "1.5.0",
       "_view_name": "ProgressView",
       "bar_style": "success",
       "description": "",
       "description_tooltip": null,
       "layout": "IPY_MODEL_c986201ce5304891b8405e78b399049e",
       "max": 10.0,
       "min": 0.0,
       "orientation": "horizontal",
       "style": "IPY_MODEL_35d5a32e166b491c8fb204fdb3b2d60b",
       "value": 10.0
      }
     },
     "b7f807b30b14403fbf8c77b25c735515": {
      "model_module": "@jupyter-widgets/controls",
      "model_module_version": "1.5.0",
      "model_name": "HBoxModel",
      "state": {
       "_dom_classes": [],
       "_model_module": "@jupyter-widgets/controls",
       "_model_module_version": "1.5.0",
       "_model_name": "HBoxModel",
       "_view_count": null,
       "_view_module": "@jupyter-widgets/controls",
       "_view_module_version": "1.5.0",
       "_view_name": "HBoxView",
       "box_style": "",
       "children": [
        "IPY_MODEL_eaef955172764a08ba524363ba8f196e",
        "IPY_MODEL_936312714bc2490cae5a43c05297c7c3",
        "IPY_MODEL_0a8e5d4e89004264a90b4a4f064fae66"
       ],
       "layout": "IPY_MODEL_d8866d4ce67247b3bb5488edf892b3fc"
      }
     },
     "b84e02f68dd0443b8485d6f07a1a083c": {
      "model_module": "@jupyter-widgets/controls",
      "model_module_version": "1.5.0",
      "model_name": "DescriptionStyleModel",
      "state": {
       "_model_module": "@jupyter-widgets/controls",
       "_model_module_version": "1.5.0",
       "_model_name": "DescriptionStyleModel",
       "_view_count": null,
       "_view_module": "@jupyter-widgets/base",
       "_view_module_version": "1.2.0",
       "_view_name": "StyleView",
       "description_width": ""
      }
     },
     "b997393323b147289126b6f4a4c1613f": {
      "model_module": "@jupyter-widgets/controls",
      "model_module_version": "1.5.0",
      "model_name": "FloatProgressModel",
      "state": {
       "_dom_classes": [],
       "_model_module": "@jupyter-widgets/controls",
       "_model_module_version": "1.5.0",
       "_model_name": "FloatProgressModel",
       "_view_count": null,
       "_view_module": "@jupyter-widgets/controls",
       "_view_module_version": "1.5.0",
       "_view_name": "ProgressView",
       "bar_style": "success",
       "description": "",
       "description_tooltip": null,
       "layout": "IPY_MODEL_bd68e8b36cc54397aac701371f10b027",
       "max": 5.0,
       "min": 0.0,
       "orientation": "horizontal",
       "style": "IPY_MODEL_1732b693cb524b4298789fb83b6539e0",
       "value": 5.0
      }
     },
     "bd68e8b36cc54397aac701371f10b027": {
      "model_module": "@jupyter-widgets/base",
      "model_module_version": "1.2.0",
      "model_name": "LayoutModel",
      "state": {
       "_model_module": "@jupyter-widgets/base",
       "_model_module_version": "1.2.0",
       "_model_name": "LayoutModel",
       "_view_count": null,
       "_view_module": "@jupyter-widgets/base",
       "_view_module_version": "1.2.0",
       "_view_name": "LayoutView",
       "align_content": null,
       "align_items": null,
       "align_self": null,
       "border": null,
       "bottom": null,
       "display": null,
       "flex": null,
       "flex_flow": null,
       "grid_area": null,
       "grid_auto_columns": null,
       "grid_auto_flow": null,
       "grid_auto_rows": null,
       "grid_column": null,
       "grid_gap": null,
       "grid_row": null,
       "grid_template_areas": null,
       "grid_template_columns": null,
       "grid_template_rows": null,
       "height": null,
       "justify_content": null,
       "justify_items": null,
       "left": null,
       "margin": null,
       "max_height": null,
       "max_width": null,
       "min_height": null,
       "min_width": null,
       "object_fit": null,
       "object_position": null,
       "order": null,
       "overflow": null,
       "overflow_x": null,
       "overflow_y": null,
       "padding": null,
       "right": null,
       "top": null,
       "visibility": null,
       "width": null
      }
     },
     "be8e14931e07489cbf6b9a9b21f89b14": {
      "model_module": "@jupyter-widgets/controls",
      "model_module_version": "1.5.0",
      "model_name": "FloatProgressModel",
      "state": {
       "_dom_classes": [],
       "_model_module": "@jupyter-widgets/controls",
       "_model_module_version": "1.5.0",
       "_model_name": "FloatProgressModel",
       "_view_count": null,
       "_view_module": "@jupyter-widgets/controls",
       "_view_module_version": "1.5.0",
       "_view_name": "ProgressView",
       "bar_style": "success",
       "description": "",
       "description_tooltip": null,
       "layout": "IPY_MODEL_e759a4176e834e7fb50dfeae84a305ca",
       "max": 10000.0,
       "min": 0.0,
       "orientation": "horizontal",
       "style": "IPY_MODEL_04f396be68db4d0ea6719a83dffeadd3",
       "value": 680.0
      }
     },
     "c40e598299b54111ad7b5838e515f812": {
      "model_module": "@jupyter-widgets/controls",
      "model_module_version": "1.5.0",
      "model_name": "DescriptionStyleModel",
      "state": {
       "_model_module": "@jupyter-widgets/controls",
       "_model_module_version": "1.5.0",
       "_model_name": "DescriptionStyleModel",
       "_view_count": null,
       "_view_module": "@jupyter-widgets/base",
       "_view_module_version": "1.2.0",
       "_view_name": "StyleView",
       "description_width": ""
      }
     },
     "c74ca5731a2a44b0b4d41a064cab1999": {
      "model_module": "@jupyter-widgets/controls",
      "model_module_version": "1.5.0",
      "model_name": "HTMLModel",
      "state": {
       "_dom_classes": [],
       "_model_module": "@jupyter-widgets/controls",
       "_model_module_version": "1.5.0",
       "_model_name": "HTMLModel",
       "_view_count": null,
       "_view_module": "@jupyter-widgets/controls",
       "_view_module_version": "1.5.0",
       "_view_name": "HTMLView",
       "description": "",
       "description_tooltip": null,
       "layout": "IPY_MODEL_46717fbc065c4e5487ecded267a50a0f",
       "placeholder": "​",
       "style": "IPY_MODEL_b275cb3e2d4c4d5992d85a5aef6e8149",
       "value": "100%"
      }
     },
     "c74dcf6121f248edb62c069fca656fc1": {
      "model_module": "@jupyter-widgets/controls",
      "model_module_version": "1.5.0",
      "model_name": "DescriptionStyleModel",
      "state": {
       "_model_module": "@jupyter-widgets/controls",
       "_model_module_version": "1.5.0",
       "_model_name": "DescriptionStyleModel",
       "_view_count": null,
       "_view_module": "@jupyter-widgets/base",
       "_view_module_version": "1.2.0",
       "_view_name": "StyleView",
       "description_width": ""
      }
     },
     "c986201ce5304891b8405e78b399049e": {
      "model_module": "@jupyter-widgets/base",
      "model_module_version": "1.2.0",
      "model_name": "LayoutModel",
      "state": {
       "_model_module": "@jupyter-widgets/base",
       "_model_module_version": "1.2.0",
       "_model_name": "LayoutModel",
       "_view_count": null,
       "_view_module": "@jupyter-widgets/base",
       "_view_module_version": "1.2.0",
       "_view_name": "LayoutView",
       "align_content": null,
       "align_items": null,
       "align_self": null,
       "border": null,
       "bottom": null,
       "display": null,
       "flex": null,
       "flex_flow": null,
       "grid_area": null,
       "grid_auto_columns": null,
       "grid_auto_flow": null,
       "grid_auto_rows": null,
       "grid_column": null,
       "grid_gap": null,
       "grid_row": null,
       "grid_template_areas": null,
       "grid_template_columns": null,
       "grid_template_rows": null,
       "height": null,
       "justify_content": null,
       "justify_items": null,
       "left": null,
       "margin": null,
       "max_height": null,
       "max_width": null,
       "min_height": null,
       "min_width": null,
       "object_fit": null,
       "object_position": null,
       "order": null,
       "overflow": null,
       "overflow_x": null,
       "overflow_y": null,
       "padding": null,
       "right": null,
       "top": null,
       "visibility": null,
       "width": null
      }
     },
     "ca159f3f91e648e2b902f5e7900d2290": {
      "model_module": "@jupyter-widgets/base",
      "model_module_version": "1.2.0",
      "model_name": "LayoutModel",
      "state": {
       "_model_module": "@jupyter-widgets/base",
       "_model_module_version": "1.2.0",
       "_model_name": "LayoutModel",
       "_view_count": null,
       "_view_module": "@jupyter-widgets/base",
       "_view_module_version": "1.2.0",
       "_view_name": "LayoutView",
       "align_content": null,
       "align_items": null,
       "align_self": null,
       "border": null,
       "bottom": null,
       "display": null,
       "flex": null,
       "flex_flow": null,
       "grid_area": null,
       "grid_auto_columns": null,
       "grid_auto_flow": null,
       "grid_auto_rows": null,
       "grid_column": null,
       "grid_gap": null,
       "grid_row": null,
       "grid_template_areas": null,
       "grid_template_columns": null,
       "grid_template_rows": null,
       "height": null,
       "justify_content": null,
       "justify_items": null,
       "left": null,
       "margin": null,
       "max_height": null,
       "max_width": null,
       "min_height": null,
       "min_width": null,
       "object_fit": null,
       "object_position": null,
       "order": null,
       "overflow": null,
       "overflow_x": null,
       "overflow_y": null,
       "padding": null,
       "right": null,
       "top": null,
       "visibility": null,
       "width": null
      }
     },
     "cc9f5e32449c443d86e6e5d85b1b0582": {
      "model_module": "@jupyter-widgets/controls",
      "model_module_version": "1.5.0",
      "model_name": "ProgressStyleModel",
      "state": {
       "_model_module": "@jupyter-widgets/controls",
       "_model_module_version": "1.5.0",
       "_model_name": "ProgressStyleModel",
       "_view_count": null,
       "_view_module": "@jupyter-widgets/base",
       "_view_module_version": "1.2.0",
       "_view_name": "StyleView",
       "bar_color": null,
       "description_width": ""
      }
     },
     "ccb3ab8c166f46debf3273e75f0d0b07": {
      "model_module": "@jupyter-widgets/base",
      "model_module_version": "1.2.0",
      "model_name": "LayoutModel",
      "state": {
       "_model_module": "@jupyter-widgets/base",
       "_model_module_version": "1.2.0",
       "_model_name": "LayoutModel",
       "_view_count": null,
       "_view_module": "@jupyter-widgets/base",
       "_view_module_version": "1.2.0",
       "_view_name": "LayoutView",
       "align_content": null,
       "align_items": null,
       "align_self": null,
       "border": null,
       "bottom": null,
       "display": null,
       "flex": null,
       "flex_flow": null,
       "grid_area": null,
       "grid_auto_columns": null,
       "grid_auto_flow": null,
       "grid_auto_rows": null,
       "grid_column": null,
       "grid_gap": null,
       "grid_row": null,
       "grid_template_areas": null,
       "grid_template_columns": null,
       "grid_template_rows": null,
       "height": null,
       "justify_content": null,
       "justify_items": null,
       "left": null,
       "margin": null,
       "max_height": null,
       "max_width": null,
       "min_height": null,
       "min_width": null,
       "object_fit": null,
       "object_position": null,
       "order": null,
       "overflow": null,
       "overflow_x": null,
       "overflow_y": null,
       "padding": null,
       "right": null,
       "top": null,
       "visibility": null,
       "width": null
      }
     },
     "d0828f5784ea4aba866becdcac5838e5": {
      "model_module": "@jupyter-widgets/controls",
      "model_module_version": "1.5.0",
      "model_name": "DescriptionStyleModel",
      "state": {
       "_model_module": "@jupyter-widgets/controls",
       "_model_module_version": "1.5.0",
       "_model_name": "DescriptionStyleModel",
       "_view_count": null,
       "_view_module": "@jupyter-widgets/base",
       "_view_module_version": "1.2.0",
       "_view_name": "StyleView",
       "description_width": ""
      }
     },
     "d1f5734165574f08a75653d0223f7f1c": {
      "model_module": "@jupyter-widgets/controls",
      "model_module_version": "1.5.0",
      "model_name": "DescriptionStyleModel",
      "state": {
       "_model_module": "@jupyter-widgets/controls",
       "_model_module_version": "1.5.0",
       "_model_name": "DescriptionStyleModel",
       "_view_count": null,
       "_view_module": "@jupyter-widgets/base",
       "_view_module_version": "1.2.0",
       "_view_name": "StyleView",
       "description_width": ""
      }
     },
     "d3b0e64bf44c48368b7f2c9d70867e0a": {
      "model_module": "@jupyter-widgets/controls",
      "model_module_version": "1.5.0",
      "model_name": "HTMLModel",
      "state": {
       "_dom_classes": [],
       "_model_module": "@jupyter-widgets/controls",
       "_model_module_version": "1.5.0",
       "_model_name": "HTMLModel",
       "_view_count": null,
       "_view_module": "@jupyter-widgets/controls",
       "_view_module_version": "1.5.0",
       "_view_name": "HTMLView",
       "description": "",
       "description_tooltip": null,
       "layout": "IPY_MODEL_a61cd671e27b4f5b8ac5515b8f7835ef",
       "placeholder": "​",
       "style": "IPY_MODEL_832b591149f548aa8190dccf181a124e",
       "value": " 5/5 [00:00&lt;00:00, 361.23it/s]"
      }
     },
     "d3ee147c20164f14bf88a553eb128281": {
      "model_module": "@jupyter-widgets/controls",
      "model_module_version": "1.5.0",
      "model_name": "HTMLModel",
      "state": {
       "_dom_classes": [],
       "_model_module": "@jupyter-widgets/controls",
       "_model_module_version": "1.5.0",
       "_model_name": "HTMLModel",
       "_view_count": null,
       "_view_module": "@jupyter-widgets/controls",
       "_view_module_version": "1.5.0",
       "_view_name": "HTMLView",
       "description": "",
       "description_tooltip": null,
       "layout": "IPY_MODEL_9e419cca668343a2adb2ba351e9e4be4",
       "placeholder": "​",
       "style": "IPY_MODEL_f91c90f002c84e31a9c5615f74ae240b",
       "value": "100%"
      }
     },
     "d55163eec4074e1c95c197f5fef59156": {
      "model_module": "@jupyter-widgets/controls",
      "model_module_version": "1.5.0",
      "model_name": "DescriptionStyleModel",
      "state": {
       "_model_module": "@jupyter-widgets/controls",
       "_model_module_version": "1.5.0",
       "_model_name": "DescriptionStyleModel",
       "_view_count": null,
       "_view_module": "@jupyter-widgets/base",
       "_view_module_version": "1.2.0",
       "_view_name": "StyleView",
       "description_width": ""
      }
     },
     "d846924388e14d599b1f477222b732b0": {
      "model_module": "@jupyter-widgets/controls",
      "model_module_version": "1.5.0",
      "model_name": "FloatProgressModel",
      "state": {
       "_dom_classes": [],
       "_model_module": "@jupyter-widgets/controls",
       "_model_module_version": "1.5.0",
       "_model_name": "FloatProgressModel",
       "_view_count": null,
       "_view_module": "@jupyter-widgets/controls",
       "_view_module_version": "1.5.0",
       "_view_name": "ProgressView",
       "bar_style": "success",
       "description": "",
       "description_tooltip": null,
       "layout": "IPY_MODEL_0311300b83d940b2968e2583910fc154",
       "max": 5.0,
       "min": 0.0,
       "orientation": "horizontal",
       "style": "IPY_MODEL_cc9f5e32449c443d86e6e5d85b1b0582",
       "value": 5.0
      }
     },
     "d8866d4ce67247b3bb5488edf892b3fc": {
      "model_module": "@jupyter-widgets/base",
      "model_module_version": "1.2.0",
      "model_name": "LayoutModel",
      "state": {
       "_model_module": "@jupyter-widgets/base",
       "_model_module_version": "1.2.0",
       "_model_name": "LayoutModel",
       "_view_count": null,
       "_view_module": "@jupyter-widgets/base",
       "_view_module_version": "1.2.0",
       "_view_name": "LayoutView",
       "align_content": null,
       "align_items": null,
       "align_self": null,
       "border": null,
       "bottom": null,
       "display": null,
       "flex": null,
       "flex_flow": null,
       "grid_area": null,
       "grid_auto_columns": null,
       "grid_auto_flow": null,
       "grid_auto_rows": null,
       "grid_column": null,
       "grid_gap": null,
       "grid_row": null,
       "grid_template_areas": null,
       "grid_template_columns": null,
       "grid_template_rows": null,
       "height": null,
       "justify_content": null,
       "justify_items": null,
       "left": null,
       "margin": null,
       "max_height": null,
       "max_width": null,
       "min_height": null,
       "min_width": null,
       "object_fit": null,
       "object_position": null,
       "order": null,
       "overflow": null,
       "overflow_x": null,
       "overflow_y": null,
       "padding": null,
       "right": null,
       "top": null,
       "visibility": null,
       "width": null
      }
     },
     "dc22fa77c6ce4236829f9083b010039e": {
      "model_module": "@jupyter-widgets/controls",
      "model_module_version": "1.5.0",
      "model_name": "ProgressStyleModel",
      "state": {
       "_model_module": "@jupyter-widgets/controls",
       "_model_module_version": "1.5.0",
       "_model_name": "ProgressStyleModel",
       "_view_count": null,
       "_view_module": "@jupyter-widgets/base",
       "_view_module_version": "1.2.0",
       "_view_name": "StyleView",
       "bar_color": null,
       "description_width": ""
      }
     },
     "dcf632f8cec54c30bd069e602cbdde5c": {
      "model_module": "@jupyter-widgets/controls",
      "model_module_version": "1.5.0",
      "model_name": "HBoxModel",
      "state": {
       "_dom_classes": [],
       "_model_module": "@jupyter-widgets/controls",
       "_model_module_version": "1.5.0",
       "_model_name": "HBoxModel",
       "_view_count": null,
       "_view_module": "@jupyter-widgets/controls",
       "_view_module_version": "1.5.0",
       "_view_name": "HBoxView",
       "box_style": "",
       "children": [
        "IPY_MODEL_c74ca5731a2a44b0b4d41a064cab1999",
        "IPY_MODEL_d846924388e14d599b1f477222b732b0",
        "IPY_MODEL_3423ee1a8b4042b6a56fafd4988535d9"
       ],
       "layout": "IPY_MODEL_172d4abac0674cd5bbea8bca24a38bb0"
      }
     },
     "e171e2253af949ed893e6e9b4ac9637b": {
      "model_module": "@jupyter-widgets/controls",
      "model_module_version": "1.5.0",
      "model_name": "HTMLModel",
      "state": {
       "_dom_classes": [],
       "_model_module": "@jupyter-widgets/controls",
       "_model_module_version": "1.5.0",
       "_model_name": "HTMLModel",
       "_view_count": null,
       "_view_module": "@jupyter-widgets/controls",
       "_view_module_version": "1.5.0",
       "_view_name": "HTMLView",
       "description": "",
       "description_tooltip": null,
       "layout": "IPY_MODEL_9079d48c3eb14e448854be61b92c768e",
       "placeholder": "​",
       "style": "IPY_MODEL_9514c561f81442caaf1342e1d736da1f",
       "value": "100%"
      }
     },
     "e2d51a1b5f76466293af4aeefb2db115": {
      "model_module": "@jupyter-widgets/controls",
      "model_module_version": "1.5.0",
      "model_name": "DescriptionStyleModel",
      "state": {
       "_model_module": "@jupyter-widgets/controls",
       "_model_module_version": "1.5.0",
       "_model_name": "DescriptionStyleModel",
       "_view_count": null,
       "_view_module": "@jupyter-widgets/base",
       "_view_module_version": "1.2.0",
       "_view_name": "StyleView",
       "description_width": ""
      }
     },
     "e3b220472f2245769ab929f3741150cb": {
      "model_module": "@jupyter-widgets/controls",
      "model_module_version": "1.5.0",
      "model_name": "HTMLModel",
      "state": {
       "_dom_classes": [],
       "_model_module": "@jupyter-widgets/controls",
       "_model_module_version": "1.5.0",
       "_model_name": "HTMLModel",
       "_view_count": null,
       "_view_module": "@jupyter-widgets/controls",
       "_view_module_version": "1.5.0",
       "_view_name": "HTMLView",
       "description": "",
       "description_tooltip": null,
       "layout": "IPY_MODEL_6b475becc1c74101bd7765fcc0a9fc1f",
       "placeholder": "​",
       "style": "IPY_MODEL_760f9c1edac54e5fa9639904ac576780",
       "value": "100%"
      }
     },
     "e4951116631a421898c39b4f4dd86f0f": {
      "model_module": "@jupyter-widgets/controls",
      "model_module_version": "1.5.0",
      "model_name": "DescriptionStyleModel",
      "state": {
       "_model_module": "@jupyter-widgets/controls",
       "_model_module_version": "1.5.0",
       "_model_name": "DescriptionStyleModel",
       "_view_count": null,
       "_view_module": "@jupyter-widgets/base",
       "_view_module_version": "1.2.0",
       "_view_name": "StyleView",
       "description_width": ""
      }
     },
     "e51915f148fb413b93aba7c6a32bed14": {
      "model_module": "@jupyter-widgets/base",
      "model_module_version": "1.2.0",
      "model_name": "LayoutModel",
      "state": {
       "_model_module": "@jupyter-widgets/base",
       "_model_module_version": "1.2.0",
       "_model_name": "LayoutModel",
       "_view_count": null,
       "_view_module": "@jupyter-widgets/base",
       "_view_module_version": "1.2.0",
       "_view_name": "LayoutView",
       "align_content": null,
       "align_items": null,
       "align_self": null,
       "border": null,
       "bottom": null,
       "display": null,
       "flex": null,
       "flex_flow": null,
       "grid_area": null,
       "grid_auto_columns": null,
       "grid_auto_flow": null,
       "grid_auto_rows": null,
       "grid_column": null,
       "grid_gap": null,
       "grid_row": null,
       "grid_template_areas": null,
       "grid_template_columns": null,
       "grid_template_rows": null,
       "height": null,
       "justify_content": null,
       "justify_items": null,
       "left": null,
       "margin": null,
       "max_height": null,
       "max_width": null,
       "min_height": null,
       "min_width": null,
       "object_fit": null,
       "object_position": null,
       "order": null,
       "overflow": null,
       "overflow_x": null,
       "overflow_y": null,
       "padding": null,
       "right": null,
       "top": null,
       "visibility": null,
       "width": null
      }
     },
     "e5b6f40129db48ea854b837978545001": {
      "model_module": "@jupyter-widgets/base",
      "model_module_version": "1.2.0",
      "model_name": "LayoutModel",
      "state": {
       "_model_module": "@jupyter-widgets/base",
       "_model_module_version": "1.2.0",
       "_model_name": "LayoutModel",
       "_view_count": null,
       "_view_module": "@jupyter-widgets/base",
       "_view_module_version": "1.2.0",
       "_view_name": "LayoutView",
       "align_content": null,
       "align_items": null,
       "align_self": null,
       "border": null,
       "bottom": null,
       "display": null,
       "flex": null,
       "flex_flow": null,
       "grid_area": null,
       "grid_auto_columns": null,
       "grid_auto_flow": null,
       "grid_auto_rows": null,
       "grid_column": null,
       "grid_gap": null,
       "grid_row": null,
       "grid_template_areas": null,
       "grid_template_columns": null,
       "grid_template_rows": null,
       "height": null,
       "justify_content": null,
       "justify_items": null,
       "left": null,
       "margin": null,
       "max_height": null,
       "max_width": null,
       "min_height": null,
       "min_width": null,
       "object_fit": null,
       "object_position": null,
       "order": null,
       "overflow": null,
       "overflow_x": null,
       "overflow_y": null,
       "padding": null,
       "right": null,
       "top": null,
       "visibility": null,
       "width": null
      }
     },
     "e759a4176e834e7fb50dfeae84a305ca": {
      "model_module": "@jupyter-widgets/base",
      "model_module_version": "1.2.0",
      "model_name": "LayoutModel",
      "state": {
       "_model_module": "@jupyter-widgets/base",
       "_model_module_version": "1.2.0",
       "_model_name": "LayoutModel",
       "_view_count": null,
       "_view_module": "@jupyter-widgets/base",
       "_view_module_version": "1.2.0",
       "_view_name": "LayoutView",
       "align_content": null,
       "align_items": null,
       "align_self": null,
       "border": null,
       "bottom": null,
       "display": null,
       "flex": "2",
       "flex_flow": null,
       "grid_area": null,
       "grid_auto_columns": null,
       "grid_auto_flow": null,
       "grid_auto_rows": null,
       "grid_column": null,
       "grid_gap": null,
       "grid_row": null,
       "grid_template_areas": null,
       "grid_template_columns": null,
       "grid_template_rows": null,
       "height": null,
       "justify_content": null,
       "justify_items": null,
       "left": null,
       "margin": null,
       "max_height": null,
       "max_width": null,
       "min_height": null,
       "min_width": null,
       "object_fit": null,
       "object_position": null,
       "order": null,
       "overflow": null,
       "overflow_x": null,
       "overflow_y": null,
       "padding": null,
       "right": null,
       "top": null,
       "visibility": null,
       "width": null
      }
     },
     "e9bedd2a18f54370864696c98c7212f4": {
      "model_module": "@jupyter-widgets/controls",
      "model_module_version": "1.5.0",
      "model_name": "DescriptionStyleModel",
      "state": {
       "_model_module": "@jupyter-widgets/controls",
       "_model_module_version": "1.5.0",
       "_model_name": "DescriptionStyleModel",
       "_view_count": null,
       "_view_module": "@jupyter-widgets/base",
       "_view_module_version": "1.2.0",
       "_view_name": "StyleView",
       "description_width": ""
      }
     },
     "ea678592e4524d3cbda0a4177554abc3": {
      "model_module": "@jupyter-widgets/base",
      "model_module_version": "1.2.0",
      "model_name": "LayoutModel",
      "state": {
       "_model_module": "@jupyter-widgets/base",
       "_model_module_version": "1.2.0",
       "_model_name": "LayoutModel",
       "_view_count": null,
       "_view_module": "@jupyter-widgets/base",
       "_view_module_version": "1.2.0",
       "_view_name": "LayoutView",
       "align_content": null,
       "align_items": null,
       "align_self": null,
       "border": null,
       "bottom": null,
       "display": null,
       "flex": null,
       "flex_flow": null,
       "grid_area": null,
       "grid_auto_columns": null,
       "grid_auto_flow": null,
       "grid_auto_rows": null,
       "grid_column": null,
       "grid_gap": null,
       "grid_row": null,
       "grid_template_areas": null,
       "grid_template_columns": null,
       "grid_template_rows": null,
       "height": null,
       "justify_content": null,
       "justify_items": null,
       "left": null,
       "margin": null,
       "max_height": null,
       "max_width": null,
       "min_height": null,
       "min_width": null,
       "object_fit": null,
       "object_position": null,
       "order": null,
       "overflow": null,
       "overflow_x": null,
       "overflow_y": null,
       "padding": null,
       "right": null,
       "top": null,
       "visibility": null,
       "width": null
      }
     },
     "eaef955172764a08ba524363ba8f196e": {
      "model_module": "@jupyter-widgets/controls",
      "model_module_version": "1.5.0",
      "model_name": "HTMLModel",
      "state": {
       "_dom_classes": [],
       "_model_module": "@jupyter-widgets/controls",
       "_model_module_version": "1.5.0",
       "_model_name": "HTMLModel",
       "_view_count": null,
       "_view_module": "@jupyter-widgets/controls",
       "_view_module_version": "1.5.0",
       "_view_name": "HTMLView",
       "description": "",
       "description_tooltip": null,
       "layout": "IPY_MODEL_aaf68169d623414fb26bc571f8c8b412",
       "placeholder": "​",
       "style": "IPY_MODEL_d1f5734165574f08a75653d0223f7f1c",
       "value": "100%"
      }
     },
     "ed6a0c97ba104a4fbb2f7967dc1f0c55": {
      "model_module": "@jupyter-widgets/controls",
      "model_module_version": "1.5.0",
      "model_name": "ProgressStyleModel",
      "state": {
       "_model_module": "@jupyter-widgets/controls",
       "_model_module_version": "1.5.0",
       "_model_name": "ProgressStyleModel",
       "_view_count": null,
       "_view_module": "@jupyter-widgets/base",
       "_view_module_version": "1.2.0",
       "_view_name": "StyleView",
       "bar_color": null,
       "description_width": ""
      }
     },
     "f19be90a49a64adf9df30ceba97eb641": {
      "model_module": "@jupyter-widgets/base",
      "model_module_version": "1.2.0",
      "model_name": "LayoutModel",
      "state": {
       "_model_module": "@jupyter-widgets/base",
       "_model_module_version": "1.2.0",
       "_model_name": "LayoutModel",
       "_view_count": null,
       "_view_module": "@jupyter-widgets/base",
       "_view_module_version": "1.2.0",
       "_view_name": "LayoutView",
       "align_content": null,
       "align_items": null,
       "align_self": null,
       "border": null,
       "bottom": null,
       "display": null,
       "flex": null,
       "flex_flow": null,
       "grid_area": null,
       "grid_auto_columns": null,
       "grid_auto_flow": null,
       "grid_auto_rows": null,
       "grid_column": null,
       "grid_gap": null,
       "grid_row": null,
       "grid_template_areas": null,
       "grid_template_columns": null,
       "grid_template_rows": null,
       "height": null,
       "justify_content": null,
       "justify_items": null,
       "left": null,
       "margin": null,
       "max_height": null,
       "max_width": null,
       "min_height": null,
       "min_width": null,
       "object_fit": null,
       "object_position": null,
       "order": null,
       "overflow": null,
       "overflow_x": null,
       "overflow_y": null,
       "padding": null,
       "right": null,
       "top": null,
       "visibility": null,
       "width": null
      }
     },
     "f20aaf5cb772499aa832ab390c5e3774": {
      "model_module": "@jupyter-widgets/base",
      "model_module_version": "1.2.0",
      "model_name": "LayoutModel",
      "state": {
       "_model_module": "@jupyter-widgets/base",
       "_model_module_version": "1.2.0",
       "_model_name": "LayoutModel",
       "_view_count": null,
       "_view_module": "@jupyter-widgets/base",
       "_view_module_version": "1.2.0",
       "_view_name": "LayoutView",
       "align_content": null,
       "align_items": null,
       "align_self": null,
       "border": null,
       "bottom": null,
       "display": "inline-flex",
       "flex": null,
       "flex_flow": "row wrap",
       "grid_area": null,
       "grid_auto_columns": null,
       "grid_auto_flow": null,
       "grid_auto_rows": null,
       "grid_column": null,
       "grid_gap": null,
       "grid_row": null,
       "grid_template_areas": null,
       "grid_template_columns": null,
       "grid_template_rows": null,
       "height": null,
       "justify_content": null,
       "justify_items": null,
       "left": null,
       "margin": null,
       "max_height": null,
       "max_width": null,
       "min_height": null,
       "min_width": null,
       "object_fit": null,
       "object_position": null,
       "order": null,
       "overflow": null,
       "overflow_x": null,
       "overflow_y": null,
       "padding": null,
       "right": null,
       "top": null,
       "visibility": null,
       "width": "1000px"
      }
     },
     "f2a8087ffdba463190fd6bb3d493b41b": {
      "model_module": "@jupyter-widgets/controls",
      "model_module_version": "1.5.0",
      "model_name": "HTMLModel",
      "state": {
       "_dom_classes": [],
       "_model_module": "@jupyter-widgets/controls",
       "_model_module_version": "1.5.0",
       "_model_name": "HTMLModel",
       "_view_count": null,
       "_view_module": "@jupyter-widgets/controls",
       "_view_module_version": "1.5.0",
       "_view_name": "HTMLView",
       "description": "",
       "description_tooltip": null,
       "layout": "IPY_MODEL_3dee9af733be445a97ee867221c4f9c5",
       "placeholder": "​",
       "style": "IPY_MODEL_335e0979bcca4f17848079d29d50fffb",
       "value": "100%"
      }
     },
     "f91c90f002c84e31a9c5615f74ae240b": {
      "model_module": "@jupyter-widgets/controls",
      "model_module_version": "1.5.0",
      "model_name": "DescriptionStyleModel",
      "state": {
       "_model_module": "@jupyter-widgets/controls",
       "_model_module_version": "1.5.0",
       "_model_name": "DescriptionStyleModel",
       "_view_count": null,
       "_view_module": "@jupyter-widgets/base",
       "_view_module_version": "1.2.0",
       "_view_name": "StyleView",
       "description_width": ""
      }
     },
     "fa1393c0498848be9230a5cb71fde5e0": {
      "model_module": "@jupyter-widgets/base",
      "model_module_version": "1.2.0",
      "model_name": "LayoutModel",
      "state": {
       "_model_module": "@jupyter-widgets/base",
       "_model_module_version": "1.2.0",
       "_model_name": "LayoutModel",
       "_view_count": null,
       "_view_module": "@jupyter-widgets/base",
       "_view_module_version": "1.2.0",
       "_view_name": "LayoutView",
       "align_content": null,
       "align_items": null,
       "align_self": null,
       "border": null,
       "bottom": null,
       "display": null,
       "flex": null,
       "flex_flow": null,
       "grid_area": null,
       "grid_auto_columns": null,
       "grid_auto_flow": null,
       "grid_auto_rows": null,
       "grid_column": null,
       "grid_gap": null,
       "grid_row": null,
       "grid_template_areas": null,
       "grid_template_columns": null,
       "grid_template_rows": null,
       "height": null,
       "justify_content": null,
       "justify_items": null,
       "left": null,
       "margin": null,
       "max_height": null,
       "max_width": null,
       "min_height": null,
       "min_width": null,
       "object_fit": null,
       "object_position": null,
       "order": null,
       "overflow": null,
       "overflow_x": null,
       "overflow_y": null,
       "padding": null,
       "right": null,
       "top": null,
       "visibility": null,
       "width": null
      }
     },
     "fa88cdc95eea4e5ca21b96493870e993": {
      "model_module": "@jupyter-widgets/base",
      "model_module_version": "1.2.0",
      "model_name": "LayoutModel",
      "state": {
       "_model_module": "@jupyter-widgets/base",
       "_model_module_version": "1.2.0",
       "_model_name": "LayoutModel",
       "_view_count": null,
       "_view_module": "@jupyter-widgets/base",
       "_view_module_version": "1.2.0",
       "_view_name": "LayoutView",
       "align_content": null,
       "align_items": null,
       "align_self": null,
       "border": null,
       "bottom": null,
       "display": null,
       "flex": "2",
       "flex_flow": null,
       "grid_area": null,
       "grid_auto_columns": null,
       "grid_auto_flow": null,
       "grid_auto_rows": null,
       "grid_column": null,
       "grid_gap": null,
       "grid_row": null,
       "grid_template_areas": null,
       "grid_template_columns": null,
       "grid_template_rows": null,
       "height": null,
       "justify_content": null,
       "justify_items": null,
       "left": null,
       "margin": null,
       "max_height": null,
       "max_width": null,
       "min_height": null,
       "min_width": null,
       "object_fit": null,
       "object_position": null,
       "order": null,
       "overflow": null,
       "overflow_x": null,
       "overflow_y": null,
       "padding": null,
       "right": null,
       "top": null,
       "visibility": null,
       "width": null
      }
     },
     "fac9efd1190f44cb94f8ea11e003a6bb": {
      "model_module": "@jupyter-widgets/controls",
      "model_module_version": "1.5.0",
      "model_name": "DescriptionStyleModel",
      "state": {
       "_model_module": "@jupyter-widgets/controls",
       "_model_module_version": "1.5.0",
       "_model_name": "DescriptionStyleModel",
       "_view_count": null,
       "_view_module": "@jupyter-widgets/base",
       "_view_module_version": "1.2.0",
       "_view_name": "StyleView",
       "description_width": ""
      }
     },
     "fe3ba3c8120c41fca9bf5c9b06f6585c": {
      "model_module": "@jupyter-widgets/controls",
      "model_module_version": "1.5.0",
      "model_name": "ProgressStyleModel",
      "state": {
       "_model_module": "@jupyter-widgets/controls",
       "_model_module_version": "1.5.0",
       "_model_name": "ProgressStyleModel",
       "_view_count": null,
       "_view_module": "@jupyter-widgets/base",
       "_view_module_version": "1.2.0",
       "_view_name": "StyleView",
       "bar_color": null,
       "description_width": ""
      }
     },
     "fe805b8d3acf44ab92b84161eb28fce4": {
      "model_module": "@jupyter-widgets/controls",
      "model_module_version": "1.5.0",
      "model_name": "HTMLModel",
      "state": {
       "_dom_classes": [],
       "_model_module": "@jupyter-widgets/controls",
       "_model_module_version": "1.5.0",
       "_model_name": "HTMLModel",
       "_view_count": null,
       "_view_module": "@jupyter-widgets/controls",
       "_view_module_version": "1.5.0",
       "_view_name": "HTMLView",
       "description": "",
       "description_tooltip": null,
       "layout": "IPY_MODEL_f19be90a49a64adf9df30ceba97eb641",
       "placeholder": "​",
       "style": "IPY_MODEL_778f0ea0c5ba46d5abd719766248a15f",
       "value": "100%"
      }
     }
    },
    "version_major": 2,
    "version_minor": 0
   }
  }
 },
 "nbformat": 4,
 "nbformat_minor": 5
}
