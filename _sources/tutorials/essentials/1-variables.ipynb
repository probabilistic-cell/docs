{
 "cells": [
  {
   "cell_type": "markdown",
   "id": "5945baf6",
   "metadata": {},
   "source": [
    "# Variables"
   ]
  },
  {
   "cell_type": "code",
   "execution_count": null,
   "id": "8b4ebcf7",
   "metadata": {},
   "outputs": [],
   "source": [
    "import latenta as la"
   ]
  },
  {
   "cell_type": "markdown",
   "id": "81c3b1fd",
   "metadata": {},
   "source": [
    "When creating a model, we define multidimensional variables, and connect these variables in a graph structure. An algorithm will then run through this graph, and will do different things depending on the type of variable we're working with, e.g. free parameters, distributions, fixed variables, ..."
   ]
  },
  {
   "cell_type": "markdown",
   "id": "8ed8994c",
   "metadata": {},
   "source": [
    "Let's use a very simple dataset as demonstration:"
   ]
  },
  {
   "cell_type": "code",
   "execution_count": null,
   "id": "04d04289",
   "metadata": {},
   "outputs": [],
   "source": [
    "import scanpy as sc\n",
    "\n",
    "adata = sc.datasets.pbmc3k()\n",
    "\n",
    "sc.pp.filter_cells(adata, min_counts = 100)\n",
    "\n",
    "sc.pp.normalize_per_cell(adata)\n",
    "sc.pp.log1p(adata)\n",
    "sc.pp.filter_genes_dispersion(adata)\n",
    "\n",
    "sc.pp.pca(adata)\n",
    "sc.pp.neighbors(adata)"
   ]
  },
  {
   "cell_type": "code",
   "execution_count": null,
   "id": "053e25dd",
   "metadata": {},
   "outputs": [],
   "source": [
    "sc.tl.umap(adata)\n",
    "sc.pl.umap(adata)"
   ]
  },
  {
   "cell_type": "markdown",
   "id": "88b69973",
   "metadata": {},
   "source": [
    "For demonstration purposes, we will focus only on a very broad clustering"
   ]
  },
  {
   "cell_type": "code",
   "execution_count": null,
   "id": "dc138736",
   "metadata": {},
   "outputs": [],
   "source": [
    "sc.tl.leiden(adata, resolution = 0.05)\n",
    "sc.pl.umap(adata, color = [\"CD3D\", \"CD19\", \"CD14\", \"leiden\"], title = [\"CD3D - A T-cell marker\", \"CD19 - A B-cell marker\", \"CD14 - A monocyte marker\", \"leiden\"])"
   ]
  },
  {
   "cell_type": "markdown",
   "id": "9b9468a7",
   "metadata": {},
   "source": [
    "## Definition"
   ]
  },
  {
   "cell_type": "markdown",
   "id": "e5d7ec0f",
   "metadata": {},
   "source": [
    "A variable in latenta is a tensor, meaning it is a set of numbers that live in zero (scalar), one (vector), two (matrix) or more dimensions. Each dimension is annotated with a label, symbol and/or description, and can have further annotation.\n",
    "\n",
    "For example, a dimension can have as label \"gene\", symbol $g$:"
   ]
  },
  {
   "cell_type": "code",
   "execution_count": null,
   "id": "7cb439dd",
   "metadata": {},
   "outputs": [],
   "source": [
    "genes = la.Dim(adata.var.index, id = \"gene\", symbol = \"g\")\n",
    "genes"
   ]
  },
  {
   "cell_type": "markdown",
   "id": "6da87a3a",
   "metadata": {},
   "source": [
    "Similarly, for cells:"
   ]
  },
  {
   "cell_type": "code",
   "execution_count": null,
   "id": "7ca59368",
   "metadata": {},
   "outputs": [],
   "source": [
    "cells = la.Dim(adata.obs.index, id = \"cell\", symbol = \"c\")\n",
    "cells"
   ]
  },
  {
   "cell_type": "markdown",
   "id": "fce3526e",
   "metadata": {},
   "source": [
    "We can define how a variable should look like, without any data, using `la.Definition()`:"
   ]
  },
  {
   "cell_type": "code",
   "execution_count": null,
   "id": "2c716141",
   "metadata": {},
   "outputs": [],
   "source": [
    "counts_definition = la.Definition(\n",
    "    [cells, genes],\n",
    "    \"counts\"\n",
    ")\n",
    "counts_definition"
   ]
  },
  {
   "cell_type": "markdown",
   "id": "1a8aaf39",
   "metadata": {},
   "source": [
    "## Fixed variables"
   ]
  },
  {
   "cell_type": "markdown",
   "id": "ce2a6bb6",
   "metadata": {},
   "source": [
    "Fixed variables never change."
   ]
  },
  {
   "cell_type": "code",
   "execution_count": null,
   "id": "2f770369",
   "metadata": {},
   "outputs": [],
   "source": [
    "counts = la.Fixed(adata.X, definition = counts_definition)"
   ]
  },
  {
   "cell_type": "markdown",
   "id": "174510f1",
   "metadata": {},
   "source": [
    "You can \"run\" a variable by calling it's run function"
   ]
  },
  {
   "cell_type": "code",
   "execution_count": null,
   "id": "3e8384fd",
   "metadata": {},
   "outputs": [],
   "source": [
    "counts.run()"
   ]
  },
  {
   "cell_type": "markdown",
   "id": "b49a5a07",
   "metadata": {},
   "source": [
    "The value can be accessed as well. Because we're working with torch, this value is a `torch.tensor`:"
   ]
  },
  {
   "cell_type": "code",
   "execution_count": null,
   "id": "815b3049",
   "metadata": {},
   "outputs": [],
   "source": [
    "counts.value"
   ]
  },
  {
   "cell_type": "markdown",
   "id": "cb67700b",
   "metadata": {},
   "source": [
    "Likewise, if you want to get the value as a dataframe:"
   ]
  },
  {
   "cell_type": "code",
   "execution_count": null,
   "id": "abf0866c",
   "metadata": {},
   "outputs": [],
   "source": [
    "counts.value_pd"
   ]
  },
  {
   "cell_type": "markdown",
   "id": "c9288ac3",
   "metadata": {},
   "source": [
    "Do note that we can also provide pandas and xarray objects to `la.Fixed()`, and the definition of a variable will be inferred from the object's indices. This does require proper annotation of these indices, which is not the case by default in scanpy:"
   ]
  },
  {
   "cell_type": "code",
   "execution_count": null,
   "id": "d60f47cc",
   "metadata": {},
   "outputs": [],
   "source": [
    "adata.obs.index.name = \"cell\"\n",
    "adata.var.index.name = \"gene\"\n",
    "cluster = la.Fixed((adata.obs[\"leiden\"] == 0).astype(float))\n",
    "cluster"
   ]
  },
  {
   "cell_type": "markdown",
   "id": "1aba929f",
   "metadata": {},
   "source": [
    "Note that we did not provide a definition to this variable, but it was inferred from the series you provided based on the index name (`adata.obs[\"leiden\"].index.name`). The first dimensions of both our `counts` and `leiden` are therefore equal:"
   ]
  },
  {
   "cell_type": "code",
   "execution_count": null,
   "id": "1e959124",
   "metadata": {},
   "outputs": [],
   "source": [
    "cluster[0] == counts[0]"
   ]
  },
  {
   "cell_type": "markdown",
   "id": "0fad331d",
   "metadata": {},
   "source": [
    "For discrete fixed variables, we often like to work in a \"one-hot\" encoding, meaning that we get a TRUE/FALSE matrix if a sample (cell) is part of a particular group (cluster). We can use `la.discrete.DiscreteFixed` to do this conversion for us by providing it with a Categorical Series:"
   ]
  },
  {
   "cell_type": "markdown",
   "id": "417e6372",
   "metadata": {},
   "source": [
    "```{margin}\n",
    "A pandas categorical variable is equivalent to R's factor\n",
    "```"
   ]
  },
  {
   "cell_type": "code",
   "execution_count": null,
   "id": "6ae73bca",
   "metadata": {},
   "outputs": [],
   "source": [
    "adata.obs[\"leiden\"]"
   ]
  },
  {
   "cell_type": "code",
   "execution_count": null,
   "id": "d25285c5",
   "metadata": {},
   "outputs": [],
   "source": [
    "leiden = la.discrete.DiscreteFixed(adata.obs[\"leiden\"])\n",
    "leiden"
   ]
  },
  {
   "cell_type": "code",
   "execution_count": null,
   "id": "b86f437c",
   "metadata": {},
   "outputs": [],
   "source": [
    "leiden.run()\n",
    "leiden.value_pd"
   ]
  },
  {
   "cell_type": "markdown",
   "id": "f8ca97ac",
   "metadata": {},
   "source": [
    "## Parameters"
   ]
  },
  {
   "cell_type": "markdown",
   "id": "c0c2828b",
   "metadata": {},
   "source": [
    "Parameters are variables that are unknown and have to be inferred (optimized) based on our data. Parameters do require a starting default value."
   ]
  },
  {
   "cell_type": "code",
   "execution_count": null,
   "id": "977dad3a",
   "metadata": {},
   "outputs": [],
   "source": [
    "lfc = la.Parameter(0., definition = la.Definition([genes]), label = \"lfc\", symbol = \"lfc\")\n",
    "lfc"
   ]
  },
  {
   "cell_type": "markdown",
   "id": "3c71c930",
   "metadata": {},
   "source": [
    "A combination of fixed and parameter variables form the leaves of our model. Any other types of variables in our models are ultimatily constructed from these leaf variables."
   ]
  },
  {
   "cell_type": "markdown",
   "id": "3360fe2f",
   "metadata": {},
   "source": [
    "Although parameters are \"free\", they can still have constraints. For example, the average expression of a gene can never go below zero, as this would be non-sensical. However, most algorithms cannot directly cope with these constraints and really like to work with parameters that can go from $-\\infty$ to $+\\infty$ (especially if you also want flexibility). We can solve this by transforming each parameter to make sure they fit our constraints."
   ]
  },
  {
   "cell_type": "markdown",
   "id": "a687d777",
   "metadata": {},
   "source": [
    "Frequently used transformations are:\n",
    "\n",
    "Description | Symbol | Transform | Description\n",
    "--- | --- | --- | ----\n",
    "All positive numbers | $R^+$ | `.Exp()` | $e^x$\n",
    "Unit interval | $[0, 1]$ | `.Logistic()` | $\\frac{1}{1+e^{-x}}$\n",
    "Circular (i.e. an angle) | $[0, 2\\pi[$ | `.Circular()` | atan2(y, x)"
   ]
  },
  {
   "cell_type": "code",
   "execution_count": null,
   "id": "2ce76a5e",
   "metadata": {},
   "outputs": [],
   "source": [
    "baseline = la.Parameter(\n",
    "    1.,\n",
    "    definition = la.Definition([genes]),\n",
    "    label = \"baseline\",\n",
    "    symbol = \"baseline\",\n",
    "    transforms = [la.transforms.Exp()]\n",
    ")\n",
    "baseline"
   ]
  },
  {
   "cell_type": "markdown",
   "id": "3207f4f3",
   "metadata": {},
   "source": [
    "## Computed"
   ]
  },
  {
   "cell_type": "markdown",
   "id": "661a3222",
   "metadata": {},
   "source": [
    "We use variables to compute things. In this case we create a variable that depends on other variables, which we call components:"
   ]
  },
  {
   "cell_type": "code",
   "execution_count": null,
   "id": "912d1370",
   "metadata": {},
   "outputs": [],
   "source": [
    "expression = la.links.scalar.Linear(cluster, a = lfc)"
   ]
  },
  {
   "cell_type": "markdown",
   "id": "464f239c",
   "metadata": {},
   "source": [
    "Note that you can always plot your model:"
   ]
  },
  {
   "cell_type": "code",
   "execution_count": null,
   "id": "4df8b01e",
   "metadata": {},
   "outputs": [],
   "source": [
    "expression.plot()"
   ]
  },
  {
   "cell_type": "markdown",
   "id": "d5eed6db",
   "metadata": {},
   "source": [
    "Components can be accessed using python's dot notation:"
   ]
  },
  {
   "cell_type": "code",
   "execution_count": null,
   "id": "77b7cf46",
   "metadata": {},
   "outputs": [],
   "source": [
    "expression.a"
   ]
  },
  {
   "cell_type": "markdown",
   "id": "4c84bc54",
   "metadata": {},
   "source": [
    "We can sometimes also still add or change components after we have initialized the variable:"
   ]
  },
  {
   "cell_type": "code",
   "execution_count": null,
   "id": "a30253a6",
   "metadata": {},
   "outputs": [],
   "source": [
    "expression.b = baseline"
   ]
  },
  {
   "cell_type": "code",
   "execution_count": null,
   "id": "78c0d247",
   "metadata": {},
   "outputs": [],
   "source": [
    "expression.plot()"
   ]
  },
  {
   "cell_type": "markdown",
   "id": "cfd09208",
   "metadata": {},
   "source": [
    "Frequently occuring component names are:\n",
    "\n",
    "Name | Component | Symbol | Description\n",
    "--- | --- | --- | ----\n",
    "Input | `.x` | $x$ | What you put into a computed variable\n",
    "Coefficients, weight, slope | `.a` | $a$ | How much an input affects the output\n",
    "Intercept,  bias | `.b` | $b$ | The baseline value of the output\n",
    "Skew, rate | `.skew`, `.rate` | $\\gamma$ or $\\lambda$ | Scales the input\n",
    "Shift | `.shift` | $\\zeta$ | Shifts the input\n"
   ]
  },
  {
   "cell_type": "markdown",
   "id": "be18120d",
   "metadata": {},
   "source": [
    "## Distributions"
   ]
  },
  {
   "cell_type": "markdown",
   "id": "9b00557a",
   "metadata": {},
   "source": [
    "We often are uncertain about the value of some variables, and this uncertainty is encoded as a distribution. A distribution has two characteristics:\n",
    "- We can take a random sample. For example, we roll a dice and get 3\n",
    "- We can calculate the probability of a particular sample, also known as the likelihood. For example, in a normal dice the probability of observing a 3 is 1/6"
   ]
  },
  {
   "cell_type": "markdown",
   "id": "e8b86db8",
   "metadata": {},
   "source": [
    "A lot of commonly used distributions have an \"average\", also called a location, loc, mu or mean, and an \"uncertainty\", also called the standard deviation, sigma, scale or dispersion."
   ]
  },
  {
   "cell_type": "markdown",
   "id": "92bdb400",
   "metadata": {},
   "source": [
    "Distributions often have the following components:\n",
    "\n",
    "Name | Component | Symbol | Description\n",
    "--- | --- | --- | ----\n",
    "Location | `.loc` | $\\mu$ | The mean, changing this parameter simply shifts the probability function\n",
    "Mean | `.mu` | $\\mu$ | The mean, in case it is not a location parameter\n",
    "Scale | `.scale` | $\\sigma$ | Measure of variability, changing this parameter simply scales the probability function\n",
    "Dispersion | `.dispersion` | $\\theta$ | Measure of variability, in case it is not a scale parameter\n",
    "Probability | `.probs` | $p$ | A probability of success\n",
    "Total counts | `.total_counts` | $n$ | Number of tries"
   ]
  },
  {
   "cell_type": "markdown",
   "id": "5d0c9fea",
   "metadata": {},
   "source": [
    "Depending on the distribution, individual elements of a sample can be dependent. This dependence can be specific to particular dimensions. For example, if we would sample from a OneHotCategorical distribution, there can only be one 1 in every row:"
   ]
  },
  {
   "cell_type": "markdown",
   "id": "c312f3f1",
   "metadata": {},
   "source": [
    "A distribution we typically use for count data is a negative binomial, and more specifically the `NegativeBinomial2` variant that has two input parameters: the average count and the dispersion."
   ]
  },
  {
   "cell_type": "markdown",
   "id": "a515c37c",
   "metadata": {},
   "source": [
    "```{margin}\n",
    "The naming conventions used are those from ProbOnto (https://sites.google.com/site/probonto/home) whenever available.\n",
    "```"
   ]
  },
  {
   "cell_type": "code",
   "execution_count": null,
   "id": "aba595ff",
   "metadata": {},
   "outputs": [],
   "source": [
    "counts = la.distributions.NegativeBinomial2(mu = expression)"
   ]
  },
  {
   "cell_type": "code",
   "execution_count": null,
   "id": "750932fa",
   "metadata": {},
   "outputs": [],
   "source": [
    "counts.run_recursive()\n",
    "counts.value_pd"
   ]
  },
  {
   "cell_type": "markdown",
   "id": "7080498b",
   "metadata": {},
   "source": [
    "Because we model an observation as a distribution, we can calculate how likely this observation is according to this distribution. The goal of any modelling is to maximize this likelihood, while remaining within the constraints imposed by the model."
   ]
  },
  {
   "cell_type": "code",
   "execution_count": null,
   "id": "b77dedf2",
   "metadata": {},
   "outputs": [],
   "source": [
    "counts.likelihood"
   ]
  },
  {
   "cell_type": "markdown",
   "id": "2de4c2d4",
   "metadata": {},
   "source": [
    "## Observations"
   ]
  },
  {
   "cell_type": "markdown",
   "id": "ba433ee8",
   "metadata": {},
   "source": [
    "Observations are fixed variables that follow a distribution. An observation always has some physical connection to reality, but the problem is that we only observe a noisy variant of this reality. This noise is not always purely technical (due to stochastic sampling of mRNAs) but also typically contains biological components (such as transcriptional bursting). Essentially, any variation that cannot be explained by the model is explained away as noise."
   ]
  },
  {
   "cell_type": "code",
   "execution_count": null,
   "id": "11279c06",
   "metadata": {},
   "outputs": [],
   "source": [
    "observation = la.Observation(\n",
    "    adata.X,\n",
    "    counts,\n",
    "    definition = counts_definition\n",
    ")"
   ]
  },
  {
   "cell_type": "markdown",
   "id": "6145ebb7",
   "metadata": {},
   "source": [
    "Running an observation does the same thing as running a fixed variable"
   ]
  },
  {
   "cell_type": "code",
   "execution_count": null,
   "id": "1e12b17d",
   "metadata": {},
   "outputs": [],
   "source": [
    "observation.run()"
   ]
  },
  {
   "cell_type": "markdown",
   "id": "33fef9f1",
   "metadata": {},
   "source": [
    "However, we can now also calculate the (log-)likelihood of the sample"
   ]
  },
  {
   "cell_type": "code",
   "execution_count": null,
   "id": "473ba11f",
   "metadata": {},
   "outputs": [],
   "source": [
    "observation.likelihood"
   ]
  },
  {
   "cell_type": "markdown",
   "id": "e3ba6818",
   "metadata": {},
   "source": [
    "## Latent"
   ]
  },
  {
   "cell_type": "markdown",
   "id": "8e55e900",
   "metadata": {},
   "source": [
    "Latent variables are unknown, but in contrast to a parameter they follow a distribution. Latent variables are central to probabilistic modelling, because they encompass two types of uncertainty:"
   ]
  },
  {
   "cell_type": "markdown",
   "id": "66761bfc",
   "metadata": {},
   "source": [
    "### Uncertainty inherent to the system\n",
    "If we take a random cell from our blood, this cell will be part of some celltype that we do not know (yet). This uncertainty is simply inherent to the population of cells. There's literally nothing we can do to reduce this uncertainty in the whole population. Instead, we model this uncertainty in the way it is, i.e. as a distribution with some known and/or unknown components.\n",
    "This type of uncertainty is often of interest, and can help us interpret the model. For example, we may be interested in how the cell type abundance change across different conditions. Other examples include:\n",
    "- The distribution of all cell's pseudotime. Are there more early than late cells? Does this change between conditions?\n",
    "- The distribution of the gene's fold changes. Are there more genes upregulated than downregulated? Are there a couple of genes with massive changes, while all other genes do not change at all?\n",
    "````{margin}\n",
    "```{seealso}\n",
    "https://en.wikipedia.org/wiki/Uncertainty_quantification#Aleatoric_and_epistemic_uncertainty\n",
    "```\n",
    "````\n",
    "```{note}\n",
    "In general, we call this \"aleatoric uncertainty\". In bayesian modelling, this type of uncertainty is typically encoded as the prior distribution.\n",
    "````"
   ]
  },
  {
   "cell_type": "markdown",
   "id": "b6c3068d",
   "metadata": {},
   "source": [
    "### Uncertainty because of lack of data\n",
    "\n",
    "If we focus on a particular cell in the blood, and we want to know its celltype. Without observing anything about this cell, our uncertainty will be equal to the uncertainty inherent to the system. However, if we would now observe some genes, our uncertainty for this cell would decrease. The more genes we observe, the more and more certain we will become.\n",
    "\n",
    "This type of uncertainty we want to reduce as much as possible, because it indicates that we lack data. Still, we need to model this type of uncertainty to have an idea about how certain we are and to test competing hypotheses.\n",
    "\n",
    "```{note}\n",
    "In general, we call this \"epistemic uncertainty\". In bayesian modelling, this type of uncertainty is typically encoded as the posterior.\n",
    "```"
   ]
  },
  {
   "cell_type": "markdown",
   "id": "41b317a0",
   "metadata": {},
   "source": [
    "Latent variables essentially combine both types of uncertainty:"
   ]
  },
  {
   "cell_type": "markdown",
   "id": "b7959721",
   "metadata": {},
   "source": [
    "Name | Component | Symbol | Description\n",
    "--- | --- | --- | ----\n",
    "Prior distribution | `.p` | $p$ | The distribution followed by the variable. Note that this distribution can depend on other parameters, latent or fixed variables.\n",
    "Variational distribution | `.q` | $q$ | An approximation of the posterior distribution, i.e. the distribution followed by a variable after observing the data. The parameters of this distribution can be estimated directly (i.e. as one or more Parameter) or through the observed data through amortization"
   ]
  },
  {
   "cell_type": "markdown",
   "id": "98bfab15",
   "metadata": {},
   "source": [
    "Sometimes components of the prior distribution may themselves depend on a latent variable. In that case, this distribution will encompass both types of uncertainty."
   ]
  }
 ],
 "metadata": {
  "jupytext": {
   "encoding": "# -*- coding: utf-8 -*-",
   "formats": "ipynb,py:percent"
  },
  "kernelspec": {
   "display_name": "Python 3 (ipykernel)",
   "language": "python",
   "name": "python3"
  }
 },
 "nbformat": 4,
 "nbformat_minor": 5
}
