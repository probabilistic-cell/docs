{
 "cells": [
  {
   "cell_type": "code",
   "execution_count": 186,
   "id": "0fc99b89-ba50-4ff6-9c6c-96707badb942",
   "metadata": {},
   "outputs": [
    {
     "name": "stdout",
     "output_type": "stream",
     "text": [
      "The autoreload extension is already loaded. To reload it, use:\n",
      "  %reload_ext autoreload\n"
     ]
    }
   ],
   "source": [
    "from IPython import get_ipython\n",
    "if get_ipython():\n",
    "    get_ipython().run_line_magic(\"load_ext\", \"autoreload\")\n",
    "    get_ipython().run_line_magic(\"autoreload\", \"2\")\n",
    "\n",
    "import numpy as np\n",
    "import pandas as pd\n",
    "import torch\n",
    "import math\n",
    "\n",
    "import xarray as xr\n",
    "\n",
    "import matplotlib.pyplot as plt\n",
    "import seaborn as sns\n",
    "\n",
    "import collections\n",
    "\n",
    "import latenta as la\n",
    "la.logger.setLevel(\"INFO\")"
   ]
  },
  {
   "cell_type": "code",
   "execution_count": 187,
   "id": "16a1b4b6-7f07-4f73-8ffe-e96f738c8a4f",
   "metadata": {},
   "outputs": [],
   "source": [
    "cells = la.Dim(pd.Series(range(3), name = \"cell\").astype(str))\n",
    "axes = la.Dim(pd.Series(range(2), name = \"axis\").astype(str))"
   ]
  },
  {
   "cell_type": "code",
   "execution_count": 188,
   "id": "900b6637-45ef-4f24-829c-76b27995d262",
   "metadata": {},
   "outputs": [],
   "source": [
    "q = la.distributions.Normal(\n",
    "    la.Fixed(np.array([[0., 0.], [1., 0.], [1., 0.]]), definition = la.Definition([cells, axes])),\n",
    "    scale = la.Fixed(0.1),\n",
    "    transforms = [la.transforms.Circular()]\n",
    ")"
   ]
  },
  {
   "cell_type": "code",
   "execution_count": 189,
   "id": "6e83c2f0-d139-4442-96ff-388cbaab7010",
   "metadata": {},
   "outputs": [],
   "source": [
    "p = la.distributions.Normal(\n",
    "    la.Parameter(-1., definition = la.Definition([cells, axes])),\n",
    "    transforms = [la.transforms.Circular()]\n",
    ")"
   ]
  },
  {
   "cell_type": "code",
   "execution_count": 190,
   "id": "d675e202-8c3c-416a-8808-7d71cc38d44c",
   "metadata": {},
   "outputs": [],
   "source": [
    "latent = la.Latent(p, q)"
   ]
  },
  {
   "cell_type": "code",
   "execution_count": 191,
   "id": "65ab22a4-7266-4e8b-a133-6282042bf036",
   "metadata": {},
   "outputs": [
    {
     "data": {
      "application/vnd.jupyter.widget-view+json": {
       "model_id": "f9ced9030f2b4841b8c986a3432e1d76",
       "version_major": 2,
       "version_minor": 0
      },
      "text/plain": [
       "  0%|          | 0/20 [00:00<?, ?it/s]"
      ]
     },
     "metadata": {},
     "output_type": "display_data"
    }
   ],
   "source": [
    "observed = la.posterior.Observed(latent)\n",
    "observed.sample(20)\n",
    "elbo_before = observed.elbo"
   ]
  },
  {
   "cell_type": "code",
   "execution_count": 192,
   "id": "db1bb5b9-1ff6-4d2d-b1db-f0b025f5ac3a",
   "metadata": {},
   "outputs": [
    {
     "data": {
      "application/vnd.jupyter.widget-view+json": {
       "model_id": "79eac2f90fbe4671a216b4497baea667",
       "version_major": 2,
       "version_minor": 0
      },
      "text/plain": [
       "  0%|                                                                                                         …"
      ]
     },
     "metadata": {},
     "output_type": "display_data"
    }
   ],
   "source": [
    "    latent.reset_recursive()\n",
    "    inference = la.infer.svi.SVI(\n",
    "        latent,\n",
    "        [la.infer.loss.ELBO()],\n",
    "        la.infer.optim.Adam(lr = 0.05),\n",
    "        # subsamplers = {\"cell\":la.infer.subsampling.WeightedSubsampler(weights_value, 1000)},\n",
    "        device = \"cpu\"\n",
    "    )\n",
    "    trainer = la.infer.trainer.Trainer(inference)\n",
    "    trace = trainer.train(10000)"
   ]
  },
  {
   "cell_type": "code",
   "execution_count": 199,
   "id": "784b46da-d340-438d-8a39-159ec3d4438b",
   "metadata": {},
   "outputs": [],
   "source": [
    "assert ((q.loc.prior() - p.loc.prior())**2).detach().sum().sqrt() < 0.5"
   ]
  },
  {
   "cell_type": "code",
   "execution_count": 200,
   "id": "4c1efb0d-5495-4cfe-9bb4-7f17fdc129b3",
   "metadata": {},
   "outputs": [
    {
     "data": {
      "application/vnd.jupyter.widget-view+json": {
       "model_id": "87a2f238071341418cc20b427c83344f",
       "version_major": 2,
       "version_minor": 0
      },
      "text/plain": [
       "  0%|          | 0/20 [00:00<?, ?it/s]"
      ]
     },
     "metadata": {},
     "output_type": "display_data"
    }
   ],
   "source": [
    "observed = la.posterior.Observed(latent)\n",
    "observed.sample(20)\n",
    "observed.elbo\n",
    "\n",
    "assert elbo_before < observed.elbo\n",
    "assert observed.elbo - elbo_before > 3"
   ]
  },
  {
   "cell_type": "code",
   "execution_count": null,
   "id": "33523157-86f7-431d-9167-5e9a635af0b4",
   "metadata": {},
   "outputs": [],
   "source": []
  }
 ],
 "metadata": {
  "kernelspec": {
   "display_name": "Python 3 (ipykernel)",
   "language": "python",
   "name": "python3"
  },
  "language_info": {
   "codemirror_mode": {
    "name": "ipython",
    "version": 3
   },
   "file_extension": ".py",
   "mimetype": "text/x-python",
   "name": "python",
   "nbconvert_exporter": "python",
   "pygments_lexer": "ipython3",
   "version": "3.8.10"
  }
 },
 "nbformat": 4,
 "nbformat_minor": 5
}
