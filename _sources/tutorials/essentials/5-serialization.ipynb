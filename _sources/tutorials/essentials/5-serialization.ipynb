{
 "cells": [
  {
   "cell_type": "markdown",
   "id": "c41e444e",
   "metadata": {},
   "source": [
    "# Serialization"
   ]
  },
  {
   "cell_type": "code",
   "execution_count": null,
   "id": "64bdec88",
   "metadata": {},
   "outputs": [],
   "source": [
    "import latenta as la"
   ]
  }
 ],
 "metadata": {
  "jupytext": {
   "encoding": "# -*- coding: utf-8 -*-",
   "formats": "ipynb,py:percent"
  },
  "kernelspec": {
   "display_name": "Python 3 (ipykernel)",
   "language": "python",
   "name": "python3"
  }
 },
 "nbformat": 4,
 "nbformat_minor": 5
}
