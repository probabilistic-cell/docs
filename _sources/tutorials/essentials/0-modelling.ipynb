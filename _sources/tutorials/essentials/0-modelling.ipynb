{
 "cells": [
  {
   "cell_type": "markdown",
   "id": "2416e187",
   "metadata": {},
   "source": [
    "# The essentials of modelling with latenta"
   ]
  },
  {
   "cell_type": "markdown",
   "id": "4988a316",
   "metadata": {},
   "source": [
    "With a background in single-cell biology, chances are high you already created many types of models:\n",
    "- Clustering\n",
    "- Dimensionality reduction\n",
    "- Differential expression\n",
    "- Trajectories\n",
    "- RNA velocity"
   ]
  },
  {
   "cell_type": "markdown",
   "id": "fd614d79",
   "metadata": {},
   "source": [
    "All these models have several aspects in common: we try to explain what we observe (the transcriptome of many cells), using things we do not know. These unknowns can be specific to a gene (such as a gene's fold change or dynamics during a trajectory), a cell (such as a cells position in a reduced space or its pseudotime) or both (e.g. the future state of a cell)."
   ]
  },
  {
   "cell_type": "markdown",
   "id": "6dc788ab",
   "metadata": {},
   "source": [
    "## But why would I want to model data?"
   ]
  },
  {
   "cell_type": "markdown",
   "id": "4bcfd3aa",
   "metadata": {},
   "source": [
    "Why model data? You as a user probably have either of two goals in mind: prediction or understanding.\n",
    "\n",
    "- For **prediction**, we mainly care about make generalizable models. Generalizability means we want a model that not only works on the cells we just killed in an experiment, but also want to make good predictions about any future cells (and ideally, patients). When predicting, we typically do not care much about interpretability. However, just like we often want to know the mechanism of a potential drug, having an interpretable model can also be useful when making predictions.\n",
    "- For **understanding**, we care both about both interpretability and generalizability. For this reason, a model that is useful for understanding is often also good at making predictions.\n",
    "\n",
    "Interpretable models however often:\n",
    "  - Require a bit more data, because there are more free parameters\n",
    "  - Require more effort from the modeller. It's hard to create a \"black-box\" interpretable model as that would require an impossible amount of data. Rather, we specify some possible models and by doing that we bring in some prior knowledge and what interpretability means for us.\n",
    "\n",
    "Latenta is primarily made to create models for understanding: to make it easier for the (computational) biologist to create, infer, interpret and share models."
   ]
  },
  {
   "cell_type": "markdown",
   "id": "cdfbc145",
   "metadata": {},
   "source": [
    "```{note}\n",
    "Latenta is very related, and borrows elements, from tools such as stan, tensorflow and torch. However, we focused on making the entry barrier much lower, by focussing on:\n",
    "- Modularity, so that you can easily reuse parts made by others without having to understand them (although it can help!)\n",
    "- Dummy-proofing, so that it is obvious what is wrong with a model early on\n",
    "- Interpretability, so that we can easily see what our model is doing\n",
    "\n",
    "Our hope is that these aspects make it easier to bridge machine learning and biology\n",
    "```"
   ]
  },
  {
   "cell_type": "markdown",
   "id": "fb441887",
   "metadata": {},
   "source": [
    "Modelling can sometimes be frustrating if you lack the necessary background. Whatever you do, and whichever tool you use, always keep in mind:\n",
    "- Modelling should be fun, and not having fun often means you lack some knowledge or that you are asking too much from the data\n",
    "- Experience is the source of knowledge\n",
    "- The best experience is the one you built up slowly but surely, starting from what others have done and then try to adapt and experiment\n",
    "\n",
    "Latenta is made with these elements in mind. It's relatively straightforward to reuse other people's models without caring about the details. But you can then delve into parts of a model, change some elements where needed and combine different models. In the end, after some effort, knowledge will come."
   ]
  },
  {
   "cell_type": "markdown",
   "id": "f70903eb",
   "metadata": {},
   "source": [
    "## Different layers of latenta\n",
    "\n",
    "Latenta has different layers of complexity:\n",
    "\n",
    "- At the highest level, we provide common functions that create a couple of variables for you. These for example include modelling of transcriptomics, proteomics, chromatin accessibility, trajectories, ...\n",
    "- At the medium level, we provide ways to create individual variables and connect them with eachother.\n",
    "- At the lowest level, we provide ways to create custom sets of variables.\n",
    "\n",
    "If you're relatively new to modelling, it's often easier to start working with the highest level functions, and slowly learn to work with lower (but more flexible) thinking."
   ]
  },
  {
   "cell_type": "markdown",
   "id": "24e91b56",
   "metadata": {},
   "source": [
    "Any model is a mathematical representation of reality, and building models does require some mathematics. Although latenta may make this easier, it would be unwise to completely abstract away every mathematical concept. Some probability, statistics and machine learning concepts are simply too central for modelling (and, in fact, biology!) to hide. In these tutorials, we often refer you to relevant \"explanation\" resources (denoted by a see also sign) where you can improve your understanding of some of these concepts."
   ]
  },
  {
   "cell_type": "code",
   "execution_count": null,
   "id": "d520a583",
   "metadata": {},
   "outputs": [],
   "source": []
  }
 ],
 "metadata": {
  "jupytext": {
   "formats": "ipynb,py:percent"
  },
  "kernelspec": {
   "display_name": "Python 3 (ipykernel)",
   "language": "python",
   "name": "python3"
  },
  "language_info": {
   "codemirror_mode": {
    "name": "ipython",
    "version": 3
   },
   "file_extension": ".py",
   "mimetype": "text/x-python",
   "name": "python",
   "nbconvert_exporter": "python",
   "pygments_lexer": "ipython3",
   "version": "3.8.10"
  }
 },
 "nbformat": 4,
 "nbformat_minor": 5
}
