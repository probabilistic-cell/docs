{
 "cells": [
  {
   "cell_type": "markdown",
   "id": "c41e444e",
   "metadata": {},
   "source": [
    "# Workflows"
   ]
  },
  {
   "cell_type": "markdown",
   "id": "ca07933e-66cf-42a2-9ff9-d31aa4c22334",
   "metadata": {},
   "source": [
    "For now we mainly looked at models in isolation. However, the true power of probabilistic modelling lies in its ability to move beyond the \"one-model-fits-all\" idea, but rather create a variety of models and connect or compare them in various ways. Indeed, even for a normal use cases, we already typically go up to a dozen models or more. In more complex experimental designs, which are becoming every more common, this can easily go up to a hundred or more."
   ]
  },
  {
   "cell_type": "code",
   "execution_count": 1,
   "id": "64bdec88",
   "metadata": {
    "execution": {
     "iopub.execute_input": "2021-11-02T10:41:13.236960Z",
     "iopub.status.busy": "2021-11-02T10:41:13.236604Z",
     "iopub.status.idle": "2021-11-02T10:41:14.677132Z",
     "shell.execute_reply": "2021-11-02T10:41:14.676792Z"
    }
   },
   "outputs": [],
   "source": [
    "%load_ext autoreload\n",
    "%autoreload 2\n",
    "import latenta as la\n",
    "import lacell as lac\n",
    "import numpy as np"
   ]
  },
  {
   "cell_type": "markdown",
   "id": "92267d0c-2c29-4dca-93a6-df6e11df7851",
   "metadata": {},
   "source": [
    "Even in relatively simple use cases, managing different models, storing them across sessions, and let them depend on each other can be a pain. To make this easier, we created a small workflow manager in the _laflow_ package. It borrows elements from other workflow managers such as snakemake or nextflow. However, it is much more focused on interactivity, modularization and model inheritance, all concepts very central to the modelling we're doing here.\n",
    "\n",
    "The core tasks of laflow is:\n",
    "- **Persistence**, to store sure models and its derivatives on disk\n",
    "- **Model inheritance**, creation of similar models that only differ in certain aspects\n",
    "- **Connecting data**, to explicitely define what objects are needed to produce what"
   ]
  },
  {
   "cell_type": "code",
   "execution_count": 2,
   "id": "95ac7ce5-08eb-4936-989c-74dd5c159b3a",
   "metadata": {
    "execution": {
     "iopub.execute_input": "2021-11-02T10:41:14.680183Z",
     "iopub.status.busy": "2021-11-02T10:41:14.679080Z",
     "iopub.status.idle": "2021-11-02T10:41:14.693159Z",
     "shell.execute_reply": "2021-11-02T10:41:14.693393Z"
    }
   },
   "outputs": [],
   "source": [
    "import laflow as laf"
   ]
  },
  {
   "cell_type": "markdown",
   "id": "0ff40293-2cf6-4b8f-9e3f-3d79e75692e4",
   "metadata": {},
   "source": [
    "We'll use the same dataset as [before](./1-variables)."
   ]
  },
  {
   "cell_type": "code",
   "execution_count": 3,
   "id": "46e1c2f9-b86b-4272-9ef9-17e5a46e652f",
   "metadata": {
    "execution": {
     "iopub.execute_input": "2021-11-02T10:41:14.696541Z",
     "iopub.status.busy": "2021-11-02T10:41:14.695773Z",
     "iopub.status.idle": "2021-11-02T10:41:15.328441Z",
     "shell.execute_reply": "2021-11-02T10:41:15.328169Z"
    }
   },
   "outputs": [],
   "source": [
    "adata = la.data.load_myod1()"
   ]
  },
  {
   "cell_type": "code",
   "execution_count": 4,
   "id": "1b6cc03b-c47a-4c44-86f8-602539837674",
   "metadata": {
    "execution": {
     "iopub.execute_input": "2021-11-02T10:41:15.331226Z",
     "iopub.status.busy": "2021-11-02T10:41:15.330677Z",
     "iopub.status.idle": "2021-11-02T10:41:18.746794Z",
     "shell.execute_reply": "2021-11-02T10:41:18.746313Z"
    },
    "tags": [
     "hide-input",
     "remove-output"
    ]
   },
   "outputs": [
    {
     "name": "stderr",
     "output_type": "stream",
     "text": [
      "/home/wsaelens/projects/probabilistic-cell/.venv/lib/python3.8/site-packages/anndata/_core/anndata.py:1220: FutureWarning: The `inplace` parameter in pandas.Categorical.reorder_categories is deprecated and will be removed in a future version. Removing unused categories will always return a new Categorical object.\n",
      "  c.reorder_categories(natsorted(c.categories), inplace=True)\n",
      "... storing 'dissociation' as categorical\n"
     ]
    },
    {
     "name": "stderr",
     "output_type": "stream",
     "text": [
      "/home/wsaelens/projects/probabilistic-cell/.venv/lib/python3.8/site-packages/anndata/_core/anndata.py:1220: FutureWarning: The `inplace` parameter in pandas.Categorical.reorder_categories is deprecated and will be removed in a future version. Removing unused categories will always return a new Categorical object.\n",
      "  c.reorder_categories(natsorted(c.categories), inplace=True)\n",
      "... storing 'gene_overexpressed' as categorical\n"
     ]
    },
    {
     "name": "stderr",
     "output_type": "stream",
     "text": [
      "/home/wsaelens/projects/probabilistic-cell/.venv/lib/python3.8/site-packages/anndata/_core/anndata.py:1220: FutureWarning: The `inplace` parameter in pandas.Categorical.reorder_categories is deprecated and will be removed in a future version. Removing unused categories will always return a new Categorical object.\n",
      "  c.reorder_categories(natsorted(c.categories), inplace=True)\n",
      "... storing 'batch' as categorical\n"
     ]
    },
    {
     "name": "stderr",
     "output_type": "stream",
     "text": [
      "/home/wsaelens/projects/probabilistic-cell/.venv/lib/python3.8/site-packages/anndata/_core/anndata.py:1220: FutureWarning: The `inplace` parameter in pandas.Categorical.reorder_categories is deprecated and will be removed in a future version. Removing unused categories will always return a new Categorical object.\n",
      "  c.reorder_categories(natsorted(c.categories), inplace=True)\n",
      "... storing 'biotype' as categorical\n"
     ]
    },
    {
     "name": "stderr",
     "output_type": "stream",
     "text": [
      "/home/wsaelens/projects/probabilistic-cell/.venv/lib/python3.8/site-packages/scanpy/preprocessing/_combat.py:340: RuntimeWarning: divide by zero encountered in true_divide\n",
      "  (abs(g_new - g_old) / g_old).max(), (abs(d_new - d_old) / d_old).max()\n"
     ]
    }
   ],
   "source": [
    "import scanpy as sc\n",
    "\n",
    "adata.raw = adata\n",
    "\n",
    "sc.pp.normalize_per_cell(adata)\n",
    "sc.pp.log1p(adata)\n",
    "\n",
    "sc.pp.combat(adata)\n",
    "sc.pp.pca(adata)\n",
    "\n",
    "sc.pp.neighbors(adata)\n",
    "sc.tl.umap(adata)\n",
    "\n",
    "adata.obs[\"log_overexpression\"] = np.log1p(adata.obs[\"overexpression\"])"
   ]
  },
  {
   "cell_type": "markdown",
   "id": "f4ed7637-f900-4df1-8d6c-314aff7e1881",
   "metadata": {},
   "source": [
    "## Persistence"
   ]
  },
  {
   "cell_type": "markdown",
   "id": "4192e621-8002-45e0-95f1-26ec53318101",
   "metadata": {},
   "source": [
    "The basis of _laflow_ is the {class}`~laflow.Flow` class. Each instance we create is associated with a particular folder on disk, starting from a given root directory. We work from a temporary directory in these tutorials, but in real life use cases this root is typically  your project's root directory or one of its subdirectories."
   ]
  },
  {
   "cell_type": "code",
   "execution_count": 5,
   "id": "b50f9f6c-c147-4934-83e0-39e2ab96f10e",
   "metadata": {
    "execution": {
     "iopub.execute_input": "2021-11-02T10:41:18.749825Z",
     "iopub.status.busy": "2021-11-02T10:41:18.749338Z",
     "iopub.status.idle": "2021-11-02T10:41:18.765970Z",
     "shell.execute_reply": "2021-11-02T10:41:18.765483Z"
    }
   },
   "outputs": [],
   "source": [
    "import tempfile\n",
    "import pathlib\n",
    "\n",
    "project_root = pathlib.Path(tempfile.TemporaryDirectory().name)\n",
    "project_root.mkdir()\n",
    "laf.set_project_root(project_root)  # sets the default project root"
   ]
  },
  {
   "cell_type": "markdown",
   "id": "bc6b41e6-f769-4908-9fb2-abde5670234a",
   "metadata": {},
   "source": [
    "We can then create a {class}`~laflow.Flow` object as follows. Because we have set the default root for this python session, we don't have to provide this explicitely. All we need to provide is a name for the flow:"
   ]
  },
  {
   "cell_type": "code",
   "execution_count": 6,
   "id": "00f27ea1-efb4-494e-949e-ad9ad5903672",
   "metadata": {
    "execution": {
     "iopub.execute_input": "2021-11-02T10:41:18.768525Z",
     "iopub.status.busy": "2021-11-02T10:41:18.768044Z",
     "iopub.status.idle": "2021-11-02T10:41:18.785253Z",
     "shell.execute_reply": "2021-11-02T10:41:18.784799Z"
    }
   },
   "outputs": [
    {
     "data": {
      "text/plain": [
       "PosixPath('/tmp/tmplldaxr21/dataset')"
      ]
     },
     "execution_count": 6,
     "metadata": {},
     "output_type": "execute_result"
    }
   ],
   "source": [
    "dataset = laf.Flow(\"dataset\")\n",
    "dataset.path  # the path associated with this flow"
   ]
  },
  {
   "cell_type": "markdown",
   "id": "cbe2dbe1-8c2b-4492-a15c-853ed87f9425",
   "metadata": {},
   "source": [
    "This folder will store information on each object, links to other objects or flows, and the objects themselves if they are labeled as persistent. We can store a python object inside a flow by simply assigning it:"
   ]
  },
  {
   "cell_type": "code",
   "execution_count": 7,
   "id": "f1916ca7-4d2d-4751-88b2-8963e77447df",
   "metadata": {
    "execution": {
     "iopub.execute_input": "2021-11-02T10:41:18.788081Z",
     "iopub.status.busy": "2021-11-02T10:41:18.787263Z",
     "iopub.status.idle": "2021-11-02T10:41:18.817935Z",
     "shell.execute_reply": "2021-11-02T10:41:18.817542Z"
    }
   },
   "outputs": [],
   "source": [
    "dataset.adata = adata"
   ]
  },
  {
   "cell_type": "markdown",
   "id": "8dce0ffe-42bf-4b33-abdc-1ba3ee058865",
   "metadata": {},
   "source": [
    "Because python objects are by default persistent, the `adata` object was saved in the folder as a pickle. Along with it is a info json file which is used internally to keep track which type of object it is and how it was created."
   ]
  },
  {
   "cell_type": "code",
   "execution_count": 8,
   "id": "32b42049-fb75-487a-985b-7256f38a6303",
   "metadata": {
    "execution": {
     "iopub.execute_input": "2021-11-02T10:41:18.822538Z",
     "iopub.status.busy": "2021-11-02T10:41:18.822074Z",
     "iopub.status.idle": "2021-11-02T10:41:19.024088Z",
     "shell.execute_reply": "2021-11-02T10:41:19.024456Z"
    }
   },
   "outputs": [
    {
     "name": "stdout",
     "output_type": "stream",
     "text": [
      "total 17M\r\n",
      "-rw-r--r-- 1 wsaelens updepla 156 Nov  2 11:41 adata.info\r\n",
      "-rw-r--r-- 1 wsaelens updepla 17M Nov  2 11:41 adata.pkl\r\n"
     ]
    }
   ],
   "source": [
    "!ls -lh {dataset.path}"
   ]
  },
  {
   "cell_type": "markdown",
   "id": "bb303b21-fb93-44ef-8cc0-8a0e4401ad0a",
   "metadata": {},
   "source": [
    "When working in IPython environments (e.g. Jupyter), we can always check what contents a flow object has as follows:"
   ]
  },
  {
   "cell_type": "code",
   "execution_count": 9,
   "id": "a8c86c6b-1038-49c3-a2c4-fc88fc40ba98",
   "metadata": {
    "execution": {
     "iopub.execute_input": "2021-11-02T10:41:19.028101Z",
     "iopub.status.busy": "2021-11-02T10:41:19.027639Z",
     "iopub.status.idle": "2021-11-02T10:41:19.051796Z",
     "shell.execute_reply": "2021-11-02T10:41:19.051386Z"
    }
   },
   "outputs": [
    {
     "data": {
      "text/html": [
       "<script src=\"https://cdnjs.cloudflare.com/ajax/libs/require.js/2.3.6/require.js\" integrity=\"sha512-vRqhAr2wsn+/cSsyz80psBbCcqzz2GTuhGk3bq3dAyytz4J/8XwFqMjiAGFBj+WM95lHBJ9cDf87T3P8yMrY7A==\" crossorigin=\"anonymous\" referrerpolicy=\"no-referrer\" id=\"script49189\" onload=\"loaded49189\"></script>\n",
       "<style>\n",
       ".la-flow ul {\n",
       "    margin-top:0;\n",
       "    list-style: none;\n",
       "    padding: 0;\n",
       "    padding-left: 10px !important;\n",
       "}\n",
       ".la-flow li {\n",
       "    padding-left: 10px;\n",
       "}\n",
       ".la-flow .instances li {\n",
       "    border-left: 1px dashed #ccc;\n",
       "}\n",
       ".la-flow .steps li {\n",
       "    border-left: 1px dotted #ccc;\n",
       "}\n",
       ".la-flow .soft {\n",
       "    opacity:0.5;\n",
       "}\n",
       "</style>\n",
       "\n",
       "<script>\n",
       "function loaded49189() {\n",
       "    require.config({\n",
       "    paths: {\n",
       "        'fontawesome': 'https://kit.fontawesome.com/77f7a120e4.js'\n",
       "    }\n",
       "    })\n",
       "\n",
       "    require(['fontawesome'], function (fontawesome) {\n",
       "    console.log('Congrats, Font Awesome is installed using Require.js')\n",
       "    })\n",
       "}\n",
       "</script>\n",
       "\n",
       "\n",
       "\n",
       "        <div class='la-flow'><strong>dataset</strong> <span class='soft'>(laflow.flow.Flow)</span><ul class='instances'><li><i class='fas fa-check-square' style='color:#2ECC40;' title='available and persistent'></i> adata <span class='soft'>(Py)</span></li></ul><ul class='steps'></ul>"
      ],
      "text/plain": [
       "<laflow.flow.Flow at 0x7f6559879fd0>"
      ]
     },
     "execution_count": 9,
     "metadata": {},
     "output_type": "execute_result"
    }
   ],
   "source": [
    "dataset"
   ]
  },
  {
   "cell_type": "markdown",
   "id": "234f23aa-7525-4f4b-806a-2cc4bccfd852",
   "metadata": {},
   "source": [
    "Even if we restart our session (simulated here by removing the flow object), we can always retrieve it by recreating a flow object in the correct folder:"
   ]
  },
  {
   "cell_type": "code",
   "execution_count": 10,
   "id": "8aaef670-e512-46d0-b218-9319d400255d",
   "metadata": {
    "execution": {
     "iopub.execute_input": "2021-11-02T10:41:19.057812Z",
     "iopub.status.busy": "2021-11-02T10:41:19.054743Z",
     "iopub.status.idle": "2021-11-02T10:41:19.074304Z",
     "shell.execute_reply": "2021-11-02T10:41:19.073836Z"
    }
   },
   "outputs": [],
   "source": [
    "if \"dataset\" in globals():\n",
    "    del dataset\n",
    "dataset = laf.Flow(\"dataset\")"
   ]
  },
  {
   "cell_type": "code",
   "execution_count": 11,
   "id": "e141def7-df7f-4088-a7d8-f54d7a7181e0",
   "metadata": {
    "execution": {
     "iopub.execute_input": "2021-11-02T10:41:19.079679Z",
     "iopub.status.busy": "2021-11-02T10:41:19.079220Z",
     "iopub.status.idle": "2021-11-02T10:41:19.095064Z",
     "shell.execute_reply": "2021-11-02T10:41:19.094654Z"
    }
   },
   "outputs": [
    {
     "data": {
      "text/html": [
       "<script src=\"https://cdnjs.cloudflare.com/ajax/libs/require.js/2.3.6/require.js\" integrity=\"sha512-vRqhAr2wsn+/cSsyz80psBbCcqzz2GTuhGk3bq3dAyytz4J/8XwFqMjiAGFBj+WM95lHBJ9cDf87T3P8yMrY7A==\" crossorigin=\"anonymous\" referrerpolicy=\"no-referrer\" id=\"script16644\" onload=\"loaded16644\"></script>\n",
       "<style>\n",
       ".la-flow ul {\n",
       "    margin-top:0;\n",
       "    list-style: none;\n",
       "    padding: 0;\n",
       "    padding-left: 10px !important;\n",
       "}\n",
       ".la-flow li {\n",
       "    padding-left: 10px;\n",
       "}\n",
       ".la-flow .instances li {\n",
       "    border-left: 1px dashed #ccc;\n",
       "}\n",
       ".la-flow .steps li {\n",
       "    border-left: 1px dotted #ccc;\n",
       "}\n",
       ".la-flow .soft {\n",
       "    opacity:0.5;\n",
       "}\n",
       "</style>\n",
       "\n",
       "<script>\n",
       "function loaded16644() {\n",
       "    require.config({\n",
       "    paths: {\n",
       "        'fontawesome': 'https://kit.fontawesome.com/77f7a120e4.js'\n",
       "    }\n",
       "    })\n",
       "\n",
       "    require(['fontawesome'], function (fontawesome) {\n",
       "    console.log('Congrats, Font Awesome is installed using Require.js')\n",
       "    })\n",
       "}\n",
       "</script>\n",
       "\n",
       "\n",
       "\n",
       "        <div class='la-flow'><strong>dataset</strong> <span class='soft'>(laflow.flow.Flow)</span><ul class='instances'><li><i class='fas fa-check-square' style='color:#2ECC40;' title='available and persistent'></i> adata <span class='soft'>(Py)</span></li></ul><ul class='steps'></ul>"
      ],
      "text/plain": [
       "<laflow.flow.Flow at 0x7f62ffd0adf0>"
      ]
     },
     "execution_count": 11,
     "metadata": {},
     "output_type": "execute_result"
    }
   ],
   "source": [
    "dataset"
   ]
  },
  {
   "cell_type": "markdown",
   "id": "337fecae-9b99-4128-9421-d1325f853324",
   "metadata": {},
   "source": [
    "We can also have persistence of other objects. If you provide a matplotlib object, this will be stored as a png and pdf:"
   ]
  },
  {
   "cell_type": "code",
   "execution_count": 12,
   "id": "88f211e0-e229-4fd5-b249-208f07b51e22",
   "metadata": {
    "execution": {
     "iopub.execute_input": "2021-11-02T10:41:19.112499Z",
     "iopub.status.busy": "2021-11-02T10:41:19.100209Z",
     "iopub.status.idle": "2021-11-02T10:41:19.229234Z",
     "shell.execute_reply": "2021-11-02T10:41:19.228834Z"
    }
   },
   "outputs": [
    {
     "data": {
      "image/png": "[encoded data removed]",
      "text/plain": [
       "<Figure size 432x288 with 1 Axes>"
      ]
     },
     "metadata": {},
     "output_type": "display_data"
    }
   ],
   "source": [
    "# don't forget the return_fig, or this function will return None and that will be stored as a pickle\n",
    "dataset.basic_umap = sc.pl.umap(dataset.adata, return_fig=True)"
   ]
  },
  {
   "cell_type": "code",
   "execution_count": 13,
   "id": "b4149603-f377-4f66-9130-9ffd0bf4470e",
   "metadata": {
    "execution": {
     "iopub.execute_input": "2021-11-02T10:41:19.231928Z",
     "iopub.status.busy": "2021-11-02T10:41:19.231468Z",
     "iopub.status.idle": "2021-11-02T10:41:19.249581Z",
     "shell.execute_reply": "2021-11-02T10:41:19.249171Z"
    }
   },
   "outputs": [
    {
     "data": {
      "text/html": [
       "<script src=\"https://cdnjs.cloudflare.com/ajax/libs/require.js/2.3.6/require.js\" integrity=\"sha512-vRqhAr2wsn+/cSsyz80psBbCcqzz2GTuhGk3bq3dAyytz4J/8XwFqMjiAGFBj+WM95lHBJ9cDf87T3P8yMrY7A==\" crossorigin=\"anonymous\" referrerpolicy=\"no-referrer\" id=\"script3922\" onload=\"loaded3922\"></script>\n",
       "<style>\n",
       ".la-flow ul {\n",
       "    margin-top:0;\n",
       "    list-style: none;\n",
       "    padding: 0;\n",
       "    padding-left: 10px !important;\n",
       "}\n",
       ".la-flow li {\n",
       "    padding-left: 10px;\n",
       "}\n",
       ".la-flow .instances li {\n",
       "    border-left: 1px dashed #ccc;\n",
       "}\n",
       ".la-flow .steps li {\n",
       "    border-left: 1px dotted #ccc;\n",
       "}\n",
       ".la-flow .soft {\n",
       "    opacity:0.5;\n",
       "}\n",
       "</style>\n",
       "\n",
       "<script>\n",
       "function loaded3922() {\n",
       "    require.config({\n",
       "    paths: {\n",
       "        'fontawesome': 'https://kit.fontawesome.com/77f7a120e4.js'\n",
       "    }\n",
       "    })\n",
       "\n",
       "    require(['fontawesome'], function (fontawesome) {\n",
       "    console.log('Congrats, Font Awesome is installed using Require.js')\n",
       "    })\n",
       "}\n",
       "</script>\n",
       "\n",
       "\n",
       "\n",
       "        <div class='la-flow'><strong>dataset</strong> <span class='soft'>(laflow.flow.Flow)</span><ul class='instances'><li><i class='fas fa-check-square' style='color:#2ECC40;' title='available and persistent'></i> adata <span class='soft'>(Py)</span></li><li><i class='fas fa-check-square' style='color:#2ECC40;' title='available and persistent'></i> basic_umap <span class='soft'>(Figure)</span></li></ul><ul class='steps'></ul>"
      ],
      "text/plain": [
       "<laflow.flow.Flow at 0x7f62ffd0adf0>"
      ]
     },
     "execution_count": 13,
     "metadata": {},
     "output_type": "execute_result"
    }
   ],
   "source": [
    "dataset"
   ]
  },
  {
   "cell_type": "code",
   "execution_count": 14,
   "id": "ea2dc694-e51d-49cd-bbbd-7308a66afe5f",
   "metadata": {
    "execution": {
     "iopub.execute_input": "2021-11-02T10:41:19.252117Z",
     "iopub.status.busy": "2021-11-02T10:41:19.251653Z",
     "iopub.status.idle": "2021-11-02T10:41:19.455424Z",
     "shell.execute_reply": "2021-11-02T10:41:19.455795Z"
    }
   },
   "outputs": [
    {
     "name": "stdout",
     "output_type": "stream",
     "text": [
      "total 18M\r\n",
      "-rw-r--r-- 1 wsaelens updepla 156 Nov  2 11:41 adata.info\r\n",
      "-rw-r--r-- 1 wsaelens updepla 17M Nov  2 11:41 adata.pkl\r\n",
      "-rw-r--r-- 1 wsaelens updepla 165 Nov  2 11:41 basic_umap.info\r\n",
      "-rw-r--r-- 1 wsaelens updepla 18K Nov  2 11:41 basic_umap.pdf\r\n",
      "-rw-r--r-- 1 wsaelens updepla 30K Nov  2 11:41 basic_umap.png\r\n"
     ]
    }
   ],
   "source": [
    "!ls -lh {dataset.path}"
   ]
  },
  {
   "cell_type": "markdown",
   "id": "77e6b710-8fcf-48d7-b862-124ea9cb851a",
   "metadata": {},
   "source": [
    "## Connecting flows"
   ]
  },
  {
   "cell_type": "markdown",
   "id": "7450629d-b9d0-4f99-98a1-c0462662a134",
   "metadata": {},
   "source": [
    "To make our workflows more modular, we use Python's OOP system to systematically let certain flows depend on each other and share common code. For example, a dataset in our example would be defined as follows:"
   ]
  },
  {
   "cell_type": "code",
   "execution_count": 15,
   "id": "8b64c708-9053-49fa-a0a1-ba831416f507",
   "metadata": {
    "execution": {
     "iopub.execute_input": "2021-11-02T10:41:19.459469Z",
     "iopub.status.busy": "2021-11-02T10:41:19.459005Z",
     "iopub.status.idle": "2021-11-02T10:41:19.478929Z",
     "shell.execute_reply": "2021-11-02T10:41:19.478518Z"
    }
   },
   "outputs": [],
   "source": [
    "class Dataset(laf.Flow):\n",
    "    default_name = \"dataset\"\n",
    "    adata = laf.PyObj()"
   ]
  },
  {
   "cell_type": "markdown",
   "id": "d6a3d9f7-7b1d-4409-8a45-af3fd2fb16e0",
   "metadata": {},
   "source": [
    "We can initialize this dataset as before. Note that we do not provide a name in this case as we want to use the default \"dataset\" name:"
   ]
  },
  {
   "cell_type": "code",
   "execution_count": 16,
   "id": "6fbb395b-4fe1-4514-aeb6-d200f37aef52",
   "metadata": {
    "execution": {
     "iopub.execute_input": "2021-11-02T10:41:19.482193Z",
     "iopub.status.busy": "2021-11-02T10:41:19.481732Z",
     "iopub.status.idle": "2021-11-02T10:41:19.515453Z",
     "shell.execute_reply": "2021-11-02T10:41:19.515043Z"
    }
   },
   "outputs": [],
   "source": [
    "dataset = Dataset(adata=adata)"
   ]
  },
  {
   "cell_type": "code",
   "execution_count": 17,
   "id": "56da4823-5e0c-4386-9bf5-e711dd139f08",
   "metadata": {
    "execution": {
     "iopub.execute_input": "2021-11-02T10:41:19.518084Z",
     "iopub.status.busy": "2021-11-02T10:41:19.517622Z",
     "iopub.status.idle": "2021-11-02T10:41:19.536116Z",
     "shell.execute_reply": "2021-11-02T10:41:19.535726Z"
    }
   },
   "outputs": [
    {
     "data": {
      "text/html": [
       "<script src=\"https://cdnjs.cloudflare.com/ajax/libs/require.js/2.3.6/require.js\" integrity=\"sha512-vRqhAr2wsn+/cSsyz80psBbCcqzz2GTuhGk3bq3dAyytz4J/8XwFqMjiAGFBj+WM95lHBJ9cDf87T3P8yMrY7A==\" crossorigin=\"anonymous\" referrerpolicy=\"no-referrer\" id=\"script11505\" onload=\"loaded11505\"></script>\n",
       "<style>\n",
       ".la-flow ul {\n",
       "    margin-top:0;\n",
       "    list-style: none;\n",
       "    padding: 0;\n",
       "    padding-left: 10px !important;\n",
       "}\n",
       ".la-flow li {\n",
       "    padding-left: 10px;\n",
       "}\n",
       ".la-flow .instances li {\n",
       "    border-left: 1px dashed #ccc;\n",
       "}\n",
       ".la-flow .steps li {\n",
       "    border-left: 1px dotted #ccc;\n",
       "}\n",
       ".la-flow .soft {\n",
       "    opacity:0.5;\n",
       "}\n",
       "</style>\n",
       "\n",
       "<script>\n",
       "function loaded11505() {\n",
       "    require.config({\n",
       "    paths: {\n",
       "        'fontawesome': 'https://kit.fontawesome.com/77f7a120e4.js'\n",
       "    }\n",
       "    })\n",
       "\n",
       "    require(['fontawesome'], function (fontawesome) {\n",
       "    console.log('Congrats, Font Awesome is installed using Require.js')\n",
       "    })\n",
       "}\n",
       "</script>\n",
       "\n",
       "\n",
       "\n",
       "        <div class='la-flow'><strong>dataset</strong> <span class='soft'>(__main__.Dataset)</span><ul class='instances'><li><i class='fas fa-check-square' style='color:#2ECC40;' title='available and persistent'></i> basic_umap <span class='soft'>(Figure)</span></li><li><i class='fas fa-check-square' style='color:#2ECC40;' title='available and persistent'></i> adata <span class='soft'>(Py)</span></li></ul><ul class='steps'></ul>"
      ],
      "text/plain": [
       "<__main__.Dataset at 0x7f63057bf460>"
      ]
     },
     "execution_count": 17,
     "metadata": {},
     "output_type": "execute_result"
    }
   ],
   "source": [
    "dataset"
   ]
  },
  {
   "cell_type": "markdown",
   "id": "ddc81bc9-a9d7-4dd9-b035-ac2ea69b1151",
   "metadata": {},
   "source": [
    "If we would then make a model, we could make it depend on the dataset as follows:"
   ]
  },
  {
   "cell_type": "code",
   "execution_count": 18,
   "id": "58819700-ff55-4e90-b0df-f5dfa2639424",
   "metadata": {
    "execution": {
     "iopub.execute_input": "2021-11-02T10:41:19.538601Z",
     "iopub.status.busy": "2021-11-02T10:41:19.538122Z",
     "iopub.status.idle": "2021-11-02T10:41:19.556403Z",
     "shell.execute_reply": "2021-11-02T10:41:19.555994Z"
    }
   },
   "outputs": [],
   "source": [
    "class Model(laf.Flow):\n",
    "    default_name = \"model\"\n",
    "    dataset = laf.FlowObj()"
   ]
  },
  {
   "cell_type": "code",
   "execution_count": 19,
   "id": "7cf22a6c-a761-48bc-ae76-81c1458366a6",
   "metadata": {
    "execution": {
     "iopub.execute_input": "2021-11-02T10:41:19.558894Z",
     "iopub.status.busy": "2021-11-02T10:41:19.558420Z",
     "iopub.status.idle": "2021-11-02T10:41:19.573824Z",
     "shell.execute_reply": "2021-11-02T10:41:19.573435Z"
    }
   },
   "outputs": [],
   "source": [
    "model = Model(dataset=dataset)"
   ]
  },
  {
   "cell_type": "code",
   "execution_count": 20,
   "id": "30b05599-f99c-40fb-b225-6054e1e5d6b1",
   "metadata": {
    "execution": {
     "iopub.execute_input": "2021-11-02T10:41:19.576508Z",
     "iopub.status.busy": "2021-11-02T10:41:19.576047Z",
     "iopub.status.idle": "2021-11-02T10:41:19.592714Z",
     "shell.execute_reply": "2021-11-02T10:41:19.592320Z"
    }
   },
   "outputs": [
    {
     "data": {
      "text/html": [
       "<script src=\"https://cdnjs.cloudflare.com/ajax/libs/require.js/2.3.6/require.js\" integrity=\"sha512-vRqhAr2wsn+/cSsyz80psBbCcqzz2GTuhGk3bq3dAyytz4J/8XwFqMjiAGFBj+WM95lHBJ9cDf87T3P8yMrY7A==\" crossorigin=\"anonymous\" referrerpolicy=\"no-referrer\" id=\"script46703\" onload=\"loaded46703\"></script>\n",
       "<style>\n",
       ".la-flow ul {\n",
       "    margin-top:0;\n",
       "    list-style: none;\n",
       "    padding: 0;\n",
       "    padding-left: 10px !important;\n",
       "}\n",
       ".la-flow li {\n",
       "    padding-left: 10px;\n",
       "}\n",
       ".la-flow .instances li {\n",
       "    border-left: 1px dashed #ccc;\n",
       "}\n",
       ".la-flow .steps li {\n",
       "    border-left: 1px dotted #ccc;\n",
       "}\n",
       ".la-flow .soft {\n",
       "    opacity:0.5;\n",
       "}\n",
       "</style>\n",
       "\n",
       "<script>\n",
       "function loaded46703() {\n",
       "    require.config({\n",
       "    paths: {\n",
       "        'fontawesome': 'https://kit.fontawesome.com/77f7a120e4.js'\n",
       "    }\n",
       "    })\n",
       "\n",
       "    require(['fontawesome'], function (fontawesome) {\n",
       "    console.log('Congrats, Font Awesome is installed using Require.js')\n",
       "    })\n",
       "}\n",
       "</script>\n",
       "\n",
       "\n",
       "\n",
       "        <div class='la-flow'><strong>model</strong> <span class='soft'>(__main__.Model)</span><ul class='instances'><li><i class='fas fa-check-square' style='color:#2ECC40;' title='available and persistent'></i> dataset <span class='soft'>(FlowLink)</span> → dataset <span class='soft'>(__main__.Dataset)</span></li></ul><ul class='steps'></ul>"
      ],
      "text/plain": [
       "<__main__.Model at 0x7f631149efa0>"
      ]
     },
     "execution_count": 20,
     "metadata": {},
     "output_type": "execute_result"
    }
   ],
   "source": [
    "model"
   ]
  },
  {
   "cell_type": "markdown",
   "id": "31dcb434-4a68-4a52-950e-1677d645d25a",
   "metadata": {},
   "source": [
    "The dataset is now linked to the model, and we can access it as follows:"
   ]
  },
  {
   "cell_type": "code",
   "execution_count": 21,
   "id": "caa3b4be-bf08-4a27-9cc9-0ba7efcd8bac",
   "metadata": {
    "execution": {
     "iopub.execute_input": "2021-11-02T10:41:19.595353Z",
     "iopub.status.busy": "2021-11-02T10:41:19.594912Z",
     "iopub.status.idle": "2021-11-02T10:41:19.615213Z",
     "shell.execute_reply": "2021-11-02T10:41:19.614765Z"
    }
   },
   "outputs": [
    {
     "data": {
      "text/html": [
       "<script src=\"https://cdnjs.cloudflare.com/ajax/libs/require.js/2.3.6/require.js\" integrity=\"sha512-vRqhAr2wsn+/cSsyz80psBbCcqzz2GTuhGk3bq3dAyytz4J/8XwFqMjiAGFBj+WM95lHBJ9cDf87T3P8yMrY7A==\" crossorigin=\"anonymous\" referrerpolicy=\"no-referrer\" id=\"script32389\" onload=\"loaded32389\"></script>\n",
       "<style>\n",
       ".la-flow ul {\n",
       "    margin-top:0;\n",
       "    list-style: none;\n",
       "    padding: 0;\n",
       "    padding-left: 10px !important;\n",
       "}\n",
       ".la-flow li {\n",
       "    padding-left: 10px;\n",
       "}\n",
       ".la-flow .instances li {\n",
       "    border-left: 1px dashed #ccc;\n",
       "}\n",
       ".la-flow .steps li {\n",
       "    border-left: 1px dotted #ccc;\n",
       "}\n",
       ".la-flow .soft {\n",
       "    opacity:0.5;\n",
       "}\n",
       "</style>\n",
       "\n",
       "<script>\n",
       "function loaded32389() {\n",
       "    require.config({\n",
       "    paths: {\n",
       "        'fontawesome': 'https://kit.fontawesome.com/77f7a120e4.js'\n",
       "    }\n",
       "    })\n",
       "\n",
       "    require(['fontawesome'], function (fontawesome) {\n",
       "    console.log('Congrats, Font Awesome is installed using Require.js')\n",
       "    })\n",
       "}\n",
       "</script>\n",
       "\n",
       "\n",
       "\n",
       "        <div class='la-flow'><strong>dataset</strong> <span class='soft'>(__main__.Dataset)</span><ul class='instances'><li><i class='fas fa-check-square' style='color:#2ECC40;' title='available and persistent'></i> basic_umap <span class='soft'>(Figure)</span></li><li><i class='fas fa-check-square' style='color:#2ECC40;' title='available and persistent'></i> adata <span class='soft'>(Py)</span></li></ul><ul class='steps'></ul>"
      ],
      "text/plain": [
       "<__main__.Dataset at 0x7f63057bf460>"
      ]
     },
     "execution_count": 21,
     "metadata": {},
     "output_type": "execute_result"
    }
   ],
   "source": [
    "model.dataset"
   ]
  },
  {
   "cell_type": "markdown",
   "id": "38de3791-6cbb-45e8-9e85-b5154281d8ed",
   "metadata": {},
   "source": [
    "This can stack indefintely. On disk, the link to the dataset is stored as a symbolic link:"
   ]
  },
  {
   "cell_type": "code",
   "execution_count": 22,
   "id": "3ec2e269-37a2-4824-b275-4671ae96e7e8",
   "metadata": {
    "execution": {
     "iopub.execute_input": "2021-11-02T10:41:19.617677Z",
     "iopub.status.busy": "2021-11-02T10:41:19.617238Z",
     "iopub.status.idle": "2021-11-02T10:41:19.821256Z",
     "shell.execute_reply": "2021-11-02T10:41:19.821630Z"
    }
   },
   "outputs": [
    {
     "name": "stdout",
     "output_type": "stream",
     "text": [
      "16K\r\n",
      "2 wsaelens 4.0K Nov  2 11:41 \u001b[0m\u001b[01;34m.\u001b[0m\r\n",
      "4 wsaelens 4.0K Nov  2 11:41 \u001b[01;34m..\u001b[0m\r\n",
      "1 wsaelens   24 Nov  2 11:41 \u001b[01;36mdataset\u001b[0m -> \u001b[01;34m/tmp/tmplldaxr21/dataset\u001b[0m\r\n",
      "1 wsaelens   97 Nov  2 11:41 dataset.info\r\n",
      "1 wsaelens   40 Nov  2 11:41 .flow\r\n"
     ]
    }
   ],
   "source": [
    "!ls -lhaG --color=always {model.path} | sed -re 's/^[^ ]* //'"
   ]
  },
  {
   "cell_type": "markdown",
   "id": "38929360-2c53-4577-be41-1a96d88ecc68",
   "metadata": {},
   "source": [
    "## Building workflows"
   ]
  },
  {
   "cell_type": "markdown",
   "id": "b687691d-6604-494e-ac8e-21e60fed0720",
   "metadata": {},
   "source": [
    "We learned how to define and assign objects in a flow, but to create workflows we also need to define how those objects are created and how they depend on each other. We do this by defining functions inside the Flow class that are decorated by {class}`~laflow.Step`. This decorator allows you to specify where each input is coming from, and which outputs are produced by the step.\n",
    "\n",
    "For example, to write a step that creates the initial model (before we inferred the parameters), we would do the following:"
   ]
  },
  {
   "cell_type": "code",
   "execution_count": 23,
   "id": "99b51a24-93e2-44f1-bc66-eca3d3f417ae",
   "metadata": {
    "execution": {
     "iopub.execute_input": "2021-11-02T10:41:19.828188Z",
     "iopub.status.busy": "2021-11-02T10:41:19.827344Z",
     "iopub.status.idle": "2021-11-02T10:41:19.846136Z",
     "shell.execute_reply": "2021-11-02T10:41:19.845741Z"
    }
   },
   "outputs": [],
   "source": [
    "class LinearModel(laf.Flow):\n",
    "    # sets the default name\n",
    "    default_name = \"linear\"\n",
    "\n",
    "    # lets the flow know that it can contain a link to another flow called dataset\n",
    "    dataset = laf.FlowObj()\n",
    "\n",
    "    # lets the flow know that it can expect a model_initial object, that is not persistent\n",
    "    model_initial = laf.LatentaObj(persistent=False)\n",
    "\n",
    "    # creates a particular step, that expects adata as input, and that outputs model_initial\n",
    "    # note that our function not only expects \"output\" as an argument\n",
    "    # this object should be used to store the outputs\n",
    "    @laf.Step(laf.Inputs(adata=dataset.adata), laf.Outputs(model_initial))\n",
    "    def create(self, output, adata):\n",
    "        # define the model as before\n",
    "        overexpression = la.Fixed(\n",
    "            adata.obs[\"log_overexpression\"], label=\"overexpression\"\n",
    "        )\n",
    "        transcriptome = lac.transcriptome.TranscriptomeObservation.from_adata(adata)\n",
    "        foldchange = transcriptome.find(\"foldchange\")\n",
    "\n",
    "        foldchange.overexpression = la.links.scalar.Constant(\n",
    "            overexpression, definition=foldchange.value_definition\n",
    "        )\n",
    "\n",
    "        # apart from each input, the step function will also receive an output object\n",
    "        # you should put any expected outputs in this object either by assigning it\n",
    "        # or by using the update function\n",
    "        return output.update(model_initial=transcriptome)"
   ]
  },
  {
   "cell_type": "markdown",
   "id": "2a08144b-8af5-4996-b655-89ba1c5b7e6b",
   "metadata": {},
   "source": [
    "Apart from all inputs, your function will also receive a special `output` object in which you can store all the outputs that are produced. These will then be saved for you."
   ]
  },
  {
   "cell_type": "code",
   "execution_count": 24,
   "id": "6abca9b5-9279-4c2e-a174-09a326a9ccae",
   "metadata": {
    "execution": {
     "iopub.execute_input": "2021-11-02T10:41:19.849449Z",
     "iopub.status.busy": "2021-11-02T10:41:19.849012Z",
     "iopub.status.idle": "2021-11-02T10:41:19.867922Z",
     "shell.execute_reply": "2021-11-02T10:41:19.867533Z"
    }
   },
   "outputs": [],
   "source": [
    "model = LinearModel(dataset=dataset)"
   ]
  },
  {
   "cell_type": "code",
   "execution_count": 25,
   "id": "364026a5-25bc-4d5c-b7dd-e83136593e3b",
   "metadata": {
    "execution": {
     "iopub.execute_input": "2021-11-02T10:41:19.870297Z",
     "iopub.status.busy": "2021-11-02T10:41:19.869859Z",
     "iopub.status.idle": "2021-11-02T10:41:19.886883Z",
     "shell.execute_reply": "2021-11-02T10:41:19.886488Z"
    }
   },
   "outputs": [
    {
     "data": {
      "text/html": [
       "<script src=\"https://cdnjs.cloudflare.com/ajax/libs/require.js/2.3.6/require.js\" integrity=\"sha512-vRqhAr2wsn+/cSsyz80psBbCcqzz2GTuhGk3bq3dAyytz4J/8XwFqMjiAGFBj+WM95lHBJ9cDf87T3P8yMrY7A==\" crossorigin=\"anonymous\" referrerpolicy=\"no-referrer\" id=\"script32896\" onload=\"loaded32896\"></script>\n",
       "<style>\n",
       ".la-flow ul {\n",
       "    margin-top:0;\n",
       "    list-style: none;\n",
       "    padding: 0;\n",
       "    padding-left: 10px !important;\n",
       "}\n",
       ".la-flow li {\n",
       "    padding-left: 10px;\n",
       "}\n",
       ".la-flow .instances li {\n",
       "    border-left: 1px dashed #ccc;\n",
       "}\n",
       ".la-flow .steps li {\n",
       "    border-left: 1px dotted #ccc;\n",
       "}\n",
       ".la-flow .soft {\n",
       "    opacity:0.5;\n",
       "}\n",
       "</style>\n",
       "\n",
       "<script>\n",
       "function loaded32896() {\n",
       "    require.config({\n",
       "    paths: {\n",
       "        'fontawesome': 'https://kit.fontawesome.com/77f7a120e4.js'\n",
       "    }\n",
       "    })\n",
       "\n",
       "    require(['fontawesome'], function (fontawesome) {\n",
       "    console.log('Congrats, Font Awesome is installed using Require.js')\n",
       "    })\n",
       "}\n",
       "</script>\n",
       "\n",
       "\n",
       "\n",
       "        <div class='la-flow'><strong>linear</strong> <span class='soft'>(__main__.LinearModel)</span><ul class='instances'><li><i class='fas fa-check-square' style='color:#2ECC40;' title='available and persistent'></i> dataset <span class='soft'>(FlowLink)</span> → dataset <span class='soft'>(__main__.Dataset)</span></li><li><i class='fas fa-minus' style='color:#FF4136;' title='unavailable'></i> model_initial <span class='soft'>(Latenta)</span></li></ul><ul class='steps'><li>create → model_initial</li></ul>"
      ],
      "text/plain": [
       "<__main__.LinearModel at 0x7f63057f6730>"
      ]
     },
     "execution_count": 25,
     "metadata": {},
     "output_type": "execute_result"
    }
   ],
   "source": [
    "model"
   ]
  },
  {
   "cell_type": "code",
   "execution_count": 26,
   "id": "461c7a1b-a6fc-41ca-b1ce-7d38dceb091b",
   "metadata": {
    "execution": {
     "iopub.execute_input": "2021-11-02T10:41:19.889206Z",
     "iopub.status.busy": "2021-11-02T10:41:19.888765Z",
     "iopub.status.idle": "2021-11-02T10:41:19.999938Z",
     "shell.execute_reply": "2021-11-02T10:41:19.999498Z"
    }
   },
   "outputs": [
    {
     "name": "stdout",
     "output_type": "stream",
     "text": [
      "▶️ | linear/create                                                                                       \n"
     ]
    },
    {
     "name": "stdout",
     "output_type": "stream",
     "text": [
      "✅ | linear/create                                                                                       \n"
     ]
    },
    {
     "data": {
      "text/plain": [
       "<laflow.step.OutputContainer at 0x7f654a7c9f40>"
      ]
     },
     "execution_count": 26,
     "metadata": {},
     "output_type": "execute_result"
    }
   ],
   "source": [
    "model.create()"
   ]
  },
  {
   "cell_type": "markdown",
   "id": "2302695c-e3c4-4603-93a6-63260c894be3",
   "metadata": {},
   "source": [
    "In real use cases, we will typically store our workflows in a separate file so that they are easier to maintain. A full linear regression workflow, that includes inference and interpretation, is contained in the `basic_workflow.py` file:"
   ]
  },
  {
   "cell_type": "code",
   "execution_count": 27,
   "id": "6a694170-bb5b-4ffe-b6e5-ac1a6ceec0ca",
   "metadata": {
    "execution": {
     "iopub.execute_input": "2021-11-02T10:41:20.008500Z",
     "iopub.status.busy": "2021-11-02T10:41:20.002499Z",
     "iopub.status.idle": "2021-11-02T10:41:20.020512Z",
     "shell.execute_reply": "2021-11-02T10:41:20.020080Z"
    },
    "tags": [
     "remove-output",
     "remove-input"
    ]
   },
   "outputs": [],
   "source": [
    "basic_workflow_text = \"\"\"\n",
    "import laflow as laf\n",
    "import latenta as la\n",
    "import lacell as lac\n",
    "\n",
    "class LinearModel(laf.Flow):\n",
    "    # sets the default name\n",
    "    default_name = \"linear\"\n",
    "\n",
    "    # lets the flow know that it can contain a link to another flow called dataset\n",
    "    dataset = laf.FlowObj()\n",
    "\n",
    "    # lets the flow know that it can expect a model_initial object, that is not persistent\n",
    "    model_initial = laf.LatentaObj(persistent=False)\n",
    "\n",
    "    # creates a particular step, that expects adata as input, and that outputs model initial\n",
    "    # note the way we access the adata from the dataset object\n",
    "    @laf.Step(\n",
    "        laf.Inputs(adata = dataset.adata),\n",
    "        laf.Outputs(model_initial)\n",
    "    )\n",
    "    def create(self, output, adata):\n",
    "        # define the model as before\n",
    "        overexpression = la.Fixed(\n",
    "            adata.obs[\"log_overexpression\"], label=\"overexpression\"\n",
    "        )\n",
    "        transcriptome = lac.transcriptome.TranscriptomeObservation.from_adata(adata)\n",
    "        foldchange = transcriptome.find(\"foldchange\")\n",
    "\n",
    "        foldchange.overexpression = la.links.scalar.Linear(\n",
    "            overexpression, a = True, definition=foldchange.value_definition\n",
    "        )\n",
    "        \n",
    "        # apart from each input, the step function will also receive an output object\n",
    "        # you should put any expected outputs in this object either by assigning it \n",
    "        # or by using the update function\n",
    "        return output.update(model_initial = transcriptome)\n",
    "\n",
    "    # the (final) model is persistent by default\n",
    "    model = laf.LatentaObj()\n",
    "    \n",
    "    # another step, that receives the model_initial as input, and outputs the model\n",
    "    @laf.Step(\n",
    "        laf.Inputs(model_initial),\n",
    "        laf.Outputs(model)\n",
    "    )\n",
    "    def infer(self, output, model_initial):\n",
    "        # infer the model as before\n",
    "        # we first clone the model_initial so that we do not overwrite it\n",
    "        model = model_initial.clone()\n",
    "        with model.switch(la.config.device):\n",
    "            inference = la.infer.svi.SVI(\n",
    "                model, [la.infer.loss.ELBO()], la.infer.optim.Adam(lr=5e-2)\n",
    "            )\n",
    "            trainer = la.infer.trainer.Trainer(inference)\n",
    "            trace = trainer.train(10000)\n",
    "\n",
    "        return output.update(model = model)\n",
    "\n",
    "    # define our three posteriors, each one with a \"db\" argument\n",
    "    # this will make sure that any model objects are not stored in the posterior,\n",
    "    # but are rather extracted each time from the model object as defined earlier\n",
    "    transcriptome_observed = laf.LatentaObj(db = {model})\n",
    "    overexpression_observed = laf.LatentaObj(db = {model})\n",
    "    overexpression_causal = laf.LatentaObj(db = {model})\n",
    "    \n",
    "    @laf.Step(\n",
    "        laf.Inputs(model),\n",
    "        laf.Outputs(transcriptome_observed, overexpression_observed, overexpression_causal)\n",
    "    )\n",
    "    def interpret(self, output, model):\n",
    "        transcriptome_observed = la.posterior.vector.VectorObserved(model)\n",
    "        transcriptome_observed.sample(5)\n",
    "        output.transcriptome_observed = transcriptome_observed\n",
    "\n",
    "        overexpression = model.find(\"overexpression\")\n",
    "\n",
    "        overexpression_observed = la.posterior.scalar.ScalarObserved(overexpression)\n",
    "        overexpression_observed.sample(5)\n",
    "        output.overexpression_observed = overexpression_observed\n",
    "\n",
    "        overexpression_causal = la.posterior.scalar.ScalarVectorCausal(\n",
    "            overexpression,\n",
    "            model,\n",
    "            interpretable=model.p.mu.expression,\n",
    "            observed=overexpression_observed,\n",
    "        )\n",
    "        overexpression_causal.sample(10)\n",
    "        overexpression_causal.sample_random(10)\n",
    "        overexpression_causal.observed\n",
    "        overexpression_causal.sample_empirical()\n",
    "        output.overexpression_causal = overexpression_causal\n",
    "        \n",
    "        return output\n",
    "\"\"\"\n",
    "with open(\"./basic_workflow.py\", \"w\") as f:\n",
    "    f.write(basic_workflow_text)"
   ]
  },
  {
   "cell_type": "code",
   "execution_count": 28,
   "id": "0802a130-ae81-447e-9d71-c48aab5d475c",
   "metadata": {
    "execution": {
     "iopub.execute_input": "2021-11-02T10:41:20.023423Z",
     "iopub.status.busy": "2021-11-02T10:41:20.022989Z",
     "iopub.status.idle": "2021-11-02T10:41:20.363857Z",
     "shell.execute_reply": "2021-11-02T10:41:20.363467Z"
    },
    "tags": [
     "remove-input",
     "remove-output"
    ]
   },
   "outputs": [
    {
     "data": {
      "application/papermill.record/text/markdown": "```python\n\nimport laflow as laf\nimport latenta as la\nimport lacell as lac\n\nclass LinearModel(laf.Flow):\n    # sets the default name\n    default_name = \"linear\"\n\n    # lets the flow know that it can contain a link to another flow called dataset\n    dataset = laf.FlowObj()\n\n    # lets the flow know that it can expect a model_initial object, that is not persistent\n    model_initial = laf.LatentaObj(persistent=False)\n\n    # creates a particular step, that expects adata as input, and that outputs model initial\n    # note the way we access the adata from the dataset object\n    @laf.Step(\n        laf.Inputs(adata = dataset.adata),\n        laf.Outputs(model_initial)\n    )\n    def create(self, output, adata):\n        # define the model as before\n        overexpression = la.Fixed(\n            adata.obs[\"log_overexpression\"], label=\"overexpression\"\n        )\n        transcriptome = lac.transcriptome.TranscriptomeObservation.from_adata(adata)\n        foldchange = transcriptome.find(\"foldchange\")\n\n        foldchange.overexpression = la.links.scalar.Linear(\n            overexpression, a = True, definition=foldchange.value_definition\n        )\n        \n        # apart from each input, the step function will also receive an output object\n        # you should put any expected outputs in this object either by assigning it \n        # or by using the update function\n        return output.update(model_initial = transcriptome)\n\n    # the (final) model is persistent by default\n    model = laf.LatentaObj()\n    \n    # another step, that receives the model_initial as input, and outputs the model\n    @laf.Step(\n        laf.Inputs(model_initial),\n        laf.Outputs(model)\n    )\n    def infer(self, output, model_initial):\n        # infer the model as before\n        # we first clone the model_initial so that we do not overwrite it\n        model = model_initial.clone()\n        with model.switch(la.config.device):\n            inference = la.infer.svi.SVI(\n                model, [la.infer.loss.ELBO()], la.infer.optim.Adam(lr=5e-2)\n            )\n            trainer = la.infer.trainer.Trainer(inference)\n            trace = trainer.train(10000)\n\n        return output.update(model = model)\n\n    # define our three posteriors, each one with a \"db\" argument\n    # this will make sure that any model objects are not stored in the posterior,\n    # but are rather extracted each time from the model object as defined earlier\n    transcriptome_observed = laf.LatentaObj(db = {model})\n    overexpression_observed = laf.LatentaObj(db = {model})\n    overexpression_causal = laf.LatentaObj(db = {model})\n    \n    @laf.Step(\n        laf.Inputs(model),\n        laf.Outputs(transcriptome_observed, overexpression_observed, overexpression_causal)\n    )\n    def interpret(self, output, model):\n        transcriptome_observed = la.posterior.vector.VectorObserved(model)\n        transcriptome_observed.sample(5)\n        output.transcriptome_observed = transcriptome_observed\n\n        overexpression = model.find(\"overexpression\")\n\n        overexpression_observed = la.posterior.scalar.ScalarObserved(overexpression)\n        overexpression_observed.sample(5)\n        output.overexpression_observed = overexpression_observed\n\n        overexpression_causal = la.posterior.scalar.ScalarVectorCausal(\n            overexpression,\n            model,\n            interpretable=model.p.mu.expression,\n            observed=overexpression_observed,\n        )\n        overexpression_causal.sample(10)\n        overexpression_causal.sample_random(10)\n        overexpression_causal.observed\n        overexpression_causal.sample_empirical()\n        output.overexpression_causal = overexpression_causal\n        \n        return output\n\n```",
      "application/papermill.record/text/plain": "<IPython.core.display.Markdown object>"
     },
     "metadata": {
      "scrapbook": {
       "mime_prefix": "application/papermill.record/",
       "name": "basic_workflow_1"
      }
     },
     "output_type": "display_data"
    }
   ],
   "source": [
    "text = open(\"./basic_workflow.py\").read()\n",
    "from myst_nb import glue\n",
    "from IPython import display\n",
    "\n",
    "glue(\n",
    "    \"basic_workflow_1\", display.Markdown(\"```python\\n\" + text + \"\\n```\"), display=False\n",
    ")"
   ]
  },
  {
   "cell_type": "markdown",
   "id": "5bec597d-fd67-4125-a011-9561bbf53b87",
   "metadata": {},
   "source": [
    "::::{dropdown} 📃 basic_workflow.py (1)\n",
    ":::{glue:} basic_workflow_1\n",
    ":::\n",
    "::::"
   ]
  },
  {
   "cell_type": "markdown",
   "id": "85d0deac-759e-4d51-8d0e-25ba80ebef47",
   "metadata": {},
   "source": [
    "Because this is a `.py` file, we can import it as a python module as follows:"
   ]
  },
  {
   "cell_type": "code",
   "execution_count": 29,
   "id": "82781805-b098-42ec-bf51-1f69814bf1c8",
   "metadata": {
    "execution": {
     "iopub.execute_input": "2021-11-02T10:41:20.368286Z",
     "iopub.status.busy": "2021-11-02T10:41:20.367823Z",
     "iopub.status.idle": "2021-11-02T10:41:20.389270Z",
     "shell.execute_reply": "2021-11-02T10:41:20.389641Z"
    }
   },
   "outputs": [],
   "source": [
    "import basic_workflow"
   ]
  },
  {
   "cell_type": "code",
   "execution_count": 30,
   "id": "4aa1ad49-c247-486a-9ab7-5df78e73c7de",
   "metadata": {
    "execution": {
     "iopub.execute_input": "2021-11-02T10:41:20.394102Z",
     "iopub.status.busy": "2021-11-02T10:41:20.392255Z",
     "iopub.status.idle": "2021-11-02T10:41:20.417578Z",
     "shell.execute_reply": "2021-11-02T10:41:20.417189Z"
    }
   },
   "outputs": [
    {
     "data": {
      "text/html": [
       "<script src=\"https://cdnjs.cloudflare.com/ajax/libs/require.js/2.3.6/require.js\" integrity=\"sha512-vRqhAr2wsn+/cSsyz80psBbCcqzz2GTuhGk3bq3dAyytz4J/8XwFqMjiAGFBj+WM95lHBJ9cDf87T3P8yMrY7A==\" crossorigin=\"anonymous\" referrerpolicy=\"no-referrer\" id=\"script9897\" onload=\"loaded9897\"></script>\n",
       "<style>\n",
       ".la-flow ul {\n",
       "    margin-top:0;\n",
       "    list-style: none;\n",
       "    padding: 0;\n",
       "    padding-left: 10px !important;\n",
       "}\n",
       ".la-flow li {\n",
       "    padding-left: 10px;\n",
       "}\n",
       ".la-flow .instances li {\n",
       "    border-left: 1px dashed #ccc;\n",
       "}\n",
       ".la-flow .steps li {\n",
       "    border-left: 1px dotted #ccc;\n",
       "}\n",
       ".la-flow .soft {\n",
       "    opacity:0.5;\n",
       "}\n",
       "</style>\n",
       "\n",
       "<script>\n",
       "function loaded9897() {\n",
       "    require.config({\n",
       "    paths: {\n",
       "        'fontawesome': 'https://kit.fontawesome.com/77f7a120e4.js'\n",
       "    }\n",
       "    })\n",
       "\n",
       "    require(['fontawesome'], function (fontawesome) {\n",
       "    console.log('Congrats, Font Awesome is installed using Require.js')\n",
       "    })\n",
       "}\n",
       "</script>\n",
       "\n",
       "\n",
       "\n",
       "        <div class='la-flow'><strong>linear</strong> <span class='soft'>(basic_workflow.LinearModel)</span><ul class='instances'><li><i class='fas fa-check-square' style='color:#2ECC40;' title='available and persistent'></i> dataset <span class='soft'>(FlowLink)</span> → linear/dataset <span class='soft'>(__main__.Dataset)</span></li><li><i class='fas fa-minus' style='color:#FF4136;' title='unavailable'></i> model_initial <span class='soft'>(Latenta)</span></li><li><i class='fas fa-minus' style='color:#FF4136;' title='unavailable'></i> model <span class='soft'>(Latenta)</span></li><li><i class='fas fa-minus' style='color:#FF4136;' title='unavailable'></i> transcriptome_observed <span class='soft'>(Latenta)</span></li><li><i class='fas fa-minus' style='color:#FF4136;' title='unavailable'></i> overexpression_observed <span class='soft'>(Latenta)</span></li><li><i class='fas fa-minus' style='color:#FF4136;' title='unavailable'></i> overexpression_causal <span class='soft'>(Latenta)</span></li></ul><ul class='steps'><li>create → model_initial</li><li>infer → model</li><li>interpret → transcriptome_observed, overexpression_observed, overexpression_causal</li></ul>"
      ],
      "text/plain": [
       "<basic_workflow.LinearModel at 0x7f6311337f70>"
      ]
     },
     "execution_count": 30,
     "metadata": {},
     "output_type": "execute_result"
    }
   ],
   "source": [
    "model = basic_workflow.LinearModel()\n",
    "model"
   ]
  },
  {
   "cell_type": "code",
   "execution_count": 31,
   "id": "8f8f6481-f4df-4036-806b-920b1b3e2967",
   "metadata": {
    "execution": {
     "iopub.execute_input": "2021-11-02T10:41:20.422350Z",
     "iopub.status.busy": "2021-11-02T10:41:20.421886Z",
     "iopub.status.idle": "2021-11-02T10:41:27.489780Z",
     "shell.execute_reply": "2021-11-02T10:41:27.490153Z"
    }
   },
   "outputs": [
    {
     "name": "stdout",
     "output_type": "stream",
     "text": [
      "▶️ | linear/create                                                                                       \n"
     ]
    },
    {
     "name": "stdout",
     "output_type": "stream",
     "text": [
      "✅ | linear/create                                                                                       \n"
     ]
    },
    {
     "name": "stdout",
     "output_type": "stream",
     "text": [
      "▶️ | linear/infer                                                                                        \n"
     ]
    },
    {
     "data": {
      "application/vnd.jupyter.widget-view+json": {
       "model_id": "715dfe41446b4d64945eae27b5f12ab8",
       "version_major": 2,
       "version_minor": 0
      },
      "text/plain": [
       "  0%|                                                                                                         …"
      ]
     },
     "metadata": {},
     "output_type": "display_data"
    },
    {
     "name": "stdout",
     "output_type": "stream",
     "text": [
      "✅ | linear/infer                                                                                        \n"
     ]
    },
    {
     "data": {
      "text/plain": [
       "<laflow.step.OutputContainer at 0x7f62ffcd2ee0>"
      ]
     },
     "execution_count": 31,
     "metadata": {},
     "output_type": "execute_result"
    }
   ],
   "source": [
    "model.infer()"
   ]
  },
  {
   "cell_type": "code",
   "execution_count": 32,
   "id": "b6655373-1588-42dd-84fe-c2fb45c22611",
   "metadata": {
    "execution": {
     "iopub.execute_input": "2021-11-02T10:41:27.493794Z",
     "iopub.status.busy": "2021-11-02T10:41:27.493320Z",
     "iopub.status.idle": "2021-11-02T10:41:29.106532Z",
     "shell.execute_reply": "2021-11-02T10:41:29.106085Z"
    }
   },
   "outputs": [
    {
     "name": "stdout",
     "output_type": "stream",
     "text": [
      "▶️ | linear/interpret                                                                                    \n"
     ]
    },
    {
     "data": {
      "application/vnd.jupyter.widget-view+json": {
       "model_id": "452fe8dad938429c8be733bfcd64e324",
       "version_major": 2,
       "version_minor": 0
      },
      "text/plain": [
       "  0%|          | 0/5 [00:00<?, ?it/s]"
      ]
     },
     "metadata": {},
     "output_type": "display_data"
    },
    {
     "data": {
      "application/vnd.jupyter.widget-view+json": {
       "model_id": "0a08898de6e14d8bb1f2af27ecdd6f85",
       "version_major": 2,
       "version_minor": 0
      },
      "text/plain": [
       "  0%|          | 0/5 [00:00<?, ?it/s]"
      ]
     },
     "metadata": {},
     "output_type": "display_data"
    },
    {
     "data": {
      "application/vnd.jupyter.widget-view+json": {
       "model_id": "2dea54570e6145ea9aaebdf8c6404fec",
       "version_major": 2,
       "version_minor": 0
      },
      "text/plain": [
       "  0%|          | 0/10 [00:00<?, ?it/s]"
      ]
     },
     "metadata": {},
     "output_type": "display_data"
    },
    {
     "data": {
      "application/vnd.jupyter.widget-view+json": {
       "model_id": "61005476953346c4b955f80497f878a3",
       "version_major": 2,
       "version_minor": 0
      },
      "text/plain": [
       "  0%|          | 0/10 [00:00<?, ?it/s]"
      ]
     },
     "metadata": {},
     "output_type": "display_data"
    },
    {
     "name": "stdout",
     "output_type": "stream",
     "text": [
      "✅ | linear/interpret                                                                                    \n"
     ]
    },
    {
     "data": {
      "text/plain": [
       "<laflow.step.OutputContainer at 0x7f63113fa9a0>"
      ]
     },
     "execution_count": 32,
     "metadata": {},
     "output_type": "execute_result"
    }
   ],
   "source": [
    "model.interpret()"
   ]
  },
  {
   "cell_type": "code",
   "execution_count": 33,
   "id": "36c79305-c543-43e8-a18c-e7d7c69e9da6",
   "metadata": {
    "execution": {
     "iopub.execute_input": "2021-11-02T10:41:29.109355Z",
     "iopub.status.busy": "2021-11-02T10:41:29.108904Z",
     "iopub.status.idle": "2021-11-02T10:41:29.131734Z",
     "shell.execute_reply": "2021-11-02T10:41:29.131318Z"
    }
   },
   "outputs": [
    {
     "data": {
      "text/html": [
       "<script src=\"https://cdnjs.cloudflare.com/ajax/libs/require.js/2.3.6/require.js\" integrity=\"sha512-vRqhAr2wsn+/cSsyz80psBbCcqzz2GTuhGk3bq3dAyytz4J/8XwFqMjiAGFBj+WM95lHBJ9cDf87T3P8yMrY7A==\" crossorigin=\"anonymous\" referrerpolicy=\"no-referrer\" id=\"script47824\" onload=\"loaded47824\"></script>\n",
       "<style>\n",
       ".la-flow ul {\n",
       "    margin-top:0;\n",
       "    list-style: none;\n",
       "    padding: 0;\n",
       "    padding-left: 10px !important;\n",
       "}\n",
       ".la-flow li {\n",
       "    padding-left: 10px;\n",
       "}\n",
       ".la-flow .instances li {\n",
       "    border-left: 1px dashed #ccc;\n",
       "}\n",
       ".la-flow .steps li {\n",
       "    border-left: 1px dotted #ccc;\n",
       "}\n",
       ".la-flow .soft {\n",
       "    opacity:0.5;\n",
       "}\n",
       "</style>\n",
       "\n",
       "<script>\n",
       "function loaded47824() {\n",
       "    require.config({\n",
       "    paths: {\n",
       "        'fontawesome': 'https://kit.fontawesome.com/77f7a120e4.js'\n",
       "    }\n",
       "    })\n",
       "\n",
       "    require(['fontawesome'], function (fontawesome) {\n",
       "    console.log('Congrats, Font Awesome is installed using Require.js')\n",
       "    })\n",
       "}\n",
       "</script>\n",
       "\n",
       "\n",
       "\n",
       "        <div class='la-flow'><strong>linear</strong> <span class='soft'>(basic_workflow.LinearModel)</span><ul class='instances'><li><i class='fas fa-check-square' style='color:#2ECC40;' title='available and persistent'></i> dataset <span class='soft'>(FlowLink)</span> → linear/dataset <span class='soft'>(__main__.Dataset)</span></li><li><i class='fas fa-check' style='color:#2ECC40;' title='available but not persistent'></i> model_initial <span class='soft'>(Latenta)</span></li><li><i class='fas fa-check-square' style='color:#2ECC40;' title='available and persistent'></i> model <span class='soft'>(Latenta)</span></li><li><i class='fas fa-check-square' style='color:#2ECC40;' title='available and persistent'></i> transcriptome_observed <span class='soft'>(Latenta)</span></li><li><i class='fas fa-check-square' style='color:#2ECC40;' title='available and persistent'></i> overexpression_observed <span class='soft'>(Latenta)</span></li><li><i class='fas fa-check-square' style='color:#2ECC40;' title='available and persistent'></i> overexpression_causal <span class='soft'>(Latenta)</span></li></ul><ul class='steps'><li>create → model_initial</li><li>infer → model</li><li>interpret → transcriptome_observed, overexpression_observed, overexpression_causal</li></ul>"
      ],
      "text/plain": [
       "<basic_workflow.LinearModel at 0x7f6311337f70>"
      ]
     },
     "execution_count": 33,
     "metadata": {},
     "output_type": "execute_result"
    }
   ],
   "source": [
    "model"
   ]
  },
  {
   "cell_type": "code",
   "execution_count": 34,
   "id": "566e9332-48b4-4d95-8952-452ef61f533b",
   "metadata": {
    "execution": {
     "iopub.execute_input": "2021-11-02T10:41:29.134780Z",
     "iopub.status.busy": "2021-11-02T10:41:29.133451Z",
     "iopub.status.idle": "2021-11-02T10:41:29.825160Z",
     "shell.execute_reply": "2021-11-02T10:41:29.825553Z"
    }
   },
   "outputs": [
    {
     "data": {
      "image/png": "[encoded data removed]",
      "text/plain": [
       "<Figure size 1296x720 with 11 Axes>"
      ]
     },
     "execution_count": 34,
     "metadata": {},
     "output_type": "execute_result"
    }
   ],
   "source": [
    "model.overexpression_causal.plot_features()"
   ]
  },
  {
   "cell_type": "markdown",
   "id": "3a478745-53a9-4add-9a18-aa683d368671",
   "metadata": {},
   "source": [
    "## Sharing and inheriting workflow steps"
   ]
  },
  {
   "cell_type": "markdown",
   "id": "3bb8fb58-f437-4296-bf33-63fbc4220d91",
   "metadata": {},
   "source": [
    "We defined a basic linear model, but what we actually want is to create many different models and infer/interpret them in the same way. We do this using inheritance: we first create the linear model by using `super().create_`, and then make the desired adaptations to the model:"
   ]
  },
  {
   "cell_type": "code",
   "execution_count": 35,
   "id": "dd7f070a-a005-4ab3-91e0-fb18b4137f59",
   "metadata": {
    "execution": {
     "iopub.execute_input": "2021-11-02T10:41:29.828507Z",
     "iopub.status.busy": "2021-11-02T10:41:29.828023Z",
     "iopub.status.idle": "2021-11-02T10:41:29.851393Z",
     "shell.execute_reply": "2021-11-02T10:41:29.851003Z"
    },
    "tags": [
     "remove-output",
     "remove-input"
    ]
   },
   "outputs": [],
   "source": [
    "extended_workflow_text = \"\"\"\n",
    "class ConstantModel(LinearModel):\n",
    "    # we change the default name, as to make sure this model is put in a different folder\n",
    "    default_name = \"constant\"\n",
    "\n",
    "    def create(self, output, adata):\n",
    "        # we can access the parent function by adding a \"_\" at the end\n",
    "        # without this, we would call the actual step itself, and not the user-defined function\n",
    "        output = super().create_(output = output, adata = adata)\n",
    "        \n",
    "        # extract the model_initial from the output\n",
    "        model_initial = output.model_initial\n",
    "        \n",
    "        # now we can further adapt the model to our wishes\n",
    "        foldchange = model_initial.find(\"foldchange\")\n",
    "        overexpression = model_initial.find(\"overexpression\")\n",
    "\n",
    "        foldchange.overexpression = la.links.scalar.Constant(\n",
    "            overexpression, definition=foldchange.value_definition\n",
    "        )\n",
    "        \n",
    "        # again return the output\n",
    "        # because we only adapted the model inplace, we do not need to update the output\n",
    "        return output\n",
    "\n",
    "\n",
    "class SplineModel(LinearModel):\n",
    "    default_name = \"spline\"\n",
    "\n",
    "    def create(self, output, adata):\n",
    "        output = super().create_(output = output, adata = adata)\n",
    "        \n",
    "        model_initial = output.model_initial\n",
    "\n",
    "        foldchange = model_initial.find(\"foldchange\")\n",
    "        overexpression = model_initial.find(\"overexpression\")\n",
    "\n",
    "        foldchange.overexpression = la.links.scalar.Spline(\n",
    "            overexpression, definition=foldchange.value_definition\n",
    "        )\n",
    "\n",
    "        return output\n",
    "\"\"\"\n",
    "with open(\"./basic_workflow.py\", \"a\") as f:\n",
    "    f.write(extended_workflow_text)"
   ]
  },
  {
   "cell_type": "code",
   "execution_count": 36,
   "id": "7339d7e6-84cf-491e-84b3-86272fb0ab3e",
   "metadata": {
    "execution": {
     "iopub.execute_input": "2021-11-02T10:41:29.853981Z",
     "iopub.status.busy": "2021-11-02T10:41:29.853499Z",
     "iopub.status.idle": "2021-11-02T10:41:29.898746Z",
     "shell.execute_reply": "2021-11-02T10:41:29.898315Z"
    },
    "tags": [
     "remove-input",
     "remove-output"
    ]
   },
   "outputs": [
    {
     "data": {
      "application/papermill.record/text/markdown": "```python\n\nclass ConstantModel(LinearModel):\n    # we change the default name, as to make sure this model is put in a different folder\n    default_name = \"constant\"\n\n    def create(self, output, adata):\n        # we can access the parent function by adding a \"_\" at the end\n        # without this, we would call the actual step itself, and not the user-defined function\n        output = super().create_(output = output, adata = adata)\n        \n        # extract the model_initial from the output\n        model_initial = output.model_initial\n        \n        # now we can further adapt the model to our wishes\n        foldchange = model_initial.find(\"foldchange\")\n        overexpression = model_initial.find(\"overexpression\")\n\n        foldchange.overexpression = la.links.scalar.Constant(\n            overexpression, definition=foldchange.value_definition\n        )\n        \n        # again return the output\n        # because we only adapted the model inplace, we do not need to update the output\n        return output\n\n\nclass SplineModel(LinearModel):\n    default_name = \"spline\"\n\n    def create(self, output, adata):\n        output = super().create_(output = output, adata = adata)\n        \n        model_initial = output.model_initial\n\n        foldchange = model_initial.find(\"foldchange\")\n        overexpression = model_initial.find(\"overexpression\")\n\n        foldchange.overexpression = la.links.scalar.Spline(\n            overexpression, definition=foldchange.value_definition\n        )\n\n        return output\n\n```",
      "application/papermill.record/text/plain": "<IPython.core.display.Markdown object>"
     },
     "metadata": {
      "scrapbook": {
       "mime_prefix": "application/papermill.record/",
       "name": "basic_workflow_2"
      }
     },
     "output_type": "display_data"
    }
   ],
   "source": [
    "# glue the\n",
    "text = extended_workflow_text\n",
    "glue(\n",
    "    \"basic_workflow_2\", display.Markdown(\"```python\\n\" + text + \"\\n```\"), display=False\n",
    ")"
   ]
  },
  {
   "cell_type": "markdown",
   "id": "1f88fd78-683c-4ed4-b7bf-c50ef36889da",
   "metadata": {},
   "source": [
    "::::{dropdown} 📃 basic_workflow.py (2)\n",
    ":::{glue:} basic_workflow_2\n",
    ":::\n",
    "::::"
   ]
  },
  {
   "cell_type": "code",
   "execution_count": 37,
   "id": "62ede4b6-a326-4078-87cc-69cd5dc045e8",
   "metadata": {
    "execution": {
     "iopub.execute_input": "2021-11-02T10:41:29.901212Z",
     "iopub.status.busy": "2021-11-02T10:41:29.900742Z",
     "iopub.status.idle": "2021-11-02T10:41:35.610947Z",
     "shell.execute_reply": "2021-11-02T10:41:35.611368Z"
    }
   },
   "outputs": [
    {
     "name": "stdout",
     "output_type": "stream",
     "text": [
      "▶️ | constant/create                                                                                     \n"
     ]
    },
    {
     "name": "stdout",
     "output_type": "stream",
     "text": [
      "✅ | constant/create                                                                                     \n"
     ]
    },
    {
     "name": "stdout",
     "output_type": "stream",
     "text": [
      "▶️ | constant/infer                                                                                      \n"
     ]
    },
    {
     "data": {
      "application/vnd.jupyter.widget-view+json": {
       "model_id": "e59600c9c45347738ebdc30c81969654",
       "version_major": 2,
       "version_minor": 0
      },
      "text/plain": [
       "  0%|                                                                                                         …"
      ]
     },
     "metadata": {},
     "output_type": "display_data"
    },
    {
     "name": "stdout",
     "output_type": "stream",
     "text": [
      "✅ | constant/infer                                                                                      \n"
     ]
    },
    {
     "name": "stdout",
     "output_type": "stream",
     "text": [
      "▶️ | constant/interpret                                                                                  \n"
     ]
    },
    {
     "data": {
      "application/vnd.jupyter.widget-view+json": {
       "model_id": "a292ebc8753542108e603d2631e39921",
       "version_major": 2,
       "version_minor": 0
      },
      "text/plain": [
       "  0%|          | 0/5 [00:00<?, ?it/s]"
      ]
     },
     "metadata": {},
     "output_type": "display_data"
    },
    {
     "data": {
      "application/vnd.jupyter.widget-view+json": {
       "model_id": "fcb369020e064cc2846451307470f88f",
       "version_major": 2,
       "version_minor": 0
      },
      "text/plain": [
       "  0%|          | 0/5 [00:00<?, ?it/s]"
      ]
     },
     "metadata": {},
     "output_type": "display_data"
    },
    {
     "data": {
      "application/vnd.jupyter.widget-view+json": {
       "model_id": "e00ecd3907174df389f914727610cf8d",
       "version_major": 2,
       "version_minor": 0
      },
      "text/plain": [
       "  0%|          | 0/10 [00:00<?, ?it/s]"
      ]
     },
     "metadata": {},
     "output_type": "display_data"
    },
    {
     "data": {
      "application/vnd.jupyter.widget-view+json": {
       "model_id": "3637a59141b84384bccb8412dc79caa9",
       "version_major": 2,
       "version_minor": 0
      },
      "text/plain": [
       "  0%|          | 0/10 [00:00<?, ?it/s]"
      ]
     },
     "metadata": {},
     "output_type": "display_data"
    },
    {
     "name": "stdout",
     "output_type": "stream",
     "text": [
      "✅ | constant/interpret                                                                                  \n"
     ]
    },
    {
     "data": {
      "text/plain": [
       "<laflow.step.OutputContainer at 0x7f62ff88e310>"
      ]
     },
     "execution_count": 37,
     "metadata": {},
     "output_type": "execute_result"
    }
   ],
   "source": [
    "model = basic_workflow.ConstantModel(dataset=dataset)\n",
    "model.create()\n",
    "model.infer()\n",
    "model.interpret()"
   ]
  },
  {
   "cell_type": "code",
   "execution_count": 38,
   "id": "50b1aa5a-cfb9-431d-bfee-2f3ccd5c9d9a",
   "metadata": {
    "execution": {
     "iopub.execute_input": "2021-11-02T10:41:35.614686Z",
     "iopub.status.busy": "2021-11-02T10:41:35.614247Z",
     "iopub.status.idle": "2021-11-02T10:41:41.788466Z",
     "shell.execute_reply": "2021-11-02T10:41:41.788923Z"
    }
   },
   "outputs": [
    {
     "name": "stdout",
     "output_type": "stream",
     "text": [
      "▶️ | spline/create                                                                                       \n"
     ]
    },
    {
     "name": "stdout",
     "output_type": "stream",
     "text": [
      "✅ | spline/create                                                                                       \n"
     ]
    },
    {
     "name": "stdout",
     "output_type": "stream",
     "text": [
      "▶️ | spline/infer                                                                                        \n"
     ]
    },
    {
     "data": {
      "application/vnd.jupyter.widget-view+json": {
       "model_id": "7a82cc6ccd7a4037aa7419f2e326e37f",
       "version_major": 2,
       "version_minor": 0
      },
      "text/plain": [
       "  0%|                                                                                                         …"
      ]
     },
     "metadata": {},
     "output_type": "display_data"
    },
    {
     "name": "stdout",
     "output_type": "stream",
     "text": [
      "✅ | spline/infer                                                                                        \n"
     ]
    },
    {
     "name": "stdout",
     "output_type": "stream",
     "text": [
      "▶️ | spline/interpret                                                                                    \n"
     ]
    },
    {
     "data": {
      "application/vnd.jupyter.widget-view+json": {
       "model_id": "d506d6756ffb4b1c9999e21e933b9bea",
       "version_major": 2,
       "version_minor": 0
      },
      "text/plain": [
       "  0%|          | 0/5 [00:00<?, ?it/s]"
      ]
     },
     "metadata": {},
     "output_type": "display_data"
    },
    {
     "data": {
      "application/vnd.jupyter.widget-view+json": {
       "model_id": "7bf10953cb55436d9a559c60c0021388",
       "version_major": 2,
       "version_minor": 0
      },
      "text/plain": [
       "  0%|          | 0/5 [00:00<?, ?it/s]"
      ]
     },
     "metadata": {},
     "output_type": "display_data"
    },
    {
     "data": {
      "application/vnd.jupyter.widget-view+json": {
       "model_id": "0f33b819c7504ab982afdaa558f85926",
       "version_major": 2,
       "version_minor": 0
      },
      "text/plain": [
       "  0%|          | 0/10 [00:00<?, ?it/s]"
      ]
     },
     "metadata": {},
     "output_type": "display_data"
    },
    {
     "data": {
      "application/vnd.jupyter.widget-view+json": {
       "model_id": "aad031e31fca4599840ee1dacec4c0ee",
       "version_major": 2,
       "version_minor": 0
      },
      "text/plain": [
       "  0%|          | 0/10 [00:00<?, ?it/s]"
      ]
     },
     "metadata": {},
     "output_type": "display_data"
    },
    {
     "name": "stdout",
     "output_type": "stream",
     "text": [
      "✅ | spline/interpret                                                                                    \n"
     ]
    },
    {
     "data": {
      "text/plain": [
       "<laflow.step.OutputContainer at 0x7f655f60ca90>"
      ]
     },
     "execution_count": 38,
     "metadata": {},
     "output_type": "execute_result"
    }
   ],
   "source": [
    "model = basic_workflow.SplineModel(dataset=dataset)\n",
    "model.create()\n",
    "model.infer()\n",
    "model.interpret()"
   ]
  },
  {
   "cell_type": "markdown",
   "id": "4b7f17f6-800d-4a3a-8af3-ca6bdde2fce0",
   "metadata": {},
   "source": [
    ":::{seealso}\n",
    "_lacell_ contains different pre-built workflows for particular use cases. For example, {class}`~lacell.transcriptome.TranscriptomeDataset` and {class}`~lacell.transcriptome.TranscriptomeModel` already contain a blueprint on how to efficiently store and infer transcriptomics models. See \"[](/guide/transcriptomics/transcriptome_model)\" for an explanation.\n",
    ":::\n"
   ]
  },
  {
   "cell_type": "code",
   "execution_count": null,
   "id": "945122c9-8660-405d-a624-72b08bd1ea39",
   "metadata": {},
   "outputs": [],
   "source": []
  }
 ],
 "metadata": {
  "jupytext": {
   "encoding": "# -*- coding: utf-8 -*-",
   "formats": "ipynb,py:percent"
  },
  "kernelspec": {
   "display_name": "Python 3 (ipykernel)",
   "language": "python",
   "name": "python3"
  },
  "language_info": {
   "codemirror_mode": {
    "name": "ipython",
    "version": 3
   },
   "file_extension": ".py",
   "mimetype": "text/x-python",
   "name": "python",
   "nbconvert_exporter": "python",
   "pygments_lexer": "ipython3",
   "version": "3.8.10"
  },
  "widgets": {
   "application/vnd.jupyter.widget-state+json": {
    "state": {
     "0176c1d9c01e4e7881616851f47fd185": {
      "model_module": "@jupyter-widgets/base",
      "model_module_version": "1.2.0",
      "model_name": "LayoutModel",
      "state": {
       "_model_module": "@jupyter-widgets/base",
       "_model_module_version": "1.2.0",
       "_model_name": "LayoutModel",
       "_view_count": null,
       "_view_module": "@jupyter-widgets/base",
       "_view_module_version": "1.2.0",
       "_view_name": "LayoutView",
       "align_content": null,
       "align_items": null,
       "align_self": null,
       "border": null,
       "bottom": null,
       "display": null,
       "flex": null,
       "flex_flow": null,
       "grid_area": null,
       "grid_auto_columns": null,
       "grid_auto_flow": null,
       "grid_auto_rows": null,
       "grid_column": null,
       "grid_gap": null,
       "grid_row": null,
       "grid_template_areas": null,
       "grid_template_columns": null,
       "grid_template_rows": null,
       "height": null,
       "justify_content": null,
       "justify_items": null,
       "left": null,
       "margin": null,
       "max_height": null,
       "max_width": null,
       "min_height": null,
       "min_width": null,
       "object_fit": null,
       "object_position": null,
       "order": null,
       "overflow": null,
       "overflow_x": null,
       "overflow_y": null,
       "padding": null,
       "right": null,
       "top": null,
       "visibility": null,
       "width": null
      }
     },
     "023699931f5c4faba8e6237a36aa2cc4": {
      "model_module": "@jupyter-widgets/base",
      "model_module_version": "1.2.0",
      "model_name": "LayoutModel",
      "state": {
       "_model_module": "@jupyter-widgets/base",
       "_model_module_version": "1.2.0",
       "_model_name": "LayoutModel",
       "_view_count": null,
       "_view_module": "@jupyter-widgets/base",
       "_view_module_version": "1.2.0",
       "_view_name": "LayoutView",
       "align_content": null,
       "align_items": null,
       "align_self": null,
       "border": null,
       "bottom": null,
       "display": null,
       "flex": null,
       "flex_flow": null,
       "grid_area": null,
       "grid_auto_columns": null,
       "grid_auto_flow": null,
       "grid_auto_rows": null,
       "grid_column": null,
       "grid_gap": null,
       "grid_row": null,
       "grid_template_areas": null,
       "grid_template_columns": null,
       "grid_template_rows": null,
       "height": null,
       "justify_content": null,
       "justify_items": null,
       "left": null,
       "margin": null,
       "max_height": null,
       "max_width": null,
       "min_height": null,
       "min_width": null,
       "object_fit": null,
       "object_position": null,
       "order": null,
       "overflow": null,
       "overflow_x": null,
       "overflow_y": null,
       "padding": null,
       "right": null,
       "top": null,
       "visibility": null,
       "width": null
      }
     },
     "04a1d13230e04488babfd04788383963": {
      "model_module": "@jupyter-widgets/base",
      "model_module_version": "1.2.0",
      "model_name": "LayoutModel",
      "state": {
       "_model_module": "@jupyter-widgets/base",
       "_model_module_version": "1.2.0",
       "_model_name": "LayoutModel",
       "_view_count": null,
       "_view_module": "@jupyter-widgets/base",
       "_view_module_version": "1.2.0",
       "_view_name": "LayoutView",
       "align_content": null,
       "align_items": null,
       "align_self": null,
       "border": null,
       "bottom": null,
       "display": null,
       "flex": null,
       "flex_flow": null,
       "grid_area": null,
       "grid_auto_columns": null,
       "grid_auto_flow": null,
       "grid_auto_rows": null,
       "grid_column": null,
       "grid_gap": null,
       "grid_row": null,
       "grid_template_areas": null,
       "grid_template_columns": null,
       "grid_template_rows": null,
       "height": null,
       "justify_content": null,
       "justify_items": null,
       "left": null,
       "margin": null,
       "max_height": null,
       "max_width": null,
       "min_height": null,
       "min_width": null,
       "object_fit": null,
       "object_position": null,
       "order": null,
       "overflow": null,
       "overflow_x": null,
       "overflow_y": null,
       "padding": null,
       "right": null,
       "top": null,
       "visibility": null,
       "width": null
      }
     },
     "05e046038fc342789561df91c9d992d8": {
      "model_module": "@jupyter-widgets/controls",
      "model_module_version": "1.5.0",
      "model_name": "DescriptionStyleModel",
      "state": {
       "_model_module": "@jupyter-widgets/controls",
       "_model_module_version": "1.5.0",
       "_model_name": "DescriptionStyleModel",
       "_view_count": null,
       "_view_module": "@jupyter-widgets/base",
       "_view_module_version": "1.2.0",
       "_view_name": "StyleView",
       "description_width": ""
      }
     },
     "062af4a823694dd69b1e948c26842866": {
      "model_module": "@jupyter-widgets/controls",
      "model_module_version": "1.5.0",
      "model_name": "HTMLModel",
      "state": {
       "_dom_classes": [],
       "_model_module": "@jupyter-widgets/controls",
       "_model_module_version": "1.5.0",
       "_model_name": "HTMLModel",
       "_view_count": null,
       "_view_module": "@jupyter-widgets/controls",
       "_view_module_version": "1.5.0",
       "_view_name": "HTMLView",
       "description": "",
       "description_tooltip": null,
       "layout": "IPY_MODEL_2fa2e56752724c8384a16e45f4dcdfe9",
       "placeholder": "​",
       "style": "IPY_MODEL_f438a320cf814628a0df3b438eef81c6",
       "value": "100%"
      }
     },
     "0a08898de6e14d8bb1f2af27ecdd6f85": {
      "model_module": "@jupyter-widgets/controls",
      "model_module_version": "1.5.0",
      "model_name": "HBoxModel",
      "state": {
       "_dom_classes": [],
       "_model_module": "@jupyter-widgets/controls",
       "_model_module_version": "1.5.0",
       "_model_name": "HBoxModel",
       "_view_count": null,
       "_view_module": "@jupyter-widgets/controls",
       "_view_module_version": "1.5.0",
       "_view_name": "HBoxView",
       "box_style": "",
       "children": [
        "IPY_MODEL_cfeeb9b9f4ed449698f367af9c1c26cd",
        "IPY_MODEL_a6afc83508264e569d1ccf2956d1365f",
        "IPY_MODEL_b0c04f04b7d144bda5e5a2c96e64d4d3"
       ],
       "layout": "IPY_MODEL_bd48cb1b07e04fe6a4aab29326c68acf"
      }
     },
     "0ac68fdf085940f9b28b9f4d8c70b551": {
      "model_module": "@jupyter-widgets/base",
      "model_module_version": "1.2.0",
      "model_name": "LayoutModel",
      "state": {
       "_model_module": "@jupyter-widgets/base",
       "_model_module_version": "1.2.0",
       "_model_name": "LayoutModel",
       "_view_count": null,
       "_view_module": "@jupyter-widgets/base",
       "_view_module_version": "1.2.0",
       "_view_name": "LayoutView",
       "align_content": null,
       "align_items": null,
       "align_self": null,
       "border": null,
       "bottom": null,
       "display": null,
       "flex": null,
       "flex_flow": null,
       "grid_area": null,
       "grid_auto_columns": null,
       "grid_auto_flow": null,
       "grid_auto_rows": null,
       "grid_column": null,
       "grid_gap": null,
       "grid_row": null,
       "grid_template_areas": null,
       "grid_template_columns": null,
       "grid_template_rows": null,
       "height": null,
       "justify_content": null,
       "justify_items": null,
       "left": null,
       "margin": null,
       "max_height": null,
       "max_width": null,
       "min_height": null,
       "min_width": null,
       "object_fit": null,
       "object_position": null,
       "order": null,
       "overflow": null,
       "overflow_x": null,
       "overflow_y": null,
       "padding": null,
       "right": null,
       "top": null,
       "visibility": null,
       "width": null
      }
     },
     "0b370a494b3e4cd983bdbc47132a99d8": {
      "model_module": "@jupyter-widgets/controls",
      "model_module_version": "1.5.0",
      "model_name": "HTMLModel",
      "state": {
       "_dom_classes": [],
       "_model_module": "@jupyter-widgets/controls",
       "_model_module_version": "1.5.0",
       "_model_name": "HTMLModel",
       "_view_count": null,
       "_view_module": "@jupyter-widgets/controls",
       "_view_module_version": "1.5.0",
       "_view_name": "HTMLView",
       "description": "",
       "description_tooltip": null,
       "layout": "IPY_MODEL_df73c89d78824b53972f8d6358b0275e",
       "placeholder": "​",
       "style": "IPY_MODEL_05e046038fc342789561df91c9d992d8",
       "value": "100%"
      }
     },
     "0b3c8df1a4d9448497b20625a54cac70": {
      "model_module": "@jupyter-widgets/base",
      "model_module_version": "1.2.0",
      "model_name": "LayoutModel",
      "state": {
       "_model_module": "@jupyter-widgets/base",
       "_model_module_version": "1.2.0",
       "_model_name": "LayoutModel",
       "_view_count": null,
       "_view_module": "@jupyter-widgets/base",
       "_view_module_version": "1.2.0",
       "_view_name": "LayoutView",
       "align_content": null,
       "align_items": null,
       "align_self": null,
       "border": null,
       "bottom": null,
       "display": null,
       "flex": null,
       "flex_flow": null,
       "grid_area": null,
       "grid_auto_columns": null,
       "grid_auto_flow": null,
       "grid_auto_rows": null,
       "grid_column": null,
       "grid_gap": null,
       "grid_row": null,
       "grid_template_areas": null,
       "grid_template_columns": null,
       "grid_template_rows": null,
       "height": null,
       "justify_content": null,
       "justify_items": null,
       "left": null,
       "margin": null,
       "max_height": null,
       "max_width": null,
       "min_height": null,
       "min_width": null,
       "object_fit": null,
       "object_position": null,
       "order": null,
       "overflow": null,
       "overflow_x": null,
       "overflow_y": null,
       "padding": null,
       "right": null,
       "top": null,
       "visibility": null,
       "width": null
      }
     },
     "0b581914bfb146a180531f6ca2cef88d": {
      "model_module": "@jupyter-widgets/controls",
      "model_module_version": "1.5.0",
      "model_name": "HTMLModel",
      "state": {
       "_dom_classes": [],
       "_model_module": "@jupyter-widgets/controls",
       "_model_module_version": "1.5.0",
       "_model_name": "HTMLModel",
       "_view_count": null,
       "_view_module": "@jupyter-widgets/controls",
       "_view_module_version": "1.5.0",
       "_view_name": "HTMLView",
       "description": "",
       "description_tooltip": null,
       "layout": "IPY_MODEL_cf51024a1f45483b81df8560c442c890",
       "placeholder": "​",
       "style": "IPY_MODEL_1f46f35cf6a84659a7513009cab42c95",
       "value": "100%"
      }
     },
     "0dadcd3d2edd46b1bee9f3017227cf6e": {
      "model_module": "@jupyter-widgets/controls",
      "model_module_version": "1.5.0",
      "model_name": "FloatProgressModel",
      "state": {
       "_dom_classes": [],
       "_model_module": "@jupyter-widgets/controls",
       "_model_module_version": "1.5.0",
       "_model_name": "FloatProgressModel",
       "_view_count": null,
       "_view_module": "@jupyter-widgets/controls",
       "_view_module_version": "1.5.0",
       "_view_name": "ProgressView",
       "bar_style": "success",
       "description": "",
       "description_tooltip": null,
       "layout": "IPY_MODEL_97aa999034e0483686d6f17fe9ce6e7d",
       "max": 5.0,
       "min": 0.0,
       "orientation": "horizontal",
       "style": "IPY_MODEL_4d8845d1a13f4c33a2c81a80d6771895",
       "value": 5.0
      }
     },
     "0f33b819c7504ab982afdaa558f85926": {
      "model_module": "@jupyter-widgets/controls",
      "model_module_version": "1.5.0",
      "model_name": "HBoxModel",
      "state": {
       "_dom_classes": [],
       "_model_module": "@jupyter-widgets/controls",
       "_model_module_version": "1.5.0",
       "_model_name": "HBoxModel",
       "_view_count": null,
       "_view_module": "@jupyter-widgets/controls",
       "_view_module_version": "1.5.0",
       "_view_name": "HBoxView",
       "box_style": "",
       "children": [
        "IPY_MODEL_ea79a2170b4c495496f110beeaaa8171",
        "IPY_MODEL_53d5d384a1424af6b51ff8cf71b3e96a",
        "IPY_MODEL_45f4c3d49f9b401e9846e155435432e8"
       ],
       "layout": "IPY_MODEL_04a1d13230e04488babfd04788383963"
      }
     },
     "128a396df946451f904f976c891ef361": {
      "model_module": "@jupyter-widgets/base",
      "model_module_version": "1.2.0",
      "model_name": "LayoutModel",
      "state": {
       "_model_module": "@jupyter-widgets/base",
       "_model_module_version": "1.2.0",
       "_model_name": "LayoutModel",
       "_view_count": null,
       "_view_module": "@jupyter-widgets/base",
       "_view_module_version": "1.2.0",
       "_view_name": "LayoutView",
       "align_content": null,
       "align_items": null,
       "align_self": null,
       "border": null,
       "bottom": null,
       "display": null,
       "flex": null,
       "flex_flow": null,
       "grid_area": null,
       "grid_auto_columns": null,
       "grid_auto_flow": null,
       "grid_auto_rows": null,
       "grid_column": null,
       "grid_gap": null,
       "grid_row": null,
       "grid_template_areas": null,
       "grid_template_columns": null,
       "grid_template_rows": null,
       "height": null,
       "justify_content": null,
       "justify_items": null,
       "left": null,
       "margin": null,
       "max_height": null,
       "max_width": null,
       "min_height": null,
       "min_width": null,
       "object_fit": null,
       "object_position": null,
       "order": null,
       "overflow": null,
       "overflow_x": null,
       "overflow_y": null,
       "padding": null,
       "right": null,
       "top": null,
       "visibility": null,
       "width": null
      }
     },
     "15064ecdcf1b423094c8e381bb559d97": {
      "model_module": "@jupyter-widgets/controls",
      "model_module_version": "1.5.0",
      "model_name": "DescriptionStyleModel",
      "state": {
       "_model_module": "@jupyter-widgets/controls",
       "_model_module_version": "1.5.0",
       "_model_name": "DescriptionStyleModel",
       "_view_count": null,
       "_view_module": "@jupyter-widgets/base",
       "_view_module_version": "1.2.0",
       "_view_name": "StyleView",
       "description_width": ""
      }
     },
     "157037bd3dc84aa8818ce07abfea1894": {
      "model_module": "@jupyter-widgets/controls",
      "model_module_version": "1.5.0",
      "model_name": "DescriptionStyleModel",
      "state": {
       "_model_module": "@jupyter-widgets/controls",
       "_model_module_version": "1.5.0",
       "_model_name": "DescriptionStyleModel",
       "_view_count": null,
       "_view_module": "@jupyter-widgets/base",
       "_view_module_version": "1.2.0",
       "_view_name": "StyleView",
       "description_width": ""
      }
     },
     "15b5de25fe38445e97ed26f6727c1446": {
      "model_module": "@jupyter-widgets/controls",
      "model_module_version": "1.5.0",
      "model_name": "DescriptionStyleModel",
      "state": {
       "_model_module": "@jupyter-widgets/controls",
       "_model_module_version": "1.5.0",
       "_model_name": "DescriptionStyleModel",
       "_view_count": null,
       "_view_module": "@jupyter-widgets/base",
       "_view_module_version": "1.2.0",
       "_view_name": "StyleView",
       "description_width": ""
      }
     },
     "166478f335fe457c86e1cb4a9ce5ee34": {
      "model_module": "@jupyter-widgets/controls",
      "model_module_version": "1.5.0",
      "model_name": "ProgressStyleModel",
      "state": {
       "_model_module": "@jupyter-widgets/controls",
       "_model_module_version": "1.5.0",
       "_model_name": "ProgressStyleModel",
       "_view_count": null,
       "_view_module": "@jupyter-widgets/base",
       "_view_module_version": "1.2.0",
       "_view_name": "StyleView",
       "bar_color": null,
       "description_width": ""
      }
     },
     "16736fff7f694359b9165ca646fb7d8c": {
      "model_module": "@jupyter-widgets/base",
      "model_module_version": "1.2.0",
      "model_name": "LayoutModel",
      "state": {
       "_model_module": "@jupyter-widgets/base",
       "_model_module_version": "1.2.0",
       "_model_name": "LayoutModel",
       "_view_count": null,
       "_view_module": "@jupyter-widgets/base",
       "_view_module_version": "1.2.0",
       "_view_name": "LayoutView",
       "align_content": null,
       "align_items": null,
       "align_self": null,
       "border": null,
       "bottom": null,
       "display": null,
       "flex": null,
       "flex_flow": null,
       "grid_area": null,
       "grid_auto_columns": null,
       "grid_auto_flow": null,
       "grid_auto_rows": null,
       "grid_column": null,
       "grid_gap": null,
       "grid_row": null,
       "grid_template_areas": null,
       "grid_template_columns": null,
       "grid_template_rows": null,
       "height": null,
       "justify_content": null,
       "justify_items": null,
       "left": null,
       "margin": null,
       "max_height": null,
       "max_width": null,
       "min_height": null,
       "min_width": null,
       "object_fit": null,
       "object_position": null,
       "order": null,
       "overflow": null,
       "overflow_x": null,
       "overflow_y": null,
       "padding": null,
       "right": null,
       "top": null,
       "visibility": null,
       "width": null
      }
     },
     "177dbdcec5614c279c81dd6974247aa0": {
      "model_module": "@jupyter-widgets/controls",
      "model_module_version": "1.5.0",
      "model_name": "ProgressStyleModel",
      "state": {
       "_model_module": "@jupyter-widgets/controls",
       "_model_module_version": "1.5.0",
       "_model_name": "ProgressStyleModel",
       "_view_count": null,
       "_view_module": "@jupyter-widgets/base",
       "_view_module_version": "1.2.0",
       "_view_name": "StyleView",
       "bar_color": null,
       "description_width": ""
      }
     },
     "17dc68658cb1404e80001beddb7fb4b4": {
      "model_module": "@jupyter-widgets/controls",
      "model_module_version": "1.5.0",
      "model_name": "FloatProgressModel",
      "state": {
       "_dom_classes": [],
       "_model_module": "@jupyter-widgets/controls",
       "_model_module_version": "1.5.0",
       "_model_name": "FloatProgressModel",
       "_view_count": null,
       "_view_module": "@jupyter-widgets/controls",
       "_view_module_version": "1.5.0",
       "_view_name": "ProgressView",
       "bar_style": "success",
       "description": "",
       "description_tooltip": null,
       "layout": "IPY_MODEL_87a161cba17547c083dc7457e19cfb6a",
       "max": 10.0,
       "min": 0.0,
       "orientation": "horizontal",
       "style": "IPY_MODEL_88a90906c9154658aa5a7ea4834e8a91",
       "value": 10.0
      }
     },
     "1e90c926eb9c40029a59ce1d65d2736b": {
      "model_module": "@jupyter-widgets/base",
      "model_module_version": "1.2.0",
      "model_name": "LayoutModel",
      "state": {
       "_model_module": "@jupyter-widgets/base",
       "_model_module_version": "1.2.0",
       "_model_name": "LayoutModel",
       "_view_count": null,
       "_view_module": "@jupyter-widgets/base",
       "_view_module_version": "1.2.0",
       "_view_name": "LayoutView",
       "align_content": null,
       "align_items": null,
       "align_self": null,
       "border": null,
       "bottom": null,
       "display": null,
       "flex": null,
       "flex_flow": null,
       "grid_area": null,
       "grid_auto_columns": null,
       "grid_auto_flow": null,
       "grid_auto_rows": null,
       "grid_column": null,
       "grid_gap": null,
       "grid_row": null,
       "grid_template_areas": null,
       "grid_template_columns": null,
       "grid_template_rows": null,
       "height": null,
       "justify_content": null,
       "justify_items": null,
       "left": null,
       "margin": null,
       "max_height": null,
       "max_width": null,
       "min_height": null,
       "min_width": null,
       "object_fit": null,
       "object_position": null,
       "order": null,
       "overflow": null,
       "overflow_x": null,
       "overflow_y": null,
       "padding": null,
       "right": null,
       "top": null,
       "visibility": null,
       "width": null
      }
     },
     "1f46f35cf6a84659a7513009cab42c95": {
      "model_module": "@jupyter-widgets/controls",
      "model_module_version": "1.5.0",
      "model_name": "DescriptionStyleModel",
      "state": {
       "_model_module": "@jupyter-widgets/controls",
       "_model_module_version": "1.5.0",
       "_model_name": "DescriptionStyleModel",
       "_view_count": null,
       "_view_module": "@jupyter-widgets/base",
       "_view_module_version": "1.2.0",
       "_view_name": "StyleView",
       "description_width": ""
      }
     },
     "2200d072ab4b4bf3b57aae0429a739be": {
      "model_module": "@jupyter-widgets/controls",
      "model_module_version": "1.5.0",
      "model_name": "FloatProgressModel",
      "state": {
       "_dom_classes": [],
       "_model_module": "@jupyter-widgets/controls",
       "_model_module_version": "1.5.0",
       "_model_name": "FloatProgressModel",
       "_view_count": null,
       "_view_module": "@jupyter-widgets/controls",
       "_view_module_version": "1.5.0",
       "_view_name": "ProgressView",
       "bar_style": "success",
       "description": "",
       "description_tooltip": null,
       "layout": "IPY_MODEL_e61f04ef0a29464eab1c190159cd3d64",
       "max": 10000.0,
       "min": 0.0,
       "orientation": "horizontal",
       "style": "IPY_MODEL_64091f9c8c2c4cbc98f981cab3a93c26",
       "value": 653.0
      }
     },
     "29a5c2b40a1c47128570a54bb8974085": {
      "model_module": "@jupyter-widgets/controls",
      "model_module_version": "1.5.0",
      "model_name": "HTMLModel",
      "state": {
       "_dom_classes": [],
       "_model_module": "@jupyter-widgets/controls",
       "_model_module_version": "1.5.0",
       "_model_name": "HTMLModel",
       "_view_count": null,
       "_view_module": "@jupyter-widgets/controls",
       "_view_module_version": "1.5.0",
       "_view_name": "HTMLView",
       "description": "",
       "description_tooltip": null,
       "layout": "IPY_MODEL_8f9ee72b917745208f6c18fc144fce98",
       "placeholder": "​",
       "style": "IPY_MODEL_5d8b55f1f1854209a0485a7966f42826",
       "value": "100%"
      }
     },
     "2bc001ccfc8b4f26a1935d7676e5e79f": {
      "model_module": "@jupyter-widgets/controls",
      "model_module_version": "1.5.0",
      "model_name": "DescriptionStyleModel",
      "state": {
       "_model_module": "@jupyter-widgets/controls",
       "_model_module_version": "1.5.0",
       "_model_name": "DescriptionStyleModel",
       "_view_count": null,
       "_view_module": "@jupyter-widgets/base",
       "_view_module_version": "1.2.0",
       "_view_name": "StyleView",
       "description_width": ""
      }
     },
     "2c1000d227824958925caf0414365071": {
      "model_module": "@jupyter-widgets/base",
      "model_module_version": "1.2.0",
      "model_name": "LayoutModel",
      "state": {
       "_model_module": "@jupyter-widgets/base",
       "_model_module_version": "1.2.0",
       "_model_name": "LayoutModel",
       "_view_count": null,
       "_view_module": "@jupyter-widgets/base",
       "_view_module_version": "1.2.0",
       "_view_name": "LayoutView",
       "align_content": null,
       "align_items": null,
       "align_self": null,
       "border": null,
       "bottom": null,
       "display": null,
       "flex": null,
       "flex_flow": null,
       "grid_area": null,
       "grid_auto_columns": null,
       "grid_auto_flow": null,
       "grid_auto_rows": null,
       "grid_column": null,
       "grid_gap": null,
       "grid_row": null,
       "grid_template_areas": null,
       "grid_template_columns": null,
       "grid_template_rows": null,
       "height": null,
       "justify_content": null,
       "justify_items": null,
       "left": null,
       "margin": null,
       "max_height": null,
       "max_width": null,
       "min_height": null,
       "min_width": null,
       "object_fit": null,
       "object_position": null,
       "order": null,
       "overflow": null,
       "overflow_x": null,
       "overflow_y": null,
       "padding": null,
       "right": null,
       "top": null,
       "visibility": null,
       "width": null
      }
     },
     "2c21a9b189ee49f89edad0c0df1972ea": {
      "model_module": "@jupyter-widgets/controls",
      "model_module_version": "1.5.0",
      "model_name": "DescriptionStyleModel",
      "state": {
       "_model_module": "@jupyter-widgets/controls",
       "_model_module_version": "1.5.0",
       "_model_name": "DescriptionStyleModel",
       "_view_count": null,
       "_view_module": "@jupyter-widgets/base",
       "_view_module_version": "1.2.0",
       "_view_name": "StyleView",
       "description_width": ""
      }
     },
     "2c875d60545147a8896c293767026870": {
      "model_module": "@jupyter-widgets/controls",
      "model_module_version": "1.5.0",
      "model_name": "HTMLModel",
      "state": {
       "_dom_classes": [],
       "_model_module": "@jupyter-widgets/controls",
       "_model_module_version": "1.5.0",
       "_model_name": "HTMLModel",
       "_view_count": null,
       "_view_module": "@jupyter-widgets/controls",
       "_view_module_version": "1.5.0",
       "_view_name": "HTMLView",
       "description": "",
       "description_tooltip": null,
       "layout": "IPY_MODEL_9bb24179e79740b99175e1424a1f2af0",
       "placeholder": "​",
       "style": "IPY_MODEL_2bc001ccfc8b4f26a1935d7676e5e79f",
       "value": " | loss 0.800 Δ -0.000 :  ✓: 100%"
      }
     },
     "2dea54570e6145ea9aaebdf8c6404fec": {
      "model_module": "@jupyter-widgets/controls",
      "model_module_version": "1.5.0",
      "model_name": "HBoxModel",
      "state": {
       "_dom_classes": [],
       "_model_module": "@jupyter-widgets/controls",
       "_model_module_version": "1.5.0",
       "_model_name": "HBoxModel",
       "_view_count": null,
       "_view_module": "@jupyter-widgets/controls",
       "_view_module_version": "1.5.0",
       "_view_name": "HBoxView",
       "box_style": "",
       "children": [
        "IPY_MODEL_0b370a494b3e4cd983bdbc47132a99d8",
        "IPY_MODEL_ee87ec5c557f4057be44a8df10e0171b",
        "IPY_MODEL_d9df17f101c14e84946da454ca32b697"
       ],
       "layout": "IPY_MODEL_ebb85811748b4be996eeea138aff3aa6"
      }
     },
     "2fa2e56752724c8384a16e45f4dcdfe9": {
      "model_module": "@jupyter-widgets/base",
      "model_module_version": "1.2.0",
      "model_name": "LayoutModel",
      "state": {
       "_model_module": "@jupyter-widgets/base",
       "_model_module_version": "1.2.0",
       "_model_name": "LayoutModel",
       "_view_count": null,
       "_view_module": "@jupyter-widgets/base",
       "_view_module_version": "1.2.0",
       "_view_name": "LayoutView",
       "align_content": null,
       "align_items": null,
       "align_self": null,
       "border": null,
       "bottom": null,
       "display": null,
       "flex": null,
       "flex_flow": null,
       "grid_area": null,
       "grid_auto_columns": null,
       "grid_auto_flow": null,
       "grid_auto_rows": null,
       "grid_column": null,
       "grid_gap": null,
       "grid_row": null,
       "grid_template_areas": null,
       "grid_template_columns": null,
       "grid_template_rows": null,
       "height": null,
       "justify_content": null,
       "justify_items": null,
       "left": null,
       "margin": null,
       "max_height": null,
       "max_width": null,
       "min_height": null,
       "min_width": null,
       "object_fit": null,
       "object_position": null,
       "order": null,
       "overflow": null,
       "overflow_x": null,
       "overflow_y": null,
       "padding": null,
       "right": null,
       "top": null,
       "visibility": null,
       "width": null
      }
     },
     "2fe0a854416a40b2bad3395ffc305e75": {
      "model_module": "@jupyter-widgets/base",
      "model_module_version": "1.2.0",
      "model_name": "LayoutModel",
      "state": {
       "_model_module": "@jupyter-widgets/base",
       "_model_module_version": "1.2.0",
       "_model_name": "LayoutModel",
       "_view_count": null,
       "_view_module": "@jupyter-widgets/base",
       "_view_module_version": "1.2.0",
       "_view_name": "LayoutView",
       "align_content": null,
       "align_items": null,
       "align_self": null,
       "border": null,
       "bottom": null,
       "display": null,
       "flex": null,
       "flex_flow": null,
       "grid_area": null,
       "grid_auto_columns": null,
       "grid_auto_flow": null,
       "grid_auto_rows": null,
       "grid_column": null,
       "grid_gap": null,
       "grid_row": null,
       "grid_template_areas": null,
       "grid_template_columns": null,
       "grid_template_rows": null,
       "height": null,
       "justify_content": null,
       "justify_items": null,
       "left": null,
       "margin": null,
       "max_height": null,
       "max_width": null,
       "min_height": null,
       "min_width": null,
       "object_fit": null,
       "object_position": null,
       "order": null,
       "overflow": null,
       "overflow_x": null,
       "overflow_y": null,
       "padding": null,
       "right": null,
       "top": null,
       "visibility": null,
       "width": null
      }
     },
     "33c31f5a70c449e8b6a602b91b15ee7c": {
      "model_module": "@jupyter-widgets/controls",
      "model_module_version": "1.5.0",
      "model_name": "HTMLModel",
      "state": {
       "_dom_classes": [],
       "_model_module": "@jupyter-widgets/controls",
       "_model_module_version": "1.5.0",
       "_model_name": "HTMLModel",
       "_view_count": null,
       "_view_module": "@jupyter-widgets/controls",
       "_view_module_version": "1.5.0",
       "_view_name": "HTMLView",
       "description": "",
       "description_tooltip": null,
       "layout": "IPY_MODEL_f01d24b429af43b99351f131d5339525",
       "placeholder": "​",
       "style": "IPY_MODEL_15b5de25fe38445e97ed26f6727c1446",
       "value": " 5/5 [00:00&lt;00:00, 18.80it/s]"
      }
     },
     "3637a59141b84384bccb8412dc79caa9": {
      "model_module": "@jupyter-widgets/controls",
      "model_module_version": "1.5.0",
      "model_name": "HBoxModel",
      "state": {
       "_dom_classes": [],
       "_model_module": "@jupyter-widgets/controls",
       "_model_module_version": "1.5.0",
       "_model_name": "HBoxModel",
       "_view_count": null,
       "_view_module": "@jupyter-widgets/controls",
       "_view_module_version": "1.5.0",
       "_view_name": "HBoxView",
       "box_style": "",
       "children": [
        "IPY_MODEL_062af4a823694dd69b1e948c26842866",
        "IPY_MODEL_4bf503ffa60a4aee9f8ad205eba9cb2a",
        "IPY_MODEL_fd150023ad044ab6bc01aeacacae3033"
       ],
       "layout": "IPY_MODEL_5e0c54901aff4af599ee22edae989b47"
      }
     },
     "397f6c229656443cbba11e0498aaaf2b": {
      "model_module": "@jupyter-widgets/base",
      "model_module_version": "1.2.0",
      "model_name": "LayoutModel",
      "state": {
       "_model_module": "@jupyter-widgets/base",
       "_model_module_version": "1.2.0",
       "_model_name": "LayoutModel",
       "_view_count": null,
       "_view_module": "@jupyter-widgets/base",
       "_view_module_version": "1.2.0",
       "_view_name": "LayoutView",
       "align_content": null,
       "align_items": null,
       "align_self": null,
       "border": null,
       "bottom": null,
       "display": null,
       "flex": "2",
       "flex_flow": null,
       "grid_area": null,
       "grid_auto_columns": null,
       "grid_auto_flow": null,
       "grid_auto_rows": null,
       "grid_column": null,
       "grid_gap": null,
       "grid_row": null,
       "grid_template_areas": null,
       "grid_template_columns": null,
       "grid_template_rows": null,
       "height": null,
       "justify_content": null,
       "justify_items": null,
       "left": null,
       "margin": null,
       "max_height": null,
       "max_width": null,
       "min_height": null,
       "min_width": null,
       "object_fit": null,
       "object_position": null,
       "order": null,
       "overflow": null,
       "overflow_x": null,
       "overflow_y": null,
       "padding": null,
       "right": null,
       "top": null,
       "visibility": null,
       "width": null
      }
     },
     "3a4bdf082a8b4ee496c01b39d4ee9139": {
      "model_module": "@jupyter-widgets/base",
      "model_module_version": "1.2.0",
      "model_name": "LayoutModel",
      "state": {
       "_model_module": "@jupyter-widgets/base",
       "_model_module_version": "1.2.0",
       "_model_name": "LayoutModel",
       "_view_count": null,
       "_view_module": "@jupyter-widgets/base",
       "_view_module_version": "1.2.0",
       "_view_name": "LayoutView",
       "align_content": null,
       "align_items": null,
       "align_self": null,
       "border": null,
       "bottom": null,
       "display": null,
       "flex": null,
       "flex_flow": null,
       "grid_area": null,
       "grid_auto_columns": null,
       "grid_auto_flow": null,
       "grid_auto_rows": null,
       "grid_column": null,
       "grid_gap": null,
       "grid_row": null,
       "grid_template_areas": null,
       "grid_template_columns": null,
       "grid_template_rows": null,
       "height": null,
       "justify_content": null,
       "justify_items": null,
       "left": null,
       "margin": null,
       "max_height": null,
       "max_width": null,
       "min_height": null,
       "min_width": null,
       "object_fit": null,
       "object_position": null,
       "order": null,
       "overflow": null,
       "overflow_x": null,
       "overflow_y": null,
       "padding": null,
       "right": null,
       "top": null,
       "visibility": null,
       "width": null
      }
     },
     "3c32b5806bb047bca04e080f65782a4d": {
      "model_module": "@jupyter-widgets/controls",
      "model_module_version": "1.5.0",
      "model_name": "FloatProgressModel",
      "state": {
       "_dom_classes": [],
       "_model_module": "@jupyter-widgets/controls",
       "_model_module_version": "1.5.0",
       "_model_name": "FloatProgressModel",
       "_view_count": null,
       "_view_module": "@jupyter-widgets/controls",
       "_view_module_version": "1.5.0",
       "_view_name": "ProgressView",
       "bar_style": "success",
       "description": "",
       "description_tooltip": null,
       "layout": "IPY_MODEL_59ee0de3cc6f40e3aa5055a7e586b424",
       "max": 10.0,
       "min": 0.0,
       "orientation": "horizontal",
       "style": "IPY_MODEL_177dbdcec5614c279c81dd6974247aa0",
       "value": 10.0
      }
     },
     "3cbbea80256c437086cd6ed98ecc9121": {
      "model_module": "@jupyter-widgets/controls",
      "model_module_version": "1.5.0",
      "model_name": "HTMLModel",
      "state": {
       "_dom_classes": [],
       "_model_module": "@jupyter-widgets/controls",
       "_model_module_version": "1.5.0",
       "_model_name": "HTMLModel",
       "_view_count": null,
       "_view_module": "@jupyter-widgets/controls",
       "_view_module_version": "1.5.0",
       "_view_name": "HTMLView",
       "description": "",
       "description_tooltip": null,
       "layout": "IPY_MODEL_ccaf32e2506547e5bd08fa5dc7a0434a",
       "placeholder": "​",
       "style": "IPY_MODEL_15064ecdcf1b423094c8e381bb559d97",
       "value": "100%"
      }
     },
     "3e45e8cdfe6a4d5e9127950481bdd36b": {
      "model_module": "@jupyter-widgets/base",
      "model_module_version": "1.2.0",
      "model_name": "LayoutModel",
      "state": {
       "_model_module": "@jupyter-widgets/base",
       "_model_module_version": "1.2.0",
       "_model_name": "LayoutModel",
       "_view_count": null,
       "_view_module": "@jupyter-widgets/base",
       "_view_module_version": "1.2.0",
       "_view_name": "LayoutView",
       "align_content": null,
       "align_items": null,
       "align_self": null,
       "border": null,
       "bottom": null,
       "display": null,
       "flex": null,
       "flex_flow": null,
       "grid_area": null,
       "grid_auto_columns": null,
       "grid_auto_flow": null,
       "grid_auto_rows": null,
       "grid_column": null,
       "grid_gap": null,
       "grid_row": null,
       "grid_template_areas": null,
       "grid_template_columns": null,
       "grid_template_rows": null,
       "height": null,
       "justify_content": null,
       "justify_items": null,
       "left": null,
       "margin": null,
       "max_height": null,
       "max_width": null,
       "min_height": null,
       "min_width": null,
       "object_fit": null,
       "object_position": null,
       "order": null,
       "overflow": null,
       "overflow_x": null,
       "overflow_y": null,
       "padding": null,
       "right": null,
       "top": null,
       "visibility": null,
       "width": null
      }
     },
     "3eb9c9e365994e6c89b98bb00bebf667": {
      "model_module": "@jupyter-widgets/base",
      "model_module_version": "1.2.0",
      "model_name": "LayoutModel",
      "state": {
       "_model_module": "@jupyter-widgets/base",
       "_model_module_version": "1.2.0",
       "_model_name": "LayoutModel",
       "_view_count": null,
       "_view_module": "@jupyter-widgets/base",
       "_view_module_version": "1.2.0",
       "_view_name": "LayoutView",
       "align_content": null,
       "align_items": null,
       "align_self": null,
       "border": null,
       "bottom": null,
       "display": null,
       "flex": null,
       "flex_flow": null,
       "grid_area": null,
       "grid_auto_columns": null,
       "grid_auto_flow": null,
       "grid_auto_rows": null,
       "grid_column": null,
       "grid_gap": null,
       "grid_row": null,
       "grid_template_areas": null,
       "grid_template_columns": null,
       "grid_template_rows": null,
       "height": null,
       "justify_content": null,
       "justify_items": null,
       "left": null,
       "margin": null,
       "max_height": null,
       "max_width": null,
       "min_height": null,
       "min_width": null,
       "object_fit": null,
       "object_position": null,
       "order": null,
       "overflow": null,
       "overflow_x": null,
       "overflow_y": null,
       "padding": null,
       "right": null,
       "top": null,
       "visibility": null,
       "width": null
      }
     },
     "3fdfac556a144c81bf5a7e1a027e105b": {
      "model_module": "@jupyter-widgets/controls",
      "model_module_version": "1.5.0",
      "model_name": "HTMLModel",
      "state": {
       "_dom_classes": [],
       "_model_module": "@jupyter-widgets/controls",
       "_model_module_version": "1.5.0",
       "_model_name": "HTMLModel",
       "_view_count": null,
       "_view_module": "@jupyter-widgets/controls",
       "_view_module_version": "1.5.0",
       "_view_name": "HTMLView",
       "description": "",
       "description_tooltip": null,
       "layout": "IPY_MODEL_0b3c8df1a4d9448497b20625a54cac70",
       "placeholder": "​",
       "style": "IPY_MODEL_9f48a943af03421ab6b25f8c93129628",
       "value": "100%"
      }
     },
     "43636b00292b49848c5cda54e2739778": {
      "model_module": "@jupyter-widgets/controls",
      "model_module_version": "1.5.0",
      "model_name": "HTMLModel",
      "state": {
       "_dom_classes": [],
       "_model_module": "@jupyter-widgets/controls",
       "_model_module_version": "1.5.0",
       "_model_name": "HTMLModel",
       "_view_count": null,
       "_view_module": "@jupyter-widgets/controls",
       "_view_module_version": "1.5.0",
       "_view_name": "HTMLView",
       "description": "",
       "description_tooltip": null,
       "layout": "IPY_MODEL_0176c1d9c01e4e7881616851f47fd185",
       "placeholder": "​",
       "style": "IPY_MODEL_4b4cabfdae61418bb52091e708b95370",
       "value": " 10/10 [00:00&lt;00:00, 12.62it/s]"
      }
     },
     "4394822ed3b6493bb224b56f4a63ede3": {
      "model_module": "@jupyter-widgets/controls",
      "model_module_version": "1.5.0",
      "model_name": "DescriptionStyleModel",
      "state": {
       "_model_module": "@jupyter-widgets/controls",
       "_model_module_version": "1.5.0",
       "_model_name": "DescriptionStyleModel",
       "_view_count": null,
       "_view_module": "@jupyter-widgets/base",
       "_view_module_version": "1.2.0",
       "_view_name": "StyleView",
       "description_width": ""
      }
     },
     "452fe8dad938429c8be733bfcd64e324": {
      "model_module": "@jupyter-widgets/controls",
      "model_module_version": "1.5.0",
      "model_name": "HBoxModel",
      "state": {
       "_dom_classes": [],
       "_model_module": "@jupyter-widgets/controls",
       "_model_module_version": "1.5.0",
       "_model_name": "HBoxModel",
       "_view_count": null,
       "_view_module": "@jupyter-widgets/controls",
       "_view_module_version": "1.5.0",
       "_view_name": "HBoxView",
       "box_style": "",
       "children": [
        "IPY_MODEL_3cbbea80256c437086cd6ed98ecc9121",
        "IPY_MODEL_0dadcd3d2edd46b1bee9f3017227cf6e",
        "IPY_MODEL_61d27b9441d94e38916ee02734ae5a7f"
       ],
       "layout": "IPY_MODEL_7258d59702a8494c92fd827e34f218d4"
      }
     },
     "45f4c3d49f9b401e9846e155435432e8": {
      "model_module": "@jupyter-widgets/controls",
      "model_module_version": "1.5.0",
      "model_name": "HTMLModel",
      "state": {
       "_dom_classes": [],
       "_model_module": "@jupyter-widgets/controls",
       "_model_module_version": "1.5.0",
       "_model_name": "HTMLModel",
       "_view_count": null,
       "_view_module": "@jupyter-widgets/controls",
       "_view_module_version": "1.5.0",
       "_view_name": "HTMLView",
       "description": "",
       "description_tooltip": null,
       "layout": "IPY_MODEL_16736fff7f694359b9165ca646fb7d8c",
       "placeholder": "​",
       "style": "IPY_MODEL_4394822ed3b6493bb224b56f4a63ede3",
       "value": " 10/10 [00:00&lt;00:00, 98.62it/s]"
      }
     },
     "476456b3db78405c8d1f81e217ee8bb1": {
      "model_module": "@jupyter-widgets/controls",
      "model_module_version": "1.5.0",
      "model_name": "ProgressStyleModel",
      "state": {
       "_model_module": "@jupyter-widgets/controls",
       "_model_module_version": "1.5.0",
       "_model_name": "ProgressStyleModel",
       "_view_count": null,
       "_view_module": "@jupyter-widgets/base",
       "_view_module_version": "1.2.0",
       "_view_name": "StyleView",
       "bar_color": null,
       "description_width": ""
      }
     },
     "483aee6226d84a52a490c0d4daa99d10": {
      "model_module": "@jupyter-widgets/controls",
      "model_module_version": "1.5.0",
      "model_name": "HTMLModel",
      "state": {
       "_dom_classes": [],
       "_model_module": "@jupyter-widgets/controls",
       "_model_module_version": "1.5.0",
       "_model_name": "HTMLModel",
       "_view_count": null,
       "_view_module": "@jupyter-widgets/controls",
       "_view_module_version": "1.5.0",
       "_view_name": "HTMLView",
       "description": "",
       "description_tooltip": null,
       "layout": "IPY_MODEL_abe9b79671874e919b18f05a95a728e2",
       "placeholder": "​",
       "style": "IPY_MODEL_b29bdf07cd5846e08d0aaec4f78ba6e8",
       "value": " 443/443 [00:04&lt;00:00, 113.53it/s]"
      }
     },
     "4b4cabfdae61418bb52091e708b95370": {
      "model_module": "@jupyter-widgets/controls",
      "model_module_version": "1.5.0",
      "model_name": "DescriptionStyleModel",
      "state": {
       "_model_module": "@jupyter-widgets/controls",
       "_model_module_version": "1.5.0",
       "_model_name": "DescriptionStyleModel",
       "_view_count": null,
       "_view_module": "@jupyter-widgets/base",
       "_view_module_version": "1.2.0",
       "_view_name": "StyleView",
       "description_width": ""
      }
     },
     "4b7933c0ef2a4696b5982726c7a2fab6": {
      "model_module": "@jupyter-widgets/base",
      "model_module_version": "1.2.0",
      "model_name": "LayoutModel",
      "state": {
       "_model_module": "@jupyter-widgets/base",
       "_model_module_version": "1.2.0",
       "_model_name": "LayoutModel",
       "_view_count": null,
       "_view_module": "@jupyter-widgets/base",
       "_view_module_version": "1.2.0",
       "_view_name": "LayoutView",
       "align_content": null,
       "align_items": null,
       "align_self": null,
       "border": null,
       "bottom": null,
       "display": null,
       "flex": null,
       "flex_flow": null,
       "grid_area": null,
       "grid_auto_columns": null,
       "grid_auto_flow": null,
       "grid_auto_rows": null,
       "grid_column": null,
       "grid_gap": null,
       "grid_row": null,
       "grid_template_areas": null,
       "grid_template_columns": null,
       "grid_template_rows": null,
       "height": null,
       "justify_content": null,
       "justify_items": null,
       "left": null,
       "margin": null,
       "max_height": null,
       "max_width": null,
       "min_height": null,
       "min_width": null,
       "object_fit": null,
       "object_position": null,
       "order": null,
       "overflow": null,
       "overflow_x": null,
       "overflow_y": null,
       "padding": null,
       "right": null,
       "top": null,
       "visibility": null,
       "width": null
      }
     },
     "4bb3343916d84755af0259e42aed6463": {
      "model_module": "@jupyter-widgets/base",
      "model_module_version": "1.2.0",
      "model_name": "LayoutModel",
      "state": {
       "_model_module": "@jupyter-widgets/base",
       "_model_module_version": "1.2.0",
       "_model_name": "LayoutModel",
       "_view_count": null,
       "_view_module": "@jupyter-widgets/base",
       "_view_module_version": "1.2.0",
       "_view_name": "LayoutView",
       "align_content": null,
       "align_items": null,
       "align_self": null,
       "border": null,
       "bottom": null,
       "display": null,
       "flex": null,
       "flex_flow": null,
       "grid_area": null,
       "grid_auto_columns": null,
       "grid_auto_flow": null,
       "grid_auto_rows": null,
       "grid_column": null,
       "grid_gap": null,
       "grid_row": null,
       "grid_template_areas": null,
       "grid_template_columns": null,
       "grid_template_rows": null,
       "height": null,
       "justify_content": null,
       "justify_items": null,
       "left": null,
       "margin": null,
       "max_height": null,
       "max_width": null,
       "min_height": null,
       "min_width": null,
       "object_fit": null,
       "object_position": null,
       "order": null,
       "overflow": null,
       "overflow_x": null,
       "overflow_y": null,
       "padding": null,
       "right": null,
       "top": null,
       "visibility": null,
       "width": null
      }
     },
     "4bb9e74999c44c4e8bbfb3aafee6ff8d": {
      "model_module": "@jupyter-widgets/controls",
      "model_module_version": "1.5.0",
      "model_name": "HTMLModel",
      "state": {
       "_dom_classes": [],
       "_model_module": "@jupyter-widgets/controls",
       "_model_module_version": "1.5.0",
       "_model_name": "HTMLModel",
       "_view_count": null,
       "_view_module": "@jupyter-widgets/controls",
       "_view_module_version": "1.5.0",
       "_view_name": "HTMLView",
       "description": "",
       "description_tooltip": null,
       "layout": "IPY_MODEL_d761b0f4b3474791850fd9a634dad6b0",
       "placeholder": "​",
       "style": "IPY_MODEL_2c21a9b189ee49f89edad0c0df1972ea",
       "value": " 5/5 [00:00&lt;00:00, 15.24it/s]"
      }
     },
     "4bf503ffa60a4aee9f8ad205eba9cb2a": {
      "model_module": "@jupyter-widgets/controls",
      "model_module_version": "1.5.0",
      "model_name": "FloatProgressModel",
      "state": {
       "_dom_classes": [],
       "_model_module": "@jupyter-widgets/controls",
       "_model_module_version": "1.5.0",
       "_model_name": "FloatProgressModel",
       "_view_count": null,
       "_view_module": "@jupyter-widgets/controls",
       "_view_module_version": "1.5.0",
       "_view_name": "ProgressView",
       "bar_style": "success",
       "description": "",
       "description_tooltip": null,
       "layout": "IPY_MODEL_969cc2a29f664c21ae35a9733d5a74b3",
       "max": 10.0,
       "min": 0.0,
       "orientation": "horizontal",
       "style": "IPY_MODEL_ca23af5fe43a4919aa634a5e13dbc81a",
       "value": 10.0
      }
     },
     "4d8845d1a13f4c33a2c81a80d6771895": {
      "model_module": "@jupyter-widgets/controls",
      "model_module_version": "1.5.0",
      "model_name": "ProgressStyleModel",
      "state": {
       "_model_module": "@jupyter-widgets/controls",
       "_model_module_version": "1.5.0",
       "_model_name": "ProgressStyleModel",
       "_view_count": null,
       "_view_module": "@jupyter-widgets/base",
       "_view_module_version": "1.2.0",
       "_view_name": "StyleView",
       "bar_color": null,
       "description_width": ""
      }
     },
     "4e1f6e361b01456ab2fcc711cad57e99": {
      "model_module": "@jupyter-widgets/base",
      "model_module_version": "1.2.0",
      "model_name": "LayoutModel",
      "state": {
       "_model_module": "@jupyter-widgets/base",
       "_model_module_version": "1.2.0",
       "_model_name": "LayoutModel",
       "_view_count": null,
       "_view_module": "@jupyter-widgets/base",
       "_view_module_version": "1.2.0",
       "_view_name": "LayoutView",
       "align_content": null,
       "align_items": null,
       "align_self": null,
       "border": null,
       "bottom": null,
       "display": null,
       "flex": null,
       "flex_flow": null,
       "grid_area": null,
       "grid_auto_columns": null,
       "grid_auto_flow": null,
       "grid_auto_rows": null,
       "grid_column": null,
       "grid_gap": null,
       "grid_row": null,
       "grid_template_areas": null,
       "grid_template_columns": null,
       "grid_template_rows": null,
       "height": null,
       "justify_content": null,
       "justify_items": null,
       "left": null,
       "margin": null,
       "max_height": null,
       "max_width": null,
       "min_height": null,
       "min_width": null,
       "object_fit": null,
       "object_position": null,
       "order": null,
       "overflow": null,
       "overflow_x": null,
       "overflow_y": null,
       "padding": null,
       "right": null,
       "top": null,
       "visibility": null,
       "width": null
      }
     },
     "511346a332634a219dd8448581aef141": {
      "model_module": "@jupyter-widgets/base",
      "model_module_version": "1.2.0",
      "model_name": "LayoutModel",
      "state": {
       "_model_module": "@jupyter-widgets/base",
       "_model_module_version": "1.2.0",
       "_model_name": "LayoutModel",
       "_view_count": null,
       "_view_module": "@jupyter-widgets/base",
       "_view_module_version": "1.2.0",
       "_view_name": "LayoutView",
       "align_content": null,
       "align_items": null,
       "align_self": null,
       "border": null,
       "bottom": null,
       "display": null,
       "flex": null,
       "flex_flow": null,
       "grid_area": null,
       "grid_auto_columns": null,
       "grid_auto_flow": null,
       "grid_auto_rows": null,
       "grid_column": null,
       "grid_gap": null,
       "grid_row": null,
       "grid_template_areas": null,
       "grid_template_columns": null,
       "grid_template_rows": null,
       "height": null,
       "justify_content": null,
       "justify_items": null,
       "left": null,
       "margin": null,
       "max_height": null,
       "max_width": null,
       "min_height": null,
       "min_width": null,
       "object_fit": null,
       "object_position": null,
       "order": null,
       "overflow": null,
       "overflow_x": null,
       "overflow_y": null,
       "padding": null,
       "right": null,
       "top": null,
       "visibility": null,
       "width": null
      }
     },
     "51b77a9cd1cf4b499d8720cc5e67eab3": {
      "model_module": "@jupyter-widgets/controls",
      "model_module_version": "1.5.0",
      "model_name": "DescriptionStyleModel",
      "state": {
       "_model_module": "@jupyter-widgets/controls",
       "_model_module_version": "1.5.0",
       "_model_name": "DescriptionStyleModel",
       "_view_count": null,
       "_view_module": "@jupyter-widgets/base",
       "_view_module_version": "1.2.0",
       "_view_name": "StyleView",
       "description_width": ""
      }
     },
     "53d5d384a1424af6b51ff8cf71b3e96a": {
      "model_module": "@jupyter-widgets/controls",
      "model_module_version": "1.5.0",
      "model_name": "FloatProgressModel",
      "state": {
       "_dom_classes": [],
       "_model_module": "@jupyter-widgets/controls",
       "_model_module_version": "1.5.0",
       "_model_name": "FloatProgressModel",
       "_view_count": null,
       "_view_module": "@jupyter-widgets/controls",
       "_view_module_version": "1.5.0",
       "_view_name": "ProgressView",
       "bar_style": "success",
       "description": "",
       "description_tooltip": null,
       "layout": "IPY_MODEL_f06fa44ee1084f36ace9f324df79f484",
       "max": 10.0,
       "min": 0.0,
       "orientation": "horizontal",
       "style": "IPY_MODEL_eab9bcfa9ecc47d39a298f91102b8986",
       "value": 10.0
      }
     },
     "53e6e74983534c5aa9dca86aac057d9f": {
      "model_module": "@jupyter-widgets/base",
      "model_module_version": "1.2.0",
      "model_name": "LayoutModel",
      "state": {
       "_model_module": "@jupyter-widgets/base",
       "_model_module_version": "1.2.0",
       "_model_name": "LayoutModel",
       "_view_count": null,
       "_view_module": "@jupyter-widgets/base",
       "_view_module_version": "1.2.0",
       "_view_name": "LayoutView",
       "align_content": null,
       "align_items": null,
       "align_self": null,
       "border": null,
       "bottom": null,
       "display": null,
       "flex": null,
       "flex_flow": null,
       "grid_area": null,
       "grid_auto_columns": null,
       "grid_auto_flow": null,
       "grid_auto_rows": null,
       "grid_column": null,
       "grid_gap": null,
       "grid_row": null,
       "grid_template_areas": null,
       "grid_template_columns": null,
       "grid_template_rows": null,
       "height": null,
       "justify_content": null,
       "justify_items": null,
       "left": null,
       "margin": null,
       "max_height": null,
       "max_width": null,
       "min_height": null,
       "min_width": null,
       "object_fit": null,
       "object_position": null,
       "order": null,
       "overflow": null,
       "overflow_x": null,
       "overflow_y": null,
       "padding": null,
       "right": null,
       "top": null,
       "visibility": null,
       "width": null
      }
     },
     "55479a0867a04d548965e4c973a8aa08": {
      "model_module": "@jupyter-widgets/base",
      "model_module_version": "1.2.0",
      "model_name": "LayoutModel",
      "state": {
       "_model_module": "@jupyter-widgets/base",
       "_model_module_version": "1.2.0",
       "_model_name": "LayoutModel",
       "_view_count": null,
       "_view_module": "@jupyter-widgets/base",
       "_view_module_version": "1.2.0",
       "_view_name": "LayoutView",
       "align_content": null,
       "align_items": null,
       "align_self": null,
       "border": null,
       "bottom": null,
       "display": null,
       "flex": null,
       "flex_flow": null,
       "grid_area": null,
       "grid_auto_columns": null,
       "grid_auto_flow": null,
       "grid_auto_rows": null,
       "grid_column": null,
       "grid_gap": null,
       "grid_row": null,
       "grid_template_areas": null,
       "grid_template_columns": null,
       "grid_template_rows": null,
       "height": null,
       "justify_content": null,
       "justify_items": null,
       "left": null,
       "margin": null,
       "max_height": null,
       "max_width": null,
       "min_height": null,
       "min_width": null,
       "object_fit": null,
       "object_position": null,
       "order": null,
       "overflow": null,
       "overflow_x": null,
       "overflow_y": null,
       "padding": null,
       "right": null,
       "top": null,
       "visibility": null,
       "width": null
      }
     },
     "55af40b74a014930a2731d7852f153f1": {
      "model_module": "@jupyter-widgets/base",
      "model_module_version": "1.2.0",
      "model_name": "LayoutModel",
      "state": {
       "_model_module": "@jupyter-widgets/base",
       "_model_module_version": "1.2.0",
       "_model_name": "LayoutModel",
       "_view_count": null,
       "_view_module": "@jupyter-widgets/base",
       "_view_module_version": "1.2.0",
       "_view_name": "LayoutView",
       "align_content": null,
       "align_items": null,
       "align_self": null,
       "border": null,
       "bottom": null,
       "display": null,
       "flex": null,
       "flex_flow": null,
       "grid_area": null,
       "grid_auto_columns": null,
       "grid_auto_flow": null,
       "grid_auto_rows": null,
       "grid_column": null,
       "grid_gap": null,
       "grid_row": null,
       "grid_template_areas": null,
       "grid_template_columns": null,
       "grid_template_rows": null,
       "height": null,
       "justify_content": null,
       "justify_items": null,
       "left": null,
       "margin": null,
       "max_height": null,
       "max_width": null,
       "min_height": null,
       "min_width": null,
       "object_fit": null,
       "object_position": null,
       "order": null,
       "overflow": null,
       "overflow_x": null,
       "overflow_y": null,
       "padding": null,
       "right": null,
       "top": null,
       "visibility": null,
       "width": null
      }
     },
     "563a518d373142fda554c22d64eb45fb": {
      "model_module": "@jupyter-widgets/base",
      "model_module_version": "1.2.0",
      "model_name": "LayoutModel",
      "state": {
       "_model_module": "@jupyter-widgets/base",
       "_model_module_version": "1.2.0",
       "_model_name": "LayoutModel",
       "_view_count": null,
       "_view_module": "@jupyter-widgets/base",
       "_view_module_version": "1.2.0",
       "_view_name": "LayoutView",
       "align_content": null,
       "align_items": null,
       "align_self": null,
       "border": null,
       "bottom": null,
       "display": "inline-flex",
       "flex": null,
       "flex_flow": "row wrap",
       "grid_area": null,
       "grid_auto_columns": null,
       "grid_auto_flow": null,
       "grid_auto_rows": null,
       "grid_column": null,
       "grid_gap": null,
       "grid_row": null,
       "grid_template_areas": null,
       "grid_template_columns": null,
       "grid_template_rows": null,
       "height": null,
       "justify_content": null,
       "justify_items": null,
       "left": null,
       "margin": null,
       "max_height": null,
       "max_width": null,
       "min_height": null,
       "min_width": null,
       "object_fit": null,
       "object_position": null,
       "order": null,
       "overflow": null,
       "overflow_x": null,
       "overflow_y": null,
       "padding": null,
       "right": null,
       "top": null,
       "visibility": null,
       "width": "1000px"
      }
     },
     "56aad223dd0148be8917ec8858d8cf5a": {
      "model_module": "@jupyter-widgets/controls",
      "model_module_version": "1.5.0",
      "model_name": "HTMLModel",
      "state": {
       "_dom_classes": [],
       "_model_module": "@jupyter-widgets/controls",
       "_model_module_version": "1.5.0",
       "_model_name": "HTMLModel",
       "_view_count": null,
       "_view_module": "@jupyter-widgets/controls",
       "_view_module_version": "1.5.0",
       "_view_name": "HTMLView",
       "description": "",
       "description_tooltip": null,
       "layout": "IPY_MODEL_6fc6f0ddf749455ea074b67997a37965",
       "placeholder": "​",
       "style": "IPY_MODEL_ca89e062d3a740bba166d939b866e35b",
       "value": " | loss 0.775 Δ 0.001 :  ✓: 100%"
      }
     },
     "59ee0de3cc6f40e3aa5055a7e586b424": {
      "model_module": "@jupyter-widgets/base",
      "model_module_version": "1.2.0",
      "model_name": "LayoutModel",
      "state": {
       "_model_module": "@jupyter-widgets/base",
       "_model_module_version": "1.2.0",
       "_model_name": "LayoutModel",
       "_view_count": null,
       "_view_module": "@jupyter-widgets/base",
       "_view_module_version": "1.2.0",
       "_view_name": "LayoutView",
       "align_content": null,
       "align_items": null,
       "align_self": null,
       "border": null,
       "bottom": null,
       "display": null,
       "flex": null,
       "flex_flow": null,
       "grid_area": null,
       "grid_auto_columns": null,
       "grid_auto_flow": null,
       "grid_auto_rows": null,
       "grid_column": null,
       "grid_gap": null,
       "grid_row": null,
       "grid_template_areas": null,
       "grid_template_columns": null,
       "grid_template_rows": null,
       "height": null,
       "justify_content": null,
       "justify_items": null,
       "left": null,
       "margin": null,
       "max_height": null,
       "max_width": null,
       "min_height": null,
       "min_width": null,
       "object_fit": null,
       "object_position": null,
       "order": null,
       "overflow": null,
       "overflow_x": null,
       "overflow_y": null,
       "padding": null,
       "right": null,
       "top": null,
       "visibility": null,
       "width": null
      }
     },
     "5b451e545c3b402fbe71286e3d1f766b": {
      "model_module": "@jupyter-widgets/controls",
      "model_module_version": "1.5.0",
      "model_name": "ProgressStyleModel",
      "state": {
       "_model_module": "@jupyter-widgets/controls",
       "_model_module_version": "1.5.0",
       "_model_name": "ProgressStyleModel",
       "_view_count": null,
       "_view_module": "@jupyter-widgets/base",
       "_view_module_version": "1.2.0",
       "_view_name": "StyleView",
       "bar_color": null,
       "description_width": ""
      }
     },
     "5d8b55f1f1854209a0485a7966f42826": {
      "model_module": "@jupyter-widgets/controls",
      "model_module_version": "1.5.0",
      "model_name": "DescriptionStyleModel",
      "state": {
       "_model_module": "@jupyter-widgets/controls",
       "_model_module_version": "1.5.0",
       "_model_name": "DescriptionStyleModel",
       "_view_count": null,
       "_view_module": "@jupyter-widgets/base",
       "_view_module_version": "1.2.0",
       "_view_name": "StyleView",
       "description_width": ""
      }
     },
     "5e0c54901aff4af599ee22edae989b47": {
      "model_module": "@jupyter-widgets/base",
      "model_module_version": "1.2.0",
      "model_name": "LayoutModel",
      "state": {
       "_model_module": "@jupyter-widgets/base",
       "_model_module_version": "1.2.0",
       "_model_name": "LayoutModel",
       "_view_count": null,
       "_view_module": "@jupyter-widgets/base",
       "_view_module_version": "1.2.0",
       "_view_name": "LayoutView",
       "align_content": null,
       "align_items": null,
       "align_self": null,
       "border": null,
       "bottom": null,
       "display": null,
       "flex": null,
       "flex_flow": null,
       "grid_area": null,
       "grid_auto_columns": null,
       "grid_auto_flow": null,
       "grid_auto_rows": null,
       "grid_column": null,
       "grid_gap": null,
       "grid_row": null,
       "grid_template_areas": null,
       "grid_template_columns": null,
       "grid_template_rows": null,
       "height": null,
       "justify_content": null,
       "justify_items": null,
       "left": null,
       "margin": null,
       "max_height": null,
       "max_width": null,
       "min_height": null,
       "min_width": null,
       "object_fit": null,
       "object_position": null,
       "order": null,
       "overflow": null,
       "overflow_x": null,
       "overflow_y": null,
       "padding": null,
       "right": null,
       "top": null,
       "visibility": null,
       "width": null
      }
     },
     "5f002520edad4d31a6a6dd2c21a7d83e": {
      "model_module": "@jupyter-widgets/controls",
      "model_module_version": "1.5.0",
      "model_name": "FloatProgressModel",
      "state": {
       "_dom_classes": [],
       "_model_module": "@jupyter-widgets/controls",
       "_model_module_version": "1.5.0",
       "_model_name": "FloatProgressModel",
       "_view_count": null,
       "_view_module": "@jupyter-widgets/controls",
       "_view_module_version": "1.5.0",
       "_view_name": "ProgressView",
       "bar_style": "success",
       "description": "",
       "description_tooltip": null,
       "layout": "IPY_MODEL_9be5d92e720947b9a8257a8c2c244492",
       "max": 5.0,
       "min": 0.0,
       "orientation": "horizontal",
       "style": "IPY_MODEL_5b451e545c3b402fbe71286e3d1f766b",
       "value": 5.0
      }
     },
     "61005476953346c4b955f80497f878a3": {
      "model_module": "@jupyter-widgets/controls",
      "model_module_version": "1.5.0",
      "model_name": "HBoxModel",
      "state": {
       "_dom_classes": [],
       "_model_module": "@jupyter-widgets/controls",
       "_model_module_version": "1.5.0",
       "_model_name": "HBoxModel",
       "_view_count": null,
       "_view_module": "@jupyter-widgets/controls",
       "_view_module_version": "1.5.0",
       "_view_name": "HBoxView",
       "box_style": "",
       "children": [
        "IPY_MODEL_29a5c2b40a1c47128570a54bb8974085",
        "IPY_MODEL_17dc68658cb1404e80001beddb7fb4b4",
        "IPY_MODEL_6b74143828804135a6ac1b895251259b"
       ],
       "layout": "IPY_MODEL_c0d7b5af3add4b21978f0427cffc3425"
      }
     },
     "61d27b9441d94e38916ee02734ae5a7f": {
      "model_module": "@jupyter-widgets/controls",
      "model_module_version": "1.5.0",
      "model_name": "HTMLModel",
      "state": {
       "_dom_classes": [],
       "_model_module": "@jupyter-widgets/controls",
       "_model_module_version": "1.5.0",
       "_model_name": "HTMLModel",
       "_view_count": null,
       "_view_module": "@jupyter-widgets/controls",
       "_view_module_version": "1.5.0",
       "_view_name": "HTMLView",
       "description": "",
       "description_tooltip": null,
       "layout": "IPY_MODEL_3a4bdf082a8b4ee496c01b39d4ee9139",
       "placeholder": "​",
       "style": "IPY_MODEL_a57857f96adf4728b1adb474b8f13599",
       "value": " 5/5 [00:00&lt;00:00, 16.59it/s]"
      }
     },
     "62c6a05de6b8400cb5a001a3072c77e7": {
      "model_module": "@jupyter-widgets/controls",
      "model_module_version": "1.5.0",
      "model_name": "FloatProgressModel",
      "state": {
       "_dom_classes": [],
       "_model_module": "@jupyter-widgets/controls",
       "_model_module_version": "1.5.0",
       "_model_name": "FloatProgressModel",
       "_view_count": null,
       "_view_module": "@jupyter-widgets/controls",
       "_view_module_version": "1.5.0",
       "_view_name": "ProgressView",
       "bar_style": "success",
       "description": "",
       "description_tooltip": null,
       "layout": "IPY_MODEL_a56577c304f7497a89ac7fc01b055a8d",
       "max": 10000.0,
       "min": 0.0,
       "orientation": "horizontal",
       "style": "IPY_MODEL_166478f335fe457c86e1cb4a9ce5ee34",
       "value": 443.0
      }
     },
     "64091f9c8c2c4cbc98f981cab3a93c26": {
      "model_module": "@jupyter-widgets/controls",
      "model_module_version": "1.5.0",
      "model_name": "ProgressStyleModel",
      "state": {
       "_model_module": "@jupyter-widgets/controls",
       "_model_module_version": "1.5.0",
       "_model_name": "ProgressStyleModel",
       "_view_count": null,
       "_view_module": "@jupyter-widgets/base",
       "_view_module_version": "1.2.0",
       "_view_name": "StyleView",
       "bar_color": null,
       "description_width": ""
      }
     },
     "67450ef736854707877bcc04f8fd216c": {
      "model_module": "@jupyter-widgets/controls",
      "model_module_version": "1.5.0",
      "model_name": "DescriptionStyleModel",
      "state": {
       "_model_module": "@jupyter-widgets/controls",
       "_model_module_version": "1.5.0",
       "_model_name": "DescriptionStyleModel",
       "_view_count": null,
       "_view_module": "@jupyter-widgets/base",
       "_view_module_version": "1.2.0",
       "_view_name": "StyleView",
       "description_width": ""
      }
     },
     "6b74143828804135a6ac1b895251259b": {
      "model_module": "@jupyter-widgets/controls",
      "model_module_version": "1.5.0",
      "model_name": "HTMLModel",
      "state": {
       "_dom_classes": [],
       "_model_module": "@jupyter-widgets/controls",
       "_model_module_version": "1.5.0",
       "_model_name": "HTMLModel",
       "_view_count": null,
       "_view_module": "@jupyter-widgets/controls",
       "_view_module_version": "1.5.0",
       "_view_name": "HTMLView",
       "description": "",
       "description_tooltip": null,
       "layout": "IPY_MODEL_128a396df946451f904f976c891ef361",
       "placeholder": "​",
       "style": "IPY_MODEL_8acb7c6c0f2f4c2f9562b34747e10f5a",
       "value": " 10/10 [00:00&lt;00:00, 15.83it/s]"
      }
     },
     "6f91dcac2a374a46848044a30253b6ac": {
      "model_module": "@jupyter-widgets/base",
      "model_module_version": "1.2.0",
      "model_name": "LayoutModel",
      "state": {
       "_model_module": "@jupyter-widgets/base",
       "_model_module_version": "1.2.0",
       "_model_name": "LayoutModel",
       "_view_count": null,
       "_view_module": "@jupyter-widgets/base",
       "_view_module_version": "1.2.0",
       "_view_name": "LayoutView",
       "align_content": null,
       "align_items": null,
       "align_self": null,
       "border": null,
       "bottom": null,
       "display": null,
       "flex": null,
       "flex_flow": null,
       "grid_area": null,
       "grid_auto_columns": null,
       "grid_auto_flow": null,
       "grid_auto_rows": null,
       "grid_column": null,
       "grid_gap": null,
       "grid_row": null,
       "grid_template_areas": null,
       "grid_template_columns": null,
       "grid_template_rows": null,
       "height": null,
       "justify_content": null,
       "justify_items": null,
       "left": null,
       "margin": null,
       "max_height": null,
       "max_width": null,
       "min_height": null,
       "min_width": null,
       "object_fit": null,
       "object_position": null,
       "order": null,
       "overflow": null,
       "overflow_x": null,
       "overflow_y": null,
       "padding": null,
       "right": null,
       "top": null,
       "visibility": null,
       "width": null
      }
     },
     "6fc6f0ddf749455ea074b67997a37965": {
      "model_module": "@jupyter-widgets/base",
      "model_module_version": "1.2.0",
      "model_name": "LayoutModel",
      "state": {
       "_model_module": "@jupyter-widgets/base",
       "_model_module_version": "1.2.0",
       "_model_name": "LayoutModel",
       "_view_count": null,
       "_view_module": "@jupyter-widgets/base",
       "_view_module_version": "1.2.0",
       "_view_name": "LayoutView",
       "align_content": null,
       "align_items": null,
       "align_self": null,
       "border": null,
       "bottom": null,
       "display": null,
       "flex": null,
       "flex_flow": null,
       "grid_area": null,
       "grid_auto_columns": null,
       "grid_auto_flow": null,
       "grid_auto_rows": null,
       "grid_column": null,
       "grid_gap": null,
       "grid_row": null,
       "grid_template_areas": null,
       "grid_template_columns": null,
       "grid_template_rows": null,
       "height": null,
       "justify_content": null,
       "justify_items": null,
       "left": null,
       "margin": null,
       "max_height": null,
       "max_width": null,
       "min_height": null,
       "min_width": null,
       "object_fit": null,
       "object_position": null,
       "order": null,
       "overflow": null,
       "overflow_x": null,
       "overflow_y": null,
       "padding": null,
       "right": null,
       "top": null,
       "visibility": null,
       "width": null
      }
     },
     "715dfe41446b4d64945eae27b5f12ab8": {
      "model_module": "@jupyter-widgets/controls",
      "model_module_version": "1.5.0",
      "model_name": "HBoxModel",
      "state": {
       "_dom_classes": [],
       "_model_module": "@jupyter-widgets/controls",
       "_model_module_version": "1.5.0",
       "_model_name": "HBoxModel",
       "_view_count": null,
       "_view_module": "@jupyter-widgets/controls",
       "_view_module_version": "1.5.0",
       "_view_name": "HBoxView",
       "box_style": "",
       "children": [
        "IPY_MODEL_d034a3fea6ae4fefa7573c7e3bc11222",
        "IPY_MODEL_7a6d28c868b74db78cf36452b6ed8d83",
        "IPY_MODEL_b800f5dfbffd414f85b88ba2bc72c192"
       ],
       "layout": "IPY_MODEL_563a518d373142fda554c22d64eb45fb"
      }
     },
     "72217b96a0b14ccc94210efef6645b51": {
      "model_module": "@jupyter-widgets/controls",
      "model_module_version": "1.5.0",
      "model_name": "DescriptionStyleModel",
      "state": {
       "_model_module": "@jupyter-widgets/controls",
       "_model_module_version": "1.5.0",
       "_model_name": "DescriptionStyleModel",
       "_view_count": null,
       "_view_module": "@jupyter-widgets/base",
       "_view_module_version": "1.2.0",
       "_view_name": "StyleView",
       "description_width": ""
      }
     },
     "7258d59702a8494c92fd827e34f218d4": {
      "model_module": "@jupyter-widgets/base",
      "model_module_version": "1.2.0",
      "model_name": "LayoutModel",
      "state": {
       "_model_module": "@jupyter-widgets/base",
       "_model_module_version": "1.2.0",
       "_model_name": "LayoutModel",
       "_view_count": null,
       "_view_module": "@jupyter-widgets/base",
       "_view_module_version": "1.2.0",
       "_view_name": "LayoutView",
       "align_content": null,
       "align_items": null,
       "align_self": null,
       "border": null,
       "bottom": null,
       "display": null,
       "flex": null,
       "flex_flow": null,
       "grid_area": null,
       "grid_auto_columns": null,
       "grid_auto_flow": null,
       "grid_auto_rows": null,
       "grid_column": null,
       "grid_gap": null,
       "grid_row": null,
       "grid_template_areas": null,
       "grid_template_columns": null,
       "grid_template_rows": null,
       "height": null,
       "justify_content": null,
       "justify_items": null,
       "left": null,
       "margin": null,
       "max_height": null,
       "max_width": null,
       "min_height": null,
       "min_width": null,
       "object_fit": null,
       "object_position": null,
       "order": null,
       "overflow": null,
       "overflow_x": null,
       "overflow_y": null,
       "padding": null,
       "right": null,
       "top": null,
       "visibility": null,
       "width": null
      }
     },
     "725fc67bc78f4c4f85696c8682e95b2e": {
      "model_module": "@jupyter-widgets/controls",
      "model_module_version": "1.5.0",
      "model_name": "FloatProgressModel",
      "state": {
       "_dom_classes": [],
       "_model_module": "@jupyter-widgets/controls",
       "_model_module_version": "1.5.0",
       "_model_name": "FloatProgressModel",
       "_view_count": null,
       "_view_module": "@jupyter-widgets/controls",
       "_view_module_version": "1.5.0",
       "_view_name": "ProgressView",
       "bar_style": "success",
       "description": "",
       "description_tooltip": null,
       "layout": "IPY_MODEL_53e6e74983534c5aa9dca86aac057d9f",
       "max": 5.0,
       "min": 0.0,
       "orientation": "horizontal",
       "style": "IPY_MODEL_fa9cfc902649423784970ae623afae0e",
       "value": 5.0
      }
     },
     "7554c185ce1d4709a891d4ab87c22a33": {
      "model_module": "@jupyter-widgets/base",
      "model_module_version": "1.2.0",
      "model_name": "LayoutModel",
      "state": {
       "_model_module": "@jupyter-widgets/base",
       "_model_module_version": "1.2.0",
       "_model_name": "LayoutModel",
       "_view_count": null,
       "_view_module": "@jupyter-widgets/base",
       "_view_module_version": "1.2.0",
       "_view_name": "LayoutView",
       "align_content": null,
       "align_items": null,
       "align_self": null,
       "border": null,
       "bottom": null,
       "display": null,
       "flex": null,
       "flex_flow": null,
       "grid_area": null,
       "grid_auto_columns": null,
       "grid_auto_flow": null,
       "grid_auto_rows": null,
       "grid_column": null,
       "grid_gap": null,
       "grid_row": null,
       "grid_template_areas": null,
       "grid_template_columns": null,
       "grid_template_rows": null,
       "height": null,
       "justify_content": null,
       "justify_items": null,
       "left": null,
       "margin": null,
       "max_height": null,
       "max_width": null,
       "min_height": null,
       "min_width": null,
       "object_fit": null,
       "object_position": null,
       "order": null,
       "overflow": null,
       "overflow_x": null,
       "overflow_y": null,
       "padding": null,
       "right": null,
       "top": null,
       "visibility": null,
       "width": null
      }
     },
     "7a6d28c868b74db78cf36452b6ed8d83": {
      "model_module": "@jupyter-widgets/controls",
      "model_module_version": "1.5.0",
      "model_name": "FloatProgressModel",
      "state": {
       "_dom_classes": [],
       "_model_module": "@jupyter-widgets/controls",
       "_model_module_version": "1.5.0",
       "_model_name": "FloatProgressModel",
       "_view_count": null,
       "_view_module": "@jupyter-widgets/controls",
       "_view_module_version": "1.5.0",
       "_view_name": "ProgressView",
       "bar_style": "success",
       "description": "",
       "description_tooltip": null,
       "layout": "IPY_MODEL_397f6c229656443cbba11e0498aaaf2b",
       "max": 10000.0,
       "min": 0.0,
       "orientation": "horizontal",
       "style": "IPY_MODEL_b42d492e907d4ae9b730b7e85784eacb",
       "value": 499.0
      }
     },
     "7a82cc6ccd7a4037aa7419f2e326e37f": {
      "model_module": "@jupyter-widgets/controls",
      "model_module_version": "1.5.0",
      "model_name": "HBoxModel",
      "state": {
       "_dom_classes": [],
       "_model_module": "@jupyter-widgets/controls",
       "_model_module_version": "1.5.0",
       "_model_name": "HBoxModel",
       "_view_count": null,
       "_view_module": "@jupyter-widgets/controls",
       "_view_module_version": "1.5.0",
       "_view_name": "HBoxView",
       "box_style": "",
       "children": [
        "IPY_MODEL_56aad223dd0148be8917ec8858d8cf5a",
        "IPY_MODEL_62c6a05de6b8400cb5a001a3072c77e7",
        "IPY_MODEL_483aee6226d84a52a490c0d4daa99d10"
       ],
       "layout": "IPY_MODEL_fba70c7875fa4ba88eef6cc3eaa26c1f"
      }
     },
     "7bf10953cb55436d9a559c60c0021388": {
      "model_module": "@jupyter-widgets/controls",
      "model_module_version": "1.5.0",
      "model_name": "HBoxModel",
      "state": {
       "_dom_classes": [],
       "_model_module": "@jupyter-widgets/controls",
       "_model_module_version": "1.5.0",
       "_model_name": "HBoxModel",
       "_view_count": null,
       "_view_module": "@jupyter-widgets/controls",
       "_view_module_version": "1.5.0",
       "_view_name": "HBoxView",
       "box_style": "",
       "children": [
        "IPY_MODEL_aa275418f00848f28508b15637c1fbeb",
        "IPY_MODEL_b7a8520683104b41be83ee40c279b4d3",
        "IPY_MODEL_a1c00730158e437eb0f3372f909082e1"
       ],
       "layout": "IPY_MODEL_b74d2eae41d34e8db4b62dc10e8edd17"
      }
     },
     "7fe36aa52a304540a4ddd777736d3409": {
      "model_module": "@jupyter-widgets/controls",
      "model_module_version": "1.5.0",
      "model_name": "HTMLModel",
      "state": {
       "_dom_classes": [],
       "_model_module": "@jupyter-widgets/controls",
       "_model_module_version": "1.5.0",
       "_model_name": "HTMLModel",
       "_view_count": null,
       "_view_module": "@jupyter-widgets/controls",
       "_view_module_version": "1.5.0",
       "_view_name": "HTMLView",
       "description": "",
       "description_tooltip": null,
       "layout": "IPY_MODEL_023699931f5c4faba8e6237a36aa2cc4",
       "placeholder": "​",
       "style": "IPY_MODEL_acc72adb59184926a33187cff13e556f",
       "value": "100%"
      }
     },
     "87a161cba17547c083dc7457e19cfb6a": {
      "model_module": "@jupyter-widgets/base",
      "model_module_version": "1.2.0",
      "model_name": "LayoutModel",
      "state": {
       "_model_module": "@jupyter-widgets/base",
       "_model_module_version": "1.2.0",
       "_model_name": "LayoutModel",
       "_view_count": null,
       "_view_module": "@jupyter-widgets/base",
       "_view_module_version": "1.2.0",
       "_view_name": "LayoutView",
       "align_content": null,
       "align_items": null,
       "align_self": null,
       "border": null,
       "bottom": null,
       "display": null,
       "flex": null,
       "flex_flow": null,
       "grid_area": null,
       "grid_auto_columns": null,
       "grid_auto_flow": null,
       "grid_auto_rows": null,
       "grid_column": null,
       "grid_gap": null,
       "grid_row": null,
       "grid_template_areas": null,
       "grid_template_columns": null,
       "grid_template_rows": null,
       "height": null,
       "justify_content": null,
       "justify_items": null,
       "left": null,
       "margin": null,
       "max_height": null,
       "max_width": null,
       "min_height": null,
       "min_width": null,
       "object_fit": null,
       "object_position": null,
       "order": null,
       "overflow": null,
       "overflow_x": null,
       "overflow_y": null,
       "padding": null,
       "right": null,
       "top": null,
       "visibility": null,
       "width": null
      }
     },
     "883206b2eab7434d80a0415f21cac7bd": {
      "model_module": "@jupyter-widgets/controls",
      "model_module_version": "1.5.0",
      "model_name": "DescriptionStyleModel",
      "state": {
       "_model_module": "@jupyter-widgets/controls",
       "_model_module_version": "1.5.0",
       "_model_name": "DescriptionStyleModel",
       "_view_count": null,
       "_view_module": "@jupyter-widgets/base",
       "_view_module_version": "1.2.0",
       "_view_name": "StyleView",
       "description_width": ""
      }
     },
     "8848a9de70534fab859ffa73a9457523": {
      "model_module": "@jupyter-widgets/base",
      "model_module_version": "1.2.0",
      "model_name": "LayoutModel",
      "state": {
       "_model_module": "@jupyter-widgets/base",
       "_model_module_version": "1.2.0",
       "_model_name": "LayoutModel",
       "_view_count": null,
       "_view_module": "@jupyter-widgets/base",
       "_view_module_version": "1.2.0",
       "_view_name": "LayoutView",
       "align_content": null,
       "align_items": null,
       "align_self": null,
       "border": null,
       "bottom": null,
       "display": null,
       "flex": null,
       "flex_flow": null,
       "grid_area": null,
       "grid_auto_columns": null,
       "grid_auto_flow": null,
       "grid_auto_rows": null,
       "grid_column": null,
       "grid_gap": null,
       "grid_row": null,
       "grid_template_areas": null,
       "grid_template_columns": null,
       "grid_template_rows": null,
       "height": null,
       "justify_content": null,
       "justify_items": null,
       "left": null,
       "margin": null,
       "max_height": null,
       "max_width": null,
       "min_height": null,
       "min_width": null,
       "object_fit": null,
       "object_position": null,
       "order": null,
       "overflow": null,
       "overflow_x": null,
       "overflow_y": null,
       "padding": null,
       "right": null,
       "top": null,
       "visibility": null,
       "width": null
      }
     },
     "88a90906c9154658aa5a7ea4834e8a91": {
      "model_module": "@jupyter-widgets/controls",
      "model_module_version": "1.5.0",
      "model_name": "ProgressStyleModel",
      "state": {
       "_model_module": "@jupyter-widgets/controls",
       "_model_module_version": "1.5.0",
       "_model_name": "ProgressStyleModel",
       "_view_count": null,
       "_view_module": "@jupyter-widgets/base",
       "_view_module_version": "1.2.0",
       "_view_name": "StyleView",
       "bar_color": null,
       "description_width": ""
      }
     },
     "8acb7c6c0f2f4c2f9562b34747e10f5a": {
      "model_module": "@jupyter-widgets/controls",
      "model_module_version": "1.5.0",
      "model_name": "DescriptionStyleModel",
      "state": {
       "_model_module": "@jupyter-widgets/controls",
       "_model_module_version": "1.5.0",
       "_model_name": "DescriptionStyleModel",
       "_view_count": null,
       "_view_module": "@jupyter-widgets/base",
       "_view_module_version": "1.2.0",
       "_view_name": "StyleView",
       "description_width": ""
      }
     },
     "8b3ea933291c49f0ad5e04e9cf62b459": {
      "model_module": "@jupyter-widgets/controls",
      "model_module_version": "1.5.0",
      "model_name": "ProgressStyleModel",
      "state": {
       "_model_module": "@jupyter-widgets/controls",
       "_model_module_version": "1.5.0",
       "_model_name": "ProgressStyleModel",
       "_view_count": null,
       "_view_module": "@jupyter-widgets/base",
       "_view_module_version": "1.2.0",
       "_view_name": "StyleView",
       "bar_color": null,
       "description_width": ""
      }
     },
     "8bd06c8fd7654d8e9910b9e45ace7aa4": {
      "model_module": "@jupyter-widgets/controls",
      "model_module_version": "1.5.0",
      "model_name": "DescriptionStyleModel",
      "state": {
       "_model_module": "@jupyter-widgets/controls",
       "_model_module_version": "1.5.0",
       "_model_name": "DescriptionStyleModel",
       "_view_count": null,
       "_view_module": "@jupyter-widgets/base",
       "_view_module_version": "1.2.0",
       "_view_name": "StyleView",
       "description_width": ""
      }
     },
     "8f9ee72b917745208f6c18fc144fce98": {
      "model_module": "@jupyter-widgets/base",
      "model_module_version": "1.2.0",
      "model_name": "LayoutModel",
      "state": {
       "_model_module": "@jupyter-widgets/base",
       "_model_module_version": "1.2.0",
       "_model_name": "LayoutModel",
       "_view_count": null,
       "_view_module": "@jupyter-widgets/base",
       "_view_module_version": "1.2.0",
       "_view_name": "LayoutView",
       "align_content": null,
       "align_items": null,
       "align_self": null,
       "border": null,
       "bottom": null,
       "display": null,
       "flex": null,
       "flex_flow": null,
       "grid_area": null,
       "grid_auto_columns": null,
       "grid_auto_flow": null,
       "grid_auto_rows": null,
       "grid_column": null,
       "grid_gap": null,
       "grid_row": null,
       "grid_template_areas": null,
       "grid_template_columns": null,
       "grid_template_rows": null,
       "height": null,
       "justify_content": null,
       "justify_items": null,
       "left": null,
       "margin": null,
       "max_height": null,
       "max_width": null,
       "min_height": null,
       "min_width": null,
       "object_fit": null,
       "object_position": null,
       "order": null,
       "overflow": null,
       "overflow_x": null,
       "overflow_y": null,
       "padding": null,
       "right": null,
       "top": null,
       "visibility": null,
       "width": null
      }
     },
     "969cc2a29f664c21ae35a9733d5a74b3": {
      "model_module": "@jupyter-widgets/base",
      "model_module_version": "1.2.0",
      "model_name": "LayoutModel",
      "state": {
       "_model_module": "@jupyter-widgets/base",
       "_model_module_version": "1.2.0",
       "_model_name": "LayoutModel",
       "_view_count": null,
       "_view_module": "@jupyter-widgets/base",
       "_view_module_version": "1.2.0",
       "_view_name": "LayoutView",
       "align_content": null,
       "align_items": null,
       "align_self": null,
       "border": null,
       "bottom": null,
       "display": null,
       "flex": null,
       "flex_flow": null,
       "grid_area": null,
       "grid_auto_columns": null,
       "grid_auto_flow": null,
       "grid_auto_rows": null,
       "grid_column": null,
       "grid_gap": null,
       "grid_row": null,
       "grid_template_areas": null,
       "grid_template_columns": null,
       "grid_template_rows": null,
       "height": null,
       "justify_content": null,
       "justify_items": null,
       "left": null,
       "margin": null,
       "max_height": null,
       "max_width": null,
       "min_height": null,
       "min_width": null,
       "object_fit": null,
       "object_position": null,
       "order": null,
       "overflow": null,
       "overflow_x": null,
       "overflow_y": null,
       "padding": null,
       "right": null,
       "top": null,
       "visibility": null,
       "width": null
      }
     },
     "97aa999034e0483686d6f17fe9ce6e7d": {
      "model_module": "@jupyter-widgets/base",
      "model_module_version": "1.2.0",
      "model_name": "LayoutModel",
      "state": {
       "_model_module": "@jupyter-widgets/base",
       "_model_module_version": "1.2.0",
       "_model_name": "LayoutModel",
       "_view_count": null,
       "_view_module": "@jupyter-widgets/base",
       "_view_module_version": "1.2.0",
       "_view_name": "LayoutView",
       "align_content": null,
       "align_items": null,
       "align_self": null,
       "border": null,
       "bottom": null,
       "display": null,
       "flex": null,
       "flex_flow": null,
       "grid_area": null,
       "grid_auto_columns": null,
       "grid_auto_flow": null,
       "grid_auto_rows": null,
       "grid_column": null,
       "grid_gap": null,
       "grid_row": null,
       "grid_template_areas": null,
       "grid_template_columns": null,
       "grid_template_rows": null,
       "height": null,
       "justify_content": null,
       "justify_items": null,
       "left": null,
       "margin": null,
       "max_height": null,
       "max_width": null,
       "min_height": null,
       "min_width": null,
       "object_fit": null,
       "object_position": null,
       "order": null,
       "overflow": null,
       "overflow_x": null,
       "overflow_y": null,
       "padding": null,
       "right": null,
       "top": null,
       "visibility": null,
       "width": null
      }
     },
     "9bb24179e79740b99175e1424a1f2af0": {
      "model_module": "@jupyter-widgets/base",
      "model_module_version": "1.2.0",
      "model_name": "LayoutModel",
      "state": {
       "_model_module": "@jupyter-widgets/base",
       "_model_module_version": "1.2.0",
       "_model_name": "LayoutModel",
       "_view_count": null,
       "_view_module": "@jupyter-widgets/base",
       "_view_module_version": "1.2.0",
       "_view_name": "LayoutView",
       "align_content": null,
       "align_items": null,
       "align_self": null,
       "border": null,
       "bottom": null,
       "display": null,
       "flex": null,
       "flex_flow": null,
       "grid_area": null,
       "grid_auto_columns": null,
       "grid_auto_flow": null,
       "grid_auto_rows": null,
       "grid_column": null,
       "grid_gap": null,
       "grid_row": null,
       "grid_template_areas": null,
       "grid_template_columns": null,
       "grid_template_rows": null,
       "height": null,
       "justify_content": null,
       "justify_items": null,
       "left": null,
       "margin": null,
       "max_height": null,
       "max_width": null,
       "min_height": null,
       "min_width": null,
       "object_fit": null,
       "object_position": null,
       "order": null,
       "overflow": null,
       "overflow_x": null,
       "overflow_y": null,
       "padding": null,
       "right": null,
       "top": null,
       "visibility": null,
       "width": null
      }
     },
     "9be5d92e720947b9a8257a8c2c244492": {
      "model_module": "@jupyter-widgets/base",
      "model_module_version": "1.2.0",
      "model_name": "LayoutModel",
      "state": {
       "_model_module": "@jupyter-widgets/base",
       "_model_module_version": "1.2.0",
       "_model_name": "LayoutModel",
       "_view_count": null,
       "_view_module": "@jupyter-widgets/base",
       "_view_module_version": "1.2.0",
       "_view_name": "LayoutView",
       "align_content": null,
       "align_items": null,
       "align_self": null,
       "border": null,
       "bottom": null,
       "display": null,
       "flex": null,
       "flex_flow": null,
       "grid_area": null,
       "grid_auto_columns": null,
       "grid_auto_flow": null,
       "grid_auto_rows": null,
       "grid_column": null,
       "grid_gap": null,
       "grid_row": null,
       "grid_template_areas": null,
       "grid_template_columns": null,
       "grid_template_rows": null,
       "height": null,
       "justify_content": null,
       "justify_items": null,
       "left": null,
       "margin": null,
       "max_height": null,
       "max_width": null,
       "min_height": null,
       "min_width": null,
       "object_fit": null,
       "object_position": null,
       "order": null,
       "overflow": null,
       "overflow_x": null,
       "overflow_y": null,
       "padding": null,
       "right": null,
       "top": null,
       "visibility": null,
       "width": null
      }
     },
     "9d8e495b191945e78e07890d15f036d7": {
      "model_module": "@jupyter-widgets/controls",
      "model_module_version": "1.5.0",
      "model_name": "HTMLModel",
      "state": {
       "_dom_classes": [],
       "_model_module": "@jupyter-widgets/controls",
       "_model_module_version": "1.5.0",
       "_model_name": "HTMLModel",
       "_view_count": null,
       "_view_module": "@jupyter-widgets/controls",
       "_view_module_version": "1.5.0",
       "_view_name": "HTMLView",
       "description": "",
       "description_tooltip": null,
       "layout": "IPY_MODEL_f6e745ffa7364d57b189713b737e039d",
       "placeholder": "​",
       "style": "IPY_MODEL_c8c02a0dbd7149fe949ff0726911acc7",
       "value": " 653/653 [00:04&lt;00:00, 162.82it/s]"
      }
     },
     "9f48a943af03421ab6b25f8c93129628": {
      "model_module": "@jupyter-widgets/controls",
      "model_module_version": "1.5.0",
      "model_name": "DescriptionStyleModel",
      "state": {
       "_model_module": "@jupyter-widgets/controls",
       "_model_module_version": "1.5.0",
       "_model_name": "DescriptionStyleModel",
       "_view_count": null,
       "_view_module": "@jupyter-widgets/base",
       "_view_module_version": "1.2.0",
       "_view_name": "StyleView",
       "description_width": ""
      }
     },
     "a172d328fcec463fa98eda7e6dbd708f": {
      "model_module": "@jupyter-widgets/base",
      "model_module_version": "1.2.0",
      "model_name": "LayoutModel",
      "state": {
       "_model_module": "@jupyter-widgets/base",
       "_model_module_version": "1.2.0",
       "_model_name": "LayoutModel",
       "_view_count": null,
       "_view_module": "@jupyter-widgets/base",
       "_view_module_version": "1.2.0",
       "_view_name": "LayoutView",
       "align_content": null,
       "align_items": null,
       "align_self": null,
       "border": null,
       "bottom": null,
       "display": null,
       "flex": null,
       "flex_flow": null,
       "grid_area": null,
       "grid_auto_columns": null,
       "grid_auto_flow": null,
       "grid_auto_rows": null,
       "grid_column": null,
       "grid_gap": null,
       "grid_row": null,
       "grid_template_areas": null,
       "grid_template_columns": null,
       "grid_template_rows": null,
       "height": null,
       "justify_content": null,
       "justify_items": null,
       "left": null,
       "margin": null,
       "max_height": null,
       "max_width": null,
       "min_height": null,
       "min_width": null,
       "object_fit": null,
       "object_position": null,
       "order": null,
       "overflow": null,
       "overflow_x": null,
       "overflow_y": null,
       "padding": null,
       "right": null,
       "top": null,
       "visibility": null,
       "width": null
      }
     },
     "a1c00730158e437eb0f3372f909082e1": {
      "model_module": "@jupyter-widgets/controls",
      "model_module_version": "1.5.0",
      "model_name": "HTMLModel",
      "state": {
       "_dom_classes": [],
       "_model_module": "@jupyter-widgets/controls",
       "_model_module_version": "1.5.0",
       "_model_name": "HTMLModel",
       "_view_count": null,
       "_view_module": "@jupyter-widgets/controls",
       "_view_module_version": "1.5.0",
       "_view_name": "HTMLView",
       "description": "",
       "description_tooltip": null,
       "layout": "IPY_MODEL_bdc1b68c26034ce2b244af063861578d",
       "placeholder": "​",
       "style": "IPY_MODEL_72217b96a0b14ccc94210efef6645b51",
       "value": " 5/5 [00:00&lt;00:00, 362.57it/s]"
      }
     },
     "a2307b3f0af245609469f9a6018ec9d5": {
      "model_module": "@jupyter-widgets/controls",
      "model_module_version": "1.5.0",
      "model_name": "DescriptionStyleModel",
      "state": {
       "_model_module": "@jupyter-widgets/controls",
       "_model_module_version": "1.5.0",
       "_model_name": "DescriptionStyleModel",
       "_view_count": null,
       "_view_module": "@jupyter-widgets/base",
       "_view_module_version": "1.2.0",
       "_view_name": "StyleView",
       "description_width": ""
      }
     },
     "a292ebc8753542108e603d2631e39921": {
      "model_module": "@jupyter-widgets/controls",
      "model_module_version": "1.5.0",
      "model_name": "HBoxModel",
      "state": {
       "_dom_classes": [],
       "_model_module": "@jupyter-widgets/controls",
       "_model_module_version": "1.5.0",
       "_model_name": "HBoxModel",
       "_view_count": null,
       "_view_module": "@jupyter-widgets/controls",
       "_view_module_version": "1.5.0",
       "_view_name": "HBoxView",
       "box_style": "",
       "children": [
        "IPY_MODEL_0b581914bfb146a180531f6ca2cef88d",
        "IPY_MODEL_5f002520edad4d31a6a6dd2c21a7d83e",
        "IPY_MODEL_33c31f5a70c449e8b6a602b91b15ee7c"
       ],
       "layout": "IPY_MODEL_a172d328fcec463fa98eda7e6dbd708f"
      }
     },
     "a56577c304f7497a89ac7fc01b055a8d": {
      "model_module": "@jupyter-widgets/base",
      "model_module_version": "1.2.0",
      "model_name": "LayoutModel",
      "state": {
       "_model_module": "@jupyter-widgets/base",
       "_model_module_version": "1.2.0",
       "_model_name": "LayoutModel",
       "_view_count": null,
       "_view_module": "@jupyter-widgets/base",
       "_view_module_version": "1.2.0",
       "_view_name": "LayoutView",
       "align_content": null,
       "align_items": null,
       "align_self": null,
       "border": null,
       "bottom": null,
       "display": null,
       "flex": "2",
       "flex_flow": null,
       "grid_area": null,
       "grid_auto_columns": null,
       "grid_auto_flow": null,
       "grid_auto_rows": null,
       "grid_column": null,
       "grid_gap": null,
       "grid_row": null,
       "grid_template_areas": null,
       "grid_template_columns": null,
       "grid_template_rows": null,
       "height": null,
       "justify_content": null,
       "justify_items": null,
       "left": null,
       "margin": null,
       "max_height": null,
       "max_width": null,
       "min_height": null,
       "min_width": null,
       "object_fit": null,
       "object_position": null,
       "order": null,
       "overflow": null,
       "overflow_x": null,
       "overflow_y": null,
       "padding": null,
       "right": null,
       "top": null,
       "visibility": null,
       "width": null
      }
     },
     "a57857f96adf4728b1adb474b8f13599": {
      "model_module": "@jupyter-widgets/controls",
      "model_module_version": "1.5.0",
      "model_name": "DescriptionStyleModel",
      "state": {
       "_model_module": "@jupyter-widgets/controls",
       "_model_module_version": "1.5.0",
       "_model_name": "DescriptionStyleModel",
       "_view_count": null,
       "_view_module": "@jupyter-widgets/base",
       "_view_module_version": "1.2.0",
       "_view_name": "StyleView",
       "description_width": ""
      }
     },
     "a6afc83508264e569d1ccf2956d1365f": {
      "model_module": "@jupyter-widgets/controls",
      "model_module_version": "1.5.0",
      "model_name": "FloatProgressModel",
      "state": {
       "_dom_classes": [],
       "_model_module": "@jupyter-widgets/controls",
       "_model_module_version": "1.5.0",
       "_model_name": "FloatProgressModel",
       "_view_count": null,
       "_view_module": "@jupyter-widgets/controls",
       "_view_module_version": "1.5.0",
       "_view_name": "ProgressView",
       "bar_style": "success",
       "description": "",
       "description_tooltip": null,
       "layout": "IPY_MODEL_1e90c926eb9c40029a59ce1d65d2736b",
       "max": 5.0,
       "min": 0.0,
       "orientation": "horizontal",
       "style": "IPY_MODEL_f30c3b4d25894292a2f60da8d58af3da",
       "value": 5.0
      }
     },
     "a9915599f905420e9839306c7c467527": {
      "model_module": "@jupyter-widgets/controls",
      "model_module_version": "1.5.0",
      "model_name": "DescriptionStyleModel",
      "state": {
       "_model_module": "@jupyter-widgets/controls",
       "_model_module_version": "1.5.0",
       "_model_name": "DescriptionStyleModel",
       "_view_count": null,
       "_view_module": "@jupyter-widgets/base",
       "_view_module_version": "1.2.0",
       "_view_name": "StyleView",
       "description_width": ""
      }
     },
     "aa275418f00848f28508b15637c1fbeb": {
      "model_module": "@jupyter-widgets/controls",
      "model_module_version": "1.5.0",
      "model_name": "HTMLModel",
      "state": {
       "_dom_classes": [],
       "_model_module": "@jupyter-widgets/controls",
       "_model_module_version": "1.5.0",
       "_model_name": "HTMLModel",
       "_view_count": null,
       "_view_module": "@jupyter-widgets/controls",
       "_view_module_version": "1.5.0",
       "_view_name": "HTMLView",
       "description": "",
       "description_tooltip": null,
       "layout": "IPY_MODEL_511346a332634a219dd8448581aef141",
       "placeholder": "​",
       "style": "IPY_MODEL_d834c46c97ec4164945da9632239dce1",
       "value": "100%"
      }
     },
     "aad031e31fca4599840ee1dacec4c0ee": {
      "model_module": "@jupyter-widgets/controls",
      "model_module_version": "1.5.0",
      "model_name": "HBoxModel",
      "state": {
       "_dom_classes": [],
       "_model_module": "@jupyter-widgets/controls",
       "_model_module_version": "1.5.0",
       "_model_name": "HBoxModel",
       "_view_count": null,
       "_view_module": "@jupyter-widgets/controls",
       "_view_module_version": "1.5.0",
       "_view_name": "HBoxView",
       "box_style": "",
       "children": [
        "IPY_MODEL_db68e717b6a74fd09be5b2c628198fb0",
        "IPY_MODEL_3c32b5806bb047bca04e080f65782a4d",
        "IPY_MODEL_43636b00292b49848c5cda54e2739778"
       ],
       "layout": "IPY_MODEL_4bb3343916d84755af0259e42aed6463"
      }
     },
     "abe9b79671874e919b18f05a95a728e2": {
      "model_module": "@jupyter-widgets/base",
      "model_module_version": "1.2.0",
      "model_name": "LayoutModel",
      "state": {
       "_model_module": "@jupyter-widgets/base",
       "_model_module_version": "1.2.0",
       "_model_name": "LayoutModel",
       "_view_count": null,
       "_view_module": "@jupyter-widgets/base",
       "_view_module_version": "1.2.0",
       "_view_name": "LayoutView",
       "align_content": null,
       "align_items": null,
       "align_self": null,
       "border": null,
       "bottom": null,
       "display": null,
       "flex": null,
       "flex_flow": null,
       "grid_area": null,
       "grid_auto_columns": null,
       "grid_auto_flow": null,
       "grid_auto_rows": null,
       "grid_column": null,
       "grid_gap": null,
       "grid_row": null,
       "grid_template_areas": null,
       "grid_template_columns": null,
       "grid_template_rows": null,
       "height": null,
       "justify_content": null,
       "justify_items": null,
       "left": null,
       "margin": null,
       "max_height": null,
       "max_width": null,
       "min_height": null,
       "min_width": null,
       "object_fit": null,
       "object_position": null,
       "order": null,
       "overflow": null,
       "overflow_x": null,
       "overflow_y": null,
       "padding": null,
       "right": null,
       "top": null,
       "visibility": null,
       "width": null
      }
     },
     "acb306eeab7a4286aa08d7f00869eacb": {
      "model_module": "@jupyter-widgets/base",
      "model_module_version": "1.2.0",
      "model_name": "LayoutModel",
      "state": {
       "_model_module": "@jupyter-widgets/base",
       "_model_module_version": "1.2.0",
       "_model_name": "LayoutModel",
       "_view_count": null,
       "_view_module": "@jupyter-widgets/base",
       "_view_module_version": "1.2.0",
       "_view_name": "LayoutView",
       "align_content": null,
       "align_items": null,
       "align_self": null,
       "border": null,
       "bottom": null,
       "display": null,
       "flex": null,
       "flex_flow": null,
       "grid_area": null,
       "grid_auto_columns": null,
       "grid_auto_flow": null,
       "grid_auto_rows": null,
       "grid_column": null,
       "grid_gap": null,
       "grid_row": null,
       "grid_template_areas": null,
       "grid_template_columns": null,
       "grid_template_rows": null,
       "height": null,
       "justify_content": null,
       "justify_items": null,
       "left": null,
       "margin": null,
       "max_height": null,
       "max_width": null,
       "min_height": null,
       "min_width": null,
       "object_fit": null,
       "object_position": null,
       "order": null,
       "overflow": null,
       "overflow_x": null,
       "overflow_y": null,
       "padding": null,
       "right": null,
       "top": null,
       "visibility": null,
       "width": null
      }
     },
     "acc72adb59184926a33187cff13e556f": {
      "model_module": "@jupyter-widgets/controls",
      "model_module_version": "1.5.0",
      "model_name": "DescriptionStyleModel",
      "state": {
       "_model_module": "@jupyter-widgets/controls",
       "_model_module_version": "1.5.0",
       "_model_name": "DescriptionStyleModel",
       "_view_count": null,
       "_view_module": "@jupyter-widgets/base",
       "_view_module_version": "1.2.0",
       "_view_name": "StyleView",
       "description_width": ""
      }
     },
     "ad581999505b4c38880c2ba46f698a84": {
      "model_module": "@jupyter-widgets/base",
      "model_module_version": "1.2.0",
      "model_name": "LayoutModel",
      "state": {
       "_model_module": "@jupyter-widgets/base",
       "_model_module_version": "1.2.0",
       "_model_name": "LayoutModel",
       "_view_count": null,
       "_view_module": "@jupyter-widgets/base",
       "_view_module_version": "1.2.0",
       "_view_name": "LayoutView",
       "align_content": null,
       "align_items": null,
       "align_self": null,
       "border": null,
       "bottom": null,
       "display": "inline-flex",
       "flex": null,
       "flex_flow": "row wrap",
       "grid_area": null,
       "grid_auto_columns": null,
       "grid_auto_flow": null,
       "grid_auto_rows": null,
       "grid_column": null,
       "grid_gap": null,
       "grid_row": null,
       "grid_template_areas": null,
       "grid_template_columns": null,
       "grid_template_rows": null,
       "height": null,
       "justify_content": null,
       "justify_items": null,
       "left": null,
       "margin": null,
       "max_height": null,
       "max_width": null,
       "min_height": null,
       "min_width": null,
       "object_fit": null,
       "object_position": null,
       "order": null,
       "overflow": null,
       "overflow_x": null,
       "overflow_y": null,
       "padding": null,
       "right": null,
       "top": null,
       "visibility": null,
       "width": "1000px"
      }
     },
     "b0c04f04b7d144bda5e5a2c96e64d4d3": {
      "model_module": "@jupyter-widgets/controls",
      "model_module_version": "1.5.0",
      "model_name": "HTMLModel",
      "state": {
       "_dom_classes": [],
       "_model_module": "@jupyter-widgets/controls",
       "_model_module_version": "1.5.0",
       "_model_name": "HTMLModel",
       "_view_count": null,
       "_view_module": "@jupyter-widgets/controls",
       "_view_module_version": "1.5.0",
       "_view_name": "HTMLView",
       "description": "",
       "description_tooltip": null,
       "layout": "IPY_MODEL_2fe0a854416a40b2bad3395ffc305e75",
       "placeholder": "​",
       "style": "IPY_MODEL_d9067a1922c64d46b926258d93890b0d",
       "value": " 5/5 [00:00&lt;00:00, 365.20it/s]"
      }
     },
     "b183a26229e0481a8ee77190bd5c3a2f": {
      "model_module": "@jupyter-widgets/controls",
      "model_module_version": "1.5.0",
      "model_name": "DescriptionStyleModel",
      "state": {
       "_model_module": "@jupyter-widgets/controls",
       "_model_module_version": "1.5.0",
       "_model_name": "DescriptionStyleModel",
       "_view_count": null,
       "_view_module": "@jupyter-widgets/base",
       "_view_module_version": "1.2.0",
       "_view_name": "StyleView",
       "description_width": ""
      }
     },
     "b1c2d62285554fbbba8bb29be892fb23": {
      "model_module": "@jupyter-widgets/controls",
      "model_module_version": "1.5.0",
      "model_name": "HTMLModel",
      "state": {
       "_dom_classes": [],
       "_model_module": "@jupyter-widgets/controls",
       "_model_module_version": "1.5.0",
       "_model_name": "HTMLModel",
       "_view_count": null,
       "_view_module": "@jupyter-widgets/controls",
       "_view_module_version": "1.5.0",
       "_view_name": "HTMLView",
       "description": "",
       "description_tooltip": null,
       "layout": "IPY_MODEL_3e45e8cdfe6a4d5e9127950481bdd36b",
       "placeholder": "​",
       "style": "IPY_MODEL_67450ef736854707877bcc04f8fd216c",
       "value": " 10/10 [00:00&lt;00:00, 121.11it/s]"
      }
     },
     "b29bdf07cd5846e08d0aaec4f78ba6e8": {
      "model_module": "@jupyter-widgets/controls",
      "model_module_version": "1.5.0",
      "model_name": "DescriptionStyleModel",
      "state": {
       "_model_module": "@jupyter-widgets/controls",
       "_model_module_version": "1.5.0",
       "_model_name": "DescriptionStyleModel",
       "_view_count": null,
       "_view_module": "@jupyter-widgets/base",
       "_view_module_version": "1.2.0",
       "_view_name": "StyleView",
       "description_width": ""
      }
     },
     "b42d492e907d4ae9b730b7e85784eacb": {
      "model_module": "@jupyter-widgets/controls",
      "model_module_version": "1.5.0",
      "model_name": "ProgressStyleModel",
      "state": {
       "_model_module": "@jupyter-widgets/controls",
       "_model_module_version": "1.5.0",
       "_model_name": "ProgressStyleModel",
       "_view_count": null,
       "_view_module": "@jupyter-widgets/base",
       "_view_module_version": "1.2.0",
       "_view_name": "StyleView",
       "bar_color": null,
       "description_width": ""
      }
     },
     "b744fd2138504273bfc862470656a602": {
      "model_module": "@jupyter-widgets/controls",
      "model_module_version": "1.5.0",
      "model_name": "FloatProgressModel",
      "state": {
       "_dom_classes": [],
       "_model_module": "@jupyter-widgets/controls",
       "_model_module_version": "1.5.0",
       "_model_name": "FloatProgressModel",
       "_view_count": null,
       "_view_module": "@jupyter-widgets/controls",
       "_view_module_version": "1.5.0",
       "_view_name": "ProgressView",
       "bar_style": "success",
       "description": "",
       "description_tooltip": null,
       "layout": "IPY_MODEL_efa0489449d947de849541ed1ff620dc",
       "max": 5.0,
       "min": 0.0,
       "orientation": "horizontal",
       "style": "IPY_MODEL_d17dd790c01849f0b91a6af520145b88",
       "value": 5.0
      }
     },
     "b74d2eae41d34e8db4b62dc10e8edd17": {
      "model_module": "@jupyter-widgets/base",
      "model_module_version": "1.2.0",
      "model_name": "LayoutModel",
      "state": {
       "_model_module": "@jupyter-widgets/base",
       "_model_module_version": "1.2.0",
       "_model_name": "LayoutModel",
       "_view_count": null,
       "_view_module": "@jupyter-widgets/base",
       "_view_module_version": "1.2.0",
       "_view_name": "LayoutView",
       "align_content": null,
       "align_items": null,
       "align_self": null,
       "border": null,
       "bottom": null,
       "display": null,
       "flex": null,
       "flex_flow": null,
       "grid_area": null,
       "grid_auto_columns": null,
       "grid_auto_flow": null,
       "grid_auto_rows": null,
       "grid_column": null,
       "grid_gap": null,
       "grid_row": null,
       "grid_template_areas": null,
       "grid_template_columns": null,
       "grid_template_rows": null,
       "height": null,
       "justify_content": null,
       "justify_items": null,
       "left": null,
       "margin": null,
       "max_height": null,
       "max_width": null,
       "min_height": null,
       "min_width": null,
       "object_fit": null,
       "object_position": null,
       "order": null,
       "overflow": null,
       "overflow_x": null,
       "overflow_y": null,
       "padding": null,
       "right": null,
       "top": null,
       "visibility": null,
       "width": null
      }
     },
     "b7a8520683104b41be83ee40c279b4d3": {
      "model_module": "@jupyter-widgets/controls",
      "model_module_version": "1.5.0",
      "model_name": "FloatProgressModel",
      "state": {
       "_dom_classes": [],
       "_model_module": "@jupyter-widgets/controls",
       "_model_module_version": "1.5.0",
       "_model_name": "FloatProgressModel",
       "_view_count": null,
       "_view_module": "@jupyter-widgets/controls",
       "_view_module_version": "1.5.0",
       "_view_name": "ProgressView",
       "bar_style": "success",
       "description": "",
       "description_tooltip": null,
       "layout": "IPY_MODEL_0ac68fdf085940f9b28b9f4d8c70b551",
       "max": 5.0,
       "min": 0.0,
       "orientation": "horizontal",
       "style": "IPY_MODEL_fe7128fe28f644e78cb82e8421c65295",
       "value": 5.0
      }
     },
     "b800f5dfbffd414f85b88ba2bc72c192": {
      "model_module": "@jupyter-widgets/controls",
      "model_module_version": "1.5.0",
      "model_name": "HTMLModel",
      "state": {
       "_dom_classes": [],
       "_model_module": "@jupyter-widgets/controls",
       "_model_module_version": "1.5.0",
       "_model_name": "HTMLModel",
       "_view_count": null,
       "_view_module": "@jupyter-widgets/controls",
       "_view_module_version": "1.5.0",
       "_view_name": "HTMLView",
       "description": "",
       "description_tooltip": null,
       "layout": "IPY_MODEL_4b7933c0ef2a4696b5982726c7a2fab6",
       "placeholder": "​",
       "style": "IPY_MODEL_a2307b3f0af245609469f9a6018ec9d5",
       "value": " 499/499 [00:04&lt;00:00, 124.81it/s]"
      }
     },
     "b9d47b598ee046abbf9af8cca0da6e3a": {
      "model_module": "@jupyter-widgets/controls",
      "model_module_version": "1.5.0",
      "model_name": "DescriptionStyleModel",
      "state": {
       "_model_module": "@jupyter-widgets/controls",
       "_model_module_version": "1.5.0",
       "_model_name": "DescriptionStyleModel",
       "_view_count": null,
       "_view_module": "@jupyter-widgets/base",
       "_view_module_version": "1.2.0",
       "_view_name": "StyleView",
       "description_width": ""
      }
     },
     "bd48cb1b07e04fe6a4aab29326c68acf": {
      "model_module": "@jupyter-widgets/base",
      "model_module_version": "1.2.0",
      "model_name": "LayoutModel",
      "state": {
       "_model_module": "@jupyter-widgets/base",
       "_model_module_version": "1.2.0",
       "_model_name": "LayoutModel",
       "_view_count": null,
       "_view_module": "@jupyter-widgets/base",
       "_view_module_version": "1.2.0",
       "_view_name": "LayoutView",
       "align_content": null,
       "align_items": null,
       "align_self": null,
       "border": null,
       "bottom": null,
       "display": null,
       "flex": null,
       "flex_flow": null,
       "grid_area": null,
       "grid_auto_columns": null,
       "grid_auto_flow": null,
       "grid_auto_rows": null,
       "grid_column": null,
       "grid_gap": null,
       "grid_row": null,
       "grid_template_areas": null,
       "grid_template_columns": null,
       "grid_template_rows": null,
       "height": null,
       "justify_content": null,
       "justify_items": null,
       "left": null,
       "margin": null,
       "max_height": null,
       "max_width": null,
       "min_height": null,
       "min_width": null,
       "object_fit": null,
       "object_position": null,
       "order": null,
       "overflow": null,
       "overflow_x": null,
       "overflow_y": null,
       "padding": null,
       "right": null,
       "top": null,
       "visibility": null,
       "width": null
      }
     },
     "bdc1b68c26034ce2b244af063861578d": {
      "model_module": "@jupyter-widgets/base",
      "model_module_version": "1.2.0",
      "model_name": "LayoutModel",
      "state": {
       "_model_module": "@jupyter-widgets/base",
       "_model_module_version": "1.2.0",
       "_model_name": "LayoutModel",
       "_view_count": null,
       "_view_module": "@jupyter-widgets/base",
       "_view_module_version": "1.2.0",
       "_view_name": "LayoutView",
       "align_content": null,
       "align_items": null,
       "align_self": null,
       "border": null,
       "bottom": null,
       "display": null,
       "flex": null,
       "flex_flow": null,
       "grid_area": null,
       "grid_auto_columns": null,
       "grid_auto_flow": null,
       "grid_auto_rows": null,
       "grid_column": null,
       "grid_gap": null,
       "grid_row": null,
       "grid_template_areas": null,
       "grid_template_columns": null,
       "grid_template_rows": null,
       "height": null,
       "justify_content": null,
       "justify_items": null,
       "left": null,
       "margin": null,
       "max_height": null,
       "max_width": null,
       "min_height": null,
       "min_width": null,
       "object_fit": null,
       "object_position": null,
       "order": null,
       "overflow": null,
       "overflow_x": null,
       "overflow_y": null,
       "padding": null,
       "right": null,
       "top": null,
       "visibility": null,
       "width": null
      }
     },
     "c01ece4537fb4c6ebd026a7878e6d87f": {
      "model_module": "@jupyter-widgets/base",
      "model_module_version": "1.2.0",
      "model_name": "LayoutModel",
      "state": {
       "_model_module": "@jupyter-widgets/base",
       "_model_module_version": "1.2.0",
       "_model_name": "LayoutModel",
       "_view_count": null,
       "_view_module": "@jupyter-widgets/base",
       "_view_module_version": "1.2.0",
       "_view_name": "LayoutView",
       "align_content": null,
       "align_items": null,
       "align_self": null,
       "border": null,
       "bottom": null,
       "display": null,
       "flex": null,
       "flex_flow": null,
       "grid_area": null,
       "grid_auto_columns": null,
       "grid_auto_flow": null,
       "grid_auto_rows": null,
       "grid_column": null,
       "grid_gap": null,
       "grid_row": null,
       "grid_template_areas": null,
       "grid_template_columns": null,
       "grid_template_rows": null,
       "height": null,
       "justify_content": null,
       "justify_items": null,
       "left": null,
       "margin": null,
       "max_height": null,
       "max_width": null,
       "min_height": null,
       "min_width": null,
       "object_fit": null,
       "object_position": null,
       "order": null,
       "overflow": null,
       "overflow_x": null,
       "overflow_y": null,
       "padding": null,
       "right": null,
       "top": null,
       "visibility": null,
       "width": null
      }
     },
     "c0d7b5af3add4b21978f0427cffc3425": {
      "model_module": "@jupyter-widgets/base",
      "model_module_version": "1.2.0",
      "model_name": "LayoutModel",
      "state": {
       "_model_module": "@jupyter-widgets/base",
       "_model_module_version": "1.2.0",
       "_model_name": "LayoutModel",
       "_view_count": null,
       "_view_module": "@jupyter-widgets/base",
       "_view_module_version": "1.2.0",
       "_view_name": "LayoutView",
       "align_content": null,
       "align_items": null,
       "align_self": null,
       "border": null,
       "bottom": null,
       "display": null,
       "flex": null,
       "flex_flow": null,
       "grid_area": null,
       "grid_auto_columns": null,
       "grid_auto_flow": null,
       "grid_auto_rows": null,
       "grid_column": null,
       "grid_gap": null,
       "grid_row": null,
       "grid_template_areas": null,
       "grid_template_columns": null,
       "grid_template_rows": null,
       "height": null,
       "justify_content": null,
       "justify_items": null,
       "left": null,
       "margin": null,
       "max_height": null,
       "max_width": null,
       "min_height": null,
       "min_width": null,
       "object_fit": null,
       "object_position": null,
       "order": null,
       "overflow": null,
       "overflow_x": null,
       "overflow_y": null,
       "padding": null,
       "right": null,
       "top": null,
       "visibility": null,
       "width": null
      }
     },
     "c8c02a0dbd7149fe949ff0726911acc7": {
      "model_module": "@jupyter-widgets/controls",
      "model_module_version": "1.5.0",
      "model_name": "DescriptionStyleModel",
      "state": {
       "_model_module": "@jupyter-widgets/controls",
       "_model_module_version": "1.5.0",
       "_model_name": "DescriptionStyleModel",
       "_view_count": null,
       "_view_module": "@jupyter-widgets/base",
       "_view_module_version": "1.2.0",
       "_view_name": "StyleView",
       "description_width": ""
      }
     },
     "ca06f9161ce4453ca582cac0763b7dc5": {
      "model_module": "@jupyter-widgets/base",
      "model_module_version": "1.2.0",
      "model_name": "LayoutModel",
      "state": {
       "_model_module": "@jupyter-widgets/base",
       "_model_module_version": "1.2.0",
       "_model_name": "LayoutModel",
       "_view_count": null,
       "_view_module": "@jupyter-widgets/base",
       "_view_module_version": "1.2.0",
       "_view_name": "LayoutView",
       "align_content": null,
       "align_items": null,
       "align_self": null,
       "border": null,
       "bottom": null,
       "display": null,
       "flex": null,
       "flex_flow": null,
       "grid_area": null,
       "grid_auto_columns": null,
       "grid_auto_flow": null,
       "grid_auto_rows": null,
       "grid_column": null,
       "grid_gap": null,
       "grid_row": null,
       "grid_template_areas": null,
       "grid_template_columns": null,
       "grid_template_rows": null,
       "height": null,
       "justify_content": null,
       "justify_items": null,
       "left": null,
       "margin": null,
       "max_height": null,
       "max_width": null,
       "min_height": null,
       "min_width": null,
       "object_fit": null,
       "object_position": null,
       "order": null,
       "overflow": null,
       "overflow_x": null,
       "overflow_y": null,
       "padding": null,
       "right": null,
       "top": null,
       "visibility": null,
       "width": null
      }
     },
     "ca23af5fe43a4919aa634a5e13dbc81a": {
      "model_module": "@jupyter-widgets/controls",
      "model_module_version": "1.5.0",
      "model_name": "ProgressStyleModel",
      "state": {
       "_model_module": "@jupyter-widgets/controls",
       "_model_module_version": "1.5.0",
       "_model_name": "ProgressStyleModel",
       "_view_count": null,
       "_view_module": "@jupyter-widgets/base",
       "_view_module_version": "1.2.0",
       "_view_name": "StyleView",
       "bar_color": null,
       "description_width": ""
      }
     },
     "ca89e062d3a740bba166d939b866e35b": {
      "model_module": "@jupyter-widgets/controls",
      "model_module_version": "1.5.0",
      "model_name": "DescriptionStyleModel",
      "state": {
       "_model_module": "@jupyter-widgets/controls",
       "_model_module_version": "1.5.0",
       "_model_name": "DescriptionStyleModel",
       "_view_count": null,
       "_view_module": "@jupyter-widgets/base",
       "_view_module_version": "1.2.0",
       "_view_name": "StyleView",
       "description_width": ""
      }
     },
     "cc40348ac94e4767a8c2f45963f5c7a8": {
      "model_module": "@jupyter-widgets/controls",
      "model_module_version": "1.5.0",
      "model_name": "HTMLModel",
      "state": {
       "_dom_classes": [],
       "_model_module": "@jupyter-widgets/controls",
       "_model_module_version": "1.5.0",
       "_model_name": "HTMLModel",
       "_view_count": null,
       "_view_module": "@jupyter-widgets/controls",
       "_view_module_version": "1.5.0",
       "_view_name": "HTMLView",
       "description": "",
       "description_tooltip": null,
       "layout": "IPY_MODEL_55479a0867a04d548965e4c973a8aa08",
       "placeholder": "​",
       "style": "IPY_MODEL_e8ac62d29fc647efb71d621f1d789c90",
       "value": "100%"
      }
     },
     "cc95e375362f40d3877a10a09655a8dd": {
      "model_module": "@jupyter-widgets/base",
      "model_module_version": "1.2.0",
      "model_name": "LayoutModel",
      "state": {
       "_model_module": "@jupyter-widgets/base",
       "_model_module_version": "1.2.0",
       "_model_name": "LayoutModel",
       "_view_count": null,
       "_view_module": "@jupyter-widgets/base",
       "_view_module_version": "1.2.0",
       "_view_name": "LayoutView",
       "align_content": null,
       "align_items": null,
       "align_self": null,
       "border": null,
       "bottom": null,
       "display": null,
       "flex": null,
       "flex_flow": null,
       "grid_area": null,
       "grid_auto_columns": null,
       "grid_auto_flow": null,
       "grid_auto_rows": null,
       "grid_column": null,
       "grid_gap": null,
       "grid_row": null,
       "grid_template_areas": null,
       "grid_template_columns": null,
       "grid_template_rows": null,
       "height": null,
       "justify_content": null,
       "justify_items": null,
       "left": null,
       "margin": null,
       "max_height": null,
       "max_width": null,
       "min_height": null,
       "min_width": null,
       "object_fit": null,
       "object_position": null,
       "order": null,
       "overflow": null,
       "overflow_x": null,
       "overflow_y": null,
       "padding": null,
       "right": null,
       "top": null,
       "visibility": null,
       "width": null
      }
     },
     "ccaf32e2506547e5bd08fa5dc7a0434a": {
      "model_module": "@jupyter-widgets/base",
      "model_module_version": "1.2.0",
      "model_name": "LayoutModel",
      "state": {
       "_model_module": "@jupyter-widgets/base",
       "_model_module_version": "1.2.0",
       "_model_name": "LayoutModel",
       "_view_count": null,
       "_view_module": "@jupyter-widgets/base",
       "_view_module_version": "1.2.0",
       "_view_name": "LayoutView",
       "align_content": null,
       "align_items": null,
       "align_self": null,
       "border": null,
       "bottom": null,
       "display": null,
       "flex": null,
       "flex_flow": null,
       "grid_area": null,
       "grid_auto_columns": null,
       "grid_auto_flow": null,
       "grid_auto_rows": null,
       "grid_column": null,
       "grid_gap": null,
       "grid_row": null,
       "grid_template_areas": null,
       "grid_template_columns": null,
       "grid_template_rows": null,
       "height": null,
       "justify_content": null,
       "justify_items": null,
       "left": null,
       "margin": null,
       "max_height": null,
       "max_width": null,
       "min_height": null,
       "min_width": null,
       "object_fit": null,
       "object_position": null,
       "order": null,
       "overflow": null,
       "overflow_x": null,
       "overflow_y": null,
       "padding": null,
       "right": null,
       "top": null,
       "visibility": null,
       "width": null
      }
     },
     "cf51024a1f45483b81df8560c442c890": {
      "model_module": "@jupyter-widgets/base",
      "model_module_version": "1.2.0",
      "model_name": "LayoutModel",
      "state": {
       "_model_module": "@jupyter-widgets/base",
       "_model_module_version": "1.2.0",
       "_model_name": "LayoutModel",
       "_view_count": null,
       "_view_module": "@jupyter-widgets/base",
       "_view_module_version": "1.2.0",
       "_view_name": "LayoutView",
       "align_content": null,
       "align_items": null,
       "align_self": null,
       "border": null,
       "bottom": null,
       "display": null,
       "flex": null,
       "flex_flow": null,
       "grid_area": null,
       "grid_auto_columns": null,
       "grid_auto_flow": null,
       "grid_auto_rows": null,
       "grid_column": null,
       "grid_gap": null,
       "grid_row": null,
       "grid_template_areas": null,
       "grid_template_columns": null,
       "grid_template_rows": null,
       "height": null,
       "justify_content": null,
       "justify_items": null,
       "left": null,
       "margin": null,
       "max_height": null,
       "max_width": null,
       "min_height": null,
       "min_width": null,
       "object_fit": null,
       "object_position": null,
       "order": null,
       "overflow": null,
       "overflow_x": null,
       "overflow_y": null,
       "padding": null,
       "right": null,
       "top": null,
       "visibility": null,
       "width": null
      }
     },
     "cfeeb9b9f4ed449698f367af9c1c26cd": {
      "model_module": "@jupyter-widgets/controls",
      "model_module_version": "1.5.0",
      "model_name": "HTMLModel",
      "state": {
       "_dom_classes": [],
       "_model_module": "@jupyter-widgets/controls",
       "_model_module_version": "1.5.0",
       "_model_name": "HTMLModel",
       "_view_count": null,
       "_view_module": "@jupyter-widgets/controls",
       "_view_module_version": "1.5.0",
       "_view_name": "HTMLView",
       "description": "",
       "description_tooltip": null,
       "layout": "IPY_MODEL_3eb9c9e365994e6c89b98bb00bebf667",
       "placeholder": "​",
       "style": "IPY_MODEL_b9d47b598ee046abbf9af8cca0da6e3a",
       "value": "100%"
      }
     },
     "d034a3fea6ae4fefa7573c7e3bc11222": {
      "model_module": "@jupyter-widgets/controls",
      "model_module_version": "1.5.0",
      "model_name": "HTMLModel",
      "state": {
       "_dom_classes": [],
       "_model_module": "@jupyter-widgets/controls",
       "_model_module_version": "1.5.0",
       "_model_name": "HTMLModel",
       "_view_count": null,
       "_view_module": "@jupyter-widgets/controls",
       "_view_module_version": "1.5.0",
       "_view_name": "HTMLView",
       "description": "",
       "description_tooltip": null,
       "layout": "IPY_MODEL_7554c185ce1d4709a891d4ab87c22a33",
       "placeholder": "​",
       "style": "IPY_MODEL_51b77a9cd1cf4b499d8720cc5e67eab3",
       "value": " | loss 0.783 Δ 0.002 :  ✓: 100%"
      }
     },
     "d17dd790c01849f0b91a6af520145b88": {
      "model_module": "@jupyter-widgets/controls",
      "model_module_version": "1.5.0",
      "model_name": "ProgressStyleModel",
      "state": {
       "_model_module": "@jupyter-widgets/controls",
       "_model_module_version": "1.5.0",
       "_model_name": "ProgressStyleModel",
       "_view_count": null,
       "_view_module": "@jupyter-widgets/base",
       "_view_module_version": "1.2.0",
       "_view_name": "StyleView",
       "bar_color": null,
       "description_width": ""
      }
     },
     "d506d6756ffb4b1c9999e21e933b9bea": {
      "model_module": "@jupyter-widgets/controls",
      "model_module_version": "1.5.0",
      "model_name": "HBoxModel",
      "state": {
       "_dom_classes": [],
       "_model_module": "@jupyter-widgets/controls",
       "_model_module_version": "1.5.0",
       "_model_name": "HBoxModel",
       "_view_count": null,
       "_view_module": "@jupyter-widgets/controls",
       "_view_module_version": "1.5.0",
       "_view_name": "HBoxView",
       "box_style": "",
       "children": [
        "IPY_MODEL_cc40348ac94e4767a8c2f45963f5c7a8",
        "IPY_MODEL_b744fd2138504273bfc862470656a602",
        "IPY_MODEL_4bb9e74999c44c4e8bbfb3aafee6ff8d"
       ],
       "layout": "IPY_MODEL_8848a9de70534fab859ffa73a9457523"
      }
     },
     "d761b0f4b3474791850fd9a634dad6b0": {
      "model_module": "@jupyter-widgets/base",
      "model_module_version": "1.2.0",
      "model_name": "LayoutModel",
      "state": {
       "_model_module": "@jupyter-widgets/base",
       "_model_module_version": "1.2.0",
       "_model_name": "LayoutModel",
       "_view_count": null,
       "_view_module": "@jupyter-widgets/base",
       "_view_module_version": "1.2.0",
       "_view_name": "LayoutView",
       "align_content": null,
       "align_items": null,
       "align_self": null,
       "border": null,
       "bottom": null,
       "display": null,
       "flex": null,
       "flex_flow": null,
       "grid_area": null,
       "grid_auto_columns": null,
       "grid_auto_flow": null,
       "grid_auto_rows": null,
       "grid_column": null,
       "grid_gap": null,
       "grid_row": null,
       "grid_template_areas": null,
       "grid_template_columns": null,
       "grid_template_rows": null,
       "height": null,
       "justify_content": null,
       "justify_items": null,
       "left": null,
       "margin": null,
       "max_height": null,
       "max_width": null,
       "min_height": null,
       "min_width": null,
       "object_fit": null,
       "object_position": null,
       "order": null,
       "overflow": null,
       "overflow_x": null,
       "overflow_y": null,
       "padding": null,
       "right": null,
       "top": null,
       "visibility": null,
       "width": null
      }
     },
     "d834c46c97ec4164945da9632239dce1": {
      "model_module": "@jupyter-widgets/controls",
      "model_module_version": "1.5.0",
      "model_name": "DescriptionStyleModel",
      "state": {
       "_model_module": "@jupyter-widgets/controls",
       "_model_module_version": "1.5.0",
       "_model_name": "DescriptionStyleModel",
       "_view_count": null,
       "_view_module": "@jupyter-widgets/base",
       "_view_module_version": "1.2.0",
       "_view_name": "StyleView",
       "description_width": ""
      }
     },
     "d9067a1922c64d46b926258d93890b0d": {
      "model_module": "@jupyter-widgets/controls",
      "model_module_version": "1.5.0",
      "model_name": "DescriptionStyleModel",
      "state": {
       "_model_module": "@jupyter-widgets/controls",
       "_model_module_version": "1.5.0",
       "_model_name": "DescriptionStyleModel",
       "_view_count": null,
       "_view_module": "@jupyter-widgets/base",
       "_view_module_version": "1.2.0",
       "_view_name": "StyleView",
       "description_width": ""
      }
     },
     "d9df17f101c14e84946da454ca32b697": {
      "model_module": "@jupyter-widgets/controls",
      "model_module_version": "1.5.0",
      "model_name": "HTMLModel",
      "state": {
       "_dom_classes": [],
       "_model_module": "@jupyter-widgets/controls",
       "_model_module_version": "1.5.0",
       "_model_name": "HTMLModel",
       "_view_count": null,
       "_view_module": "@jupyter-widgets/controls",
       "_view_module_version": "1.5.0",
       "_view_name": "HTMLView",
       "description": "",
       "description_tooltip": null,
       "layout": "IPY_MODEL_da2e159aedf44c959f7cf7159a0f589f",
       "placeholder": "​",
       "style": "IPY_MODEL_b183a26229e0481a8ee77190bd5c3a2f",
       "value": " 10/10 [00:00&lt;00:00, 108.04it/s]"
      }
     },
     "da2e159aedf44c959f7cf7159a0f589f": {
      "model_module": "@jupyter-widgets/base",
      "model_module_version": "1.2.0",
      "model_name": "LayoutModel",
      "state": {
       "_model_module": "@jupyter-widgets/base",
       "_model_module_version": "1.2.0",
       "_model_name": "LayoutModel",
       "_view_count": null,
       "_view_module": "@jupyter-widgets/base",
       "_view_module_version": "1.2.0",
       "_view_name": "LayoutView",
       "align_content": null,
       "align_items": null,
       "align_self": null,
       "border": null,
       "bottom": null,
       "display": null,
       "flex": null,
       "flex_flow": null,
       "grid_area": null,
       "grid_auto_columns": null,
       "grid_auto_flow": null,
       "grid_auto_rows": null,
       "grid_column": null,
       "grid_gap": null,
       "grid_row": null,
       "grid_template_areas": null,
       "grid_template_columns": null,
       "grid_template_rows": null,
       "height": null,
       "justify_content": null,
       "justify_items": null,
       "left": null,
       "margin": null,
       "max_height": null,
       "max_width": null,
       "min_height": null,
       "min_width": null,
       "object_fit": null,
       "object_position": null,
       "order": null,
       "overflow": null,
       "overflow_x": null,
       "overflow_y": null,
       "padding": null,
       "right": null,
       "top": null,
       "visibility": null,
       "width": null
      }
     },
     "db68e717b6a74fd09be5b2c628198fb0": {
      "model_module": "@jupyter-widgets/controls",
      "model_module_version": "1.5.0",
      "model_name": "HTMLModel",
      "state": {
       "_dom_classes": [],
       "_model_module": "@jupyter-widgets/controls",
       "_model_module_version": "1.5.0",
       "_model_name": "HTMLModel",
       "_view_count": null,
       "_view_module": "@jupyter-widgets/controls",
       "_view_module_version": "1.5.0",
       "_view_name": "HTMLView",
       "description": "",
       "description_tooltip": null,
       "layout": "IPY_MODEL_c01ece4537fb4c6ebd026a7878e6d87f",
       "placeholder": "​",
       "style": "IPY_MODEL_a9915599f905420e9839306c7c467527",
       "value": "100%"
      }
     },
     "df73c89d78824b53972f8d6358b0275e": {
      "model_module": "@jupyter-widgets/base",
      "model_module_version": "1.2.0",
      "model_name": "LayoutModel",
      "state": {
       "_model_module": "@jupyter-widgets/base",
       "_model_module_version": "1.2.0",
       "_model_name": "LayoutModel",
       "_view_count": null,
       "_view_module": "@jupyter-widgets/base",
       "_view_module_version": "1.2.0",
       "_view_name": "LayoutView",
       "align_content": null,
       "align_items": null,
       "align_self": null,
       "border": null,
       "bottom": null,
       "display": null,
       "flex": null,
       "flex_flow": null,
       "grid_area": null,
       "grid_auto_columns": null,
       "grid_auto_flow": null,
       "grid_auto_rows": null,
       "grid_column": null,
       "grid_gap": null,
       "grid_row": null,
       "grid_template_areas": null,
       "grid_template_columns": null,
       "grid_template_rows": null,
       "height": null,
       "justify_content": null,
       "justify_items": null,
       "left": null,
       "margin": null,
       "max_height": null,
       "max_width": null,
       "min_height": null,
       "min_width": null,
       "object_fit": null,
       "object_position": null,
       "order": null,
       "overflow": null,
       "overflow_x": null,
       "overflow_y": null,
       "padding": null,
       "right": null,
       "top": null,
       "visibility": null,
       "width": null
      }
     },
     "e00ecd3907174df389f914727610cf8d": {
      "model_module": "@jupyter-widgets/controls",
      "model_module_version": "1.5.0",
      "model_name": "HBoxModel",
      "state": {
       "_dom_classes": [],
       "_model_module": "@jupyter-widgets/controls",
       "_model_module_version": "1.5.0",
       "_model_name": "HBoxModel",
       "_view_count": null,
       "_view_module": "@jupyter-widgets/controls",
       "_view_module_version": "1.5.0",
       "_view_name": "HBoxView",
       "box_style": "",
       "children": [
        "IPY_MODEL_7fe36aa52a304540a4ddd777736d3409",
        "IPY_MODEL_fa484fbb3ce549839e20fb47c9a832d3",
        "IPY_MODEL_b1c2d62285554fbbba8bb29be892fb23"
       ],
       "layout": "IPY_MODEL_55af40b74a014930a2731d7852f153f1"
      }
     },
     "e59600c9c45347738ebdc30c81969654": {
      "model_module": "@jupyter-widgets/controls",
      "model_module_version": "1.5.0",
      "model_name": "HBoxModel",
      "state": {
       "_dom_classes": [],
       "_model_module": "@jupyter-widgets/controls",
       "_model_module_version": "1.5.0",
       "_model_name": "HBoxModel",
       "_view_count": null,
       "_view_module": "@jupyter-widgets/controls",
       "_view_module_version": "1.5.0",
       "_view_name": "HBoxView",
       "box_style": "",
       "children": [
        "IPY_MODEL_2c875d60545147a8896c293767026870",
        "IPY_MODEL_2200d072ab4b4bf3b57aae0429a739be",
        "IPY_MODEL_9d8e495b191945e78e07890d15f036d7"
       ],
       "layout": "IPY_MODEL_ad581999505b4c38880c2ba46f698a84"
      }
     },
     "e61f04ef0a29464eab1c190159cd3d64": {
      "model_module": "@jupyter-widgets/base",
      "model_module_version": "1.2.0",
      "model_name": "LayoutModel",
      "state": {
       "_model_module": "@jupyter-widgets/base",
       "_model_module_version": "1.2.0",
       "_model_name": "LayoutModel",
       "_view_count": null,
       "_view_module": "@jupyter-widgets/base",
       "_view_module_version": "1.2.0",
       "_view_name": "LayoutView",
       "align_content": null,
       "align_items": null,
       "align_self": null,
       "border": null,
       "bottom": null,
       "display": null,
       "flex": "2",
       "flex_flow": null,
       "grid_area": null,
       "grid_auto_columns": null,
       "grid_auto_flow": null,
       "grid_auto_rows": null,
       "grid_column": null,
       "grid_gap": null,
       "grid_row": null,
       "grid_template_areas": null,
       "grid_template_columns": null,
       "grid_template_rows": null,
       "height": null,
       "justify_content": null,
       "justify_items": null,
       "left": null,
       "margin": null,
       "max_height": null,
       "max_width": null,
       "min_height": null,
       "min_width": null,
       "object_fit": null,
       "object_position": null,
       "order": null,
       "overflow": null,
       "overflow_x": null,
       "overflow_y": null,
       "padding": null,
       "right": null,
       "top": null,
       "visibility": null,
       "width": null
      }
     },
     "e8ac62d29fc647efb71d621f1d789c90": {
      "model_module": "@jupyter-widgets/controls",
      "model_module_version": "1.5.0",
      "model_name": "DescriptionStyleModel",
      "state": {
       "_model_module": "@jupyter-widgets/controls",
       "_model_module_version": "1.5.0",
       "_model_name": "DescriptionStyleModel",
       "_view_count": null,
       "_view_module": "@jupyter-widgets/base",
       "_view_module_version": "1.2.0",
       "_view_name": "StyleView",
       "description_width": ""
      }
     },
     "ea79a2170b4c495496f110beeaaa8171": {
      "model_module": "@jupyter-widgets/controls",
      "model_module_version": "1.5.0",
      "model_name": "HTMLModel",
      "state": {
       "_dom_classes": [],
       "_model_module": "@jupyter-widgets/controls",
       "_model_module_version": "1.5.0",
       "_model_name": "HTMLModel",
       "_view_count": null,
       "_view_module": "@jupyter-widgets/controls",
       "_view_module_version": "1.5.0",
       "_view_name": "HTMLView",
       "description": "",
       "description_tooltip": null,
       "layout": "IPY_MODEL_2c1000d227824958925caf0414365071",
       "placeholder": "​",
       "style": "IPY_MODEL_883206b2eab7434d80a0415f21cac7bd",
       "value": "100%"
      }
     },
     "eab9bcfa9ecc47d39a298f91102b8986": {
      "model_module": "@jupyter-widgets/controls",
      "model_module_version": "1.5.0",
      "model_name": "ProgressStyleModel",
      "state": {
       "_model_module": "@jupyter-widgets/controls",
       "_model_module_version": "1.5.0",
       "_model_name": "ProgressStyleModel",
       "_view_count": null,
       "_view_module": "@jupyter-widgets/base",
       "_view_module_version": "1.2.0",
       "_view_name": "StyleView",
       "bar_color": null,
       "description_width": ""
      }
     },
     "ebb85811748b4be996eeea138aff3aa6": {
      "model_module": "@jupyter-widgets/base",
      "model_module_version": "1.2.0",
      "model_name": "LayoutModel",
      "state": {
       "_model_module": "@jupyter-widgets/base",
       "_model_module_version": "1.2.0",
       "_model_name": "LayoutModel",
       "_view_count": null,
       "_view_module": "@jupyter-widgets/base",
       "_view_module_version": "1.2.0",
       "_view_name": "LayoutView",
       "align_content": null,
       "align_items": null,
       "align_self": null,
       "border": null,
       "bottom": null,
       "display": null,
       "flex": null,
       "flex_flow": null,
       "grid_area": null,
       "grid_auto_columns": null,
       "grid_auto_flow": null,
       "grid_auto_rows": null,
       "grid_column": null,
       "grid_gap": null,
       "grid_row": null,
       "grid_template_areas": null,
       "grid_template_columns": null,
       "grid_template_rows": null,
       "height": null,
       "justify_content": null,
       "justify_items": null,
       "left": null,
       "margin": null,
       "max_height": null,
       "max_width": null,
       "min_height": null,
       "min_width": null,
       "object_fit": null,
       "object_position": null,
       "order": null,
       "overflow": null,
       "overflow_x": null,
       "overflow_y": null,
       "padding": null,
       "right": null,
       "top": null,
       "visibility": null,
       "width": null
      }
     },
     "ee87ec5c557f4057be44a8df10e0171b": {
      "model_module": "@jupyter-widgets/controls",
      "model_module_version": "1.5.0",
      "model_name": "FloatProgressModel",
      "state": {
       "_dom_classes": [],
       "_model_module": "@jupyter-widgets/controls",
       "_model_module_version": "1.5.0",
       "_model_name": "FloatProgressModel",
       "_view_count": null,
       "_view_module": "@jupyter-widgets/controls",
       "_view_module_version": "1.5.0",
       "_view_name": "ProgressView",
       "bar_style": "success",
       "description": "",
       "description_tooltip": null,
       "layout": "IPY_MODEL_acb306eeab7a4286aa08d7f00869eacb",
       "max": 10.0,
       "min": 0.0,
       "orientation": "horizontal",
       "style": "IPY_MODEL_476456b3db78405c8d1f81e217ee8bb1",
       "value": 10.0
      }
     },
     "efa0489449d947de849541ed1ff620dc": {
      "model_module": "@jupyter-widgets/base",
      "model_module_version": "1.2.0",
      "model_name": "LayoutModel",
      "state": {
       "_model_module": "@jupyter-widgets/base",
       "_model_module_version": "1.2.0",
       "_model_name": "LayoutModel",
       "_view_count": null,
       "_view_module": "@jupyter-widgets/base",
       "_view_module_version": "1.2.0",
       "_view_name": "LayoutView",
       "align_content": null,
       "align_items": null,
       "align_self": null,
       "border": null,
       "bottom": null,
       "display": null,
       "flex": null,
       "flex_flow": null,
       "grid_area": null,
       "grid_auto_columns": null,
       "grid_auto_flow": null,
       "grid_auto_rows": null,
       "grid_column": null,
       "grid_gap": null,
       "grid_row": null,
       "grid_template_areas": null,
       "grid_template_columns": null,
       "grid_template_rows": null,
       "height": null,
       "justify_content": null,
       "justify_items": null,
       "left": null,
       "margin": null,
       "max_height": null,
       "max_width": null,
       "min_height": null,
       "min_width": null,
       "object_fit": null,
       "object_position": null,
       "order": null,
       "overflow": null,
       "overflow_x": null,
       "overflow_y": null,
       "padding": null,
       "right": null,
       "top": null,
       "visibility": null,
       "width": null
      }
     },
     "f01d24b429af43b99351f131d5339525": {
      "model_module": "@jupyter-widgets/base",
      "model_module_version": "1.2.0",
      "model_name": "LayoutModel",
      "state": {
       "_model_module": "@jupyter-widgets/base",
       "_model_module_version": "1.2.0",
       "_model_name": "LayoutModel",
       "_view_count": null,
       "_view_module": "@jupyter-widgets/base",
       "_view_module_version": "1.2.0",
       "_view_name": "LayoutView",
       "align_content": null,
       "align_items": null,
       "align_self": null,
       "border": null,
       "bottom": null,
       "display": null,
       "flex": null,
       "flex_flow": null,
       "grid_area": null,
       "grid_auto_columns": null,
       "grid_auto_flow": null,
       "grid_auto_rows": null,
       "grid_column": null,
       "grid_gap": null,
       "grid_row": null,
       "grid_template_areas": null,
       "grid_template_columns": null,
       "grid_template_rows": null,
       "height": null,
       "justify_content": null,
       "justify_items": null,
       "left": null,
       "margin": null,
       "max_height": null,
       "max_width": null,
       "min_height": null,
       "min_width": null,
       "object_fit": null,
       "object_position": null,
       "order": null,
       "overflow": null,
       "overflow_x": null,
       "overflow_y": null,
       "padding": null,
       "right": null,
       "top": null,
       "visibility": null,
       "width": null
      }
     },
     "f06fa44ee1084f36ace9f324df79f484": {
      "model_module": "@jupyter-widgets/base",
      "model_module_version": "1.2.0",
      "model_name": "LayoutModel",
      "state": {
       "_model_module": "@jupyter-widgets/base",
       "_model_module_version": "1.2.0",
       "_model_name": "LayoutModel",
       "_view_count": null,
       "_view_module": "@jupyter-widgets/base",
       "_view_module_version": "1.2.0",
       "_view_name": "LayoutView",
       "align_content": null,
       "align_items": null,
       "align_self": null,
       "border": null,
       "bottom": null,
       "display": null,
       "flex": null,
       "flex_flow": null,
       "grid_area": null,
       "grid_auto_columns": null,
       "grid_auto_flow": null,
       "grid_auto_rows": null,
       "grid_column": null,
       "grid_gap": null,
       "grid_row": null,
       "grid_template_areas": null,
       "grid_template_columns": null,
       "grid_template_rows": null,
       "height": null,
       "justify_content": null,
       "justify_items": null,
       "left": null,
       "margin": null,
       "max_height": null,
       "max_width": null,
       "min_height": null,
       "min_width": null,
       "object_fit": null,
       "object_position": null,
       "order": null,
       "overflow": null,
       "overflow_x": null,
       "overflow_y": null,
       "padding": null,
       "right": null,
       "top": null,
       "visibility": null,
       "width": null
      }
     },
     "f30c3b4d25894292a2f60da8d58af3da": {
      "model_module": "@jupyter-widgets/controls",
      "model_module_version": "1.5.0",
      "model_name": "ProgressStyleModel",
      "state": {
       "_model_module": "@jupyter-widgets/controls",
       "_model_module_version": "1.5.0",
       "_model_name": "ProgressStyleModel",
       "_view_count": null,
       "_view_module": "@jupyter-widgets/base",
       "_view_module_version": "1.2.0",
       "_view_name": "StyleView",
       "bar_color": null,
       "description_width": ""
      }
     },
     "f438a320cf814628a0df3b438eef81c6": {
      "model_module": "@jupyter-widgets/controls",
      "model_module_version": "1.5.0",
      "model_name": "DescriptionStyleModel",
      "state": {
       "_model_module": "@jupyter-widgets/controls",
       "_model_module_version": "1.5.0",
       "_model_name": "DescriptionStyleModel",
       "_view_count": null,
       "_view_module": "@jupyter-widgets/base",
       "_view_module_version": "1.2.0",
       "_view_name": "StyleView",
       "description_width": ""
      }
     },
     "f6e745ffa7364d57b189713b737e039d": {
      "model_module": "@jupyter-widgets/base",
      "model_module_version": "1.2.0",
      "model_name": "LayoutModel",
      "state": {
       "_model_module": "@jupyter-widgets/base",
       "_model_module_version": "1.2.0",
       "_model_name": "LayoutModel",
       "_view_count": null,
       "_view_module": "@jupyter-widgets/base",
       "_view_module_version": "1.2.0",
       "_view_name": "LayoutView",
       "align_content": null,
       "align_items": null,
       "align_self": null,
       "border": null,
       "bottom": null,
       "display": null,
       "flex": null,
       "flex_flow": null,
       "grid_area": null,
       "grid_auto_columns": null,
       "grid_auto_flow": null,
       "grid_auto_rows": null,
       "grid_column": null,
       "grid_gap": null,
       "grid_row": null,
       "grid_template_areas": null,
       "grid_template_columns": null,
       "grid_template_rows": null,
       "height": null,
       "justify_content": null,
       "justify_items": null,
       "left": null,
       "margin": null,
       "max_height": null,
       "max_width": null,
       "min_height": null,
       "min_width": null,
       "object_fit": null,
       "object_position": null,
       "order": null,
       "overflow": null,
       "overflow_x": null,
       "overflow_y": null,
       "padding": null,
       "right": null,
       "top": null,
       "visibility": null,
       "width": null
      }
     },
     "fa484fbb3ce549839e20fb47c9a832d3": {
      "model_module": "@jupyter-widgets/controls",
      "model_module_version": "1.5.0",
      "model_name": "FloatProgressModel",
      "state": {
       "_dom_classes": [],
       "_model_module": "@jupyter-widgets/controls",
       "_model_module_version": "1.5.0",
       "_model_name": "FloatProgressModel",
       "_view_count": null,
       "_view_module": "@jupyter-widgets/controls",
       "_view_module_version": "1.5.0",
       "_view_name": "ProgressView",
       "bar_style": "success",
       "description": "",
       "description_tooltip": null,
       "layout": "IPY_MODEL_cc95e375362f40d3877a10a09655a8dd",
       "max": 10.0,
       "min": 0.0,
       "orientation": "horizontal",
       "style": "IPY_MODEL_8b3ea933291c49f0ad5e04e9cf62b459",
       "value": 10.0
      }
     },
     "fa9cfc902649423784970ae623afae0e": {
      "model_module": "@jupyter-widgets/controls",
      "model_module_version": "1.5.0",
      "model_name": "ProgressStyleModel",
      "state": {
       "_model_module": "@jupyter-widgets/controls",
       "_model_module_version": "1.5.0",
       "_model_name": "ProgressStyleModel",
       "_view_count": null,
       "_view_module": "@jupyter-widgets/base",
       "_view_module_version": "1.2.0",
       "_view_name": "StyleView",
       "bar_color": null,
       "description_width": ""
      }
     },
     "fba70c7875fa4ba88eef6cc3eaa26c1f": {
      "model_module": "@jupyter-widgets/base",
      "model_module_version": "1.2.0",
      "model_name": "LayoutModel",
      "state": {
       "_model_module": "@jupyter-widgets/base",
       "_model_module_version": "1.2.0",
       "_model_name": "LayoutModel",
       "_view_count": null,
       "_view_module": "@jupyter-widgets/base",
       "_view_module_version": "1.2.0",
       "_view_name": "LayoutView",
       "align_content": null,
       "align_items": null,
       "align_self": null,
       "border": null,
       "bottom": null,
       "display": "inline-flex",
       "flex": null,
       "flex_flow": "row wrap",
       "grid_area": null,
       "grid_auto_columns": null,
       "grid_auto_flow": null,
       "grid_auto_rows": null,
       "grid_column": null,
       "grid_gap": null,
       "grid_row": null,
       "grid_template_areas": null,
       "grid_template_columns": null,
       "grid_template_rows": null,
       "height": null,
       "justify_content": null,
       "justify_items": null,
       "left": null,
       "margin": null,
       "max_height": null,
       "max_width": null,
       "min_height": null,
       "min_width": null,
       "object_fit": null,
       "object_position": null,
       "order": null,
       "overflow": null,
       "overflow_x": null,
       "overflow_y": null,
       "padding": null,
       "right": null,
       "top": null,
       "visibility": null,
       "width": "1000px"
      }
     },
     "fcb369020e064cc2846451307470f88f": {
      "model_module": "@jupyter-widgets/controls",
      "model_module_version": "1.5.0",
      "model_name": "HBoxModel",
      "state": {
       "_dom_classes": [],
       "_model_module": "@jupyter-widgets/controls",
       "_model_module_version": "1.5.0",
       "_model_name": "HBoxModel",
       "_view_count": null,
       "_view_module": "@jupyter-widgets/controls",
       "_view_module_version": "1.5.0",
       "_view_name": "HBoxView",
       "box_style": "",
       "children": [
        "IPY_MODEL_3fdfac556a144c81bf5a7e1a027e105b",
        "IPY_MODEL_725fc67bc78f4c4f85696c8682e95b2e",
        "IPY_MODEL_ff90ac7a02d14c2eb6e3b1783214fffb"
       ],
       "layout": "IPY_MODEL_4e1f6e361b01456ab2fcc711cad57e99"
      }
     },
     "fd150023ad044ab6bc01aeacacae3033": {
      "model_module": "@jupyter-widgets/controls",
      "model_module_version": "1.5.0",
      "model_name": "HTMLModel",
      "state": {
       "_dom_classes": [],
       "_model_module": "@jupyter-widgets/controls",
       "_model_module_version": "1.5.0",
       "_model_name": "HTMLModel",
       "_view_count": null,
       "_view_module": "@jupyter-widgets/controls",
       "_view_module_version": "1.5.0",
       "_view_name": "HTMLView",
       "description": "",
       "description_tooltip": null,
       "layout": "IPY_MODEL_6f91dcac2a374a46848044a30253b6ac",
       "placeholder": "​",
       "style": "IPY_MODEL_157037bd3dc84aa8818ce07abfea1894",
       "value": " 10/10 [00:00&lt;00:00, 19.21it/s]"
      }
     },
     "fe7128fe28f644e78cb82e8421c65295": {
      "model_module": "@jupyter-widgets/controls",
      "model_module_version": "1.5.0",
      "model_name": "ProgressStyleModel",
      "state": {
       "_model_module": "@jupyter-widgets/controls",
       "_model_module_version": "1.5.0",
       "_model_name": "ProgressStyleModel",
       "_view_count": null,
       "_view_module": "@jupyter-widgets/base",
       "_view_module_version": "1.2.0",
       "_view_name": "StyleView",
       "bar_color": null,
       "description_width": ""
      }
     },
     "ff90ac7a02d14c2eb6e3b1783214fffb": {
      "model_module": "@jupyter-widgets/controls",
      "model_module_version": "1.5.0",
      "model_name": "HTMLModel",
      "state": {
       "_dom_classes": [],
       "_model_module": "@jupyter-widgets/controls",
       "_model_module_version": "1.5.0",
       "_model_name": "HTMLModel",
       "_view_count": null,
       "_view_module": "@jupyter-widgets/controls",
       "_view_module_version": "1.5.0",
       "_view_name": "HTMLView",
       "description": "",
       "description_tooltip": null,
       "layout": "IPY_MODEL_ca06f9161ce4453ca582cac0763b7dc5",
       "placeholder": "​",
       "style": "IPY_MODEL_8bd06c8fd7654d8e9910b9e45ace7aa4",
       "value": " 5/5 [00:00&lt;00:00, 360.55it/s]"
      }
     }
    },
    "version_major": 2,
    "version_minor": 0
   }
  }
 },
 "nbformat": 4,
 "nbformat_minor": 5
}
