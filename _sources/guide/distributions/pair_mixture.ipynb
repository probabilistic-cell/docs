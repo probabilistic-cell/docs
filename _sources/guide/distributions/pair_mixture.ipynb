{
 "cells": [
  {
   "cell_type": "markdown",
   "id": "e843c94a-9f9d-49e7-9c78-7da83873d535",
   "metadata": {
    "tags": []
   },
   "source": [
    "# Mixture distributions"
   ]
  },
  {
   "cell_type": "code",
   "execution_count": 37,
   "id": "89c721f5-544b-47b2-a0ef-902013d6b1e1",
   "metadata": {
    "tags": []
   },
   "outputs": [
    {
     "name": "stdout",
     "output_type": "stream",
     "text": [
      "The autoreload extension is already loaded. To reload it, use:\n",
      "  %reload_ext autoreload\n"
     ]
    }
   ],
   "source": [
    "from IPython import get_ipython\n",
    "\n",
    "if get_ipython():\n",
    "    get_ipython().run_line_magic(\"load_ext\", \"autoreload\")\n",
    "    get_ipython().run_line_magic(\"autoreload\", \"2\")\n",
    "\n",
    "import numpy as np\n",
    "import pandas as pd\n",
    "import seaborn as sns\n",
    "import scipy\n",
    "import torch\n",
    "\n",
    "import latenta as la"
   ]
  },
  {
   "cell_type": "markdown",
   "id": "ff312826-748f-4a81-aabe-23068074fff2",
   "metadata": {},
   "source": [
    "## Pair mixture"
   ]
  },
  {
   "cell_type": "code",
   "execution_count": 38,
   "id": "920eb8db-63a7-4aa7-8c95-ab6ee3695e11",
   "metadata": {},
   "outputs": [],
   "source": [
    "x = torch.tensor(0.5)"
   ]
  },
  {
   "cell_type": "code",
   "execution_count": 39,
   "id": "5d0a940e-d183-4c06-932f-30f15f957612",
   "metadata": {},
   "outputs": [],
   "source": [
    "distributions_gs = {\n",
    "    \"a\": la.distributions.Normal(5.0, 0.5),\n",
    "    \"b\": la.distributions.Laplace(-1.0, 0.5)\n",
    "}"
   ]
  },
  {
   "cell_type": "code",
   "execution_count": 40,
   "id": "aa3ac48d-dfdf-483a-b467-47159c688470",
   "metadata": {},
   "outputs": [],
   "source": [
    "w = la.Fixed(0.)"
   ]
  },
  {
   "cell_type": "code",
   "execution_count": 41,
   "id": "fdff10be-bc5f-4fd5-a409-8adeb4e26d9d",
   "metadata": {},
   "outputs": [],
   "source": [
    "mixture = la.distributions.PairMixture(\n",
    "    distribution1 = distributions_gs[\"b\"],\n",
    "    distribution0 = distributions_gs[\"a\"],\n",
    "    weight=w,\n",
    "    label=\"mixture\"\n",
    ")\n",
    "mixture.run_recursive()"
   ]
  },
  {
   "cell_type": "code",
   "execution_count": 42,
   "id": "94d888e1-4b0a-46b4-930b-ec70b80f2111",
   "metadata": {},
   "outputs": [],
   "source": [
    "assert mixture.log_prob(x) == mixture.distribution0.log_prob(x)"
   ]
  },
  {
   "cell_type": "code",
   "execution_count": 43,
   "id": "6347888f-b1ed-493d-9530-5755b9a7c098",
   "metadata": {},
   "outputs": [],
   "source": [
    "w = la.Fixed(1.)"
   ]
  },
  {
   "cell_type": "code",
   "execution_count": 44,
   "id": "864c36bd-3f27-4364-935e-30a53eb68b33",
   "metadata": {},
   "outputs": [],
   "source": [
    "mixture = la.distributions.PairMixture(\n",
    "    distribution1 = distributions_gs[\"b\"],\n",
    "    distribution0 = distributions_gs[\"a\"],\n",
    "    weight=w,\n",
    "    label=\"mixture\"\n",
    ")\n",
    "mixture.run_recursive()"
   ]
  },
  {
   "cell_type": "code",
   "execution_count": 51,
   "id": "a3b424bf-36fb-497f-83d9-61292c22f28e",
   "metadata": {},
   "outputs": [
    {
     "data": {
      "text/plain": [
       "tensor(-3.)"
      ]
     },
     "execution_count": 51,
     "metadata": {},
     "output_type": "execute_result"
    }
   ],
   "source": [
    "mixture.distribution1.log_prob(x)"
   ]
  },
  {
   "cell_type": "code",
   "execution_count": 52,
   "id": "24cf55b3-a24c-4b65-92df-4307a307d127",
   "metadata": {},
   "outputs": [
    {
     "data": {
      "text/plain": [
       "tensor(-3.)"
      ]
     },
     "execution_count": 52,
     "metadata": {},
     "output_type": "execute_result"
    }
   ],
   "source": [
    "mixture.log_prob(x)"
   ]
  },
  {
   "cell_type": "code",
   "execution_count": 53,
   "id": "75ae3c25-5310-46ff-94dc-6b71767eedbb",
   "metadata": {},
   "outputs": [],
   "source": [
    "assert mixture.log_prob(x) == mixture.distribution1.log_prob(x)"
   ]
  },
  {
   "cell_type": "code",
   "execution_count": 54,
   "id": "f0f2c000-dd52-4b9b-828d-8d1c6d83a430",
   "metadata": {},
   "outputs": [],
   "source": [
    "w = la.Fixed(0.5)"
   ]
  },
  {
   "cell_type": "code",
   "execution_count": 55,
   "id": "f1622713-e25e-4ac7-b970-ecd710212a16",
   "metadata": {},
   "outputs": [],
   "source": [
    "mixture = la.distributions.PairMixture(\n",
    "    distribution1 = distributions_gs[\"b\"],\n",
    "    distribution0 = distributions_gs[\"a\"],\n",
    "    weight=w,\n",
    "    label=\"mixture\"\n",
    ")\n",
    "mixture.run_recursive()"
   ]
  },
  {
   "cell_type": "code",
   "execution_count": 56,
   "id": "9a9e48e4-a035-4f6c-9ec8-dcff1678a1d4",
   "metadata": {},
   "outputs": [],
   "source": [
    "assert torch.isclose(\n",
    "    mixture.log_prob(x),\n",
    "    torch.log(torch.exp(mixture.distribution1.log_prob(x)) * 0.5 + torch.exp(mixture.distribution0.log_prob(x)) * 0.5)\n",
    ")"
   ]
  },
  {
   "cell_type": "code",
   "execution_count": null,
   "id": "d83b54fe-ea34-4270-bfc5-101599ae8b0a",
   "metadata": {},
   "outputs": [],
   "source": []
  }
 ],
 "metadata": {
  "kernelspec": {
   "display_name": "Python 3 (ipykernel)",
   "language": "python",
   "name": "python3"
  },
  "language_info": {
   "codemirror_mode": {
    "name": "ipython",
    "version": 3
   },
   "file_extension": ".py",
   "mimetype": "text/x-python",
   "name": "python",
   "nbconvert_exporter": "python",
   "pygments_lexer": "ipython3",
   "version": "3.8.10"
  }
 },
 "nbformat": 4,
 "nbformat_minor": 5
}
