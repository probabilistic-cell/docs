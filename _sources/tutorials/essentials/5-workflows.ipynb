{
 "cells": [
  {
   "cell_type": "markdown",
   "id": "c41e444e",
   "metadata": {},
   "source": [
    "# Workflows"
   ]
  },
  {
   "cell_type": "markdown",
   "id": "ca07933e-66cf-42a2-9ff9-d31aa4c22334",
   "metadata": {},
   "source": [
    "For now we mainly looked at models in isolation. However, the true power of probabilistic modelling lies in its ability to move beyond the \"one-model-fits-all\" idea, but rather create a variety of models and connect or compare them in various ways. Indeed, even for a normal use cases, we already typically go up to a dozen models or more. In more complex experimental designs, which are becoming every more common, this can easily go up to a hundred or more."
   ]
  },
  {
   "cell_type": "code",
   "execution_count": 1,
   "id": "64bdec88",
   "metadata": {
    "execution": {
     "iopub.execute_input": "2021-10-07T12:54:18.649389Z",
     "iopub.status.busy": "2021-10-07T12:54:18.648817Z",
     "iopub.status.idle": "2021-10-07T12:54:20.073761Z",
     "shell.execute_reply": "2021-10-07T12:54:20.073469Z"
    }
   },
   "outputs": [],
   "source": [
    "%load_ext autoreload\n",
    "%autoreload 2\n",
    "import latenta as la\n",
    "import lacell as lac\n",
    "import numpy as np"
   ]
  },
  {
   "cell_type": "markdown",
   "id": "92267d0c-2c29-4dca-93a6-df6e11df7851",
   "metadata": {},
   "source": [
    "Even in relatively simple use cases, managing different models, storing them across sessions, and let them depend on each other can be a pain. To make this easier, we created a small workflow manager in the _laflow_ package. It borrows elements from other workflow managers such as snakemake or nextflow. However, it is much more focused on interactivity, modularization and model inheritance, all concepts very central to the modelling we're doing here.\n",
    "\n",
    "The core tasks of laflow is:\n",
    "- **Persistence**, to store sure models and its derivatives on disk\n",
    "- **Model inheritance**, creation of similar models that only differ in certain aspects\n",
    "- **Connecting data**, to explicitely define what objects are needed to produce what"
   ]
  },
  {
   "cell_type": "code",
   "execution_count": 2,
   "id": "95ac7ce5-08eb-4936-989c-74dd5c159b3a",
   "metadata": {
    "execution": {
     "iopub.execute_input": "2021-10-07T12:54:20.076143Z",
     "iopub.status.busy": "2021-10-07T12:54:20.075859Z",
     "iopub.status.idle": "2021-10-07T12:54:20.089616Z",
     "shell.execute_reply": "2021-10-07T12:54:20.089366Z"
    }
   },
   "outputs": [],
   "source": [
    "import laflow as laf"
   ]
  },
  {
   "cell_type": "markdown",
   "id": "0ff40293-2cf6-4b8f-9e3f-3d79e75692e4",
   "metadata": {},
   "source": [
    "We'll use the same dataset as [before](./1-variables)."
   ]
  },
  {
   "cell_type": "code",
   "execution_count": 3,
   "id": "46e1c2f9-b86b-4272-9ef9-17e5a46e652f",
   "metadata": {
    "execution": {
     "iopub.execute_input": "2021-10-07T12:54:20.091689Z",
     "iopub.status.busy": "2021-10-07T12:54:20.091425Z",
     "iopub.status.idle": "2021-10-07T12:54:20.702585Z",
     "shell.execute_reply": "2021-10-07T12:54:20.702347Z"
    }
   },
   "outputs": [],
   "source": [
    "adata = la.data.load_myod1()"
   ]
  },
  {
   "cell_type": "code",
   "execution_count": 4,
   "id": "1b6cc03b-c47a-4c44-86f8-602539837674",
   "metadata": {
    "execution": {
     "iopub.execute_input": "2021-10-07T12:54:20.705431Z",
     "iopub.status.busy": "2021-10-07T12:54:20.704683Z",
     "iopub.status.idle": "2021-10-07T12:54:24.365991Z",
     "shell.execute_reply": "2021-10-07T12:54:24.365727Z"
    },
    "tags": [
     "hide-input",
     "remove-output"
    ]
   },
   "outputs": [
    {
     "name": "stderr",
     "output_type": "stream",
     "text": [
      "/home/wsaelens/projects/probabilistic-cell/.venv/lib/python3.8/site-packages/anndata/_core/anndata.py:1220: FutureWarning: The `inplace` parameter in pandas.Categorical.reorder_categories is deprecated and will be removed in a future version. Removing unused categories will always return a new Categorical object.\n",
      "  c.reorder_categories(natsorted(c.categories), inplace=True)\n",
      "... storing 'dissociation' as categorical\n"
     ]
    },
    {
     "name": "stderr",
     "output_type": "stream",
     "text": [
      "/home/wsaelens/projects/probabilistic-cell/.venv/lib/python3.8/site-packages/anndata/_core/anndata.py:1220: FutureWarning: The `inplace` parameter in pandas.Categorical.reorder_categories is deprecated and will be removed in a future version. Removing unused categories will always return a new Categorical object.\n",
      "  c.reorder_categories(natsorted(c.categories), inplace=True)\n",
      "... storing 'gene_overexpressed' as categorical\n"
     ]
    },
    {
     "name": "stderr",
     "output_type": "stream",
     "text": [
      "/home/wsaelens/projects/probabilistic-cell/.venv/lib/python3.8/site-packages/anndata/_core/anndata.py:1220: FutureWarning: The `inplace` parameter in pandas.Categorical.reorder_categories is deprecated and will be removed in a future version. Removing unused categories will always return a new Categorical object.\n",
      "  c.reorder_categories(natsorted(c.categories), inplace=True)\n",
      "... storing 'batch' as categorical\n"
     ]
    },
    {
     "name": "stderr",
     "output_type": "stream",
     "text": [
      "/home/wsaelens/projects/probabilistic-cell/.venv/lib/python3.8/site-packages/anndata/_core/anndata.py:1220: FutureWarning: The `inplace` parameter in pandas.Categorical.reorder_categories is deprecated and will be removed in a future version. Removing unused categories will always return a new Categorical object.\n",
      "  c.reorder_categories(natsorted(c.categories), inplace=True)\n",
      "... storing 'biotype' as categorical\n"
     ]
    },
    {
     "name": "stderr",
     "output_type": "stream",
     "text": [
      "/home/wsaelens/projects/probabilistic-cell/.venv/lib/python3.8/site-packages/scanpy/preprocessing/_combat.py:340: RuntimeWarning: divide by zero encountered in true_divide\n",
      "  (abs(g_new - g_old) / g_old).max(), (abs(d_new - d_old) / d_old).max()\n"
     ]
    }
   ],
   "source": [
    "import scanpy as sc\n",
    "\n",
    "adata.raw = adata\n",
    "\n",
    "sc.pp.normalize_per_cell(adata)\n",
    "sc.pp.log1p(adata)\n",
    "\n",
    "sc.pp.combat(adata)\n",
    "sc.pp.pca(adata)\n",
    "\n",
    "sc.pp.neighbors(adata)\n",
    "sc.tl.umap(adata)\n",
    "\n",
    "adata.obs[\"log_overexpression\"] = np.log1p(adata.obs[\"overexpression\"])"
   ]
  },
  {
   "cell_type": "markdown",
   "id": "f4ed7637-f900-4df1-8d6c-314aff7e1881",
   "metadata": {},
   "source": [
    "## Persistence"
   ]
  },
  {
   "cell_type": "markdown",
   "id": "4192e621-8002-45e0-95f1-26ec53318101",
   "metadata": {},
   "source": [
    "The basis of _laflow_ is the {class}`~laflow.Flow` class. Each instance we create is associated with a particular folder on disk, starting from a given root directory. We work from a temporary directory in these tutorials, but in real life use cases this root is typically  your project's root directory or one of its subdirectories."
   ]
  },
  {
   "cell_type": "code",
   "execution_count": 5,
   "id": "b50f9f6c-c147-4934-83e0-39e2ab96f10e",
   "metadata": {
    "execution": {
     "iopub.execute_input": "2021-10-07T12:54:24.368424Z",
     "iopub.status.busy": "2021-10-07T12:54:24.368141Z",
     "iopub.status.idle": "2021-10-07T12:54:24.384203Z",
     "shell.execute_reply": "2021-10-07T12:54:24.383963Z"
    }
   },
   "outputs": [],
   "source": [
    "import tempfile\n",
    "import pathlib\n",
    "\n",
    "project_root = pathlib.Path(tempfile.TemporaryDirectory().name)\n",
    "project_root.mkdir()\n",
    "laf.set_project_root(project_root)  # sets the default project root"
   ]
  },
  {
   "cell_type": "markdown",
   "id": "bc6b41e6-f769-4908-9fb2-abde5670234a",
   "metadata": {},
   "source": [
    "We can then create a {class}`~laflow.Flow` object as follows. Because we set the default root for this python session, we don't have to provide this explicitely. All we need to provide is a name for the flow, and optionally a base flow if this is not the root:"
   ]
  },
  {
   "cell_type": "code",
   "execution_count": 6,
   "id": "00f27ea1-efb4-494e-949e-ad9ad5903672",
   "metadata": {
    "execution": {
     "iopub.execute_input": "2021-10-07T12:54:24.388008Z",
     "iopub.status.busy": "2021-10-07T12:54:24.385905Z",
     "iopub.status.idle": "2021-10-07T12:54:24.402899Z",
     "shell.execute_reply": "2021-10-07T12:54:24.402693Z"
    }
   },
   "outputs": [
    {
     "data": {
      "text/plain": [
       "PosixPath('/tmp/tmpzjo3kyzj/dataset')"
      ]
     },
     "execution_count": 6,
     "metadata": {},
     "output_type": "execute_result"
    }
   ],
   "source": [
    "dataset = laf.Flow(\"dataset\")\n",
    "dataset.path  # the path associated with this flow"
   ]
  },
  {
   "cell_type": "markdown",
   "id": "cbe2dbe1-8c2b-4492-a15c-853ed87f9425",
   "metadata": {},
   "source": [
    "This folder will store information on each object, links to other objects or flows, and the objects themselves if they are labeled as persistent. We can store a python object inside a flow by simply assigning it:"
   ]
  },
  {
   "cell_type": "code",
   "execution_count": 7,
   "id": "f1916ca7-4d2d-4751-88b2-8963e77447df",
   "metadata": {
    "execution": {
     "iopub.execute_input": "2021-10-07T12:54:24.411334Z",
     "iopub.status.busy": "2021-10-07T12:54:24.404569Z",
     "iopub.status.idle": "2021-10-07T12:54:24.431380Z",
     "shell.execute_reply": "2021-10-07T12:54:24.431606Z"
    }
   },
   "outputs": [],
   "source": [
    "dataset.adata = adata"
   ]
  },
  {
   "cell_type": "markdown",
   "id": "8dce0ffe-42bf-4b33-abdc-1ba3ee058865",
   "metadata": {},
   "source": [
    "Because python objects are by default persistent, the `adata` object was saved in the folder as a pickle. Along with it is a info json file which is used internally to keep track which type of object it is and how it was created."
   ]
  },
  {
   "cell_type": "code",
   "execution_count": 8,
   "id": "32b42049-fb75-487a-985b-7256f38a6303",
   "metadata": {
    "execution": {
     "iopub.execute_input": "2021-10-07T12:54:24.433674Z",
     "iopub.status.busy": "2021-10-07T12:54:24.433439Z",
     "iopub.status.idle": "2021-10-07T12:54:24.629785Z",
     "shell.execute_reply": "2021-10-07T12:54:24.630155Z"
    }
   },
   "outputs": [
    {
     "name": "stdout",
     "output_type": "stream",
     "text": [
      "total 17M\r\n",
      "-rw-r--r-- 1 wsaelens updepla 156 Oct  7 14:54 adata.info\r\n",
      "-rw-r--r-- 1 wsaelens updepla 17M Oct  7 14:54 adata.pkl\r\n"
     ]
    }
   ],
   "source": [
    "!ls -lh {dataset.path}"
   ]
  },
  {
   "cell_type": "markdown",
   "id": "bb303b21-fb93-44ef-8cc0-8a0e4401ad0a",
   "metadata": {},
   "source": [
    "When working in IPython environments (e.g. Jupyter), we can always check what contents a flow object has as follows:"
   ]
  },
  {
   "cell_type": "code",
   "execution_count": 9,
   "id": "a8c86c6b-1038-49c3-a2c4-fc88fc40ba98",
   "metadata": {
    "execution": {
     "iopub.execute_input": "2021-10-07T12:54:24.633607Z",
     "iopub.status.busy": "2021-10-07T12:54:24.633149Z",
     "iopub.status.idle": "2021-10-07T12:54:24.658512Z",
     "shell.execute_reply": "2021-10-07T12:54:24.658092Z"
    }
   },
   "outputs": [
    {
     "data": {
      "text/html": [
       "<script src=\"https://cdnjs.cloudflare.com/ajax/libs/require.js/2.3.6/require.js\" integrity=\"sha512-vRqhAr2wsn+/cSsyz80psBbCcqzz2GTuhGk3bq3dAyytz4J/8XwFqMjiAGFBj+WM95lHBJ9cDf87T3P8yMrY7A==\" crossorigin=\"anonymous\" referrerpolicy=\"no-referrer\" id=\"script28728\" onload=\"loaded28728\"></script>\n",
       "<style>\n",
       ".la-flow ul {\n",
       "    margin-top:0;\n",
       "    list-style: none;\n",
       "    padding: 0;\n",
       "    padding-left: 10px !important;\n",
       "}\n",
       ".la-flow li {\n",
       "    padding-left: 10px;\n",
       "}\n",
       ".la-flow .instances li {\n",
       "    border-left: 1px dashed #ccc;\n",
       "}\n",
       ".la-flow .steps li {\n",
       "    border-left: 1px dotted #ccc;\n",
       "}\n",
       ".la-flow .soft {\n",
       "    opacity:0.5;\n",
       "}\n",
       "</style>\n",
       "\n",
       "<script>\n",
       "function loaded28728() {\n",
       "    require.config({\n",
       "    paths: {\n",
       "        'fontawesome': 'https://kit.fontawesome.com/77f7a120e4.js'\n",
       "    }\n",
       "    })\n",
       "\n",
       "    require(['fontawesome'], function (fontawesome) {\n",
       "    console.log('Congrats, Font Awesome is installed using Require.js')\n",
       "    })\n",
       "}\n",
       "</script>\n",
       "\n",
       "\n",
       "\n",
       "        <div class='la-flow'><strong>dataset</strong> <span class='soft'>(laflow.flow.Flow)</span><ul class='instances'><li><i class='fas fa-check-square' style='color:#2ECC40;' title='available and persistent'></i> adata <span class='soft'>(Py)</span></li></ul><ul class='steps'></ul>"
      ],
      "text/plain": [
       "<laflow.flow.Flow at 0x7fd3344e7fd0>"
      ]
     },
     "execution_count": 9,
     "metadata": {},
     "output_type": "execute_result"
    }
   ],
   "source": [
    "dataset"
   ]
  },
  {
   "cell_type": "markdown",
   "id": "234f23aa-7525-4f4b-806a-2cc4bccfd852",
   "metadata": {},
   "source": [
    "Even if we restart our session (simulated here by removing the flow object), we can always retrieve it by recreating a flow object in the correct folder:"
   ]
  },
  {
   "cell_type": "code",
   "execution_count": 10,
   "id": "8aaef670-e512-46d0-b218-9319d400255d",
   "metadata": {
    "execution": {
     "iopub.execute_input": "2021-10-07T12:54:24.661016Z",
     "iopub.status.busy": "2021-10-07T12:54:24.660557Z",
     "iopub.status.idle": "2021-10-07T12:54:24.676261Z",
     "shell.execute_reply": "2021-10-07T12:54:24.675869Z"
    }
   },
   "outputs": [],
   "source": [
    "if \"dataset\" in globals():\n",
    "    del dataset\n",
    "dataset = laf.Flow(\"dataset\")"
   ]
  },
  {
   "cell_type": "code",
   "execution_count": 11,
   "id": "e141def7-df7f-4088-a7d8-f54d7a7181e0",
   "metadata": {
    "execution": {
     "iopub.execute_input": "2021-10-07T12:54:24.678511Z",
     "iopub.status.busy": "2021-10-07T12:54:24.678140Z",
     "iopub.status.idle": "2021-10-07T12:54:24.694872Z",
     "shell.execute_reply": "2021-10-07T12:54:24.694450Z"
    }
   },
   "outputs": [
    {
     "data": {
      "text/html": [
       "<script src=\"https://cdnjs.cloudflare.com/ajax/libs/require.js/2.3.6/require.js\" integrity=\"sha512-vRqhAr2wsn+/cSsyz80psBbCcqzz2GTuhGk3bq3dAyytz4J/8XwFqMjiAGFBj+WM95lHBJ9cDf87T3P8yMrY7A==\" crossorigin=\"anonymous\" referrerpolicy=\"no-referrer\" id=\"script32386\" onload=\"loaded32386\"></script>\n",
       "<style>\n",
       ".la-flow ul {\n",
       "    margin-top:0;\n",
       "    list-style: none;\n",
       "    padding: 0;\n",
       "    padding-left: 10px !important;\n",
       "}\n",
       ".la-flow li {\n",
       "    padding-left: 10px;\n",
       "}\n",
       ".la-flow .instances li {\n",
       "    border-left: 1px dashed #ccc;\n",
       "}\n",
       ".la-flow .steps li {\n",
       "    border-left: 1px dotted #ccc;\n",
       "}\n",
       ".la-flow .soft {\n",
       "    opacity:0.5;\n",
       "}\n",
       "</style>\n",
       "\n",
       "<script>\n",
       "function loaded32386() {\n",
       "    require.config({\n",
       "    paths: {\n",
       "        'fontawesome': 'https://kit.fontawesome.com/77f7a120e4.js'\n",
       "    }\n",
       "    })\n",
       "\n",
       "    require(['fontawesome'], function (fontawesome) {\n",
       "    console.log('Congrats, Font Awesome is installed using Require.js')\n",
       "    })\n",
       "}\n",
       "</script>\n",
       "\n",
       "\n",
       "\n",
       "        <div class='la-flow'><strong>dataset</strong> <span class='soft'>(laflow.flow.Flow)</span><ul class='instances'><li><i class='fas fa-check-square' style='color:#2ECC40;' title='available and persistent'></i> adata <span class='soft'>(Py)</span></li></ul><ul class='steps'></ul>"
      ],
      "text/plain": [
       "<laflow.flow.Flow at 0x7fd0e0131d90>"
      ]
     },
     "execution_count": 11,
     "metadata": {},
     "output_type": "execute_result"
    }
   ],
   "source": [
    "dataset"
   ]
  },
  {
   "cell_type": "markdown",
   "id": "337fecae-9b99-4128-9421-d1325f853324",
   "metadata": {},
   "source": [
    "We can also have persistence of other objects. If you provide a matplotlib object, this will be stored as a png and pdf:"
   ]
  },
  {
   "cell_type": "code",
   "execution_count": 12,
   "id": "88f211e0-e229-4fd5-b249-208f07b51e22",
   "metadata": {
    "execution": {
     "iopub.execute_input": "2021-10-07T12:54:24.697391Z",
     "iopub.status.busy": "2021-10-07T12:54:24.696932Z",
     "iopub.status.idle": "2021-10-07T12:54:24.822989Z",
     "shell.execute_reply": "2021-10-07T12:54:24.823375Z"
    }
   },
   "outputs": [
    {
     "data": {
      "image/png": "[encoded data removed]",
      "text/plain": [
       "<Figure size 432x288 with 1 Axes>"
      ]
     },
     "metadata": {},
     "output_type": "display_data"
    }
   ],
   "source": [
    "# don't forget the return_fig, or this function will return None and that will be stored as a pickle\n",
    "dataset.basic_umap = sc.pl.umap(dataset.adata, return_fig=True)"
   ]
  },
  {
   "cell_type": "code",
   "execution_count": 13,
   "id": "b4149603-f377-4f66-9130-9ffd0bf4470e",
   "metadata": {
    "execution": {
     "iopub.execute_input": "2021-10-07T12:54:24.825967Z",
     "iopub.status.busy": "2021-10-07T12:54:24.825509Z",
     "iopub.status.idle": "2021-10-07T12:54:24.846487Z",
     "shell.execute_reply": "2021-10-07T12:54:24.846066Z"
    }
   },
   "outputs": [
    {
     "data": {
      "text/html": [
       "<script src=\"https://cdnjs.cloudflare.com/ajax/libs/require.js/2.3.6/require.js\" integrity=\"sha512-vRqhAr2wsn+/cSsyz80psBbCcqzz2GTuhGk3bq3dAyytz4J/8XwFqMjiAGFBj+WM95lHBJ9cDf87T3P8yMrY7A==\" crossorigin=\"anonymous\" referrerpolicy=\"no-referrer\" id=\"script32557\" onload=\"loaded32557\"></script>\n",
       "<style>\n",
       ".la-flow ul {\n",
       "    margin-top:0;\n",
       "    list-style: none;\n",
       "    padding: 0;\n",
       "    padding-left: 10px !important;\n",
       "}\n",
       ".la-flow li {\n",
       "    padding-left: 10px;\n",
       "}\n",
       ".la-flow .instances li {\n",
       "    border-left: 1px dashed #ccc;\n",
       "}\n",
       ".la-flow .steps li {\n",
       "    border-left: 1px dotted #ccc;\n",
       "}\n",
       ".la-flow .soft {\n",
       "    opacity:0.5;\n",
       "}\n",
       "</style>\n",
       "\n",
       "<script>\n",
       "function loaded32557() {\n",
       "    require.config({\n",
       "    paths: {\n",
       "        'fontawesome': 'https://kit.fontawesome.com/77f7a120e4.js'\n",
       "    }\n",
       "    })\n",
       "\n",
       "    require(['fontawesome'], function (fontawesome) {\n",
       "    console.log('Congrats, Font Awesome is installed using Require.js')\n",
       "    })\n",
       "}\n",
       "</script>\n",
       "\n",
       "\n",
       "\n",
       "        <div class='la-flow'><strong>dataset</strong> <span class='soft'>(laflow.flow.Flow)</span><ul class='instances'><li><i class='fas fa-check-square' style='color:#2ECC40;' title='available and persistent'></i> adata <span class='soft'>(Py)</span></li><li><i class='fas fa-check-square' style='color:#2ECC40;' title='available and persistent'></i> basic_umap <span class='soft'>(Figure)</span></li></ul><ul class='steps'></ul>"
      ],
      "text/plain": [
       "<laflow.flow.Flow at 0x7fd0e0131d90>"
      ]
     },
     "execution_count": 13,
     "metadata": {},
     "output_type": "execute_result"
    }
   ],
   "source": [
    "dataset"
   ]
  },
  {
   "cell_type": "markdown",
   "id": "77e6b710-8fcf-48d7-b862-124ea9cb851a",
   "metadata": {},
   "source": [
    "## Connecting flows"
   ]
  },
  {
   "cell_type": "markdown",
   "id": "7450629d-b9d0-4f99-98a1-c0462662a134",
   "metadata": {},
   "source": [
    "To make our workflows more modular, we use Python's OOP system to systematically let certain flows depend on each other and share common code. For example, a dataset in our example would be defined as follows:"
   ]
  },
  {
   "cell_type": "code",
   "execution_count": 14,
   "id": "8b64c708-9053-49fa-a0a1-ba831416f507",
   "metadata": {
    "execution": {
     "iopub.execute_input": "2021-10-07T12:54:24.849081Z",
     "iopub.status.busy": "2021-10-07T12:54:24.848619Z",
     "iopub.status.idle": "2021-10-07T12:54:24.863235Z",
     "shell.execute_reply": "2021-10-07T12:54:24.863604Z"
    }
   },
   "outputs": [],
   "source": [
    "class Dataset(laf.Flow):\n",
    "    default_name = \"dataset\"\n",
    "    adata = laf.PyObj()"
   ]
  },
  {
   "cell_type": "markdown",
   "id": "d6a3d9f7-7b1d-4409-8a45-af3fd2fb16e0",
   "metadata": {},
   "source": [
    "We can initialize this dataset as before. Note that we do not provide a name in this case as we want to use the default \"dataset\" name:"
   ]
  },
  {
   "cell_type": "code",
   "execution_count": 15,
   "id": "6fbb395b-4fe1-4514-aeb6-d200f37aef52",
   "metadata": {
    "execution": {
     "iopub.execute_input": "2021-10-07T12:54:24.865863Z",
     "iopub.status.busy": "2021-10-07T12:54:24.865502Z",
     "iopub.status.idle": "2021-10-07T12:54:24.898103Z",
     "shell.execute_reply": "2021-10-07T12:54:24.898402Z"
    }
   },
   "outputs": [],
   "source": [
    "dataset = Dataset(adata = adata)"
   ]
  },
  {
   "cell_type": "code",
   "execution_count": 16,
   "id": "56da4823-5e0c-4386-9bf5-e711dd139f08",
   "metadata": {
    "execution": {
     "iopub.execute_input": "2021-10-07T12:54:24.900634Z",
     "iopub.status.busy": "2021-10-07T12:54:24.900274Z",
     "iopub.status.idle": "2021-10-07T12:54:24.917445Z",
     "shell.execute_reply": "2021-10-07T12:54:24.917817Z"
    }
   },
   "outputs": [
    {
     "data": {
      "text/html": [
       "<script src=\"https://cdnjs.cloudflare.com/ajax/libs/require.js/2.3.6/require.js\" integrity=\"sha512-vRqhAr2wsn+/cSsyz80psBbCcqzz2GTuhGk3bq3dAyytz4J/8XwFqMjiAGFBj+WM95lHBJ9cDf87T3P8yMrY7A==\" crossorigin=\"anonymous\" referrerpolicy=\"no-referrer\" id=\"script46010\" onload=\"loaded46010\"></script>\n",
       "<style>\n",
       ".la-flow ul {\n",
       "    margin-top:0;\n",
       "    list-style: none;\n",
       "    padding: 0;\n",
       "    padding-left: 10px !important;\n",
       "}\n",
       ".la-flow li {\n",
       "    padding-left: 10px;\n",
       "}\n",
       ".la-flow .instances li {\n",
       "    border-left: 1px dashed #ccc;\n",
       "}\n",
       ".la-flow .steps li {\n",
       "    border-left: 1px dotted #ccc;\n",
       "}\n",
       ".la-flow .soft {\n",
       "    opacity:0.5;\n",
       "}\n",
       "</style>\n",
       "\n",
       "<script>\n",
       "function loaded46010() {\n",
       "    require.config({\n",
       "    paths: {\n",
       "        'fontawesome': 'https://kit.fontawesome.com/77f7a120e4.js'\n",
       "    }\n",
       "    })\n",
       "\n",
       "    require(['fontawesome'], function (fontawesome) {\n",
       "    console.log('Congrats, Font Awesome is installed using Require.js')\n",
       "    })\n",
       "}\n",
       "</script>\n",
       "\n",
       "\n",
       "\n",
       "        <div class='la-flow'><strong>dataset</strong> <span class='soft'>(__main__.Dataset)</span><ul class='instances'><li><i class='fas fa-check-square' style='color:#2ECC40;' title='available and persistent'></i> basic_umap <span class='soft'>(Figure)</span></li><li><i class='fas fa-check-square' style='color:#2ECC40;' title='available and persistent'></i> adata <span class='soft'>(Py)</span></li></ul><ul class='steps'></ul>"
      ],
      "text/plain": [
       "<__main__.Dataset at 0x7fd0e020d8b0>"
      ]
     },
     "execution_count": 16,
     "metadata": {},
     "output_type": "execute_result"
    }
   ],
   "source": [
    "dataset"
   ]
  },
  {
   "cell_type": "markdown",
   "id": "ddc81bc9-a9d7-4dd9-b035-ac2ea69b1151",
   "metadata": {},
   "source": [
    "If we would then make a model, we could make it depend on the dataset as follows:"
   ]
  },
  {
   "cell_type": "code",
   "execution_count": 17,
   "id": "58819700-ff55-4e90-b0df-f5dfa2639424",
   "metadata": {
    "execution": {
     "iopub.execute_input": "2021-10-07T12:54:24.920398Z",
     "iopub.status.busy": "2021-10-07T12:54:24.919937Z",
     "iopub.status.idle": "2021-10-07T12:54:24.938304Z",
     "shell.execute_reply": "2021-10-07T12:54:24.938685Z"
    }
   },
   "outputs": [],
   "source": [
    "class Model(laf.Flow):\n",
    "    default_name = \"model\"\n",
    "    dataset = laf.FlowObj()"
   ]
  },
  {
   "cell_type": "code",
   "execution_count": 18,
   "id": "7cf22a6c-a761-48bc-ae76-81c1458366a6",
   "metadata": {
    "execution": {
     "iopub.execute_input": "2021-10-07T12:54:24.941079Z",
     "iopub.status.busy": "2021-10-07T12:54:24.940620Z",
     "iopub.status.idle": "2021-10-07T12:54:24.959316Z",
     "shell.execute_reply": "2021-10-07T12:54:24.958928Z"
    }
   },
   "outputs": [],
   "source": [
    "model = Model(dataset = dataset)"
   ]
  },
  {
   "cell_type": "code",
   "execution_count": 19,
   "id": "30b05599-f99c-40fb-b225-6054e1e5d6b1",
   "metadata": {
    "execution": {
     "iopub.execute_input": "2021-10-07T12:54:24.961743Z",
     "iopub.status.busy": "2021-10-07T12:54:24.961282Z",
     "iopub.status.idle": "2021-10-07T12:54:24.980679Z",
     "shell.execute_reply": "2021-10-07T12:54:24.981040Z"
    }
   },
   "outputs": [
    {
     "data": {
      "text/html": [
       "<script src=\"https://cdnjs.cloudflare.com/ajax/libs/require.js/2.3.6/require.js\" integrity=\"sha512-vRqhAr2wsn+/cSsyz80psBbCcqzz2GTuhGk3bq3dAyytz4J/8XwFqMjiAGFBj+WM95lHBJ9cDf87T3P8yMrY7A==\" crossorigin=\"anonymous\" referrerpolicy=\"no-referrer\" id=\"script1633\" onload=\"loaded1633\"></script>\n",
       "<style>\n",
       ".la-flow ul {\n",
       "    margin-top:0;\n",
       "    list-style: none;\n",
       "    padding: 0;\n",
       "    padding-left: 10px !important;\n",
       "}\n",
       ".la-flow li {\n",
       "    padding-left: 10px;\n",
       "}\n",
       ".la-flow .instances li {\n",
       "    border-left: 1px dashed #ccc;\n",
       "}\n",
       ".la-flow .steps li {\n",
       "    border-left: 1px dotted #ccc;\n",
       "}\n",
       ".la-flow .soft {\n",
       "    opacity:0.5;\n",
       "}\n",
       "</style>\n",
       "\n",
       "<script>\n",
       "function loaded1633() {\n",
       "    require.config({\n",
       "    paths: {\n",
       "        'fontawesome': 'https://kit.fontawesome.com/77f7a120e4.js'\n",
       "    }\n",
       "    })\n",
       "\n",
       "    require(['fontawesome'], function (fontawesome) {\n",
       "    console.log('Congrats, Font Awesome is installed using Require.js')\n",
       "    })\n",
       "}\n",
       "</script>\n",
       "\n",
       "\n",
       "\n",
       "        <div class='la-flow'><strong>model</strong> <span class='soft'>(__main__.Model)</span><ul class='instances'><li><i class='fas fa-check-square' style='color:#2ECC40;' title='available and persistent'></i> dataset <span class='soft'>(FlowLink)</span> → dataset <span class='soft'>(__main__.Dataset)</span></li></ul><ul class='steps'></ul>"
      ],
      "text/plain": [
       "<__main__.Model at 0x7fd0e00db280>"
      ]
     },
     "execution_count": 19,
     "metadata": {},
     "output_type": "execute_result"
    }
   ],
   "source": [
    "model"
   ]
  },
  {
   "cell_type": "markdown",
   "id": "31dcb434-4a68-4a52-950e-1677d645d25a",
   "metadata": {},
   "source": [
    "The dataset is now linked to the model, and we can access it as follows:"
   ]
  },
  {
   "cell_type": "code",
   "execution_count": 20,
   "id": "caa3b4be-bf08-4a27-9cc9-0ba7efcd8bac",
   "metadata": {
    "execution": {
     "iopub.execute_input": "2021-10-07T12:54:24.983343Z",
     "iopub.status.busy": "2021-10-07T12:54:24.982905Z",
     "iopub.status.idle": "2021-10-07T12:54:25.002899Z",
     "shell.execute_reply": "2021-10-07T12:54:25.002505Z"
    }
   },
   "outputs": [
    {
     "data": {
      "text/html": [
       "<script src=\"https://cdnjs.cloudflare.com/ajax/libs/require.js/2.3.6/require.js\" integrity=\"sha512-vRqhAr2wsn+/cSsyz80psBbCcqzz2GTuhGk3bq3dAyytz4J/8XwFqMjiAGFBj+WM95lHBJ9cDf87T3P8yMrY7A==\" crossorigin=\"anonymous\" referrerpolicy=\"no-referrer\" id=\"script7729\" onload=\"loaded7729\"></script>\n",
       "<style>\n",
       ".la-flow ul {\n",
       "    margin-top:0;\n",
       "    list-style: none;\n",
       "    padding: 0;\n",
       "    padding-left: 10px !important;\n",
       "}\n",
       ".la-flow li {\n",
       "    padding-left: 10px;\n",
       "}\n",
       ".la-flow .instances li {\n",
       "    border-left: 1px dashed #ccc;\n",
       "}\n",
       ".la-flow .steps li {\n",
       "    border-left: 1px dotted #ccc;\n",
       "}\n",
       ".la-flow .soft {\n",
       "    opacity:0.5;\n",
       "}\n",
       "</style>\n",
       "\n",
       "<script>\n",
       "function loaded7729() {\n",
       "    require.config({\n",
       "    paths: {\n",
       "        'fontawesome': 'https://kit.fontawesome.com/77f7a120e4.js'\n",
       "    }\n",
       "    })\n",
       "\n",
       "    require(['fontawesome'], function (fontawesome) {\n",
       "    console.log('Congrats, Font Awesome is installed using Require.js')\n",
       "    })\n",
       "}\n",
       "</script>\n",
       "\n",
       "\n",
       "\n",
       "        <div class='la-flow'><strong>dataset</strong> <span class='soft'>(__main__.Dataset)</span><ul class='instances'><li><i class='fas fa-check-square' style='color:#2ECC40;' title='available and persistent'></i> basic_umap <span class='soft'>(Figure)</span></li><li><i class='fas fa-check-square' style='color:#2ECC40;' title='available and persistent'></i> adata <span class='soft'>(Py)</span></li></ul><ul class='steps'></ul>"
      ],
      "text/plain": [
       "<__main__.Dataset at 0x7fd0e020d8b0>"
      ]
     },
     "execution_count": 20,
     "metadata": {},
     "output_type": "execute_result"
    }
   ],
   "source": [
    "model.dataset"
   ]
  },
  {
   "cell_type": "markdown",
   "id": "38de3791-6cbb-45e8-9e85-b5154281d8ed",
   "metadata": {},
   "source": [
    "This can stack indefintely. On disk, the link to the dataset is stored as a symbolic link:"
   ]
  },
  {
   "cell_type": "code",
   "execution_count": 21,
   "id": "3ec2e269-37a2-4824-b275-4671ae96e7e8",
   "metadata": {
    "execution": {
     "iopub.execute_input": "2021-10-07T12:54:25.005262Z",
     "iopub.status.busy": "2021-10-07T12:54:25.004829Z",
     "iopub.status.idle": "2021-10-07T12:54:25.201187Z",
     "shell.execute_reply": "2021-10-07T12:54:25.201560Z"
    }
   },
   "outputs": [
    {
     "name": "stdout",
     "output_type": "stream",
     "text": [
      "16K\r\n",
      "2 wsaelens 4.0K Oct  7 14:54 \u001b[0m\u001b[01;34m.\u001b[0m\r\n",
      "4 wsaelens 4.0K Oct  7 14:54 \u001b[01;34m..\u001b[0m\r\n",
      "1 wsaelens   24 Oct  7 14:54 \u001b[01;36mdataset\u001b[0m -> \u001b[01;34m/tmp/tmpzjo3kyzj/dataset\u001b[0m\r\n",
      "1 wsaelens   97 Oct  7 14:54 dataset.info\r\n",
      "1 wsaelens   40 Oct  7 14:54 .flow\r\n"
     ]
    }
   ],
   "source": [
    "!ls -lhaG --color=always {model.path} | sed -re 's/^[^ ]* //'"
   ]
  },
  {
   "cell_type": "markdown",
   "id": "38929360-2c53-4577-be41-1a96d88ecc68",
   "metadata": {},
   "source": [
    "## Building workflows"
   ]
  },
  {
   "cell_type": "markdown",
   "id": "b687691d-6604-494e-ac8e-21e60fed0720",
   "metadata": {},
   "source": [
    "We learned how to define and assign objects in a flow, but to create workflows we also need to define how those objects are created and how they depend on each other. We do this by defining functions inside the Flow class that are decorated by {class}`~laflow.Step`. This decorator allows you to specify where each input is coming from, and which outputs are produced by the step.\n",
    "\n",
    "For example, to write a step that creates the initial model (before we inferred the parameters), we would do the following:"
   ]
  },
  {
   "cell_type": "code",
   "execution_count": 22,
   "id": "99b51a24-93e2-44f1-bc66-eca3d3f417ae",
   "metadata": {
    "execution": {
     "iopub.execute_input": "2021-10-07T12:54:25.208179Z",
     "iopub.status.busy": "2021-10-07T12:54:25.207706Z",
     "iopub.status.idle": "2021-10-07T12:54:25.226028Z",
     "shell.execute_reply": "2021-10-07T12:54:25.225639Z"
    }
   },
   "outputs": [],
   "source": [
    "class LinearModel(laf.Flow):\n",
    "    # sets the default name\n",
    "    default_name = \"linear\"\n",
    "\n",
    "    # lets the flow know that it can contain a link to another flow called dataset\n",
    "    dataset = laf.FlowObj()\n",
    "\n",
    "    # lets the flow know that it can expect a model_initial object, that is not persistent\n",
    "    model_initial = laf.LatentaObj(persistent=False)\n",
    "\n",
    "    # creates a particular step, that expects adata as input, and that outputs model_initial\n",
    "    # note that our function not only expects \"output\" as an argument\n",
    "    # this object should be used to store the outputs\n",
    "    @laf.Step(\n",
    "        laf.Inputs(adata = dataset.adata),\n",
    "        laf.Outputs(model_initial)\n",
    "    )\n",
    "    def create_model(self, output, adata):\n",
    "        # define the model as before\n",
    "        overexpression = la.Fixed(\n",
    "            adata.obs[\"log_overexpression\"], label=\"overexpression\"\n",
    "        )\n",
    "        transcriptome = lac.transcriptome.Transcriptome.from_adata(adata)\n",
    "        foldchange = transcriptome.find(\"foldchange\")\n",
    "\n",
    "        foldchange.overexpression = la.links.scalar.Constant(\n",
    "            overexpression, definition=foldchange.value_definition\n",
    "        )\n",
    "        \n",
    "        # apart from each input, the step function will also receive an output object\n",
    "        # you should put any expected outputs in this object either by assigning it \n",
    "        # or by using the update function\n",
    "        return output.update(model_initial = transcriptome)"
   ]
  },
  {
   "cell_type": "markdown",
   "id": "2a08144b-8af5-4996-b655-89ba1c5b7e6b",
   "metadata": {},
   "source": [
    "Apart from all inputs, your function will also receive a special `output` object in which you can store all the outputs that are produced. These will then be saved for you."
   ]
  },
  {
   "cell_type": "code",
   "execution_count": 23,
   "id": "6abca9b5-9279-4c2e-a174-09a326a9ccae",
   "metadata": {
    "execution": {
     "iopub.execute_input": "2021-10-07T12:54:25.228670Z",
     "iopub.status.busy": "2021-10-07T12:54:25.228210Z",
     "iopub.status.idle": "2021-10-07T12:54:25.248365Z",
     "shell.execute_reply": "2021-10-07T12:54:25.247955Z"
    }
   },
   "outputs": [],
   "source": [
    "model = LinearModel(dataset = dataset)"
   ]
  },
  {
   "cell_type": "code",
   "execution_count": 24,
   "id": "364026a5-25bc-4d5c-b7dd-e83136593e3b",
   "metadata": {
    "execution": {
     "iopub.execute_input": "2021-10-07T12:54:25.250808Z",
     "iopub.status.busy": "2021-10-07T12:54:25.250340Z",
     "iopub.status.idle": "2021-10-07T12:54:25.271169Z",
     "shell.execute_reply": "2021-10-07T12:54:25.270759Z"
    }
   },
   "outputs": [
    {
     "data": {
      "text/html": [
       "<script src=\"https://cdnjs.cloudflare.com/ajax/libs/require.js/2.3.6/require.js\" integrity=\"sha512-vRqhAr2wsn+/cSsyz80psBbCcqzz2GTuhGk3bq3dAyytz4J/8XwFqMjiAGFBj+WM95lHBJ9cDf87T3P8yMrY7A==\" crossorigin=\"anonymous\" referrerpolicy=\"no-referrer\" id=\"script5559\" onload=\"loaded5559\"></script>\n",
       "<style>\n",
       ".la-flow ul {\n",
       "    margin-top:0;\n",
       "    list-style: none;\n",
       "    padding: 0;\n",
       "    padding-left: 10px !important;\n",
       "}\n",
       ".la-flow li {\n",
       "    padding-left: 10px;\n",
       "}\n",
       ".la-flow .instances li {\n",
       "    border-left: 1px dashed #ccc;\n",
       "}\n",
       ".la-flow .steps li {\n",
       "    border-left: 1px dotted #ccc;\n",
       "}\n",
       ".la-flow .soft {\n",
       "    opacity:0.5;\n",
       "}\n",
       "</style>\n",
       "\n",
       "<script>\n",
       "function loaded5559() {\n",
       "    require.config({\n",
       "    paths: {\n",
       "        'fontawesome': 'https://kit.fontawesome.com/77f7a120e4.js'\n",
       "    }\n",
       "    })\n",
       "\n",
       "    require(['fontawesome'], function (fontawesome) {\n",
       "    console.log('Congrats, Font Awesome is installed using Require.js')\n",
       "    })\n",
       "}\n",
       "</script>\n",
       "\n",
       "\n",
       "\n",
       "        <div class='la-flow'><strong>linear</strong> <span class='soft'>(__main__.LinearModel)</span><ul class='instances'><li><i class='fas fa-check-square' style='color:#2ECC40;' title='available and persistent'></i> dataset <span class='soft'>(FlowLink)</span> → dataset <span class='soft'>(__main__.Dataset)</span></li><li><i class='fas fa-minus' style='color:#FF4136;' title='unavailable'></i> model_initial <span class='soft'>(Latenta)</span></li></ul><ul class='steps'><li>create_model → model_initial</li></ul>"
      ],
      "text/plain": [
       "<__main__.LinearModel at 0x7fd0e0117910>"
      ]
     },
     "execution_count": 24,
     "metadata": {},
     "output_type": "execute_result"
    }
   ],
   "source": [
    "model"
   ]
  },
  {
   "cell_type": "code",
   "execution_count": 25,
   "id": "461c7a1b-a6fc-41ca-b1ce-7d38dceb091b",
   "metadata": {
    "execution": {
     "iopub.execute_input": "2021-10-07T12:54:25.273626Z",
     "iopub.status.busy": "2021-10-07T12:54:25.273169Z",
     "iopub.status.idle": "2021-10-07T12:54:25.382277Z",
     "shell.execute_reply": "2021-10-07T12:54:25.381874Z"
    }
   },
   "outputs": [
    {
     "name": "stdout",
     "output_type": "stream",
     "text": [
      "▶️ | linear/create_model                                                                                 \n"
     ]
    },
    {
     "name": "stdout",
     "output_type": "stream",
     "text": [
      "✅ | linear/create_model                                                                                 \n"
     ]
    },
    {
     "data": {
      "text/plain": [
       "<laflow.step.OutputContainer at 0x7fd0dbfcf3d0>"
      ]
     },
     "execution_count": 25,
     "metadata": {},
     "output_type": "execute_result"
    }
   ],
   "source": [
    "model.create_model()"
   ]
  },
  {
   "cell_type": "markdown",
   "id": "2302695c-e3c4-4603-93a6-63260c894be3",
   "metadata": {},
   "source": [
    "In real use cases, we will typically store our workflows in a separate file so that they are easier to maintain. A full linear regression workflow, that includes inference and interpretation, is contained in the `basic_workflow.py` file:"
   ]
  },
  {
   "cell_type": "code",
   "execution_count": 26,
   "id": "6a694170-bb5b-4ffe-b6e5-ac1a6ceec0ca",
   "metadata": {
    "execution": {
     "iopub.execute_input": "2021-10-07T12:54:25.385372Z",
     "iopub.status.busy": "2021-10-07T12:54:25.384905Z",
     "iopub.status.idle": "2021-10-07T12:54:25.405322Z",
     "shell.execute_reply": "2021-10-07T12:54:25.404943Z"
    },
    "tags": [
     "remove-output",
     "remove-input"
    ]
   },
   "outputs": [],
   "source": [
    "basic_workflow_text = \"\"\"\n",
    "import laflow as laf\n",
    "import latenta as la\n",
    "import lacell as lac\n",
    "\n",
    "class LinearModel(laf.Flow):\n",
    "    # sets the default name\n",
    "    default_name = \"linear\"\n",
    "\n",
    "    # lets the flow know that it can contain a link to another flow called dataset\n",
    "    dataset = laf.FlowObj()\n",
    "\n",
    "    # lets the flow know that it can expect a model_initial object, that is not persistent\n",
    "    model_initial = laf.LatentaObj(persistent=False)\n",
    "\n",
    "    # creates a particular step, that expects adata as input, and that outputs model initial\n",
    "    # note the way we access the adata from the dataset object\n",
    "    @laf.Step(\n",
    "        laf.Inputs(adata = dataset.adata),\n",
    "        laf.Outputs(model_initial)\n",
    "    )\n",
    "    def create_model(self, output, adata):\n",
    "        # define the model as before\n",
    "        overexpression = la.Fixed(\n",
    "            adata.obs[\"log_overexpression\"], label=\"overexpression\"\n",
    "        )\n",
    "        transcriptome = lac.transcriptome.Transcriptome.from_adata(adata)\n",
    "        foldchange = transcriptome.find(\"foldchange\")\n",
    "\n",
    "        foldchange.overexpression = la.links.scalar.Linear(\n",
    "            overexpression, a = True, definition=foldchange.value_definition\n",
    "        )\n",
    "        \n",
    "        # apart from each input, the step function will also receive an output object\n",
    "        # you should put any expected outputs in this object either by assigning it \n",
    "        # or by using the update function\n",
    "        return output.update(model_initial = transcriptome)\n",
    "\n",
    "    # the (final) model is persistent by default\n",
    "    model = laf.LatentaObj()\n",
    "    \n",
    "    # another step, that receives the model_initial as input, and outputs the model\n",
    "    @laf.Step(\n",
    "        laf.Inputs(model_initial),\n",
    "        laf.Outputs(model)\n",
    "    )\n",
    "    def infer_model(self, output, model_initial):\n",
    "        # infer the model as before\n",
    "        # we first clone the model_initial so that we do not overwrite it\n",
    "        model = model_initial.clone()\n",
    "        with model.switch(la.config.device):\n",
    "            inference = la.infer.svi.SVI(\n",
    "                model, [la.infer.loss.ELBO()], la.infer.optim.Adam(lr=5e-2)\n",
    "            )\n",
    "            trainer = la.infer.trainer.Trainer(inference)\n",
    "            trace = trainer.train(10000)\n",
    "\n",
    "        return output.update(model = model)\n",
    "\n",
    "    # define our three posteriors, each one with a \"db\" argument\n",
    "    # this will make sure that any model objects are not stored in the posterior,\n",
    "    # but are rather extracted each time from the model object as defined earlier\n",
    "    transcriptome_observed = laf.LatentaObj(db = {model})\n",
    "    overexpression_observed = laf.LatentaObj(db = {model})\n",
    "    overexpression_causal = laf.LatentaObj(db = {model})\n",
    "    \n",
    "    @laf.Step(\n",
    "        laf.Inputs(model),\n",
    "        laf.Outputs(transcriptome_observed, overexpression_observed, overexpression_causal)\n",
    "    )\n",
    "    def interpret(self, output, model):\n",
    "        transcriptome_observed = la.posterior.vector.VectorObserved(model)\n",
    "        transcriptome_observed.sample(5)\n",
    "        output.transcriptome_observed = transcriptome_observed\n",
    "\n",
    "        overexpression = model.find(\"overexpression\")\n",
    "\n",
    "        overexpression_observed = la.posterior.scalar.ScalarObserved(overexpression)\n",
    "        overexpression_observed.sample(5)\n",
    "        output.overexpression_observed = overexpression_observed\n",
    "\n",
    "        overexpression_causal = la.posterior.scalar.ScalarVectorCausal(\n",
    "            overexpression,\n",
    "            model,\n",
    "            interpretable=model.p.mu.expression,\n",
    "            observed=overexpression_observed,\n",
    "        )\n",
    "        overexpression_causal.sample(10)\n",
    "        overexpression_causal.sample_random(10)\n",
    "        overexpression_causal.observed\n",
    "        overexpression_causal.sample_empirical()\n",
    "        output.overexpression_causal = overexpression_causal\n",
    "        \n",
    "        return output\n",
    "\"\"\"\n",
    "with open(\"./basic_workflow.py\", \"w\") as f:\n",
    "    f.write(basic_workflow_text)"
   ]
  },
  {
   "cell_type": "code",
   "execution_count": 27,
   "id": "0802a130-ae81-447e-9d71-c48aab5d475c",
   "metadata": {
    "execution": {
     "iopub.execute_input": "2021-10-07T12:54:25.407825Z",
     "iopub.status.busy": "2021-10-07T12:54:25.407395Z",
     "iopub.status.idle": "2021-10-07T12:54:25.739720Z",
     "shell.execute_reply": "2021-10-07T12:54:25.739333Z"
    },
    "tags": [
     "remove-input",
     "remove-output"
    ]
   },
   "outputs": [
    {
     "data": {
      "application/papermill.record/text/markdown": "```python\n\nimport laflow as laf\nimport latenta as la\nimport lacell as lac\n\nclass LinearModel(laf.Flow):\n    # sets the default name\n    default_name = \"linear\"\n\n    # lets the flow know that it can contain a link to another flow called dataset\n    dataset = laf.FlowObj()\n\n    # lets the flow know that it can expect a model_initial object, that is not persistent\n    model_initial = laf.LatentaObj(persistent=False)\n\n    # creates a particular step, that expects adata as input, and that outputs model initial\n    # note the way we access the adata from the dataset object\n    @laf.Step(\n        laf.Inputs(adata = dataset.adata),\n        laf.Outputs(model_initial)\n    )\n    def create_model(self, output, adata):\n        # define the model as before\n        overexpression = la.Fixed(\n            adata.obs[\"log_overexpression\"], label=\"overexpression\"\n        )\n        transcriptome = lac.transcriptome.Transcriptome.from_adata(adata)\n        foldchange = transcriptome.find(\"foldchange\")\n\n        foldchange.overexpression = la.links.scalar.Linear(\n            overexpression, a = True, definition=foldchange.value_definition\n        )\n        \n        # apart from each input, the step function will also receive an output object\n        # you should put any expected outputs in this object either by assigning it \n        # or by using the update function\n        return output.update(model_initial = transcriptome)\n\n    # the (final) model is persistent by default\n    model = laf.LatentaObj()\n    \n    # another step, that receives the model_initial as input, and outputs the model\n    @laf.Step(\n        laf.Inputs(model_initial),\n        laf.Outputs(model)\n    )\n    def infer_model(self, output, model_initial):\n        # infer the model as before\n        # we first clone the model_initial so that we do not overwrite it\n        model = model_initial.clone()\n        with model.switch(la.config.device):\n            inference = la.infer.svi.SVI(\n                model, [la.infer.loss.ELBO()], la.infer.optim.Adam(lr=5e-2)\n            )\n            trainer = la.infer.trainer.Trainer(inference)\n            trace = trainer.train(10000)\n\n        return output.update(model = model)\n\n    # define our three posteriors, each one with a \"db\" argument\n    # this will make sure that any model objects are not stored in the posterior,\n    # but are rather extracted each time from the model object as defined earlier\n    transcriptome_observed = laf.LatentaObj(db = {model})\n    overexpression_observed = laf.LatentaObj(db = {model})\n    overexpression_causal = laf.LatentaObj(db = {model})\n    \n    @laf.Step(\n        laf.Inputs(model),\n        laf.Outputs(transcriptome_observed, overexpression_observed, overexpression_causal)\n    )\n    def interpret(self, output, model):\n        transcriptome_observed = la.posterior.vector.VectorObserved(model)\n        transcriptome_observed.sample(5)\n        output.transcriptome_observed = transcriptome_observed\n\n        overexpression = model.find(\"overexpression\")\n\n        overexpression_observed = la.posterior.scalar.ScalarObserved(overexpression)\n        overexpression_observed.sample(5)\n        output.overexpression_observed = overexpression_observed\n\n        overexpression_causal = la.posterior.scalar.ScalarVectorCausal(\n            overexpression,\n            model,\n            interpretable=model.p.mu.expression,\n            observed=overexpression_observed,\n        )\n        overexpression_causal.sample(10)\n        overexpression_causal.sample_random(10)\n        overexpression_causal.observed\n        overexpression_causal.sample_empirical()\n        output.overexpression_causal = overexpression_causal\n        \n        return output\n\n```",
      "application/papermill.record/text/plain": "<IPython.core.display.Markdown object>"
     },
     "metadata": {
      "scrapbook": {
       "mime_prefix": "application/papermill.record/",
       "name": "basic_workflow_1"
      }
     },
     "output_type": "display_data"
    }
   ],
   "source": [
    "text = open(\"./basic_workflow.py\").read()\n",
    "from myst_nb import glue\n",
    "from IPython import display\n",
    "glue(\"basic_workflow_1\", display.Markdown(\"```python\\n\" + text + \"\\n```\"), display = False)"
   ]
  },
  {
   "cell_type": "markdown",
   "id": "5bec597d-fd67-4125-a011-9561bbf53b87",
   "metadata": {},
   "source": [
    "::::{dropdown} 📃 basic_workflow.py (1)\n",
    ":::{glue:} basic_workflow_1\n",
    ":::\n",
    "::::"
   ]
  },
  {
   "cell_type": "markdown",
   "id": "85d0deac-759e-4d51-8d0e-25ba80ebef47",
   "metadata": {},
   "source": [
    "Because this is a `.py` file, we can import it as a python module as follows:"
   ]
  },
  {
   "cell_type": "code",
   "execution_count": 28,
   "id": "82781805-b098-42ec-bf51-1f69814bf1c8",
   "metadata": {
    "execution": {
     "iopub.execute_input": "2021-10-07T12:54:25.744414Z",
     "iopub.status.busy": "2021-10-07T12:54:25.743956Z",
     "iopub.status.idle": "2021-10-07T12:54:25.765875Z",
     "shell.execute_reply": "2021-10-07T12:54:25.765569Z"
    }
   },
   "outputs": [],
   "source": [
    "import basic_workflow"
   ]
  },
  {
   "cell_type": "code",
   "execution_count": 29,
   "id": "4aa1ad49-c247-486a-9ab7-5df78e73c7de",
   "metadata": {
    "execution": {
     "iopub.execute_input": "2021-10-07T12:54:25.768269Z",
     "iopub.status.busy": "2021-10-07T12:54:25.767909Z",
     "iopub.status.idle": "2021-10-07T12:54:25.788856Z",
     "shell.execute_reply": "2021-10-07T12:54:25.788520Z"
    }
   },
   "outputs": [
    {
     "data": {
      "text/html": [
       "<script src=\"https://cdnjs.cloudflare.com/ajax/libs/require.js/2.3.6/require.js\" integrity=\"sha512-vRqhAr2wsn+/cSsyz80psBbCcqzz2GTuhGk3bq3dAyytz4J/8XwFqMjiAGFBj+WM95lHBJ9cDf87T3P8yMrY7A==\" crossorigin=\"anonymous\" referrerpolicy=\"no-referrer\" id=\"script33292\" onload=\"loaded33292\"></script>\n",
       "<style>\n",
       ".la-flow ul {\n",
       "    margin-top:0;\n",
       "    list-style: none;\n",
       "    padding: 0;\n",
       "    padding-left: 10px !important;\n",
       "}\n",
       ".la-flow li {\n",
       "    padding-left: 10px;\n",
       "}\n",
       ".la-flow .instances li {\n",
       "    border-left: 1px dashed #ccc;\n",
       "}\n",
       ".la-flow .steps li {\n",
       "    border-left: 1px dotted #ccc;\n",
       "}\n",
       ".la-flow .soft {\n",
       "    opacity:0.5;\n",
       "}\n",
       "</style>\n",
       "\n",
       "<script>\n",
       "function loaded33292() {\n",
       "    require.config({\n",
       "    paths: {\n",
       "        'fontawesome': 'https://kit.fontawesome.com/77f7a120e4.js'\n",
       "    }\n",
       "    })\n",
       "\n",
       "    require(['fontawesome'], function (fontawesome) {\n",
       "    console.log('Congrats, Font Awesome is installed using Require.js')\n",
       "    })\n",
       "}\n",
       "</script>\n",
       "\n",
       "\n",
       "\n",
       "        <div class='la-flow'><strong>linear</strong> <span class='soft'>(basic_workflow.LinearModel)</span><ul class='instances'><li><i class='fas fa-check-square' style='color:#2ECC40;' title='available and persistent'></i> dataset <span class='soft'>(FlowLink)</span> → linear/dataset <span class='soft'>(__main__.Dataset)</span></li><li><i class='fas fa-minus' style='color:#FF4136;' title='unavailable'></i> model_initial <span class='soft'>(Latenta)</span></li><li><i class='fas fa-minus' style='color:#FF4136;' title='unavailable'></i> model <span class='soft'>(Latenta)</span></li><li><i class='fas fa-minus' style='color:#FF4136;' title='unavailable'></i> transcriptome_observed <span class='soft'>(Latenta)</span></li><li><i class='fas fa-minus' style='color:#FF4136;' title='unavailable'></i> overexpression_observed <span class='soft'>(Latenta)</span></li><li><i class='fas fa-minus' style='color:#FF4136;' title='unavailable'></i> overexpression_causal <span class='soft'>(Latenta)</span></li></ul><ul class='steps'><li>create_model → model_initial</li><li>infer_model → model</li><li>interpret → transcriptome_observed, overexpression_observed, overexpression_causal</li></ul>"
      ],
      "text/plain": [
       "<basic_workflow.LinearModel at 0x7fd0dbfcf6a0>"
      ]
     },
     "execution_count": 29,
     "metadata": {},
     "output_type": "execute_result"
    }
   ],
   "source": [
    "model = basic_workflow.LinearModel()\n",
    "model"
   ]
  },
  {
   "cell_type": "code",
   "execution_count": 30,
   "id": "8f8f6481-f4df-4036-806b-920b1b3e2967",
   "metadata": {
    "execution": {
     "iopub.execute_input": "2021-10-07T12:54:25.791424Z",
     "iopub.status.busy": "2021-10-07T12:54:25.790964Z",
     "iopub.status.idle": "2021-10-07T12:54:32.771253Z",
     "shell.execute_reply": "2021-10-07T12:54:32.771629Z"
    }
   },
   "outputs": [
    {
     "name": "stdout",
     "output_type": "stream",
     "text": [
      "▶️ | linear/create_model                                                                                 \n"
     ]
    },
    {
     "name": "stdout",
     "output_type": "stream",
     "text": [
      "✅ | linear/create_model                                                                                 \n"
     ]
    },
    {
     "name": "stdout",
     "output_type": "stream",
     "text": [
      "▶️ | linear/infer_model                                                                                  \n"
     ]
    },
    {
     "data": {
      "application/vnd.jupyter.widget-view+json": {
       "model_id": "e16bee0cf30e49d1b222399b19633ba0",
       "version_major": 2,
       "version_minor": 0
      },
      "text/plain": [
       "  0%|                                                                                                         …"
      ]
     },
     "metadata": {},
     "output_type": "display_data"
    },
    {
     "name": "stdout",
     "output_type": "stream",
     "text": [
      "✅ | linear/infer_model                                                                                  \n"
     ]
    },
    {
     "data": {
      "text/plain": [
       "<laflow.step.OutputContainer at 0x7fd0e010e8b0>"
      ]
     },
     "execution_count": 30,
     "metadata": {},
     "output_type": "execute_result"
    }
   ],
   "source": [
    "model.infer_model()"
   ]
  },
  {
   "cell_type": "code",
   "execution_count": 31,
   "id": "b6655373-1588-42dd-84fe-c2fb45c22611",
   "metadata": {
    "execution": {
     "iopub.execute_input": "2021-10-07T12:54:32.775195Z",
     "iopub.status.busy": "2021-10-07T12:54:32.774836Z",
     "iopub.status.idle": "2021-10-07T12:54:34.094357Z",
     "shell.execute_reply": "2021-10-07T12:54:34.094766Z"
    }
   },
   "outputs": [
    {
     "name": "stdout",
     "output_type": "stream",
     "text": [
      "▶️ | linear/interpret                                                                                    \n"
     ]
    },
    {
     "data": {
      "application/vnd.jupyter.widget-view+json": {
       "model_id": "a4fe6fe93a3c4a6990ec1913d2ec25a3",
       "version_major": 2,
       "version_minor": 0
      },
      "text/plain": [
       "  0%|          | 0/5 [00:00<?, ?it/s]"
      ]
     },
     "metadata": {},
     "output_type": "display_data"
    },
    {
     "data": {
      "application/vnd.jupyter.widget-view+json": {
       "model_id": "fa5fb9c58dbf477da935cf91ed626484",
       "version_major": 2,
       "version_minor": 0
      },
      "text/plain": [
       "  0%|          | 0/5 [00:00<?, ?it/s]"
      ]
     },
     "metadata": {},
     "output_type": "display_data"
    },
    {
     "data": {
      "application/vnd.jupyter.widget-view+json": {
       "model_id": "88ae243de1864f459cbbbd6fe3f50c4f",
       "version_major": 2,
       "version_minor": 0
      },
      "text/plain": [
       "  0%|          | 0/10 [00:00<?, ?it/s]"
      ]
     },
     "metadata": {},
     "output_type": "display_data"
    },
    {
     "data": {
      "application/vnd.jupyter.widget-view+json": {
       "model_id": "9ada2428715c4d4b8f86497a5e841509",
       "version_major": 2,
       "version_minor": 0
      },
      "text/plain": [
       "  0%|          | 0/10 [00:00<?, ?it/s]"
      ]
     },
     "metadata": {},
     "output_type": "display_data"
    },
    {
     "name": "stdout",
     "output_type": "stream",
     "text": [
      "✅ | linear/interpret                                                                                    \n"
     ]
    },
    {
     "data": {
      "text/plain": [
       "<laflow.step.OutputContainer at 0x7fd21ca5ea30>"
      ]
     },
     "execution_count": 31,
     "metadata": {},
     "output_type": "execute_result"
    }
   ],
   "source": [
    "model.interpret()"
   ]
  },
  {
   "cell_type": "code",
   "execution_count": 32,
   "id": "36c79305-c543-43e8-a18c-e7d7c69e9da6",
   "metadata": {
    "execution": {
     "iopub.execute_input": "2021-10-07T12:54:34.097228Z",
     "iopub.status.busy": "2021-10-07T12:54:34.096782Z",
     "iopub.status.idle": "2021-10-07T12:54:34.119360Z",
     "shell.execute_reply": "2021-10-07T12:54:34.118965Z"
    }
   },
   "outputs": [
    {
     "data": {
      "text/html": [
       "<script src=\"https://cdnjs.cloudflare.com/ajax/libs/require.js/2.3.6/require.js\" integrity=\"sha512-vRqhAr2wsn+/cSsyz80psBbCcqzz2GTuhGk3bq3dAyytz4J/8XwFqMjiAGFBj+WM95lHBJ9cDf87T3P8yMrY7A==\" crossorigin=\"anonymous\" referrerpolicy=\"no-referrer\" id=\"script2718\" onload=\"loaded2718\"></script>\n",
       "<style>\n",
       ".la-flow ul {\n",
       "    margin-top:0;\n",
       "    list-style: none;\n",
       "    padding: 0;\n",
       "    padding-left: 10px !important;\n",
       "}\n",
       ".la-flow li {\n",
       "    padding-left: 10px;\n",
       "}\n",
       ".la-flow .instances li {\n",
       "    border-left: 1px dashed #ccc;\n",
       "}\n",
       ".la-flow .steps li {\n",
       "    border-left: 1px dotted #ccc;\n",
       "}\n",
       ".la-flow .soft {\n",
       "    opacity:0.5;\n",
       "}\n",
       "</style>\n",
       "\n",
       "<script>\n",
       "function loaded2718() {\n",
       "    require.config({\n",
       "    paths: {\n",
       "        'fontawesome': 'https://kit.fontawesome.com/77f7a120e4.js'\n",
       "    }\n",
       "    })\n",
       "\n",
       "    require(['fontawesome'], function (fontawesome) {\n",
       "    console.log('Congrats, Font Awesome is installed using Require.js')\n",
       "    })\n",
       "}\n",
       "</script>\n",
       "\n",
       "\n",
       "\n",
       "        <div class='la-flow'><strong>linear</strong> <span class='soft'>(basic_workflow.LinearModel)</span><ul class='instances'><li><i class='fas fa-check-square' style='color:#2ECC40;' title='available and persistent'></i> dataset <span class='soft'>(FlowLink)</span> → linear/dataset <span class='soft'>(__main__.Dataset)</span></li><li><i class='fas fa-check' style='color:#2ECC40;' title='available but not persistent'></i> model_initial <span class='soft'>(Latenta)</span></li><li><i class='fas fa-check-square' style='color:#2ECC40;' title='available and persistent'></i> model <span class='soft'>(Latenta)</span></li><li><i class='fas fa-check-square' style='color:#2ECC40;' title='available and persistent'></i> transcriptome_observed <span class='soft'>(Latenta)</span></li><li><i class='fas fa-check-square' style='color:#2ECC40;' title='available and persistent'></i> overexpression_observed <span class='soft'>(Latenta)</span></li><li><i class='fas fa-check-square' style='color:#2ECC40;' title='available and persistent'></i> overexpression_causal <span class='soft'>(Latenta)</span></li></ul><ul class='steps'><li>create_model → model_initial</li><li>infer_model → model</li><li>interpret → transcriptome_observed, overexpression_observed, overexpression_causal</li></ul>"
      ],
      "text/plain": [
       "<basic_workflow.LinearModel at 0x7fd0dbfcf6a0>"
      ]
     },
     "execution_count": 32,
     "metadata": {},
     "output_type": "execute_result"
    }
   ],
   "source": [
    "model"
   ]
  },
  {
   "cell_type": "code",
   "execution_count": 33,
   "id": "566e9332-48b4-4d95-8952-452ef61f533b",
   "metadata": {
    "execution": {
     "iopub.execute_input": "2021-10-07T12:54:34.122378Z",
     "iopub.status.busy": "2021-10-07T12:54:34.120734Z",
     "iopub.status.idle": "2021-10-07T12:54:34.814860Z",
     "shell.execute_reply": "2021-10-07T12:54:34.815262Z"
    }
   },
   "outputs": [
    {
     "data": {
      "image/png": "[encoded data removed]",
      "text/plain": [
       "<Figure size 1296x720 with 11 Axes>"
      ]
     },
     "metadata": {
      "needs_background": "light"
     },
     "output_type": "display_data"
    }
   ],
   "source": [
    "model.overexpression_causal.plot_features();"
   ]
  },
  {
   "cell_type": "markdown",
   "id": "3a478745-53a9-4add-9a18-aa683d368671",
   "metadata": {},
   "source": [
    "## Sharing and inheriting workflow steps"
   ]
  },
  {
   "cell_type": "markdown",
   "id": "3bb8fb58-f437-4296-bf33-63fbc4220d91",
   "metadata": {},
   "source": [
    "We defined a basic linear model, but what we actually want is to create many different models and infer/interpret them in the same way. We do this using inheritance: we first create the linear model by using `super().create_model_`, and then make the desired adaptations to the model:"
   ]
  },
  {
   "cell_type": "code",
   "execution_count": 34,
   "id": "dd7f070a-a005-4ab3-91e0-fb18b4137f59",
   "metadata": {
    "execution": {
     "iopub.execute_input": "2021-10-07T12:54:34.818401Z",
     "iopub.status.busy": "2021-10-07T12:54:34.817926Z",
     "iopub.status.idle": "2021-10-07T12:54:34.836147Z",
     "shell.execute_reply": "2021-10-07T12:54:34.836482Z"
    },
    "tags": [
     "remove-output",
     "remove-input"
    ]
   },
   "outputs": [],
   "source": [
    "extended_workflow_text = \"\"\"\n",
    "class ConstantModel(LinearModel):\n",
    "    # we change the default name, as to make sure this model is put in a different folder\n",
    "    default_name = \"constant\"\n",
    "\n",
    "    def create_model(self, output, adata):\n",
    "        # we can access the parent function by adding a \"_\" at the end\n",
    "        # without this, we would call the actual step itself, and not the user-defined function\n",
    "        output = super().create_model_(output = output, adata = adata)\n",
    "        \n",
    "        # extract the model_initial from the output\n",
    "        model_initial = output.model_initial\n",
    "        \n",
    "        # now we can further adapt the model to our wishes\n",
    "        foldchange = model_initial.find(\"foldchange\")\n",
    "        overexpression = model_initial.find(\"overexpression\")\n",
    "\n",
    "        foldchange.overexpression = la.links.scalar.Constant(\n",
    "            overexpression, definition=foldchange.value_definition\n",
    "        )\n",
    "        \n",
    "        # again return the output\n",
    "        # because we only adapted the model inplace, we do not need to update the output\n",
    "        return output\n",
    "\n",
    "\n",
    "class SplineModel(LinearModel):\n",
    "    default_name = \"spline\"\n",
    "\n",
    "    def create_model(self, output, adata):\n",
    "        output = super().create_model_(output = output, adata = adata)\n",
    "        \n",
    "        model_initial = output.model_initial\n",
    "\n",
    "        foldchange = model_initial.find(\"foldchange\")\n",
    "        overexpression = model_initial.find(\"overexpression\")\n",
    "\n",
    "        foldchange.overexpression = la.links.scalar.Spline(\n",
    "            overexpression, definition=foldchange.value_definition\n",
    "        )\n",
    "\n",
    "        return output\n",
    "\"\"\"\n",
    "with open(\"./basic_workflow.py\", \"a\") as f:\n",
    "    f.write(extended_workflow_text)"
   ]
  },
  {
   "cell_type": "code",
   "execution_count": 35,
   "id": "7339d7e6-84cf-491e-84b3-86272fb0ab3e",
   "metadata": {
    "execution": {
     "iopub.execute_input": "2021-10-07T12:54:34.838911Z",
     "iopub.status.busy": "2021-10-07T12:54:34.838544Z",
     "iopub.status.idle": "2021-10-07T12:54:34.883251Z",
     "shell.execute_reply": "2021-10-07T12:54:34.882928Z"
    },
    "tags": [
     "remove-input",
     "remove-output"
    ]
   },
   "outputs": [
    {
     "data": {
      "application/papermill.record/text/markdown": "```python\n\nclass ConstantModel(LinearModel):\n    # we change the default name, as to make sure this model is put in a different folder\n    default_name = \"constant\"\n\n    def create_model(self, output, adata):\n        # we can access the parent function by adding a \"_\" at the end\n        # without this, we would call the actual step itself, and not the user-defined function\n        output = super().create_model_(output = output, adata = adata)\n        \n        # extract the model_initial from the output\n        model_initial = output.model_initial\n        \n        # now we can further adapt the model to our wishes\n        foldchange = model_initial.find(\"foldchange\")\n        overexpression = model_initial.find(\"overexpression\")\n\n        foldchange.overexpression = la.links.scalar.Constant(\n            overexpression, definition=foldchange.value_definition\n        )\n        \n        # again return the output\n        # because we only adapted the model inplace, we do not need to update the output\n        return output\n\n\nclass SplineModel(LinearModel):\n    default_name = \"spline\"\n\n    def create_model(self, output, adata):\n        output = super().create_model_(output = output, adata = adata)\n        \n        model_initial = output.model_initial\n\n        foldchange = model_initial.find(\"foldchange\")\n        overexpression = model_initial.find(\"overexpression\")\n\n        foldchange.overexpression = la.links.scalar.Spline(\n            overexpression, definition=foldchange.value_definition\n        )\n\n        return output\n\n```",
      "application/papermill.record/text/plain": "<IPython.core.display.Markdown object>"
     },
     "metadata": {
      "scrapbook": {
       "mime_prefix": "application/papermill.record/",
       "name": "basic_workflow_2"
      }
     },
     "output_type": "display_data"
    }
   ],
   "source": [
    "# glue the \n",
    "text = extended_workflow_text\n",
    "glue(\"basic_workflow_2\", display.Markdown(\"```python\\n\" + text + \"\\n```\"), display = False)"
   ]
  },
  {
   "cell_type": "markdown",
   "id": "1f88fd78-683c-4ed4-b7bf-c50ef36889da",
   "metadata": {},
   "source": [
    "::::{dropdown} 📃 basic_workflow.py (2)\n",
    ":::{glue:} basic_workflow_2\n",
    ":::\n",
    "::::"
   ]
  },
  {
   "cell_type": "code",
   "execution_count": 36,
   "id": "62ede4b6-a326-4078-87cc-69cd5dc045e8",
   "metadata": {
    "execution": {
     "iopub.execute_input": "2021-10-07T12:54:34.885482Z",
     "iopub.status.busy": "2021-10-07T12:54:34.885121Z",
     "iopub.status.idle": "2021-10-07T12:54:40.613770Z",
     "shell.execute_reply": "2021-10-07T12:54:40.613516Z"
    }
   },
   "outputs": [
    {
     "name": "stdout",
     "output_type": "stream",
     "text": [
      "▶️ | constant/create_model                                                                               \n"
     ]
    },
    {
     "name": "stdout",
     "output_type": "stream",
     "text": [
      "✅ | constant/create_model                                                                               \n"
     ]
    },
    {
     "name": "stdout",
     "output_type": "stream",
     "text": [
      "▶️ | constant/infer_model                                                                                \n"
     ]
    },
    {
     "data": {
      "application/vnd.jupyter.widget-view+json": {
       "model_id": "022676fdba1a4cf5ad29baa418ddbd2a",
       "version_major": 2,
       "version_minor": 0
      },
      "text/plain": [
       "  0%|                                                                                                         …"
      ]
     },
     "metadata": {},
     "output_type": "display_data"
    },
    {
     "name": "stdout",
     "output_type": "stream",
     "text": [
      "✅ | constant/infer_model                                                                                \n"
     ]
    },
    {
     "name": "stdout",
     "output_type": "stream",
     "text": [
      "▶️ | constant/interpret                                                                                  \n"
     ]
    },
    {
     "data": {
      "application/vnd.jupyter.widget-view+json": {
       "model_id": "2bda4f5f5be94e6480fee0368aee2170",
       "version_major": 2,
       "version_minor": 0
      },
      "text/plain": [
       "  0%|          | 0/5 [00:00<?, ?it/s]"
      ]
     },
     "metadata": {},
     "output_type": "display_data"
    },
    {
     "data": {
      "application/vnd.jupyter.widget-view+json": {
       "model_id": "045aaa7abbfd484fbc810d0d7eca3cb6",
       "version_major": 2,
       "version_minor": 0
      },
      "text/plain": [
       "  0%|          | 0/5 [00:00<?, ?it/s]"
      ]
     },
     "metadata": {},
     "output_type": "display_data"
    },
    {
     "data": {
      "application/vnd.jupyter.widget-view+json": {
       "model_id": "81bca5d481e74f42af539ebc7c477994",
       "version_major": 2,
       "version_minor": 0
      },
      "text/plain": [
       "  0%|          | 0/10 [00:00<?, ?it/s]"
      ]
     },
     "metadata": {},
     "output_type": "display_data"
    },
    {
     "data": {
      "application/vnd.jupyter.widget-view+json": {
       "model_id": "e49e93416f51427087b3eaba14e697e7",
       "version_major": 2,
       "version_minor": 0
      },
      "text/plain": [
       "  0%|          | 0/10 [00:00<?, ?it/s]"
      ]
     },
     "metadata": {},
     "output_type": "display_data"
    },
    {
     "name": "stdout",
     "output_type": "stream",
     "text": [
      "✅ | constant/interpret                                                                                  \n"
     ]
    },
    {
     "data": {
      "text/plain": [
       "<laflow.step.OutputContainer at 0x7fd21ca4b3d0>"
      ]
     },
     "execution_count": 36,
     "metadata": {},
     "output_type": "execute_result"
    }
   ],
   "source": [
    "model = basic_workflow.ConstantModel(dataset=dataset)\n",
    "model.create_model()\n",
    "model.infer_model()\n",
    "model.interpret()"
   ]
  },
  {
   "cell_type": "code",
   "execution_count": 37,
   "id": "50b1aa5a-cfb9-431d-bfee-2f3ccd5c9d9a",
   "metadata": {
    "execution": {
     "iopub.execute_input": "2021-10-07T12:54:40.633362Z",
     "iopub.status.busy": "2021-10-07T12:54:40.615570Z",
     "iopub.status.idle": "2021-10-07T12:54:46.757545Z",
     "shell.execute_reply": "2021-10-07T12:54:46.757149Z"
    }
   },
   "outputs": [
    {
     "name": "stdout",
     "output_type": "stream",
     "text": [
      "▶️ | spline/create_model                                                                                 \n"
     ]
    },
    {
     "name": "stdout",
     "output_type": "stream",
     "text": [
      "✅ | spline/create_model                                                                                 \n"
     ]
    },
    {
     "name": "stdout",
     "output_type": "stream",
     "text": [
      "▶️ | spline/infer_model                                                                                  \n"
     ]
    },
    {
     "data": {
      "application/vnd.jupyter.widget-view+json": {
       "model_id": "12847b91cb2e4e97afc7ba11dc7eb1fa",
       "version_major": 2,
       "version_minor": 0
      },
      "text/plain": [
       "  0%|                                                                                                         …"
      ]
     },
     "metadata": {},
     "output_type": "display_data"
    },
    {
     "name": "stdout",
     "output_type": "stream",
     "text": [
      "✅ | spline/infer_model                                                                                  \n"
     ]
    },
    {
     "name": "stdout",
     "output_type": "stream",
     "text": [
      "▶️ | spline/interpret                                                                                    \n"
     ]
    },
    {
     "data": {
      "application/vnd.jupyter.widget-view+json": {
       "model_id": "3b3de32a672b4e21a71210468bc21fe3",
       "version_major": 2,
       "version_minor": 0
      },
      "text/plain": [
       "  0%|          | 0/5 [00:00<?, ?it/s]"
      ]
     },
     "metadata": {},
     "output_type": "display_data"
    },
    {
     "data": {
      "application/vnd.jupyter.widget-view+json": {
       "model_id": "58f9e86196b8413daf282a6d99c94df5",
       "version_major": 2,
       "version_minor": 0
      },
      "text/plain": [
       "  0%|          | 0/5 [00:00<?, ?it/s]"
      ]
     },
     "metadata": {},
     "output_type": "display_data"
    },
    {
     "data": {
      "application/vnd.jupyter.widget-view+json": {
       "model_id": "afa697ca553a4dd39c6cd31b256d7f62",
       "version_major": 2,
       "version_minor": 0
      },
      "text/plain": [
       "  0%|          | 0/10 [00:00<?, ?it/s]"
      ]
     },
     "metadata": {},
     "output_type": "display_data"
    },
    {
     "data": {
      "application/vnd.jupyter.widget-view+json": {
       "model_id": "fc441b91beb14595ba73c86ecd7b47d4",
       "version_major": 2,
       "version_minor": 0
      },
      "text/plain": [
       "  0%|          | 0/10 [00:00<?, ?it/s]"
      ]
     },
     "metadata": {},
     "output_type": "display_data"
    },
    {
     "name": "stdout",
     "output_type": "stream",
     "text": [
      "✅ | spline/interpret                                                                                    \n"
     ]
    },
    {
     "data": {
      "text/plain": [
       "<laflow.step.OutputContainer at 0x7fd215f06700>"
      ]
     },
     "execution_count": 37,
     "metadata": {},
     "output_type": "execute_result"
    }
   ],
   "source": [
    "model = basic_workflow.SplineModel(dataset=dataset)\n",
    "model.create_model()\n",
    "model.infer_model()\n",
    "model.interpret()"
   ]
  },
  {
   "cell_type": "markdown",
   "id": "4b7f17f6-800d-4a3a-8af3-ca6bdde2fce0",
   "metadata": {},
   "source": [
    ":::{seealso}\n",
    "_lacell_ contains different pre-built workflows for particular use cases. For example, {class}`~lacell.transcriptome.TranscriptomeDataset` and {class}`~lacell.transcriptome.TranscriptomeModel` already contain a blueprint on how to efficiently store and infer transcriptomics models. See \"[](/guide/transcriptomics/transcriptome_model)\" for an explanation.\n",
    ":::\n"
   ]
  },
  {
   "cell_type": "code",
   "execution_count": null,
   "id": "945122c9-8660-405d-a624-72b08bd1ea39",
   "metadata": {},
   "outputs": [],
   "source": []
  }
 ],
 "metadata": {
  "jupytext": {
   "encoding": "# -*- coding: utf-8 -*-",
   "formats": "ipynb,py:percent"
  },
  "kernelspec": {
   "display_name": "Python 3 (ipykernel)",
   "language": "python",
   "name": "python3"
  },
  "language_info": {
   "codemirror_mode": {
    "name": "ipython",
    "version": 3
   },
   "file_extension": ".py",
   "mimetype": "text/x-python",
   "name": "python",
   "nbconvert_exporter": "python",
   "pygments_lexer": "ipython3",
   "version": "3.8.10"
  },
  "widgets": {
   "application/vnd.jupyter.widget-state+json": {
    "state": {
     "01fc24ce268b40269f9a9dbd0ef76f8e": {
      "model_module": "@jupyter-widgets/controls",
      "model_module_version": "1.5.0",
      "model_name": "ProgressStyleModel",
      "state": {
       "_model_module": "@jupyter-widgets/controls",
       "_model_module_version": "1.5.0",
       "_model_name": "ProgressStyleModel",
       "_view_count": null,
       "_view_module": "@jupyter-widgets/base",
       "_view_module_version": "1.2.0",
       "_view_name": "StyleView",
       "bar_color": null,
       "description_width": ""
      }
     },
     "022676fdba1a4cf5ad29baa418ddbd2a": {
      "model_module": "@jupyter-widgets/controls",
      "model_module_version": "1.5.0",
      "model_name": "HBoxModel",
      "state": {
       "_dom_classes": [],
       "_model_module": "@jupyter-widgets/controls",
       "_model_module_version": "1.5.0",
       "_model_name": "HBoxModel",
       "_view_count": null,
       "_view_module": "@jupyter-widgets/controls",
       "_view_module_version": "1.5.0",
       "_view_name": "HBoxView",
       "box_style": "",
       "children": [
        "IPY_MODEL_4a5ea3cc5e574878b20202d7086954a8",
        "IPY_MODEL_e5b32d5a429f4081b32143022809d804",
        "IPY_MODEL_023504e8d2bb458dbd9e0861c78d93de"
       ],
       "layout": "IPY_MODEL_2c35010f6b234cd59ad532a786d35bca"
      }
     },
     "023504e8d2bb458dbd9e0861c78d93de": {
      "model_module": "@jupyter-widgets/controls",
      "model_module_version": "1.5.0",
      "model_name": "HTMLModel",
      "state": {
       "_dom_classes": [],
       "_model_module": "@jupyter-widgets/controls",
       "_model_module_version": "1.5.0",
       "_model_name": "HTMLModel",
       "_view_count": null,
       "_view_module": "@jupyter-widgets/controls",
       "_view_module_version": "1.5.0",
       "_view_name": "HTMLView",
       "description": "",
       "description_tooltip": null,
       "layout": "IPY_MODEL_b1f4cc91099241aeb6e6b4700b26ce99",
       "placeholder": "​",
       "style": "IPY_MODEL_279716743f60469d9ce5483890b527d5",
       "value": " 672/672 [00:04&lt;00:00, 166.85it/s]"
      }
     },
     "0459f24ecd48449ab69623762ea2e31a": {
      "model_module": "@jupyter-widgets/controls",
      "model_module_version": "1.5.0",
      "model_name": "HTMLModel",
      "state": {
       "_dom_classes": [],
       "_model_module": "@jupyter-widgets/controls",
       "_model_module_version": "1.5.0",
       "_model_name": "HTMLModel",
       "_view_count": null,
       "_view_module": "@jupyter-widgets/controls",
       "_view_module_version": "1.5.0",
       "_view_name": "HTMLView",
       "description": "",
       "description_tooltip": null,
       "layout": "IPY_MODEL_5ef7c719772e4ee0b575b77ad1520053",
       "placeholder": "​",
       "style": "IPY_MODEL_ccff4dd4040b45adb57903e4e5f3d98a",
       "value": "100%"
      }
     },
     "045aaa7abbfd484fbc810d0d7eca3cb6": {
      "model_module": "@jupyter-widgets/controls",
      "model_module_version": "1.5.0",
      "model_name": "HBoxModel",
      "state": {
       "_dom_classes": [],
       "_model_module": "@jupyter-widgets/controls",
       "_model_module_version": "1.5.0",
       "_model_name": "HBoxModel",
       "_view_count": null,
       "_view_module": "@jupyter-widgets/controls",
       "_view_module_version": "1.5.0",
       "_view_name": "HBoxView",
       "box_style": "",
       "children": [
        "IPY_MODEL_14925ea197704321b6829d9d08a31407",
        "IPY_MODEL_c355779bc60743529d5916a812323017",
        "IPY_MODEL_c414261b45ac45878645f9ec3908e3fe"
       ],
       "layout": "IPY_MODEL_0b846fd0097744a9852f6162d235a94b"
      }
     },
     "05e6c0d617134dc5928fd180236f2c61": {
      "model_module": "@jupyter-widgets/base",
      "model_module_version": "1.2.0",
      "model_name": "LayoutModel",
      "state": {
       "_model_module": "@jupyter-widgets/base",
       "_model_module_version": "1.2.0",
       "_model_name": "LayoutModel",
       "_view_count": null,
       "_view_module": "@jupyter-widgets/base",
       "_view_module_version": "1.2.0",
       "_view_name": "LayoutView",
       "align_content": null,
       "align_items": null,
       "align_self": null,
       "border": null,
       "bottom": null,
       "display": null,
       "flex": null,
       "flex_flow": null,
       "grid_area": null,
       "grid_auto_columns": null,
       "grid_auto_flow": null,
       "grid_auto_rows": null,
       "grid_column": null,
       "grid_gap": null,
       "grid_row": null,
       "grid_template_areas": null,
       "grid_template_columns": null,
       "grid_template_rows": null,
       "height": null,
       "justify_content": null,
       "justify_items": null,
       "left": null,
       "margin": null,
       "max_height": null,
       "max_width": null,
       "min_height": null,
       "min_width": null,
       "object_fit": null,
       "object_position": null,
       "order": null,
       "overflow": null,
       "overflow_x": null,
       "overflow_y": null,
       "padding": null,
       "right": null,
       "top": null,
       "visibility": null,
       "width": null
      }
     },
     "0822861635544ee4835d23d46523e762": {
      "model_module": "@jupyter-widgets/controls",
      "model_module_version": "1.5.0",
      "model_name": "FloatProgressModel",
      "state": {
       "_dom_classes": [],
       "_model_module": "@jupyter-widgets/controls",
       "_model_module_version": "1.5.0",
       "_model_name": "FloatProgressModel",
       "_view_count": null,
       "_view_module": "@jupyter-widgets/controls",
       "_view_module_version": "1.5.0",
       "_view_name": "ProgressView",
       "bar_style": "success",
       "description": "",
       "description_tooltip": null,
       "layout": "IPY_MODEL_61cafcf90a3c41268f80bdc9ff22b614",
       "max": 10.0,
       "min": 0.0,
       "orientation": "horizontal",
       "style": "IPY_MODEL_599be55f12074b98aa885244eeca6f43",
       "value": 10.0
      }
     },
     "097b94deba654859ad43653f0329b859": {
      "model_module": "@jupyter-widgets/controls",
      "model_module_version": "1.5.0",
      "model_name": "ProgressStyleModel",
      "state": {
       "_model_module": "@jupyter-widgets/controls",
       "_model_module_version": "1.5.0",
       "_model_name": "ProgressStyleModel",
       "_view_count": null,
       "_view_module": "@jupyter-widgets/base",
       "_view_module_version": "1.2.0",
       "_view_name": "StyleView",
       "bar_color": null,
       "description_width": ""
      }
     },
     "0b846fd0097744a9852f6162d235a94b": {
      "model_module": "@jupyter-widgets/base",
      "model_module_version": "1.2.0",
      "model_name": "LayoutModel",
      "state": {
       "_model_module": "@jupyter-widgets/base",
       "_model_module_version": "1.2.0",
       "_model_name": "LayoutModel",
       "_view_count": null,
       "_view_module": "@jupyter-widgets/base",
       "_view_module_version": "1.2.0",
       "_view_name": "LayoutView",
       "align_content": null,
       "align_items": null,
       "align_self": null,
       "border": null,
       "bottom": null,
       "display": null,
       "flex": null,
       "flex_flow": null,
       "grid_area": null,
       "grid_auto_columns": null,
       "grid_auto_flow": null,
       "grid_auto_rows": null,
       "grid_column": null,
       "grid_gap": null,
       "grid_row": null,
       "grid_template_areas": null,
       "grid_template_columns": null,
       "grid_template_rows": null,
       "height": null,
       "justify_content": null,
       "justify_items": null,
       "left": null,
       "margin": null,
       "max_height": null,
       "max_width": null,
       "min_height": null,
       "min_width": null,
       "object_fit": null,
       "object_position": null,
       "order": null,
       "overflow": null,
       "overflow_x": null,
       "overflow_y": null,
       "padding": null,
       "right": null,
       "top": null,
       "visibility": null,
       "width": null
      }
     },
     "0e5ca81c62ac4d6da4f03bf6546af9fc": {
      "model_module": "@jupyter-widgets/base",
      "model_module_version": "1.2.0",
      "model_name": "LayoutModel",
      "state": {
       "_model_module": "@jupyter-widgets/base",
       "_model_module_version": "1.2.0",
       "_model_name": "LayoutModel",
       "_view_count": null,
       "_view_module": "@jupyter-widgets/base",
       "_view_module_version": "1.2.0",
       "_view_name": "LayoutView",
       "align_content": null,
       "align_items": null,
       "align_self": null,
       "border": null,
       "bottom": null,
       "display": null,
       "flex": null,
       "flex_flow": null,
       "grid_area": null,
       "grid_auto_columns": null,
       "grid_auto_flow": null,
       "grid_auto_rows": null,
       "grid_column": null,
       "grid_gap": null,
       "grid_row": null,
       "grid_template_areas": null,
       "grid_template_columns": null,
       "grid_template_rows": null,
       "height": null,
       "justify_content": null,
       "justify_items": null,
       "left": null,
       "margin": null,
       "max_height": null,
       "max_width": null,
       "min_height": null,
       "min_width": null,
       "object_fit": null,
       "object_position": null,
       "order": null,
       "overflow": null,
       "overflow_x": null,
       "overflow_y": null,
       "padding": null,
       "right": null,
       "top": null,
       "visibility": null,
       "width": null
      }
     },
     "11c22416ccf54262975ca176ec06c85a": {
      "model_module": "@jupyter-widgets/controls",
      "model_module_version": "1.5.0",
      "model_name": "DescriptionStyleModel",
      "state": {
       "_model_module": "@jupyter-widgets/controls",
       "_model_module_version": "1.5.0",
       "_model_name": "DescriptionStyleModel",
       "_view_count": null,
       "_view_module": "@jupyter-widgets/base",
       "_view_module_version": "1.2.0",
       "_view_name": "StyleView",
       "description_width": ""
      }
     },
     "12574991f1b346ddabe862fa38921738": {
      "model_module": "@jupyter-widgets/controls",
      "model_module_version": "1.5.0",
      "model_name": "HTMLModel",
      "state": {
       "_dom_classes": [],
       "_model_module": "@jupyter-widgets/controls",
       "_model_module_version": "1.5.0",
       "_model_name": "HTMLModel",
       "_view_count": null,
       "_view_module": "@jupyter-widgets/controls",
       "_view_module_version": "1.5.0",
       "_view_name": "HTMLView",
       "description": "",
       "description_tooltip": null,
       "layout": "IPY_MODEL_fd9748a8135041ab88af4e0408b456d8",
       "placeholder": "​",
       "style": "IPY_MODEL_a1b7626907704700a73983316fa0b97d",
       "value": "100%"
      }
     },
     "12847b91cb2e4e97afc7ba11dc7eb1fa": {
      "model_module": "@jupyter-widgets/controls",
      "model_module_version": "1.5.0",
      "model_name": "HBoxModel",
      "state": {
       "_dom_classes": [],
       "_model_module": "@jupyter-widgets/controls",
       "_model_module_version": "1.5.0",
       "_model_name": "HBoxModel",
       "_view_count": null,
       "_view_module": "@jupyter-widgets/controls",
       "_view_module_version": "1.5.0",
       "_view_name": "HBoxView",
       "box_style": "",
       "children": [
        "IPY_MODEL_ed3a95ac53994402a7510c71c1876d62",
        "IPY_MODEL_43f1ae9af02447e49ca2568748212a1f",
        "IPY_MODEL_3fc434517cfc48c0a604bea6f746f7c7"
       ],
       "layout": "IPY_MODEL_d3473baedf5e45dc8cfd03cbd70e1987"
      }
     },
     "12d0014c6df94acea38071bf96a37017": {
      "model_module": "@jupyter-widgets/controls",
      "model_module_version": "1.5.0",
      "model_name": "DescriptionStyleModel",
      "state": {
       "_model_module": "@jupyter-widgets/controls",
       "_model_module_version": "1.5.0",
       "_model_name": "DescriptionStyleModel",
       "_view_count": null,
       "_view_module": "@jupyter-widgets/base",
       "_view_module_version": "1.2.0",
       "_view_name": "StyleView",
       "description_width": ""
      }
     },
     "14925ea197704321b6829d9d08a31407": {
      "model_module": "@jupyter-widgets/controls",
      "model_module_version": "1.5.0",
      "model_name": "HTMLModel",
      "state": {
       "_dom_classes": [],
       "_model_module": "@jupyter-widgets/controls",
       "_model_module_version": "1.5.0",
       "_model_name": "HTMLModel",
       "_view_count": null,
       "_view_module": "@jupyter-widgets/controls",
       "_view_module_version": "1.5.0",
       "_view_name": "HTMLView",
       "description": "",
       "description_tooltip": null,
       "layout": "IPY_MODEL_bf908d5134fb4c4983b29ce3b88897b4",
       "placeholder": "​",
       "style": "IPY_MODEL_f2daaee38fa84d88a53edfd804c34179",
       "value": "100%"
      }
     },
     "15ca51884e0c42c3968daa1cc1541d24": {
      "model_module": "@jupyter-widgets/base",
      "model_module_version": "1.2.0",
      "model_name": "LayoutModel",
      "state": {
       "_model_module": "@jupyter-widgets/base",
       "_model_module_version": "1.2.0",
       "_model_name": "LayoutModel",
       "_view_count": null,
       "_view_module": "@jupyter-widgets/base",
       "_view_module_version": "1.2.0",
       "_view_name": "LayoutView",
       "align_content": null,
       "align_items": null,
       "align_self": null,
       "border": null,
       "bottom": null,
       "display": null,
       "flex": null,
       "flex_flow": null,
       "grid_area": null,
       "grid_auto_columns": null,
       "grid_auto_flow": null,
       "grid_auto_rows": null,
       "grid_column": null,
       "grid_gap": null,
       "grid_row": null,
       "grid_template_areas": null,
       "grid_template_columns": null,
       "grid_template_rows": null,
       "height": null,
       "justify_content": null,
       "justify_items": null,
       "left": null,
       "margin": null,
       "max_height": null,
       "max_width": null,
       "min_height": null,
       "min_width": null,
       "object_fit": null,
       "object_position": null,
       "order": null,
       "overflow": null,
       "overflow_x": null,
       "overflow_y": null,
       "padding": null,
       "right": null,
       "top": null,
       "visibility": null,
       "width": null
      }
     },
     "15fde8c358794a139e6d610ea01d88da": {
      "model_module": "@jupyter-widgets/controls",
      "model_module_version": "1.5.0",
      "model_name": "HTMLModel",
      "state": {
       "_dom_classes": [],
       "_model_module": "@jupyter-widgets/controls",
       "_model_module_version": "1.5.0",
       "_model_name": "HTMLModel",
       "_view_count": null,
       "_view_module": "@jupyter-widgets/controls",
       "_view_module_version": "1.5.0",
       "_view_name": "HTMLView",
       "description": "",
       "description_tooltip": null,
       "layout": "IPY_MODEL_d82737d1df0648c9a91ad8e791682474",
       "placeholder": "​",
       "style": "IPY_MODEL_4616cb8e795e49bfbb35ea83e43a8b36",
       "value": "100%"
      }
     },
     "1757033a2d1042258639f8109e984bf9": {
      "model_module": "@jupyter-widgets/base",
      "model_module_version": "1.2.0",
      "model_name": "LayoutModel",
      "state": {
       "_model_module": "@jupyter-widgets/base",
       "_model_module_version": "1.2.0",
       "_model_name": "LayoutModel",
       "_view_count": null,
       "_view_module": "@jupyter-widgets/base",
       "_view_module_version": "1.2.0",
       "_view_name": "LayoutView",
       "align_content": null,
       "align_items": null,
       "align_self": null,
       "border": null,
       "bottom": null,
       "display": null,
       "flex": null,
       "flex_flow": null,
       "grid_area": null,
       "grid_auto_columns": null,
       "grid_auto_flow": null,
       "grid_auto_rows": null,
       "grid_column": null,
       "grid_gap": null,
       "grid_row": null,
       "grid_template_areas": null,
       "grid_template_columns": null,
       "grid_template_rows": null,
       "height": null,
       "justify_content": null,
       "justify_items": null,
       "left": null,
       "margin": null,
       "max_height": null,
       "max_width": null,
       "min_height": null,
       "min_width": null,
       "object_fit": null,
       "object_position": null,
       "order": null,
       "overflow": null,
       "overflow_x": null,
       "overflow_y": null,
       "padding": null,
       "right": null,
       "top": null,
       "visibility": null,
       "width": null
      }
     },
     "18173483492e4ec4914d73c55916a64e": {
      "model_module": "@jupyter-widgets/base",
      "model_module_version": "1.2.0",
      "model_name": "LayoutModel",
      "state": {
       "_model_module": "@jupyter-widgets/base",
       "_model_module_version": "1.2.0",
       "_model_name": "LayoutModel",
       "_view_count": null,
       "_view_module": "@jupyter-widgets/base",
       "_view_module_version": "1.2.0",
       "_view_name": "LayoutView",
       "align_content": null,
       "align_items": null,
       "align_self": null,
       "border": null,
       "bottom": null,
       "display": null,
       "flex": null,
       "flex_flow": null,
       "grid_area": null,
       "grid_auto_columns": null,
       "grid_auto_flow": null,
       "grid_auto_rows": null,
       "grid_column": null,
       "grid_gap": null,
       "grid_row": null,
       "grid_template_areas": null,
       "grid_template_columns": null,
       "grid_template_rows": null,
       "height": null,
       "justify_content": null,
       "justify_items": null,
       "left": null,
       "margin": null,
       "max_height": null,
       "max_width": null,
       "min_height": null,
       "min_width": null,
       "object_fit": null,
       "object_position": null,
       "order": null,
       "overflow": null,
       "overflow_x": null,
       "overflow_y": null,
       "padding": null,
       "right": null,
       "top": null,
       "visibility": null,
       "width": null
      }
     },
     "1a7fd6d7ef4d4641a8660f44fe40b8cc": {
      "model_module": "@jupyter-widgets/base",
      "model_module_version": "1.2.0",
      "model_name": "LayoutModel",
      "state": {
       "_model_module": "@jupyter-widgets/base",
       "_model_module_version": "1.2.0",
       "_model_name": "LayoutModel",
       "_view_count": null,
       "_view_module": "@jupyter-widgets/base",
       "_view_module_version": "1.2.0",
       "_view_name": "LayoutView",
       "align_content": null,
       "align_items": null,
       "align_self": null,
       "border": null,
       "bottom": null,
       "display": null,
       "flex": null,
       "flex_flow": null,
       "grid_area": null,
       "grid_auto_columns": null,
       "grid_auto_flow": null,
       "grid_auto_rows": null,
       "grid_column": null,
       "grid_gap": null,
       "grid_row": null,
       "grid_template_areas": null,
       "grid_template_columns": null,
       "grid_template_rows": null,
       "height": null,
       "justify_content": null,
       "justify_items": null,
       "left": null,
       "margin": null,
       "max_height": null,
       "max_width": null,
       "min_height": null,
       "min_width": null,
       "object_fit": null,
       "object_position": null,
       "order": null,
       "overflow": null,
       "overflow_x": null,
       "overflow_y": null,
       "padding": null,
       "right": null,
       "top": null,
       "visibility": null,
       "width": null
      }
     },
     "1be9e710b36743f0be7f01ccb178e7f0": {
      "model_module": "@jupyter-widgets/controls",
      "model_module_version": "1.5.0",
      "model_name": "ProgressStyleModel",
      "state": {
       "_model_module": "@jupyter-widgets/controls",
       "_model_module_version": "1.5.0",
       "_model_name": "ProgressStyleModel",
       "_view_count": null,
       "_view_module": "@jupyter-widgets/base",
       "_view_module_version": "1.2.0",
       "_view_name": "StyleView",
       "bar_color": null,
       "description_width": ""
      }
     },
     "1f387db12d1b42c2ac056ec285b401b0": {
      "model_module": "@jupyter-widgets/controls",
      "model_module_version": "1.5.0",
      "model_name": "DescriptionStyleModel",
      "state": {
       "_model_module": "@jupyter-widgets/controls",
       "_model_module_version": "1.5.0",
       "_model_name": "DescriptionStyleModel",
       "_view_count": null,
       "_view_module": "@jupyter-widgets/base",
       "_view_module_version": "1.2.0",
       "_view_name": "StyleView",
       "description_width": ""
      }
     },
     "21e4e1fc3f4e4888b398567356467717": {
      "model_module": "@jupyter-widgets/controls",
      "model_module_version": "1.5.0",
      "model_name": "ProgressStyleModel",
      "state": {
       "_model_module": "@jupyter-widgets/controls",
       "_model_module_version": "1.5.0",
       "_model_name": "ProgressStyleModel",
       "_view_count": null,
       "_view_module": "@jupyter-widgets/base",
       "_view_module_version": "1.2.0",
       "_view_name": "StyleView",
       "bar_color": null,
       "description_width": ""
      }
     },
     "235a2d5f7e0a44f3aa6300ae44d5b538": {
      "model_module": "@jupyter-widgets/base",
      "model_module_version": "1.2.0",
      "model_name": "LayoutModel",
      "state": {
       "_model_module": "@jupyter-widgets/base",
       "_model_module_version": "1.2.0",
       "_model_name": "LayoutModel",
       "_view_count": null,
       "_view_module": "@jupyter-widgets/base",
       "_view_module_version": "1.2.0",
       "_view_name": "LayoutView",
       "align_content": null,
       "align_items": null,
       "align_self": null,
       "border": null,
       "bottom": null,
       "display": null,
       "flex": null,
       "flex_flow": null,
       "grid_area": null,
       "grid_auto_columns": null,
       "grid_auto_flow": null,
       "grid_auto_rows": null,
       "grid_column": null,
       "grid_gap": null,
       "grid_row": null,
       "grid_template_areas": null,
       "grid_template_columns": null,
       "grid_template_rows": null,
       "height": null,
       "justify_content": null,
       "justify_items": null,
       "left": null,
       "margin": null,
       "max_height": null,
       "max_width": null,
       "min_height": null,
       "min_width": null,
       "object_fit": null,
       "object_position": null,
       "order": null,
       "overflow": null,
       "overflow_x": null,
       "overflow_y": null,
       "padding": null,
       "right": null,
       "top": null,
       "visibility": null,
       "width": null
      }
     },
     "24d249ddccd14f14a235d514891bef59": {
      "model_module": "@jupyter-widgets/controls",
      "model_module_version": "1.5.0",
      "model_name": "HTMLModel",
      "state": {
       "_dom_classes": [],
       "_model_module": "@jupyter-widgets/controls",
       "_model_module_version": "1.5.0",
       "_model_name": "HTMLModel",
       "_view_count": null,
       "_view_module": "@jupyter-widgets/controls",
       "_view_module_version": "1.5.0",
       "_view_name": "HTMLView",
       "description": "",
       "description_tooltip": null,
       "layout": "IPY_MODEL_6988d796533049af997e5277fdcbf592",
       "placeholder": "​",
       "style": "IPY_MODEL_9715a1115b4d43ccae0e691fca39d3f8",
       "value": " 5/5 [00:00&lt;00:00, 14.25it/s]"
      }
     },
     "2733f2335443408f994867ca83270ac0": {
      "model_module": "@jupyter-widgets/controls",
      "model_module_version": "1.5.0",
      "model_name": "HTMLModel",
      "state": {
       "_dom_classes": [],
       "_model_module": "@jupyter-widgets/controls",
       "_model_module_version": "1.5.0",
       "_model_name": "HTMLModel",
       "_view_count": null,
       "_view_module": "@jupyter-widgets/controls",
       "_view_module_version": "1.5.0",
       "_view_name": "HTMLView",
       "description": "",
       "description_tooltip": null,
       "layout": "IPY_MODEL_f55ea75c247a4fbfb7db3cc4a72a85d4",
       "placeholder": "​",
       "style": "IPY_MODEL_57718b76d8a847a6be99040626cc9be8",
       "value": "100%"
      }
     },
     "279716743f60469d9ce5483890b527d5": {
      "model_module": "@jupyter-widgets/controls",
      "model_module_version": "1.5.0",
      "model_name": "DescriptionStyleModel",
      "state": {
       "_model_module": "@jupyter-widgets/controls",
       "_model_module_version": "1.5.0",
       "_model_name": "DescriptionStyleModel",
       "_view_count": null,
       "_view_module": "@jupyter-widgets/base",
       "_view_module_version": "1.2.0",
       "_view_name": "StyleView",
       "description_width": ""
      }
     },
     "27edb2cf18e64ebc80bff41fb80086e7": {
      "model_module": "@jupyter-widgets/controls",
      "model_module_version": "1.5.0",
      "model_name": "FloatProgressModel",
      "state": {
       "_dom_classes": [],
       "_model_module": "@jupyter-widgets/controls",
       "_model_module_version": "1.5.0",
       "_model_name": "FloatProgressModel",
       "_view_count": null,
       "_view_module": "@jupyter-widgets/controls",
       "_view_module_version": "1.5.0",
       "_view_name": "ProgressView",
       "bar_style": "success",
       "description": "",
       "description_tooltip": null,
       "layout": "IPY_MODEL_484700204496458e850f51da02482d74",
       "max": 10.0,
       "min": 0.0,
       "orientation": "horizontal",
       "style": "IPY_MODEL_d01b4979a80e47d1a1f0ca9ea7284e41",
       "value": 10.0
      }
     },
     "283abe32d72b421abf924ca3dea4ba00": {
      "model_module": "@jupyter-widgets/base",
      "model_module_version": "1.2.0",
      "model_name": "LayoutModel",
      "state": {
       "_model_module": "@jupyter-widgets/base",
       "_model_module_version": "1.2.0",
       "_model_name": "LayoutModel",
       "_view_count": null,
       "_view_module": "@jupyter-widgets/base",
       "_view_module_version": "1.2.0",
       "_view_name": "LayoutView",
       "align_content": null,
       "align_items": null,
       "align_self": null,
       "border": null,
       "bottom": null,
       "display": null,
       "flex": null,
       "flex_flow": null,
       "grid_area": null,
       "grid_auto_columns": null,
       "grid_auto_flow": null,
       "grid_auto_rows": null,
       "grid_column": null,
       "grid_gap": null,
       "grid_row": null,
       "grid_template_areas": null,
       "grid_template_columns": null,
       "grid_template_rows": null,
       "height": null,
       "justify_content": null,
       "justify_items": null,
       "left": null,
       "margin": null,
       "max_height": null,
       "max_width": null,
       "min_height": null,
       "min_width": null,
       "object_fit": null,
       "object_position": null,
       "order": null,
       "overflow": null,
       "overflow_x": null,
       "overflow_y": null,
       "padding": null,
       "right": null,
       "top": null,
       "visibility": null,
       "width": null
      }
     },
     "2a4862dfe6e9436cb0023f9681892eda": {
      "model_module": "@jupyter-widgets/controls",
      "model_module_version": "1.5.0",
      "model_name": "DescriptionStyleModel",
      "state": {
       "_model_module": "@jupyter-widgets/controls",
       "_model_module_version": "1.5.0",
       "_model_name": "DescriptionStyleModel",
       "_view_count": null,
       "_view_module": "@jupyter-widgets/base",
       "_view_module_version": "1.2.0",
       "_view_name": "StyleView",
       "description_width": ""
      }
     },
     "2b6dfbcc48c5435cb0f49c2c9e8a35b8": {
      "model_module": "@jupyter-widgets/controls",
      "model_module_version": "1.5.0",
      "model_name": "ProgressStyleModel",
      "state": {
       "_model_module": "@jupyter-widgets/controls",
       "_model_module_version": "1.5.0",
       "_model_name": "ProgressStyleModel",
       "_view_count": null,
       "_view_module": "@jupyter-widgets/base",
       "_view_module_version": "1.2.0",
       "_view_name": "StyleView",
       "bar_color": null,
       "description_width": ""
      }
     },
     "2bda4f5f5be94e6480fee0368aee2170": {
      "model_module": "@jupyter-widgets/controls",
      "model_module_version": "1.5.0",
      "model_name": "HBoxModel",
      "state": {
       "_dom_classes": [],
       "_model_module": "@jupyter-widgets/controls",
       "_model_module_version": "1.5.0",
       "_model_name": "HBoxModel",
       "_view_count": null,
       "_view_module": "@jupyter-widgets/controls",
       "_view_module_version": "1.5.0",
       "_view_name": "HBoxView",
       "box_style": "",
       "children": [
        "IPY_MODEL_0459f24ecd48449ab69623762ea2e31a",
        "IPY_MODEL_e6268dfea7d641099cddec90435fccbb",
        "IPY_MODEL_736b52e2c1034f64865602dbed5c31fc"
       ],
       "layout": "IPY_MODEL_bf749672c0264eb0ac58c588041ed4ff"
      }
     },
     "2c35010f6b234cd59ad532a786d35bca": {
      "model_module": "@jupyter-widgets/base",
      "model_module_version": "1.2.0",
      "model_name": "LayoutModel",
      "state": {
       "_model_module": "@jupyter-widgets/base",
       "_model_module_version": "1.2.0",
       "_model_name": "LayoutModel",
       "_view_count": null,
       "_view_module": "@jupyter-widgets/base",
       "_view_module_version": "1.2.0",
       "_view_name": "LayoutView",
       "align_content": null,
       "align_items": null,
       "align_self": null,
       "border": null,
       "bottom": null,
       "display": "inline-flex",
       "flex": null,
       "flex_flow": "row wrap",
       "grid_area": null,
       "grid_auto_columns": null,
       "grid_auto_flow": null,
       "grid_auto_rows": null,
       "grid_column": null,
       "grid_gap": null,
       "grid_row": null,
       "grid_template_areas": null,
       "grid_template_columns": null,
       "grid_template_rows": null,
       "height": null,
       "justify_content": null,
       "justify_items": null,
       "left": null,
       "margin": null,
       "max_height": null,
       "max_width": null,
       "min_height": null,
       "min_width": null,
       "object_fit": null,
       "object_position": null,
       "order": null,
       "overflow": null,
       "overflow_x": null,
       "overflow_y": null,
       "padding": null,
       "right": null,
       "top": null,
       "visibility": null,
       "width": "1000px"
      }
     },
     "2e05a9df72fd438bb63e5cf5d6701633": {
      "model_module": "@jupyter-widgets/controls",
      "model_module_version": "1.5.0",
      "model_name": "DescriptionStyleModel",
      "state": {
       "_model_module": "@jupyter-widgets/controls",
       "_model_module_version": "1.5.0",
       "_model_name": "DescriptionStyleModel",
       "_view_count": null,
       "_view_module": "@jupyter-widgets/base",
       "_view_module_version": "1.2.0",
       "_view_name": "StyleView",
       "description_width": ""
      }
     },
     "3502055a82254c4ba9d58fcc22ed565a": {
      "model_module": "@jupyter-widgets/controls",
      "model_module_version": "1.5.0",
      "model_name": "FloatProgressModel",
      "state": {
       "_dom_classes": [],
       "_model_module": "@jupyter-widgets/controls",
       "_model_module_version": "1.5.0",
       "_model_name": "FloatProgressModel",
       "_view_count": null,
       "_view_module": "@jupyter-widgets/controls",
       "_view_module_version": "1.5.0",
       "_view_name": "ProgressView",
       "bar_style": "success",
       "description": "",
       "description_tooltip": null,
       "layout": "IPY_MODEL_8ed92325a700495da043206c4014bec9",
       "max": 5.0,
       "min": 0.0,
       "orientation": "horizontal",
       "style": "IPY_MODEL_1be9e710b36743f0be7f01ccb178e7f0",
       "value": 5.0
      }
     },
     "35ead72960974c5dac68c204d081e9b7": {
      "model_module": "@jupyter-widgets/controls",
      "model_module_version": "1.5.0",
      "model_name": "FloatProgressModel",
      "state": {
       "_dom_classes": [],
       "_model_module": "@jupyter-widgets/controls",
       "_model_module_version": "1.5.0",
       "_model_name": "FloatProgressModel",
       "_view_count": null,
       "_view_module": "@jupyter-widgets/controls",
       "_view_module_version": "1.5.0",
       "_view_name": "ProgressView",
       "bar_style": "success",
       "description": "",
       "description_tooltip": null,
       "layout": "IPY_MODEL_95fb079d7e8644a98a20610a20bd1c36",
       "max": 10.0,
       "min": 0.0,
       "orientation": "horizontal",
       "style": "IPY_MODEL_2b6dfbcc48c5435cb0f49c2c9e8a35b8",
       "value": 10.0
      }
     },
     "36e7173480764e40abda0b28c6f936e3": {
      "model_module": "@jupyter-widgets/controls",
      "model_module_version": "1.5.0",
      "model_name": "ProgressStyleModel",
      "state": {
       "_model_module": "@jupyter-widgets/controls",
       "_model_module_version": "1.5.0",
       "_model_name": "ProgressStyleModel",
       "_view_count": null,
       "_view_module": "@jupyter-widgets/base",
       "_view_module_version": "1.2.0",
       "_view_name": "StyleView",
       "bar_color": null,
       "description_width": ""
      }
     },
     "38219d2d61c447b6915fc914ff8ce411": {
      "model_module": "@jupyter-widgets/base",
      "model_module_version": "1.2.0",
      "model_name": "LayoutModel",
      "state": {
       "_model_module": "@jupyter-widgets/base",
       "_model_module_version": "1.2.0",
       "_model_name": "LayoutModel",
       "_view_count": null,
       "_view_module": "@jupyter-widgets/base",
       "_view_module_version": "1.2.0",
       "_view_name": "LayoutView",
       "align_content": null,
       "align_items": null,
       "align_self": null,
       "border": null,
       "bottom": null,
       "display": null,
       "flex": null,
       "flex_flow": null,
       "grid_area": null,
       "grid_auto_columns": null,
       "grid_auto_flow": null,
       "grid_auto_rows": null,
       "grid_column": null,
       "grid_gap": null,
       "grid_row": null,
       "grid_template_areas": null,
       "grid_template_columns": null,
       "grid_template_rows": null,
       "height": null,
       "justify_content": null,
       "justify_items": null,
       "left": null,
       "margin": null,
       "max_height": null,
       "max_width": null,
       "min_height": null,
       "min_width": null,
       "object_fit": null,
       "object_position": null,
       "order": null,
       "overflow": null,
       "overflow_x": null,
       "overflow_y": null,
       "padding": null,
       "right": null,
       "top": null,
       "visibility": null,
       "width": null
      }
     },
     "394c945ca329497c8091d890ca8f0693": {
      "model_module": "@jupyter-widgets/controls",
      "model_module_version": "1.5.0",
      "model_name": "DescriptionStyleModel",
      "state": {
       "_model_module": "@jupyter-widgets/controls",
       "_model_module_version": "1.5.0",
       "_model_name": "DescriptionStyleModel",
       "_view_count": null,
       "_view_module": "@jupyter-widgets/base",
       "_view_module_version": "1.2.0",
       "_view_name": "StyleView",
       "description_width": ""
      }
     },
     "39d2e474055f4756aaf4f70ab3be4f2e": {
      "model_module": "@jupyter-widgets/controls",
      "model_module_version": "1.5.0",
      "model_name": "DescriptionStyleModel",
      "state": {
       "_model_module": "@jupyter-widgets/controls",
       "_model_module_version": "1.5.0",
       "_model_name": "DescriptionStyleModel",
       "_view_count": null,
       "_view_module": "@jupyter-widgets/base",
       "_view_module_version": "1.2.0",
       "_view_name": "StyleView",
       "description_width": ""
      }
     },
     "3b3de32a672b4e21a71210468bc21fe3": {
      "model_module": "@jupyter-widgets/controls",
      "model_module_version": "1.5.0",
      "model_name": "HBoxModel",
      "state": {
       "_dom_classes": [],
       "_model_module": "@jupyter-widgets/controls",
       "_model_module_version": "1.5.0",
       "_model_name": "HBoxModel",
       "_view_count": null,
       "_view_module": "@jupyter-widgets/controls",
       "_view_module_version": "1.5.0",
       "_view_name": "HBoxView",
       "box_style": "",
       "children": [
        "IPY_MODEL_e721d9fc60104fb9ad363b0525d0d978",
        "IPY_MODEL_e133c28e82124c7ea290000e80835e99",
        "IPY_MODEL_24d249ddccd14f14a235d514891bef59"
       ],
       "layout": "IPY_MODEL_6b9bb8a69a044f059e47bdb37cc89ce1"
      }
     },
     "3fc434517cfc48c0a604bea6f746f7c7": {
      "model_module": "@jupyter-widgets/controls",
      "model_module_version": "1.5.0",
      "model_name": "HTMLModel",
      "state": {
       "_dom_classes": [],
       "_model_module": "@jupyter-widgets/controls",
       "_model_module_version": "1.5.0",
       "_model_name": "HTMLModel",
       "_view_count": null,
       "_view_module": "@jupyter-widgets/controls",
       "_view_module_version": "1.5.0",
       "_view_name": "HTMLView",
       "description": "",
       "description_tooltip": null,
       "layout": "IPY_MODEL_c4dd3cc2abd04a569b7adb8cef831307",
       "placeholder": "​",
       "style": "IPY_MODEL_d47cf2a70b7d41e180c504b9e14ad886",
       "value": " 447/447 [00:04&lt;00:00, 117.19it/s]"
      }
     },
     "41230f3aa02d4d8dbb130944f71c9247": {
      "model_module": "@jupyter-widgets/controls",
      "model_module_version": "1.5.0",
      "model_name": "FloatProgressModel",
      "state": {
       "_dom_classes": [],
       "_model_module": "@jupyter-widgets/controls",
       "_model_module_version": "1.5.0",
       "_model_name": "FloatProgressModel",
       "_view_count": null,
       "_view_module": "@jupyter-widgets/controls",
       "_view_module_version": "1.5.0",
       "_view_name": "ProgressView",
       "bar_style": "success",
       "description": "",
       "description_tooltip": null,
       "layout": "IPY_MODEL_8bc7331a70524a7599808fec39081325",
       "max": 10.0,
       "min": 0.0,
       "orientation": "horizontal",
       "style": "IPY_MODEL_36e7173480764e40abda0b28c6f936e3",
       "value": 10.0
      }
     },
     "41dd9076c38842cb9d3eebffe5a87202": {
      "model_module": "@jupyter-widgets/controls",
      "model_module_version": "1.5.0",
      "model_name": "HTMLModel",
      "state": {
       "_dom_classes": [],
       "_model_module": "@jupyter-widgets/controls",
       "_model_module_version": "1.5.0",
       "_model_name": "HTMLModel",
       "_view_count": null,
       "_view_module": "@jupyter-widgets/controls",
       "_view_module_version": "1.5.0",
       "_view_name": "HTMLView",
       "description": "",
       "description_tooltip": null,
       "layout": "IPY_MODEL_c520585f94674ad3a4143db136dc6533",
       "placeholder": "​",
       "style": "IPY_MODEL_cadcca5f0e6b48cca3255a8479786c54",
       "value": " 10/10 [00:00&lt;00:00, 121.14it/s]"
      }
     },
     "43f1ae9af02447e49ca2568748212a1f": {
      "model_module": "@jupyter-widgets/controls",
      "model_module_version": "1.5.0",
      "model_name": "FloatProgressModel",
      "state": {
       "_dom_classes": [],
       "_model_module": "@jupyter-widgets/controls",
       "_model_module_version": "1.5.0",
       "_model_name": "FloatProgressModel",
       "_view_count": null,
       "_view_module": "@jupyter-widgets/controls",
       "_view_module_version": "1.5.0",
       "_view_name": "ProgressView",
       "bar_style": "success",
       "description": "",
       "description_tooltip": null,
       "layout": "IPY_MODEL_f9465f2289e0451b8cb5f2de22da6893",
       "max": 10000.0,
       "min": 0.0,
       "orientation": "horizontal",
       "style": "IPY_MODEL_097b94deba654859ad43653f0329b859",
       "value": 447.0
      }
     },
     "4616cb8e795e49bfbb35ea83e43a8b36": {
      "model_module": "@jupyter-widgets/controls",
      "model_module_version": "1.5.0",
      "model_name": "DescriptionStyleModel",
      "state": {
       "_model_module": "@jupyter-widgets/controls",
       "_model_module_version": "1.5.0",
       "_model_name": "DescriptionStyleModel",
       "_view_count": null,
       "_view_module": "@jupyter-widgets/base",
       "_view_module_version": "1.2.0",
       "_view_name": "StyleView",
       "description_width": ""
      }
     },
     "4781cc55c4f3460caf3069cd3b85d73e": {
      "model_module": "@jupyter-widgets/base",
      "model_module_version": "1.2.0",
      "model_name": "LayoutModel",
      "state": {
       "_model_module": "@jupyter-widgets/base",
       "_model_module_version": "1.2.0",
       "_model_name": "LayoutModel",
       "_view_count": null,
       "_view_module": "@jupyter-widgets/base",
       "_view_module_version": "1.2.0",
       "_view_name": "LayoutView",
       "align_content": null,
       "align_items": null,
       "align_self": null,
       "border": null,
       "bottom": null,
       "display": null,
       "flex": null,
       "flex_flow": null,
       "grid_area": null,
       "grid_auto_columns": null,
       "grid_auto_flow": null,
       "grid_auto_rows": null,
       "grid_column": null,
       "grid_gap": null,
       "grid_row": null,
       "grid_template_areas": null,
       "grid_template_columns": null,
       "grid_template_rows": null,
       "height": null,
       "justify_content": null,
       "justify_items": null,
       "left": null,
       "margin": null,
       "max_height": null,
       "max_width": null,
       "min_height": null,
       "min_width": null,
       "object_fit": null,
       "object_position": null,
       "order": null,
       "overflow": null,
       "overflow_x": null,
       "overflow_y": null,
       "padding": null,
       "right": null,
       "top": null,
       "visibility": null,
       "width": null
      }
     },
     "484700204496458e850f51da02482d74": {
      "model_module": "@jupyter-widgets/base",
      "model_module_version": "1.2.0",
      "model_name": "LayoutModel",
      "state": {
       "_model_module": "@jupyter-widgets/base",
       "_model_module_version": "1.2.0",
       "_model_name": "LayoutModel",
       "_view_count": null,
       "_view_module": "@jupyter-widgets/base",
       "_view_module_version": "1.2.0",
       "_view_name": "LayoutView",
       "align_content": null,
       "align_items": null,
       "align_self": null,
       "border": null,
       "bottom": null,
       "display": null,
       "flex": null,
       "flex_flow": null,
       "grid_area": null,
       "grid_auto_columns": null,
       "grid_auto_flow": null,
       "grid_auto_rows": null,
       "grid_column": null,
       "grid_gap": null,
       "grid_row": null,
       "grid_template_areas": null,
       "grid_template_columns": null,
       "grid_template_rows": null,
       "height": null,
       "justify_content": null,
       "justify_items": null,
       "left": null,
       "margin": null,
       "max_height": null,
       "max_width": null,
       "min_height": null,
       "min_width": null,
       "object_fit": null,
       "object_position": null,
       "order": null,
       "overflow": null,
       "overflow_x": null,
       "overflow_y": null,
       "padding": null,
       "right": null,
       "top": null,
       "visibility": null,
       "width": null
      }
     },
     "4a21b22884584420a74d3a72d82fc283": {
      "model_module": "@jupyter-widgets/base",
      "model_module_version": "1.2.0",
      "model_name": "LayoutModel",
      "state": {
       "_model_module": "@jupyter-widgets/base",
       "_model_module_version": "1.2.0",
       "_model_name": "LayoutModel",
       "_view_count": null,
       "_view_module": "@jupyter-widgets/base",
       "_view_module_version": "1.2.0",
       "_view_name": "LayoutView",
       "align_content": null,
       "align_items": null,
       "align_self": null,
       "border": null,
       "bottom": null,
       "display": null,
       "flex": null,
       "flex_flow": null,
       "grid_area": null,
       "grid_auto_columns": null,
       "grid_auto_flow": null,
       "grid_auto_rows": null,
       "grid_column": null,
       "grid_gap": null,
       "grid_row": null,
       "grid_template_areas": null,
       "grid_template_columns": null,
       "grid_template_rows": null,
       "height": null,
       "justify_content": null,
       "justify_items": null,
       "left": null,
       "margin": null,
       "max_height": null,
       "max_width": null,
       "min_height": null,
       "min_width": null,
       "object_fit": null,
       "object_position": null,
       "order": null,
       "overflow": null,
       "overflow_x": null,
       "overflow_y": null,
       "padding": null,
       "right": null,
       "top": null,
       "visibility": null,
       "width": null
      }
     },
     "4a5ea3cc5e574878b20202d7086954a8": {
      "model_module": "@jupyter-widgets/controls",
      "model_module_version": "1.5.0",
      "model_name": "HTMLModel",
      "state": {
       "_dom_classes": [],
       "_model_module": "@jupyter-widgets/controls",
       "_model_module_version": "1.5.0",
       "_model_name": "HTMLModel",
       "_view_count": null,
       "_view_module": "@jupyter-widgets/controls",
       "_view_module_version": "1.5.0",
       "_view_name": "HTMLView",
       "description": "",
       "description_tooltip": null,
       "layout": "IPY_MODEL_747c6a718792431da1b5c3dbea00b53b",
       "placeholder": "​",
       "style": "IPY_MODEL_2e05a9df72fd438bb63e5cf5d6701633",
       "value": " | loss 0.800 Δ -0.000 :  ✓: 100%"
      }
     },
     "4b188577befe46da80efa4ad602843d9": {
      "model_module": "@jupyter-widgets/controls",
      "model_module_version": "1.5.0",
      "model_name": "DescriptionStyleModel",
      "state": {
       "_model_module": "@jupyter-widgets/controls",
       "_model_module_version": "1.5.0",
       "_model_name": "DescriptionStyleModel",
       "_view_count": null,
       "_view_module": "@jupyter-widgets/base",
       "_view_module_version": "1.2.0",
       "_view_name": "StyleView",
       "description_width": ""
      }
     },
     "4bdf9a1cde4d4d30a207111dd93c3a94": {
      "model_module": "@jupyter-widgets/base",
      "model_module_version": "1.2.0",
      "model_name": "LayoutModel",
      "state": {
       "_model_module": "@jupyter-widgets/base",
       "_model_module_version": "1.2.0",
       "_model_name": "LayoutModel",
       "_view_count": null,
       "_view_module": "@jupyter-widgets/base",
       "_view_module_version": "1.2.0",
       "_view_name": "LayoutView",
       "align_content": null,
       "align_items": null,
       "align_self": null,
       "border": null,
       "bottom": null,
       "display": null,
       "flex": null,
       "flex_flow": null,
       "grid_area": null,
       "grid_auto_columns": null,
       "grid_auto_flow": null,
       "grid_auto_rows": null,
       "grid_column": null,
       "grid_gap": null,
       "grid_row": null,
       "grid_template_areas": null,
       "grid_template_columns": null,
       "grid_template_rows": null,
       "height": null,
       "justify_content": null,
       "justify_items": null,
       "left": null,
       "margin": null,
       "max_height": null,
       "max_width": null,
       "min_height": null,
       "min_width": null,
       "object_fit": null,
       "object_position": null,
       "order": null,
       "overflow": null,
       "overflow_x": null,
       "overflow_y": null,
       "padding": null,
       "right": null,
       "top": null,
       "visibility": null,
       "width": null
      }
     },
     "50f0a97824c445b79a3507361f7c0b0d": {
      "model_module": "@jupyter-widgets/controls",
      "model_module_version": "1.5.0",
      "model_name": "HTMLModel",
      "state": {
       "_dom_classes": [],
       "_model_module": "@jupyter-widgets/controls",
       "_model_module_version": "1.5.0",
       "_model_name": "HTMLModel",
       "_view_count": null,
       "_view_module": "@jupyter-widgets/controls",
       "_view_module_version": "1.5.0",
       "_view_name": "HTMLView",
       "description": "",
       "description_tooltip": null,
       "layout": "IPY_MODEL_fa611b6605404eea939854658f05bfe8",
       "placeholder": "​",
       "style": "IPY_MODEL_11c22416ccf54262975ca176ec06c85a",
       "value": " 10/10 [00:00&lt;00:00, 17.23it/s]"
      }
     },
     "52bad9851f7743a39f25c0352508014e": {
      "model_module": "@jupyter-widgets/base",
      "model_module_version": "1.2.0",
      "model_name": "LayoutModel",
      "state": {
       "_model_module": "@jupyter-widgets/base",
       "_model_module_version": "1.2.0",
       "_model_name": "LayoutModel",
       "_view_count": null,
       "_view_module": "@jupyter-widgets/base",
       "_view_module_version": "1.2.0",
       "_view_name": "LayoutView",
       "align_content": null,
       "align_items": null,
       "align_self": null,
       "border": null,
       "bottom": null,
       "display": null,
       "flex": null,
       "flex_flow": null,
       "grid_area": null,
       "grid_auto_columns": null,
       "grid_auto_flow": null,
       "grid_auto_rows": null,
       "grid_column": null,
       "grid_gap": null,
       "grid_row": null,
       "grid_template_areas": null,
       "grid_template_columns": null,
       "grid_template_rows": null,
       "height": null,
       "justify_content": null,
       "justify_items": null,
       "left": null,
       "margin": null,
       "max_height": null,
       "max_width": null,
       "min_height": null,
       "min_width": null,
       "object_fit": null,
       "object_position": null,
       "order": null,
       "overflow": null,
       "overflow_x": null,
       "overflow_y": null,
       "padding": null,
       "right": null,
       "top": null,
       "visibility": null,
       "width": null
      }
     },
     "531c7fe527164d24b53909edc7aafaa6": {
      "model_module": "@jupyter-widgets/controls",
      "model_module_version": "1.5.0",
      "model_name": "HTMLModel",
      "state": {
       "_dom_classes": [],
       "_model_module": "@jupyter-widgets/controls",
       "_model_module_version": "1.5.0",
       "_model_name": "HTMLModel",
       "_view_count": null,
       "_view_module": "@jupyter-widgets/controls",
       "_view_module_version": "1.5.0",
       "_view_name": "HTMLView",
       "description": "",
       "description_tooltip": null,
       "layout": "IPY_MODEL_38219d2d61c447b6915fc914ff8ce411",
       "placeholder": "​",
       "style": "IPY_MODEL_1f387db12d1b42c2ac056ec285b401b0",
       "value": " 10/10 [00:00&lt;00:00, 16.48it/s]"
      }
     },
     "548d1853519045809dc5e6be9969787e": {
      "model_module": "@jupyter-widgets/base",
      "model_module_version": "1.2.0",
      "model_name": "LayoutModel",
      "state": {
       "_model_module": "@jupyter-widgets/base",
       "_model_module_version": "1.2.0",
       "_model_name": "LayoutModel",
       "_view_count": null,
       "_view_module": "@jupyter-widgets/base",
       "_view_module_version": "1.2.0",
       "_view_name": "LayoutView",
       "align_content": null,
       "align_items": null,
       "align_self": null,
       "border": null,
       "bottom": null,
       "display": null,
       "flex": null,
       "flex_flow": null,
       "grid_area": null,
       "grid_auto_columns": null,
       "grid_auto_flow": null,
       "grid_auto_rows": null,
       "grid_column": null,
       "grid_gap": null,
       "grid_row": null,
       "grid_template_areas": null,
       "grid_template_columns": null,
       "grid_template_rows": null,
       "height": null,
       "justify_content": null,
       "justify_items": null,
       "left": null,
       "margin": null,
       "max_height": null,
       "max_width": null,
       "min_height": null,
       "min_width": null,
       "object_fit": null,
       "object_position": null,
       "order": null,
       "overflow": null,
       "overflow_x": null,
       "overflow_y": null,
       "padding": null,
       "right": null,
       "top": null,
       "visibility": null,
       "width": null
      }
     },
     "57718b76d8a847a6be99040626cc9be8": {
      "model_module": "@jupyter-widgets/controls",
      "model_module_version": "1.5.0",
      "model_name": "DescriptionStyleModel",
      "state": {
       "_model_module": "@jupyter-widgets/controls",
       "_model_module_version": "1.5.0",
       "_model_name": "DescriptionStyleModel",
       "_view_count": null,
       "_view_module": "@jupyter-widgets/base",
       "_view_module_version": "1.2.0",
       "_view_name": "StyleView",
       "description_width": ""
      }
     },
     "58f9e86196b8413daf282a6d99c94df5": {
      "model_module": "@jupyter-widgets/controls",
      "model_module_version": "1.5.0",
      "model_name": "HBoxModel",
      "state": {
       "_dom_classes": [],
       "_model_module": "@jupyter-widgets/controls",
       "_model_module_version": "1.5.0",
       "_model_name": "HBoxModel",
       "_view_count": null,
       "_view_module": "@jupyter-widgets/controls",
       "_view_module_version": "1.5.0",
       "_view_name": "HBoxView",
       "box_style": "",
       "children": [
        "IPY_MODEL_12574991f1b346ddabe862fa38921738",
        "IPY_MODEL_b0f50d284a4440c48b277c41578e212e",
        "IPY_MODEL_9d3ddf8d26cf438fb179cef41f72573e"
       ],
       "layout": "IPY_MODEL_4781cc55c4f3460caf3069cd3b85d73e"
      }
     },
     "599be55f12074b98aa885244eeca6f43": {
      "model_module": "@jupyter-widgets/controls",
      "model_module_version": "1.5.0",
      "model_name": "ProgressStyleModel",
      "state": {
       "_model_module": "@jupyter-widgets/controls",
       "_model_module_version": "1.5.0",
       "_model_name": "ProgressStyleModel",
       "_view_count": null,
       "_view_module": "@jupyter-widgets/base",
       "_view_module_version": "1.2.0",
       "_view_name": "StyleView",
       "bar_color": null,
       "description_width": ""
      }
     },
     "5b64ccdebd2e4918bf58ac292e86d00c": {
      "model_module": "@jupyter-widgets/controls",
      "model_module_version": "1.5.0",
      "model_name": "HTMLModel",
      "state": {
       "_dom_classes": [],
       "_model_module": "@jupyter-widgets/controls",
       "_model_module_version": "1.5.0",
       "_model_name": "HTMLModel",
       "_view_count": null,
       "_view_module": "@jupyter-widgets/controls",
       "_view_module_version": "1.5.0",
       "_view_name": "HTMLView",
       "description": "",
       "description_tooltip": null,
       "layout": "IPY_MODEL_0e5ca81c62ac4d6da4f03bf6546af9fc",
       "placeholder": "​",
       "style": "IPY_MODEL_61dd9ef3ba174352ad8ac74e5a5a7e12",
       "value": "100%"
      }
     },
     "5c6e5f277f7a467abb0d19301533e102": {
      "model_module": "@jupyter-widgets/controls",
      "model_module_version": "1.5.0",
      "model_name": "HTMLModel",
      "state": {
       "_dom_classes": [],
       "_model_module": "@jupyter-widgets/controls",
       "_model_module_version": "1.5.0",
       "_model_name": "HTMLModel",
       "_view_count": null,
       "_view_module": "@jupyter-widgets/controls",
       "_view_module_version": "1.5.0",
       "_view_name": "HTMLView",
       "description": "",
       "description_tooltip": null,
       "layout": "IPY_MODEL_1a7fd6d7ef4d4641a8660f44fe40b8cc",
       "placeholder": "​",
       "style": "IPY_MODEL_e7c635466d134ad0b4bedffeb64f105d",
       "value": "100%"
      }
     },
     "5c8dd39c423b4c7fb53324936599315b": {
      "model_module": "@jupyter-widgets/controls",
      "model_module_version": "1.5.0",
      "model_name": "HTMLModel",
      "state": {
       "_dom_classes": [],
       "_model_module": "@jupyter-widgets/controls",
       "_model_module_version": "1.5.0",
       "_model_name": "HTMLModel",
       "_view_count": null,
       "_view_module": "@jupyter-widgets/controls",
       "_view_module_version": "1.5.0",
       "_view_name": "HTMLView",
       "description": "",
       "description_tooltip": null,
       "layout": "IPY_MODEL_a64c7ececf6a4e94ad636ef80a14fd65",
       "placeholder": "​",
       "style": "IPY_MODEL_12d0014c6df94acea38071bf96a37017",
       "value": " 5/5 [00:00&lt;00:00, 15.19it/s]"
      }
     },
     "5d0467912bb54bd1ba83f0ae0e26134b": {
      "model_module": "@jupyter-widgets/base",
      "model_module_version": "1.2.0",
      "model_name": "LayoutModel",
      "state": {
       "_model_module": "@jupyter-widgets/base",
       "_model_module_version": "1.2.0",
       "_model_name": "LayoutModel",
       "_view_count": null,
       "_view_module": "@jupyter-widgets/base",
       "_view_module_version": "1.2.0",
       "_view_name": "LayoutView",
       "align_content": null,
       "align_items": null,
       "align_self": null,
       "border": null,
       "bottom": null,
       "display": null,
       "flex": null,
       "flex_flow": null,
       "grid_area": null,
       "grid_auto_columns": null,
       "grid_auto_flow": null,
       "grid_auto_rows": null,
       "grid_column": null,
       "grid_gap": null,
       "grid_row": null,
       "grid_template_areas": null,
       "grid_template_columns": null,
       "grid_template_rows": null,
       "height": null,
       "justify_content": null,
       "justify_items": null,
       "left": null,
       "margin": null,
       "max_height": null,
       "max_width": null,
       "min_height": null,
       "min_width": null,
       "object_fit": null,
       "object_position": null,
       "order": null,
       "overflow": null,
       "overflow_x": null,
       "overflow_y": null,
       "padding": null,
       "right": null,
       "top": null,
       "visibility": null,
       "width": null
      }
     },
     "5ef7c719772e4ee0b575b77ad1520053": {
      "model_module": "@jupyter-widgets/base",
      "model_module_version": "1.2.0",
      "model_name": "LayoutModel",
      "state": {
       "_model_module": "@jupyter-widgets/base",
       "_model_module_version": "1.2.0",
       "_model_name": "LayoutModel",
       "_view_count": null,
       "_view_module": "@jupyter-widgets/base",
       "_view_module_version": "1.2.0",
       "_view_name": "LayoutView",
       "align_content": null,
       "align_items": null,
       "align_self": null,
       "border": null,
       "bottom": null,
       "display": null,
       "flex": null,
       "flex_flow": null,
       "grid_area": null,
       "grid_auto_columns": null,
       "grid_auto_flow": null,
       "grid_auto_rows": null,
       "grid_column": null,
       "grid_gap": null,
       "grid_row": null,
       "grid_template_areas": null,
       "grid_template_columns": null,
       "grid_template_rows": null,
       "height": null,
       "justify_content": null,
       "justify_items": null,
       "left": null,
       "margin": null,
       "max_height": null,
       "max_width": null,
       "min_height": null,
       "min_width": null,
       "object_fit": null,
       "object_position": null,
       "order": null,
       "overflow": null,
       "overflow_x": null,
       "overflow_y": null,
       "padding": null,
       "right": null,
       "top": null,
       "visibility": null,
       "width": null
      }
     },
     "61cafcf90a3c41268f80bdc9ff22b614": {
      "model_module": "@jupyter-widgets/base",
      "model_module_version": "1.2.0",
      "model_name": "LayoutModel",
      "state": {
       "_model_module": "@jupyter-widgets/base",
       "_model_module_version": "1.2.0",
       "_model_name": "LayoutModel",
       "_view_count": null,
       "_view_module": "@jupyter-widgets/base",
       "_view_module_version": "1.2.0",
       "_view_name": "LayoutView",
       "align_content": null,
       "align_items": null,
       "align_self": null,
       "border": null,
       "bottom": null,
       "display": null,
       "flex": null,
       "flex_flow": null,
       "grid_area": null,
       "grid_auto_columns": null,
       "grid_auto_flow": null,
       "grid_auto_rows": null,
       "grid_column": null,
       "grid_gap": null,
       "grid_row": null,
       "grid_template_areas": null,
       "grid_template_columns": null,
       "grid_template_rows": null,
       "height": null,
       "justify_content": null,
       "justify_items": null,
       "left": null,
       "margin": null,
       "max_height": null,
       "max_width": null,
       "min_height": null,
       "min_width": null,
       "object_fit": null,
       "object_position": null,
       "order": null,
       "overflow": null,
       "overflow_x": null,
       "overflow_y": null,
       "padding": null,
       "right": null,
       "top": null,
       "visibility": null,
       "width": null
      }
     },
     "61dd9ef3ba174352ad8ac74e5a5a7e12": {
      "model_module": "@jupyter-widgets/controls",
      "model_module_version": "1.5.0",
      "model_name": "DescriptionStyleModel",
      "state": {
       "_model_module": "@jupyter-widgets/controls",
       "_model_module_version": "1.5.0",
       "_model_name": "DescriptionStyleModel",
       "_view_count": null,
       "_view_module": "@jupyter-widgets/base",
       "_view_module_version": "1.2.0",
       "_view_name": "StyleView",
       "description_width": ""
      }
     },
     "635ed59e7f4542a0bb64da9673e69cab": {
      "model_module": "@jupyter-widgets/controls",
      "model_module_version": "1.5.0",
      "model_name": "DescriptionStyleModel",
      "state": {
       "_model_module": "@jupyter-widgets/controls",
       "_model_module_version": "1.5.0",
       "_model_name": "DescriptionStyleModel",
       "_view_count": null,
       "_view_module": "@jupyter-widgets/base",
       "_view_module_version": "1.2.0",
       "_view_name": "StyleView",
       "description_width": ""
      }
     },
     "639297781465447c92310234f739f527": {
      "model_module": "@jupyter-widgets/controls",
      "model_module_version": "1.5.0",
      "model_name": "HTMLModel",
      "state": {
       "_dom_classes": [],
       "_model_module": "@jupyter-widgets/controls",
       "_model_module_version": "1.5.0",
       "_model_name": "HTMLModel",
       "_view_count": null,
       "_view_module": "@jupyter-widgets/controls",
       "_view_module_version": "1.5.0",
       "_view_name": "HTMLView",
       "description": "",
       "description_tooltip": null,
       "layout": "IPY_MODEL_d07293a497ad46929511973982c2655a",
       "placeholder": "​",
       "style": "IPY_MODEL_39d2e474055f4756aaf4f70ab3be4f2e",
       "value": " 10/10 [00:00&lt;00:00, 12.13it/s]"
      }
     },
     "6896857613cd4e1aa7a51a11180ee9a6": {
      "model_module": "@jupyter-widgets/controls",
      "model_module_version": "1.5.0",
      "model_name": "ProgressStyleModel",
      "state": {
       "_model_module": "@jupyter-widgets/controls",
       "_model_module_version": "1.5.0",
       "_model_name": "ProgressStyleModel",
       "_view_count": null,
       "_view_module": "@jupyter-widgets/base",
       "_view_module_version": "1.2.0",
       "_view_name": "StyleView",
       "bar_color": null,
       "description_width": ""
      }
     },
     "6922e926c5e5408ca4900d4654125e4b": {
      "model_module": "@jupyter-widgets/base",
      "model_module_version": "1.2.0",
      "model_name": "LayoutModel",
      "state": {
       "_model_module": "@jupyter-widgets/base",
       "_model_module_version": "1.2.0",
       "_model_name": "LayoutModel",
       "_view_count": null,
       "_view_module": "@jupyter-widgets/base",
       "_view_module_version": "1.2.0",
       "_view_name": "LayoutView",
       "align_content": null,
       "align_items": null,
       "align_self": null,
       "border": null,
       "bottom": null,
       "display": null,
       "flex": null,
       "flex_flow": null,
       "grid_area": null,
       "grid_auto_columns": null,
       "grid_auto_flow": null,
       "grid_auto_rows": null,
       "grid_column": null,
       "grid_gap": null,
       "grid_row": null,
       "grid_template_areas": null,
       "grid_template_columns": null,
       "grid_template_rows": null,
       "height": null,
       "justify_content": null,
       "justify_items": null,
       "left": null,
       "margin": null,
       "max_height": null,
       "max_width": null,
       "min_height": null,
       "min_width": null,
       "object_fit": null,
       "object_position": null,
       "order": null,
       "overflow": null,
       "overflow_x": null,
       "overflow_y": null,
       "padding": null,
       "right": null,
       "top": null,
       "visibility": null,
       "width": null
      }
     },
     "6988d796533049af997e5277fdcbf592": {
      "model_module": "@jupyter-widgets/base",
      "model_module_version": "1.2.0",
      "model_name": "LayoutModel",
      "state": {
       "_model_module": "@jupyter-widgets/base",
       "_model_module_version": "1.2.0",
       "_model_name": "LayoutModel",
       "_view_count": null,
       "_view_module": "@jupyter-widgets/base",
       "_view_module_version": "1.2.0",
       "_view_name": "LayoutView",
       "align_content": null,
       "align_items": null,
       "align_self": null,
       "border": null,
       "bottom": null,
       "display": null,
       "flex": null,
       "flex_flow": null,
       "grid_area": null,
       "grid_auto_columns": null,
       "grid_auto_flow": null,
       "grid_auto_rows": null,
       "grid_column": null,
       "grid_gap": null,
       "grid_row": null,
       "grid_template_areas": null,
       "grid_template_columns": null,
       "grid_template_rows": null,
       "height": null,
       "justify_content": null,
       "justify_items": null,
       "left": null,
       "margin": null,
       "max_height": null,
       "max_width": null,
       "min_height": null,
       "min_width": null,
       "object_fit": null,
       "object_position": null,
       "order": null,
       "overflow": null,
       "overflow_x": null,
       "overflow_y": null,
       "padding": null,
       "right": null,
       "top": null,
       "visibility": null,
       "width": null
      }
     },
     "6b9bb8a69a044f059e47bdb37cc89ce1": {
      "model_module": "@jupyter-widgets/base",
      "model_module_version": "1.2.0",
      "model_name": "LayoutModel",
      "state": {
       "_model_module": "@jupyter-widgets/base",
       "_model_module_version": "1.2.0",
       "_model_name": "LayoutModel",
       "_view_count": null,
       "_view_module": "@jupyter-widgets/base",
       "_view_module_version": "1.2.0",
       "_view_name": "LayoutView",
       "align_content": null,
       "align_items": null,
       "align_self": null,
       "border": null,
       "bottom": null,
       "display": null,
       "flex": null,
       "flex_flow": null,
       "grid_area": null,
       "grid_auto_columns": null,
       "grid_auto_flow": null,
       "grid_auto_rows": null,
       "grid_column": null,
       "grid_gap": null,
       "grid_row": null,
       "grid_template_areas": null,
       "grid_template_columns": null,
       "grid_template_rows": null,
       "height": null,
       "justify_content": null,
       "justify_items": null,
       "left": null,
       "margin": null,
       "max_height": null,
       "max_width": null,
       "min_height": null,
       "min_width": null,
       "object_fit": null,
       "object_position": null,
       "order": null,
       "overflow": null,
       "overflow_x": null,
       "overflow_y": null,
       "padding": null,
       "right": null,
       "top": null,
       "visibility": null,
       "width": null
      }
     },
     "736b52e2c1034f64865602dbed5c31fc": {
      "model_module": "@jupyter-widgets/controls",
      "model_module_version": "1.5.0",
      "model_name": "HTMLModel",
      "state": {
       "_dom_classes": [],
       "_model_module": "@jupyter-widgets/controls",
       "_model_module_version": "1.5.0",
       "_model_name": "HTMLModel",
       "_view_count": null,
       "_view_module": "@jupyter-widgets/controls",
       "_view_module_version": "1.5.0",
       "_view_name": "HTMLView",
       "description": "",
       "description_tooltip": null,
       "layout": "IPY_MODEL_928db35b5ef9439cabeb109e602452f1",
       "placeholder": "​",
       "style": "IPY_MODEL_856e12322ea04c24b76458a852e30656",
       "value": " 5/5 [00:00&lt;00:00, 17.71it/s]"
      }
     },
     "747c6a718792431da1b5c3dbea00b53b": {
      "model_module": "@jupyter-widgets/base",
      "model_module_version": "1.2.0",
      "model_name": "LayoutModel",
      "state": {
       "_model_module": "@jupyter-widgets/base",
       "_model_module_version": "1.2.0",
       "_model_name": "LayoutModel",
       "_view_count": null,
       "_view_module": "@jupyter-widgets/base",
       "_view_module_version": "1.2.0",
       "_view_name": "LayoutView",
       "align_content": null,
       "align_items": null,
       "align_self": null,
       "border": null,
       "bottom": null,
       "display": null,
       "flex": null,
       "flex_flow": null,
       "grid_area": null,
       "grid_auto_columns": null,
       "grid_auto_flow": null,
       "grid_auto_rows": null,
       "grid_column": null,
       "grid_gap": null,
       "grid_row": null,
       "grid_template_areas": null,
       "grid_template_columns": null,
       "grid_template_rows": null,
       "height": null,
       "justify_content": null,
       "justify_items": null,
       "left": null,
       "margin": null,
       "max_height": null,
       "max_width": null,
       "min_height": null,
       "min_width": null,
       "object_fit": null,
       "object_position": null,
       "order": null,
       "overflow": null,
       "overflow_x": null,
       "overflow_y": null,
       "padding": null,
       "right": null,
       "top": null,
       "visibility": null,
       "width": null
      }
     },
     "79d68a8153864ff181d0927ae067e74e": {
      "model_module": "@jupyter-widgets/controls",
      "model_module_version": "1.5.0",
      "model_name": "ProgressStyleModel",
      "state": {
       "_model_module": "@jupyter-widgets/controls",
       "_model_module_version": "1.5.0",
       "_model_name": "ProgressStyleModel",
       "_view_count": null,
       "_view_module": "@jupyter-widgets/base",
       "_view_module_version": "1.2.0",
       "_view_name": "StyleView",
       "bar_color": null,
       "description_width": ""
      }
     },
     "7b975b684fee476fb7c6fa20437b5e94": {
      "model_module": "@jupyter-widgets/controls",
      "model_module_version": "1.5.0",
      "model_name": "FloatProgressModel",
      "state": {
       "_dom_classes": [],
       "_model_module": "@jupyter-widgets/controls",
       "_model_module_version": "1.5.0",
       "_model_name": "FloatProgressModel",
       "_view_count": null,
       "_view_module": "@jupyter-widgets/controls",
       "_view_module_version": "1.5.0",
       "_view_name": "ProgressView",
       "bar_style": "success",
       "description": "",
       "description_tooltip": null,
       "layout": "IPY_MODEL_d9236857751b411e835b5330f3f95dc6",
       "max": 5.0,
       "min": 0.0,
       "orientation": "horizontal",
       "style": "IPY_MODEL_e04bccc6e24d479a80c848d460b3e905",
       "value": 5.0
      }
     },
     "7c446a598318437292daec3879bc4592": {
      "model_module": "@jupyter-widgets/base",
      "model_module_version": "1.2.0",
      "model_name": "LayoutModel",
      "state": {
       "_model_module": "@jupyter-widgets/base",
       "_model_module_version": "1.2.0",
       "_model_name": "LayoutModel",
       "_view_count": null,
       "_view_module": "@jupyter-widgets/base",
       "_view_module_version": "1.2.0",
       "_view_name": "LayoutView",
       "align_content": null,
       "align_items": null,
       "align_self": null,
       "border": null,
       "bottom": null,
       "display": null,
       "flex": null,
       "flex_flow": null,
       "grid_area": null,
       "grid_auto_columns": null,
       "grid_auto_flow": null,
       "grid_auto_rows": null,
       "grid_column": null,
       "grid_gap": null,
       "grid_row": null,
       "grid_template_areas": null,
       "grid_template_columns": null,
       "grid_template_rows": null,
       "height": null,
       "justify_content": null,
       "justify_items": null,
       "left": null,
       "margin": null,
       "max_height": null,
       "max_width": null,
       "min_height": null,
       "min_width": null,
       "object_fit": null,
       "object_position": null,
       "order": null,
       "overflow": null,
       "overflow_x": null,
       "overflow_y": null,
       "padding": null,
       "right": null,
       "top": null,
       "visibility": null,
       "width": null
      }
     },
     "8179f2a1cdf94cb89cd06d96c4241dde": {
      "model_module": "@jupyter-widgets/controls",
      "model_module_version": "1.5.0",
      "model_name": "DescriptionStyleModel",
      "state": {
       "_model_module": "@jupyter-widgets/controls",
       "_model_module_version": "1.5.0",
       "_model_name": "DescriptionStyleModel",
       "_view_count": null,
       "_view_module": "@jupyter-widgets/base",
       "_view_module_version": "1.2.0",
       "_view_name": "StyleView",
       "description_width": ""
      }
     },
     "81bca5d481e74f42af539ebc7c477994": {
      "model_module": "@jupyter-widgets/controls",
      "model_module_version": "1.5.0",
      "model_name": "HBoxModel",
      "state": {
       "_dom_classes": [],
       "_model_module": "@jupyter-widgets/controls",
       "_model_module_version": "1.5.0",
       "_model_name": "HBoxModel",
       "_view_count": null,
       "_view_module": "@jupyter-widgets/controls",
       "_view_module_version": "1.5.0",
       "_view_name": "HBoxView",
       "box_style": "",
       "children": [
        "IPY_MODEL_966b1e3256844b22b898b784a9732ebd",
        "IPY_MODEL_0822861635544ee4835d23d46523e762",
        "IPY_MODEL_e58bc14fead4469fbede3b4a4d3f9b18"
       ],
       "layout": "IPY_MODEL_d5631ac1b552496c86d819ec388bcfd5"
      }
     },
     "84f5892b949243d19f4ab53fe5a854e9": {
      "model_module": "@jupyter-widgets/base",
      "model_module_version": "1.2.0",
      "model_name": "LayoutModel",
      "state": {
       "_model_module": "@jupyter-widgets/base",
       "_model_module_version": "1.2.0",
       "_model_name": "LayoutModel",
       "_view_count": null,
       "_view_module": "@jupyter-widgets/base",
       "_view_module_version": "1.2.0",
       "_view_name": "LayoutView",
       "align_content": null,
       "align_items": null,
       "align_self": null,
       "border": null,
       "bottom": null,
       "display": null,
       "flex": null,
       "flex_flow": null,
       "grid_area": null,
       "grid_auto_columns": null,
       "grid_auto_flow": null,
       "grid_auto_rows": null,
       "grid_column": null,
       "grid_gap": null,
       "grid_row": null,
       "grid_template_areas": null,
       "grid_template_columns": null,
       "grid_template_rows": null,
       "height": null,
       "justify_content": null,
       "justify_items": null,
       "left": null,
       "margin": null,
       "max_height": null,
       "max_width": null,
       "min_height": null,
       "min_width": null,
       "object_fit": null,
       "object_position": null,
       "order": null,
       "overflow": null,
       "overflow_x": null,
       "overflow_y": null,
       "padding": null,
       "right": null,
       "top": null,
       "visibility": null,
       "width": null
      }
     },
     "856e12322ea04c24b76458a852e30656": {
      "model_module": "@jupyter-widgets/controls",
      "model_module_version": "1.5.0",
      "model_name": "DescriptionStyleModel",
      "state": {
       "_model_module": "@jupyter-widgets/controls",
       "_model_module_version": "1.5.0",
       "_model_name": "DescriptionStyleModel",
       "_view_count": null,
       "_view_module": "@jupyter-widgets/base",
       "_view_module_version": "1.2.0",
       "_view_name": "StyleView",
       "description_width": ""
      }
     },
     "857e4687c13d4832a3e3c139d5f43bb8": {
      "model_module": "@jupyter-widgets/controls",
      "model_module_version": "1.5.0",
      "model_name": "DescriptionStyleModel",
      "state": {
       "_model_module": "@jupyter-widgets/controls",
       "_model_module_version": "1.5.0",
       "_model_name": "DescriptionStyleModel",
       "_view_count": null,
       "_view_module": "@jupyter-widgets/base",
       "_view_module_version": "1.2.0",
       "_view_name": "StyleView",
       "description_width": ""
      }
     },
     "87698e6dfe4d45ac8a8aa39a181d87d4": {
      "model_module": "@jupyter-widgets/controls",
      "model_module_version": "1.5.0",
      "model_name": "ProgressStyleModel",
      "state": {
       "_model_module": "@jupyter-widgets/controls",
       "_model_module_version": "1.5.0",
       "_model_name": "ProgressStyleModel",
       "_view_count": null,
       "_view_module": "@jupyter-widgets/base",
       "_view_module_version": "1.2.0",
       "_view_name": "StyleView",
       "bar_color": null,
       "description_width": ""
      }
     },
     "8838a4d91a6648c79af49e62bd48b39c": {
      "model_module": "@jupyter-widgets/controls",
      "model_module_version": "1.5.0",
      "model_name": "HTMLModel",
      "state": {
       "_dom_classes": [],
       "_model_module": "@jupyter-widgets/controls",
       "_model_module_version": "1.5.0",
       "_model_name": "HTMLModel",
       "_view_count": null,
       "_view_module": "@jupyter-widgets/controls",
       "_view_module_version": "1.5.0",
       "_view_name": "HTMLView",
       "description": "",
       "description_tooltip": null,
       "layout": "IPY_MODEL_9d383413150e4ddfb4058908ee33b38a",
       "placeholder": "​",
       "style": "IPY_MODEL_a3fdca01edec44769a6a4826dff479a7",
       "value": "100%"
      }
     },
     "88ae243de1864f459cbbbd6fe3f50c4f": {
      "model_module": "@jupyter-widgets/controls",
      "model_module_version": "1.5.0",
      "model_name": "HBoxModel",
      "state": {
       "_dom_classes": [],
       "_model_module": "@jupyter-widgets/controls",
       "_model_module_version": "1.5.0",
       "_model_name": "HBoxModel",
       "_view_count": null,
       "_view_module": "@jupyter-widgets/controls",
       "_view_module_version": "1.5.0",
       "_view_name": "HBoxView",
       "box_style": "",
       "children": [
        "IPY_MODEL_15fde8c358794a139e6d610ea01d88da",
        "IPY_MODEL_ecbb887045d0436daedc21fa43116f33",
        "IPY_MODEL_41dd9076c38842cb9d3eebffe5a87202"
       ],
       "layout": "IPY_MODEL_548d1853519045809dc5e6be9969787e"
      }
     },
     "8bc7331a70524a7599808fec39081325": {
      "model_module": "@jupyter-widgets/base",
      "model_module_version": "1.2.0",
      "model_name": "LayoutModel",
      "state": {
       "_model_module": "@jupyter-widgets/base",
       "_model_module_version": "1.2.0",
       "_model_name": "LayoutModel",
       "_view_count": null,
       "_view_module": "@jupyter-widgets/base",
       "_view_module_version": "1.2.0",
       "_view_name": "LayoutView",
       "align_content": null,
       "align_items": null,
       "align_self": null,
       "border": null,
       "bottom": null,
       "display": null,
       "flex": null,
       "flex_flow": null,
       "grid_area": null,
       "grid_auto_columns": null,
       "grid_auto_flow": null,
       "grid_auto_rows": null,
       "grid_column": null,
       "grid_gap": null,
       "grid_row": null,
       "grid_template_areas": null,
       "grid_template_columns": null,
       "grid_template_rows": null,
       "height": null,
       "justify_content": null,
       "justify_items": null,
       "left": null,
       "margin": null,
       "max_height": null,
       "max_width": null,
       "min_height": null,
       "min_width": null,
       "object_fit": null,
       "object_position": null,
       "order": null,
       "overflow": null,
       "overflow_x": null,
       "overflow_y": null,
       "padding": null,
       "right": null,
       "top": null,
       "visibility": null,
       "width": null
      }
     },
     "8ed92325a700495da043206c4014bec9": {
      "model_module": "@jupyter-widgets/base",
      "model_module_version": "1.2.0",
      "model_name": "LayoutModel",
      "state": {
       "_model_module": "@jupyter-widgets/base",
       "_model_module_version": "1.2.0",
       "_model_name": "LayoutModel",
       "_view_count": null,
       "_view_module": "@jupyter-widgets/base",
       "_view_module_version": "1.2.0",
       "_view_name": "LayoutView",
       "align_content": null,
       "align_items": null,
       "align_self": null,
       "border": null,
       "bottom": null,
       "display": null,
       "flex": null,
       "flex_flow": null,
       "grid_area": null,
       "grid_auto_columns": null,
       "grid_auto_flow": null,
       "grid_auto_rows": null,
       "grid_column": null,
       "grid_gap": null,
       "grid_row": null,
       "grid_template_areas": null,
       "grid_template_columns": null,
       "grid_template_rows": null,
       "height": null,
       "justify_content": null,
       "justify_items": null,
       "left": null,
       "margin": null,
       "max_height": null,
       "max_width": null,
       "min_height": null,
       "min_width": null,
       "object_fit": null,
       "object_position": null,
       "order": null,
       "overflow": null,
       "overflow_x": null,
       "overflow_y": null,
       "padding": null,
       "right": null,
       "top": null,
       "visibility": null,
       "width": null
      }
     },
     "8f7fc9eb60cc47be8e2d38e29964f2a6": {
      "model_module": "@jupyter-widgets/base",
      "model_module_version": "1.2.0",
      "model_name": "LayoutModel",
      "state": {
       "_model_module": "@jupyter-widgets/base",
       "_model_module_version": "1.2.0",
       "_model_name": "LayoutModel",
       "_view_count": null,
       "_view_module": "@jupyter-widgets/base",
       "_view_module_version": "1.2.0",
       "_view_name": "LayoutView",
       "align_content": null,
       "align_items": null,
       "align_self": null,
       "border": null,
       "bottom": null,
       "display": null,
       "flex": null,
       "flex_flow": null,
       "grid_area": null,
       "grid_auto_columns": null,
       "grid_auto_flow": null,
       "grid_auto_rows": null,
       "grid_column": null,
       "grid_gap": null,
       "grid_row": null,
       "grid_template_areas": null,
       "grid_template_columns": null,
       "grid_template_rows": null,
       "height": null,
       "justify_content": null,
       "justify_items": null,
       "left": null,
       "margin": null,
       "max_height": null,
       "max_width": null,
       "min_height": null,
       "min_width": null,
       "object_fit": null,
       "object_position": null,
       "order": null,
       "overflow": null,
       "overflow_x": null,
       "overflow_y": null,
       "padding": null,
       "right": null,
       "top": null,
       "visibility": null,
       "width": null
      }
     },
     "90aee85360cd41208a614c72a6bce0aa": {
      "model_module": "@jupyter-widgets/base",
      "model_module_version": "1.2.0",
      "model_name": "LayoutModel",
      "state": {
       "_model_module": "@jupyter-widgets/base",
       "_model_module_version": "1.2.0",
       "_model_name": "LayoutModel",
       "_view_count": null,
       "_view_module": "@jupyter-widgets/base",
       "_view_module_version": "1.2.0",
       "_view_name": "LayoutView",
       "align_content": null,
       "align_items": null,
       "align_self": null,
       "border": null,
       "bottom": null,
       "display": "inline-flex",
       "flex": null,
       "flex_flow": "row wrap",
       "grid_area": null,
       "grid_auto_columns": null,
       "grid_auto_flow": null,
       "grid_auto_rows": null,
       "grid_column": null,
       "grid_gap": null,
       "grid_row": null,
       "grid_template_areas": null,
       "grid_template_columns": null,
       "grid_template_rows": null,
       "height": null,
       "justify_content": null,
       "justify_items": null,
       "left": null,
       "margin": null,
       "max_height": null,
       "max_width": null,
       "min_height": null,
       "min_width": null,
       "object_fit": null,
       "object_position": null,
       "order": null,
       "overflow": null,
       "overflow_x": null,
       "overflow_y": null,
       "padding": null,
       "right": null,
       "top": null,
       "visibility": null,
       "width": "1000px"
      }
     },
     "91a22b0573e14054bea27c33c318d089": {
      "model_module": "@jupyter-widgets/base",
      "model_module_version": "1.2.0",
      "model_name": "LayoutModel",
      "state": {
       "_model_module": "@jupyter-widgets/base",
       "_model_module_version": "1.2.0",
       "_model_name": "LayoutModel",
       "_view_count": null,
       "_view_module": "@jupyter-widgets/base",
       "_view_module_version": "1.2.0",
       "_view_name": "LayoutView",
       "align_content": null,
       "align_items": null,
       "align_self": null,
       "border": null,
       "bottom": null,
       "display": null,
       "flex": null,
       "flex_flow": null,
       "grid_area": null,
       "grid_auto_columns": null,
       "grid_auto_flow": null,
       "grid_auto_rows": null,
       "grid_column": null,
       "grid_gap": null,
       "grid_row": null,
       "grid_template_areas": null,
       "grid_template_columns": null,
       "grid_template_rows": null,
       "height": null,
       "justify_content": null,
       "justify_items": null,
       "left": null,
       "margin": null,
       "max_height": null,
       "max_width": null,
       "min_height": null,
       "min_width": null,
       "object_fit": null,
       "object_position": null,
       "order": null,
       "overflow": null,
       "overflow_x": null,
       "overflow_y": null,
       "padding": null,
       "right": null,
       "top": null,
       "visibility": null,
       "width": null
      }
     },
     "92495e1304814e2aa7e08099b6137f58": {
      "model_module": "@jupyter-widgets/base",
      "model_module_version": "1.2.0",
      "model_name": "LayoutModel",
      "state": {
       "_model_module": "@jupyter-widgets/base",
       "_model_module_version": "1.2.0",
       "_model_name": "LayoutModel",
       "_view_count": null,
       "_view_module": "@jupyter-widgets/base",
       "_view_module_version": "1.2.0",
       "_view_name": "LayoutView",
       "align_content": null,
       "align_items": null,
       "align_self": null,
       "border": null,
       "bottom": null,
       "display": null,
       "flex": null,
       "flex_flow": null,
       "grid_area": null,
       "grid_auto_columns": null,
       "grid_auto_flow": null,
       "grid_auto_rows": null,
       "grid_column": null,
       "grid_gap": null,
       "grid_row": null,
       "grid_template_areas": null,
       "grid_template_columns": null,
       "grid_template_rows": null,
       "height": null,
       "justify_content": null,
       "justify_items": null,
       "left": null,
       "margin": null,
       "max_height": null,
       "max_width": null,
       "min_height": null,
       "min_width": null,
       "object_fit": null,
       "object_position": null,
       "order": null,
       "overflow": null,
       "overflow_x": null,
       "overflow_y": null,
       "padding": null,
       "right": null,
       "top": null,
       "visibility": null,
       "width": null
      }
     },
     "928db35b5ef9439cabeb109e602452f1": {
      "model_module": "@jupyter-widgets/base",
      "model_module_version": "1.2.0",
      "model_name": "LayoutModel",
      "state": {
       "_model_module": "@jupyter-widgets/base",
       "_model_module_version": "1.2.0",
       "_model_name": "LayoutModel",
       "_view_count": null,
       "_view_module": "@jupyter-widgets/base",
       "_view_module_version": "1.2.0",
       "_view_name": "LayoutView",
       "align_content": null,
       "align_items": null,
       "align_self": null,
       "border": null,
       "bottom": null,
       "display": null,
       "flex": null,
       "flex_flow": null,
       "grid_area": null,
       "grid_auto_columns": null,
       "grid_auto_flow": null,
       "grid_auto_rows": null,
       "grid_column": null,
       "grid_gap": null,
       "grid_row": null,
       "grid_template_areas": null,
       "grid_template_columns": null,
       "grid_template_rows": null,
       "height": null,
       "justify_content": null,
       "justify_items": null,
       "left": null,
       "margin": null,
       "max_height": null,
       "max_width": null,
       "min_height": null,
       "min_width": null,
       "object_fit": null,
       "object_position": null,
       "order": null,
       "overflow": null,
       "overflow_x": null,
       "overflow_y": null,
       "padding": null,
       "right": null,
       "top": null,
       "visibility": null,
       "width": null
      }
     },
     "9326990f2a894e8bb15c6e431411efe1": {
      "model_module": "@jupyter-widgets/base",
      "model_module_version": "1.2.0",
      "model_name": "LayoutModel",
      "state": {
       "_model_module": "@jupyter-widgets/base",
       "_model_module_version": "1.2.0",
       "_model_name": "LayoutModel",
       "_view_count": null,
       "_view_module": "@jupyter-widgets/base",
       "_view_module_version": "1.2.0",
       "_view_name": "LayoutView",
       "align_content": null,
       "align_items": null,
       "align_self": null,
       "border": null,
       "bottom": null,
       "display": null,
       "flex": null,
       "flex_flow": null,
       "grid_area": null,
       "grid_auto_columns": null,
       "grid_auto_flow": null,
       "grid_auto_rows": null,
       "grid_column": null,
       "grid_gap": null,
       "grid_row": null,
       "grid_template_areas": null,
       "grid_template_columns": null,
       "grid_template_rows": null,
       "height": null,
       "justify_content": null,
       "justify_items": null,
       "left": null,
       "margin": null,
       "max_height": null,
       "max_width": null,
       "min_height": null,
       "min_width": null,
       "object_fit": null,
       "object_position": null,
       "order": null,
       "overflow": null,
       "overflow_x": null,
       "overflow_y": null,
       "padding": null,
       "right": null,
       "top": null,
       "visibility": null,
       "width": null
      }
     },
     "943a17b1bc9f432abf9505043914828c": {
      "model_module": "@jupyter-widgets/controls",
      "model_module_version": "1.5.0",
      "model_name": "HTMLModel",
      "state": {
       "_dom_classes": [],
       "_model_module": "@jupyter-widgets/controls",
       "_model_module_version": "1.5.0",
       "_model_name": "HTMLModel",
       "_view_count": null,
       "_view_module": "@jupyter-widgets/controls",
       "_view_module_version": "1.5.0",
       "_view_name": "HTMLView",
       "description": "",
       "description_tooltip": null,
       "layout": "IPY_MODEL_235a2d5f7e0a44f3aa6300ae44d5b538",
       "placeholder": "​",
       "style": "IPY_MODEL_8179f2a1cdf94cb89cd06d96c4241dde",
       "value": " 10/10 [00:00&lt;00:00, 109.11it/s]"
      }
     },
     "95030f1c82134bd189f0024ab4897d61": {
      "model_module": "@jupyter-widgets/controls",
      "model_module_version": "1.5.0",
      "model_name": "DescriptionStyleModel",
      "state": {
       "_model_module": "@jupyter-widgets/controls",
       "_model_module_version": "1.5.0",
       "_model_name": "DescriptionStyleModel",
       "_view_count": null,
       "_view_module": "@jupyter-widgets/base",
       "_view_module_version": "1.2.0",
       "_view_name": "StyleView",
       "description_width": ""
      }
     },
     "95fb079d7e8644a98a20610a20bd1c36": {
      "model_module": "@jupyter-widgets/base",
      "model_module_version": "1.2.0",
      "model_name": "LayoutModel",
      "state": {
       "_model_module": "@jupyter-widgets/base",
       "_model_module_version": "1.2.0",
       "_model_name": "LayoutModel",
       "_view_count": null,
       "_view_module": "@jupyter-widgets/base",
       "_view_module_version": "1.2.0",
       "_view_name": "LayoutView",
       "align_content": null,
       "align_items": null,
       "align_self": null,
       "border": null,
       "bottom": null,
       "display": null,
       "flex": null,
       "flex_flow": null,
       "grid_area": null,
       "grid_auto_columns": null,
       "grid_auto_flow": null,
       "grid_auto_rows": null,
       "grid_column": null,
       "grid_gap": null,
       "grid_row": null,
       "grid_template_areas": null,
       "grid_template_columns": null,
       "grid_template_rows": null,
       "height": null,
       "justify_content": null,
       "justify_items": null,
       "left": null,
       "margin": null,
       "max_height": null,
       "max_width": null,
       "min_height": null,
       "min_width": null,
       "object_fit": null,
       "object_position": null,
       "order": null,
       "overflow": null,
       "overflow_x": null,
       "overflow_y": null,
       "padding": null,
       "right": null,
       "top": null,
       "visibility": null,
       "width": null
      }
     },
     "966b1e3256844b22b898b784a9732ebd": {
      "model_module": "@jupyter-widgets/controls",
      "model_module_version": "1.5.0",
      "model_name": "HTMLModel",
      "state": {
       "_dom_classes": [],
       "_model_module": "@jupyter-widgets/controls",
       "_model_module_version": "1.5.0",
       "_model_name": "HTMLModel",
       "_view_count": null,
       "_view_module": "@jupyter-widgets/controls",
       "_view_module_version": "1.5.0",
       "_view_name": "HTMLView",
       "description": "",
       "description_tooltip": null,
       "layout": "IPY_MODEL_4a21b22884584420a74d3a72d82fc283",
       "placeholder": "​",
       "style": "IPY_MODEL_394c945ca329497c8091d890ca8f0693",
       "value": "100%"
      }
     },
     "9715a1115b4d43ccae0e691fca39d3f8": {
      "model_module": "@jupyter-widgets/controls",
      "model_module_version": "1.5.0",
      "model_name": "DescriptionStyleModel",
      "state": {
       "_model_module": "@jupyter-widgets/controls",
       "_model_module_version": "1.5.0",
       "_model_name": "DescriptionStyleModel",
       "_view_count": null,
       "_view_module": "@jupyter-widgets/base",
       "_view_module_version": "1.2.0",
       "_view_name": "StyleView",
       "description_width": ""
      }
     },
     "9ada2428715c4d4b8f86497a5e841509": {
      "model_module": "@jupyter-widgets/controls",
      "model_module_version": "1.5.0",
      "model_name": "HBoxModel",
      "state": {
       "_dom_classes": [],
       "_model_module": "@jupyter-widgets/controls",
       "_model_module_version": "1.5.0",
       "_model_name": "HBoxModel",
       "_view_count": null,
       "_view_module": "@jupyter-widgets/controls",
       "_view_module_version": "1.5.0",
       "_view_name": "HBoxView",
       "box_style": "",
       "children": [
        "IPY_MODEL_a4a96d2ed69f4a339f8e433a03b4d6e6",
        "IPY_MODEL_41230f3aa02d4d8dbb130944f71c9247",
        "IPY_MODEL_50f0a97824c445b79a3507361f7c0b0d"
       ],
       "layout": "IPY_MODEL_c5692ad1491347409b165b0da1a6a958"
      }
     },
     "9bc97c8dae6f455e8ead0d457a8dbe16": {
      "model_module": "@jupyter-widgets/controls",
      "model_module_version": "1.5.0",
      "model_name": "DescriptionStyleModel",
      "state": {
       "_model_module": "@jupyter-widgets/controls",
       "_model_module_version": "1.5.0",
       "_model_name": "DescriptionStyleModel",
       "_view_count": null,
       "_view_module": "@jupyter-widgets/base",
       "_view_module_version": "1.2.0",
       "_view_name": "StyleView",
       "description_width": ""
      }
     },
     "9d383413150e4ddfb4058908ee33b38a": {
      "model_module": "@jupyter-widgets/base",
      "model_module_version": "1.2.0",
      "model_name": "LayoutModel",
      "state": {
       "_model_module": "@jupyter-widgets/base",
       "_model_module_version": "1.2.0",
       "_model_name": "LayoutModel",
       "_view_count": null,
       "_view_module": "@jupyter-widgets/base",
       "_view_module_version": "1.2.0",
       "_view_name": "LayoutView",
       "align_content": null,
       "align_items": null,
       "align_self": null,
       "border": null,
       "bottom": null,
       "display": null,
       "flex": null,
       "flex_flow": null,
       "grid_area": null,
       "grid_auto_columns": null,
       "grid_auto_flow": null,
       "grid_auto_rows": null,
       "grid_column": null,
       "grid_gap": null,
       "grid_row": null,
       "grid_template_areas": null,
       "grid_template_columns": null,
       "grid_template_rows": null,
       "height": null,
       "justify_content": null,
       "justify_items": null,
       "left": null,
       "margin": null,
       "max_height": null,
       "max_width": null,
       "min_height": null,
       "min_width": null,
       "object_fit": null,
       "object_position": null,
       "order": null,
       "overflow": null,
       "overflow_x": null,
       "overflow_y": null,
       "padding": null,
       "right": null,
       "top": null,
       "visibility": null,
       "width": null
      }
     },
     "9d3ddf8d26cf438fb179cef41f72573e": {
      "model_module": "@jupyter-widgets/controls",
      "model_module_version": "1.5.0",
      "model_name": "HTMLModel",
      "state": {
       "_dom_classes": [],
       "_model_module": "@jupyter-widgets/controls",
       "_model_module_version": "1.5.0",
       "_model_name": "HTMLModel",
       "_view_count": null,
       "_view_module": "@jupyter-widgets/controls",
       "_view_module_version": "1.5.0",
       "_view_name": "HTMLView",
       "description": "",
       "description_tooltip": null,
       "layout": "IPY_MODEL_91a22b0573e14054bea27c33c318d089",
       "placeholder": "​",
       "style": "IPY_MODEL_dce9c8e6dbd34f5095438cb6825ffd9c",
       "value": " 5/5 [00:00&lt;00:00, 351.43it/s]"
      }
     },
     "9fdb649170754dd2b64b2e6d8205b337": {
      "model_module": "@jupyter-widgets/controls",
      "model_module_version": "1.5.0",
      "model_name": "ProgressStyleModel",
      "state": {
       "_model_module": "@jupyter-widgets/controls",
       "_model_module_version": "1.5.0",
       "_model_name": "ProgressStyleModel",
       "_view_count": null,
       "_view_module": "@jupyter-widgets/base",
       "_view_module_version": "1.2.0",
       "_view_name": "StyleView",
       "bar_color": null,
       "description_width": ""
      }
     },
     "a00920ff4b4148829217b3d1a5fb6b0f": {
      "model_module": "@jupyter-widgets/controls",
      "model_module_version": "1.5.0",
      "model_name": "DescriptionStyleModel",
      "state": {
       "_model_module": "@jupyter-widgets/controls",
       "_model_module_version": "1.5.0",
       "_model_name": "DescriptionStyleModel",
       "_view_count": null,
       "_view_module": "@jupyter-widgets/base",
       "_view_module_version": "1.2.0",
       "_view_name": "StyleView",
       "description_width": ""
      }
     },
     "a1b7626907704700a73983316fa0b97d": {
      "model_module": "@jupyter-widgets/controls",
      "model_module_version": "1.5.0",
      "model_name": "DescriptionStyleModel",
      "state": {
       "_model_module": "@jupyter-widgets/controls",
       "_model_module_version": "1.5.0",
       "_model_name": "DescriptionStyleModel",
       "_view_count": null,
       "_view_module": "@jupyter-widgets/base",
       "_view_module_version": "1.2.0",
       "_view_name": "StyleView",
       "description_width": ""
      }
     },
     "a3fdca01edec44769a6a4826dff479a7": {
      "model_module": "@jupyter-widgets/controls",
      "model_module_version": "1.5.0",
      "model_name": "DescriptionStyleModel",
      "state": {
       "_model_module": "@jupyter-widgets/controls",
       "_model_module_version": "1.5.0",
       "_model_name": "DescriptionStyleModel",
       "_view_count": null,
       "_view_module": "@jupyter-widgets/base",
       "_view_module_version": "1.2.0",
       "_view_name": "StyleView",
       "description_width": ""
      }
     },
     "a42a80cf32844896ba3a29c42b4ec46b": {
      "model_module": "@jupyter-widgets/controls",
      "model_module_version": "1.5.0",
      "model_name": "FloatProgressModel",
      "state": {
       "_dom_classes": [],
       "_model_module": "@jupyter-widgets/controls",
       "_model_module_version": "1.5.0",
       "_model_name": "FloatProgressModel",
       "_view_count": null,
       "_view_module": "@jupyter-widgets/controls",
       "_view_module_version": "1.5.0",
       "_view_name": "ProgressView",
       "bar_style": "success",
       "description": "",
       "description_tooltip": null,
       "layout": "IPY_MODEL_daa854d21b7f46c6a8e1ff1211faa7c5",
       "max": 10000.0,
       "min": 0.0,
       "orientation": "horizontal",
       "style": "IPY_MODEL_d067692a96834cfeabbd108156e6503e",
       "value": 524.0
      }
     },
     "a4a96d2ed69f4a339f8e433a03b4d6e6": {
      "model_module": "@jupyter-widgets/controls",
      "model_module_version": "1.5.0",
      "model_name": "HTMLModel",
      "state": {
       "_dom_classes": [],
       "_model_module": "@jupyter-widgets/controls",
       "_model_module_version": "1.5.0",
       "_model_name": "HTMLModel",
       "_view_count": null,
       "_view_module": "@jupyter-widgets/controls",
       "_view_module_version": "1.5.0",
       "_view_name": "HTMLView",
       "description": "",
       "description_tooltip": null,
       "layout": "IPY_MODEL_283abe32d72b421abf924ca3dea4ba00",
       "placeholder": "​",
       "style": "IPY_MODEL_95030f1c82134bd189f0024ab4897d61",
       "value": "100%"
      }
     },
     "a4fe6fe93a3c4a6990ec1913d2ec25a3": {
      "model_module": "@jupyter-widgets/controls",
      "model_module_version": "1.5.0",
      "model_name": "HBoxModel",
      "state": {
       "_dom_classes": [],
       "_model_module": "@jupyter-widgets/controls",
       "_model_module_version": "1.5.0",
       "_model_name": "HBoxModel",
       "_view_count": null,
       "_view_module": "@jupyter-widgets/controls",
       "_view_module_version": "1.5.0",
       "_view_name": "HBoxView",
       "box_style": "",
       "children": [
        "IPY_MODEL_8838a4d91a6648c79af49e62bd48b39c",
        "IPY_MODEL_3502055a82254c4ba9d58fcc22ed565a",
        "IPY_MODEL_5c8dd39c423b4c7fb53324936599315b"
       ],
       "layout": "IPY_MODEL_05e6c0d617134dc5928fd180236f2c61"
      }
     },
     "a64c7ececf6a4e94ad636ef80a14fd65": {
      "model_module": "@jupyter-widgets/base",
      "model_module_version": "1.2.0",
      "model_name": "LayoutModel",
      "state": {
       "_model_module": "@jupyter-widgets/base",
       "_model_module_version": "1.2.0",
       "_model_name": "LayoutModel",
       "_view_count": null,
       "_view_module": "@jupyter-widgets/base",
       "_view_module_version": "1.2.0",
       "_view_name": "LayoutView",
       "align_content": null,
       "align_items": null,
       "align_self": null,
       "border": null,
       "bottom": null,
       "display": null,
       "flex": null,
       "flex_flow": null,
       "grid_area": null,
       "grid_auto_columns": null,
       "grid_auto_flow": null,
       "grid_auto_rows": null,
       "grid_column": null,
       "grid_gap": null,
       "grid_row": null,
       "grid_template_areas": null,
       "grid_template_columns": null,
       "grid_template_rows": null,
       "height": null,
       "justify_content": null,
       "justify_items": null,
       "left": null,
       "margin": null,
       "max_height": null,
       "max_width": null,
       "min_height": null,
       "min_width": null,
       "object_fit": null,
       "object_position": null,
       "order": null,
       "overflow": null,
       "overflow_x": null,
       "overflow_y": null,
       "padding": null,
       "right": null,
       "top": null,
       "visibility": null,
       "width": null
      }
     },
     "a880a371574b4e0aaf613f14672487bb": {
      "model_module": "@jupyter-widgets/controls",
      "model_module_version": "1.5.0",
      "model_name": "DescriptionStyleModel",
      "state": {
       "_model_module": "@jupyter-widgets/controls",
       "_model_module_version": "1.5.0",
       "_model_name": "DescriptionStyleModel",
       "_view_count": null,
       "_view_module": "@jupyter-widgets/base",
       "_view_module_version": "1.2.0",
       "_view_name": "StyleView",
       "description_width": ""
      }
     },
     "ab6f8dabd8ed4d5ea5a36359c8558bb2": {
      "model_module": "@jupyter-widgets/base",
      "model_module_version": "1.2.0",
      "model_name": "LayoutModel",
      "state": {
       "_model_module": "@jupyter-widgets/base",
       "_model_module_version": "1.2.0",
       "_model_name": "LayoutModel",
       "_view_count": null,
       "_view_module": "@jupyter-widgets/base",
       "_view_module_version": "1.2.0",
       "_view_name": "LayoutView",
       "align_content": null,
       "align_items": null,
       "align_self": null,
       "border": null,
       "bottom": null,
       "display": null,
       "flex": null,
       "flex_flow": null,
       "grid_area": null,
       "grid_auto_columns": null,
       "grid_auto_flow": null,
       "grid_auto_rows": null,
       "grid_column": null,
       "grid_gap": null,
       "grid_row": null,
       "grid_template_areas": null,
       "grid_template_columns": null,
       "grid_template_rows": null,
       "height": null,
       "justify_content": null,
       "justify_items": null,
       "left": null,
       "margin": null,
       "max_height": null,
       "max_width": null,
       "min_height": null,
       "min_width": null,
       "object_fit": null,
       "object_position": null,
       "order": null,
       "overflow": null,
       "overflow_x": null,
       "overflow_y": null,
       "padding": null,
       "right": null,
       "top": null,
       "visibility": null,
       "width": null
      }
     },
     "ada2cbb41c434cabb44eab55a391ceaf": {
      "model_module": "@jupyter-widgets/controls",
      "model_module_version": "1.5.0",
      "model_name": "HTMLModel",
      "state": {
       "_dom_classes": [],
       "_model_module": "@jupyter-widgets/controls",
       "_model_module_version": "1.5.0",
       "_model_name": "HTMLModel",
       "_view_count": null,
       "_view_module": "@jupyter-widgets/controls",
       "_view_module_version": "1.5.0",
       "_view_name": "HTMLView",
       "description": "",
       "description_tooltip": null,
       "layout": "IPY_MODEL_15ca51884e0c42c3968daa1cc1541d24",
       "placeholder": "​",
       "style": "IPY_MODEL_2a4862dfe6e9436cb0023f9681892eda",
       "value": " | loss 0.783 Δ 0.001 :  ✓: 100%"
      }
     },
     "afa697ca553a4dd39c6cd31b256d7f62": {
      "model_module": "@jupyter-widgets/controls",
      "model_module_version": "1.5.0",
      "model_name": "HBoxModel",
      "state": {
       "_dom_classes": [],
       "_model_module": "@jupyter-widgets/controls",
       "_model_module_version": "1.5.0",
       "_model_name": "HBoxModel",
       "_view_count": null,
       "_view_module": "@jupyter-widgets/controls",
       "_view_module_version": "1.5.0",
       "_view_name": "HBoxView",
       "box_style": "",
       "children": [
        "IPY_MODEL_ba7980c0048a427296312a7a73c4cb30",
        "IPY_MODEL_35ead72960974c5dac68c204d081e9b7",
        "IPY_MODEL_943a17b1bc9f432abf9505043914828c"
       ],
       "layout": "IPY_MODEL_1757033a2d1042258639f8109e984bf9"
      }
     },
     "b0f50d284a4440c48b277c41578e212e": {
      "model_module": "@jupyter-widgets/controls",
      "model_module_version": "1.5.0",
      "model_name": "FloatProgressModel",
      "state": {
       "_dom_classes": [],
       "_model_module": "@jupyter-widgets/controls",
       "_model_module_version": "1.5.0",
       "_model_name": "FloatProgressModel",
       "_view_count": null,
       "_view_module": "@jupyter-widgets/controls",
       "_view_module_version": "1.5.0",
       "_view_name": "ProgressView",
       "bar_style": "success",
       "description": "",
       "description_tooltip": null,
       "layout": "IPY_MODEL_7c446a598318437292daec3879bc4592",
       "max": 5.0,
       "min": 0.0,
       "orientation": "horizontal",
       "style": "IPY_MODEL_6896857613cd4e1aa7a51a11180ee9a6",
       "value": 5.0
      }
     },
     "b1f4cc91099241aeb6e6b4700b26ce99": {
      "model_module": "@jupyter-widgets/base",
      "model_module_version": "1.2.0",
      "model_name": "LayoutModel",
      "state": {
       "_model_module": "@jupyter-widgets/base",
       "_model_module_version": "1.2.0",
       "_model_name": "LayoutModel",
       "_view_count": null,
       "_view_module": "@jupyter-widgets/base",
       "_view_module_version": "1.2.0",
       "_view_name": "LayoutView",
       "align_content": null,
       "align_items": null,
       "align_self": null,
       "border": null,
       "bottom": null,
       "display": null,
       "flex": null,
       "flex_flow": null,
       "grid_area": null,
       "grid_auto_columns": null,
       "grid_auto_flow": null,
       "grid_auto_rows": null,
       "grid_column": null,
       "grid_gap": null,
       "grid_row": null,
       "grid_template_areas": null,
       "grid_template_columns": null,
       "grid_template_rows": null,
       "height": null,
       "justify_content": null,
       "justify_items": null,
       "left": null,
       "margin": null,
       "max_height": null,
       "max_width": null,
       "min_height": null,
       "min_width": null,
       "object_fit": null,
       "object_position": null,
       "order": null,
       "overflow": null,
       "overflow_x": null,
       "overflow_y": null,
       "padding": null,
       "right": null,
       "top": null,
       "visibility": null,
       "width": null
      }
     },
     "b34e958506a54dbd8f10a5e726c84a5a": {
      "model_module": "@jupyter-widgets/base",
      "model_module_version": "1.2.0",
      "model_name": "LayoutModel",
      "state": {
       "_model_module": "@jupyter-widgets/base",
       "_model_module_version": "1.2.0",
       "_model_name": "LayoutModel",
       "_view_count": null,
       "_view_module": "@jupyter-widgets/base",
       "_view_module_version": "1.2.0",
       "_view_name": "LayoutView",
       "align_content": null,
       "align_items": null,
       "align_self": null,
       "border": null,
       "bottom": null,
       "display": null,
       "flex": null,
       "flex_flow": null,
       "grid_area": null,
       "grid_auto_columns": null,
       "grid_auto_flow": null,
       "grid_auto_rows": null,
       "grid_column": null,
       "grid_gap": null,
       "grid_row": null,
       "grid_template_areas": null,
       "grid_template_columns": null,
       "grid_template_rows": null,
       "height": null,
       "justify_content": null,
       "justify_items": null,
       "left": null,
       "margin": null,
       "max_height": null,
       "max_width": null,
       "min_height": null,
       "min_width": null,
       "object_fit": null,
       "object_position": null,
       "order": null,
       "overflow": null,
       "overflow_x": null,
       "overflow_y": null,
       "padding": null,
       "right": null,
       "top": null,
       "visibility": null,
       "width": null
      }
     },
     "b71aacb4f8ed4c81b8901819be6581c2": {
      "model_module": "@jupyter-widgets/base",
      "model_module_version": "1.2.0",
      "model_name": "LayoutModel",
      "state": {
       "_model_module": "@jupyter-widgets/base",
       "_model_module_version": "1.2.0",
       "_model_name": "LayoutModel",
       "_view_count": null,
       "_view_module": "@jupyter-widgets/base",
       "_view_module_version": "1.2.0",
       "_view_name": "LayoutView",
       "align_content": null,
       "align_items": null,
       "align_self": null,
       "border": null,
       "bottom": null,
       "display": null,
       "flex": "2",
       "flex_flow": null,
       "grid_area": null,
       "grid_auto_columns": null,
       "grid_auto_flow": null,
       "grid_auto_rows": null,
       "grid_column": null,
       "grid_gap": null,
       "grid_row": null,
       "grid_template_areas": null,
       "grid_template_columns": null,
       "grid_template_rows": null,
       "height": null,
       "justify_content": null,
       "justify_items": null,
       "left": null,
       "margin": null,
       "max_height": null,
       "max_width": null,
       "min_height": null,
       "min_width": null,
       "object_fit": null,
       "object_position": null,
       "order": null,
       "overflow": null,
       "overflow_x": null,
       "overflow_y": null,
       "padding": null,
       "right": null,
       "top": null,
       "visibility": null,
       "width": null
      }
     },
     "b88d9e99607947209192df779e52cd70": {
      "model_module": "@jupyter-widgets/controls",
      "model_module_version": "1.5.0",
      "model_name": "HTMLModel",
      "state": {
       "_dom_classes": [],
       "_model_module": "@jupyter-widgets/controls",
       "_model_module_version": "1.5.0",
       "_model_name": "HTMLModel",
       "_view_count": null,
       "_view_module": "@jupyter-widgets/controls",
       "_view_module_version": "1.5.0",
       "_view_name": "HTMLView",
       "description": "",
       "description_tooltip": null,
       "layout": "IPY_MODEL_eb4d3114196447b49ee51dd369a43bcc",
       "placeholder": "​",
       "style": "IPY_MODEL_857e4687c13d4832a3e3c139d5f43bb8",
       "value": " 5/5 [00:00&lt;00:00, 354.39it/s]"
      }
     },
     "ba7980c0048a427296312a7a73c4cb30": {
      "model_module": "@jupyter-widgets/controls",
      "model_module_version": "1.5.0",
      "model_name": "HTMLModel",
      "state": {
       "_dom_classes": [],
       "_model_module": "@jupyter-widgets/controls",
       "_model_module_version": "1.5.0",
       "_model_name": "HTMLModel",
       "_view_count": null,
       "_view_module": "@jupyter-widgets/controls",
       "_view_module_version": "1.5.0",
       "_view_name": "HTMLView",
       "description": "",
       "description_tooltip": null,
       "layout": "IPY_MODEL_fab1062350a44f1b81777a91eacb2d62",
       "placeholder": "​",
       "style": "IPY_MODEL_4b188577befe46da80efa4ad602843d9",
       "value": "100%"
      }
     },
     "bf749672c0264eb0ac58c588041ed4ff": {
      "model_module": "@jupyter-widgets/base",
      "model_module_version": "1.2.0",
      "model_name": "LayoutModel",
      "state": {
       "_model_module": "@jupyter-widgets/base",
       "_model_module_version": "1.2.0",
       "_model_name": "LayoutModel",
       "_view_count": null,
       "_view_module": "@jupyter-widgets/base",
       "_view_module_version": "1.2.0",
       "_view_name": "LayoutView",
       "align_content": null,
       "align_items": null,
       "align_self": null,
       "border": null,
       "bottom": null,
       "display": null,
       "flex": null,
       "flex_flow": null,
       "grid_area": null,
       "grid_auto_columns": null,
       "grid_auto_flow": null,
       "grid_auto_rows": null,
       "grid_column": null,
       "grid_gap": null,
       "grid_row": null,
       "grid_template_areas": null,
       "grid_template_columns": null,
       "grid_template_rows": null,
       "height": null,
       "justify_content": null,
       "justify_items": null,
       "left": null,
       "margin": null,
       "max_height": null,
       "max_width": null,
       "min_height": null,
       "min_width": null,
       "object_fit": null,
       "object_position": null,
       "order": null,
       "overflow": null,
       "overflow_x": null,
       "overflow_y": null,
       "padding": null,
       "right": null,
       "top": null,
       "visibility": null,
       "width": null
      }
     },
     "bf908d5134fb4c4983b29ce3b88897b4": {
      "model_module": "@jupyter-widgets/base",
      "model_module_version": "1.2.0",
      "model_name": "LayoutModel",
      "state": {
       "_model_module": "@jupyter-widgets/base",
       "_model_module_version": "1.2.0",
       "_model_name": "LayoutModel",
       "_view_count": null,
       "_view_module": "@jupyter-widgets/base",
       "_view_module_version": "1.2.0",
       "_view_name": "LayoutView",
       "align_content": null,
       "align_items": null,
       "align_self": null,
       "border": null,
       "bottom": null,
       "display": null,
       "flex": null,
       "flex_flow": null,
       "grid_area": null,
       "grid_auto_columns": null,
       "grid_auto_flow": null,
       "grid_auto_rows": null,
       "grid_column": null,
       "grid_gap": null,
       "grid_row": null,
       "grid_template_areas": null,
       "grid_template_columns": null,
       "grid_template_rows": null,
       "height": null,
       "justify_content": null,
       "justify_items": null,
       "left": null,
       "margin": null,
       "max_height": null,
       "max_width": null,
       "min_height": null,
       "min_width": null,
       "object_fit": null,
       "object_position": null,
       "order": null,
       "overflow": null,
       "overflow_x": null,
       "overflow_y": null,
       "padding": null,
       "right": null,
       "top": null,
       "visibility": null,
       "width": null
      }
     },
     "c355779bc60743529d5916a812323017": {
      "model_module": "@jupyter-widgets/controls",
      "model_module_version": "1.5.0",
      "model_name": "FloatProgressModel",
      "state": {
       "_dom_classes": [],
       "_model_module": "@jupyter-widgets/controls",
       "_model_module_version": "1.5.0",
       "_model_name": "FloatProgressModel",
       "_view_count": null,
       "_view_module": "@jupyter-widgets/controls",
       "_view_module_version": "1.5.0",
       "_view_name": "ProgressView",
       "bar_style": "success",
       "description": "",
       "description_tooltip": null,
       "layout": "IPY_MODEL_18173483492e4ec4914d73c55916a64e",
       "max": 5.0,
       "min": 0.0,
       "orientation": "horizontal",
       "style": "IPY_MODEL_79d68a8153864ff181d0927ae067e74e",
       "value": 5.0
      }
     },
     "c414261b45ac45878645f9ec3908e3fe": {
      "model_module": "@jupyter-widgets/controls",
      "model_module_version": "1.5.0",
      "model_name": "HTMLModel",
      "state": {
       "_dom_classes": [],
       "_model_module": "@jupyter-widgets/controls",
       "_model_module_version": "1.5.0",
       "_model_name": "HTMLModel",
       "_view_count": null,
       "_view_module": "@jupyter-widgets/controls",
       "_view_module_version": "1.5.0",
       "_view_name": "HTMLView",
       "description": "",
       "description_tooltip": null,
       "layout": "IPY_MODEL_ab6f8dabd8ed4d5ea5a36359c8558bb2",
       "placeholder": "​",
       "style": "IPY_MODEL_635ed59e7f4542a0bb64da9673e69cab",
       "value": " 5/5 [00:00&lt;00:00, 368.13it/s]"
      }
     },
     "c482892b756440319cc4b9e4b97fdf3c": {
      "model_module": "@jupyter-widgets/controls",
      "model_module_version": "1.5.0",
      "model_name": "FloatProgressModel",
      "state": {
       "_dom_classes": [],
       "_model_module": "@jupyter-widgets/controls",
       "_model_module_version": "1.5.0",
       "_model_name": "FloatProgressModel",
       "_view_count": null,
       "_view_module": "@jupyter-widgets/controls",
       "_view_module_version": "1.5.0",
       "_view_name": "ProgressView",
       "bar_style": "success",
       "description": "",
       "description_tooltip": null,
       "layout": "IPY_MODEL_6922e926c5e5408ca4900d4654125e4b",
       "max": 10.0,
       "min": 0.0,
       "orientation": "horizontal",
       "style": "IPY_MODEL_01fc24ce268b40269f9a9dbd0ef76f8e",
       "value": 10.0
      }
     },
     "c4dd3cc2abd04a569b7adb8cef831307": {
      "model_module": "@jupyter-widgets/base",
      "model_module_version": "1.2.0",
      "model_name": "LayoutModel",
      "state": {
       "_model_module": "@jupyter-widgets/base",
       "_model_module_version": "1.2.0",
       "_model_name": "LayoutModel",
       "_view_count": null,
       "_view_module": "@jupyter-widgets/base",
       "_view_module_version": "1.2.0",
       "_view_name": "LayoutView",
       "align_content": null,
       "align_items": null,
       "align_self": null,
       "border": null,
       "bottom": null,
       "display": null,
       "flex": null,
       "flex_flow": null,
       "grid_area": null,
       "grid_auto_columns": null,
       "grid_auto_flow": null,
       "grid_auto_rows": null,
       "grid_column": null,
       "grid_gap": null,
       "grid_row": null,
       "grid_template_areas": null,
       "grid_template_columns": null,
       "grid_template_rows": null,
       "height": null,
       "justify_content": null,
       "justify_items": null,
       "left": null,
       "margin": null,
       "max_height": null,
       "max_width": null,
       "min_height": null,
       "min_width": null,
       "object_fit": null,
       "object_position": null,
       "order": null,
       "overflow": null,
       "overflow_x": null,
       "overflow_y": null,
       "padding": null,
       "right": null,
       "top": null,
       "visibility": null,
       "width": null
      }
     },
     "c520585f94674ad3a4143db136dc6533": {
      "model_module": "@jupyter-widgets/base",
      "model_module_version": "1.2.0",
      "model_name": "LayoutModel",
      "state": {
       "_model_module": "@jupyter-widgets/base",
       "_model_module_version": "1.2.0",
       "_model_name": "LayoutModel",
       "_view_count": null,
       "_view_module": "@jupyter-widgets/base",
       "_view_module_version": "1.2.0",
       "_view_name": "LayoutView",
       "align_content": null,
       "align_items": null,
       "align_self": null,
       "border": null,
       "bottom": null,
       "display": null,
       "flex": null,
       "flex_flow": null,
       "grid_area": null,
       "grid_auto_columns": null,
       "grid_auto_flow": null,
       "grid_auto_rows": null,
       "grid_column": null,
       "grid_gap": null,
       "grid_row": null,
       "grid_template_areas": null,
       "grid_template_columns": null,
       "grid_template_rows": null,
       "height": null,
       "justify_content": null,
       "justify_items": null,
       "left": null,
       "margin": null,
       "max_height": null,
       "max_width": null,
       "min_height": null,
       "min_width": null,
       "object_fit": null,
       "object_position": null,
       "order": null,
       "overflow": null,
       "overflow_x": null,
       "overflow_y": null,
       "padding": null,
       "right": null,
       "top": null,
       "visibility": null,
       "width": null
      }
     },
     "c5692ad1491347409b165b0da1a6a958": {
      "model_module": "@jupyter-widgets/base",
      "model_module_version": "1.2.0",
      "model_name": "LayoutModel",
      "state": {
       "_model_module": "@jupyter-widgets/base",
       "_model_module_version": "1.2.0",
       "_model_name": "LayoutModel",
       "_view_count": null,
       "_view_module": "@jupyter-widgets/base",
       "_view_module_version": "1.2.0",
       "_view_name": "LayoutView",
       "align_content": null,
       "align_items": null,
       "align_self": null,
       "border": null,
       "bottom": null,
       "display": null,
       "flex": null,
       "flex_flow": null,
       "grid_area": null,
       "grid_auto_columns": null,
       "grid_auto_flow": null,
       "grid_auto_rows": null,
       "grid_column": null,
       "grid_gap": null,
       "grid_row": null,
       "grid_template_areas": null,
       "grid_template_columns": null,
       "grid_template_rows": null,
       "height": null,
       "justify_content": null,
       "justify_items": null,
       "left": null,
       "margin": null,
       "max_height": null,
       "max_width": null,
       "min_height": null,
       "min_width": null,
       "object_fit": null,
       "object_position": null,
       "order": null,
       "overflow": null,
       "overflow_x": null,
       "overflow_y": null,
       "padding": null,
       "right": null,
       "top": null,
       "visibility": null,
       "width": null
      }
     },
     "cadcca5f0e6b48cca3255a8479786c54": {
      "model_module": "@jupyter-widgets/controls",
      "model_module_version": "1.5.0",
      "model_name": "DescriptionStyleModel",
      "state": {
       "_model_module": "@jupyter-widgets/controls",
       "_model_module_version": "1.5.0",
       "_model_name": "DescriptionStyleModel",
       "_view_count": null,
       "_view_module": "@jupyter-widgets/base",
       "_view_module_version": "1.2.0",
       "_view_name": "StyleView",
       "description_width": ""
      }
     },
     "cafec36790204dea856a72d202639f6b": {
      "model_module": "@jupyter-widgets/controls",
      "model_module_version": "1.5.0",
      "model_name": "ProgressStyleModel",
      "state": {
       "_model_module": "@jupyter-widgets/controls",
       "_model_module_version": "1.5.0",
       "_model_name": "ProgressStyleModel",
       "_view_count": null,
       "_view_module": "@jupyter-widgets/base",
       "_view_module_version": "1.2.0",
       "_view_name": "StyleView",
       "bar_color": null,
       "description_width": ""
      }
     },
     "ccff4dd4040b45adb57903e4e5f3d98a": {
      "model_module": "@jupyter-widgets/controls",
      "model_module_version": "1.5.0",
      "model_name": "DescriptionStyleModel",
      "state": {
       "_model_module": "@jupyter-widgets/controls",
       "_model_module_version": "1.5.0",
       "_model_name": "DescriptionStyleModel",
       "_view_count": null,
       "_view_module": "@jupyter-widgets/base",
       "_view_module_version": "1.2.0",
       "_view_name": "StyleView",
       "description_width": ""
      }
     },
     "d01b4979a80e47d1a1f0ca9ea7284e41": {
      "model_module": "@jupyter-widgets/controls",
      "model_module_version": "1.5.0",
      "model_name": "ProgressStyleModel",
      "state": {
       "_model_module": "@jupyter-widgets/controls",
       "_model_module_version": "1.5.0",
       "_model_name": "ProgressStyleModel",
       "_view_count": null,
       "_view_module": "@jupyter-widgets/base",
       "_view_module_version": "1.2.0",
       "_view_name": "StyleView",
       "bar_color": null,
       "description_width": ""
      }
     },
     "d067692a96834cfeabbd108156e6503e": {
      "model_module": "@jupyter-widgets/controls",
      "model_module_version": "1.5.0",
      "model_name": "ProgressStyleModel",
      "state": {
       "_model_module": "@jupyter-widgets/controls",
       "_model_module_version": "1.5.0",
       "_model_name": "ProgressStyleModel",
       "_view_count": null,
       "_view_module": "@jupyter-widgets/base",
       "_view_module_version": "1.2.0",
       "_view_name": "StyleView",
       "bar_color": null,
       "description_width": ""
      }
     },
     "d07293a497ad46929511973982c2655a": {
      "model_module": "@jupyter-widgets/base",
      "model_module_version": "1.2.0",
      "model_name": "LayoutModel",
      "state": {
       "_model_module": "@jupyter-widgets/base",
       "_model_module_version": "1.2.0",
       "_model_name": "LayoutModel",
       "_view_count": null,
       "_view_module": "@jupyter-widgets/base",
       "_view_module_version": "1.2.0",
       "_view_name": "LayoutView",
       "align_content": null,
       "align_items": null,
       "align_self": null,
       "border": null,
       "bottom": null,
       "display": null,
       "flex": null,
       "flex_flow": null,
       "grid_area": null,
       "grid_auto_columns": null,
       "grid_auto_flow": null,
       "grid_auto_rows": null,
       "grid_column": null,
       "grid_gap": null,
       "grid_row": null,
       "grid_template_areas": null,
       "grid_template_columns": null,
       "grid_template_rows": null,
       "height": null,
       "justify_content": null,
       "justify_items": null,
       "left": null,
       "margin": null,
       "max_height": null,
       "max_width": null,
       "min_height": null,
       "min_width": null,
       "object_fit": null,
       "object_position": null,
       "order": null,
       "overflow": null,
       "overflow_x": null,
       "overflow_y": null,
       "padding": null,
       "right": null,
       "top": null,
       "visibility": null,
       "width": null
      }
     },
     "d3473baedf5e45dc8cfd03cbd70e1987": {
      "model_module": "@jupyter-widgets/base",
      "model_module_version": "1.2.0",
      "model_name": "LayoutModel",
      "state": {
       "_model_module": "@jupyter-widgets/base",
       "_model_module_version": "1.2.0",
       "_model_name": "LayoutModel",
       "_view_count": null,
       "_view_module": "@jupyter-widgets/base",
       "_view_module_version": "1.2.0",
       "_view_name": "LayoutView",
       "align_content": null,
       "align_items": null,
       "align_self": null,
       "border": null,
       "bottom": null,
       "display": "inline-flex",
       "flex": null,
       "flex_flow": "row wrap",
       "grid_area": null,
       "grid_auto_columns": null,
       "grid_auto_flow": null,
       "grid_auto_rows": null,
       "grid_column": null,
       "grid_gap": null,
       "grid_row": null,
       "grid_template_areas": null,
       "grid_template_columns": null,
       "grid_template_rows": null,
       "height": null,
       "justify_content": null,
       "justify_items": null,
       "left": null,
       "margin": null,
       "max_height": null,
       "max_width": null,
       "min_height": null,
       "min_width": null,
       "object_fit": null,
       "object_position": null,
       "order": null,
       "overflow": null,
       "overflow_x": null,
       "overflow_y": null,
       "padding": null,
       "right": null,
       "top": null,
       "visibility": null,
       "width": "1000px"
      }
     },
     "d47cf2a70b7d41e180c504b9e14ad886": {
      "model_module": "@jupyter-widgets/controls",
      "model_module_version": "1.5.0",
      "model_name": "DescriptionStyleModel",
      "state": {
       "_model_module": "@jupyter-widgets/controls",
       "_model_module_version": "1.5.0",
       "_model_name": "DescriptionStyleModel",
       "_view_count": null,
       "_view_module": "@jupyter-widgets/base",
       "_view_module_version": "1.2.0",
       "_view_name": "StyleView",
       "description_width": ""
      }
     },
     "d5631ac1b552496c86d819ec388bcfd5": {
      "model_module": "@jupyter-widgets/base",
      "model_module_version": "1.2.0",
      "model_name": "LayoutModel",
      "state": {
       "_model_module": "@jupyter-widgets/base",
       "_model_module_version": "1.2.0",
       "_model_name": "LayoutModel",
       "_view_count": null,
       "_view_module": "@jupyter-widgets/base",
       "_view_module_version": "1.2.0",
       "_view_name": "LayoutView",
       "align_content": null,
       "align_items": null,
       "align_self": null,
       "border": null,
       "bottom": null,
       "display": null,
       "flex": null,
       "flex_flow": null,
       "grid_area": null,
       "grid_auto_columns": null,
       "grid_auto_flow": null,
       "grid_auto_rows": null,
       "grid_column": null,
       "grid_gap": null,
       "grid_row": null,
       "grid_template_areas": null,
       "grid_template_columns": null,
       "grid_template_rows": null,
       "height": null,
       "justify_content": null,
       "justify_items": null,
       "left": null,
       "margin": null,
       "max_height": null,
       "max_width": null,
       "min_height": null,
       "min_width": null,
       "object_fit": null,
       "object_position": null,
       "order": null,
       "overflow": null,
       "overflow_x": null,
       "overflow_y": null,
       "padding": null,
       "right": null,
       "top": null,
       "visibility": null,
       "width": null
      }
     },
     "d82737d1df0648c9a91ad8e791682474": {
      "model_module": "@jupyter-widgets/base",
      "model_module_version": "1.2.0",
      "model_name": "LayoutModel",
      "state": {
       "_model_module": "@jupyter-widgets/base",
       "_model_module_version": "1.2.0",
       "_model_name": "LayoutModel",
       "_view_count": null,
       "_view_module": "@jupyter-widgets/base",
       "_view_module_version": "1.2.0",
       "_view_name": "LayoutView",
       "align_content": null,
       "align_items": null,
       "align_self": null,
       "border": null,
       "bottom": null,
       "display": null,
       "flex": null,
       "flex_flow": null,
       "grid_area": null,
       "grid_auto_columns": null,
       "grid_auto_flow": null,
       "grid_auto_rows": null,
       "grid_column": null,
       "grid_gap": null,
       "grid_row": null,
       "grid_template_areas": null,
       "grid_template_columns": null,
       "grid_template_rows": null,
       "height": null,
       "justify_content": null,
       "justify_items": null,
       "left": null,
       "margin": null,
       "max_height": null,
       "max_width": null,
       "min_height": null,
       "min_width": null,
       "object_fit": null,
       "object_position": null,
       "order": null,
       "overflow": null,
       "overflow_x": null,
       "overflow_y": null,
       "padding": null,
       "right": null,
       "top": null,
       "visibility": null,
       "width": null
      }
     },
     "d9236857751b411e835b5330f3f95dc6": {
      "model_module": "@jupyter-widgets/base",
      "model_module_version": "1.2.0",
      "model_name": "LayoutModel",
      "state": {
       "_model_module": "@jupyter-widgets/base",
       "_model_module_version": "1.2.0",
       "_model_name": "LayoutModel",
       "_view_count": null,
       "_view_module": "@jupyter-widgets/base",
       "_view_module_version": "1.2.0",
       "_view_name": "LayoutView",
       "align_content": null,
       "align_items": null,
       "align_self": null,
       "border": null,
       "bottom": null,
       "display": null,
       "flex": null,
       "flex_flow": null,
       "grid_area": null,
       "grid_auto_columns": null,
       "grid_auto_flow": null,
       "grid_auto_rows": null,
       "grid_column": null,
       "grid_gap": null,
       "grid_row": null,
       "grid_template_areas": null,
       "grid_template_columns": null,
       "grid_template_rows": null,
       "height": null,
       "justify_content": null,
       "justify_items": null,
       "left": null,
       "margin": null,
       "max_height": null,
       "max_width": null,
       "min_height": null,
       "min_width": null,
       "object_fit": null,
       "object_position": null,
       "order": null,
       "overflow": null,
       "overflow_x": null,
       "overflow_y": null,
       "padding": null,
       "right": null,
       "top": null,
       "visibility": null,
       "width": null
      }
     },
     "d9904f66c63c488cbd5efb2e4eddd505": {
      "model_module": "@jupyter-widgets/base",
      "model_module_version": "1.2.0",
      "model_name": "LayoutModel",
      "state": {
       "_model_module": "@jupyter-widgets/base",
       "_model_module_version": "1.2.0",
       "_model_name": "LayoutModel",
       "_view_count": null,
       "_view_module": "@jupyter-widgets/base",
       "_view_module_version": "1.2.0",
       "_view_name": "LayoutView",
       "align_content": null,
       "align_items": null,
       "align_self": null,
       "border": null,
       "bottom": null,
       "display": null,
       "flex": null,
       "flex_flow": null,
       "grid_area": null,
       "grid_auto_columns": null,
       "grid_auto_flow": null,
       "grid_auto_rows": null,
       "grid_column": null,
       "grid_gap": null,
       "grid_row": null,
       "grid_template_areas": null,
       "grid_template_columns": null,
       "grid_template_rows": null,
       "height": null,
       "justify_content": null,
       "justify_items": null,
       "left": null,
       "margin": null,
       "max_height": null,
       "max_width": null,
       "min_height": null,
       "min_width": null,
       "object_fit": null,
       "object_position": null,
       "order": null,
       "overflow": null,
       "overflow_x": null,
       "overflow_y": null,
       "padding": null,
       "right": null,
       "top": null,
       "visibility": null,
       "width": null
      }
     },
     "daa854d21b7f46c6a8e1ff1211faa7c5": {
      "model_module": "@jupyter-widgets/base",
      "model_module_version": "1.2.0",
      "model_name": "LayoutModel",
      "state": {
       "_model_module": "@jupyter-widgets/base",
       "_model_module_version": "1.2.0",
       "_model_name": "LayoutModel",
       "_view_count": null,
       "_view_module": "@jupyter-widgets/base",
       "_view_module_version": "1.2.0",
       "_view_name": "LayoutView",
       "align_content": null,
       "align_items": null,
       "align_self": null,
       "border": null,
       "bottom": null,
       "display": null,
       "flex": "2",
       "flex_flow": null,
       "grid_area": null,
       "grid_auto_columns": null,
       "grid_auto_flow": null,
       "grid_auto_rows": null,
       "grid_column": null,
       "grid_gap": null,
       "grid_row": null,
       "grid_template_areas": null,
       "grid_template_columns": null,
       "grid_template_rows": null,
       "height": null,
       "justify_content": null,
       "justify_items": null,
       "left": null,
       "margin": null,
       "max_height": null,
       "max_width": null,
       "min_height": null,
       "min_width": null,
       "object_fit": null,
       "object_position": null,
       "order": null,
       "overflow": null,
       "overflow_x": null,
       "overflow_y": null,
       "padding": null,
       "right": null,
       "top": null,
       "visibility": null,
       "width": null
      }
     },
     "dce9c8e6dbd34f5095438cb6825ffd9c": {
      "model_module": "@jupyter-widgets/controls",
      "model_module_version": "1.5.0",
      "model_name": "DescriptionStyleModel",
      "state": {
       "_model_module": "@jupyter-widgets/controls",
       "_model_module_version": "1.5.0",
       "_model_name": "DescriptionStyleModel",
       "_view_count": null,
       "_view_module": "@jupyter-widgets/base",
       "_view_module_version": "1.2.0",
       "_view_name": "StyleView",
       "description_width": ""
      }
     },
     "e04bccc6e24d479a80c848d460b3e905": {
      "model_module": "@jupyter-widgets/controls",
      "model_module_version": "1.5.0",
      "model_name": "ProgressStyleModel",
      "state": {
       "_model_module": "@jupyter-widgets/controls",
       "_model_module_version": "1.5.0",
       "_model_name": "ProgressStyleModel",
       "_view_count": null,
       "_view_module": "@jupyter-widgets/base",
       "_view_module_version": "1.2.0",
       "_view_name": "StyleView",
       "bar_color": null,
       "description_width": ""
      }
     },
     "e133c28e82124c7ea290000e80835e99": {
      "model_module": "@jupyter-widgets/controls",
      "model_module_version": "1.5.0",
      "model_name": "FloatProgressModel",
      "state": {
       "_dom_classes": [],
       "_model_module": "@jupyter-widgets/controls",
       "_model_module_version": "1.5.0",
       "_model_name": "FloatProgressModel",
       "_view_count": null,
       "_view_module": "@jupyter-widgets/controls",
       "_view_module_version": "1.5.0",
       "_view_name": "ProgressView",
       "bar_style": "success",
       "description": "",
       "description_tooltip": null,
       "layout": "IPY_MODEL_9326990f2a894e8bb15c6e431411efe1",
       "max": 5.0,
       "min": 0.0,
       "orientation": "horizontal",
       "style": "IPY_MODEL_cafec36790204dea856a72d202639f6b",
       "value": 5.0
      }
     },
     "e16bee0cf30e49d1b222399b19633ba0": {
      "model_module": "@jupyter-widgets/controls",
      "model_module_version": "1.5.0",
      "model_name": "HBoxModel",
      "state": {
       "_dom_classes": [],
       "_model_module": "@jupyter-widgets/controls",
       "_model_module_version": "1.5.0",
       "_model_name": "HBoxModel",
       "_view_count": null,
       "_view_module": "@jupyter-widgets/controls",
       "_view_module_version": "1.5.0",
       "_view_name": "HBoxView",
       "box_style": "",
       "children": [
        "IPY_MODEL_ada2cbb41c434cabb44eab55a391ceaf",
        "IPY_MODEL_a42a80cf32844896ba3a29c42b4ec46b",
        "IPY_MODEL_ed75fbaa4d9b4adbb012798d1611e9a9"
       ],
       "layout": "IPY_MODEL_90aee85360cd41208a614c72a6bce0aa"
      }
     },
     "e21b78db2d1f435c9f1d2a27bcda03c7": {
      "model_module": "@jupyter-widgets/controls",
      "model_module_version": "1.5.0",
      "model_name": "DescriptionStyleModel",
      "state": {
       "_model_module": "@jupyter-widgets/controls",
       "_model_module_version": "1.5.0",
       "_model_name": "DescriptionStyleModel",
       "_view_count": null,
       "_view_module": "@jupyter-widgets/base",
       "_view_module_version": "1.2.0",
       "_view_name": "StyleView",
       "description_width": ""
      }
     },
     "e49e93416f51427087b3eaba14e697e7": {
      "model_module": "@jupyter-widgets/controls",
      "model_module_version": "1.5.0",
      "model_name": "HBoxModel",
      "state": {
       "_dom_classes": [],
       "_model_module": "@jupyter-widgets/controls",
       "_model_module_version": "1.5.0",
       "_model_name": "HBoxModel",
       "_view_count": null,
       "_view_module": "@jupyter-widgets/controls",
       "_view_module_version": "1.5.0",
       "_view_name": "HBoxView",
       "box_style": "",
       "children": [
        "IPY_MODEL_2733f2335443408f994867ca83270ac0",
        "IPY_MODEL_c482892b756440319cc4b9e4b97fdf3c",
        "IPY_MODEL_531c7fe527164d24b53909edc7aafaa6"
       ],
       "layout": "IPY_MODEL_d9904f66c63c488cbd5efb2e4eddd505"
      }
     },
     "e58bc14fead4469fbede3b4a4d3f9b18": {
      "model_module": "@jupyter-widgets/controls",
      "model_module_version": "1.5.0",
      "model_name": "HTMLModel",
      "state": {
       "_dom_classes": [],
       "_model_module": "@jupyter-widgets/controls",
       "_model_module_version": "1.5.0",
       "_model_name": "HTMLModel",
       "_view_count": null,
       "_view_module": "@jupyter-widgets/controls",
       "_view_module_version": "1.5.0",
       "_view_name": "HTMLView",
       "description": "",
       "description_tooltip": null,
       "layout": "IPY_MODEL_52bad9851f7743a39f25c0352508014e",
       "placeholder": "​",
       "style": "IPY_MODEL_9bc97c8dae6f455e8ead0d457a8dbe16",
       "value": " 10/10 [00:00&lt;00:00, 129.11it/s]"
      }
     },
     "e5b32d5a429f4081b32143022809d804": {
      "model_module": "@jupyter-widgets/controls",
      "model_module_version": "1.5.0",
      "model_name": "FloatProgressModel",
      "state": {
       "_dom_classes": [],
       "_model_module": "@jupyter-widgets/controls",
       "_model_module_version": "1.5.0",
       "_model_name": "FloatProgressModel",
       "_view_count": null,
       "_view_module": "@jupyter-widgets/controls",
       "_view_module_version": "1.5.0",
       "_view_name": "ProgressView",
       "bar_style": "success",
       "description": "",
       "description_tooltip": null,
       "layout": "IPY_MODEL_b71aacb4f8ed4c81b8901819be6581c2",
       "max": 10000.0,
       "min": 0.0,
       "orientation": "horizontal",
       "style": "IPY_MODEL_87698e6dfe4d45ac8a8aa39a181d87d4",
       "value": 672.0
      }
     },
     "e6268dfea7d641099cddec90435fccbb": {
      "model_module": "@jupyter-widgets/controls",
      "model_module_version": "1.5.0",
      "model_name": "FloatProgressModel",
      "state": {
       "_dom_classes": [],
       "_model_module": "@jupyter-widgets/controls",
       "_model_module_version": "1.5.0",
       "_model_name": "FloatProgressModel",
       "_view_count": null,
       "_view_module": "@jupyter-widgets/controls",
       "_view_module_version": "1.5.0",
       "_view_name": "ProgressView",
       "bar_style": "success",
       "description": "",
       "description_tooltip": null,
       "layout": "IPY_MODEL_b34e958506a54dbd8f10a5e726c84a5a",
       "max": 5.0,
       "min": 0.0,
       "orientation": "horizontal",
       "style": "IPY_MODEL_21e4e1fc3f4e4888b398567356467717",
       "value": 5.0
      }
     },
     "e721d9fc60104fb9ad363b0525d0d978": {
      "model_module": "@jupyter-widgets/controls",
      "model_module_version": "1.5.0",
      "model_name": "HTMLModel",
      "state": {
       "_dom_classes": [],
       "_model_module": "@jupyter-widgets/controls",
       "_model_module_version": "1.5.0",
       "_model_name": "HTMLModel",
       "_view_count": null,
       "_view_module": "@jupyter-widgets/controls",
       "_view_module_version": "1.5.0",
       "_view_name": "HTMLView",
       "description": "",
       "description_tooltip": null,
       "layout": "IPY_MODEL_4bdf9a1cde4d4d30a207111dd93c3a94",
       "placeholder": "​",
       "style": "IPY_MODEL_a00920ff4b4148829217b3d1a5fb6b0f",
       "value": "100%"
      }
     },
     "e7c635466d134ad0b4bedffeb64f105d": {
      "model_module": "@jupyter-widgets/controls",
      "model_module_version": "1.5.0",
      "model_name": "DescriptionStyleModel",
      "state": {
       "_model_module": "@jupyter-widgets/controls",
       "_model_module_version": "1.5.0",
       "_model_name": "DescriptionStyleModel",
       "_view_count": null,
       "_view_module": "@jupyter-widgets/base",
       "_view_module_version": "1.2.0",
       "_view_name": "StyleView",
       "description_width": ""
      }
     },
     "eb4d3114196447b49ee51dd369a43bcc": {
      "model_module": "@jupyter-widgets/base",
      "model_module_version": "1.2.0",
      "model_name": "LayoutModel",
      "state": {
       "_model_module": "@jupyter-widgets/base",
       "_model_module_version": "1.2.0",
       "_model_name": "LayoutModel",
       "_view_count": null,
       "_view_module": "@jupyter-widgets/base",
       "_view_module_version": "1.2.0",
       "_view_name": "LayoutView",
       "align_content": null,
       "align_items": null,
       "align_self": null,
       "border": null,
       "bottom": null,
       "display": null,
       "flex": null,
       "flex_flow": null,
       "grid_area": null,
       "grid_auto_columns": null,
       "grid_auto_flow": null,
       "grid_auto_rows": null,
       "grid_column": null,
       "grid_gap": null,
       "grid_row": null,
       "grid_template_areas": null,
       "grid_template_columns": null,
       "grid_template_rows": null,
       "height": null,
       "justify_content": null,
       "justify_items": null,
       "left": null,
       "margin": null,
       "max_height": null,
       "max_width": null,
       "min_height": null,
       "min_width": null,
       "object_fit": null,
       "object_position": null,
       "order": null,
       "overflow": null,
       "overflow_x": null,
       "overflow_y": null,
       "padding": null,
       "right": null,
       "top": null,
       "visibility": null,
       "width": null
      }
     },
     "ecbb887045d0436daedc21fa43116f33": {
      "model_module": "@jupyter-widgets/controls",
      "model_module_version": "1.5.0",
      "model_name": "FloatProgressModel",
      "state": {
       "_dom_classes": [],
       "_model_module": "@jupyter-widgets/controls",
       "_model_module_version": "1.5.0",
       "_model_name": "FloatProgressModel",
       "_view_count": null,
       "_view_module": "@jupyter-widgets/controls",
       "_view_module_version": "1.5.0",
       "_view_name": "ProgressView",
       "bar_style": "success",
       "description": "",
       "description_tooltip": null,
       "layout": "IPY_MODEL_84f5892b949243d19f4ab53fe5a854e9",
       "max": 10.0,
       "min": 0.0,
       "orientation": "horizontal",
       "style": "IPY_MODEL_9fdb649170754dd2b64b2e6d8205b337",
       "value": 10.0
      }
     },
     "ed3a95ac53994402a7510c71c1876d62": {
      "model_module": "@jupyter-widgets/controls",
      "model_module_version": "1.5.0",
      "model_name": "HTMLModel",
      "state": {
       "_dom_classes": [],
       "_model_module": "@jupyter-widgets/controls",
       "_model_module_version": "1.5.0",
       "_model_name": "HTMLModel",
       "_view_count": null,
       "_view_module": "@jupyter-widgets/controls",
       "_view_module_version": "1.5.0",
       "_view_name": "HTMLView",
       "description": "",
       "description_tooltip": null,
       "layout": "IPY_MODEL_92495e1304814e2aa7e08099b6137f58",
       "placeholder": "​",
       "style": "IPY_MODEL_a880a371574b4e0aaf613f14672487bb",
       "value": " | loss 0.777 Δ 0.001 :  ✓: 100%"
      }
     },
     "ed75fbaa4d9b4adbb012798d1611e9a9": {
      "model_module": "@jupyter-widgets/controls",
      "model_module_version": "1.5.0",
      "model_name": "HTMLModel",
      "state": {
       "_dom_classes": [],
       "_model_module": "@jupyter-widgets/controls",
       "_model_module_version": "1.5.0",
       "_model_name": "HTMLModel",
       "_view_count": null,
       "_view_module": "@jupyter-widgets/controls",
       "_view_module_version": "1.5.0",
       "_view_name": "HTMLView",
       "description": "",
       "description_tooltip": null,
       "layout": "IPY_MODEL_8f7fc9eb60cc47be8e2d38e29964f2a6",
       "placeholder": "​",
       "style": "IPY_MODEL_e21b78db2d1f435c9f1d2a27bcda03c7",
       "value": " 524/524 [00:04&lt;00:00, 131.95it/s]"
      }
     },
     "ef6d12944f4644659ec2573bc8f248b3": {
      "model_module": "@jupyter-widgets/base",
      "model_module_version": "1.2.0",
      "model_name": "LayoutModel",
      "state": {
       "_model_module": "@jupyter-widgets/base",
       "_model_module_version": "1.2.0",
       "_model_name": "LayoutModel",
       "_view_count": null,
       "_view_module": "@jupyter-widgets/base",
       "_view_module_version": "1.2.0",
       "_view_name": "LayoutView",
       "align_content": null,
       "align_items": null,
       "align_self": null,
       "border": null,
       "bottom": null,
       "display": null,
       "flex": null,
       "flex_flow": null,
       "grid_area": null,
       "grid_auto_columns": null,
       "grid_auto_flow": null,
       "grid_auto_rows": null,
       "grid_column": null,
       "grid_gap": null,
       "grid_row": null,
       "grid_template_areas": null,
       "grid_template_columns": null,
       "grid_template_rows": null,
       "height": null,
       "justify_content": null,
       "justify_items": null,
       "left": null,
       "margin": null,
       "max_height": null,
       "max_width": null,
       "min_height": null,
       "min_width": null,
       "object_fit": null,
       "object_position": null,
       "order": null,
       "overflow": null,
       "overflow_x": null,
       "overflow_y": null,
       "padding": null,
       "right": null,
       "top": null,
       "visibility": null,
       "width": null
      }
     },
     "f2daaee38fa84d88a53edfd804c34179": {
      "model_module": "@jupyter-widgets/controls",
      "model_module_version": "1.5.0",
      "model_name": "DescriptionStyleModel",
      "state": {
       "_model_module": "@jupyter-widgets/controls",
       "_model_module_version": "1.5.0",
       "_model_name": "DescriptionStyleModel",
       "_view_count": null,
       "_view_module": "@jupyter-widgets/base",
       "_view_module_version": "1.2.0",
       "_view_name": "StyleView",
       "description_width": ""
      }
     },
     "f55ea75c247a4fbfb7db3cc4a72a85d4": {
      "model_module": "@jupyter-widgets/base",
      "model_module_version": "1.2.0",
      "model_name": "LayoutModel",
      "state": {
       "_model_module": "@jupyter-widgets/base",
       "_model_module_version": "1.2.0",
       "_model_name": "LayoutModel",
       "_view_count": null,
       "_view_module": "@jupyter-widgets/base",
       "_view_module_version": "1.2.0",
       "_view_name": "LayoutView",
       "align_content": null,
       "align_items": null,
       "align_self": null,
       "border": null,
       "bottom": null,
       "display": null,
       "flex": null,
       "flex_flow": null,
       "grid_area": null,
       "grid_auto_columns": null,
       "grid_auto_flow": null,
       "grid_auto_rows": null,
       "grid_column": null,
       "grid_gap": null,
       "grid_row": null,
       "grid_template_areas": null,
       "grid_template_columns": null,
       "grid_template_rows": null,
       "height": null,
       "justify_content": null,
       "justify_items": null,
       "left": null,
       "margin": null,
       "max_height": null,
       "max_width": null,
       "min_height": null,
       "min_width": null,
       "object_fit": null,
       "object_position": null,
       "order": null,
       "overflow": null,
       "overflow_x": null,
       "overflow_y": null,
       "padding": null,
       "right": null,
       "top": null,
       "visibility": null,
       "width": null
      }
     },
     "f9465f2289e0451b8cb5f2de22da6893": {
      "model_module": "@jupyter-widgets/base",
      "model_module_version": "1.2.0",
      "model_name": "LayoutModel",
      "state": {
       "_model_module": "@jupyter-widgets/base",
       "_model_module_version": "1.2.0",
       "_model_name": "LayoutModel",
       "_view_count": null,
       "_view_module": "@jupyter-widgets/base",
       "_view_module_version": "1.2.0",
       "_view_name": "LayoutView",
       "align_content": null,
       "align_items": null,
       "align_self": null,
       "border": null,
       "bottom": null,
       "display": null,
       "flex": "2",
       "flex_flow": null,
       "grid_area": null,
       "grid_auto_columns": null,
       "grid_auto_flow": null,
       "grid_auto_rows": null,
       "grid_column": null,
       "grid_gap": null,
       "grid_row": null,
       "grid_template_areas": null,
       "grid_template_columns": null,
       "grid_template_rows": null,
       "height": null,
       "justify_content": null,
       "justify_items": null,
       "left": null,
       "margin": null,
       "max_height": null,
       "max_width": null,
       "min_height": null,
       "min_width": null,
       "object_fit": null,
       "object_position": null,
       "order": null,
       "overflow": null,
       "overflow_x": null,
       "overflow_y": null,
       "padding": null,
       "right": null,
       "top": null,
       "visibility": null,
       "width": null
      }
     },
     "fa5fb9c58dbf477da935cf91ed626484": {
      "model_module": "@jupyter-widgets/controls",
      "model_module_version": "1.5.0",
      "model_name": "HBoxModel",
      "state": {
       "_dom_classes": [],
       "_model_module": "@jupyter-widgets/controls",
       "_model_module_version": "1.5.0",
       "_model_name": "HBoxModel",
       "_view_count": null,
       "_view_module": "@jupyter-widgets/controls",
       "_view_module_version": "1.5.0",
       "_view_name": "HBoxView",
       "box_style": "",
       "children": [
        "IPY_MODEL_5c6e5f277f7a467abb0d19301533e102",
        "IPY_MODEL_7b975b684fee476fb7c6fa20437b5e94",
        "IPY_MODEL_b88d9e99607947209192df779e52cd70"
       ],
       "layout": "IPY_MODEL_ef6d12944f4644659ec2573bc8f248b3"
      }
     },
     "fa611b6605404eea939854658f05bfe8": {
      "model_module": "@jupyter-widgets/base",
      "model_module_version": "1.2.0",
      "model_name": "LayoutModel",
      "state": {
       "_model_module": "@jupyter-widgets/base",
       "_model_module_version": "1.2.0",
       "_model_name": "LayoutModel",
       "_view_count": null,
       "_view_module": "@jupyter-widgets/base",
       "_view_module_version": "1.2.0",
       "_view_name": "LayoutView",
       "align_content": null,
       "align_items": null,
       "align_self": null,
       "border": null,
       "bottom": null,
       "display": null,
       "flex": null,
       "flex_flow": null,
       "grid_area": null,
       "grid_auto_columns": null,
       "grid_auto_flow": null,
       "grid_auto_rows": null,
       "grid_column": null,
       "grid_gap": null,
       "grid_row": null,
       "grid_template_areas": null,
       "grid_template_columns": null,
       "grid_template_rows": null,
       "height": null,
       "justify_content": null,
       "justify_items": null,
       "left": null,
       "margin": null,
       "max_height": null,
       "max_width": null,
       "min_height": null,
       "min_width": null,
       "object_fit": null,
       "object_position": null,
       "order": null,
       "overflow": null,
       "overflow_x": null,
       "overflow_y": null,
       "padding": null,
       "right": null,
       "top": null,
       "visibility": null,
       "width": null
      }
     },
     "fab1062350a44f1b81777a91eacb2d62": {
      "model_module": "@jupyter-widgets/base",
      "model_module_version": "1.2.0",
      "model_name": "LayoutModel",
      "state": {
       "_model_module": "@jupyter-widgets/base",
       "_model_module_version": "1.2.0",
       "_model_name": "LayoutModel",
       "_view_count": null,
       "_view_module": "@jupyter-widgets/base",
       "_view_module_version": "1.2.0",
       "_view_name": "LayoutView",
       "align_content": null,
       "align_items": null,
       "align_self": null,
       "border": null,
       "bottom": null,
       "display": null,
       "flex": null,
       "flex_flow": null,
       "grid_area": null,
       "grid_auto_columns": null,
       "grid_auto_flow": null,
       "grid_auto_rows": null,
       "grid_column": null,
       "grid_gap": null,
       "grid_row": null,
       "grid_template_areas": null,
       "grid_template_columns": null,
       "grid_template_rows": null,
       "height": null,
       "justify_content": null,
       "justify_items": null,
       "left": null,
       "margin": null,
       "max_height": null,
       "max_width": null,
       "min_height": null,
       "min_width": null,
       "object_fit": null,
       "object_position": null,
       "order": null,
       "overflow": null,
       "overflow_x": null,
       "overflow_y": null,
       "padding": null,
       "right": null,
       "top": null,
       "visibility": null,
       "width": null
      }
     },
     "fc441b91beb14595ba73c86ecd7b47d4": {
      "model_module": "@jupyter-widgets/controls",
      "model_module_version": "1.5.0",
      "model_name": "HBoxModel",
      "state": {
       "_dom_classes": [],
       "_model_module": "@jupyter-widgets/controls",
       "_model_module_version": "1.5.0",
       "_model_name": "HBoxModel",
       "_view_count": null,
       "_view_module": "@jupyter-widgets/controls",
       "_view_module_version": "1.5.0",
       "_view_name": "HBoxView",
       "box_style": "",
       "children": [
        "IPY_MODEL_5b64ccdebd2e4918bf58ac292e86d00c",
        "IPY_MODEL_27edb2cf18e64ebc80bff41fb80086e7",
        "IPY_MODEL_639297781465447c92310234f739f527"
       ],
       "layout": "IPY_MODEL_5d0467912bb54bd1ba83f0ae0e26134b"
      }
     },
     "fd9748a8135041ab88af4e0408b456d8": {
      "model_module": "@jupyter-widgets/base",
      "model_module_version": "1.2.0",
      "model_name": "LayoutModel",
      "state": {
       "_model_module": "@jupyter-widgets/base",
       "_model_module_version": "1.2.0",
       "_model_name": "LayoutModel",
       "_view_count": null,
       "_view_module": "@jupyter-widgets/base",
       "_view_module_version": "1.2.0",
       "_view_name": "LayoutView",
       "align_content": null,
       "align_items": null,
       "align_self": null,
       "border": null,
       "bottom": null,
       "display": null,
       "flex": null,
       "flex_flow": null,
       "grid_area": null,
       "grid_auto_columns": null,
       "grid_auto_flow": null,
       "grid_auto_rows": null,
       "grid_column": null,
       "grid_gap": null,
       "grid_row": null,
       "grid_template_areas": null,
       "grid_template_columns": null,
       "grid_template_rows": null,
       "height": null,
       "justify_content": null,
       "justify_items": null,
       "left": null,
       "margin": null,
       "max_height": null,
       "max_width": null,
       "min_height": null,
       "min_width": null,
       "object_fit": null,
       "object_position": null,
       "order": null,
       "overflow": null,
       "overflow_x": null,
       "overflow_y": null,
       "padding": null,
       "right": null,
       "top": null,
       "visibility": null,
       "width": null
      }
     }
    },
    "version_major": 2,
    "version_minor": 0
   }
  }
 },
 "nbformat": 4,
 "nbformat_minor": 5
}
