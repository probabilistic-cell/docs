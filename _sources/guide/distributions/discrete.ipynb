{
 "cells": [
  {
   "cell_type": "markdown",
   "id": "8886de02-5260-4926-ad66-5ddb5a24b377",
   "metadata": {
    "tags": []
   },
   "source": [
    "# Discrete distributions"
   ]
  },
  {
   "cell_type": "code",
   "execution_count": 156,
   "id": "088a47db-3a98-4b8e-9a63-7864df7ed9d4",
   "metadata": {},
   "outputs": [
    {
     "name": "stdout",
     "output_type": "stream",
     "text": [
      "The autoreload extension is already loaded. To reload it, use:\n",
      "  %reload_ext autoreload\n"
     ]
    }
   ],
   "source": [
    "from IPython import get_ipython\n",
    "if get_ipython():\n",
    "    get_ipython().run_line_magic(\"load_ext\", \"autoreload\")\n",
    "    get_ipython().run_line_magic(\"autoreload\", \"2\")\n",
    "\n",
    "import numpy as np\n",
    "import pandas as pd\n",
    "import torch\n",
    "import math\n",
    "\n",
    "import xarray as xr\n",
    "\n",
    "import matplotlib.pyplot as plt\n",
    "import seaborn as sns\n",
    "\n",
    "import collections\n",
    "\n",
    "import latenta as la\n",
    "la.logger.setLevel(\"INFO\")"
   ]
  },
  {
   "cell_type": "code",
   "execution_count": 157,
   "id": "0c8571bb-7943-4aab-a2ef-0288a36607f1",
   "metadata": {},
   "outputs": [],
   "source": [
    "cells = la.Dim(pd.Series(range(3), name = \"cell\").astype(str))\n",
    "genes = la.Dim(pd.Series(range(5), name = \"gene\").astype(str))\n",
    "celltypes = la.Dim(pd.Series(range(4), name = \"celltype\").astype(str))"
   ]
  },
  {
   "cell_type": "code",
   "execution_count": 158,
   "id": "0b03464a-19f1-42e9-bc66-0f9ef85c9439",
   "metadata": {},
   "outputs": [],
   "source": [
    "probs_value = pd.DataFrame(0.1, index = cells.index, columns = celltypes.index)\n",
    "probs_value = probs_value / probs_value.values.sum(0, keepdims = True)"
   ]
  },
  {
   "cell_type": "code",
   "execution_count": 159,
   "id": "b1e8c24a-8a92-4627-a4a1-9c768402426c",
   "metadata": {},
   "outputs": [],
   "source": [
    "dist = la.distributions.OneHotCategorical(0.1, definition = la.Definition([cells, celltypes]))"
   ]
  },
  {
   "cell_type": "code",
   "execution_count": 160,
   "id": "f66a5636-81ad-46da-a3ab-fd57f2dfb5f9",
   "metadata": {},
   "outputs": [
    {
     "data": {
      "text/plain": [
       "tensor([[0., 0., 1., 0.],\n",
       "        [0., 0., 0., 1.],\n",
       "        [0., 1., 0., 0.]])"
      ]
     },
     "execution_count": 160,
     "metadata": {},
     "output_type": "execute_result"
    }
   ],
   "source": [
    "dist.reset_recursive()\n",
    "dist.run_recursive()\n",
    "dist.value"
   ]
  },
  {
   "cell_type": "markdown",
   "id": "dd4a21bf-cc7f-4b9b-9a5b-25ada4b4a5ab",
   "metadata": {},
   "source": [
    "Different component dim (not the end)"
   ]
  },
  {
   "cell_type": "code",
   "execution_count": 161,
   "id": "a47ea24b-7b29-4fd0-8bd2-70fbb91a2660",
   "metadata": {},
   "outputs": [],
   "source": [
    "probs_value = pd.DataFrame(0.1, index = cells.index, columns = celltypes.index)\n",
    "probs_value = probs_value / probs_value.values.sum(0, keepdims = True)"
   ]
  },
  {
   "cell_type": "code",
   "execution_count": 162,
   "id": "ed0bd685-a936-4344-83b9-8eff9572907e",
   "metadata": {},
   "outputs": [],
   "source": [
    "dist = la.distributions.OneHotCategorical(0.1, definition = la.Definition([cells, celltypes]), component_dim=cells)"
   ]
  },
  {
   "cell_type": "code",
   "execution_count": 163,
   "id": "65db4fea-7700-4419-93a6-92e75c13a596",
   "metadata": {},
   "outputs": [
    {
     "data": {
      "text/plain": [
       "tensor([[0., 1., 1., 0.],\n",
       "        [0., 0., 0., 1.],\n",
       "        [1., 0., 0., 0.]])"
      ]
     },
     "execution_count": 163,
     "metadata": {},
     "output_type": "execute_result"
    }
   ],
   "source": [
    "dist.reset_recursive()\n",
    "dist.run_recursive()\n",
    "dist.value"
   ]
  },
  {
   "cell_type": "markdown",
   "id": "f1772d86-243b-49ae-96ec-7d926b95378c",
   "metadata": {},
   "source": [
    "More than 2 dimensions"
   ]
  },
  {
   "cell_type": "code",
   "execution_count": 164,
   "id": "3333b5a4-b85e-4fb0-b4e0-f3b883889670",
   "metadata": {},
   "outputs": [],
   "source": [
    "probs_value = np.ones((cells.size, celltypes.size, genes.size))\n",
    "probs_value = probs_value / probs_value.sum(0, keepdims = True)"
   ]
  },
  {
   "cell_type": "code",
   "execution_count": 165,
   "id": "74391355-489b-4b46-b690-6379029cacb5",
   "metadata": {},
   "outputs": [],
   "source": [
    "dist = la.distributions.OneHotCategorical(0.1, definition = la.Definition([cells, genes, celltypes]), component_dim=cells)"
   ]
  },
  {
   "cell_type": "code",
   "execution_count": 178,
   "id": "6ac728de-1e38-4e09-b9b7-4b71d430379f",
   "metadata": {},
   "outputs": [
    {
     "name": "stdout",
     "output_type": "stream",
     "text": [
      "tensor([[[0., 1., 0., 0.],\n",
      "         [0., 1., 0., 0.],\n",
      "         [0., 1., 0., 1.],\n",
      "         [0., 1., 0., 0.],\n",
      "         [0., 0., 0., 0.]],\n",
      "\n",
      "        [[0., 0., 0., 1.],\n",
      "         [1., 0., 1., 1.],\n",
      "         [1., 0., 0., 0.],\n",
      "         [1., 0., 1., 1.],\n",
      "         [1., 1., 0., 0.]],\n",
      "\n",
      "        [[1., 0., 1., 0.],\n",
      "         [0., 0., 0., 0.],\n",
      "         [0., 0., 1., 0.],\n",
      "         [0., 0., 0., 0.],\n",
      "         [0., 0., 1., 1.]]])\n",
      "tensor([[-2.3026, -2.3026, -2.3026, -2.3026],\n",
      "        [-2.3026, -2.3026, -2.3026, -2.3026],\n",
      "        [-2.3026, -2.3026, -2.3026, -2.3026],\n",
      "        [-2.3026, -2.3026, -2.3026, -2.3026],\n",
      "        [-2.3026, -2.3026, -2.3026, -2.3026]])\n"
     ]
    }
   ],
   "source": [
    "dist.reset_recursive()\n",
    "dist.run_recursive()\n",
    "print(dist.value)\n",
    "print(dist.likelihood)"
   ]
  },
  {
   "cell_type": "code",
   "execution_count": null,
   "id": "5b715a73-de01-4331-b3e5-7ad903e0493f",
   "metadata": {},
   "outputs": [],
   "source": []
  }
 ],
 "metadata": {
  "jupytext": {
   "formats": "ipynb,py:percent"
  },
  "kernelspec": {
   "display_name": "Python 3 (ipykernel)",
   "language": "python",
   "name": "python3"
  },
  "language_info": {
   "codemirror_mode": {
    "name": "ipython",
    "version": 3
   },
   "file_extension": ".py",
   "mimetype": "text/x-python",
   "name": "python",
   "nbconvert_exporter": "python",
   "pygments_lexer": "ipython3",
   "version": "3.8.10"
  }
 },
 "nbformat": 4,
 "nbformat_minor": 5
}
