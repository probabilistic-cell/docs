{
 "cells": [
  {
   "cell_type": "code",
   "execution_count": 1,
   "id": "40e21bed-e987-48d1-9415-c87978d5de76",
   "metadata": {},
   "outputs": [],
   "source": [
    "from IPython import get_ipython\n",
    "if get_ipython():\n",
    "    get_ipython().run_line_magic('load_ext', 'autoreload')\n",
    "    get_ipython().run_line_magic('autoreload', '2')"
   ]
  },
  {
   "cell_type": "code",
   "execution_count": 2,
   "id": "00a96cba-1d53-47fa-99f9-ac844ee185ab",
   "metadata": {},
   "outputs": [],
   "source": [
    "import laflow as laf\n",
    "\n",
    "import tempfile"
   ]
  },
  {
   "cell_type": "code",
   "execution_count": 3,
   "id": "1db4e3ce-f07c-43d1-9726-12fd2f6d52cb",
   "metadata": {},
   "outputs": [],
   "source": [
    "base_experiment = laf.Experiment(\"\", project_root = tempfile.TemporaryDirectory().name)"
   ]
  },
  {
   "cell_type": "code",
   "execution_count": 5,
   "id": "2edc4e05-12c4-4483-9064-951a5e842cee",
   "metadata": {},
   "outputs": [],
   "source": [
    "class Dataset(laf.Flow):\n",
    "    data = laf.Laobj()\n",
    "    \n",
    "    def __init__(self, base_experiment):\n",
    "        super().__init__(base_experiment, \"dataset\")\n",
    "        \n",
    "    @laf.Step(outputs = {\"data\":data})\n",
    "    def create(self, data_):\n",
    "        data_.save(1)\n",
    "    \n",
    "class Model1(laf.Flow):\n",
    "    dataset = laf.Flowobj(Dataset)\n",
    "    \n",
    "    def __init__(self, dataset):\n",
    "        super().__init__(dataset, \"model1\", dataset = dataset)\n",
    "        \n",
    "    model = laf.Laobj()\n",
    "        \n",
    "    @laf.Step(inputs = {\"data\":dataset.data}, outputs = {\"model\":model})\n",
    "    def create(self, data_, model_):\n",
    "        model = data_.load()\n",
    "        model_.save(model)"
   ]
  },
  {
   "cell_type": "code",
   "execution_count": 6,
   "id": "b8f0db63-423a-47c8-83e9-a2e9c2afb4b4",
   "metadata": {},
   "outputs": [],
   "source": [
    "dataset = Dataset(base_experiment)"
   ]
  },
  {
   "cell_type": "code",
   "execution_count": 7,
   "id": "90cdf126-ab2d-4474-a834-d861a0998942",
   "metadata": {},
   "outputs": [
    {
     "data": {
      "text/plain": [
       "'/tmp/tmpf195y4er/output/'"
      ]
     },
     "execution_count": 7,
     "metadata": {},
     "output_type": "execute_result"
    }
   ],
   "source": [
    "base_experiment.output_file()"
   ]
  },
  {
   "cell_type": "code",
   "execution_count": 8,
   "id": "3ac90b3c-27a5-4779-9b80-85f5892acd81",
   "metadata": {},
   "outputs": [
    {
     "name": "stdout",
     "output_type": "stream",
     "text": [
      "▶️ | /dataset/create                                                                                     \n",
      "✅ | /dataset/create                                                                                     \n"
     ]
    }
   ],
   "source": [
    "dataset.create(force = False)"
   ]
  },
  {
   "cell_type": "code",
   "execution_count": 9,
   "id": "3f34231b-4f9a-4665-88d5-179d778be932",
   "metadata": {},
   "outputs": [],
   "source": [
    "model1 = Model1(dataset)"
   ]
  },
  {
   "cell_type": "code",
   "execution_count": 11,
   "id": "6124c223-6d0c-401d-ae38-8a181835a3ba",
   "metadata": {},
   "outputs": [
    {
     "name": "stdout",
     "output_type": "stream",
     "text": [
      "▶️ | /dataset/model1/create                                                                              \n",
      "✅ | /dataset/model1/create                                                                              \n"
     ]
    }
   ],
   "source": [
    "model1.create()"
   ]
  },
  {
   "cell_type": "code",
   "execution_count": 13,
   "id": "267497bb-cd7e-43c7-8162-7b608de17c53",
   "metadata": {},
   "outputs": [
    {
     "name": "stdout",
     "output_type": "stream",
     "text": [
      "✔️ | /dataset/model1/create                                                                              \n"
     ]
    }
   ],
   "source": [
    "model1.create()"
   ]
  },
  {
   "cell_type": "code",
   "execution_count": null,
   "id": "6b37fc23-6a6a-444d-8161-8b4209f263b6",
   "metadata": {},
   "outputs": [],
   "source": []
  }
 ],
 "metadata": {
  "kernelspec": {
   "display_name": "Python 3 (ipykernel)",
   "language": "python",
   "name": "python3"
  },
  "language_info": {
   "codemirror_mode": {
    "name": "ipython",
    "version": 3
   },
   "file_extension": ".py",
   "mimetype": "text/x-python",
   "name": "python",
   "nbconvert_exporter": "python",
   "pygments_lexer": "ipython3",
   "version": "3.8.10"
  }
 },
 "nbformat": 4,
 "nbformat_minor": 5
}
