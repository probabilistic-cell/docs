{
 "cells": [
  {
   "cell_type": "markdown",
   "metadata": {},
   "source": [
    "# Dynamics"
   ]
  },
  {
   "cell_type": "code",
   "execution_count": 3,
   "metadata": {},
   "outputs": [],
   "source": [
    "import pandas as pd"
   ]
  },
  {
   "cell_type": "code",
   "execution_count": 8,
   "metadata": {
    "lines_to_next_cell": 2,
    "tags": [
     "remove-input"
    ]
   },
   "outputs": [
    {
     "data": {
      "text/plain": [
       "'| id            | description            |\\n|:--------------|:-----------------------|\\n| transcription | A simple transcription |'"
      ]
     },
     "execution_count": 8,
     "metadata": {},
     "output_type": "execute_result"
    }
   ],
   "source": [
    "from IPython.display import display, Markdown, Latex, HTML\n",
    "cookbooks = pd.DataFrame([\n",
    "    [\n",
    "        \"transcription\",\n",
    "        \"A simple transcription\"\n",
    "    ]\n",
    "], columns = [\"id\", \"description\"]).set_index(\"id\")\n",
    "cookbooks[\"url\"] = [f\"<a href='{id}.html'>{id}</a>\" for id in cookbooks.index] \n",
    "html = cookbooks.to_html(index = False, header = False, escape = False)\n",
    "\n",
    "html = '<div class=\"admonition note\" name=\"html-admonition\"><p>' + html + '</p></div>'\n",
    "\n",
    "display(HTML(html))"
   ]
  },
  {
   "cell_type": "markdown",
   "metadata": {},
   "source": []
  }
 ],
 "metadata": {
  "interpreter": {
   "hash": "67f2bc5d0a4b821c8bb058df1e7f636de0fd718ca5110ddb2a5d99375a72ab00"
  },
  "jupytext": {
   "formats": "ipynb,py:percent"
  },
  "kernelspec": {
   "display_name": "Python 3 (ipykernel)",
   "language": "python",
   "name": "python3"
  },
  "language_info": {
   "codemirror_mode": {
    "name": "ipython",
    "version": 3
   },
   "file_extension": ".py",
   "mimetype": "text/x-python",
   "name": "python",
   "nbconvert_exporter": "python",
   "pygments_lexer": "ipython3",
   "version": "3.8.10"
  }
 },
 "nbformat": 4,
 "nbformat_minor": 4
}
