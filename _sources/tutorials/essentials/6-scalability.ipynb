{
 "cells": [
  {
   "cell_type": "markdown",
   "id": "c41e444e",
   "metadata": {},
   "source": [
    "# Scalability"
   ]
  },
  {
   "cell_type": "markdown",
   "id": "199b1069-31bd-4423-ac4a-4f36809f7b22",
   "metadata": {},
   "source": [
    "## Amortization"
   ]
  },
  {
   "cell_type": "markdown",
   "id": "6331c466-2ac2-4b28-a75e-514e65a5a0ec",
   "metadata": {},
   "source": [
    "## Minibatching"
   ]
  },
  {
   "cell_type": "markdown",
   "id": "7bc37dcf-5a2e-41d4-9fca-d7e7c4174ab2",
   "metadata": {},
   "source": [
    "## Use sparsity when possible"
   ]
  },
  {
   "cell_type": "markdown",
   "id": "f7c46616-02ea-43db-9470-4010e65df678",
   "metadata": {},
   "source": [
    "## Load from disk when possible"
   ]
  },
  {
   "cell_type": "code",
   "execution_count": null,
   "id": "70b98083-c473-4163-af3b-953ad706f7b6",
   "metadata": {},
   "outputs": [],
   "source": []
  }
 ],
 "metadata": {
  "jupytext": {
   "encoding": "# -*- coding: utf-8 -*-",
   "formats": "ipynb,py:percent"
  },
  "kernelspec": {
   "display_name": "Python 3 (ipykernel)",
   "language": "python",
   "name": "python3"
  },
  "language_info": {
   "codemirror_mode": {
    "name": "ipython",
    "version": 3
   },
   "file_extension": ".py",
   "mimetype": "text/x-python",
   "name": "python",
   "nbconvert_exporter": "python",
   "pygments_lexer": "ipython3",
   "version": "3.8.10"
  }
 },
 "nbformat": 4,
 "nbformat_minor": 5
}
