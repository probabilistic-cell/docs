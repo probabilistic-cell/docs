{
 "cells": [
  {
   "cell_type": "markdown",
   "id": "c41e444e",
   "metadata": {},
   "source": [
    "# Workflows"
   ]
  },
  {
   "cell_type": "markdown",
   "id": "ca07933e-66cf-42a2-9ff9-d31aa4c22334",
   "metadata": {},
   "source": [
    "For now we mainly looked at models in isolation. However, the true power of probabilistic modelling lies in its ability to move beyond the \"one-model-fits-all\" idea, but rather create a variety of models and connect or compare them in various ways. Indeed, even for a normal use cases, we already typically go up to a dozen models or more. In more complex experimental designs, which are becoming every more common, this can easily go up to a hundred or more."
   ]
  },
  {
   "cell_type": "code",
   "execution_count": 4,
   "id": "64bdec88",
   "metadata": {},
   "outputs": [
    {
     "name": "stdout",
     "output_type": "stream",
     "text": [
      "The autoreload extension is already loaded. To reload it, use:\n",
      "  %reload_ext autoreload\n"
     ]
    }
   ],
   "source": [
    "%load_ext autoreload\n",
    "%autoreload 2\n",
    "import latenta as la\n",
    "import lacell as lac\n",
    "import numpy as np"
   ]
  },
  {
   "cell_type": "markdown",
   "id": "92267d0c-2c29-4dca-93a6-df6e11df7851",
   "metadata": {},
   "source": [
    "Even in relatively simple use cases, managing different models, storing them across sessions, and let them depend on each other can be a pain. To make this easier, we created a small workflow manager in the `laflow` package. It borrows elements from other workflow managers such as snakemake or nextflow. However, it is much more focused on interactivity, modularization and model inheritance that, all concepts very central to the modelling we're doing here.\n",
    "\n",
    "The core tasks of laflow is:\n",
    "- **Persistence**, to store sure models and its derivatives on disk\n",
    "- **Model inheritance**, creation of similar models that only differ in certain aspects\n",
    "- **Connecting data**, to explicitely define what a model needs and where it gets this"
   ]
  },
  {
   "cell_type": "code",
   "execution_count": 5,
   "id": "95ac7ce5-08eb-4936-989c-74dd5c159b3a",
   "metadata": {},
   "outputs": [],
   "source": [
    "import laflow as laf"
   ]
  },
  {
   "cell_type": "markdown",
   "id": "0ff40293-2cf6-4b8f-9e3f-3d79e75692e4",
   "metadata": {},
   "source": [
    "We'll use the same dataset as [before](./1-variables)."
   ]
  },
  {
   "cell_type": "code",
   "execution_count": 6,
   "id": "3bb40b57-729f-434b-92af-3b444992e870",
   "metadata": {
    "lines_to_next_cell": 2
   },
   "outputs": [],
   "source": [
    "import scanpy as sc\n",
    "\n",
    "adata = la.data.load_myod1()\n",
    "adata.obs[\"log_overexpression\"] = np.log1p(adata.obs[\"overexpression\"])\n",
    "adata.var[\"label\"] = adata.var[\"symbol\"]\n",
    "adata.raw = adata"
   ]
  },
  {
   "cell_type": "markdown",
   "id": "f4ed7637-f900-4df1-8d6c-314aff7e1881",
   "metadata": {},
   "source": [
    "## Persistence"
   ]
  },
  {
   "cell_type": "markdown",
   "id": "4192e621-8002-45e0-95f1-26ec53318101",
   "metadata": {},
   "source": [
    "The basis of laflow is the {class}`~laflow.Flow` class. Each instance we create is associated with a particular folder on disk, starting from a given root directory. We work from a temporary directory in these tutorials, but in real life use cases this root is typically  your project's root directory or one of its subdirectories."
   ]
  },
  {
   "cell_type": "code",
   "execution_count": 7,
   "id": "b50f9f6c-c147-4934-83e0-39e2ab96f10e",
   "metadata": {},
   "outputs": [],
   "source": [
    "import tempfile\n",
    "import pathlib\n",
    "\n",
    "project_root = pathlib.Path(tempfile.TemporaryDirectory().name)\n",
    "project_root.mkdir()\n",
    "laf.set_project_root(project_root)  # sets the default project root"
   ]
  },
  {
   "cell_type": "markdown",
   "id": "bc6b41e6-f769-4908-9fb2-abde5670234a",
   "metadata": {},
   "source": [
    "We can then create a {class}`~laflow.Flow` object as follows. Because we set the default root for this python session, we don't have to provide this any longer."
   ]
  },
  {
   "cell_type": "code",
   "execution_count": 8,
   "id": "00f27ea1-efb4-494e-949e-ad9ad5903672",
   "metadata": {},
   "outputs": [
    {
     "data": {
      "text/plain": [
       "PosixPath('/tmp/tmp83k7b1hj/dataset')"
      ]
     },
     "execution_count": 8,
     "metadata": {},
     "output_type": "execute_result"
    }
   ],
   "source": [
    "dataset = laf.Flow(\"dataset\")\n",
    "dataset.path  # the path associated with this flow"
   ]
  },
  {
   "cell_type": "markdown",
   "id": "cbe2dbe1-8c2b-4492-a15c-853ed87f9425",
   "metadata": {},
   "source": [
    "This folder will store information on each object, links to other objects or flows, and the objects themselves if they are labeled as persistent. We can store a python object inside a flow by simply assigning it:"
   ]
  },
  {
   "cell_type": "code",
   "execution_count": 9,
   "id": "f1916ca7-4d2d-4751-88b2-8963e77447df",
   "metadata": {},
   "outputs": [],
   "source": [
    "dataset.adata = adata"
   ]
  },
  {
   "cell_type": "markdown",
   "id": "8dce0ffe-42bf-4b33-abdc-1ba3ee058865",
   "metadata": {},
   "source": [
    "Because python objects are by default persistent, the `adata` object was saved in the folder as a pickle. Along with it is a info json file which is used internally to keep track which type of object it is and how it was created."
   ]
  },
  {
   "cell_type": "code",
   "execution_count": 10,
   "id": "32b42049-fb75-487a-985b-7256f38a6303",
   "metadata": {},
   "outputs": [
    {
     "name": "stdout",
     "output_type": "stream",
     "text": [
      "total 6.4M\n",
      "-rw-r--r-- 1 wsaelens updepla  155 Oct  4 22:45 adata.info\n",
      "-rw-r--r-- 1 wsaelens updepla 6.4M Oct  4 22:45 adata.pkl\n"
     ]
    }
   ],
   "source": [
    "!ls -lh {dataset.path}"
   ]
  },
  {
   "cell_type": "markdown",
   "id": "bb303b21-fb93-44ef-8cc0-8a0e4401ad0a",
   "metadata": {},
   "source": [
    "When working in IPython environments (e.g. Jupyter), we can always check what contents a flow object has as follows:"
   ]
  },
  {
   "cell_type": "code",
   "execution_count": 11,
   "id": "a8c86c6b-1038-49c3-a2c4-fc88fc40ba98",
   "metadata": {},
   "outputs": [
    {
     "data": {
      "text/html": [
       "<script src=\"https://cdnjs.cloudflare.com/ajax/libs/require.js/2.3.6/require.js\" integrity=\"sha512-vRqhAr2wsn+/cSsyz80psBbCcqzz2GTuhGk3bq3dAyytz4J/8XwFqMjiAGFBj+WM95lHBJ9cDf87T3P8yMrY7A==\" crossorigin=\"anonymous\" referrerpolicy=\"no-referrer\" id=\"script6086\" onload=\"loaded6086\"></script>\n",
       "<style>\n",
       ".la-flow ul {\n",
       "    margin-top:0;\n",
       "    list-style: none;\n",
       "    padding: 0;\n",
       "    padding-left: 10px !important;\n",
       "}\n",
       ".la-flow li {\n",
       "    padding-left: 10px;\n",
       "}\n",
       ".la-flow .instances li {\n",
       "    border-left: 1px dashed #ccc;\n",
       "}\n",
       ".la-flow .steps li {\n",
       "    border-left: 1px dotted #ccc;\n",
       "}\n",
       ".la-flow .soft {\n",
       "    opacity:0.5;\n",
       "}\n",
       "</style>\n",
       "\n",
       "<script>\n",
       "function loaded6086() {\n",
       "    require.config({\n",
       "    paths: {\n",
       "        'fontawesome': 'https://kit.fontawesome.com/77f7a120e4.js'\n",
       "    }\n",
       "    })\n",
       "\n",
       "    require(['fontawesome'], function (fontawesome) {\n",
       "    console.log('Congrats, Font Awesome is installed using Require.js')\n",
       "    })\n",
       "}\n",
       "</script>\n",
       "\n",
       "\n",
       "\n",
       "        <div class='la-flow'>dataset <span class='soft'>(laflow.flow.Flow)</span><ul class='instances'><li><i class='fas fa-check-square' style='color:#2ECC40;' title='available and persistent'></i> adata <span class='soft'>(Py)</span></li></ul><ul class='steps'></ul>"
      ],
      "text/plain": [
       "<laflow.flow.Flow at 0x7fe074ca1f10>"
      ]
     },
     "execution_count": 11,
     "metadata": {},
     "output_type": "execute_result"
    }
   ],
   "source": [
    "dataset"
   ]
  },
  {
   "cell_type": "markdown",
   "id": "234f23aa-7525-4f4b-806a-2cc4bccfd852",
   "metadata": {},
   "source": [
    "Even if we restart our session (simulated here by removing the flow object), we can always retrieve it by recreating a flow object in the correct folder:"
   ]
  },
  {
   "cell_type": "code",
   "execution_count": 12,
   "id": "8aaef670-e512-46d0-b218-9319d400255d",
   "metadata": {},
   "outputs": [],
   "source": [
    "if \"dataset\" in globals():\n",
    "    del dataset\n",
    "dataset = laf.Flow(\"dataset\")"
   ]
  },
  {
   "cell_type": "code",
   "execution_count": 13,
   "id": "e141def7-df7f-4088-a7d8-f54d7a7181e0",
   "metadata": {},
   "outputs": [
    {
     "data": {
      "text/html": [
       "<script src=\"https://cdnjs.cloudflare.com/ajax/libs/require.js/2.3.6/require.js\" integrity=\"sha512-vRqhAr2wsn+/cSsyz80psBbCcqzz2GTuhGk3bq3dAyytz4J/8XwFqMjiAGFBj+WM95lHBJ9cDf87T3P8yMrY7A==\" crossorigin=\"anonymous\" referrerpolicy=\"no-referrer\" id=\"script3430\" onload=\"loaded3430\"></script>\n",
       "<style>\n",
       ".la-flow ul {\n",
       "    margin-top:0;\n",
       "    list-style: none;\n",
       "    padding: 0;\n",
       "    padding-left: 10px !important;\n",
       "}\n",
       ".la-flow li {\n",
       "    padding-left: 10px;\n",
       "}\n",
       ".la-flow .instances li {\n",
       "    border-left: 1px dashed #ccc;\n",
       "}\n",
       ".la-flow .steps li {\n",
       "    border-left: 1px dotted #ccc;\n",
       "}\n",
       ".la-flow .soft {\n",
       "    opacity:0.5;\n",
       "}\n",
       "</style>\n",
       "\n",
       "<script>\n",
       "function loaded3430() {\n",
       "    require.config({\n",
       "    paths: {\n",
       "        'fontawesome': 'https://kit.fontawesome.com/77f7a120e4.js'\n",
       "    }\n",
       "    })\n",
       "\n",
       "    require(['fontawesome'], function (fontawesome) {\n",
       "    console.log('Congrats, Font Awesome is installed using Require.js')\n",
       "    })\n",
       "}\n",
       "</script>\n",
       "\n",
       "\n",
       "\n",
       "        <div class='la-flow'>dataset <span class='soft'>(laflow.flow.Flow)</span><ul class='instances'><li><i class='fas fa-check-square' style='color:#2ECC40;' title='available and persistent'></i> adata <span class='soft'>(Py)</span></li></ul><ul class='steps'></ul>"
      ],
      "text/plain": [
       "<laflow.flow.Flow at 0x7fde2a794a30>"
      ]
     },
     "execution_count": 13,
     "metadata": {},
     "output_type": "execute_result"
    }
   ],
   "source": [
    "dataset"
   ]
  },
  {
   "cell_type": "markdown",
   "id": "77e6b710-8fcf-48d7-b862-124ea9cb851a",
   "metadata": {},
   "source": [
    "## Modularization & building workflows"
   ]
  },
  {
   "cell_type": "markdown",
   "id": "7450629d-b9d0-4f99-98a1-c0462662a134",
   "metadata": {},
   "source": [
    "To make our workflows more modular, we use Python's OOP system to systematically let certain flows depend on each other and share common code. For example, a dataset in our example would be defined as follows:"
   ]
  },
  {
   "cell_type": "code",
   "execution_count": 55,
   "id": "8b64c708-9053-49fa-a0a1-ba831416f507",
   "metadata": {},
   "outputs": [],
   "source": [
    "class Dataset(laf.Flow):\n",
    "    default_name = \"dataset\"\n",
    "    adata = laf.PyObj()"
   ]
  },
  {
   "cell_type": "markdown",
   "id": "d6a3d9f7-7b1d-4409-8a45-af3fd2fb16e0",
   "metadata": {},
   "source": [
    "We can initialize this dataset as before. Note that we do not provide a name in this case as we want to use the default \"dataset\" name:"
   ]
  },
  {
   "cell_type": "code",
   "execution_count": 56,
   "id": "6fbb395b-4fe1-4514-aeb6-d200f37aef52",
   "metadata": {},
   "outputs": [],
   "source": [
    "dataset = Dataset(adata = adata)"
   ]
  },
  {
   "cell_type": "code",
   "execution_count": 57,
   "id": "56da4823-5e0c-4386-9bf5-e711dd139f08",
   "metadata": {},
   "outputs": [
    {
     "data": {
      "text/html": [
       "<script src=\"https://cdnjs.cloudflare.com/ajax/libs/require.js/2.3.6/require.js\" integrity=\"sha512-vRqhAr2wsn+/cSsyz80psBbCcqzz2GTuhGk3bq3dAyytz4J/8XwFqMjiAGFBj+WM95lHBJ9cDf87T3P8yMrY7A==\" crossorigin=\"anonymous\" referrerpolicy=\"no-referrer\" id=\"script6397\" onload=\"loaded6397\"></script>\n",
       "<style>\n",
       ".la-flow ul {\n",
       "    margin-top:0;\n",
       "    list-style: none;\n",
       "    padding: 0;\n",
       "    padding-left: 10px !important;\n",
       "}\n",
       ".la-flow li {\n",
       "    padding-left: 10px;\n",
       "}\n",
       ".la-flow .instances li {\n",
       "    border-left: 1px dashed #ccc;\n",
       "}\n",
       ".la-flow .steps li {\n",
       "    border-left: 1px dotted #ccc;\n",
       "}\n",
       ".la-flow .soft {\n",
       "    opacity:0.5;\n",
       "}\n",
       "</style>\n",
       "\n",
       "<script>\n",
       "function loaded6397() {\n",
       "    require.config({\n",
       "    paths: {\n",
       "        'fontawesome': 'https://kit.fontawesome.com/77f7a120e4.js'\n",
       "    }\n",
       "    })\n",
       "\n",
       "    require(['fontawesome'], function (fontawesome) {\n",
       "    console.log('Congrats, Font Awesome is installed using Require.js')\n",
       "    })\n",
       "}\n",
       "</script>\n",
       "\n",
       "\n",
       "\n",
       "        <div class='la-flow'>dataset <span class='soft'>(__main__.Dataset)</span><ul class='instances'><li><i class='fas fa-check-square' style='color:#2ECC40;' title='available and persistent'></i> adata <span class='soft'>(Py)</span></li></ul><ul class='steps'></ul>"
      ],
      "text/plain": [
       "<__main__.Dataset at 0x7fdf519c4580>"
      ]
     },
     "execution_count": 57,
     "metadata": {},
     "output_type": "execute_result"
    }
   ],
   "source": [
    "dataset"
   ]
  },
  {
   "cell_type": "markdown",
   "id": "dbe7f1bc-2ec4-4223-a492-8ce71eee4951",
   "metadata": {},
   "source": [
    "We can now define our model as another Flow. It contains a link to the dataset flow, along with three methods that create, infer and interpret the model:"
   ]
  },
  {
   "cell_type": "code",
   "execution_count": 58,
   "id": "b34360ab-8aac-458e-a21a-b4f59622bd03",
   "metadata": {},
   "outputs": [],
   "source": [
    "class ConstantModel(laf.Flow):\n",
    "    # sets the default name\n",
    "    default_name = \"constant\"\n",
    "\n",
    "    # lets the flow know that it can contain a link to another flow called dataset\n",
    "    dataset = laf.FlowObj()\n",
    "\n",
    "    # lets the flow know that it can expect a model_initial object, that is not persistent\n",
    "    model_initial = laf.LatentaObj(persistent=False)\n",
    "\n",
    "    # creates a particular step, that expects adata as input, and that outputs model initial\n",
    "    # note the way we access the adata from the dataset object\n",
    "    @laf.Step(\n",
    "        laf.Inputs(adata = dataset.adata),\n",
    "        laf.Outputs(model_initial)\n",
    "    )\n",
    "    def create_model(self, output, adata):\n",
    "        # define the model as before\n",
    "        overexpression = la.Fixed(\n",
    "            adata.obs[\"log_overexpression\"], label=\"overexpression\"\n",
    "        )\n",
    "        transcriptome = lac.transcriptome.Transcriptome.from_adata(dataset.adata)\n",
    "        foldchange = transcriptome.find(\"foldchange\")\n",
    "\n",
    "        foldchange.overexpression = la.links.scalar.Constant(\n",
    "            overexpression, definition=foldchange.value_definition\n",
    "        )\n",
    "        \n",
    "        # apart from each input, the step function will also receive an output object\n",
    "        # you should put any expected outputs in this object either by assigning it \n",
    "        # or by using the update function\n",
    "        return output.update(model_initial = transcriptome)\n",
    "\n",
    "    # the (final) model is persistent by default\n",
    "    model = laf.LatentaObj()\n",
    "    \n",
    "    # another step, that receives the model_initial as input, and outputs the model\n",
    "    @laf.Step(\n",
    "        laf.Inputs(model_initial),\n",
    "        laf.Outputs(model)\n",
    "    )\n",
    "    def infer_model(self, output, model_initial):\n",
    "        # infer the model as before\n",
    "        # we first clone the model_initial so that we do not overwrite it\n",
    "        model = model_initial.clone()\n",
    "        with model.switch(la.config.device):\n",
    "            inference = la.infer.svi.SVI(\n",
    "                model, [la.infer.loss.ELBO()], la.infer.optim.Adam(lr=5e-2)\n",
    "            )\n",
    "            trainer = la.infer.trainer.Trainer(inference)\n",
    "            trace = trainer.train(10000)\n",
    "\n",
    "        return output.update(model = model)\n",
    "\n",
    "    # define our three posteriors, each one with a \"db\" argument\n",
    "    # this will make sure that any model objects are not stored in the posterior,\n",
    "    # but are rather extracted each time from the model object as defined earlier\n",
    "    transcriptome_observed = laf.LatentaObj(db = {model})\n",
    "    overexpression_observed = laf.LatentaObj(db = {model})\n",
    "    overexpression_causal = laf.LatentaObj(db = {model})\n",
    "    \n",
    "    @laf.Step(\n",
    "        laf.Inputs(model),\n",
    "        laf.Outputs(transcriptome_observed, overexpression_observed, overexpression_causal)\n",
    "    )\n",
    "    def interpret(self, output, model):\n",
    "        transcriptome_observed = la.posterior.vector.VectorObserved(model)\n",
    "        transcriptome_observed.sample(5)\n",
    "        output.transcriptome_observed = transcriptome_observed\n",
    "\n",
    "        overexpression = model.find(\"overexpression\")\n",
    "\n",
    "        overexpression_observed = la.posterior.scalar.ScalarObserved(overexpression)\n",
    "        overexpression_observed.sample(5)\n",
    "        output.overexpression_observed = overexpression_observed\n",
    "\n",
    "        overexpression_causal = la.posterior.scalar.ScalarVectorCausal(\n",
    "            overexpression,\n",
    "            model,\n",
    "            interpretable=model.p.mu.expression,\n",
    "            observed=overexpression_observed,\n",
    "        )\n",
    "        overexpression_causal.sample(10)\n",
    "        overexpression_causal.sample_random(10)\n",
    "        overexpression_causal.observed\n",
    "        overexpression_causal.sample_empirical()\n",
    "        output.overexpression_causal = overexpression_causal\n",
    "        \n",
    "        # we directly assigned the outputs to each \n",
    "        return output"
   ]
  },
  {
   "cell_type": "markdown",
   "id": "2da549f4-1af0-407e-a5ff-e76deb65d15e",
   "metadata": {},
   "source": [
    "Note that we typically define these flows in a separate file as a python module, and import them in our notebooks or other interactive sessions."
   ]
  },
  {
   "cell_type": "code",
   "execution_count": 59,
   "id": "6abca9b5-9279-4c2e-a174-09a326a9ccae",
   "metadata": {},
   "outputs": [],
   "source": [
    "model = ConstantModel()"
   ]
  },
  {
   "cell_type": "code",
   "execution_count": 60,
   "id": "364026a5-25bc-4d5c-b7dd-e83136593e3b",
   "metadata": {},
   "outputs": [
    {
     "data": {
      "text/html": [
       "<script src=\"https://cdnjs.cloudflare.com/ajax/libs/require.js/2.3.6/require.js\" integrity=\"sha512-vRqhAr2wsn+/cSsyz80psBbCcqzz2GTuhGk3bq3dAyytz4J/8XwFqMjiAGFBj+WM95lHBJ9cDf87T3P8yMrY7A==\" crossorigin=\"anonymous\" referrerpolicy=\"no-referrer\" id=\"script28116\" onload=\"loaded28116\"></script>\n",
       "<style>\n",
       ".la-flow ul {\n",
       "    margin-top:0;\n",
       "    list-style: none;\n",
       "    padding: 0;\n",
       "    padding-left: 10px !important;\n",
       "}\n",
       ".la-flow li {\n",
       "    padding-left: 10px;\n",
       "}\n",
       ".la-flow .instances li {\n",
       "    border-left: 1px dashed #ccc;\n",
       "}\n",
       ".la-flow .steps li {\n",
       "    border-left: 1px dotted #ccc;\n",
       "}\n",
       ".la-flow .soft {\n",
       "    opacity:0.5;\n",
       "}\n",
       "</style>\n",
       "\n",
       "<script>\n",
       "function loaded28116() {\n",
       "    require.config({\n",
       "    paths: {\n",
       "        'fontawesome': 'https://kit.fontawesome.com/77f7a120e4.js'\n",
       "    }\n",
       "    })\n",
       "\n",
       "    require(['fontawesome'], function (fontawesome) {\n",
       "    console.log('Congrats, Font Awesome is installed using Require.js')\n",
       "    })\n",
       "}\n",
       "</script>\n",
       "\n",
       "\n",
       "\n",
       "        <div class='la-flow'>constant <span class='soft'>(__main__.ConstantModel)</span><ul class='instances'><li><i class='fas fa-times' style='color:#FF4136;' title='unavailable'></i>&nbsp; dataset <span class='soft'>(FlowLink)</span></li><li><i class='fas fa-times' style='color:#FF4136;' title='unavailable'></i>&nbsp; model_initial <span class='soft'>(Latenta)</span></li><li><i class='fas fa-times' style='color:#FF4136;' title='unavailable'></i>&nbsp; model <span class='soft'>(Latenta)</span></li><li><i class='fas fa-times' style='color:#FF4136;' title='unavailable'></i>&nbsp; transcriptome_observed <span class='soft'>(Latenta)</span></li><li><i class='fas fa-times' style='color:#FF4136;' title='unavailable'></i>&nbsp; overexpression_observed <span class='soft'>(Latenta)</span></li><li><i class='fas fa-times' style='color:#FF4136;' title='unavailable'></i>&nbsp; overexpression_causal <span class='soft'>(Latenta)</span></li></ul><ul class='steps'><li>create_model</li><li>infer_model</li><li>interpret</li></ul>"
      ],
      "text/plain": [
       "<__main__.ConstantModel at 0x7fe04c90b070>"
      ]
     },
     "execution_count": 60,
     "metadata": {},
     "output_type": "execute_result"
    }
   ],
   "source": [
    "model"
   ]
  },
  {
   "cell_type": "code",
   "execution_count": 61,
   "id": "b56c3b2c-e524-4d14-9642-dad803ba54f8",
   "metadata": {},
   "outputs": [],
   "source": [
    "model.dataset = dataset"
   ]
  },
  {
   "cell_type": "code",
   "execution_count": 62,
   "id": "f5a551f5-d897-4026-afd7-a25d116c7309",
   "metadata": {},
   "outputs": [
    {
     "data": {
      "text/html": [
       "<script src=\"https://cdnjs.cloudflare.com/ajax/libs/require.js/2.3.6/require.js\" integrity=\"sha512-vRqhAr2wsn+/cSsyz80psBbCcqzz2GTuhGk3bq3dAyytz4J/8XwFqMjiAGFBj+WM95lHBJ9cDf87T3P8yMrY7A==\" crossorigin=\"anonymous\" referrerpolicy=\"no-referrer\" id=\"script16190\" onload=\"loaded16190\"></script>\n",
       "<style>\n",
       ".la-flow ul {\n",
       "    margin-top:0;\n",
       "    list-style: none;\n",
       "    padding: 0;\n",
       "    padding-left: 10px !important;\n",
       "}\n",
       ".la-flow li {\n",
       "    padding-left: 10px;\n",
       "}\n",
       ".la-flow .instances li {\n",
       "    border-left: 1px dashed #ccc;\n",
       "}\n",
       ".la-flow .steps li {\n",
       "    border-left: 1px dotted #ccc;\n",
       "}\n",
       ".la-flow .soft {\n",
       "    opacity:0.5;\n",
       "}\n",
       "</style>\n",
       "\n",
       "<script>\n",
       "function loaded16190() {\n",
       "    require.config({\n",
       "    paths: {\n",
       "        'fontawesome': 'https://kit.fontawesome.com/77f7a120e4.js'\n",
       "    }\n",
       "    })\n",
       "\n",
       "    require(['fontawesome'], function (fontawesome) {\n",
       "    console.log('Congrats, Font Awesome is installed using Require.js')\n",
       "    })\n",
       "}\n",
       "</script>\n",
       "\n",
       "\n",
       "\n",
       "        <div class='la-flow'>constant <span class='soft'>(__main__.ConstantModel)</span><ul class='instances'><li><i class='fas fa-check-square' style='color:#2ECC40;' title='available and persistent'></i> dataset <span class='soft'>(FlowLink)</span> → dataset</li><li><i class='fas fa-times' style='color:#FF4136;' title='unavailable'></i>&nbsp; model_initial <span class='soft'>(Latenta)</span></li><li><i class='fas fa-times' style='color:#FF4136;' title='unavailable'></i>&nbsp; model <span class='soft'>(Latenta)</span></li><li><i class='fas fa-times' style='color:#FF4136;' title='unavailable'></i>&nbsp; transcriptome_observed <span class='soft'>(Latenta)</span></li><li><i class='fas fa-times' style='color:#FF4136;' title='unavailable'></i>&nbsp; overexpression_observed <span class='soft'>(Latenta)</span></li><li><i class='fas fa-times' style='color:#FF4136;' title='unavailable'></i>&nbsp; overexpression_causal <span class='soft'>(Latenta)</span></li></ul><ul class='steps'><li>create_model</li><li>infer_model</li><li>interpret</li></ul>"
      ],
      "text/plain": [
       "<__main__.ConstantModel at 0x7fe04c90b070>"
      ]
     },
     "execution_count": 62,
     "metadata": {},
     "output_type": "execute_result"
    }
   ],
   "source": [
    "model"
   ]
  },
  {
   "cell_type": "code",
   "execution_count": 63,
   "id": "c20aafa6-e2d6-47aa-ad35-43f35f614032",
   "metadata": {},
   "outputs": [
    {
     "data": {
      "text/html": [
       "<script src=\"https://cdnjs.cloudflare.com/ajax/libs/require.js/2.3.6/require.js\" integrity=\"sha512-vRqhAr2wsn+/cSsyz80psBbCcqzz2GTuhGk3bq3dAyytz4J/8XwFqMjiAGFBj+WM95lHBJ9cDf87T3P8yMrY7A==\" crossorigin=\"anonymous\" referrerpolicy=\"no-referrer\" id=\"script173\" onload=\"loaded173\"></script>\n",
       "<style>\n",
       ".la-flow ul {\n",
       "    margin-top:0;\n",
       "    list-style: none;\n",
       "    padding: 0;\n",
       "    padding-left: 10px !important;\n",
       "}\n",
       ".la-flow li {\n",
       "    padding-left: 10px;\n",
       "}\n",
       ".la-flow .instances li {\n",
       "    border-left: 1px dashed #ccc;\n",
       "}\n",
       ".la-flow .steps li {\n",
       "    border-left: 1px dotted #ccc;\n",
       "}\n",
       ".la-flow .soft {\n",
       "    opacity:0.5;\n",
       "}\n",
       "</style>\n",
       "\n",
       "<script>\n",
       "function loaded173() {\n",
       "    require.config({\n",
       "    paths: {\n",
       "        'fontawesome': 'https://kit.fontawesome.com/77f7a120e4.js'\n",
       "    }\n",
       "    })\n",
       "\n",
       "    require(['fontawesome'], function (fontawesome) {\n",
       "    console.log('Congrats, Font Awesome is installed using Require.js')\n",
       "    })\n",
       "}\n",
       "</script>\n",
       "\n",
       "\n",
       "\n",
       "        <div class='la-flow'>dataset <span class='soft'>(__main__.Dataset)</span><ul class='instances'><li><i class='fas fa-check-square' style='color:#2ECC40;' title='available and persistent'></i> adata <span class='soft'>(Py)</span></li></ul><ul class='steps'></ul>"
      ],
      "text/plain": [
       "<__main__.Dataset at 0x7fdf519c4580>"
      ]
     },
     "execution_count": 63,
     "metadata": {},
     "output_type": "execute_result"
    }
   ],
   "source": [
    "model.dataset"
   ]
  },
  {
   "cell_type": "code",
   "execution_count": 64,
   "id": "2b38dcd9-5f62-4d5c-b7ec-7dafa07858e7",
   "metadata": {},
   "outputs": [
    {
     "name": "stdout",
     "output_type": "stream",
     "text": [
      "▶️ | constant/create_model                                                                               \n",
      "✅ | constant/create_model                                                                               \n"
     ]
    }
   ],
   "source": [
    "model.create_model()"
   ]
  },
  {
   "cell_type": "code",
   "execution_count": 65,
   "id": "609970e5-7c2d-44fa-909d-1fab796a8290",
   "metadata": {},
   "outputs": [
    {
     "data": {
      "text/html": [
       "<script src=\"https://cdnjs.cloudflare.com/ajax/libs/require.js/2.3.6/require.js\" integrity=\"sha512-vRqhAr2wsn+/cSsyz80psBbCcqzz2GTuhGk3bq3dAyytz4J/8XwFqMjiAGFBj+WM95lHBJ9cDf87T3P8yMrY7A==\" crossorigin=\"anonymous\" referrerpolicy=\"no-referrer\" id=\"script1816\" onload=\"loaded1816\"></script>\n",
       "<style>\n",
       ".la-flow ul {\n",
       "    margin-top:0;\n",
       "    list-style: none;\n",
       "    padding: 0;\n",
       "    padding-left: 10px !important;\n",
       "}\n",
       ".la-flow li {\n",
       "    padding-left: 10px;\n",
       "}\n",
       ".la-flow .instances li {\n",
       "    border-left: 1px dashed #ccc;\n",
       "}\n",
       ".la-flow .steps li {\n",
       "    border-left: 1px dotted #ccc;\n",
       "}\n",
       ".la-flow .soft {\n",
       "    opacity:0.5;\n",
       "}\n",
       "</style>\n",
       "\n",
       "<script>\n",
       "function loaded1816() {\n",
       "    require.config({\n",
       "    paths: {\n",
       "        'fontawesome': 'https://kit.fontawesome.com/77f7a120e4.js'\n",
       "    }\n",
       "    })\n",
       "\n",
       "    require(['fontawesome'], function (fontawesome) {\n",
       "    console.log('Congrats, Font Awesome is installed using Require.js')\n",
       "    })\n",
       "}\n",
       "</script>\n",
       "\n",
       "\n",
       "\n",
       "        <div class='la-flow'>constant <span class='soft'>(__main__.ConstantModel)</span><ul class='instances'><li><i class='fas fa-check-square' style='color:#2ECC40;' title='available and persistent'></i> dataset <span class='soft'>(FlowLink)</span> → dataset</li><li><i class='fas fa-check' style='color:#2ECC40;' title='available but not persistent'></i> model_initial <span class='soft'>(Latenta)</span></li><li><i class='fas fa-times' style='color:#FF4136;' title='unavailable'></i>&nbsp; model <span class='soft'>(Latenta)</span></li><li><i class='fas fa-times' style='color:#FF4136;' title='unavailable'></i>&nbsp; transcriptome_observed <span class='soft'>(Latenta)</span></li><li><i class='fas fa-times' style='color:#FF4136;' title='unavailable'></i>&nbsp; overexpression_observed <span class='soft'>(Latenta)</span></li><li><i class='fas fa-times' style='color:#FF4136;' title='unavailable'></i>&nbsp; overexpression_causal <span class='soft'>(Latenta)</span></li></ul><ul class='steps'><li>create_model</li><li>infer_model</li><li>interpret</li></ul>"
      ],
      "text/plain": [
       "<__main__.ConstantModel at 0x7fe04c90b070>"
      ]
     },
     "execution_count": 65,
     "metadata": {},
     "output_type": "execute_result"
    }
   ],
   "source": [
    "model"
   ]
  },
  {
   "cell_type": "code",
   "execution_count": 66,
   "id": "8f8f6481-f4df-4036-806b-920b1b3e2967",
   "metadata": {},
   "outputs": [
    {
     "name": "stdout",
     "output_type": "stream",
     "text": [
      "▶️ | constant/infer_model                                                                                \n"
     ]
    },
    {
     "data": {
      "application/vnd.jupyter.widget-view+json": {
       "model_id": "d607146094814b3f8c71620172a6c50c",
       "version_major": 2,
       "version_minor": 0
      },
      "text/plain": [
       "  0%|                                                                                                         …"
      ]
     },
     "metadata": {},
     "output_type": "display_data"
    },
    {
     "name": "stdout",
     "output_type": "stream",
     "text": [
      "✅ | constant/infer_model                                                                                \n"
     ]
    }
   ],
   "source": [
    "model.infer_model()"
   ]
  },
  {
   "cell_type": "code",
   "execution_count": 67,
   "id": "b6655373-1588-42dd-84fe-c2fb45c22611",
   "metadata": {},
   "outputs": [
    {
     "name": "stdout",
     "output_type": "stream",
     "text": [
      "▶️ | constant/interpret                                                                                  \n"
     ]
    },
    {
     "data": {
      "application/vnd.jupyter.widget-view+json": {
       "model_id": "c47ff438775c4428b4c51eb2d54e78bd",
       "version_major": 2,
       "version_minor": 0
      },
      "text/plain": [
       "  0%|          | 0/5 [00:00<?, ?it/s]"
      ]
     },
     "metadata": {},
     "output_type": "display_data"
    },
    {
     "data": {
      "application/vnd.jupyter.widget-view+json": {
       "model_id": "0df7cc20fe45424591066ccee1f1afc1",
       "version_major": 2,
       "version_minor": 0
      },
      "text/plain": [
       "  0%|          | 0/5 [00:00<?, ?it/s]"
      ]
     },
     "metadata": {},
     "output_type": "display_data"
    },
    {
     "data": {
      "application/vnd.jupyter.widget-view+json": {
       "model_id": "528269f5ac7d494dbe9f55a7cdf83809",
       "version_major": 2,
       "version_minor": 0
      },
      "text/plain": [
       "  0%|          | 0/10 [00:00<?, ?it/s]"
      ]
     },
     "metadata": {},
     "output_type": "display_data"
    },
    {
     "data": {
      "application/vnd.jupyter.widget-view+json": {
       "model_id": "4ffd72cfb0a1458f86fe0fd7a753695c",
       "version_major": 2,
       "version_minor": 0
      },
      "text/plain": [
       "  0%|          | 0/10 [00:00<?, ?it/s]"
      ]
     },
     "metadata": {},
     "output_type": "display_data"
    },
    {
     "name": "stdout",
     "output_type": "stream",
     "text": [
      "✅ | constant/interpret                                                                                  \n"
     ]
    }
   ],
   "source": [
    "model.interpret()"
   ]
  },
  {
   "cell_type": "code",
   "execution_count": 68,
   "id": "36c79305-c543-43e8-a18c-e7d7c69e9da6",
   "metadata": {},
   "outputs": [
    {
     "data": {
      "text/html": [
       "<script src=\"https://cdnjs.cloudflare.com/ajax/libs/require.js/2.3.6/require.js\" integrity=\"sha512-vRqhAr2wsn+/cSsyz80psBbCcqzz2GTuhGk3bq3dAyytz4J/8XwFqMjiAGFBj+WM95lHBJ9cDf87T3P8yMrY7A==\" crossorigin=\"anonymous\" referrerpolicy=\"no-referrer\" id=\"script47352\" onload=\"loaded47352\"></script>\n",
       "<style>\n",
       ".la-flow ul {\n",
       "    margin-top:0;\n",
       "    list-style: none;\n",
       "    padding: 0;\n",
       "    padding-left: 10px !important;\n",
       "}\n",
       ".la-flow li {\n",
       "    padding-left: 10px;\n",
       "}\n",
       ".la-flow .instances li {\n",
       "    border-left: 1px dashed #ccc;\n",
       "}\n",
       ".la-flow .steps li {\n",
       "    border-left: 1px dotted #ccc;\n",
       "}\n",
       ".la-flow .soft {\n",
       "    opacity:0.5;\n",
       "}\n",
       "</style>\n",
       "\n",
       "<script>\n",
       "function loaded47352() {\n",
       "    require.config({\n",
       "    paths: {\n",
       "        'fontawesome': 'https://kit.fontawesome.com/77f7a120e4.js'\n",
       "    }\n",
       "    })\n",
       "\n",
       "    require(['fontawesome'], function (fontawesome) {\n",
       "    console.log('Congrats, Font Awesome is installed using Require.js')\n",
       "    })\n",
       "}\n",
       "</script>\n",
       "\n",
       "\n",
       "\n",
       "        <div class='la-flow'>constant <span class='soft'>(__main__.ConstantModel)</span><ul class='instances'><li><i class='fas fa-check-square' style='color:#2ECC40;' title='available and persistent'></i> dataset <span class='soft'>(FlowLink)</span> → dataset</li><li><i class='fas fa-check' style='color:#2ECC40;' title='available but not persistent'></i> model_initial <span class='soft'>(Latenta)</span></li><li><i class='fas fa-check-square' style='color:#2ECC40;' title='available and persistent'></i> model <span class='soft'>(Latenta)</span></li><li><i class='fas fa-check-square' style='color:#2ECC40;' title='available and persistent'></i> transcriptome_observed <span class='soft'>(Latenta)</span></li><li><i class='fas fa-check-square' style='color:#2ECC40;' title='available and persistent'></i> overexpression_observed <span class='soft'>(Latenta)</span></li><li><i class='fas fa-check-square' style='color:#2ECC40;' title='available and persistent'></i> overexpression_causal <span class='soft'>(Latenta)</span></li></ul><ul class='steps'><li>create_model</li><li>infer_model</li><li>interpret</li></ul>"
      ],
      "text/plain": [
       "<__main__.ConstantModel at 0x7fe04c90b070>"
      ]
     },
     "execution_count": 68,
     "metadata": {},
     "output_type": "execute_result"
    }
   ],
   "source": [
    "model"
   ]
  },
  {
   "cell_type": "code",
   "execution_count": 69,
   "id": "566e9332-48b4-4d95-8952-452ef61f533b",
   "metadata": {},
   "outputs": [
    {
     "data": {
      "image/png": "[encoded data removed]",
      "text/plain": [
       "<Figure size 1296x720 with 11 Axes>"
      ]
     },
     "execution_count": 69,
     "metadata": {},
     "output_type": "execute_result"
    },
    {
     "data": {
      "image/png": "[encoded data removed]",
      "text/plain": [
       "<Figure size 1296x720 with 11 Axes>"
      ]
     },
     "metadata": {
      "needs_background": "light"
     },
     "output_type": "display_data"
    }
   ],
   "source": [
    "model.overexpression_causal.plot_features()"
   ]
  },
  {
   "cell_type": "markdown",
   "id": "8ba95202-c0da-4777-a636-bf99ad78e3dc",
   "metadata": {},
   "source": [
    "We can now define our spline and linear models through inheritance, and only change the bits that are different. In this case, this is at the level of model creation:"
   ]
  },
  {
   "cell_type": "code",
   "execution_count": 70,
   "id": "31a9e9e8-6769-4cc7-aea7-2520ff923e77",
   "metadata": {},
   "outputs": [],
   "source": [
    "class LinearModel(ConstantModel):\n",
    "    # we change the default name, as to make sure this model is put in a different folder\n",
    "    default_name = \"linear\"\n",
    "\n",
    "    def create_model(self, output, adata):\n",
    "        # we can access the inherited function by adding a \"_\" at the end\n",
    "        output = super().create_model_(output, adata)\n",
    "        \n",
    "        # extract the model_initial from the output\n",
    "        model_initial = output.model_initial\n",
    "        \n",
    "        # now we can further adapt the model to our wish\n",
    "        foldchange = model_initial.find(\"foldchange\")\n",
    "        overexpression = model_initial.find(\"overexpression\")\n",
    "\n",
    "        foldchange.overexpression = la.links.scalar.Linear(\n",
    "            overexpression, a=True, definition=foldchange.value_definition\n",
    "        )\n",
    "        \n",
    "        # again return the output\n",
    "        # because we only adapted the model inplace, we do not need to update the output\n",
    "        return output\n",
    "\n",
    "\n",
    "class SplineModel(ConstantModel):\n",
    "    default_name = \"spline\"\n",
    "\n",
    "    def create_model(self, output, adata):\n",
    "        output = super().create_model_(output, adata)\n",
    "        \n",
    "        model_initial = output.model_initial\n",
    "\n",
    "        foldchange = model_initial.find(\"foldchange\")\n",
    "        overexpression = model_initial.find(\"overexpression\")\n",
    "\n",
    "        foldchange.overexpression = la.links.scalar.Spline(\n",
    "            overexpression, definition=foldchange.value_definition\n",
    "        )\n",
    "\n",
    "        return output"
   ]
  },
  {
   "cell_type": "code",
   "execution_count": 71,
   "id": "62ede4b6-a326-4078-87cc-69cd5dc045e8",
   "metadata": {},
   "outputs": [
    {
     "name": "stdout",
     "output_type": "stream",
     "text": [
      "▶️ | linear/create_model                                                                                 \n",
      "✅ | linear/create_model                                                                                 \n",
      "▶️ | linear/infer_model                                                                                  \n"
     ]
    },
    {
     "data": {
      "application/vnd.jupyter.widget-view+json": {
       "model_id": "0a83383a19644c2ca85e738bed5899dd",
       "version_major": 2,
       "version_minor": 0
      },
      "text/plain": [
       "  0%|                                                                                                         …"
      ]
     },
     "metadata": {},
     "output_type": "display_data"
    },
    {
     "name": "stderr",
     "output_type": "stream",
     "text": [
      "/tmp/tmpvunj_qpt/constant/model.pkl: 558.5 KiB / 11.2 MiB = 0.049, 0:02\n",
      "/tmp/tmpvunj_qpt/constant/overexpression_causal.pkl: 513.8 KiB / 16.1 MiB = 0.031, 0:02\n"
     ]
    },
    {
     "name": "stdout",
     "output_type": "stream",
     "text": [
      "✅ | linear/infer_model                                                                                  \n",
      "▶️ | linear/interpret                                                                                    \n"
     ]
    },
    {
     "data": {
      "application/vnd.jupyter.widget-view+json": {
       "model_id": "36901d50e6e246fb9af86ed654dc4e63",
       "version_major": 2,
       "version_minor": 0
      },
      "text/plain": [
       "  0%|          | 0/5 [00:00<?, ?it/s]"
      ]
     },
     "metadata": {},
     "output_type": "display_data"
    },
    {
     "data": {
      "application/vnd.jupyter.widget-view+json": {
       "model_id": "d52f98ffb5f64e708c360290f5096c4d",
       "version_major": 2,
       "version_minor": 0
      },
      "text/plain": [
       "  0%|          | 0/5 [00:00<?, ?it/s]"
      ]
     },
     "metadata": {},
     "output_type": "display_data"
    },
    {
     "data": {
      "application/vnd.jupyter.widget-view+json": {
       "model_id": "55c5f2e12134461492f339f32f0a45e6",
       "version_major": 2,
       "version_minor": 0
      },
      "text/plain": [
       "  0%|          | 0/10 [00:00<?, ?it/s]"
      ]
     },
     "metadata": {},
     "output_type": "display_data"
    },
    {
     "data": {
      "application/vnd.jupyter.widget-view+json": {
       "model_id": "fdbe6401f67c42fb81735419e5cf8ec9",
       "version_major": 2,
       "version_minor": 0
      },
      "text/plain": [
       "  0%|          | 0/10 [00:00<?, ?it/s]"
      ]
     },
     "metadata": {},
     "output_type": "display_data"
    },
    {
     "name": "stdout",
     "output_type": "stream",
     "text": [
      "✅ | linear/interpret                                                                                    \n"
     ]
    }
   ],
   "source": [
    "model = LinearModel(dataset=dataset)\n",
    "model.create_model()\n",
    "model.infer_model()\n",
    "model.interpret()"
   ]
  },
  {
   "cell_type": "code",
   "execution_count": 72,
   "id": "50b1aa5a-cfb9-431d-bfee-2f3ccd5c9d9a",
   "metadata": {},
   "outputs": [
    {
     "name": "stdout",
     "output_type": "stream",
     "text": [
      "▶️ | spline/create_model                                                                                 \n",
      "✅ | spline/create_model                                                                                 \n",
      "▶️ | spline/infer_model                                                                                  \n"
     ]
    },
    {
     "data": {
      "application/vnd.jupyter.widget-view+json": {
       "model_id": "2f6a6e9238a04efbb7de63a7285f1411",
       "version_major": 2,
       "version_minor": 0
      },
      "text/plain": [
       "  0%|                                                                                                         …"
      ]
     },
     "metadata": {},
     "output_type": "display_data"
    },
    {
     "name": "stderr",
     "output_type": "stream",
     "text": [
      "/tmp/tmpvunj_qpt/linear/model.pkl: 578.1 KiB / 11.3 MiB = 0.050, 0:02\n"
     ]
    },
    {
     "name": "stdout",
     "output_type": "stream",
     "text": [
      "✅ | spline/infer_model                                                                                  \n",
      "▶️ | spline/interpret                                                                                    \n"
     ]
    },
    {
     "name": "stderr",
     "output_type": "stream",
     "text": [
      "/tmp/tmpvunj_qpt/linear/overexpression_causal.pkl: 7,867.7 KiB / 16.1 MiB = 0.477, 3.6 MiB/s, 0:04\n"
     ]
    },
    {
     "data": {
      "application/vnd.jupyter.widget-view+json": {
       "model_id": "37aeb79985d048368a05f22abec2bca7",
       "version_major": 2,
       "version_minor": 0
      },
      "text/plain": [
       "  0%|          | 0/5 [00:00<?, ?it/s]"
      ]
     },
     "metadata": {},
     "output_type": "display_data"
    },
    {
     "data": {
      "application/vnd.jupyter.widget-view+json": {
       "model_id": "bfbf73debfd44ecca8f83018d82470be",
       "version_major": 2,
       "version_minor": 0
      },
      "text/plain": [
       "  0%|          | 0/5 [00:00<?, ?it/s]"
      ]
     },
     "metadata": {},
     "output_type": "display_data"
    },
    {
     "data": {
      "application/vnd.jupyter.widget-view+json": {
       "model_id": "ffde8e39ae11497c94cbc7dd82d5083e",
       "version_major": 2,
       "version_minor": 0
      },
      "text/plain": [
       "  0%|          | 0/10 [00:00<?, ?it/s]"
      ]
     },
     "metadata": {},
     "output_type": "display_data"
    },
    {
     "data": {
      "application/vnd.jupyter.widget-view+json": {
       "model_id": "aa6c1954c63b4acc84780c4d4a0b449b",
       "version_major": 2,
       "version_minor": 0
      },
      "text/plain": [
       "  0%|          | 0/10 [00:00<?, ?it/s]"
      ]
     },
     "metadata": {},
     "output_type": "display_data"
    },
    {
     "name": "stdout",
     "output_type": "stream",
     "text": [
      "✅ | spline/interpret                                                                                    \n"
     ]
    },
    {
     "name": "stderr",
     "output_type": "stream",
     "text": [
      "/tmp/tmpvunj_qpt/spline/model.pkl: 684.2 KiB / 11.6 MiB = 0.058, 0:02\n"
     ]
    }
   ],
   "source": [
    "model = SplineModel(dataset=dataset)\n",
    "model.create_model()\n",
    "model.infer_model()\n",
    "model.interpret()"
   ]
  },
  {
   "cell_type": "markdown",
   "id": "5adfbc77-8269-4810-8de2-6b2cf9a6dc47",
   "metadata": {},
   "source": [
    "## Building from existing workflows"
   ]
  },
  {
   "cell_type": "markdown",
   "id": "47484a62-a9de-4326-96f6-e38b588f49ad",
   "metadata": {},
   "source": [
    "lacell not only contains classes that help with model creation, but also with workflow creation. For example, if we're working with transcriptomics data, we will often inherit from {class}`~lac.transcriptome.TranscriptomeDataset` and {class}`~lac.transcriptome.TranscriptomeModel`:"
   ]
  },
  {
   "cell_type": "code",
   "execution_count": 96,
   "id": "06975992-45f0-48c9-85cd-1a8fc2d96ab2",
   "metadata": {},
   "outputs": [],
   "source": [
    "project_root = pathlib.Path(tempfile.TemporaryDirectory().name)\n",
    "project_root.mkdir()\n",
    "laf.set_project_root(project_root)  # sets the default project root"
   ]
  },
  {
   "cell_type": "code",
   "execution_count": 97,
   "id": "f325a0fc-b85f-487a-a805-e39e15aad490",
   "metadata": {},
   "outputs": [],
   "source": [
    "dataset = lac.transcriptome.TranscriptomeDataset(\"dataset2\")"
   ]
  },
  {
   "cell_type": "markdown",
   "id": "c3af954e-bd8e-4ee7-8708-b7f907ee61f4",
   "metadata": {},
   "source": [
    "It contains information from one modality, namely the transcriptome:"
   ]
  },
  {
   "cell_type": "code",
   "execution_count": 98,
   "id": "39566663-aacf-4618-89a8-ae6047d164e7",
   "metadata": {},
   "outputs": [
    {
     "data": {
      "text/html": [
       "<script src=\"https://cdnjs.cloudflare.com/ajax/libs/require.js/2.3.6/require.js\" integrity=\"sha512-vRqhAr2wsn+/cSsyz80psBbCcqzz2GTuhGk3bq3dAyytz4J/8XwFqMjiAGFBj+WM95lHBJ9cDf87T3P8yMrY7A==\" crossorigin=\"anonymous\" referrerpolicy=\"no-referrer\" id=\"script29892\" onload=\"loaded29892\"></script>\n",
       "<style>\n",
       ".la-flow ul {\n",
       "    margin-top:0;\n",
       "    list-style: none;\n",
       "    padding: 0;\n",
       "    padding-left: 10px !important;\n",
       "}\n",
       ".la-flow li {\n",
       "    padding-left: 10px;\n",
       "}\n",
       ".la-flow .instances li {\n",
       "    border-left: 1px dashed #ccc;\n",
       "}\n",
       ".la-flow .steps li {\n",
       "    border-left: 1px dotted #ccc;\n",
       "}\n",
       ".la-flow .soft {\n",
       "    opacity:0.5;\n",
       "}\n",
       "</style>\n",
       "\n",
       "<script>\n",
       "function loaded29892() {\n",
       "    require.config({\n",
       "    paths: {\n",
       "        'fontawesome': 'https://kit.fontawesome.com/77f7a120e4.js'\n",
       "    }\n",
       "    })\n",
       "\n",
       "    require(['fontawesome'], function (fontawesome) {\n",
       "    console.log('Congrats, Font Awesome is installed using Require.js')\n",
       "    })\n",
       "}\n",
       "</script>\n",
       "\n",
       "\n",
       "\n",
       "        <div class='la-flow'>dataset2/transcriptome <span class='soft'>(lacell.transcriptome.transcriptome.TranscriptomeModality)</span><ul class='instances'><li><i class='far fa-circle' style='color:#FF4136;' title='unavailable'></i>&nbsp; X <span class='soft'>(Py)</span></li><li><i class='far fa-circle' style='color:#FF4136;' title='unavailable'></i>&nbsp; obs <span class='soft'>(Py)</span></li><li><i class='far fa-circle' style='color:#FF4136;' title='unavailable'></i>&nbsp; var <span class='soft'>(Py)</span></li><li><i class='far fa-circle' style='color:#FF4136;' title='unavailable'></i>&nbsp; obs_id <span class='soft'>(Py)</span></li></ul><ul class='steps'><li>from_adata</li></ul>"
      ],
      "text/plain": [
       "<lacell.transcriptome.transcriptome.TranscriptomeModality at 0x7fdf4efc35b0>"
      ]
     },
     "execution_count": 98,
     "metadata": {},
     "output_type": "execute_result"
    }
   ],
   "source": [
    "dataset.transcriptome"
   ]
  },
  {
   "cell_type": "code",
   "execution_count": 99,
   "id": "673bfcc2-c3aa-4b6c-9e30-958834fa6087",
   "metadata": {},
   "outputs": [
    {
     "name": "stdout",
     "output_type": "stream",
     "text": [
      "▶️ | dataset2/transcriptome/from_adata                                                                   \n",
      "✅ | dataset2/transcriptome/from_adata                                                                   \n"
     ]
    }
   ],
   "source": [
    "dataset.transcriptome.from_adata(adata = adata)"
   ]
  },
  {
   "cell_type": "code",
   "execution_count": 100,
   "id": "64a5fd9c-f71a-41d4-8474-d8b9d44a3c0d",
   "metadata": {},
   "outputs": [
    {
     "data": {
      "text/html": [
       "<script src=\"https://cdnjs.cloudflare.com/ajax/libs/require.js/2.3.6/require.js\" integrity=\"sha512-vRqhAr2wsn+/cSsyz80psBbCcqzz2GTuhGk3bq3dAyytz4J/8XwFqMjiAGFBj+WM95lHBJ9cDf87T3P8yMrY7A==\" crossorigin=\"anonymous\" referrerpolicy=\"no-referrer\" id=\"script42962\" onload=\"loaded42962\"></script>\n",
       "<style>\n",
       ".la-flow ul {\n",
       "    margin-top:0;\n",
       "    list-style: none;\n",
       "    padding: 0;\n",
       "    padding-left: 10px !important;\n",
       "}\n",
       ".la-flow li {\n",
       "    padding-left: 10px;\n",
       "}\n",
       ".la-flow .instances li {\n",
       "    border-left: 1px dashed #ccc;\n",
       "}\n",
       ".la-flow .steps li {\n",
       "    border-left: 1px dotted #ccc;\n",
       "}\n",
       ".la-flow .soft {\n",
       "    opacity:0.5;\n",
       "}\n",
       "</style>\n",
       "\n",
       "<script>\n",
       "function loaded42962() {\n",
       "    require.config({\n",
       "    paths: {\n",
       "        'fontawesome': 'https://kit.fontawesome.com/77f7a120e4.js'\n",
       "    }\n",
       "    })\n",
       "\n",
       "    require(['fontawesome'], function (fontawesome) {\n",
       "    console.log('Congrats, Font Awesome is installed using Require.js')\n",
       "    })\n",
       "}\n",
       "</script>\n",
       "\n",
       "\n",
       "\n",
       "        <div class='la-flow'>dataset2/transcriptome <span class='soft'>(lacell.transcriptome.transcriptome.TranscriptomeModality)</span><ul class='instances'><li><i class='fas fa-check-square' style='color:#2ECC40;' title='available and persistent'></i> X <span class='soft'>(Py)</span></li><li><i class='fas fa-check-square' style='color:#2ECC40;' title='available and persistent'></i> obs <span class='soft'>(Py)</span></li><li><i class='fas fa-check-square' style='color:#2ECC40;' title='available and persistent'></i> var <span class='soft'>(Py)</span></li><li><i class='fas fa-check-square' style='color:#2ECC40;' title='available and persistent'></i> obs_id <span class='soft'>(Py)</span></li></ul><ul class='steps'><li>from_adata</li></ul>"
      ],
      "text/plain": [
       "<lacell.transcriptome.transcriptome.TranscriptomeModality at 0x7fdf4efc35b0>"
      ]
     },
     "execution_count": 100,
     "metadata": {},
     "output_type": "execute_result"
    }
   ],
   "source": [
    "dataset.transcriptome"
   ]
  },
  {
   "cell_type": "code",
   "execution_count": 101,
   "id": "bdd5c53d-b624-4b26-acdb-28e5e383374a",
   "metadata": {},
   "outputs": [
    {
     "data": {
      "text/html": [
       "<script src=\"https://cdnjs.cloudflare.com/ajax/libs/require.js/2.3.6/require.js\" integrity=\"sha512-vRqhAr2wsn+/cSsyz80psBbCcqzz2GTuhGk3bq3dAyytz4J/8XwFqMjiAGFBj+WM95lHBJ9cDf87T3P8yMrY7A==\" crossorigin=\"anonymous\" referrerpolicy=\"no-referrer\" id=\"script10529\" onload=\"loaded10529\"></script>\n",
       "<style>\n",
       ".la-flow ul {\n",
       "    margin-top:0;\n",
       "    list-style: none;\n",
       "    padding: 0;\n",
       "    padding-left: 10px !important;\n",
       "}\n",
       ".la-flow li {\n",
       "    padding-left: 10px;\n",
       "}\n",
       ".la-flow .instances li {\n",
       "    border-left: 1px dashed #ccc;\n",
       "}\n",
       ".la-flow .steps li {\n",
       "    border-left: 1px dotted #ccc;\n",
       "}\n",
       ".la-flow .soft {\n",
       "    opacity:0.5;\n",
       "}\n",
       "</style>\n",
       "\n",
       "<script>\n",
       "function loaded10529() {\n",
       "    require.config({\n",
       "    paths: {\n",
       "        'fontawesome': 'https://kit.fontawesome.com/77f7a120e4.js'\n",
       "    }\n",
       "    })\n",
       "\n",
       "    require(['fontawesome'], function (fontawesome) {\n",
       "    console.log('Congrats, Font Awesome is installed using Require.js')\n",
       "    })\n",
       "}\n",
       "</script>\n",
       "\n",
       "\n",
       "\n",
       "        <div class='la-flow'>dataset2 <span class='soft'>(lacell.transcriptome.transcriptome.TranscriptomeDataset)</span><ul class='instances'><li><i class='fas fa-check-square' style='color:#2ECC40;' title='available and persistent'></i> modality_ids <span class='soft'>(Py)</span></li><li><i class='far fa-circle' style='color:#FF4136;' title='unavailable'></i>&nbsp; adata <span class='soft'>(Py)</span></li><li><i class='fas fa-check-square' style='color:#2ECC40;' title='available and persistent'></i> transcriptome <span class='soft'>(FlowLink)</span></li></ul><ul class='steps'></ul>"
      ],
      "text/plain": [
       "<lacell.transcriptome.transcriptome.TranscriptomeDataset at 0x7fdf512e4df0>"
      ]
     },
     "execution_count": 101,
     "metadata": {},
     "output_type": "execute_result"
    }
   ],
   "source": [
    "dataset"
   ]
  },
  {
   "cell_type": "code",
   "execution_count": 102,
   "id": "961445b6-be83-463b-b624-ed08430ec757",
   "metadata": {},
   "outputs": [],
   "source": [
    "class ConstantModel(lac.transcriptome.TranscriptomeModel):\n",
    "    default_name = \"constant\"\n",
    "    dataset = laf.FlowObj()\n",
    "\n",
    "    def create_model(self, output, X, obs, var):\n",
    "        output = super().create_model_(output, X, obs, var)\n",
    "        \n",
    "        transcriptome = output.model_initial\n",
    "        \n",
    "        # define the model as before\n",
    "        overexpression = la.Fixed(\n",
    "            obs[\"log_overexpression\"], label=\"overexpression\"\n",
    "        )\n",
    "        foldchange = transcriptome.find(\"foldchange\")\n",
    "\n",
    "        foldchange.overexpression = la.links.scalar.Constant(\n",
    "            overexpression, definition=foldchange.value_definition\n",
    "        )\n",
    "        return output\n",
    "\n",
    "    model = lac.transcriptome.TranscriptomeModel.model\n",
    "    \n",
    "    overexpression_observed = laf.LatentaObj(db = {model})\n",
    "    overexpression_causal = laf.LatentaObj(db = {model})\n",
    "    \n",
    "    @laf.Step(\n",
    "        laf.Inputs(model),\n",
    "        laf.Outputs(overexpression_observed, overexpression_causal)\n",
    "    )\n",
    "    def interpret_overexpression(self, output, model):\n",
    "        overexpression = model.find(\"overexpression\")\n",
    "\n",
    "        overexpression_observed = la.posterior.scalar.ScalarObserved(overexpression)\n",
    "        overexpression_observed.sample(5)\n",
    "        output.overexpression_observed = overexpression_observed\n",
    "\n",
    "        overexpression_causal = la.posterior.scalar.ScalarVectorCausal(\n",
    "            overexpression,\n",
    "            model,\n",
    "            interpretable=model.p.mu.expression,\n",
    "            observed=overexpression_observed,\n",
    "        )\n",
    "        overexpression_causal.sample(10)\n",
    "        overexpression_causal.sample_random(10)\n",
    "        overexpression_causal.observed\n",
    "        overexpression_causal.sample_empirical()\n",
    "        output.overexpression_causal = overexpression_causal\n",
    "        \n",
    "        return output\n",
    "    \n",
    "class LinearModel(ConstantModel):\n",
    "    # we change the default name, as to make sure this model is put in a different folder\n",
    "    default_name = \"linear\"\n",
    "\n",
    "    def create_model(self, output, X, obs, var):\n",
    "        # we can access the inherited function by adding a \"_\" at the end\n",
    "        output = super().create_model_(output, X, obs, var)\n",
    "        \n",
    "        # extract the model_initial from the output\n",
    "        model_initial = output.model_initial\n",
    "        \n",
    "        # now we can further adapt the model to our wish\n",
    "        foldchange = model_initial.find(\"foldchange\")\n",
    "        overexpression = model_initial.find(\"overexpression\")\n",
    "\n",
    "        foldchange.overexpression = la.links.scalar.Linear(\n",
    "            overexpression, a=True, definition=foldchange.value_definition\n",
    "        )\n",
    "        \n",
    "        # again return the output\n",
    "        # because we only adapted the model inplace, we do not need to update the output\n",
    "        return output\n",
    "\n",
    "\n",
    "class SplineModel(ConstantModel):\n",
    "    default_name = \"spline\"\n",
    "\n",
    "    def create_model(self, output, X, obs, var):\n",
    "        output = super().create_model_(output, X, obs, var)\n",
    "        \n",
    "        model_initial = output.model_initial\n",
    "\n",
    "        foldchange = model_initial.find(\"foldchange\")\n",
    "        overexpression = model_initial.find(\"overexpression\")\n",
    "\n",
    "        foldchange.overexpression = la.links.scalar.Spline(\n",
    "            overexpression, definition=foldchange.value_definition\n",
    "        )\n",
    "\n",
    "        return output"
   ]
  },
  {
   "cell_type": "code",
   "execution_count": 103,
   "id": "6316066c-f88f-43cf-b2ea-05fde2dea283",
   "metadata": {},
   "outputs": [
    {
     "name": "stdout",
     "output_type": "stream",
     "text": [
      "▶️ | linear/create_model                                                                                 \n",
      "✅ | linear/create_model                                                                                 \n",
      "▶️ | linear/create_scheme                                                                                \n",
      "✅ | linear/create_scheme                                                                                \n",
      "▶️ | linear/infer_model                                                                                  \n"
     ]
    },
    {
     "data": {
      "application/vnd.jupyter.widget-view+json": {
       "model_id": "47abc641acf046bb9e37c7da35963b06",
       "version_major": 2,
       "version_minor": 0
      },
      "text/plain": [
       "  0%|                                                                                                         …"
      ]
     },
     "metadata": {},
     "output_type": "display_data"
    },
    {
     "data": {
      "application/vnd.jupyter.widget-view+json": {
       "model_id": "5e34af48a4954340b51a9da107135947",
       "version_major": 2,
       "version_minor": 0
      },
      "text/plain": [
       "  0%|                                                                                                         …"
      ]
     },
     "metadata": {},
     "output_type": "display_data"
    },
    {
     "name": "stdout",
     "output_type": "stream",
     "text": [
      "✅ | linear/infer_model                                                                                  \n",
      "▶️ | linear/interpret_transcriptome                                                                      \n"
     ]
    },
    {
     "data": {
      "application/vnd.jupyter.widget-view+json": {
       "model_id": "50647389cab44b86867c3b7cdcc3abbe",
       "version_major": 2,
       "version_minor": 0
      },
      "text/plain": [
       "  0%|          | 0/5 [00:00<?, ?it/s]"
      ]
     },
     "metadata": {},
     "output_type": "display_data"
    },
    {
     "name": "stdout",
     "output_type": "stream",
     "text": [
      "✅ | linear/interpret_transcriptome                                                                      \n"
     ]
    },
    {
     "name": "stderr",
     "output_type": "stream",
     "text": [
      "/tmp/tmpwa3xuhqr/linear/model.pkl: 574.8 KiB / 11.3 MiB = 0.050, 0:02\n"
     ]
    }
   ],
   "source": [
    "model = LinearModel(dataset=dataset)\n",
    "model.create_model()\n",
    "model.infer_model()\n",
    "model.interpret_transcriptome()"
   ]
  },
  {
   "cell_type": "code",
   "execution_count": null,
   "id": "fcfafd5b-4b6e-400e-b596-53833821adb6",
   "metadata": {},
   "outputs": [],
   "source": [
    "model.transcriptome_observed.samples.path.exists()"
   ]
  },
  {
   "cell_type": "code",
   "execution_count": 81,
   "id": "d4f55311-1cd2-4ff1-b388-6bd1d92f790b",
   "metadata": {},
   "outputs": [
    {
     "name": "stdout",
     "output_type": "stream",
     "text": [
      "▶️ | linear/interpret_overexpression                                                                     \n"
     ]
    },
    {
     "data": {
      "application/vnd.jupyter.widget-view+json": {
       "model_id": "15ad4f4b5df944e99c1e5e99192ccf89",
       "version_major": 2,
       "version_minor": 0
      },
      "text/plain": [
       "  0%|          | 0/5 [00:00<?, ?it/s]"
      ]
     },
     "metadata": {},
     "output_type": "display_data"
    },
    {
     "data": {
      "application/vnd.jupyter.widget-view+json": {
       "model_id": "d25086a19f904e229fc820dd1a487cae",
       "version_major": 2,
       "version_minor": 0
      },
      "text/plain": [
       "  0%|          | 0/10 [00:00<?, ?it/s]"
      ]
     },
     "metadata": {},
     "output_type": "display_data"
    },
    {
     "data": {
      "application/vnd.jupyter.widget-view+json": {
       "model_id": "7b7a66784963457c9f65ebbcc832ac92",
       "version_major": 2,
       "version_minor": 0
      },
      "text/plain": [
       "  0%|          | 0/10 [00:00<?, ?it/s]"
      ]
     },
     "metadata": {},
     "output_type": "display_data"
    },
    {
     "name": "stdout",
     "output_type": "stream",
     "text": [
      "✅ | linear/interpret_overexpression                                                                     \n"
     ]
    }
   ],
   "source": [
    "model.interpret_overexpression()"
   ]
  },
  {
   "cell_type": "code",
   "execution_count": 92,
   "id": "9e1bdd0a-c753-4b5a-938e-90b2d5eed64c",
   "metadata": {},
   "outputs": [
    {
     "data": {
      "text/html": [
       "<script src=\"https://cdnjs.cloudflare.com/ajax/libs/require.js/2.3.6/require.js\" integrity=\"sha512-vRqhAr2wsn+/cSsyz80psBbCcqzz2GTuhGk3bq3dAyytz4J/8XwFqMjiAGFBj+WM95lHBJ9cDf87T3P8yMrY7A==\" crossorigin=\"anonymous\" referrerpolicy=\"no-referrer\" id=\"script4722\" onload=\"loaded4722\"></script>\n",
       "<style>\n",
       ".la-flow ul {\n",
       "    margin-top:0;\n",
       "    list-style: none;\n",
       "    padding: 0;\n",
       "    padding-left: 10px !important;\n",
       "}\n",
       ".la-flow li {\n",
       "    padding-left: 10px;\n",
       "}\n",
       ".la-flow .instances li {\n",
       "    border-left: 1px dashed #ccc;\n",
       "}\n",
       ".la-flow .steps li {\n",
       "    border-left: 1px dotted #ccc;\n",
       "}\n",
       ".la-flow .soft {\n",
       "    opacity:0.5;\n",
       "}\n",
       "</style>\n",
       "\n",
       "<script>\n",
       "function loaded4722() {\n",
       "    require.config({\n",
       "    paths: {\n",
       "        'fontawesome': 'https://kit.fontawesome.com/77f7a120e4.js'\n",
       "    }\n",
       "    })\n",
       "\n",
       "    require(['fontawesome'], function (fontawesome) {\n",
       "    console.log('Congrats, Font Awesome is installed using Require.js')\n",
       "    })\n",
       "}\n",
       "</script>\n",
       "\n",
       "\n",
       "\n",
       "        <div class='la-flow'>linear <span class='soft'>(__main__.LinearModel)</span><ul class='instances'><li><i class='fas fa-check' style='color:#2ECC40;' title='available but not persistent'></i> model_initial <span class='soft'>(Latenta)</span></li><li><i class='fas fa-check-square' style='color:#2ECC40;' title='available and persistent'></i> model <span class='soft'>(Latenta)</span></li><li><i class='fas fa-check-square' style='color:#2ECC40;' title='available and persistent'></i> trace <span class='soft'>(Py)</span></li><li><i class='fas fa-check' style='color:#2ECC40;' title='available but not persistent'></i> scheme <span class='soft'>(Py)</span></li><li><i class='fas fa-check-square' style='color:#2ECC40;' title='available and persistent'></i> dataset <span class='soft'>(FlowLink)</span> → dataset2</li><li><i class='fas fa-check-square' style='color:#2ECC40;' title='available and persistent'></i> transcriptome <span class='soft'>(FlowLink)</span> <span class='soft'>Original: dataset2/transcriptome</li><li><i class='fas fa-check-square' style='color:#2ECC40;' title='available and persistent'></i> transcriptome_observed <span class='soft'>(Latenta)</span></li><li><i class='far fa-circle' style='color:#FF4136;' title='unavailable'></i>&nbsp; likelihood_genes <span class='soft'>(Py)</span></li><li><i class='far fa-circle' style='color:#FF4136;' title='unavailable'></i>&nbsp; elbo_genes <span class='soft'>(Py)</span></li><li><i class='fas fa-check-square' style='color:#2ECC40;' title='available and persistent'></i> overexpression_observed <span class='soft'>(Latenta)</span></li><li><i class='fas fa-check-square' style='color:#2ECC40;' title='available and persistent'></i> overexpression_causal <span class='soft'>(Latenta)</span></li></ul><ul class='steps'><li>create_scheme</li><li>infer_model</li><li>create_model</li><li>interpret_transcriptome</li><li>gather_gene_statistics</li><li>interpret_overexpression</li></ul>"
      ],
      "text/plain": [
       "<__main__.LinearModel at 0x7fe04c731be0>"
      ]
     },
     "execution_count": 92,
     "metadata": {},
     "output_type": "execute_result"
    }
   ],
   "source": [
    "model"
   ]
  },
  {
   "cell_type": "code",
   "execution_count": 126,
   "id": "273428a0-903a-4415-8fb8-f8a4d9cb6ef3",
   "metadata": {},
   "outputs": [
    {
     "name": "stdout",
     "output_type": "stream",
     "text": [
      "✔️ | linear/gather_gene_statistics                                                                       \n"
     ]
    }
   ],
   "source": [
    "model.gather_gene_statistics()"
   ]
  },
  {
   "cell_type": "code",
   "execution_count": 124,
   "id": "eafcbe53-e634-475d-b93f-40d6a0bed86a",
   "metadata": {},
   "outputs": [
    {
     "data": {
      "text/plain": [
       "gene\n",
       "ENSMUSG00000005360   -3016.560059\n",
       "ENSMUSG00000041959   -2981.655762\n",
       "ENSMUSG00000026385   -2883.860352\n",
       "ENSMUSG00000031765   -2875.299316\n",
       "ENSMUSG00000037894   -2779.372803\n",
       "                         ...     \n",
       "ENSMUSG00000042345     -67.022728\n",
       "ENSMUSG00000026475     -66.722015\n",
       "ENSMUSG00000050359     -58.783718\n",
       "ENSMUSG00000034981     -57.452663\n",
       "ENSMUSG00000066705     -36.923592\n",
       "Length: 2047, dtype: float32"
      ]
     },
     "execution_count": 124,
     "metadata": {},
     "output_type": "execute_result"
    }
   ],
   "source": [
    "model.likelihood_genes.sort_values()"
   ]
  },
  {
   "cell_type": "code",
   "execution_count": 150,
   "id": "78c0c524-e0ee-4a5e-8f5e-aa38c814af3e",
   "metadata": {},
   "outputs": [
    {
     "data": {
      "text/html": [
       "<script src=\"https://cdnjs.cloudflare.com/ajax/libs/require.js/2.3.6/require.js\" integrity=\"sha512-vRqhAr2wsn+/cSsyz80psBbCcqzz2GTuhGk3bq3dAyytz4J/8XwFqMjiAGFBj+WM95lHBJ9cDf87T3P8yMrY7A==\" crossorigin=\"anonymous\" referrerpolicy=\"no-referrer\" id=\"script34898\" onload=\"loaded34898\"></script>\n",
       "<style>\n",
       ".la-flow ul {\n",
       "    margin-top:0;\n",
       "    list-style: none;\n",
       "    padding: 0;\n",
       "    padding-left: 10px !important;\n",
       "}\n",
       ".la-flow li {\n",
       "    padding-left: 10px;\n",
       "}\n",
       ".la-flow .instances li {\n",
       "    border-left: 1px dashed #ccc;\n",
       "}\n",
       ".la-flow .steps li {\n",
       "    border-left: 1px dotted #ccc;\n",
       "}\n",
       ".la-flow .soft {\n",
       "    opacity:0.5;\n",
       "}\n",
       "</style>\n",
       "\n",
       "<script>\n",
       "function loaded34898() {\n",
       "    require.config({\n",
       "    paths: {\n",
       "        'fontawesome': 'https://kit.fontawesome.com/77f7a120e4.js'\n",
       "    }\n",
       "    })\n",
       "\n",
       "    require(['fontawesome'], function (fontawesome) {\n",
       "    console.log('Congrats, Font Awesome is installed using Require.js')\n",
       "    })\n",
       "}\n",
       "</script>\n",
       "\n",
       "\n",
       "\n",
       "        <div class='la-flow'><strong>linear</strong> <span class='soft'>(__main__.LinearModel)</span><ul class='instances'><li><i class='fas fa-check' style='color:#2ECC40;' title='available but not persistent'></i> model_initial <span class='soft'>(Latenta)</span></li><li><i class='fas fa-check-square' style='color:#2ECC40;' title='available and persistent'></i> model <span class='soft'>(Latenta)</span></li><li><i class='fas fa-check-square' style='color:#2ECC40;' title='available and persistent'></i> trace <span class='soft'>(Py)</span></li><li><i class='fas fa-check' style='color:#2ECC40;' title='available but not persistent'></i> scheme <span class='soft'>(Py)</span></li><li><i class='fas fa-check-square' style='color:#2ECC40;' title='available and persistent'></i> dataset <span class='soft'>(FlowLink)</span> → dataset2</li><li><i class='fas fa-check-square' style='color:#2ECC40;' title='available and persistent'></i> transcriptome <span class='soft'>(FlowLink)</span> <span class='soft'>Original: dataset2/transcriptome</li><li><i class='fas fa-check-square' style='color:#2ECC40;' title='available and persistent'></i> transcriptome_observed <span class='soft'>(Latenta)</span></li><li><i class='fas fa-check-square' style='color:#2ECC40;' title='available and persistent'></i> likelihood_genes <span class='soft'>(Py)</span></li><li><i class='fas fa-check-square' style='color:#2ECC40;' title='available and persistent'></i> elbo_genes <span class='soft'>(Py)</span></li><li><i class='fas fa-minus' style='color:#FF4136;' title='unavailable'></i> overexpression_observed <span class='soft'>(Latenta)</span></li><li><i class='fas fa-minus' style='color:#FF4136;' title='unavailable'></i> overexpression_causal <span class='soft'>(Latenta)</span></li></ul><ul class='steps'><li>create_scheme → scheme</li><li>infer_model → trace, model</li><li>create_model → model_initial</li><li>interpret_transcriptome → transcriptome_observed</li><li>gather_gene_statistics → likelihood_genes, elbo_genes</li><li>interpret_overexpression → overexpression_observed, overexpression_causal</li></ul>"
      ],
      "text/plain": [
       "<__main__.LinearModel at 0x7fdf4efc5a60>"
      ]
     },
     "execution_count": 150,
     "metadata": {},
     "output_type": "execute_result"
    }
   ],
   "source": [
    "model"
   ]
  },
  {
   "cell_type": "code",
   "execution_count": null,
   "id": "d5264216-c134-4cf6-9d98-1b5e83f28e0a",
   "metadata": {},
   "outputs": [],
   "source": []
  },
  {
   "cell_type": "code",
   "execution_count": null,
   "id": "1b412a00-b65b-49d6-b0ec-902aa3150fdf",
   "metadata": {},
   "outputs": [],
   "source": []
  },
  {
   "cell_type": "code",
   "execution_count": null,
   "id": "d7f6cfd4-e4fa-4153-ab1c-cc3a7d030680",
   "metadata": {},
   "outputs": [],
   "source": []
  }
 ],
 "metadata": {
  "jupytext": {
   "encoding": "# -*- coding: utf-8 -*-",
   "formats": "ipynb,py:percent"
  },
  "kernelspec": {
   "display_name": "Python 3 (ipykernel)",
   "language": "python",
   "name": "python3"
  },
  "language_info": {
   "codemirror_mode": {
    "name": "ipython",
    "version": 3
   },
   "file_extension": ".py",
   "mimetype": "text/x-python",
   "name": "python",
   "nbconvert_exporter": "python",
   "pygments_lexer": "ipython3",
   "version": "3.8.10"
  }
 },
 "nbformat": 4,
 "nbformat_minor": 5
}
