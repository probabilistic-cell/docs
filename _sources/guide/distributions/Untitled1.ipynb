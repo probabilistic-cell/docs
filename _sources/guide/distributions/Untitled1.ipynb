{
 "cells": [
  {
   "cell_type": "code",
   "execution_count": 1,
   "id": "db644acc-9e3f-4a74-8619-3eeb106f7a93",
   "metadata": {},
   "outputs": [],
   "source": [
    "%load_ext autoreload\n",
    "%autoreload 2\n",
    "\n",
    "import numpy as np\n",
    "import pandas as pd\n",
    "\n",
    "import latenta as la\n",
    "\n",
    "cells = la.Dim(pd.Series(range(50), name = \"cell\").astype(str))\n",
    "axes = la.Dim(pd.Series(range(2), name = \"axis\").astype(str))"
   ]
  },
  {
   "cell_type": "code",
   "execution_count": 5,
   "id": "a7024fb6-683d-4ea9-a536-329039332610",
   "metadata": {},
   "outputs": [],
   "source": [
    "q = la.distributions.Normal(\n",
    "    la.Fixed(\n",
    "        np.random.normal(0., 5., size = (len(cells), len(axes))),\n",
    "        definition = la.Definition([cells, axes])\n",
    "    ),\n",
    "    scale = la.Fixed(0.1),\n",
    "    transforms = [la.transforms.Circular()]\n",
    ")\n",
    "\n",
    "p = la.distributions.Normal(\n",
    "    la.Parameter(-1., definition = la.Definition([cells, axes])),\n",
    "    transforms = [la.transforms.Circular()]\n",
    ")\n"
   ]
  },
  {
   "cell_type": "code",
   "execution_count": 6,
   "id": "ba681cc7-da83-4279-81d2-609d2db416b4",
   "metadata": {},
   "outputs": [
    {
     "data": {
      "text/html": [
       "<strong>??</strong>: Definition [cell (50)]"
      ],
      "text/plain": [
       "??: Definition [cell (50)]"
      ]
     },
     "execution_count": 6,
     "metadata": {},
     "output_type": "execute_result"
    }
   ],
   "source": [
    "q = la.distributions.Normal(\n",
    "    la.Fixed(\n",
    "        np.random.normal(0., 5., size = (len(cells), len(axes))),\n",
    "        definition = la.Definition([cells, axes])\n",
    "    ),\n",
    "    scale = la.Fixed(0.1),\n",
    "    transforms = [la.transforms.Circular()]\n",
    ")\n",
    "q.value_definition\n",
    "# q.value_definition"
   ]
  },
  {
   "cell_type": "code",
   "execution_count": 9,
   "id": "b90f352a-d41d-4636-a01d-03af4e0cc3ea",
   "metadata": {},
   "outputs": [
    {
     "data": {
      "application/vnd.jupyter.widget-view+json": {
       "model_id": "65c3e60f9a3b47d4900a2cbe35218386",
       "version_major": 2,
       "version_minor": 0
      },
      "text/plain": [
       "  0%|          | 0/3 [00:00<?, ?it/s]"
      ]
     },
     "metadata": {},
     "output_type": "display_data"
    }
   ],
   "source": [
    "latent = la.Latent(p, q)\n",
    "\n",
    "observed = la.posterior.Observed(latent)\n",
    "observed.sample(3)\n",
    "elbo_before = observed.elbo"
   ]
  },
  {
   "cell_type": "code",
   "execution_count": null,
   "id": "b5b4975d-4c76-4a6a-a39d-0a7f4ae57de1",
   "metadata": {},
   "outputs": [],
   "source": []
  },
  {
   "cell_type": "code",
   "execution_count": null,
   "id": "cd561eca-7ed0-4938-9de3-a577f538853a",
   "metadata": {},
   "outputs": [],
   "source": []
  },
  {
   "cell_type": "code",
   "execution_count": 10,
   "id": "f8d1b324-5c3b-441a-b2d6-fa40ce6c549a",
   "metadata": {},
   "outputs": [],
   "source": [
    "simple_dimensions = {\n",
    "    \"letters\":la.Dim([\"a\", \"b\"], id = \"letter\"),\n",
    "    \"numbers\":la.Dim([\"1\", \"2\", \"3\"], id = \"number\"),\n",
    "    \"emojis\":la.Dim([\"😎\", \"😑\", \"🥱\", \"🐄\"], id = \"emoji\")\n",
    "}"
   ]
  },
  {
   "cell_type": "code",
   "execution_count": 15,
   "id": "3a925f7a-3f27-42cc-9d91-adc8902bf3c1",
   "metadata": {},
   "outputs": [],
   "source": [
    "x_value = pd.Series(\n",
    "    [1., 2., 3., 0.],\n",
    "    index = simple_dimensions[\"emojis\"].index,\n",
    "    name = \"x\"\n",
    ")\n",
    "x = la.Fixed(x_value)\n",
    "\n",
    "definition = la.Definition([x[0], simple_dimensions[\"letters\"]])"
   ]
  },
  {
   "cell_type": "code",
   "execution_count": 14,
   "id": "e379da3c-c1c1-4a24-be31-d42464b8f283",
   "metadata": {},
   "outputs": [
    {
     "data": {
      "text/html": [
       "<strong>??</strong>: Definition [emoji (4), letter (2)]"
      ],
      "text/plain": [
       "??: Definition [emoji (4), letter (2)]"
      ]
     },
     "execution_count": 14,
     "metadata": {},
     "output_type": "execute_result"
    }
   ],
   "source": [
    "definition"
   ]
  },
  {
   "cell_type": "code",
   "execution_count": 17,
   "id": "037b6953-429d-4f8d-b2cb-cee86132a9de",
   "metadata": {},
   "outputs": [],
   "source": [
    "y = la.links.scalar.Spline(x, definition = definition)"
   ]
  }
 ],
 "metadata": {
  "kernelspec": {
   "display_name": "Python 3 (ipykernel)",
   "language": "python",
   "name": "python3"
  },
  "language_info": {
   "codemirror_mode": {
    "name": "ipython",
    "version": 3
   },
   "file_extension": ".py",
   "mimetype": "text/x-python",
   "name": "python",
   "nbconvert_exporter": "python",
   "pygments_lexer": "ipython3",
   "version": "3.8.10"
  }
 },
 "nbformat": 4,
 "nbformat_minor": 5
}
