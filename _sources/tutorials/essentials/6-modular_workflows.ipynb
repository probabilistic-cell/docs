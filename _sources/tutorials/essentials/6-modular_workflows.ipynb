{
 "cells": [
  {
   "cell_type": "markdown",
   "id": "a101d3a2-0fc7-45a1-81f7-86710fb6d989",
   "metadata": {},
   "source": [
    "# Modular workflows"
   ]
  },
  {
   "cell_type": "code",
   "execution_count": 1,
   "id": "ca548bb3-60f3-4a91-86c2-903405db40e8",
   "metadata": {},
   "outputs": [],
   "source": [
    "%load_ext autoreload\n",
    "%autoreload 2\n",
    "import latenta as la\n",
    "import lacell as lac\n",
    "import laflow as laf\n",
    "import numpy as np"
   ]
  },
  {
   "cell_type": "markdown",
   "id": "204412c7-43e5-400c-9996-95dde0352349",
   "metadata": {},
   "source": [
    "We'll use the same dataset as [before](./1-variables)."
   ]
  },
  {
   "cell_type": "code",
   "execution_count": 2,
   "id": "cd012913-7787-4296-aab7-019d061dd4e5",
   "metadata": {},
   "outputs": [],
   "source": [
    "adata = la.data.load_myod1()"
   ]
  },
  {
   "cell_type": "code",
   "execution_count": 3,
   "id": "481a27b9-5149-4161-aac4-1b01b3b39da6",
   "metadata": {
    "tags": [
     "hide-input",
     "remove-output"
    ]
   },
   "outputs": [
    {
     "name": "stderr",
     "output_type": "stream",
     "text": [
      "/home/wsaelens/projects/probabilistic-cell/.venv/lib/python3.8/site-packages/anndata/_core/anndata.py:1220: FutureWarning: The `inplace` parameter in pandas.Categorical.reorder_categories is deprecated and will be removed in a future version. Removing unused categories will always return a new Categorical object.\n",
      "  c.reorder_categories(natsorted(c.categories), inplace=True)\n",
      "... storing 'dissociation' as categorical\n",
      "/home/wsaelens/projects/probabilistic-cell/.venv/lib/python3.8/site-packages/anndata/_core/anndata.py:1220: FutureWarning: The `inplace` parameter in pandas.Categorical.reorder_categories is deprecated and will be removed in a future version. Removing unused categories will always return a new Categorical object.\n",
      "  c.reorder_categories(natsorted(c.categories), inplace=True)\n",
      "... storing 'gene_overexpressed' as categorical\n",
      "/home/wsaelens/projects/probabilistic-cell/.venv/lib/python3.8/site-packages/anndata/_core/anndata.py:1220: FutureWarning: The `inplace` parameter in pandas.Categorical.reorder_categories is deprecated and will be removed in a future version. Removing unused categories will always return a new Categorical object.\n",
      "  c.reorder_categories(natsorted(c.categories), inplace=True)\n",
      "... storing 'batch' as categorical\n",
      "/home/wsaelens/projects/probabilistic-cell/.venv/lib/python3.8/site-packages/anndata/_core/anndata.py:1220: FutureWarning: The `inplace` parameter in pandas.Categorical.reorder_categories is deprecated and will be removed in a future version. Removing unused categories will always return a new Categorical object.\n",
      "  c.reorder_categories(natsorted(c.categories), inplace=True)\n",
      "... storing 'biotype' as categorical\n",
      "/home/wsaelens/projects/probabilistic-cell/.venv/lib/python3.8/site-packages/scanpy/preprocessing/_combat.py:340: RuntimeWarning: divide by zero encountered in true_divide\n",
      "  (abs(g_new - g_old) / g_old).max(), (abs(d_new - d_old) / d_old).max()\n"
     ]
    }
   ],
   "source": [
    "import scanpy as sc\n",
    "\n",
    "adata.raw = adata\n",
    "\n",
    "sc.pp.normalize_per_cell(adata)\n",
    "sc.pp.log1p(adata)\n",
    "\n",
    "sc.pp.combat(adata)\n",
    "sc.pp.pca(adata)\n",
    "\n",
    "sc.pp.neighbors(adata)\n",
    "sc.tl.umap(adata)\n",
    "\n",
    "adata.obs[\"log_overexpression\"] = np.log1p(adata.obs[\"overexpression\"])"
   ]
  },
  {
   "cell_type": "markdown",
   "id": "4db6e796-232c-46df-8ca2-9a898afb3d31",
   "metadata": {},
   "source": [
    "lacell not only contains classes that help with model creation, but also with workflow creation. For example, if we're working with transcriptomics data, we will often inherit from {class}`~lac.transcriptome.TranscriptomeDataset` and {class}`~lac.transcriptome.TranscriptomeModel`. These already contain "
   ]
  },
  {
   "cell_type": "code",
   "execution_count": 9,
   "id": "8788f409-fea2-41d0-a27d-28f29640c9ce",
   "metadata": {},
   "outputs": [],
   "source": [
    "import tempfile\n",
    "import pathlib\n",
    "\n",
    "project_root = pathlib.Path(tempfile.TemporaryDirectory().name)\n",
    "project_root.mkdir()\n",
    "laf.set_project_root(project_root)  # sets the default project root"
   ]
  },
  {
   "cell_type": "code",
   "execution_count": 10,
   "id": "08104e44-9d85-4b9b-8211-803fbd5cdf4c",
   "metadata": {},
   "outputs": [],
   "source": [
    "dataset = lac.transcriptome.TranscriptomeDataset(\"dataset\")"
   ]
  },
  {
   "cell_type": "markdown",
   "id": "cf4a05df-904d-48a2-8a93-72866c284fc8",
   "metadata": {},
   "source": [
    "It contains information from one modality, namely the transcriptome:"
   ]
  },
  {
   "cell_type": "code",
   "execution_count": 11,
   "id": "13cf2bee-60f0-4555-8773-3c80ca710836",
   "metadata": {},
   "outputs": [
    {
     "data": {
      "text/html": [
       "<script src=\"https://cdnjs.cloudflare.com/ajax/libs/require.js/2.3.6/require.js\" integrity=\"sha512-vRqhAr2wsn+/cSsyz80psBbCcqzz2GTuhGk3bq3dAyytz4J/8XwFqMjiAGFBj+WM95lHBJ9cDf87T3P8yMrY7A==\" crossorigin=\"anonymous\" referrerpolicy=\"no-referrer\" id=\"script36594\" onload=\"loaded36594\"></script>\n",
       "<style>\n",
       ".la-flow ul {\n",
       "    margin-top:0;\n",
       "    list-style: none;\n",
       "    padding: 0;\n",
       "    padding-left: 10px !important;\n",
       "}\n",
       ".la-flow li {\n",
       "    padding-left: 10px;\n",
       "}\n",
       ".la-flow .instances li {\n",
       "    border-left: 1px dashed #ccc;\n",
       "}\n",
       ".la-flow .steps li {\n",
       "    border-left: 1px dotted #ccc;\n",
       "}\n",
       ".la-flow .soft {\n",
       "    opacity:0.5;\n",
       "}\n",
       "</style>\n",
       "\n",
       "<script>\n",
       "function loaded36594() {\n",
       "    require.config({\n",
       "    paths: {\n",
       "        'fontawesome': 'https://kit.fontawesome.com/77f7a120e4.js'\n",
       "    }\n",
       "    })\n",
       "\n",
       "    require(['fontawesome'], function (fontawesome) {\n",
       "    console.log('Congrats, Font Awesome is installed using Require.js')\n",
       "    })\n",
       "}\n",
       "</script>\n",
       "\n",
       "\n",
       "\n",
       "        <div class='la-flow'><strong>dataset/transcriptome</strong> <span class='soft'>(lacell.transcriptome.transcriptome.TranscriptomeModality)</span><ul class='instances'><li><i class='fas fa-minus' style='color:#FF4136;' title='unavailable'></i> X <span class='soft'>(Py)</span></li><li><i class='fas fa-minus' style='color:#FF4136;' title='unavailable'></i> obs <span class='soft'>(Py)</span></li><li><i class='fas fa-minus' style='color:#FF4136;' title='unavailable'></i> var <span class='soft'>(Py)</span></li><li><i class='fas fa-minus' style='color:#FF4136;' title='unavailable'></i> obs_id <span class='soft'>(Py)</span></li></ul><ul class='steps'><li>from_adata → X, obs, var, obs_id</li></ul>"
      ],
      "text/plain": [
       "<lacell.transcriptome.transcriptome.TranscriptomeModality at 0x7f182689ffa0>"
      ]
     },
     "execution_count": 11,
     "metadata": {},
     "output_type": "execute_result"
    }
   ],
   "source": [
    "dataset.transcriptome"
   ]
  },
  {
   "cell_type": "code",
   "execution_count": 12,
   "id": "df6c7619-bafd-498f-9459-91c944d2b146",
   "metadata": {},
   "outputs": [
    {
     "name": "stdout",
     "output_type": "stream",
     "text": [
      "▶️ | dataset/transcriptome/from_adata                                                                    \n",
      "✅ | dataset/transcriptome/from_adata                                                                    \n"
     ]
    }
   ],
   "source": [
    "dataset.transcriptome.from_adata(adata = adata)"
   ]
  },
  {
   "cell_type": "code",
   "execution_count": 13,
   "id": "73910a71-45d9-4ab3-a9ed-f2109c23e09d",
   "metadata": {},
   "outputs": [
    {
     "data": {
      "text/html": [
       "<script src=\"https://cdnjs.cloudflare.com/ajax/libs/require.js/2.3.6/require.js\" integrity=\"sha512-vRqhAr2wsn+/cSsyz80psBbCcqzz2GTuhGk3bq3dAyytz4J/8XwFqMjiAGFBj+WM95lHBJ9cDf87T3P8yMrY7A==\" crossorigin=\"anonymous\" referrerpolicy=\"no-referrer\" id=\"script25350\" onload=\"loaded25350\"></script>\n",
       "<style>\n",
       ".la-flow ul {\n",
       "    margin-top:0;\n",
       "    list-style: none;\n",
       "    padding: 0;\n",
       "    padding-left: 10px !important;\n",
       "}\n",
       ".la-flow li {\n",
       "    padding-left: 10px;\n",
       "}\n",
       ".la-flow .instances li {\n",
       "    border-left: 1px dashed #ccc;\n",
       "}\n",
       ".la-flow .steps li {\n",
       "    border-left: 1px dotted #ccc;\n",
       "}\n",
       ".la-flow .soft {\n",
       "    opacity:0.5;\n",
       "}\n",
       "</style>\n",
       "\n",
       "<script>\n",
       "function loaded25350() {\n",
       "    require.config({\n",
       "    paths: {\n",
       "        'fontawesome': 'https://kit.fontawesome.com/77f7a120e4.js'\n",
       "    }\n",
       "    })\n",
       "\n",
       "    require(['fontawesome'], function (fontawesome) {\n",
       "    console.log('Congrats, Font Awesome is installed using Require.js')\n",
       "    })\n",
       "}\n",
       "</script>\n",
       "\n",
       "\n",
       "\n",
       "        <div class='la-flow'><strong>dataset/transcriptome</strong> <span class='soft'>(lacell.transcriptome.transcriptome.TranscriptomeModality)</span><ul class='instances'><li><i class='fas fa-check-square' style='color:#2ECC40;' title='available and persistent'></i> X <span class='soft'>(Py)</span></li><li><i class='fas fa-check-square' style='color:#2ECC40;' title='available and persistent'></i> obs <span class='soft'>(Py)</span></li><li><i class='fas fa-check-square' style='color:#2ECC40;' title='available and persistent'></i> var <span class='soft'>(Py)</span></li><li><i class='fas fa-check-square' style='color:#2ECC40;' title='available and persistent'></i> obs_id <span class='soft'>(Py)</span></li></ul><ul class='steps'><li>from_adata → X, obs, var, obs_id</li></ul>"
      ],
      "text/plain": [
       "<lacell.transcriptome.transcriptome.TranscriptomeModality at 0x7f182689ffa0>"
      ]
     },
     "execution_count": 13,
     "metadata": {},
     "output_type": "execute_result"
    }
   ],
   "source": [
    "dataset.transcriptome"
   ]
  },
  {
   "cell_type": "code",
   "execution_count": 14,
   "id": "78f55152-57eb-4f85-afa5-3e16c84b09e1",
   "metadata": {},
   "outputs": [
    {
     "data": {
      "text/html": [
       "<script src=\"https://cdnjs.cloudflare.com/ajax/libs/require.js/2.3.6/require.js\" integrity=\"sha512-vRqhAr2wsn+/cSsyz80psBbCcqzz2GTuhGk3bq3dAyytz4J/8XwFqMjiAGFBj+WM95lHBJ9cDf87T3P8yMrY7A==\" crossorigin=\"anonymous\" referrerpolicy=\"no-referrer\" id=\"script9592\" onload=\"loaded9592\"></script>\n",
       "<style>\n",
       ".la-flow ul {\n",
       "    margin-top:0;\n",
       "    list-style: none;\n",
       "    padding: 0;\n",
       "    padding-left: 10px !important;\n",
       "}\n",
       ".la-flow li {\n",
       "    padding-left: 10px;\n",
       "}\n",
       ".la-flow .instances li {\n",
       "    border-left: 1px dashed #ccc;\n",
       "}\n",
       ".la-flow .steps li {\n",
       "    border-left: 1px dotted #ccc;\n",
       "}\n",
       ".la-flow .soft {\n",
       "    opacity:0.5;\n",
       "}\n",
       "</style>\n",
       "\n",
       "<script>\n",
       "function loaded9592() {\n",
       "    require.config({\n",
       "    paths: {\n",
       "        'fontawesome': 'https://kit.fontawesome.com/77f7a120e4.js'\n",
       "    }\n",
       "    })\n",
       "\n",
       "    require(['fontawesome'], function (fontawesome) {\n",
       "    console.log('Congrats, Font Awesome is installed using Require.js')\n",
       "    })\n",
       "}\n",
       "</script>\n",
       "\n",
       "\n",
       "\n",
       "        <div class='la-flow'><strong>dataset</strong> <span class='soft'>(lacell.transcriptome.transcriptome.TranscriptomeDataset)</span><ul class='instances'><li><i class='fas fa-check-square' style='color:#2ECC40;' title='available and persistent'></i> modality_ids <span class='soft'>(Py)</span></li><li><i class='fas fa-minus' style='color:#FF4136;' title='unavailable'></i> adata <span class='soft'>(Py)</span></li><li><i class='fas fa-check-square' style='color:#2ECC40;' title='available and persistent'></i> transcriptome <span class='soft'>(FlowLink)</span></li></ul><ul class='steps'></ul>"
      ],
      "text/plain": [
       "<lacell.transcriptome.transcriptome.TranscriptomeDataset at 0x7f181946c760>"
      ]
     },
     "execution_count": 14,
     "metadata": {},
     "output_type": "execute_result"
    }
   ],
   "source": [
    "dataset"
   ]
  },
  {
   "cell_type": "code",
   "execution_count": 114,
   "id": "91f081cd-8195-4bfe-b8c3-42b638028f68",
   "metadata": {},
   "outputs": [],
   "source": [
    "class ConstantModel(lac.transcriptome.TranscriptomeModel):\n",
    "    default_name = \"constant\"\n",
    "    dataset = laf.FlowObj()\n",
    "\n",
    "    # because we are overwriting the create_model from the parent classes\n",
    "    # we do not need to specify @laf.Step here\n",
    "    def create_model(self, output, X, obs, var):\n",
    "        output = super().create_model_(output, X, obs, var)\n",
    "        \n",
    "        transcriptome = output.model_initial\n",
    "        \n",
    "        # define the model as before\n",
    "        overexpression = la.Fixed(\n",
    "            obs[\"log_overexpression\"], label=\"overexpression\"\n",
    "        )\n",
    "        foldchange = transcriptome.find(\"foldchange\")\n",
    "\n",
    "        foldchange.overexpression = la.links.scalar.Constant(\n",
    "            overexpression, definition=foldchange.value_definition\n",
    "        )\n",
    "        return output\n",
    "\n",
    "    model = lac.transcriptome.TranscriptomeModel.model\n",
    "    \n",
    "    overexpression_observed = laf.LatentaObj(db = {model})\n",
    "    overexpression_causal = laf.LatentaObj(db = {model})\n",
    "    \n",
    "    @laf.Step(\n",
    "        laf.Inputs(model),\n",
    "        laf.Outputs(overexpression_observed, overexpression_causal)\n",
    "    )\n",
    "    def interpret_overexpression(self, output, model):\n",
    "        overexpression = model.find(\"overexpression\")\n",
    "\n",
    "        overexpression_observed = la.posterior.scalar.ScalarObserved(overexpression)\n",
    "        overexpression_observed.sample(5)\n",
    "        output.overexpression_observed = overexpression_observed\n",
    "\n",
    "        overexpression_causal = la.posterior.scalar.ScalarVectorCausal(\n",
    "            overexpression,\n",
    "            model,\n",
    "            interpretable=model.p.mu.expression,\n",
    "            observed=overexpression_observed,\n",
    "        )\n",
    "        overexpression_causal.sample(10)\n",
    "        overexpression_causal.sample_random(10)\n",
    "        overexpression_causal.observed\n",
    "        overexpression_causal.sample_empirical()\n",
    "        output.overexpression_causal = overexpression_causal\n",
    "        \n",
    "        return output\n",
    "    \n",
    "class LinearModel(ConstantModel):\n",
    "    # we change the default name, as to make sure this model is put in a different folder\n",
    "    default_name = \"linear\"\n",
    "\n",
    "    def create_model(self, output, X, obs, var):\n",
    "        # we can access the inherited function by adding a \"_\" at the end\n",
    "        output = super().create_model_(output, X, obs, var)\n",
    "        \n",
    "        # extract the model_initial from the output\n",
    "        model_initial = output.model_initial\n",
    "        \n",
    "        # now we can further adapt the model to our wish\n",
    "        foldchange = model_initial.find(\"foldchange\")\n",
    "        overexpression = model_initial.find(\"overexpression\")\n",
    "\n",
    "        foldchange.overexpression = la.links.scalar.Linear(\n",
    "            overexpression, a=True, definition=foldchange.value_definition\n",
    "        )\n",
    "        \n",
    "        # again return the output\n",
    "        # because we only adapted the model inplace, we do not need to update the output\n",
    "        return output\n",
    "\n",
    "\n",
    "class SplineModel(ConstantModel):\n",
    "    default_name = \"spline\"\n",
    "\n",
    "    def create_model(self, output, X, obs, var):\n",
    "        output = super().create_model_(output, X, obs, var)\n",
    "        \n",
    "        model_initial = output.model_initial\n",
    "\n",
    "        foldchange = model_initial.find(\"foldchange\")\n",
    "        overexpression = model_initial.find(\"overexpression\")\n",
    "\n",
    "        foldchange.overexpression = la.links.scalar.Spline(\n",
    "            overexpression, definition=foldchange.value_definition\n",
    "        )\n",
    "\n",
    "        return output"
   ]
  },
  {
   "cell_type": "code",
   "execution_count": 115,
   "id": "6e5f30ea-cead-4df7-9b9f-d500c40228c6",
   "metadata": {},
   "outputs": [
    {
     "name": "stdout",
     "output_type": "stream",
     "text": [
      "▶️ | linear/create_model                                                                                 \n",
      "✅ | linear/create_model                                                                                 \n",
      "▶️ | linear/create_scheme                                                                                \n",
      "✅ | linear/create_scheme                                                                                \n",
      "▶️ | linear/infer_model                                                                                  \n"
     ]
    },
    {
     "data": {
      "application/vnd.jupyter.widget-view+json": {
       "model_id": "",
       "version_major": 2,
       "version_minor": 0
      },
      "text/plain": [
       "  0%|                                                                                                         …"
      ]
     },
     "metadata": {},
     "output_type": "display_data"
    },
    {
     "data": {
      "application/vnd.jupyter.widget-view+json": {
       "model_id": "",
       "version_major": 2,
       "version_minor": 0
      },
      "text/plain": [
       "  0%|                                                                                                         …"
      ]
     },
     "metadata": {},
     "output_type": "display_data"
    },
    {
     "name": "stdout",
     "output_type": "stream",
     "text": [
      "✅ | linear/infer_model                                                                                  \n",
      "▶️ | linear/interpret_transcriptome                                                                      \n"
     ]
    },
    {
     "data": {
      "application/vnd.jupyter.widget-view+json": {
       "model_id": "",
       "version_major": 2,
       "version_minor": 0
      },
      "text/plain": [
       "  0%|          | 0/5 [00:00<?, ?it/s]"
      ]
     },
     "metadata": {},
     "output_type": "display_data"
    },
    {
     "name": "stdout",
     "output_type": "stream",
     "text": [
      "✅ | linear/interpret_transcriptome                                                                      \n"
     ]
    }
   ],
   "source": [
    "model = LinearModel(dataset=dataset)\n",
    "model.create_model()\n",
    "model.infer_model()\n",
    "model.interpret_transcriptome()"
   ]
  },
  {
   "cell_type": "code",
   "execution_count": 116,
   "id": "d3429d9e-e85d-4600-a0c8-cbbe584eb523",
   "metadata": {},
   "outputs": [
    {
     "name": "stdout",
     "output_type": "stream",
     "text": [
      "▶️ | linear/interpret_overexpression                                                                     \n"
     ]
    },
    {
     "data": {
      "application/vnd.jupyter.widget-view+json": {
       "model_id": "",
       "version_major": 2,
       "version_minor": 0
      },
      "text/plain": [
       "  0%|          | 0/5 [00:00<?, ?it/s]"
      ]
     },
     "metadata": {},
     "output_type": "display_data"
    },
    {
     "data": {
      "application/vnd.jupyter.widget-view+json": {
       "model_id": "",
       "version_major": 2,
       "version_minor": 0
      },
      "text/plain": [
       "  0%|          | 0/10 [00:00<?, ?it/s]"
      ]
     },
     "metadata": {},
     "output_type": "display_data"
    },
    {
     "data": {
      "application/vnd.jupyter.widget-view+json": {
       "model_id": "",
       "version_major": 2,
       "version_minor": 0
      },
      "text/plain": [
       "  0%|          | 0/10 [00:00<?, ?it/s]"
      ]
     },
     "metadata": {},
     "output_type": "display_data"
    },
    {
     "name": "stdout",
     "output_type": "stream",
     "text": [
      "✅ | linear/interpret_overexpression                                                                     \n"
     ]
    }
   ],
   "source": [
    "model.interpret_overexpression()"
   ]
  },
  {
   "cell_type": "code",
   "execution_count": 117,
   "id": "dae35b8b-c6f6-4d64-9831-33cda1a7a022",
   "metadata": {},
   "outputs": [
    {
     "data": {
      "text/html": [
       "<script src=\"https://cdnjs.cloudflare.com/ajax/libs/require.js/2.3.6/require.js\" integrity=\"sha512-vRqhAr2wsn+/cSsyz80psBbCcqzz2GTuhGk3bq3dAyytz4J/8XwFqMjiAGFBj+WM95lHBJ9cDf87T3P8yMrY7A==\" crossorigin=\"anonymous\" referrerpolicy=\"no-referrer\" id=\"script19227\" onload=\"loaded19227\"></script>\n",
       "<style>\n",
       ".la-flow ul {\n",
       "    margin-top:0;\n",
       "    list-style: none;\n",
       "    padding: 0;\n",
       "    padding-left: 10px !important;\n",
       "}\n",
       ".la-flow li {\n",
       "    padding-left: 10px;\n",
       "}\n",
       ".la-flow .instances li {\n",
       "    border-left: 1px dashed #ccc;\n",
       "}\n",
       ".la-flow .steps li {\n",
       "    border-left: 1px dotted #ccc;\n",
       "}\n",
       ".la-flow .soft {\n",
       "    opacity:0.5;\n",
       "}\n",
       "</style>\n",
       "\n",
       "<script>\n",
       "function loaded19227() {\n",
       "    require.config({\n",
       "    paths: {\n",
       "        'fontawesome': 'https://kit.fontawesome.com/77f7a120e4.js'\n",
       "    }\n",
       "    })\n",
       "\n",
       "    require(['fontawesome'], function (fontawesome) {\n",
       "    console.log('Congrats, Font Awesome is installed using Require.js')\n",
       "    })\n",
       "}\n",
       "</script>\n",
       "\n",
       "\n",
       "\n",
       "        <div class='la-flow'><strong>linear</strong> <span class='soft'>(__main__.LinearModel)</span><ul class='instances'><li><i class='fas fa-check' style='color:#2ECC40;' title='available but not persistent'></i> model_initial <span class='soft'>(Latenta)</span></li><li><i class='fas fa-check-square' style='color:#2ECC40;' title='available and persistent'></i> model <span class='soft'>(Latenta)</span></li><li><i class='fas fa-check-square' style='color:#2ECC40;' title='available and persistent'></i> trace <span class='soft'>(Py)</span></li><li><i class='fas fa-check' style='color:#2ECC40;' title='available but not persistent'></i> scheme <span class='soft'>(Py)</span></li><li><i class='fas fa-check-square' style='color:#2ECC40;' title='available and persistent'></i> dataset <span class='soft'>(FlowLink)</span> → dataset2</li><li><i class='fas fa-check-square' style='color:#2ECC40;' title='available and persistent'></i> transcriptome <span class='soft'>(FlowLink)</span> <span class='soft'>Original: dataset2/transcriptome</li><li><i class='fas fa-check-square' style='color:#2ECC40;' title='available and persistent'></i> transcriptome_observed <span class='soft'>(Latenta)</span></li><li><i class='fas fa-minus' style='color:#FF4136;' title='unavailable'></i> likelihood_genes <span class='soft'>(Py)</span></li><li><i class='fas fa-minus' style='color:#FF4136;' title='unavailable'></i> elbo_genes <span class='soft'>(Py)</span></li><li><i class='fas fa-check-square' style='color:#2ECC40;' title='available and persistent'></i> overexpression_observed <span class='soft'>(Latenta)</span></li><li><i class='fas fa-check-square' style='color:#2ECC40;' title='available and persistent'></i> overexpression_causal <span class='soft'>(Latenta)</span></li></ul><ul class='steps'><li>create_scheme → scheme</li><li>infer_model → trace, model</li><li>create_model → model_initial</li><li>interpret_transcriptome → transcriptome_observed</li><li>gather_gene_statistics → likelihood_genes, elbo_genes</li><li>interpret_overexpression → overexpression_observed, overexpression_causal</li></ul>"
      ],
      "text/plain": [
       "<__main__.LinearModel at 0x7ff584a874c0>"
      ]
     },
     "execution_count": 117,
     "metadata": {},
     "output_type": "execute_result"
    }
   ],
   "source": [
    "model"
   ]
  },
  {
   "cell_type": "code",
   "execution_count": null,
   "id": "2db6984a-3cf2-4092-8423-cba65ca7f24e",
   "metadata": {},
   "outputs": [],
   "source": []
  },
  {
   "cell_type": "code",
   "execution_count": null,
   "id": "961bb9f2-48fe-426e-8056-8676665a774c",
   "metadata": {},
   "outputs": [],
   "source": []
  },
  {
   "cell_type": "code",
   "execution_count": null,
   "id": "7d037ae7-a917-4bb4-a0f1-dc94284152a4",
   "metadata": {},
   "outputs": [],
   "source": []
  }
 ],
 "metadata": {
  "jupytext": {
   "formats": "ipynb,py:percent"
  },
  "kernelspec": {
   "display_name": "Python 3 (ipykernel)",
   "language": "python",
   "name": "python3"
  },
  "language_info": {
   "codemirror_mode": {
    "name": "ipython",
    "version": 3
   },
   "file_extension": ".py",
   "mimetype": "text/x-python",
   "name": "python",
   "nbconvert_exporter": "python",
   "pygments_lexer": "ipython3",
   "version": "3.8.10"
  }
 },
 "nbformat": 4,
 "nbformat_minor": 5
}
