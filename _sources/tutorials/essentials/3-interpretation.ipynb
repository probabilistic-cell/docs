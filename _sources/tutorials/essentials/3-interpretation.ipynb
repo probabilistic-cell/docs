{
 "cells": [
  {
   "cell_type": "markdown",
   "id": "9f4d7a2a",
   "metadata": {},
   "source": [
    "# Interpretation"
   ]
  },
  {
   "cell_type": "code",
   "execution_count": null,
   "id": "b18ac688",
   "metadata": {},
   "outputs": [],
   "source": [
    "import latenta as la"
   ]
  }
 ],
 "metadata": {
  "jupytext": {
   "encoding": "# -*- coding: utf-8 -*-",
   "formats": "ipynb,py:percent"
  },
  "kernelspec": {
   "display_name": "Python 3 (ipykernel)",
   "language": "python",
   "name": "python3"
  }
 },
 "nbformat": 4,
 "nbformat_minor": 5
}
