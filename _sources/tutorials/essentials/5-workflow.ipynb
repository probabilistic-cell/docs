{
 "cells": [
  {
   "cell_type": "markdown",
   "id": "c41e444e",
   "metadata": {},
   "source": [
    "# Workflows"
   ]
  },
  {
   "cell_type": "markdown",
   "id": "ca07933e-66cf-42a2-9ff9-d31aa4c22334",
   "metadata": {},
   "source": [
    "For now we mainly looked at models in isolation. However, the true power of probabilistic modelling lies in its ability to move beyond this \"one-model-fits-all\" idea, but rather create a variety of models and connect or compare them in various ways. Indeed, even for a normal use case, we often already create a dozen models. In more complex experimental designs, this can easily go up to a hundred or more.\n",
    "\n",
    "Even in relatively simple use cases, managing different models and how they depend on each other can be a pain."
   ]
  },
  {
   "cell_type": "markdown",
   "id": "d34a6514-d1a5-4444-869d-4d797040272c",
   "metadata": {},
   "source": [
    "It borrows elements from other workflow managers such as snakemake or nextflow, but is heavily focused on maintaining the interactivity that is so crucial for quick modelling."
   ]
  },
  {
   "cell_type": "code",
   "execution_count": null,
   "id": "64bdec88",
   "metadata": {},
   "outputs": [],
   "source": [
    "import latenta as la"
   ]
  }
 ],
 "metadata": {
  "jupytext": {
   "encoding": "# -*- coding: utf-8 -*-",
   "formats": "ipynb,py:percent"
  },
  "kernelspec": {
   "display_name": "Python 3 (ipykernel)",
   "language": "python",
   "name": "python3"
  },
  "language_info": {
   "codemirror_mode": {
    "name": "ipython",
    "version": 3
   },
   "file_extension": ".py",
   "mimetype": "text/x-python",
   "name": "python",
   "nbconvert_exporter": "python",
   "pygments_lexer": "ipython3",
   "version": "3.8.10"
  }
 },
 "nbformat": 4,
 "nbformat_minor": 5
}
