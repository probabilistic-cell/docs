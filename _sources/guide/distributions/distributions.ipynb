{
 "cells": [
  {
   "cell_type": "markdown",
   "id": "7cfdb5c0-183c-4308-9843-a8309155ad08",
   "metadata": {
    "tags": []
   },
   "source": [
    "# Distributions"
   ]
  },
  {
   "cell_type": "code",
   "execution_count": 1,
   "id": "a49b265c-aebc-4b56-9069-61f5306a2c71",
   "metadata": {},
   "outputs": [],
   "source": [
    "from IPython import get_ipython\n",
    "if get_ipython():\n",
    "    get_ipython().run_line_magic(\"load_ext\", \"autoreload\")\n",
    "    get_ipython().run_line_magic(\"autoreload\", \"2\")\n",
    "\n",
    "import numpy as np\n",
    "import pandas as pd\n",
    "import torch\n",
    "import math\n",
    "\n",
    "import xarray as xr\n",
    "\n",
    "import matplotlib.pyplot as plt\n",
    "import seaborn as sns\n",
    "\n",
    "import collections\n",
    "\n",
    "import latenta as la\n",
    "la.logger.setLevel(\"INFO\")"
   ]
  },
  {
   "cell_type": "code",
   "execution_count": 2,
   "id": "7d7228d1-d713-483b-b3f3-c63f177461fb",
   "metadata": {},
   "outputs": [],
   "source": [
    "cells = la.Dim(pd.Series(range(3), name = \"cell\").astype(str))\n",
    "genes = la.Dim(pd.Series(range(4), name = \"gene\").astype(str))"
   ]
  },
  {
   "cell_type": "markdown",
   "id": "bf6b3c71-6cb0-40a5-8a93-6a8a4249d687",
   "metadata": {},
   "source": [
    "## Basic distributions"
   ]
  },
  {
   "cell_type": "code",
   "execution_count": 3,
   "id": "b43f6b87-a1bd-4e22-aac3-8a0fda4146e0",
   "metadata": {},
   "outputs": [],
   "source": [
    "dist = la.distributions.Normal(loc = 1.)"
   ]
  },
  {
   "cell_type": "code",
   "execution_count": 4,
   "id": "3e6ca3f8-5790-46ca-8a8c-41f248e04d98",
   "metadata": {},
   "outputs": [
    {
     "name": "stdout",
     "output_type": "stream",
     "text": [
      "tensor(1.3355) tensor(-0.9752)\n"
     ]
    }
   ],
   "source": [
    "dist.reset()\n",
    "dist.run()\n",
    "print(dist.value, dist.likelihood)"
   ]
  },
  {
   "cell_type": "code",
   "execution_count": 5,
   "id": "79b9908b-3fc6-4766-b12f-b2d0972b9295",
   "metadata": {},
   "outputs": [
    {
     "data": {
      "text/plain": [
       "tensor(1.)"
      ]
     },
     "execution_count": 5,
     "metadata": {},
     "output_type": "execute_result"
    }
   ],
   "source": [
    "dist.prior_mean"
   ]
  },
  {
   "cell_type": "markdown",
   "id": "aa10f5c3-f5b6-4827-9918-dd4ae4990883",
   "metadata": {},
   "source": [
    "### Automatic broadcasting"
   ]
  },
  {
   "cell_type": "code",
   "execution_count": 6,
   "id": "998de884-a899-406d-be4c-ffe6834ae749",
   "metadata": {},
   "outputs": [],
   "source": [
    "dist = la.distributions.Normal(definition = la.Definition([cells]))"
   ]
  },
  {
   "cell_type": "code",
   "execution_count": 7,
   "id": "bdd6baba-459d-4a07-9865-cd38e1875dac",
   "metadata": {},
   "outputs": [
    {
     "name": "stdout",
     "output_type": "stream",
     "text": [
      "tensor([-0.2425, -0.2161, -2.1495])\n",
      "tensor([-0.9483, -0.9423, -3.2292])\n"
     ]
    }
   ],
   "source": [
    "dist.reset()\n",
    "dist.run()\n",
    "print(dist.value)\n",
    "print(dist.likelihood)"
   ]
  },
  {
   "cell_type": "code",
   "execution_count": 8,
   "id": "7a98d5f7-b65e-46ae-874b-a59ab46f4776",
   "metadata": {},
   "outputs": [],
   "source": [
    "dist = la.distributions.Normal(loc = la.Fixed(10., definition = la.Definition([cells])))"
   ]
  },
  {
   "cell_type": "code",
   "execution_count": 9,
   "id": "d22c3bc2-523b-4322-90bf-5bbcf659417a",
   "metadata": {},
   "outputs": [
    {
     "name": "stdout",
     "output_type": "stream",
     "text": [
      "tensor([ 9.1606, 11.1253, 10.0205])\n",
      "tensor([-1.2712, -1.5521, -0.9191])\n"
     ]
    }
   ],
   "source": [
    "dist.reset()\n",
    "dist.run()\n",
    "print(dist.value)\n",
    "print(dist.likelihood)"
   ]
  },
  {
   "cell_type": "code",
   "execution_count": 10,
   "id": "19116539-ffa1-451d-be92-c3321fdee053",
   "metadata": {},
   "outputs": [],
   "source": [
    "dist = la.distributions.Normal(loc = la.Fixed(10., definition = la.Definition([cells])), scale = la.Fixed(2., definition = la.Definition([genes])))\n",
    "dist = la.distributions.Laplace(loc = la.Fixed(10., definition = la.Definition([cells])), scale = la.Fixed(2., definition = la.Definition([genes])))\n",
    "dist = la.distributions.Uniform(high = la.Fixed(10., definition = la.Definition([cells])), low = la.Fixed(2., definition = la.Definition([genes])))"
   ]
  },
  {
   "cell_type": "code",
   "execution_count": 11,
   "id": "6d713cab-8bc9-433c-9c0f-7e8f3b7bbd2d",
   "metadata": {},
   "outputs": [
    {
     "name": "stdout",
     "output_type": "stream",
     "text": [
      "tensor([[7.2276, 4.8883, 9.1352],\n",
      "        [8.6058, 4.1857, 6.7979],\n",
      "        [3.0507, 5.6252, 9.8647],\n",
      "        [8.6184, 7.6132, 3.5194]])\n",
      "tensor([[-2.0794, -2.0794, -2.0794],\n",
      "        [-2.0794, -2.0794, -2.0794],\n",
      "        [-2.0794, -2.0794, -2.0794],\n",
      "        [-2.0794, -2.0794, -2.0794]])\n",
      "tensor([[9.2000, 9.2000, 9.2000],\n",
      "        [9.2000, 9.2000, 9.2000],\n",
      "        [9.2000, 9.2000, 9.2000],\n",
      "        [9.2000, 9.2000, 9.2000]])\n",
      "tensor([[[ 2.,  2.,  2.],\n",
      "         [ 2.,  2.,  2.],\n",
      "         [ 2.,  2.,  2.],\n",
      "         [ 2.,  2.,  2.]],\n",
      "\n",
      "        [[ 6.,  6.,  6.],\n",
      "         [ 6.,  6.,  6.],\n",
      "         [ 6.,  6.,  6.],\n",
      "         [ 6.,  6.,  6.]],\n",
      "\n",
      "        [[10., 10., 10.],\n",
      "         [10., 10., 10.],\n",
      "         [10., 10., 10.],\n",
      "         [10., 10., 10.]]])\n"
     ]
    }
   ],
   "source": [
    "dist.reset()\n",
    "dist.run()\n",
    "print(dist.value)\n",
    "print(dist.likelihood)\n",
    "print(dist.icdf(0.9))\n",
    "print(dist.spread(3))"
   ]
  },
  {
   "cell_type": "code",
   "execution_count": 12,
   "id": "ba518b3e-75aa-4b44-8ec6-f3011016996c",
   "metadata": {},
   "outputs": [
    {
     "data": {
      "text/html": [
       "<strong>??</strong>: <i>high</i>, <i>low</i> ↦ Uniform [gene (•), cell (•)]"
      ],
      "text/plain": [
       "??: high, low ↦ Uniform [gene (•), cell (•)]"
      ]
     },
     "execution_count": 12,
     "metadata": {},
     "output_type": "execute_result"
    }
   ],
   "source": [
    "dist.redefine(la.Definition([cells, genes]))\n",
    "dist.redefine(la.Definition([genes, cells]))"
   ]
  },
  {
   "cell_type": "markdown",
   "id": "296d248c-1d58-4a26-92b7-74cc8934c16d",
   "metadata": {},
   "source": [
    "### Log probability with new dimensions"
   ]
  },
  {
   "cell_type": "code",
   "execution_count": 13,
   "id": "6478b463-074b-4643-b3f1-5a6ea27be390",
   "metadata": {},
   "outputs": [],
   "source": [
    "dist_1 = la.distributions.Normal(loc = la.Fixed(0., definition = la.Definition([cells])), scale = la.Fixed(2., definition = la.Definition([genes])))\n",
    "dist_2 = la.distributions.Normal(loc = la.Fixed(np.linspace(-1, 1., len(cells)), definition = la.Definition([cells])), definition = dist_1.clean)\n",
    "dist_3 = la.distributions.Normal(loc = la.Fixed(np.linspace(-1, 1., len(genes)), definition = la.Definition([genes])), definition = dist_1.clean)"
   ]
  },
  {
   "cell_type": "code",
   "execution_count": 14,
   "id": "38b9020a-b24b-407f-ae99-93f90276e645",
   "metadata": {},
   "outputs": [],
   "source": [
    "dist_1.reset()\n",
    "dist_1.run()\n",
    "\n",
    "dist_2.reset()\n",
    "dist_2.run()\n",
    "\n",
    "dist_3.reset()\n",
    "dist_3.run()"
   ]
  },
  {
   "cell_type": "code",
   "execution_count": 15,
   "id": "9a635280-4776-40fd-9b4a-e6f0119f7a79",
   "metadata": {},
   "outputs": [
    {
     "data": {
      "text/plain": [
       "tensor([[-0.9605],\n",
       "        [-1.1367],\n",
       "        [-1.0209]])"
      ]
     },
     "execution_count": 15,
     "metadata": {},
     "output_type": "execute_result"
    }
   ],
   "source": [
    "dist_2.likelihood"
   ]
  },
  {
   "cell_type": "code",
   "execution_count": 16,
   "id": "279954cf-55b9-4eb7-906e-6927c70210b9",
   "metadata": {},
   "outputs": [
    {
     "data": {
      "text/plain": [
       "tensor(True)"
      ]
     },
     "execution_count": 16,
     "metadata": {},
     "output_type": "execute_result"
    }
   ],
   "source": [
    "(dist_2.likelihood == dist_2.log_prob(dist_2.value)).all()"
   ]
  },
  {
   "cell_type": "code",
   "execution_count": 17,
   "id": "eccfd9cd-2dee-47f0-a61b-68df76e3c39c",
   "metadata": {},
   "outputs": [
    {
     "data": {
      "text/plain": [
       "tensor([[-11.8024,  -2.6410,  -1.1641,  -1.0243],\n",
       "        [ -0.9787,  -1.2652,  -7.4973,  -1.6329],\n",
       "        [ -8.2210,  -9.1332,  -1.2835,  -0.9365]])"
      ]
     },
     "execution_count": 17,
     "metadata": {},
     "output_type": "execute_result"
    }
   ],
   "source": [
    "dist_2.log_prob(dist_1.value)"
   ]
  },
  {
   "cell_type": "code",
   "execution_count": 18,
   "id": "a5f19e8c-2058-4dbc-a3af-a0cff3ace71d",
   "metadata": {},
   "outputs": [
    {
     "data": {
      "text/plain": [
       "tensor([[-1.2532, -1.0677, -1.4362, -2.4648]])"
      ]
     },
     "execution_count": 18,
     "metadata": {},
     "output_type": "execute_result"
    }
   ],
   "source": [
    "dist_3.likelihood"
   ]
  },
  {
   "cell_type": "code",
   "execution_count": 19,
   "id": "6bcc396d-d869-4463-8a1e-aa2a9c2afe02",
   "metadata": {},
   "outputs": [
    {
     "data": {
      "text/plain": [
       "tensor(True)"
      ]
     },
     "execution_count": 19,
     "metadata": {},
     "output_type": "execute_result"
    }
   ],
   "source": [
    "(dist_3.likelihood == dist_3.log_prob(dist_3.value)).all()"
   ]
  },
  {
   "cell_type": "code",
   "execution_count": 20,
   "id": "2df67be4-5608-494a-adf2-d4f97d8bfcc8",
   "metadata": {},
   "outputs": [
    {
     "data": {
      "text/plain": [
       "tensor([[-11.8024,  -1.6260,  -2.9866,  -3.9422],\n",
       "        [ -1.8245,  -1.5982,  -8.7619,  -0.9379],\n",
       "        [ -2.5779,  -4.6178,  -0.9365,  -0.9365]])"
      ]
     },
     "execution_count": 20,
     "metadata": {},
     "output_type": "execute_result"
    }
   ],
   "source": [
    "dist_3.log_prob(dist_1.value)"
   ]
  },
  {
   "cell_type": "markdown",
   "id": "e374d9ce-7595-48f7-a575-742f310e3069",
   "metadata": {},
   "source": [
    "### Dependent dimensions"
   ]
  },
  {
   "cell_type": "markdown",
   "id": "27e9c8e3-3cd0-492a-b9a3-d9220d4e0dd6",
   "metadata": {},
   "source": [
    "We can mark some dimensions as dependent dimensions:"
   ]
  },
  {
   "cell_type": "code",
   "execution_count": 21,
   "id": "6e47b43d-eb69-41f6-816d-580467627f45",
   "metadata": {},
   "outputs": [],
   "source": [
    "dist_1 = la.distributions.Normal(loc = la.Fixed(0., definition = la.Definition([cells])), dependent_dims = {cells})\n",
    "dist_2 = la.distributions.Normal(loc = la.Fixed(0., definition = la.Definition([cells])))"
   ]
  },
  {
   "cell_type": "code",
   "execution_count": 22,
   "id": "44598ffd-b483-4fd4-8745-aef071e646bf",
   "metadata": {},
   "outputs": [],
   "source": [
    "dist_1.reset()\n",
    "dist_1.run()\n",
    "\n",
    "dist_2.reset()\n",
    "dist_2.run()"
   ]
  },
  {
   "cell_type": "code",
   "execution_count": 23,
   "id": "e1214e43-317a-41f1-8cc8-bf2a5a0b059c",
   "metadata": {},
   "outputs": [
    {
     "data": {
      "text/plain": [
       "tensor([-3.1096])"
      ]
     },
     "execution_count": 23,
     "metadata": {},
     "output_type": "execute_result"
    }
   ],
   "source": [
    "dist_1.likelihood"
   ]
  },
  {
   "cell_type": "code",
   "execution_count": 24,
   "id": "c0e66c7f-700f-4106-aec1-34bfabc858d4",
   "metadata": {},
   "outputs": [
    {
     "data": {
      "text/plain": [
       "tensor([-1.1387, -2.3708, -1.2797])"
      ]
     },
     "execution_count": 24,
     "metadata": {},
     "output_type": "execute_result"
    }
   ],
   "source": [
    "dist_2.likelihood"
   ]
  },
  {
   "cell_type": "markdown",
   "id": "747257ef-b48b-40a7-b0c5-635065bc3500",
   "metadata": {},
   "source": [
    "In contrast to pytorch and tensorflow, we do not assume that event dimensions are at the end of the tensor. They can be anywhere"
   ]
  },
  {
   "cell_type": "code",
   "execution_count": 25,
   "id": "b49fd6ab-607b-41e8-b170-4cd43328bf06",
   "metadata": {},
   "outputs": [],
   "source": [
    "dist_3 = la.distributions.Normal(loc = la.Fixed(0., definition = la.Definition([cells])), scale = la.Fixed(2., definition = la.Definition([genes])), dependent_dims = {cells})\n",
    "dist_4 = la.distributions.Normal(loc = la.Fixed(0., definition = la.Definition([cells])), scale = la.Fixed(2., definition = la.Definition([genes])), dependent_dims = {genes})"
   ]
  },
  {
   "cell_type": "code",
   "execution_count": 26,
   "id": "37e5f3fc-eddf-4a18-a746-74db41a0d0b9",
   "metadata": {},
   "outputs": [],
   "source": [
    "dist_3.reset()\n",
    "dist_3.run()\n",
    "\n",
    "dist_4.reset()\n",
    "dist_4.run()"
   ]
  },
  {
   "cell_type": "code",
   "execution_count": 27,
   "id": "69bc42c5-1c9b-4c0f-b635-c735e31543cf",
   "metadata": {},
   "outputs": [
    {
     "data": {
      "text/plain": [
       "tensor([[-4.8977, -5.4575, -7.7183, -5.9106]])"
      ]
     },
     "execution_count": 27,
     "metadata": {},
     "output_type": "execute_result"
    }
   ],
   "source": [
    "dist_3.likelihood"
   ]
  },
  {
   "cell_type": "code",
   "execution_count": 28,
   "id": "4226de03-305a-4520-b153-5519f44a69a5",
   "metadata": {},
   "outputs": [
    {
     "data": {
      "text/plain": [
       "tensor([[-9.8481],\n",
       "        [-7.3007],\n",
       "        [-7.9980]])"
      ]
     },
     "execution_count": 28,
     "metadata": {},
     "output_type": "execute_result"
    }
   ],
   "source": [
    "dist_4.likelihood"
   ]
  },
  {
   "cell_type": "markdown",
   "id": "9901175f-0642-47bf-8fe7-79778c0c3ccf",
   "metadata": {},
   "source": [
    "You can always know which dimensions are dependent using `dist.event_dims`"
   ]
  },
  {
   "cell_type": "code",
   "execution_count": 29,
   "id": "21b60bf3-abc4-4995-b24a-468579895711",
   "metadata": {},
   "outputs": [
    {
     "data": {
      "text/plain": [
       "set()"
      ]
     },
     "execution_count": 29,
     "metadata": {},
     "output_type": "execute_result"
    }
   ],
   "source": [
    "dist.event_dims"
   ]
  },
  {
   "cell_type": "markdown",
   "id": "c6c43ca8-926e-439c-8188-5d4d3db0d8e0",
   "metadata": {},
   "source": [
    "## Event-based distributions"
   ]
  },
  {
   "cell_type": "markdown",
   "id": "d08edab3-a8be-4145-949b-d6beb531051d",
   "metadata": {},
   "source": [
    "Some distributions have default dependent dimensions"
   ]
  },
  {
   "cell_type": "code",
   "execution_count": 30,
   "id": "3a29d86e-e425-48d2-9c3f-f84f42abfedd",
   "metadata": {},
   "outputs": [],
   "source": [
    "dist = la.distributions.Dirichlet(concentration = la.Fixed(1., definition = la.Definition([cells])))"
   ]
  },
  {
   "cell_type": "code",
   "execution_count": 31,
   "id": "3b0520e5-0b85-4d0c-bf5c-d5af90d8d707",
   "metadata": {},
   "outputs": [
    {
     "data": {
      "text/plain": [
       "{Dim cell}"
      ]
     },
     "execution_count": 31,
     "metadata": {},
     "output_type": "execute_result"
    }
   ],
   "source": [
    "dist.event_dims"
   ]
  },
  {
   "cell_type": "code",
   "execution_count": 32,
   "id": "215bbfe8-0283-4559-8456-d3cb4e8e02cc",
   "metadata": {},
   "outputs": [
    {
     "name": "stdout",
     "output_type": "stream",
     "text": [
      "tensor([0.1302, 0.7238, 0.1460])\n",
      "tensor([0.6931])\n"
     ]
    }
   ],
   "source": [
    "dist.reset()\n",
    "dist.run()\n",
    "print(dist.value)\n",
    "print(dist.likelihood)"
   ]
  },
  {
   "cell_type": "code",
   "execution_count": 33,
   "id": "99b894e0-7b39-45f0-bafb-f16ffab8f8ec",
   "metadata": {},
   "outputs": [],
   "source": [
    "value = torch.ones(dist.value_definition.shape)\n",
    "value = value / value.sum(0, keepdim = True)\n",
    "assert torch.isclose(torch.exp(dist.log_prob(value)), torch.tensor(2.))"
   ]
  },
  {
   "cell_type": "markdown",
   "id": "fddfa0bb-39fb-45a0-89d1-b7c8cddbd100",
   "metadata": {},
   "source": [
    "We can of course add multiple dimensions to such a distribution. By default (as per tensorflow/torch standards), the dependent dimension will be the last one:"
   ]
  },
  {
   "cell_type": "code",
   "execution_count": 34,
   "id": "c66c131c-ff34-453c-8ea6-54bb0a0ade06",
   "metadata": {},
   "outputs": [],
   "source": [
    "dist = la.distributions.Dirichlet(concentration = la.Fixed(10., definition = la.Definition([cells, genes])))"
   ]
  },
  {
   "cell_type": "code",
   "execution_count": 35,
   "id": "369a2a67-18d8-4162-bc46-539e657a2b76",
   "metadata": {},
   "outputs": [
    {
     "data": {
      "text/html": [
       "<strong>Dim gene</strong>: Broadcasted dimension"
      ],
      "text/plain": [
       "Dim gene"
      ]
     },
     "execution_count": 35,
     "metadata": {},
     "output_type": "execute_result"
    }
   ],
   "source": [
    "dist.component_dim"
   ]
  },
  {
   "cell_type": "code",
   "execution_count": 36,
   "id": "d18569bc-c3e2-477d-b32a-b037cf0e1b84",
   "metadata": {},
   "outputs": [
    {
     "name": "stdout",
     "output_type": "stream",
     "text": [
      "tensor([[0.3283, 0.2667, 0.2364, 0.1687],\n",
      "        [0.1905, 0.3498, 0.1696, 0.2901],\n",
      "        [0.1537, 0.4054, 0.2307, 0.2102]])\n",
      "tensor([1., 1., 1.])\n",
      "tensor([[4.5045],\n",
      "        [3.9425],\n",
      "        [3.2066]])\n"
     ]
    }
   ],
   "source": [
    "dist.reset()\n",
    "dist.run()\n",
    "print(dist.value)\n",
    "print(dist.value.sum(1))\n",
    "print(dist.likelihood)"
   ]
  },
  {
   "cell_type": "markdown",
   "id": "21ff9be4-f56e-4ded-a208-67f87af2fa9a",
   "metadata": {},
   "source": [
    "However, we can manually choose the dependent dimension as well:"
   ]
  },
  {
   "cell_type": "code",
   "execution_count": 37,
   "id": "a958fc4a-51d8-49cc-b7e6-82a2f94567f9",
   "metadata": {},
   "outputs": [],
   "source": [
    "dist = la.distributions.Dirichlet(concentration = la.Fixed(10., definition = la.Definition([cells, genes])), component_dim = cells)"
   ]
  },
  {
   "cell_type": "code",
   "execution_count": 38,
   "id": "b375e84d-2701-4fbb-9515-8f66b94a9efa",
   "metadata": {},
   "outputs": [
    {
     "name": "stdout",
     "output_type": "stream",
     "text": [
      "tensor([[0.3257, 0.3473, 0.3579, 0.2238],\n",
      "        [0.4070, 0.2486, 0.3593, 0.3791],\n",
      "        [0.2673, 0.4041, 0.2828, 0.3971]])\n",
      "tensor([1., 1., 1., 1.])\n",
      "tensor([[2.7905, 2.6518, 3.0246, 2.3373]])\n"
     ]
    }
   ],
   "source": [
    "dist.reset()\n",
    "dist.run()\n",
    "print(dist.value)\n",
    "print(dist.value.sum(0))\n",
    "print(dist.likelihood)"
   ]
  },
  {
   "cell_type": "markdown",
   "id": "c52c4a9b-6c7d-4691-b9ef-f11d38a830fe",
   "metadata": {},
   "source": [
    "We can also still add other dependent dimensions"
   ]
  },
  {
   "cell_type": "code",
   "execution_count": 39,
   "id": "ffd06ac1-bec5-45a1-a28f-5bfc078f4482",
   "metadata": {},
   "outputs": [],
   "source": [
    "dist = la.distributions.Dirichlet(concentration = la.Fixed(10., definition = la.Definition([cells, genes])), component_dim = cells, dependent_dims = {genes})"
   ]
  },
  {
   "cell_type": "code",
   "execution_count": 40,
   "id": "f259d528-ff1d-4ae9-8970-0f4682660a2e",
   "metadata": {},
   "outputs": [
    {
     "name": "stdout",
     "output_type": "stream",
     "text": [
      "tensor([[0.3792, 0.4597, 0.3200, 0.2853],\n",
      "        [0.3303, 0.2497, 0.2885, 0.3752],\n",
      "        [0.2904, 0.2905, 0.3915, 0.3396]])\n",
      "tensor([1., 1., 1., 1.])\n",
      "tensor([[11.2628]])\n"
     ]
    }
   ],
   "source": [
    "dist.reset()\n",
    "dist.run()\n",
    "print(dist.value)\n",
    "print(dist.value.sum(0))\n",
    "print(dist.likelihood)"
   ]
  },
  {
   "cell_type": "markdown",
   "id": "3119b6bf-afb2-4730-824f-ad0b9511fe78",
   "metadata": {},
   "source": [
    "## Transformed distributions"
   ]
  },
  {
   "cell_type": "markdown",
   "id": "d75c0c09-0a79-4fe2-8f6a-08968d38281f",
   "metadata": {},
   "source": [
    "We can directly transform the output of a distribution, using invertible transforms"
   ]
  },
  {
   "cell_type": "code",
   "execution_count": 41,
   "id": "1b6c6f37-6140-43c7-8bc9-e8b80025e193",
   "metadata": {},
   "outputs": [],
   "source": [
    "dist_1 = la.distributions.Normal(scale = 1., transforms = [la.transforms.Affine(a = 2.)])\n",
    "dist_2 = la.distributions.Normal(scale = 2.)"
   ]
  },
  {
   "cell_type": "code",
   "execution_count": 42,
   "id": "3e657ba6-644c-4f17-aba0-5415ca3e6252",
   "metadata": {},
   "outputs": [],
   "source": [
    "dist_1.reset()\n",
    "torch.manual_seed(0)\n",
    "dist_1.run()\n",
    "\n",
    "dist_2.reset()\n",
    "torch.manual_seed(0)\n",
    "dist_2.run()"
   ]
  },
  {
   "cell_type": "code",
   "execution_count": 43,
   "id": "711ec4c8-a783-4b72-a0a8-dc1b205d604c",
   "metadata": {},
   "outputs": [
    {
     "data": {
      "text/plain": [
       "tensor(-2.7994)"
      ]
     },
     "execution_count": 43,
     "metadata": {},
     "output_type": "execute_result"
    }
   ],
   "source": [
    "dist_1.likelihood"
   ]
  },
  {
   "cell_type": "code",
   "execution_count": 44,
   "id": "a76d33aa-e502-428e-b90a-cf82aa6742be",
   "metadata": {},
   "outputs": [
    {
     "data": {
      "text/plain": [
       "tensor(-2.7994)"
      ]
     },
     "execution_count": 44,
     "metadata": {},
     "output_type": "execute_result"
    }
   ],
   "source": [
    "dist_1.log_prob(dist_1.value)"
   ]
  },
  {
   "cell_type": "code",
   "execution_count": 45,
   "id": "82503734-d7d4-4372-9a5d-7b0040e1e408",
   "metadata": {},
   "outputs": [
    {
     "data": {
      "text/plain": [
       "tensor(-2.7994)"
      ]
     },
     "execution_count": 45,
     "metadata": {},
     "output_type": "execute_result"
    }
   ],
   "source": [
    "dist_2.log_prob(dist_1.value)"
   ]
  },
  {
   "cell_type": "code",
   "execution_count": 46,
   "id": "42477abc-5494-498a-88ee-7738323b536a",
   "metadata": {},
   "outputs": [],
   "source": [
    "assert dist_1.likelihood == dist_1.log_prob(dist_1.value)\n",
    "assert dist_1.likelihood == dist_2.log_prob(dist_1.value)"
   ]
  },
  {
   "cell_type": "markdown",
   "id": "d214550a-602b-4197-8b06-d510db255680",
   "metadata": {},
   "source": [
    "----------"
   ]
  },
  {
   "cell_type": "code",
   "execution_count": 47,
   "id": "422287e3-a027-41b9-91f2-dea1a4bd189c",
   "metadata": {},
   "outputs": [],
   "source": [
    "dist_1 = la.distributions.LogNormal(loc = la.Fixed(0., definition = la.Definition([cells])), scale = la.Fixed(2., definition = la.Definition([genes])), dependent_dims = {cells})\n",
    "dist_2 = la.distributions.Normal(loc = la.Fixed(0., definition = la.Definition([cells])), scale = la.Fixed(2., definition = la.Definition([genes])), dependent_dims = {cells}, transforms = [la.transforms.Exp()])"
   ]
  },
  {
   "cell_type": "code",
   "execution_count": 48,
   "id": "5bb14827-e2c3-4f4e-879e-bad4eb52c67a",
   "metadata": {},
   "outputs": [
    {
     "data": {
      "text/plain": [
       "[Exp]"
      ]
     },
     "execution_count": 48,
     "metadata": {},
     "output_type": "execute_result"
    }
   ],
   "source": [
    "dist_1.transforms"
   ]
  },
  {
   "cell_type": "code",
   "execution_count": 49,
   "id": "a268cb5d-f307-4483-a89c-b986b5757663",
   "metadata": {},
   "outputs": [],
   "source": [
    "dist_1.reset()\n",
    "dist_1.run()\n",
    "\n",
    "dist_2.reset()\n",
    "dist_2.run()"
   ]
  },
  {
   "cell_type": "code",
   "execution_count": 50,
   "id": "9b6cdcb6-c420-4d2d-aa8c-50649e5b1c64",
   "metadata": {},
   "outputs": [
    {
     "data": {
      "text/plain": [
       "tensor([[ -7.0021, -10.0257, -15.2661,  -6.5818]])"
      ]
     },
     "execution_count": 50,
     "metadata": {},
     "output_type": "execute_result"
    }
   ],
   "source": [
    "dist_1.likelihood"
   ]
  },
  {
   "cell_type": "code",
   "execution_count": 51,
   "id": "2b8e7f1d-6e06-408c-8d8f-d0144e11ad5f",
   "metadata": {},
   "outputs": [
    {
     "data": {
      "text/plain": [
       "tensor([[-36.1292, -13.0858, -12.3198,  -8.9711]])"
      ]
     },
     "execution_count": 51,
     "metadata": {},
     "output_type": "execute_result"
    }
   ],
   "source": [
    "dist_2.likelihood"
   ]
  },
  {
   "cell_type": "markdown",
   "id": "1100c0ae-98ed-461a-9372-f600602c7219",
   "metadata": {},
   "source": [
    "-----"
   ]
  },
  {
   "cell_type": "code",
   "execution_count": 52,
   "id": "d53c358a-6033-4cd5-ab6f-81e761e32461",
   "metadata": {},
   "outputs": [],
   "source": [
    "dist_1 = la.distributions.LogitNormal(loc = la.Fixed(0., definition = la.Definition([cells])), scale = la.Fixed(2., definition = la.Definition([genes])), dependent_dims = {cells})\n",
    "dist_2 = la.distributions.Normal(loc = la.Fixed(0., definition = la.Definition([cells])), scale = la.Fixed(2., definition = la.Definition([genes])), dependent_dims = {cells}, transforms = [la.transforms.Logistic()])"
   ]
  },
  {
   "cell_type": "code",
   "execution_count": 53,
   "id": "ef8e86a9-528a-4f71-9bf5-c2a0b3f917ec",
   "metadata": {},
   "outputs": [
    {
     "data": {
      "text/plain": [
       "[Logistic]"
      ]
     },
     "execution_count": 53,
     "metadata": {},
     "output_type": "execute_result"
    }
   ],
   "source": [
    "dist_1.transforms"
   ]
  },
  {
   "cell_type": "code",
   "execution_count": 54,
   "id": "5d6fc851-6b1b-46ca-af1e-d08f12351016",
   "metadata": {},
   "outputs": [],
   "source": [
    "dist_1.reset()\n",
    "dist_1.run()\n",
    "\n",
    "dist_2.reset()\n",
    "dist_2.run()"
   ]
  },
  {
   "cell_type": "code",
   "execution_count": 55,
   "id": "1007e178-c505-4870-90ec-9fb85c3c6da7",
   "metadata": {},
   "outputs": [
    {
     "data": {
      "text/plain": [
       "tensor([[ 0.1718,  0.5671,  0.1295, -0.2759]])"
      ]
     },
     "execution_count": 55,
     "metadata": {},
     "output_type": "execute_result"
    }
   ],
   "source": [
    "dist_1.likelihood"
   ]
  },
  {
   "cell_type": "code",
   "execution_count": 56,
   "id": "9076716a-8fe1-46ce-9469-f78f263bd7d2",
   "metadata": {},
   "outputs": [
    {
     "data": {
      "text/plain": [
       "tensor([[ 0.1718,  0.5671,  0.1295, -0.2759]])"
      ]
     },
     "execution_count": 56,
     "metadata": {},
     "output_type": "execute_result"
    }
   ],
   "source": [
    "dist_2.log_prob(dist_1.value)"
   ]
  },
  {
   "cell_type": "markdown",
   "id": "ff40de44-4a3d-4971-91c4-49c32ea3e339",
   "metadata": {},
   "source": [
    "------------"
   ]
  },
  {
   "cell_type": "code",
   "execution_count": 57,
   "id": "cd170fa8-45a2-4e33-9e81-71fe2ea7f3dd",
   "metadata": {},
   "outputs": [],
   "source": [
    "axes = la.Dim([\"x\", \"y\"], id = \"axis\")"
   ]
  },
  {
   "cell_type": "code",
   "execution_count": 58,
   "id": "06aeb5a8-2648-435f-9787-08aefe3fe3dc",
   "metadata": {},
   "outputs": [],
   "source": [
    "dist_1 = la.distributions.Normal(\n",
    "    loc = la.Fixed(1., definition = la.Definition([cells, axes])),\n",
    "    scale = la.Fixed(0.1, definition = la.Definition([genes])),\n",
    "    transforms = [la.transforms.Circular()],\n",
    "    dependent_dims = {genes}\n",
    ")"
   ]
  },
  {
   "cell_type": "code",
   "execution_count": 59,
   "id": "e5a3f9be-023c-4c7c-b1bf-5a5593d59fcb",
   "metadata": {},
   "outputs": [
    {
     "data": {
      "text/html": [
       "<strong>??</strong>: <i>loc</i>, <i>scale</i> ↦ Normal [cell (•), gene (•)]"
      ],
      "text/plain": [
       "??: loc, scale ↦ Normal [cell (•), gene (•)]"
      ]
     },
     "execution_count": 59,
     "metadata": {},
     "output_type": "execute_result"
    }
   ],
   "source": [
    "dist_1"
   ]
  },
  {
   "cell_type": "code",
   "execution_count": 60,
   "id": "8c2c2690-89e1-4618-93d0-a35ed79e0554",
   "metadata": {},
   "outputs": [],
   "source": [
    "dist_1.reset()\n",
    "dist_1.run()"
   ]
  },
  {
   "cell_type": "code",
   "execution_count": 61,
   "id": "ee1848af-dc7a-40c3-8105-142ecbeb8b18",
   "metadata": {},
   "outputs": [
    {
     "data": {
      "text/plain": [
       "tensor([[0.8403, 0.8346, 0.7995, 0.7897],\n",
       "        [0.9381, 0.9291, 0.8108, 0.7928],\n",
       "        [0.7733, 0.8137, 0.7260, 0.8454]])"
      ]
     },
     "execution_count": 61,
     "metadata": {},
     "output_type": "execute_result"
    }
   ],
   "source": [
    "dist_1.value"
   ]
  },
  {
   "cell_type": "code",
   "execution_count": 62,
   "id": "42c43345-f25b-4f1d-9d18-4d2a59a03a73",
   "metadata": {},
   "outputs": [
    {
     "data": {
      "text/plain": [
       "tensor([[10.4321],\n",
       "        [ 6.6747],\n",
       "        [11.0030]])"
      ]
     },
     "execution_count": 62,
     "metadata": {},
     "output_type": "execute_result"
    }
   ],
   "source": [
    "dist_1.likelihood"
   ]
  },
  {
   "cell_type": "markdown",
   "id": "86715b1a-32b1-4757-80fe-72d6f447df0d",
   "metadata": {},
   "source": [
    "## Reparameterization"
   ]
  },
  {
   "cell_type": "markdown",
   "id": "e5a4c792-a9fa-48d6-a193-896cc6fb12cb",
   "metadata": {},
   "source": [
    "If a distribution is not reparameterizable, the validation will check whether any upstream components are optimizable."
   ]
  },
  {
   "cell_type": "markdown",
   "id": "a04d0b84-de2d-4a62-b196-1697ab5d17ec",
   "metadata": {},
   "source": [
    "## Redefine"
   ]
  },
  {
   "cell_type": "markdown",
   "id": "f9e2b02f-b8ea-490f-8dc7-87a833f01e21",
   "metadata": {},
   "source": [
    "Distributions are used to sample or to calculate log probabilities. If a distribution is a component, it is often redefined to match the desired definition:"
   ]
  },
  {
   "cell_type": "code",
   "execution_count": 64,
   "id": "a026cc8b-e932-4a68-af74-5d4dd61abc02",
   "metadata": {},
   "outputs": [
    {
     "data": {
      "text/html": [
       "<strong>p</strong>: <i>loc</i>, <i>scale</i> ↦ Normal [gene (4)]"
      ],
      "text/plain": [
       "p: loc, scale ↦ Normal [gene (4)]"
      ]
     },
     "execution_count": 64,
     "metadata": {},
     "output_type": "execute_result"
    }
   ],
   "source": [
    "p = la.distributions.Normal()\n",
    "observation = la.Observation(\n",
    "    value = pd.Series(0., index = genes.index),\n",
    "    p = p\n",
    ")\n",
    "observation.p"
   ]
  },
  {
   "cell_type": "code",
   "execution_count": 66,
   "id": "832dd5cf-6ac2-41bf-85d4-ba6b39bc2c10",
   "metadata": {},
   "outputs": [],
   "source": [
    "original_p = la.distributions.Normal()\n",
    "original_q = la.distributions.Normal(1.)"
   ]
  },
  {
   "cell_type": "code",
   "execution_count": 67,
   "id": "41e7be97-8226-4e8e-a78f-e2404ebfd690",
   "metadata": {},
   "outputs": [
    {
     "name": "stdout",
     "output_type": "stream",
     "text": [
      "p: loc, scale ↦ Normal [gene (4)]\n",
      "q: loc, scale ↦ Normal [gene (4)]\n"
     ]
    }
   ],
   "source": [
    "latent = la.Latent(\n",
    "    q = original_q,\n",
    "    p = original_p,\n",
    "    definition = la.Definition([genes])\n",
    ")\n",
    "print(latent.p)\n",
    "print(latent.q)"
   ]
  },
  {
   "cell_type": "markdown",
   "id": "b4fb864f-47a8-48f3-a8eb-68567d563971",
   "metadata": {},
   "source": [
    "Be aware that after redefinition, the distribution is not the one you provided:"
   ]
  },
  {
   "cell_type": "code",
   "execution_count": 73,
   "id": "c21375bb-2a80-43af-949e-df826cfacb57",
   "metadata": {},
   "outputs": [],
   "source": [
    "assert original_p != latent.p"
   ]
  },
  {
   "cell_type": "markdown",
   "id": "0d69354c-b6ac-4648-871a-dd6839a72c6e",
   "metadata": {},
   "source": [
    "However, the upstream components will be still be the same:"
   ]
  },
  {
   "cell_type": "code",
   "execution_count": 74,
   "id": "a3fe165c-4b8d-48f7-a31c-968db855e04f",
   "metadata": {},
   "outputs": [],
   "source": [
    "assert original_p.loc == latent.p.loc"
   ]
  }
 ],
 "metadata": {
  "jupytext": {
   "formats": "ipynb,py:percent"
  },
  "kernelspec": {
   "display_name": "Python 3 (ipykernel)",
   "language": "python",
   "name": "python3"
  },
  "language_info": {
   "codemirror_mode": {
    "name": "ipython",
    "version": 3
   },
   "file_extension": ".py",
   "mimetype": "text/x-python",
   "name": "python",
   "nbconvert_exporter": "python",
   "pygments_lexer": "ipython3",
   "version": "3.8.10"
  }
 },
 "nbformat": 4,
 "nbformat_minor": 5
}
