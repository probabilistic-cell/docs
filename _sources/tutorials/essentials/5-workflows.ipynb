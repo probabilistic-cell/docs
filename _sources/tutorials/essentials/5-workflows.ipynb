{
 "cells": [
  {
   "cell_type": "markdown",
   "id": "c41e444e",
   "metadata": {},
   "source": [
    "# Workflows"
   ]
  },
  {
   "cell_type": "markdown",
   "id": "ca07933e-66cf-42a2-9ff9-d31aa4c22334",
   "metadata": {},
   "source": [
    "For now we mainly looked at models in isolation. However, the true power of probabilistic modelling lies in its ability to move beyond the \"one-model-fits-all\" idea, but rather create a variety of models and connect or compare them in various ways. Indeed, even for a normal use cases, we already typically go up to a dozen models or more. In more complex experimental designs, which are becoming every more common, this can easily go up to a hundred or more."
   ]
  },
  {
   "cell_type": "code",
   "execution_count": 1,
   "id": "64bdec88",
   "metadata": {
    "execution": {
     "iopub.execute_input": "2021-10-05T15:44:24.618651Z",
     "iopub.status.busy": "2021-10-05T15:44:24.618136Z",
     "iopub.status.idle": "2021-10-05T15:44:26.022247Z",
     "shell.execute_reply": "2021-10-05T15:44:26.021710Z"
    }
   },
   "outputs": [],
   "source": [
    "%load_ext autoreload\n",
    "%autoreload 2\n",
    "import latenta as la\n",
    "import lacell as lac\n",
    "import numpy as np"
   ]
  },
  {
   "cell_type": "markdown",
   "id": "92267d0c-2c29-4dca-93a6-df6e11df7851",
   "metadata": {},
   "source": [
    "Even in relatively simple use cases, managing different models, storing them across sessions, and let them depend on each other can be a pain. To make this easier, we created a small workflow manager in the `laflow` package. It borrows elements from other workflow managers such as snakemake or nextflow. However, it is much more focused on interactivity, modularization and model inheritance that, all concepts very central to the modelling we're doing here.\n",
    "\n",
    "The core tasks of laflow is:\n",
    "- **Persistence**, to store sure models and its derivatives on disk\n",
    "- **Model inheritance**, creation of similar models that only differ in certain aspects\n",
    "- **Connecting data**, to explicitely define what a model needs and where it gets this"
   ]
  },
  {
   "cell_type": "code",
   "execution_count": 2,
   "id": "95ac7ce5-08eb-4936-989c-74dd5c159b3a",
   "metadata": {
    "execution": {
     "iopub.execute_input": "2021-10-05T15:44:26.025006Z",
     "iopub.status.busy": "2021-10-05T15:44:26.024548Z",
     "iopub.status.idle": "2021-10-05T15:44:26.038405Z",
     "shell.execute_reply": "2021-10-05T15:44:26.037958Z"
    }
   },
   "outputs": [],
   "source": [
    "import laflow as laf"
   ]
  },
  {
   "cell_type": "markdown",
   "id": "0ff40293-2cf6-4b8f-9e3f-3d79e75692e4",
   "metadata": {},
   "source": [
    "We'll use the same dataset as [before](./1-variables)."
   ]
  },
  {
   "cell_type": "code",
   "execution_count": 3,
   "id": "46e1c2f9-b86b-4272-9ef9-17e5a46e652f",
   "metadata": {
    "execution": {
     "iopub.execute_input": "2021-10-05T15:44:26.040587Z",
     "iopub.status.busy": "2021-10-05T15:44:26.040148Z",
     "iopub.status.idle": "2021-10-05T15:44:26.646736Z",
     "shell.execute_reply": "2021-10-05T15:44:26.646299Z"
    }
   },
   "outputs": [],
   "source": [
    "adata = la.data.load_myod1()"
   ]
  },
  {
   "cell_type": "code",
   "execution_count": 4,
   "id": "1b6cc03b-c47a-4c44-86f8-602539837674",
   "metadata": {
    "execution": {
     "iopub.execute_input": "2021-10-05T15:44:26.649764Z",
     "iopub.status.busy": "2021-10-05T15:44:26.649289Z",
     "iopub.status.idle": "2021-10-05T15:44:30.029365Z",
     "shell.execute_reply": "2021-10-05T15:44:30.028935Z"
    },
    "tags": [
     "hide-input",
     "remove-output"
    ]
   },
   "outputs": [
    {
     "name": "stderr",
     "output_type": "stream",
     "text": [
      "/home/wsaelens/projects/probabilistic-cell/.venv/lib/python3.8/site-packages/anndata/_core/anndata.py:1220: FutureWarning: The `inplace` parameter in pandas.Categorical.reorder_categories is deprecated and will be removed in a future version. Removing unused categories will always return a new Categorical object.\n",
      "  c.reorder_categories(natsorted(c.categories), inplace=True)\n",
      "... storing 'dissociation' as categorical\n"
     ]
    },
    {
     "name": "stderr",
     "output_type": "stream",
     "text": [
      "/home/wsaelens/projects/probabilistic-cell/.venv/lib/python3.8/site-packages/anndata/_core/anndata.py:1220: FutureWarning: The `inplace` parameter in pandas.Categorical.reorder_categories is deprecated and will be removed in a future version. Removing unused categories will always return a new Categorical object.\n",
      "  c.reorder_categories(natsorted(c.categories), inplace=True)\n",
      "... storing 'gene_overexpressed' as categorical\n"
     ]
    },
    {
     "name": "stderr",
     "output_type": "stream",
     "text": [
      "/home/wsaelens/projects/probabilistic-cell/.venv/lib/python3.8/site-packages/anndata/_core/anndata.py:1220: FutureWarning: The `inplace` parameter in pandas.Categorical.reorder_categories is deprecated and will be removed in a future version. Removing unused categories will always return a new Categorical object.\n",
      "  c.reorder_categories(natsorted(c.categories), inplace=True)\n",
      "... storing 'batch' as categorical\n"
     ]
    },
    {
     "name": "stderr",
     "output_type": "stream",
     "text": [
      "/home/wsaelens/projects/probabilistic-cell/.venv/lib/python3.8/site-packages/anndata/_core/anndata.py:1220: FutureWarning: The `inplace` parameter in pandas.Categorical.reorder_categories is deprecated and will be removed in a future version. Removing unused categories will always return a new Categorical object.\n",
      "  c.reorder_categories(natsorted(c.categories), inplace=True)\n",
      "... storing 'biotype' as categorical\n"
     ]
    },
    {
     "name": "stderr",
     "output_type": "stream",
     "text": [
      "/home/wsaelens/projects/probabilistic-cell/.venv/lib/python3.8/site-packages/scanpy/preprocessing/_combat.py:340: RuntimeWarning: divide by zero encountered in true_divide\n",
      "  (abs(g_new - g_old) / g_old).max(), (abs(d_new - d_old) / d_old).max()\n"
     ]
    }
   ],
   "source": [
    "import scanpy as sc\n",
    "\n",
    "adata.raw = adata\n",
    "\n",
    "sc.pp.normalize_per_cell(adata)\n",
    "sc.pp.log1p(adata)\n",
    "\n",
    "sc.pp.combat(adata)\n",
    "sc.pp.pca(adata)\n",
    "\n",
    "sc.pp.neighbors(adata)\n",
    "sc.tl.umap(adata)\n",
    "\n",
    "adata.obs[\"log_overexpression\"] = np.log1p(adata.obs[\"overexpression\"])"
   ]
  },
  {
   "cell_type": "markdown",
   "id": "f4ed7637-f900-4df1-8d6c-314aff7e1881",
   "metadata": {},
   "source": [
    "## Persistence"
   ]
  },
  {
   "cell_type": "markdown",
   "id": "4192e621-8002-45e0-95f1-26ec53318101",
   "metadata": {},
   "source": [
    "The basis of laflow is the {class}`~laflow.Flow` class. Each instance we create is associated with a particular folder on disk, starting from a given root directory. We work from a temporary directory in these tutorials, but in real life use cases this root is typically  your project's root directory or one of its subdirectories."
   ]
  },
  {
   "cell_type": "code",
   "execution_count": 5,
   "id": "b50f9f6c-c147-4934-83e0-39e2ab96f10e",
   "metadata": {
    "execution": {
     "iopub.execute_input": "2021-10-05T15:44:30.032498Z",
     "iopub.status.busy": "2021-10-05T15:44:30.031963Z",
     "iopub.status.idle": "2021-10-05T15:44:30.051903Z",
     "shell.execute_reply": "2021-10-05T15:44:30.051479Z"
    }
   },
   "outputs": [],
   "source": [
    "import tempfile\n",
    "import pathlib\n",
    "\n",
    "project_root = pathlib.Path(tempfile.TemporaryDirectory().name)\n",
    "project_root.mkdir()\n",
    "laf.set_project_root(project_root)  # sets the default project root"
   ]
  },
  {
   "cell_type": "markdown",
   "id": "bc6b41e6-f769-4908-9fb2-abde5670234a",
   "metadata": {},
   "source": [
    "We can then create a {class}`~laflow.Flow` object as follows. Because we set the default root for this python session, we don't have to provide this explicitely. All we need to provide is a name for the flow, and optionally a base flow if this is not the root:"
   ]
  },
  {
   "cell_type": "code",
   "execution_count": 6,
   "id": "00f27ea1-efb4-494e-949e-ad9ad5903672",
   "metadata": {
    "execution": {
     "iopub.execute_input": "2021-10-05T15:44:30.054736Z",
     "iopub.status.busy": "2021-10-05T15:44:30.054199Z",
     "iopub.status.idle": "2021-10-05T15:44:30.071080Z",
     "shell.execute_reply": "2021-10-05T15:44:30.070612Z"
    }
   },
   "outputs": [
    {
     "data": {
      "text/plain": [
       "PosixPath('/tmp/tmp829fg2i4/dataset')"
      ]
     },
     "execution_count": 6,
     "metadata": {},
     "output_type": "execute_result"
    }
   ],
   "source": [
    "dataset = laf.Flow(\"dataset\")\n",
    "dataset.path  # the path associated with this flow"
   ]
  },
  {
   "cell_type": "markdown",
   "id": "cbe2dbe1-8c2b-4492-a15c-853ed87f9425",
   "metadata": {},
   "source": [
    "This folder will store information on each object, links to other objects or flows, and the objects themselves if they are labeled as persistent. We can store a python object inside a flow by simply assigning it:"
   ]
  },
  {
   "cell_type": "code",
   "execution_count": 7,
   "id": "f1916ca7-4d2d-4751-88b2-8963e77447df",
   "metadata": {
    "execution": {
     "iopub.execute_input": "2021-10-05T15:44:30.073561Z",
     "iopub.status.busy": "2021-10-05T15:44:30.073113Z",
     "iopub.status.idle": "2021-10-05T15:44:30.100286Z",
     "shell.execute_reply": "2021-10-05T15:44:30.099904Z"
    }
   },
   "outputs": [],
   "source": [
    "dataset.adata = adata"
   ]
  },
  {
   "cell_type": "markdown",
   "id": "8dce0ffe-42bf-4b33-abdc-1ba3ee058865",
   "metadata": {},
   "source": [
    "Because python objects are by default persistent, the `adata` object was saved in the folder as a pickle. Along with it is a info json file which is used internally to keep track which type of object it is and how it was created."
   ]
  },
  {
   "cell_type": "code",
   "execution_count": 8,
   "id": "32b42049-fb75-487a-985b-7256f38a6303",
   "metadata": {
    "execution": {
     "iopub.execute_input": "2021-10-05T15:44:30.102862Z",
     "iopub.status.busy": "2021-10-05T15:44:30.102454Z",
     "iopub.status.idle": "2021-10-05T15:44:30.306243Z",
     "shell.execute_reply": "2021-10-05T15:44:30.306632Z"
    }
   },
   "outputs": [
    {
     "name": "stdout",
     "output_type": "stream",
     "text": [
      "total 17M\r\n",
      "-rw-r--r-- 1 wsaelens updepla 156 Oct  5 17:44 adata.info\r\n",
      "-rw-r--r-- 1 wsaelens updepla 17M Oct  5 17:44 adata.pkl\r\n"
     ]
    }
   ],
   "source": [
    "!ls -lh {dataset.path}"
   ]
  },
  {
   "cell_type": "markdown",
   "id": "bb303b21-fb93-44ef-8cc0-8a0e4401ad0a",
   "metadata": {},
   "source": [
    "When working in IPython environments (e.g. Jupyter), we can always check what contents a flow object has as follows:"
   ]
  },
  {
   "cell_type": "code",
   "execution_count": 9,
   "id": "a8c86c6b-1038-49c3-a2c4-fc88fc40ba98",
   "metadata": {
    "execution": {
     "iopub.execute_input": "2021-10-05T15:44:30.312545Z",
     "iopub.status.busy": "2021-10-05T15:44:30.309703Z",
     "iopub.status.idle": "2021-10-05T15:44:30.331027Z",
     "shell.execute_reply": "2021-10-05T15:44:30.330600Z"
    }
   },
   "outputs": [
    {
     "data": {
      "text/html": [
       "<script src=\"https://cdnjs.cloudflare.com/ajax/libs/require.js/2.3.6/require.js\" integrity=\"sha512-vRqhAr2wsn+/cSsyz80psBbCcqzz2GTuhGk3bq3dAyytz4J/8XwFqMjiAGFBj+WM95lHBJ9cDf87T3P8yMrY7A==\" crossorigin=\"anonymous\" referrerpolicy=\"no-referrer\" id=\"script25956\" onload=\"loaded25956\"></script>\n",
       "<style>\n",
       ".la-flow ul {\n",
       "    margin-top:0;\n",
       "    list-style: none;\n",
       "    padding: 0;\n",
       "    padding-left: 10px !important;\n",
       "}\n",
       ".la-flow li {\n",
       "    padding-left: 10px;\n",
       "}\n",
       ".la-flow .instances li {\n",
       "    border-left: 1px dashed #ccc;\n",
       "}\n",
       ".la-flow .steps li {\n",
       "    border-left: 1px dotted #ccc;\n",
       "}\n",
       ".la-flow .soft {\n",
       "    opacity:0.5;\n",
       "}\n",
       "</style>\n",
       "\n",
       "<script>\n",
       "function loaded25956() {\n",
       "    require.config({\n",
       "    paths: {\n",
       "        'fontawesome': 'https://kit.fontawesome.com/77f7a120e4.js'\n",
       "    }\n",
       "    })\n",
       "\n",
       "    require(['fontawesome'], function (fontawesome) {\n",
       "    console.log('Congrats, Font Awesome is installed using Require.js')\n",
       "    })\n",
       "}\n",
       "</script>\n",
       "\n",
       "\n",
       "\n",
       "        <div class='la-flow'><strong>dataset</strong> <span class='soft'>(laflow.flow.Flow)</span><ul class='instances'><li><i class='fas fa-check-square' style='color:#2ECC40;' title='available and persistent'></i> adata <span class='soft'>(Py)</span></li></ul><ul class='steps'></ul>"
      ],
      "text/plain": [
       "<laflow.flow.Flow at 0x7ff2dca83a60>"
      ]
     },
     "execution_count": 9,
     "metadata": {},
     "output_type": "execute_result"
    }
   ],
   "source": [
    "dataset"
   ]
  },
  {
   "cell_type": "markdown",
   "id": "234f23aa-7525-4f4b-806a-2cc4bccfd852",
   "metadata": {},
   "source": [
    "Even if we restart our session (simulated here by removing the flow object), we can always retrieve it by recreating a flow object in the correct folder:"
   ]
  },
  {
   "cell_type": "code",
   "execution_count": 10,
   "id": "8aaef670-e512-46d0-b218-9319d400255d",
   "metadata": {
    "execution": {
     "iopub.execute_input": "2021-10-05T15:44:30.333661Z",
     "iopub.status.busy": "2021-10-05T15:44:30.333195Z",
     "iopub.status.idle": "2021-10-05T15:44:30.348561Z",
     "shell.execute_reply": "2021-10-05T15:44:30.348191Z"
    }
   },
   "outputs": [],
   "source": [
    "if \"dataset\" in globals():\n",
    "    del dataset\n",
    "dataset = laf.Flow(\"dataset\")"
   ]
  },
  {
   "cell_type": "code",
   "execution_count": 11,
   "id": "e141def7-df7f-4088-a7d8-f54d7a7181e0",
   "metadata": {
    "execution": {
     "iopub.execute_input": "2021-10-05T15:44:30.350721Z",
     "iopub.status.busy": "2021-10-05T15:44:30.350348Z",
     "iopub.status.idle": "2021-10-05T15:44:30.366569Z",
     "shell.execute_reply": "2021-10-05T15:44:30.366861Z"
    }
   },
   "outputs": [
    {
     "data": {
      "text/html": [
       "<script src=\"https://cdnjs.cloudflare.com/ajax/libs/require.js/2.3.6/require.js\" integrity=\"sha512-vRqhAr2wsn+/cSsyz80psBbCcqzz2GTuhGk3bq3dAyytz4J/8XwFqMjiAGFBj+WM95lHBJ9cDf87T3P8yMrY7A==\" crossorigin=\"anonymous\" referrerpolicy=\"no-referrer\" id=\"script23805\" onload=\"loaded23805\"></script>\n",
       "<style>\n",
       ".la-flow ul {\n",
       "    margin-top:0;\n",
       "    list-style: none;\n",
       "    padding: 0;\n",
       "    padding-left: 10px !important;\n",
       "}\n",
       ".la-flow li {\n",
       "    padding-left: 10px;\n",
       "}\n",
       ".la-flow .instances li {\n",
       "    border-left: 1px dashed #ccc;\n",
       "}\n",
       ".la-flow .steps li {\n",
       "    border-left: 1px dotted #ccc;\n",
       "}\n",
       ".la-flow .soft {\n",
       "    opacity:0.5;\n",
       "}\n",
       "</style>\n",
       "\n",
       "<script>\n",
       "function loaded23805() {\n",
       "    require.config({\n",
       "    paths: {\n",
       "        'fontawesome': 'https://kit.fontawesome.com/77f7a120e4.js'\n",
       "    }\n",
       "    })\n",
       "\n",
       "    require(['fontawesome'], function (fontawesome) {\n",
       "    console.log('Congrats, Font Awesome is installed using Require.js')\n",
       "    })\n",
       "}\n",
       "</script>\n",
       "\n",
       "\n",
       "\n",
       "        <div class='la-flow'><strong>dataset</strong> <span class='soft'>(laflow.flow.Flow)</span><ul class='instances'><li><i class='fas fa-check-square' style='color:#2ECC40;' title='available and persistent'></i> adata <span class='soft'>(Py)</span></li></ul><ul class='steps'></ul>"
      ],
      "text/plain": [
       "<laflow.flow.Flow at 0x7ff0872577f0>"
      ]
     },
     "execution_count": 11,
     "metadata": {},
     "output_type": "execute_result"
    }
   ],
   "source": [
    "dataset"
   ]
  },
  {
   "cell_type": "markdown",
   "id": "337fecae-9b99-4128-9421-d1325f853324",
   "metadata": {},
   "source": [
    "We can also have persistence of other objects. If you for example provide a "
   ]
  },
  {
   "cell_type": "code",
   "execution_count": 12,
   "id": "88f211e0-e229-4fd5-b249-208f07b51e22",
   "metadata": {
    "execution": {
     "iopub.execute_input": "2021-10-05T15:44:30.369237Z",
     "iopub.status.busy": "2021-10-05T15:44:30.368871Z",
     "iopub.status.idle": "2021-10-05T15:44:30.498102Z",
     "shell.execute_reply": "2021-10-05T15:44:30.497642Z"
    }
   },
   "outputs": [
    {
     "data": {
      "image/png": "[encoded data removed]",
      "text/plain": [
       "<Figure size 432x288 with 1 Axes>"
      ]
     },
     "metadata": {},
     "output_type": "display_data"
    }
   ],
   "source": [
    "dataset.basic_umap = sc.pl.umap(dataset.adata, return_fig=True)"
   ]
  },
  {
   "cell_type": "code",
   "execution_count": 13,
   "id": "b4149603-f377-4f66-9130-9ffd0bf4470e",
   "metadata": {
    "execution": {
     "iopub.execute_input": "2021-10-05T15:44:30.500817Z",
     "iopub.status.busy": "2021-10-05T15:44:30.500351Z",
     "iopub.status.idle": "2021-10-05T15:44:30.517684Z",
     "shell.execute_reply": "2021-10-05T15:44:30.517274Z"
    }
   },
   "outputs": [
    {
     "data": {
      "text/html": [
       "<script src=\"https://cdnjs.cloudflare.com/ajax/libs/require.js/2.3.6/require.js\" integrity=\"sha512-vRqhAr2wsn+/cSsyz80psBbCcqzz2GTuhGk3bq3dAyytz4J/8XwFqMjiAGFBj+WM95lHBJ9cDf87T3P8yMrY7A==\" crossorigin=\"anonymous\" referrerpolicy=\"no-referrer\" id=\"script22905\" onload=\"loaded22905\"></script>\n",
       "<style>\n",
       ".la-flow ul {\n",
       "    margin-top:0;\n",
       "    list-style: none;\n",
       "    padding: 0;\n",
       "    padding-left: 10px !important;\n",
       "}\n",
       ".la-flow li {\n",
       "    padding-left: 10px;\n",
       "}\n",
       ".la-flow .instances li {\n",
       "    border-left: 1px dashed #ccc;\n",
       "}\n",
       ".la-flow .steps li {\n",
       "    border-left: 1px dotted #ccc;\n",
       "}\n",
       ".la-flow .soft {\n",
       "    opacity:0.5;\n",
       "}\n",
       "</style>\n",
       "\n",
       "<script>\n",
       "function loaded22905() {\n",
       "    require.config({\n",
       "    paths: {\n",
       "        'fontawesome': 'https://kit.fontawesome.com/77f7a120e4.js'\n",
       "    }\n",
       "    })\n",
       "\n",
       "    require(['fontawesome'], function (fontawesome) {\n",
       "    console.log('Congrats, Font Awesome is installed using Require.js')\n",
       "    })\n",
       "}\n",
       "</script>\n",
       "\n",
       "\n",
       "\n",
       "        <div class='la-flow'><strong>dataset</strong> <span class='soft'>(laflow.flow.Flow)</span><ul class='instances'><li><i class='fas fa-check-square' style='color:#2ECC40;' title='available and persistent'></i> adata <span class='soft'>(Py)</span></li><li><i class='fas fa-check-square' style='color:#2ECC40;' title='available and persistent'></i> basic_umap <span class='soft'>(Figure)</span></li></ul><ul class='steps'></ul>"
      ],
      "text/plain": [
       "<laflow.flow.Flow at 0x7ff0872577f0>"
      ]
     },
     "execution_count": 13,
     "metadata": {},
     "output_type": "execute_result"
    }
   ],
   "source": [
    "dataset"
   ]
  },
  {
   "cell_type": "markdown",
   "id": "77e6b710-8fcf-48d7-b862-124ea9cb851a",
   "metadata": {},
   "source": [
    "## Connecting flows"
   ]
  },
  {
   "cell_type": "markdown",
   "id": "7450629d-b9d0-4f99-98a1-c0462662a134",
   "metadata": {},
   "source": [
    "To make our workflows more modular, we use Python's OOP system to systematically let certain flows depend on each other and share common code. For example, a dataset in our example would be defined as follows:"
   ]
  },
  {
   "cell_type": "code",
   "execution_count": 14,
   "id": "8b64c708-9053-49fa-a0a1-ba831416f507",
   "metadata": {
    "execution": {
     "iopub.execute_input": "2021-10-05T15:44:30.520299Z",
     "iopub.status.busy": "2021-10-05T15:44:30.519834Z",
     "iopub.status.idle": "2021-10-05T15:44:30.538343Z",
     "shell.execute_reply": "2021-10-05T15:44:30.538021Z"
    }
   },
   "outputs": [],
   "source": [
    "class Dataset(laf.Flow):\n",
    "    default_name = \"dataset\"\n",
    "    adata = laf.PyObj()"
   ]
  },
  {
   "cell_type": "markdown",
   "id": "d6a3d9f7-7b1d-4409-8a45-af3fd2fb16e0",
   "metadata": {},
   "source": [
    "We can initialize this dataset as before. Note that we do not provide a name in this case as we want to use the default \"dataset\" name:"
   ]
  },
  {
   "cell_type": "code",
   "execution_count": 15,
   "id": "6fbb395b-4fe1-4514-aeb6-d200f37aef52",
   "metadata": {
    "execution": {
     "iopub.execute_input": "2021-10-05T15:44:30.540581Z",
     "iopub.status.busy": "2021-10-05T15:44:30.540218Z",
     "iopub.status.idle": "2021-10-05T15:44:30.569701Z",
     "shell.execute_reply": "2021-10-05T15:44:30.570075Z"
    }
   },
   "outputs": [],
   "source": [
    "dataset = Dataset(adata = adata)"
   ]
  },
  {
   "cell_type": "code",
   "execution_count": 16,
   "id": "56da4823-5e0c-4386-9bf5-e711dd139f08",
   "metadata": {
    "execution": {
     "iopub.execute_input": "2021-10-05T15:44:30.572764Z",
     "iopub.status.busy": "2021-10-05T15:44:30.572299Z",
     "iopub.status.idle": "2021-10-05T15:44:30.589450Z",
     "shell.execute_reply": "2021-10-05T15:44:30.589123Z"
    }
   },
   "outputs": [
    {
     "data": {
      "text/html": [
       "<script src=\"https://cdnjs.cloudflare.com/ajax/libs/require.js/2.3.6/require.js\" integrity=\"sha512-vRqhAr2wsn+/cSsyz80psBbCcqzz2GTuhGk3bq3dAyytz4J/8XwFqMjiAGFBj+WM95lHBJ9cDf87T3P8yMrY7A==\" crossorigin=\"anonymous\" referrerpolicy=\"no-referrer\" id=\"script22927\" onload=\"loaded22927\"></script>\n",
       "<style>\n",
       ".la-flow ul {\n",
       "    margin-top:0;\n",
       "    list-style: none;\n",
       "    padding: 0;\n",
       "    padding-left: 10px !important;\n",
       "}\n",
       ".la-flow li {\n",
       "    padding-left: 10px;\n",
       "}\n",
       ".la-flow .instances li {\n",
       "    border-left: 1px dashed #ccc;\n",
       "}\n",
       ".la-flow .steps li {\n",
       "    border-left: 1px dotted #ccc;\n",
       "}\n",
       ".la-flow .soft {\n",
       "    opacity:0.5;\n",
       "}\n",
       "</style>\n",
       "\n",
       "<script>\n",
       "function loaded22927() {\n",
       "    require.config({\n",
       "    paths: {\n",
       "        'fontawesome': 'https://kit.fontawesome.com/77f7a120e4.js'\n",
       "    }\n",
       "    })\n",
       "\n",
       "    require(['fontawesome'], function (fontawesome) {\n",
       "    console.log('Congrats, Font Awesome is installed using Require.js')\n",
       "    })\n",
       "}\n",
       "</script>\n",
       "\n",
       "\n",
       "\n",
       "        <div class='la-flow'><strong>dataset</strong> <span class='soft'>(__main__.Dataset)</span><ul class='instances'><li><i class='fas fa-check-square' style='color:#2ECC40;' title='available and persistent'></i> basic_umap <span class='soft'>(Figure)</span></li><li><i class='fas fa-check-square' style='color:#2ECC40;' title='available and persistent'></i> adata <span class='soft'>(Py)</span></li></ul><ul class='steps'></ul>"
      ],
      "text/plain": [
       "<__main__.Dataset at 0x7ff2dca88e20>"
      ]
     },
     "execution_count": 16,
     "metadata": {},
     "output_type": "execute_result"
    }
   ],
   "source": [
    "dataset"
   ]
  },
  {
   "cell_type": "markdown",
   "id": "ddc81bc9-a9d7-4dd9-b035-ac2ea69b1151",
   "metadata": {},
   "source": [
    "If we would then make a model, we could make it depend on the dataset as follows:"
   ]
  },
  {
   "cell_type": "code",
   "execution_count": 17,
   "id": "58819700-ff55-4e90-b0df-f5dfa2639424",
   "metadata": {
    "execution": {
     "iopub.execute_input": "2021-10-05T15:44:30.591735Z",
     "iopub.status.busy": "2021-10-05T15:44:30.591370Z",
     "iopub.status.idle": "2021-10-05T15:44:30.605955Z",
     "shell.execute_reply": "2021-10-05T15:44:30.605612Z"
    }
   },
   "outputs": [],
   "source": [
    "class Model(laf.Flow):\n",
    "    default_name = \"model\"\n",
    "    dataset = laf.FlowObj()"
   ]
  },
  {
   "cell_type": "code",
   "execution_count": 18,
   "id": "7cf22a6c-a761-48bc-ae76-81c1458366a6",
   "metadata": {
    "execution": {
     "iopub.execute_input": "2021-10-05T15:44:30.608587Z",
     "iopub.status.busy": "2021-10-05T15:44:30.608128Z",
     "iopub.status.idle": "2021-10-05T15:44:30.622787Z",
     "shell.execute_reply": "2021-10-05T15:44:30.622377Z"
    }
   },
   "outputs": [],
   "source": [
    "model = Model(dataset = dataset)"
   ]
  },
  {
   "cell_type": "code",
   "execution_count": 19,
   "id": "30b05599-f99c-40fb-b225-6054e1e5d6b1",
   "metadata": {
    "execution": {
     "iopub.execute_input": "2021-10-05T15:44:30.625065Z",
     "iopub.status.busy": "2021-10-05T15:44:30.624627Z",
     "iopub.status.idle": "2021-10-05T15:44:30.640736Z",
     "shell.execute_reply": "2021-10-05T15:44:30.640324Z"
    }
   },
   "outputs": [
    {
     "data": {
      "text/html": [
       "<script src=\"https://cdnjs.cloudflare.com/ajax/libs/require.js/2.3.6/require.js\" integrity=\"sha512-vRqhAr2wsn+/cSsyz80psBbCcqzz2GTuhGk3bq3dAyytz4J/8XwFqMjiAGFBj+WM95lHBJ9cDf87T3P8yMrY7A==\" crossorigin=\"anonymous\" referrerpolicy=\"no-referrer\" id=\"script16084\" onload=\"loaded16084\"></script>\n",
       "<style>\n",
       ".la-flow ul {\n",
       "    margin-top:0;\n",
       "    list-style: none;\n",
       "    padding: 0;\n",
       "    padding-left: 10px !important;\n",
       "}\n",
       ".la-flow li {\n",
       "    padding-left: 10px;\n",
       "}\n",
       ".la-flow .instances li {\n",
       "    border-left: 1px dashed #ccc;\n",
       "}\n",
       ".la-flow .steps li {\n",
       "    border-left: 1px dotted #ccc;\n",
       "}\n",
       ".la-flow .soft {\n",
       "    opacity:0.5;\n",
       "}\n",
       "</style>\n",
       "\n",
       "<script>\n",
       "function loaded16084() {\n",
       "    require.config({\n",
       "    paths: {\n",
       "        'fontawesome': 'https://kit.fontawesome.com/77f7a120e4.js'\n",
       "    }\n",
       "    })\n",
       "\n",
       "    require(['fontawesome'], function (fontawesome) {\n",
       "    console.log('Congrats, Font Awesome is installed using Require.js')\n",
       "    })\n",
       "}\n",
       "</script>\n",
       "\n",
       "\n",
       "\n",
       "        <div class='la-flow'><strong>model</strong> <span class='soft'>(__main__.Model)</span><ul class='instances'><li><i class='fas fa-check-square' style='color:#2ECC40;' title='available and persistent'></i> dataset <span class='soft'>(FlowLink)</span> → dataset</li></ul><ul class='steps'></ul>"
      ],
      "text/plain": [
       "<__main__.Model at 0x7ff0851dfbb0>"
      ]
     },
     "execution_count": 19,
     "metadata": {},
     "output_type": "execute_result"
    }
   ],
   "source": [
    "model"
   ]
  },
  {
   "cell_type": "markdown",
   "id": "31dcb434-4a68-4a52-950e-1677d645d25a",
   "metadata": {},
   "source": [
    "The dataset is now linked to the model, and we can access it as follows:"
   ]
  },
  {
   "cell_type": "code",
   "execution_count": 20,
   "id": "caa3b4be-bf08-4a27-9cc9-0ba7efcd8bac",
   "metadata": {
    "execution": {
     "iopub.execute_input": "2021-10-05T15:44:30.643100Z",
     "iopub.status.busy": "2021-10-05T15:44:30.642664Z",
     "iopub.status.idle": "2021-10-05T15:44:30.662681Z",
     "shell.execute_reply": "2021-10-05T15:44:30.662279Z"
    }
   },
   "outputs": [
    {
     "data": {
      "text/html": [
       "<script src=\"https://cdnjs.cloudflare.com/ajax/libs/require.js/2.3.6/require.js\" integrity=\"sha512-vRqhAr2wsn+/cSsyz80psBbCcqzz2GTuhGk3bq3dAyytz4J/8XwFqMjiAGFBj+WM95lHBJ9cDf87T3P8yMrY7A==\" crossorigin=\"anonymous\" referrerpolicy=\"no-referrer\" id=\"script19061\" onload=\"loaded19061\"></script>\n",
       "<style>\n",
       ".la-flow ul {\n",
       "    margin-top:0;\n",
       "    list-style: none;\n",
       "    padding: 0;\n",
       "    padding-left: 10px !important;\n",
       "}\n",
       ".la-flow li {\n",
       "    padding-left: 10px;\n",
       "}\n",
       ".la-flow .instances li {\n",
       "    border-left: 1px dashed #ccc;\n",
       "}\n",
       ".la-flow .steps li {\n",
       "    border-left: 1px dotted #ccc;\n",
       "}\n",
       ".la-flow .soft {\n",
       "    opacity:0.5;\n",
       "}\n",
       "</style>\n",
       "\n",
       "<script>\n",
       "function loaded19061() {\n",
       "    require.config({\n",
       "    paths: {\n",
       "        'fontawesome': 'https://kit.fontawesome.com/77f7a120e4.js'\n",
       "    }\n",
       "    })\n",
       "\n",
       "    require(['fontawesome'], function (fontawesome) {\n",
       "    console.log('Congrats, Font Awesome is installed using Require.js')\n",
       "    })\n",
       "}\n",
       "</script>\n",
       "\n",
       "\n",
       "\n",
       "        <div class='la-flow'><strong>dataset</strong> <span class='soft'>(__main__.Dataset)</span><ul class='instances'><li><i class='fas fa-check-square' style='color:#2ECC40;' title='available and persistent'></i> basic_umap <span class='soft'>(Figure)</span></li><li><i class='fas fa-check-square' style='color:#2ECC40;' title='available and persistent'></i> adata <span class='soft'>(Py)</span></li></ul><ul class='steps'></ul>"
      ],
      "text/plain": [
       "<__main__.Dataset at 0x7ff2dca88e20>"
      ]
     },
     "execution_count": 20,
     "metadata": {},
     "output_type": "execute_result"
    }
   ],
   "source": [
    "model.dataset"
   ]
  },
  {
   "cell_type": "markdown",
   "id": "38de3791-6cbb-45e8-9e85-b5154281d8ed",
   "metadata": {},
   "source": [
    "This can stack indefintely. On disk, the link to the dataset is stored as a symbolic link:"
   ]
  },
  {
   "cell_type": "code",
   "execution_count": 21,
   "id": "3ec2e269-37a2-4824-b275-4671ae96e7e8",
   "metadata": {
    "execution": {
     "iopub.execute_input": "2021-10-05T15:44:30.665207Z",
     "iopub.status.busy": "2021-10-05T15:44:30.664769Z",
     "iopub.status.idle": "2021-10-05T15:44:30.866753Z",
     "shell.execute_reply": "2021-10-05T15:44:30.867124Z"
    }
   },
   "outputs": [
    {
     "name": "stdout",
     "output_type": "stream",
     "text": [
      "16K\r\n",
      "2 wsaelens 4.0K Oct  5 17:44 \u001b[0m\u001b[01;34m.\u001b[0m\r\n",
      "4 wsaelens 4.0K Oct  5 17:44 \u001b[01;34m..\u001b[0m\r\n",
      "1 wsaelens   24 Oct  5 17:44 \u001b[01;36mdataset\u001b[0m -> \u001b[01;34m/tmp/tmp829fg2i4/dataset\u001b[0m\r\n",
      "1 wsaelens   97 Oct  5 17:44 dataset.info\r\n",
      "1 wsaelens   40 Oct  5 17:44 .flow\r\n"
     ]
    }
   ],
   "source": [
    "!ls -lhaG --color=always {model.path} | sed -re 's/^[^ ]* //'"
   ]
  },
  {
   "cell_type": "markdown",
   "id": "38929360-2c53-4577-be41-1a96d88ecc68",
   "metadata": {},
   "source": [
    "## Building workflows"
   ]
  },
  {
   "cell_type": "markdown",
   "id": "b687691d-6604-494e-ac8e-21e60fed0720",
   "metadata": {},
   "source": [
    "We learned how to define and assign objects in a flow, but to create workflows we also need to define how those objects are created and how they depend on each other. We do this by defining functions inside the Flow class that are decorated by {class}`~laflow.Step`. This decorator allows you to specify where each input is coming from, and which outputs are produced by the step.\n",
    "\n",
    "For example, to write a step that creates the initial model (before we inferred the parameters), we would do the following:"
   ]
  },
  {
   "cell_type": "code",
   "execution_count": 22,
   "id": "99b51a24-93e2-44f1-bc66-eca3d3f417ae",
   "metadata": {
    "execution": {
     "iopub.execute_input": "2021-10-05T15:44:30.873063Z",
     "iopub.status.busy": "2021-10-05T15:44:30.872579Z",
     "iopub.status.idle": "2021-10-05T15:44:30.890649Z",
     "shell.execute_reply": "2021-10-05T15:44:30.890171Z"
    }
   },
   "outputs": [],
   "source": [
    "class LinearModel(laf.Flow):\n",
    "    # sets the default name\n",
    "    default_name = \"linear\"\n",
    "\n",
    "    # lets the flow know that it can contain a link to another flow called dataset\n",
    "    dataset = laf.FlowObj()\n",
    "\n",
    "    # lets the flow know that it can expect a model_initial object, that is not persistent\n",
    "    model_initial = laf.LatentaObj(persistent=False)\n",
    "\n",
    "    # creates a particular step, that expects adata as input, and that outputs model_initial\n",
    "    # note that our function not only expects \"output\" as an argument\n",
    "    # this object should be used to store the outputs\n",
    "    @laf.Step(\n",
    "        laf.Inputs(adata = dataset.adata),\n",
    "        laf.Outputs(model_initial)\n",
    "    )\n",
    "    def create_model(self, output, adata):\n",
    "        # define the model as before\n",
    "        overexpression = la.Fixed(\n",
    "            adata.obs[\"log_overexpression\"], label=\"overexpression\"\n",
    "        )\n",
    "        transcriptome = lac.transcriptome.Transcriptome.from_adata(adata)\n",
    "        foldchange = transcriptome.find(\"foldchange\")\n",
    "\n",
    "        foldchange.overexpression = la.links.scalar.Constant(\n",
    "            overexpression, definition=foldchange.value_definition\n",
    "        )\n",
    "        \n",
    "        # apart from each input, the step function will also receive an output object\n",
    "        # you should put any expected outputs in this object either by assigning it \n",
    "        # or by using the update function\n",
    "        return output.update(model_initial = transcriptome)"
   ]
  },
  {
   "cell_type": "markdown",
   "id": "2a08144b-8af5-4996-b655-89ba1c5b7e6b",
   "metadata": {},
   "source": [
    "Apart from all inputs, your function will also receive a special `output` object in which you can store all the outputs that are produced. These will then be saved for you."
   ]
  },
  {
   "cell_type": "code",
   "execution_count": 23,
   "id": "6abca9b5-9279-4c2e-a174-09a326a9ccae",
   "metadata": {
    "execution": {
     "iopub.execute_input": "2021-10-05T15:44:30.893059Z",
     "iopub.status.busy": "2021-10-05T15:44:30.892597Z",
     "iopub.status.idle": "2021-10-05T15:44:30.907820Z",
     "shell.execute_reply": "2021-10-05T15:44:30.907412Z"
    }
   },
   "outputs": [],
   "source": [
    "model = LinearModel(dataset = dataset)"
   ]
  },
  {
   "cell_type": "code",
   "execution_count": 24,
   "id": "364026a5-25bc-4d5c-b7dd-e83136593e3b",
   "metadata": {
    "execution": {
     "iopub.execute_input": "2021-10-05T15:44:30.910011Z",
     "iopub.status.busy": "2021-10-05T15:44:30.909647Z",
     "iopub.status.idle": "2021-10-05T15:44:30.930041Z",
     "shell.execute_reply": "2021-10-05T15:44:30.929695Z"
    }
   },
   "outputs": [
    {
     "data": {
      "text/html": [
       "<script src=\"https://cdnjs.cloudflare.com/ajax/libs/require.js/2.3.6/require.js\" integrity=\"sha512-vRqhAr2wsn+/cSsyz80psBbCcqzz2GTuhGk3bq3dAyytz4J/8XwFqMjiAGFBj+WM95lHBJ9cDf87T3P8yMrY7A==\" crossorigin=\"anonymous\" referrerpolicy=\"no-referrer\" id=\"script2897\" onload=\"loaded2897\"></script>\n",
       "<style>\n",
       ".la-flow ul {\n",
       "    margin-top:0;\n",
       "    list-style: none;\n",
       "    padding: 0;\n",
       "    padding-left: 10px !important;\n",
       "}\n",
       ".la-flow li {\n",
       "    padding-left: 10px;\n",
       "}\n",
       ".la-flow .instances li {\n",
       "    border-left: 1px dashed #ccc;\n",
       "}\n",
       ".la-flow .steps li {\n",
       "    border-left: 1px dotted #ccc;\n",
       "}\n",
       ".la-flow .soft {\n",
       "    opacity:0.5;\n",
       "}\n",
       "</style>\n",
       "\n",
       "<script>\n",
       "function loaded2897() {\n",
       "    require.config({\n",
       "    paths: {\n",
       "        'fontawesome': 'https://kit.fontawesome.com/77f7a120e4.js'\n",
       "    }\n",
       "    })\n",
       "\n",
       "    require(['fontawesome'], function (fontawesome) {\n",
       "    console.log('Congrats, Font Awesome is installed using Require.js')\n",
       "    })\n",
       "}\n",
       "</script>\n",
       "\n",
       "\n",
       "\n",
       "        <div class='la-flow'><strong>linear</strong> <span class='soft'>(__main__.LinearModel)</span><ul class='instances'><li><i class='fas fa-check-square' style='color:#2ECC40;' title='available and persistent'></i> dataset <span class='soft'>(FlowLink)</span> → dataset</li><li><i class='fas fa-minus' style='color:#FF4136;' title='unavailable'></i> model_initial <span class='soft'>(Latenta)</span></li></ul><ul class='steps'><li>create_model → model_initial</li></ul>"
      ],
      "text/plain": [
       "<__main__.LinearModel at 0x7ff0857d23a0>"
      ]
     },
     "execution_count": 24,
     "metadata": {},
     "output_type": "execute_result"
    }
   ],
   "source": [
    "model"
   ]
  },
  {
   "cell_type": "code",
   "execution_count": 25,
   "id": "461c7a1b-a6fc-41ca-b1ce-7d38dceb091b",
   "metadata": {
    "execution": {
     "iopub.execute_input": "2021-10-05T15:44:30.932260Z",
     "iopub.status.busy": "2021-10-05T15:44:30.931911Z",
     "iopub.status.idle": "2021-10-05T15:44:31.039906Z",
     "shell.execute_reply": "2021-10-05T15:44:31.039452Z"
    }
   },
   "outputs": [
    {
     "name": "stdout",
     "output_type": "stream",
     "text": [
      "▶️ | linear/create_model                                                                                 \n"
     ]
    },
    {
     "name": "stdout",
     "output_type": "stream",
     "text": [
      "✅ | linear/create_model                                                                                 \n"
     ]
    }
   ],
   "source": [
    "model.create_model()"
   ]
  },
  {
   "cell_type": "markdown",
   "id": "2302695c-e3c4-4603-93a6-63260c894be3",
   "metadata": {},
   "source": [
    "In real use cases, we will typically store our workflows in a separate file so that they are easier to maintain. A full linear regression workflow, that includes inference and interpretation, is contained in the `basic_workflow.py` file:"
   ]
  },
  {
   "cell_type": "code",
   "execution_count": 26,
   "id": "6a694170-bb5b-4ffe-b6e5-ac1a6ceec0ca",
   "metadata": {
    "execution": {
     "iopub.execute_input": "2021-10-05T15:44:31.043171Z",
     "iopub.status.busy": "2021-10-05T15:44:31.042693Z",
     "iopub.status.idle": "2021-10-05T15:44:31.062456Z",
     "shell.execute_reply": "2021-10-05T15:44:31.062822Z"
    },
    "tags": [
     "remove-output",
     "remove-input"
    ]
   },
   "outputs": [],
   "source": [
    "basic_workflow_text = \"\"\"\n",
    "import laflow as laf\n",
    "import latenta as la\n",
    "import lacell as lac\n",
    "\n",
    "class LinearModel(laf.Flow):\n",
    "    # sets the default name\n",
    "    default_name = \"linear\"\n",
    "\n",
    "    # lets the flow know that it can contain a link to another flow called dataset\n",
    "    dataset = laf.FlowObj()\n",
    "\n",
    "    # lets the flow know that it can expect a model_initial object, that is not persistent\n",
    "    model_initial = laf.LatentaObj(persistent=False)\n",
    "\n",
    "    # creates a particular step, that expects adata as input, and that outputs model initial\n",
    "    # note the way we access the adata from the dataset object\n",
    "    @laf.Step(\n",
    "        laf.Inputs(adata = dataset.adata),\n",
    "        laf.Outputs(model_initial)\n",
    "    )\n",
    "    def create_model(self, output, adata):\n",
    "        # define the model as before\n",
    "        overexpression = la.Fixed(\n",
    "            adata.obs[\"log_overexpression\"], label=\"overexpression\"\n",
    "        )\n",
    "        transcriptome = lac.transcriptome.Transcriptome.from_adata(adata)\n",
    "        foldchange = transcriptome.find(\"foldchange\")\n",
    "\n",
    "        foldchange.overexpression = la.links.scalar.Linear(\n",
    "            overexpression, a = True, definition=foldchange.value_definition\n",
    "        )\n",
    "        \n",
    "        # apart from each input, the step function will also receive an output object\n",
    "        # you should put any expected outputs in this object either by assigning it \n",
    "        # or by using the update function\n",
    "        return output.update(model_initial = transcriptome)\n",
    "\n",
    "    # the (final) model is persistent by default\n",
    "    model = laf.LatentaObj()\n",
    "    \n",
    "    # another step, that receives the model_initial as input, and outputs the model\n",
    "    @laf.Step(\n",
    "        laf.Inputs(model_initial),\n",
    "        laf.Outputs(model)\n",
    "    )\n",
    "    def infer_model(self, output, model_initial):\n",
    "        # infer the model as before\n",
    "        # we first clone the model_initial so that we do not overwrite it\n",
    "        model = model_initial.clone()\n",
    "        with model.switch(la.config.device):\n",
    "            inference = la.infer.svi.SVI(\n",
    "                model, [la.infer.loss.ELBO()], la.infer.optim.Adam(lr=5e-2)\n",
    "            )\n",
    "            trainer = la.infer.trainer.Trainer(inference)\n",
    "            trace = trainer.train(10000)\n",
    "\n",
    "        return output.update(model = model)\n",
    "\n",
    "    # define our three posteriors, each one with a \"db\" argument\n",
    "    # this will make sure that any model objects are not stored in the posterior,\n",
    "    # but are rather extracted each time from the model object as defined earlier\n",
    "    transcriptome_observed = laf.LatentaObj(db = {model})\n",
    "    overexpression_observed = laf.LatentaObj(db = {model})\n",
    "    overexpression_causal = laf.LatentaObj(db = {model})\n",
    "    \n",
    "    @laf.Step(\n",
    "        laf.Inputs(model),\n",
    "        laf.Outputs(transcriptome_observed, overexpression_observed, overexpression_causal)\n",
    "    )\n",
    "    def interpret(self, output, model):\n",
    "        transcriptome_observed = la.posterior.vector.VectorObserved(model)\n",
    "        transcriptome_observed.sample(5)\n",
    "        output.transcriptome_observed = transcriptome_observed\n",
    "\n",
    "        overexpression = model.find(\"overexpression\")\n",
    "\n",
    "        overexpression_observed = la.posterior.scalar.ScalarObserved(overexpression)\n",
    "        overexpression_observed.sample(5)\n",
    "        output.overexpression_observed = overexpression_observed\n",
    "\n",
    "        overexpression_causal = la.posterior.scalar.ScalarVectorCausal(\n",
    "            overexpression,\n",
    "            model,\n",
    "            interpretable=model.p.mu.expression,\n",
    "            observed=overexpression_observed,\n",
    "        )\n",
    "        overexpression_causal.sample(10)\n",
    "        overexpression_causal.sample_random(10)\n",
    "        overexpression_causal.observed\n",
    "        overexpression_causal.sample_empirical()\n",
    "        output.overexpression_causal = overexpression_causal\n",
    "        \n",
    "        return output\n",
    "\"\"\"\n",
    "with open(\"./basic_workflow.py\", \"w\") as f:\n",
    "    f.write(basic_workflow_text)"
   ]
  },
  {
   "cell_type": "code",
   "execution_count": 27,
   "id": "0802a130-ae81-447e-9d71-c48aab5d475c",
   "metadata": {
    "execution": {
     "iopub.execute_input": "2021-10-05T15:44:31.065091Z",
     "iopub.status.busy": "2021-10-05T15:44:31.064651Z",
     "iopub.status.idle": "2021-10-05T15:44:31.403961Z",
     "shell.execute_reply": "2021-10-05T15:44:31.403493Z"
    },
    "tags": [
     "remove-input",
     "remove-output"
    ]
   },
   "outputs": [
    {
     "data": {
      "application/papermill.record/text/markdown": "```python\n\nimport laflow as laf\nimport latenta as la\nimport lacell as lac\n\nclass LinearModel(laf.Flow):\n    # sets the default name\n    default_name = \"linear\"\n\n    # lets the flow know that it can contain a link to another flow called dataset\n    dataset = laf.FlowObj()\n\n    # lets the flow know that it can expect a model_initial object, that is not persistent\n    model_initial = laf.LatentaObj(persistent=False)\n\n    # creates a particular step, that expects adata as input, and that outputs model initial\n    # note the way we access the adata from the dataset object\n    @laf.Step(\n        laf.Inputs(adata = dataset.adata),\n        laf.Outputs(model_initial)\n    )\n    def create_model(self, output, adata):\n        # define the model as before\n        overexpression = la.Fixed(\n            adata.obs[\"log_overexpression\"], label=\"overexpression\"\n        )\n        transcriptome = lac.transcriptome.Transcriptome.from_adata(adata)\n        foldchange = transcriptome.find(\"foldchange\")\n\n        foldchange.overexpression = la.links.scalar.Linear(\n            overexpression, a = True, definition=foldchange.value_definition\n        )\n        \n        # apart from each input, the step function will also receive an output object\n        # you should put any expected outputs in this object either by assigning it \n        # or by using the update function\n        return output.update(model_initial = transcriptome)\n\n    # the (final) model is persistent by default\n    model = laf.LatentaObj()\n    \n    # another step, that receives the model_initial as input, and outputs the model\n    @laf.Step(\n        laf.Inputs(model_initial),\n        laf.Outputs(model)\n    )\n    def infer_model(self, output, model_initial):\n        # infer the model as before\n        # we first clone the model_initial so that we do not overwrite it\n        model = model_initial.clone()\n        with model.switch(la.config.device):\n            inference = la.infer.svi.SVI(\n                model, [la.infer.loss.ELBO()], la.infer.optim.Adam(lr=5e-2)\n            )\n            trainer = la.infer.trainer.Trainer(inference)\n            trace = trainer.train(10000)\n\n        return output.update(model = model)\n\n    # define our three posteriors, each one with a \"db\" argument\n    # this will make sure that any model objects are not stored in the posterior,\n    # but are rather extracted each time from the model object as defined earlier\n    transcriptome_observed = laf.LatentaObj(db = {model})\n    overexpression_observed = laf.LatentaObj(db = {model})\n    overexpression_causal = laf.LatentaObj(db = {model})\n    \n    @laf.Step(\n        laf.Inputs(model),\n        laf.Outputs(transcriptome_observed, overexpression_observed, overexpression_causal)\n    )\n    def interpret(self, output, model):\n        transcriptome_observed = la.posterior.vector.VectorObserved(model)\n        transcriptome_observed.sample(5)\n        output.transcriptome_observed = transcriptome_observed\n\n        overexpression = model.find(\"overexpression\")\n\n        overexpression_observed = la.posterior.scalar.ScalarObserved(overexpression)\n        overexpression_observed.sample(5)\n        output.overexpression_observed = overexpression_observed\n\n        overexpression_causal = la.posterior.scalar.ScalarVectorCausal(\n            overexpression,\n            model,\n            interpretable=model.p.mu.expression,\n            observed=overexpression_observed,\n        )\n        overexpression_causal.sample(10)\n        overexpression_causal.sample_random(10)\n        overexpression_causal.observed\n        overexpression_causal.sample_empirical()\n        output.overexpression_causal = overexpression_causal\n        \n        return output\n\n```",
      "application/papermill.record/text/plain": "<IPython.core.display.Markdown object>"
     },
     "metadata": {
      "scrapbook": {
       "mime_prefix": "application/papermill.record/",
       "name": "basic_workflow_1"
      }
     },
     "output_type": "display_data"
    }
   ],
   "source": [
    "text = open(\"./basic_workflow.py\").read()\n",
    "from myst_nb import glue\n",
    "from IPython import display\n",
    "glue(\"basic_workflow_1\", display.Markdown(\"```python\\n\" + text + \"\\n```\"), display = False)"
   ]
  },
  {
   "cell_type": "markdown",
   "id": "5bec597d-fd67-4125-a011-9561bbf53b87",
   "metadata": {},
   "source": [
    "::::{dropdown} 📃 basic_workflow.py (1)\n",
    ":::{glue:} cool_text\n",
    ":::\n",
    "::::"
   ]
  },
  {
   "cell_type": "markdown",
   "id": "85d0deac-759e-4d51-8d0e-25ba80ebef47",
   "metadata": {},
   "source": [
    "Because this is a `.py` file, we can import it as a python module as follows:"
   ]
  },
  {
   "cell_type": "code",
   "execution_count": 28,
   "id": "82781805-b098-42ec-bf51-1f69814bf1c8",
   "metadata": {
    "execution": {
     "iopub.execute_input": "2021-10-05T15:44:31.408604Z",
     "iopub.status.busy": "2021-10-05T15:44:31.408142Z",
     "iopub.status.idle": "2021-10-05T15:44:31.432375Z",
     "shell.execute_reply": "2021-10-05T15:44:31.432058Z"
    }
   },
   "outputs": [],
   "source": [
    "import basic_workflow"
   ]
  },
  {
   "cell_type": "code",
   "execution_count": 29,
   "id": "4aa1ad49-c247-486a-9ab7-5df78e73c7de",
   "metadata": {
    "execution": {
     "iopub.execute_input": "2021-10-05T15:44:31.434609Z",
     "iopub.status.busy": "2021-10-05T15:44:31.434238Z",
     "iopub.status.idle": "2021-10-05T15:44:31.455565Z",
     "shell.execute_reply": "2021-10-05T15:44:31.455132Z"
    }
   },
   "outputs": [
    {
     "data": {
      "text/html": [
       "<script src=\"https://cdnjs.cloudflare.com/ajax/libs/require.js/2.3.6/require.js\" integrity=\"sha512-vRqhAr2wsn+/cSsyz80psBbCcqzz2GTuhGk3bq3dAyytz4J/8XwFqMjiAGFBj+WM95lHBJ9cDf87T3P8yMrY7A==\" crossorigin=\"anonymous\" referrerpolicy=\"no-referrer\" id=\"script35859\" onload=\"loaded35859\"></script>\n",
       "<style>\n",
       ".la-flow ul {\n",
       "    margin-top:0;\n",
       "    list-style: none;\n",
       "    padding: 0;\n",
       "    padding-left: 10px !important;\n",
       "}\n",
       ".la-flow li {\n",
       "    padding-left: 10px;\n",
       "}\n",
       ".la-flow .instances li {\n",
       "    border-left: 1px dashed #ccc;\n",
       "}\n",
       ".la-flow .steps li {\n",
       "    border-left: 1px dotted #ccc;\n",
       "}\n",
       ".la-flow .soft {\n",
       "    opacity:0.5;\n",
       "}\n",
       "</style>\n",
       "\n",
       "<script>\n",
       "function loaded35859() {\n",
       "    require.config({\n",
       "    paths: {\n",
       "        'fontawesome': 'https://kit.fontawesome.com/77f7a120e4.js'\n",
       "    }\n",
       "    })\n",
       "\n",
       "    require(['fontawesome'], function (fontawesome) {\n",
       "    console.log('Congrats, Font Awesome is installed using Require.js')\n",
       "    })\n",
       "}\n",
       "</script>\n",
       "\n",
       "\n",
       "\n",
       "        <div class='la-flow'><strong>linear</strong> <span class='soft'>(basic_workflow.LinearModel)</span><ul class='instances'><li><i class='fas fa-check-square' style='color:#2ECC40;' title='available and persistent'></i> dataset <span class='soft'>(FlowLink)</span> → linear/dataset</li><li><i class='fas fa-minus' style='color:#FF4136;' title='unavailable'></i> model_initial <span class='soft'>(Latenta)</span></li><li><i class='fas fa-minus' style='color:#FF4136;' title='unavailable'></i> model <span class='soft'>(Latenta)</span></li><li><i class='fas fa-minus' style='color:#FF4136;' title='unavailable'></i> transcriptome_observed <span class='soft'>(Latenta)</span></li><li><i class='fas fa-minus' style='color:#FF4136;' title='unavailable'></i> overexpression_observed <span class='soft'>(Latenta)</span></li><li><i class='fas fa-minus' style='color:#FF4136;' title='unavailable'></i> overexpression_causal <span class='soft'>(Latenta)</span></li></ul><ul class='steps'><li>create_model → model_initial</li><li>infer_model → model</li><li>interpret → transcriptome_observed, overexpression_observed, overexpression_causal</li></ul>"
      ],
      "text/plain": [
       "<basic_workflow.LinearModel at 0x7ff08515b610>"
      ]
     },
     "execution_count": 29,
     "metadata": {},
     "output_type": "execute_result"
    }
   ],
   "source": [
    "model = basic_workflow.LinearModel()\n",
    "model"
   ]
  },
  {
   "cell_type": "code",
   "execution_count": 30,
   "id": "8f8f6481-f4df-4036-806b-920b1b3e2967",
   "metadata": {
    "execution": {
     "iopub.execute_input": "2021-10-05T15:44:31.458012Z",
     "iopub.status.busy": "2021-10-05T15:44:31.457551Z",
     "iopub.status.idle": "2021-10-05T15:44:38.564527Z",
     "shell.execute_reply": "2021-10-05T15:44:38.564122Z"
    }
   },
   "outputs": [
    {
     "name": "stdout",
     "output_type": "stream",
     "text": [
      "▶️ | linear/create_model                                                                                 \n"
     ]
    },
    {
     "name": "stdout",
     "output_type": "stream",
     "text": [
      "✅ | linear/create_model                                                                                 \n"
     ]
    },
    {
     "name": "stdout",
     "output_type": "stream",
     "text": [
      "▶️ | linear/infer_model                                                                                  \n"
     ]
    },
    {
     "data": {
      "application/vnd.jupyter.widget-view+json": {
       "model_id": "44c848a8c7304adabb397ea6b6170d32",
       "version_major": 2,
       "version_minor": 0
      },
      "text/plain": [
       "  0%|                                                                                                         …"
      ]
     },
     "metadata": {},
     "output_type": "display_data"
    },
    {
     "name": "stdout",
     "output_type": "stream",
     "text": [
      "✅ | linear/infer_model                                                                                  \n"
     ]
    }
   ],
   "source": [
    "model.infer_model()"
   ]
  },
  {
   "cell_type": "code",
   "execution_count": 31,
   "id": "b6655373-1588-42dd-84fe-c2fb45c22611",
   "metadata": {
    "execution": {
     "iopub.execute_input": "2021-10-05T15:44:38.568365Z",
     "iopub.status.busy": "2021-10-05T15:44:38.568001Z",
     "iopub.status.idle": "2021-10-05T15:44:39.954380Z",
     "shell.execute_reply": "2021-10-05T15:44:39.954635Z"
    }
   },
   "outputs": [
    {
     "name": "stdout",
     "output_type": "stream",
     "text": [
      "▶️ | linear/interpret                                                                                    \n"
     ]
    },
    {
     "data": {
      "application/vnd.jupyter.widget-view+json": {
       "model_id": "37e349f74a5d46eda220c0b0a3f008c2",
       "version_major": 2,
       "version_minor": 0
      },
      "text/plain": [
       "  0%|          | 0/5 [00:00<?, ?it/s]"
      ]
     },
     "metadata": {},
     "output_type": "display_data"
    },
    {
     "data": {
      "application/vnd.jupyter.widget-view+json": {
       "model_id": "3fa101ea4f34467f9128895612b2e289",
       "version_major": 2,
       "version_minor": 0
      },
      "text/plain": [
       "  0%|          | 0/5 [00:00<?, ?it/s]"
      ]
     },
     "metadata": {},
     "output_type": "display_data"
    },
    {
     "data": {
      "application/vnd.jupyter.widget-view+json": {
       "model_id": "299f2f77287346e69abe718b3c692619",
       "version_major": 2,
       "version_minor": 0
      },
      "text/plain": [
       "  0%|          | 0/10 [00:00<?, ?it/s]"
      ]
     },
     "metadata": {},
     "output_type": "display_data"
    },
    {
     "data": {
      "application/vnd.jupyter.widget-view+json": {
       "model_id": "6aa71af31de248499efd8ca569244122",
       "version_major": 2,
       "version_minor": 0
      },
      "text/plain": [
       "  0%|          | 0/10 [00:00<?, ?it/s]"
      ]
     },
     "metadata": {},
     "output_type": "display_data"
    },
    {
     "name": "stdout",
     "output_type": "stream",
     "text": [
      "✅ | linear/interpret                                                                                    \n"
     ]
    }
   ],
   "source": [
    "model.interpret()"
   ]
  },
  {
   "cell_type": "code",
   "execution_count": 32,
   "id": "36c79305-c543-43e8-a18c-e7d7c69e9da6",
   "metadata": {
    "execution": {
     "iopub.execute_input": "2021-10-05T15:44:39.957669Z",
     "iopub.status.busy": "2021-10-05T15:44:39.957320Z",
     "iopub.status.idle": "2021-10-05T15:44:39.980377Z",
     "shell.execute_reply": "2021-10-05T15:44:39.980172Z"
    }
   },
   "outputs": [
    {
     "data": {
      "text/html": [
       "<script src=\"https://cdnjs.cloudflare.com/ajax/libs/require.js/2.3.6/require.js\" integrity=\"sha512-vRqhAr2wsn+/cSsyz80psBbCcqzz2GTuhGk3bq3dAyytz4J/8XwFqMjiAGFBj+WM95lHBJ9cDf87T3P8yMrY7A==\" crossorigin=\"anonymous\" referrerpolicy=\"no-referrer\" id=\"script33437\" onload=\"loaded33437\"></script>\n",
       "<style>\n",
       ".la-flow ul {\n",
       "    margin-top:0;\n",
       "    list-style: none;\n",
       "    padding: 0;\n",
       "    padding-left: 10px !important;\n",
       "}\n",
       ".la-flow li {\n",
       "    padding-left: 10px;\n",
       "}\n",
       ".la-flow .instances li {\n",
       "    border-left: 1px dashed #ccc;\n",
       "}\n",
       ".la-flow .steps li {\n",
       "    border-left: 1px dotted #ccc;\n",
       "}\n",
       ".la-flow .soft {\n",
       "    opacity:0.5;\n",
       "}\n",
       "</style>\n",
       "\n",
       "<script>\n",
       "function loaded33437() {\n",
       "    require.config({\n",
       "    paths: {\n",
       "        'fontawesome': 'https://kit.fontawesome.com/77f7a120e4.js'\n",
       "    }\n",
       "    })\n",
       "\n",
       "    require(['fontawesome'], function (fontawesome) {\n",
       "    console.log('Congrats, Font Awesome is installed using Require.js')\n",
       "    })\n",
       "}\n",
       "</script>\n",
       "\n",
       "\n",
       "\n",
       "        <div class='la-flow'><strong>linear</strong> <span class='soft'>(basic_workflow.LinearModel)</span><ul class='instances'><li><i class='fas fa-check-square' style='color:#2ECC40;' title='available and persistent'></i> dataset <span class='soft'>(FlowLink)</span> → linear/dataset</li><li><i class='fas fa-check' style='color:#2ECC40;' title='available but not persistent'></i> model_initial <span class='soft'>(Latenta)</span></li><li><i class='fas fa-check-square' style='color:#2ECC40;' title='available and persistent'></i> model <span class='soft'>(Latenta)</span></li><li><i class='fas fa-check-square' style='color:#2ECC40;' title='available and persistent'></i> transcriptome_observed <span class='soft'>(Latenta)</span></li><li><i class='fas fa-check-square' style='color:#2ECC40;' title='available and persistent'></i> overexpression_observed <span class='soft'>(Latenta)</span></li><li><i class='fas fa-check-square' style='color:#2ECC40;' title='available and persistent'></i> overexpression_causal <span class='soft'>(Latenta)</span></li></ul><ul class='steps'><li>create_model → model_initial</li><li>infer_model → model</li><li>interpret → transcriptome_observed, overexpression_observed, overexpression_causal</li></ul>"
      ],
      "text/plain": [
       "<basic_workflow.LinearModel at 0x7ff08515b610>"
      ]
     },
     "execution_count": 32,
     "metadata": {},
     "output_type": "execute_result"
    }
   ],
   "source": [
    "model"
   ]
  },
  {
   "cell_type": "code",
   "execution_count": 33,
   "id": "566e9332-48b4-4d95-8952-452ef61f533b",
   "metadata": {
    "execution": {
     "iopub.execute_input": "2021-10-05T15:44:39.982079Z",
     "iopub.status.busy": "2021-10-05T15:44:39.981846Z",
     "iopub.status.idle": "2021-10-05T15:44:40.672521Z",
     "shell.execute_reply": "2021-10-05T15:44:40.672721Z"
    }
   },
   "outputs": [
    {
     "data": {
      "image/png": "[encoded data removed]",
      "text/plain": [
       "<Figure size 1296x720 with 11 Axes>"
      ]
     },
     "metadata": {
      "needs_background": "light"
     },
     "output_type": "display_data"
    }
   ],
   "source": [
    "model.overexpression_causal.plot_features();"
   ]
  },
  {
   "cell_type": "markdown",
   "id": "3a478745-53a9-4add-9a18-aa683d368671",
   "metadata": {},
   "source": [
    "## Sharing and inheriting workflow steps"
   ]
  },
  {
   "cell_type": "markdown",
   "id": "3bb8fb58-f437-4296-bf33-63fbc4220d91",
   "metadata": {},
   "source": [
    "We defined a basic linear model, but what we actually want is to create many different models and infer/interpret them in the same way. We do this using inheritance: we first create the linear model by using `super().create_model_`, and then make the desired adaptations to the model:"
   ]
  },
  {
   "cell_type": "code",
   "execution_count": 34,
   "id": "dd7f070a-a005-4ab3-91e0-fb18b4137f59",
   "metadata": {
    "execution": {
     "iopub.execute_input": "2021-10-05T15:44:40.675696Z",
     "iopub.status.busy": "2021-10-05T15:44:40.675183Z",
     "iopub.status.idle": "2021-10-05T15:44:40.693878Z",
     "shell.execute_reply": "2021-10-05T15:44:40.693448Z"
    },
    "tags": [
     "remove-output",
     "remove-input"
    ]
   },
   "outputs": [],
   "source": [
    "extended_workflow_text = \"\"\"\n",
    "class ConstantModel(LinearModel):\n",
    "    # we change the default name, as to make sure this model is put in a different folder\n",
    "    default_name = \"constant\"\n",
    "\n",
    "    def create_model(self, output, adata):\n",
    "        # we can access the parent function by adding a \"_\" at the end\n",
    "        # without this, we would call the actual step itself, and not the user-defined function\n",
    "        output = super().create_model_(output, adata)\n",
    "        \n",
    "        # extract the model_initial from the output\n",
    "        model_initial = output.model_initial\n",
    "        \n",
    "        # now we can further adapt the model to our wishes\n",
    "        foldchange = model_initial.find(\"foldchange\")\n",
    "        overexpression = model_initial.find(\"overexpression\")\n",
    "\n",
    "        foldchange.overexpression = la.links.scalar.Constant(\n",
    "            overexpression, definition=foldchange.value_definition\n",
    "        )\n",
    "        \n",
    "        # again return the output\n",
    "        # because we only adapted the model inplace, we do not need to update the output\n",
    "        return output\n",
    "\n",
    "\n",
    "class SplineModel(LinearModel):\n",
    "    default_name = \"spline\"\n",
    "\n",
    "    def create_model(self, output, adata):\n",
    "        output = super().create_model_(output, adata)\n",
    "        \n",
    "        model_initial = output.model_initial\n",
    "\n",
    "        foldchange = model_initial.find(\"foldchange\")\n",
    "        overexpression = model_initial.find(\"overexpression\")\n",
    "\n",
    "        foldchange.overexpression = la.links.scalar.Spline(\n",
    "            overexpression, definition=foldchange.value_definition\n",
    "        )\n",
    "\n",
    "        return output\n",
    "\"\"\"\n",
    "with open(\"./basic_workflow.py\", \"a\") as f:\n",
    "    f.write(extended_workflow_text)"
   ]
  },
  {
   "cell_type": "code",
   "execution_count": 35,
   "id": "7339d7e6-84cf-491e-84b3-86272fb0ab3e",
   "metadata": {
    "execution": {
     "iopub.execute_input": "2021-10-05T15:44:40.696263Z",
     "iopub.status.busy": "2021-10-05T15:44:40.695782Z",
     "iopub.status.idle": "2021-10-05T15:44:40.745267Z",
     "shell.execute_reply": "2021-10-05T15:44:40.744845Z"
    },
    "tags": [
     "remove-input",
     "remove-output"
    ]
   },
   "outputs": [
    {
     "data": {
      "application/papermill.record/text/markdown": "```python\n\nclass ConstantModel(LinearModel):\n    # we change the default name, as to make sure this model is put in a different folder\n    default_name = \"constant\"\n\n    def create_model(self, output, adata):\n        # we can access the parent function by adding a \"_\" at the end\n        # without this, we would call the actual step itself, and not the user-defined function\n        output = super().create_model_(output, adata)\n        \n        # extract the model_initial from the output\n        model_initial = output.model_initial\n        \n        # now we can further adapt the model to our wishes\n        foldchange = model_initial.find(\"foldchange\")\n        overexpression = model_initial.find(\"overexpression\")\n\n        foldchange.overexpression = la.links.scalar.Constant(\n            overexpression, definition=foldchange.value_definition\n        )\n        \n        # again return the output\n        # because we only adapted the model inplace, we do not need to update the output\n        return output\n\n\nclass SplineModel(LinearModel):\n    default_name = \"spline\"\n\n    def create_model(self, output, adata):\n        output = super().create_model_(output, adata)\n        \n        model_initial = output.model_initial\n\n        foldchange = model_initial.find(\"foldchange\")\n        overexpression = model_initial.find(\"overexpression\")\n\n        foldchange.overexpression = la.links.scalar.Spline(\n            overexpression, definition=foldchange.value_definition\n        )\n\n        return output\n\n```",
      "application/papermill.record/text/plain": "<IPython.core.display.Markdown object>"
     },
     "metadata": {
      "scrapbook": {
       "mime_prefix": "application/papermill.record/",
       "name": "basic_workflow_2"
      }
     },
     "output_type": "display_data"
    }
   ],
   "source": [
    "# glue the \n",
    "text = extended_workflow_text\n",
    "glue(\"basic_workflow_2\", display.Markdown(\"```python\\n\" + text + \"\\n```\"), display = False)"
   ]
  },
  {
   "cell_type": "markdown",
   "id": "1f88fd78-683c-4ed4-b7bf-c50ef36889da",
   "metadata": {},
   "source": [
    "::::{dropdown} 📃 basic_workflow.py (2)\n",
    ":::{glue:} cool_text\n",
    ":::\n",
    "::::"
   ]
  },
  {
   "cell_type": "code",
   "execution_count": 36,
   "id": "62ede4b6-a326-4078-87cc-69cd5dc045e8",
   "metadata": {
    "execution": {
     "iopub.execute_input": "2021-10-05T15:44:40.748069Z",
     "iopub.status.busy": "2021-10-05T15:44:40.747586Z",
     "iopub.status.idle": "2021-10-05T15:44:46.524797Z",
     "shell.execute_reply": "2021-10-05T15:44:46.524427Z"
    }
   },
   "outputs": [
    {
     "name": "stdout",
     "output_type": "stream",
     "text": [
      "▶️ | constant/create_model                                                                               \n"
     ]
    },
    {
     "name": "stdout",
     "output_type": "stream",
     "text": [
      "✅ | constant/create_model                                                                               \n"
     ]
    },
    {
     "name": "stdout",
     "output_type": "stream",
     "text": [
      "▶️ | constant/infer_model                                                                                \n"
     ]
    },
    {
     "data": {
      "application/vnd.jupyter.widget-view+json": {
       "model_id": "42dab974c5d5466fa1ab142c83b52852",
       "version_major": 2,
       "version_minor": 0
      },
      "text/plain": [
       "  0%|                                                                                                         …"
      ]
     },
     "metadata": {},
     "output_type": "display_data"
    },
    {
     "name": "stdout",
     "output_type": "stream",
     "text": [
      "✅ | constant/infer_model                                                                                \n"
     ]
    },
    {
     "name": "stdout",
     "output_type": "stream",
     "text": [
      "▶️ | constant/interpret                                                                                  \n"
     ]
    },
    {
     "data": {
      "application/vnd.jupyter.widget-view+json": {
       "model_id": "e49800cff780447989ba1d530480aed0",
       "version_major": 2,
       "version_minor": 0
      },
      "text/plain": [
       "  0%|          | 0/5 [00:00<?, ?it/s]"
      ]
     },
     "metadata": {},
     "output_type": "display_data"
    },
    {
     "data": {
      "application/vnd.jupyter.widget-view+json": {
       "model_id": "e211fdec7f0d4fd395066e0acea06af6",
       "version_major": 2,
       "version_minor": 0
      },
      "text/plain": [
       "  0%|          | 0/5 [00:00<?, ?it/s]"
      ]
     },
     "metadata": {},
     "output_type": "display_data"
    },
    {
     "data": {
      "application/vnd.jupyter.widget-view+json": {
       "model_id": "fa1c69effe71487b936fdd62fe3f87b0",
       "version_major": 2,
       "version_minor": 0
      },
      "text/plain": [
       "  0%|          | 0/10 [00:00<?, ?it/s]"
      ]
     },
     "metadata": {},
     "output_type": "display_data"
    },
    {
     "data": {
      "application/vnd.jupyter.widget-view+json": {
       "model_id": "e600f47bde69456f830d022c228b0210",
       "version_major": 2,
       "version_minor": 0
      },
      "text/plain": [
       "  0%|          | 0/10 [00:00<?, ?it/s]"
      ]
     },
     "metadata": {},
     "output_type": "display_data"
    },
    {
     "name": "stdout",
     "output_type": "stream",
     "text": [
      "✅ | constant/interpret                                                                                  \n"
     ]
    }
   ],
   "source": [
    "model = basic_workflow.ConstantModel(dataset=dataset)\n",
    "model.create_model()\n",
    "model.infer_model()\n",
    "model.interpret()"
   ]
  },
  {
   "cell_type": "code",
   "execution_count": 37,
   "id": "50b1aa5a-cfb9-431d-bfee-2f3ccd5c9d9a",
   "metadata": {
    "execution": {
     "iopub.execute_input": "2021-10-05T15:44:46.528164Z",
     "iopub.status.busy": "2021-10-05T15:44:46.527819Z",
     "iopub.status.idle": "2021-10-05T15:44:52.717603Z",
     "shell.execute_reply": "2021-10-05T15:44:52.717186Z"
    }
   },
   "outputs": [
    {
     "name": "stdout",
     "output_type": "stream",
     "text": [
      "▶️ | spline/create_model                                                                                 \n"
     ]
    },
    {
     "name": "stdout",
     "output_type": "stream",
     "text": [
      "✅ | spline/create_model                                                                                 \n"
     ]
    },
    {
     "name": "stdout",
     "output_type": "stream",
     "text": [
      "▶️ | spline/infer_model                                                                                  \n"
     ]
    },
    {
     "data": {
      "application/vnd.jupyter.widget-view+json": {
       "model_id": "fac9d0195c85428998ce67f4b15555bb",
       "version_major": 2,
       "version_minor": 0
      },
      "text/plain": [
       "  0%|                                                                                                         …"
      ]
     },
     "metadata": {},
     "output_type": "display_data"
    },
    {
     "name": "stdout",
     "output_type": "stream",
     "text": [
      "✅ | spline/infer_model                                                                                  \n"
     ]
    },
    {
     "name": "stdout",
     "output_type": "stream",
     "text": [
      "▶️ | spline/interpret                                                                                    \n"
     ]
    },
    {
     "data": {
      "application/vnd.jupyter.widget-view+json": {
       "model_id": "d659cd342bba4587ade6380a22d24709",
       "version_major": 2,
       "version_minor": 0
      },
      "text/plain": [
       "  0%|          | 0/5 [00:00<?, ?it/s]"
      ]
     },
     "metadata": {},
     "output_type": "display_data"
    },
    {
     "data": {
      "application/vnd.jupyter.widget-view+json": {
       "model_id": "e98eb60e866b4773945df2a2cf751d1b",
       "version_major": 2,
       "version_minor": 0
      },
      "text/plain": [
       "  0%|          | 0/5 [00:00<?, ?it/s]"
      ]
     },
     "metadata": {},
     "output_type": "display_data"
    },
    {
     "data": {
      "application/vnd.jupyter.widget-view+json": {
       "model_id": "797a4443e9ae4886b0d836dd1c645b9c",
       "version_major": 2,
       "version_minor": 0
      },
      "text/plain": [
       "  0%|          | 0/10 [00:00<?, ?it/s]"
      ]
     },
     "metadata": {},
     "output_type": "display_data"
    },
    {
     "data": {
      "application/vnd.jupyter.widget-view+json": {
       "model_id": "196deef0d34349289da0f4f7368540ba",
       "version_major": 2,
       "version_minor": 0
      },
      "text/plain": [
       "  0%|          | 0/10 [00:00<?, ?it/s]"
      ]
     },
     "metadata": {},
     "output_type": "display_data"
    },
    {
     "name": "stdout",
     "output_type": "stream",
     "text": [
      "✅ | spline/interpret                                                                                    \n"
     ]
    }
   ],
   "source": [
    "model = basic_workflow.SplineModel(dataset=dataset)\n",
    "model.create_model()\n",
    "model.infer_model()\n",
    "model.interpret()"
   ]
  },
  {
   "cell_type": "code",
   "execution_count": null,
   "id": "945122c9-8660-405d-a624-72b08bd1ea39",
   "metadata": {},
   "outputs": [],
   "source": []
  }
 ],
 "metadata": {
  "jupytext": {
   "encoding": "# -*- coding: utf-8 -*-",
   "formats": "ipynb,py:percent"
  },
  "kernelspec": {
   "display_name": "Python 3 (ipykernel)",
   "language": "python",
   "name": "python3"
  },
  "language_info": {
   "codemirror_mode": {
    "name": "ipython",
    "version": 3
   },
   "file_extension": ".py",
   "mimetype": "text/x-python",
   "name": "python",
   "nbconvert_exporter": "python",
   "pygments_lexer": "ipython3",
   "version": "3.8.10"
  },
  "widgets": {
   "application/vnd.jupyter.widget-state+json": {
    "state": {
     "00a890b41bdb4c3db8b3eb36eabf6566": {
      "model_module": "@jupyter-widgets/controls",
      "model_module_version": "1.5.0",
      "model_name": "FloatProgressModel",
      "state": {
       "_dom_classes": [],
       "_model_module": "@jupyter-widgets/controls",
       "_model_module_version": "1.5.0",
       "_model_name": "FloatProgressModel",
       "_view_count": null,
       "_view_module": "@jupyter-widgets/controls",
       "_view_module_version": "1.5.0",
       "_view_name": "ProgressView",
       "bar_style": "success",
       "description": "",
       "description_tooltip": null,
       "layout": "IPY_MODEL_c22b4a94dc19481b9dce07e3cf7ecf1d",
       "max": 10.0,
       "min": 0.0,
       "orientation": "horizontal",
       "style": "IPY_MODEL_c86d5336a6e14ed99325664fd565a8b6",
       "value": 10.0
      }
     },
     "021eddebce284e0bb980c44dcb9b247b": {
      "model_module": "@jupyter-widgets/controls",
      "model_module_version": "1.5.0",
      "model_name": "HTMLModel",
      "state": {
       "_dom_classes": [],
       "_model_module": "@jupyter-widgets/controls",
       "_model_module_version": "1.5.0",
       "_model_name": "HTMLModel",
       "_view_count": null,
       "_view_module": "@jupyter-widgets/controls",
       "_view_module_version": "1.5.0",
       "_view_name": "HTMLView",
       "description": "",
       "description_tooltip": null,
       "layout": "IPY_MODEL_8faa264db7804348bef682cf6a64340a",
       "placeholder": "​",
       "style": "IPY_MODEL_341dedcc7d584c9e8d4974f3c84a4faf",
       "value": "100%"
      }
     },
     "085bba904c374f929c4832cc4f14cd97": {
      "model_module": "@jupyter-widgets/base",
      "model_module_version": "1.2.0",
      "model_name": "LayoutModel",
      "state": {
       "_model_module": "@jupyter-widgets/base",
       "_model_module_version": "1.2.0",
       "_model_name": "LayoutModel",
       "_view_count": null,
       "_view_module": "@jupyter-widgets/base",
       "_view_module_version": "1.2.0",
       "_view_name": "LayoutView",
       "align_content": null,
       "align_items": null,
       "align_self": null,
       "border": null,
       "bottom": null,
       "display": null,
       "flex": null,
       "flex_flow": null,
       "grid_area": null,
       "grid_auto_columns": null,
       "grid_auto_flow": null,
       "grid_auto_rows": null,
       "grid_column": null,
       "grid_gap": null,
       "grid_row": null,
       "grid_template_areas": null,
       "grid_template_columns": null,
       "grid_template_rows": null,
       "height": null,
       "justify_content": null,
       "justify_items": null,
       "left": null,
       "margin": null,
       "max_height": null,
       "max_width": null,
       "min_height": null,
       "min_width": null,
       "object_fit": null,
       "object_position": null,
       "order": null,
       "overflow": null,
       "overflow_x": null,
       "overflow_y": null,
       "padding": null,
       "right": null,
       "top": null,
       "visibility": null,
       "width": null
      }
     },
     "09d2f016662c489cb1c0398c2b94ae7b": {
      "model_module": "@jupyter-widgets/controls",
      "model_module_version": "1.5.0",
      "model_name": "HTMLModel",
      "state": {
       "_dom_classes": [],
       "_model_module": "@jupyter-widgets/controls",
       "_model_module_version": "1.5.0",
       "_model_name": "HTMLModel",
       "_view_count": null,
       "_view_module": "@jupyter-widgets/controls",
       "_view_module_version": "1.5.0",
       "_view_name": "HTMLView",
       "description": "",
       "description_tooltip": null,
       "layout": "IPY_MODEL_6a43c90212fd498c950ddd567e55a568",
       "placeholder": "​",
       "style": "IPY_MODEL_4119a255db0641d5b517ea62d0701485",
       "value": " 10/10 [00:00&lt;00:00, 12.72it/s]"
      }
     },
     "0c6bb049c79645439e89936ddaba4aaa": {
      "model_module": "@jupyter-widgets/controls",
      "model_module_version": "1.5.0",
      "model_name": "DescriptionStyleModel",
      "state": {
       "_model_module": "@jupyter-widgets/controls",
       "_model_module_version": "1.5.0",
       "_model_name": "DescriptionStyleModel",
       "_view_count": null,
       "_view_module": "@jupyter-widgets/base",
       "_view_module_version": "1.2.0",
       "_view_name": "StyleView",
       "description_width": ""
      }
     },
     "0e78e63543f24b74a0dacbb0d0bc80db": {
      "model_module": "@jupyter-widgets/base",
      "model_module_version": "1.2.0",
      "model_name": "LayoutModel",
      "state": {
       "_model_module": "@jupyter-widgets/base",
       "_model_module_version": "1.2.0",
       "_model_name": "LayoutModel",
       "_view_count": null,
       "_view_module": "@jupyter-widgets/base",
       "_view_module_version": "1.2.0",
       "_view_name": "LayoutView",
       "align_content": null,
       "align_items": null,
       "align_self": null,
       "border": null,
       "bottom": null,
       "display": null,
       "flex": null,
       "flex_flow": null,
       "grid_area": null,
       "grid_auto_columns": null,
       "grid_auto_flow": null,
       "grid_auto_rows": null,
       "grid_column": null,
       "grid_gap": null,
       "grid_row": null,
       "grid_template_areas": null,
       "grid_template_columns": null,
       "grid_template_rows": null,
       "height": null,
       "justify_content": null,
       "justify_items": null,
       "left": null,
       "margin": null,
       "max_height": null,
       "max_width": null,
       "min_height": null,
       "min_width": null,
       "object_fit": null,
       "object_position": null,
       "order": null,
       "overflow": null,
       "overflow_x": null,
       "overflow_y": null,
       "padding": null,
       "right": null,
       "top": null,
       "visibility": null,
       "width": null
      }
     },
     "11c5660c86474175892db8b1b1fe98ff": {
      "model_module": "@jupyter-widgets/controls",
      "model_module_version": "1.5.0",
      "model_name": "HTMLModel",
      "state": {
       "_dom_classes": [],
       "_model_module": "@jupyter-widgets/controls",
       "_model_module_version": "1.5.0",
       "_model_name": "HTMLModel",
       "_view_count": null,
       "_view_module": "@jupyter-widgets/controls",
       "_view_module_version": "1.5.0",
       "_view_name": "HTMLView",
       "description": "",
       "description_tooltip": null,
       "layout": "IPY_MODEL_857cc677202e41db8a6487910363079d",
       "placeholder": "​",
       "style": "IPY_MODEL_534010cae83241299560583ba4a6071c",
       "value": " 5/5 [00:00&lt;00:00, 16.99it/s]"
      }
     },
     "1339f489b9944322bcea1e274c913ece": {
      "model_module": "@jupyter-widgets/controls",
      "model_module_version": "1.5.0",
      "model_name": "FloatProgressModel",
      "state": {
       "_dom_classes": [],
       "_model_module": "@jupyter-widgets/controls",
       "_model_module_version": "1.5.0",
       "_model_name": "FloatProgressModel",
       "_view_count": null,
       "_view_module": "@jupyter-widgets/controls",
       "_view_module_version": "1.5.0",
       "_view_name": "ProgressView",
       "bar_style": "success",
       "description": "",
       "description_tooltip": null,
       "layout": "IPY_MODEL_ecde80dd7e334198bc8ffeb8b1978fc9",
       "max": 5.0,
       "min": 0.0,
       "orientation": "horizontal",
       "style": "IPY_MODEL_99fb080cd04a4dbabd847cb96771e484",
       "value": 5.0
      }
     },
     "170a5ddf63e947eeaf1cbf18a755fec8": {
      "model_module": "@jupyter-widgets/base",
      "model_module_version": "1.2.0",
      "model_name": "LayoutModel",
      "state": {
       "_model_module": "@jupyter-widgets/base",
       "_model_module_version": "1.2.0",
       "_model_name": "LayoutModel",
       "_view_count": null,
       "_view_module": "@jupyter-widgets/base",
       "_view_module_version": "1.2.0",
       "_view_name": "LayoutView",
       "align_content": null,
       "align_items": null,
       "align_self": null,
       "border": null,
       "bottom": null,
       "display": null,
       "flex": null,
       "flex_flow": null,
       "grid_area": null,
       "grid_auto_columns": null,
       "grid_auto_flow": null,
       "grid_auto_rows": null,
       "grid_column": null,
       "grid_gap": null,
       "grid_row": null,
       "grid_template_areas": null,
       "grid_template_columns": null,
       "grid_template_rows": null,
       "height": null,
       "justify_content": null,
       "justify_items": null,
       "left": null,
       "margin": null,
       "max_height": null,
       "max_width": null,
       "min_height": null,
       "min_width": null,
       "object_fit": null,
       "object_position": null,
       "order": null,
       "overflow": null,
       "overflow_x": null,
       "overflow_y": null,
       "padding": null,
       "right": null,
       "top": null,
       "visibility": null,
       "width": null
      }
     },
     "172641efb5274b678bae31759a0cd1b5": {
      "model_module": "@jupyter-widgets/controls",
      "model_module_version": "1.5.0",
      "model_name": "FloatProgressModel",
      "state": {
       "_dom_classes": [],
       "_model_module": "@jupyter-widgets/controls",
       "_model_module_version": "1.5.0",
       "_model_name": "FloatProgressModel",
       "_view_count": null,
       "_view_module": "@jupyter-widgets/controls",
       "_view_module_version": "1.5.0",
       "_view_name": "ProgressView",
       "bar_style": "success",
       "description": "",
       "description_tooltip": null,
       "layout": "IPY_MODEL_b2d8568df92541a1872c4a8af661aa87",
       "max": 10.0,
       "min": 0.0,
       "orientation": "horizontal",
       "style": "IPY_MODEL_597ed32a4abc48dfb4afd598eb348e0b",
       "value": 10.0
      }
     },
     "196deef0d34349289da0f4f7368540ba": {
      "model_module": "@jupyter-widgets/controls",
      "model_module_version": "1.5.0",
      "model_name": "HBoxModel",
      "state": {
       "_dom_classes": [],
       "_model_module": "@jupyter-widgets/controls",
       "_model_module_version": "1.5.0",
       "_model_name": "HBoxModel",
       "_view_count": null,
       "_view_module": "@jupyter-widgets/controls",
       "_view_module_version": "1.5.0",
       "_view_name": "HBoxView",
       "box_style": "",
       "children": [
        "IPY_MODEL_fb98b0837eb24938a3402d0e9010389f",
        "IPY_MODEL_5ec6a8dc47454d6e84ecc39ee4c02116",
        "IPY_MODEL_09d2f016662c489cb1c0398c2b94ae7b"
       ],
       "layout": "IPY_MODEL_170a5ddf63e947eeaf1cbf18a755fec8"
      }
     },
     "1a6ee4b87e6b432fa92127e49c23054b": {
      "model_module": "@jupyter-widgets/base",
      "model_module_version": "1.2.0",
      "model_name": "LayoutModel",
      "state": {
       "_model_module": "@jupyter-widgets/base",
       "_model_module_version": "1.2.0",
       "_model_name": "LayoutModel",
       "_view_count": null,
       "_view_module": "@jupyter-widgets/base",
       "_view_module_version": "1.2.0",
       "_view_name": "LayoutView",
       "align_content": null,
       "align_items": null,
       "align_self": null,
       "border": null,
       "bottom": null,
       "display": null,
       "flex": null,
       "flex_flow": null,
       "grid_area": null,
       "grid_auto_columns": null,
       "grid_auto_flow": null,
       "grid_auto_rows": null,
       "grid_column": null,
       "grid_gap": null,
       "grid_row": null,
       "grid_template_areas": null,
       "grid_template_columns": null,
       "grid_template_rows": null,
       "height": null,
       "justify_content": null,
       "justify_items": null,
       "left": null,
       "margin": null,
       "max_height": null,
       "max_width": null,
       "min_height": null,
       "min_width": null,
       "object_fit": null,
       "object_position": null,
       "order": null,
       "overflow": null,
       "overflow_x": null,
       "overflow_y": null,
       "padding": null,
       "right": null,
       "top": null,
       "visibility": null,
       "width": null
      }
     },
     "1b7ce422d2b64b91adf5849d0d3a26ab": {
      "model_module": "@jupyter-widgets/controls",
      "model_module_version": "1.5.0",
      "model_name": "DescriptionStyleModel",
      "state": {
       "_model_module": "@jupyter-widgets/controls",
       "_model_module_version": "1.5.0",
       "_model_name": "DescriptionStyleModel",
       "_view_count": null,
       "_view_module": "@jupyter-widgets/base",
       "_view_module_version": "1.2.0",
       "_view_name": "StyleView",
       "description_width": ""
      }
     },
     "1c303dbee07d42229e933dc1d278f4bc": {
      "model_module": "@jupyter-widgets/controls",
      "model_module_version": "1.5.0",
      "model_name": "HTMLModel",
      "state": {
       "_dom_classes": [],
       "_model_module": "@jupyter-widgets/controls",
       "_model_module_version": "1.5.0",
       "_model_name": "HTMLModel",
       "_view_count": null,
       "_view_module": "@jupyter-widgets/controls",
       "_view_module_version": "1.5.0",
       "_view_name": "HTMLView",
       "description": "",
       "description_tooltip": null,
       "layout": "IPY_MODEL_cbb69f4d564946f3892f6301045f935a",
       "placeholder": "​",
       "style": "IPY_MODEL_ca99bf9c37234c078c0a81c9ccac268b",
       "value": " 10/10 [00:00&lt;00:00, 109.65it/s]"
      }
     },
     "1d558f41e7e849ccbcec6a0ee69bc2cc": {
      "model_module": "@jupyter-widgets/controls",
      "model_module_version": "1.5.0",
      "model_name": "HTMLModel",
      "state": {
       "_dom_classes": [],
       "_model_module": "@jupyter-widgets/controls",
       "_model_module_version": "1.5.0",
       "_model_name": "HTMLModel",
       "_view_count": null,
       "_view_module": "@jupyter-widgets/controls",
       "_view_module_version": "1.5.0",
       "_view_name": "HTMLView",
       "description": "",
       "description_tooltip": null,
       "layout": "IPY_MODEL_5907d97bbf1245a6b60e18d90b4f65f5",
       "placeholder": "​",
       "style": "IPY_MODEL_aae0a8b8ec754706a8f87f281c8dc49b",
       "value": " 5/5 [00:00&lt;00:00, 15.50it/s]"
      }
     },
     "1e52e773aa79429f89f6f6853d3ce002": {
      "model_module": "@jupyter-widgets/controls",
      "model_module_version": "1.5.0",
      "model_name": "HTMLModel",
      "state": {
       "_dom_classes": [],
       "_model_module": "@jupyter-widgets/controls",
       "_model_module_version": "1.5.0",
       "_model_name": "HTMLModel",
       "_view_count": null,
       "_view_module": "@jupyter-widgets/controls",
       "_view_module_version": "1.5.0",
       "_view_name": "HTMLView",
       "description": "",
       "description_tooltip": null,
       "layout": "IPY_MODEL_0e78e63543f24b74a0dacbb0d0bc80db",
       "placeholder": "​",
       "style": "IPY_MODEL_a9559789d72e4aefac49f3738f415bf7",
       "value": "100%"
      }
     },
     "1ef77abdfedd4128af02d3e3a67792ff": {
      "model_module": "@jupyter-widgets/controls",
      "model_module_version": "1.5.0",
      "model_name": "DescriptionStyleModel",
      "state": {
       "_model_module": "@jupyter-widgets/controls",
       "_model_module_version": "1.5.0",
       "_model_name": "DescriptionStyleModel",
       "_view_count": null,
       "_view_module": "@jupyter-widgets/base",
       "_view_module_version": "1.2.0",
       "_view_name": "StyleView",
       "description_width": ""
      }
     },
     "1f47a8cc7db54ec586ce5bae0dd0b006": {
      "model_module": "@jupyter-widgets/base",
      "model_module_version": "1.2.0",
      "model_name": "LayoutModel",
      "state": {
       "_model_module": "@jupyter-widgets/base",
       "_model_module_version": "1.2.0",
       "_model_name": "LayoutModel",
       "_view_count": null,
       "_view_module": "@jupyter-widgets/base",
       "_view_module_version": "1.2.0",
       "_view_name": "LayoutView",
       "align_content": null,
       "align_items": null,
       "align_self": null,
       "border": null,
       "bottom": null,
       "display": null,
       "flex": null,
       "flex_flow": null,
       "grid_area": null,
       "grid_auto_columns": null,
       "grid_auto_flow": null,
       "grid_auto_rows": null,
       "grid_column": null,
       "grid_gap": null,
       "grid_row": null,
       "grid_template_areas": null,
       "grid_template_columns": null,
       "grid_template_rows": null,
       "height": null,
       "justify_content": null,
       "justify_items": null,
       "left": null,
       "margin": null,
       "max_height": null,
       "max_width": null,
       "min_height": null,
       "min_width": null,
       "object_fit": null,
       "object_position": null,
       "order": null,
       "overflow": null,
       "overflow_x": null,
       "overflow_y": null,
       "padding": null,
       "right": null,
       "top": null,
       "visibility": null,
       "width": null
      }
     },
     "288237a7bf184ed3a32c732f04953fc7": {
      "model_module": "@jupyter-widgets/base",
      "model_module_version": "1.2.0",
      "model_name": "LayoutModel",
      "state": {
       "_model_module": "@jupyter-widgets/base",
       "_model_module_version": "1.2.0",
       "_model_name": "LayoutModel",
       "_view_count": null,
       "_view_module": "@jupyter-widgets/base",
       "_view_module_version": "1.2.0",
       "_view_name": "LayoutView",
       "align_content": null,
       "align_items": null,
       "align_self": null,
       "border": null,
       "bottom": null,
       "display": null,
       "flex": null,
       "flex_flow": null,
       "grid_area": null,
       "grid_auto_columns": null,
       "grid_auto_flow": null,
       "grid_auto_rows": null,
       "grid_column": null,
       "grid_gap": null,
       "grid_row": null,
       "grid_template_areas": null,
       "grid_template_columns": null,
       "grid_template_rows": null,
       "height": null,
       "justify_content": null,
       "justify_items": null,
       "left": null,
       "margin": null,
       "max_height": null,
       "max_width": null,
       "min_height": null,
       "min_width": null,
       "object_fit": null,
       "object_position": null,
       "order": null,
       "overflow": null,
       "overflow_x": null,
       "overflow_y": null,
       "padding": null,
       "right": null,
       "top": null,
       "visibility": null,
       "width": null
      }
     },
     "299f2f77287346e69abe718b3c692619": {
      "model_module": "@jupyter-widgets/controls",
      "model_module_version": "1.5.0",
      "model_name": "HBoxModel",
      "state": {
       "_dom_classes": [],
       "_model_module": "@jupyter-widgets/controls",
       "_model_module_version": "1.5.0",
       "_model_name": "HBoxModel",
       "_view_count": null,
       "_view_module": "@jupyter-widgets/controls",
       "_view_module_version": "1.5.0",
       "_view_name": "HBoxView",
       "box_style": "",
       "children": [
        "IPY_MODEL_a9da2eefe42e48e5bd1edef62fe66772",
        "IPY_MODEL_172641efb5274b678bae31759a0cd1b5",
        "IPY_MODEL_79af918506ba4a649dd055a3ae6dea95"
       ],
       "layout": "IPY_MODEL_fae46538bbf4438fb4cad9b23ea153b4"
      }
     },
     "2a33295043f947e8a21656c81ff6f28f": {
      "model_module": "@jupyter-widgets/controls",
      "model_module_version": "1.5.0",
      "model_name": "FloatProgressModel",
      "state": {
       "_dom_classes": [],
       "_model_module": "@jupyter-widgets/controls",
       "_model_module_version": "1.5.0",
       "_model_name": "FloatProgressModel",
       "_view_count": null,
       "_view_module": "@jupyter-widgets/controls",
       "_view_module_version": "1.5.0",
       "_view_name": "ProgressView",
       "bar_style": "success",
       "description": "",
       "description_tooltip": null,
       "layout": "IPY_MODEL_42d573f19a384ce586a1f5d2a28d6b27",
       "max": 5.0,
       "min": 0.0,
       "orientation": "horizontal",
       "style": "IPY_MODEL_47926fef2a1b4abea619e2e4155ca134",
       "value": 5.0
      }
     },
     "2b21c9df551c431fb87888e94f4bc523": {
      "model_module": "@jupyter-widgets/base",
      "model_module_version": "1.2.0",
      "model_name": "LayoutModel",
      "state": {
       "_model_module": "@jupyter-widgets/base",
       "_model_module_version": "1.2.0",
       "_model_name": "LayoutModel",
       "_view_count": null,
       "_view_module": "@jupyter-widgets/base",
       "_view_module_version": "1.2.0",
       "_view_name": "LayoutView",
       "align_content": null,
       "align_items": null,
       "align_self": null,
       "border": null,
       "bottom": null,
       "display": null,
       "flex": null,
       "flex_flow": null,
       "grid_area": null,
       "grid_auto_columns": null,
       "grid_auto_flow": null,
       "grid_auto_rows": null,
       "grid_column": null,
       "grid_gap": null,
       "grid_row": null,
       "grid_template_areas": null,
       "grid_template_columns": null,
       "grid_template_rows": null,
       "height": null,
       "justify_content": null,
       "justify_items": null,
       "left": null,
       "margin": null,
       "max_height": null,
       "max_width": null,
       "min_height": null,
       "min_width": null,
       "object_fit": null,
       "object_position": null,
       "order": null,
       "overflow": null,
       "overflow_x": null,
       "overflow_y": null,
       "padding": null,
       "right": null,
       "top": null,
       "visibility": null,
       "width": null
      }
     },
     "2cab0bac413049eea0c39d055b908f7f": {
      "model_module": "@jupyter-widgets/base",
      "model_module_version": "1.2.0",
      "model_name": "LayoutModel",
      "state": {
       "_model_module": "@jupyter-widgets/base",
       "_model_module_version": "1.2.0",
       "_model_name": "LayoutModel",
       "_view_count": null,
       "_view_module": "@jupyter-widgets/base",
       "_view_module_version": "1.2.0",
       "_view_name": "LayoutView",
       "align_content": null,
       "align_items": null,
       "align_self": null,
       "border": null,
       "bottom": null,
       "display": null,
       "flex": null,
       "flex_flow": null,
       "grid_area": null,
       "grid_auto_columns": null,
       "grid_auto_flow": null,
       "grid_auto_rows": null,
       "grid_column": null,
       "grid_gap": null,
       "grid_row": null,
       "grid_template_areas": null,
       "grid_template_columns": null,
       "grid_template_rows": null,
       "height": null,
       "justify_content": null,
       "justify_items": null,
       "left": null,
       "margin": null,
       "max_height": null,
       "max_width": null,
       "min_height": null,
       "min_width": null,
       "object_fit": null,
       "object_position": null,
       "order": null,
       "overflow": null,
       "overflow_x": null,
       "overflow_y": null,
       "padding": null,
       "right": null,
       "top": null,
       "visibility": null,
       "width": null
      }
     },
     "2d1a4141f93f4f81bc65b633539ed7e1": {
      "model_module": "@jupyter-widgets/controls",
      "model_module_version": "1.5.0",
      "model_name": "ProgressStyleModel",
      "state": {
       "_model_module": "@jupyter-widgets/controls",
       "_model_module_version": "1.5.0",
       "_model_name": "ProgressStyleModel",
       "_view_count": null,
       "_view_module": "@jupyter-widgets/base",
       "_view_module_version": "1.2.0",
       "_view_name": "StyleView",
       "bar_color": null,
       "description_width": ""
      }
     },
     "2df634ba390142ac81e073c5ed2d1e86": {
      "model_module": "@jupyter-widgets/controls",
      "model_module_version": "1.5.0",
      "model_name": "FloatProgressModel",
      "state": {
       "_dom_classes": [],
       "_model_module": "@jupyter-widgets/controls",
       "_model_module_version": "1.5.0",
       "_model_name": "FloatProgressModel",
       "_view_count": null,
       "_view_module": "@jupyter-widgets/controls",
       "_view_module_version": "1.5.0",
       "_view_name": "ProgressView",
       "bar_style": "success",
       "description": "",
       "description_tooltip": null,
       "layout": "IPY_MODEL_45dc1770c45c4567b937fe44e3f59d65",
       "max": 5.0,
       "min": 0.0,
       "orientation": "horizontal",
       "style": "IPY_MODEL_67a931efad4c421e9c00978635e89fa4",
       "value": 5.0
      }
     },
     "30e3e3fce96d4f799c4584671f49489b": {
      "model_module": "@jupyter-widgets/controls",
      "model_module_version": "1.5.0",
      "model_name": "HTMLModel",
      "state": {
       "_dom_classes": [],
       "_model_module": "@jupyter-widgets/controls",
       "_model_module_version": "1.5.0",
       "_model_name": "HTMLModel",
       "_view_count": null,
       "_view_module": "@jupyter-widgets/controls",
       "_view_module_version": "1.5.0",
       "_view_name": "HTMLView",
       "description": "",
       "description_tooltip": null,
       "layout": "IPY_MODEL_72cca60ba8244233bcf4e738dc34fbe8",
       "placeholder": "​",
       "style": "IPY_MODEL_c6011dc7ab4a4014b0919705d2e42307",
       "value": " 10/10 [00:00&lt;00:00, 126.26it/s]"
      }
     },
     "324db6ed4bd34996822a4ddb2673254b": {
      "model_module": "@jupyter-widgets/base",
      "model_module_version": "1.2.0",
      "model_name": "LayoutModel",
      "state": {
       "_model_module": "@jupyter-widgets/base",
       "_model_module_version": "1.2.0",
       "_model_name": "LayoutModel",
       "_view_count": null,
       "_view_module": "@jupyter-widgets/base",
       "_view_module_version": "1.2.0",
       "_view_name": "LayoutView",
       "align_content": null,
       "align_items": null,
       "align_self": null,
       "border": null,
       "bottom": null,
       "display": null,
       "flex": null,
       "flex_flow": null,
       "grid_area": null,
       "grid_auto_columns": null,
       "grid_auto_flow": null,
       "grid_auto_rows": null,
       "grid_column": null,
       "grid_gap": null,
       "grid_row": null,
       "grid_template_areas": null,
       "grid_template_columns": null,
       "grid_template_rows": null,
       "height": null,
       "justify_content": null,
       "justify_items": null,
       "left": null,
       "margin": null,
       "max_height": null,
       "max_width": null,
       "min_height": null,
       "min_width": null,
       "object_fit": null,
       "object_position": null,
       "order": null,
       "overflow": null,
       "overflow_x": null,
       "overflow_y": null,
       "padding": null,
       "right": null,
       "top": null,
       "visibility": null,
       "width": null
      }
     },
     "32b18c0d823747648c9f55efad76c04e": {
      "model_module": "@jupyter-widgets/controls",
      "model_module_version": "1.5.0",
      "model_name": "ProgressStyleModel",
      "state": {
       "_model_module": "@jupyter-widgets/controls",
       "_model_module_version": "1.5.0",
       "_model_name": "ProgressStyleModel",
       "_view_count": null,
       "_view_module": "@jupyter-widgets/base",
       "_view_module_version": "1.2.0",
       "_view_name": "StyleView",
       "bar_color": null,
       "description_width": ""
      }
     },
     "33847929f1ef4cfba839910ee2ac7e01": {
      "model_module": "@jupyter-widgets/controls",
      "model_module_version": "1.5.0",
      "model_name": "ProgressStyleModel",
      "state": {
       "_model_module": "@jupyter-widgets/controls",
       "_model_module_version": "1.5.0",
       "_model_name": "ProgressStyleModel",
       "_view_count": null,
       "_view_module": "@jupyter-widgets/base",
       "_view_module_version": "1.2.0",
       "_view_name": "StyleView",
       "bar_color": null,
       "description_width": ""
      }
     },
     "341dedcc7d584c9e8d4974f3c84a4faf": {
      "model_module": "@jupyter-widgets/controls",
      "model_module_version": "1.5.0",
      "model_name": "DescriptionStyleModel",
      "state": {
       "_model_module": "@jupyter-widgets/controls",
       "_model_module_version": "1.5.0",
       "_model_name": "DescriptionStyleModel",
       "_view_count": null,
       "_view_module": "@jupyter-widgets/base",
       "_view_module_version": "1.2.0",
       "_view_name": "StyleView",
       "description_width": ""
      }
     },
     "35a8c2b7b67640bea8bc76d93c88ebe1": {
      "model_module": "@jupyter-widgets/base",
      "model_module_version": "1.2.0",
      "model_name": "LayoutModel",
      "state": {
       "_model_module": "@jupyter-widgets/base",
       "_model_module_version": "1.2.0",
       "_model_name": "LayoutModel",
       "_view_count": null,
       "_view_module": "@jupyter-widgets/base",
       "_view_module_version": "1.2.0",
       "_view_name": "LayoutView",
       "align_content": null,
       "align_items": null,
       "align_self": null,
       "border": null,
       "bottom": null,
       "display": "inline-flex",
       "flex": null,
       "flex_flow": "row wrap",
       "grid_area": null,
       "grid_auto_columns": null,
       "grid_auto_flow": null,
       "grid_auto_rows": null,
       "grid_column": null,
       "grid_gap": null,
       "grid_row": null,
       "grid_template_areas": null,
       "grid_template_columns": null,
       "grid_template_rows": null,
       "height": null,
       "justify_content": null,
       "justify_items": null,
       "left": null,
       "margin": null,
       "max_height": null,
       "max_width": null,
       "min_height": null,
       "min_width": null,
       "object_fit": null,
       "object_position": null,
       "order": null,
       "overflow": null,
       "overflow_x": null,
       "overflow_y": null,
       "padding": null,
       "right": null,
       "top": null,
       "visibility": null,
       "width": "1000px"
      }
     },
     "3622d9d9a57941f2bfd0edb63f2fa0be": {
      "model_module": "@jupyter-widgets/base",
      "model_module_version": "1.2.0",
      "model_name": "LayoutModel",
      "state": {
       "_model_module": "@jupyter-widgets/base",
       "_model_module_version": "1.2.0",
       "_model_name": "LayoutModel",
       "_view_count": null,
       "_view_module": "@jupyter-widgets/base",
       "_view_module_version": "1.2.0",
       "_view_name": "LayoutView",
       "align_content": null,
       "align_items": null,
       "align_self": null,
       "border": null,
       "bottom": null,
       "display": null,
       "flex": null,
       "flex_flow": null,
       "grid_area": null,
       "grid_auto_columns": null,
       "grid_auto_flow": null,
       "grid_auto_rows": null,
       "grid_column": null,
       "grid_gap": null,
       "grid_row": null,
       "grid_template_areas": null,
       "grid_template_columns": null,
       "grid_template_rows": null,
       "height": null,
       "justify_content": null,
       "justify_items": null,
       "left": null,
       "margin": null,
       "max_height": null,
       "max_width": null,
       "min_height": null,
       "min_width": null,
       "object_fit": null,
       "object_position": null,
       "order": null,
       "overflow": null,
       "overflow_x": null,
       "overflow_y": null,
       "padding": null,
       "right": null,
       "top": null,
       "visibility": null,
       "width": null
      }
     },
     "365e24100dca4dafaba02503108cdcdb": {
      "model_module": "@jupyter-widgets/controls",
      "model_module_version": "1.5.0",
      "model_name": "DescriptionStyleModel",
      "state": {
       "_model_module": "@jupyter-widgets/controls",
       "_model_module_version": "1.5.0",
       "_model_name": "DescriptionStyleModel",
       "_view_count": null,
       "_view_module": "@jupyter-widgets/base",
       "_view_module_version": "1.2.0",
       "_view_name": "StyleView",
       "description_width": ""
      }
     },
     "37e349f74a5d46eda220c0b0a3f008c2": {
      "model_module": "@jupyter-widgets/controls",
      "model_module_version": "1.5.0",
      "model_name": "HBoxModel",
      "state": {
       "_dom_classes": [],
       "_model_module": "@jupyter-widgets/controls",
       "_model_module_version": "1.5.0",
       "_model_name": "HBoxModel",
       "_view_count": null,
       "_view_module": "@jupyter-widgets/controls",
       "_view_module_version": "1.5.0",
       "_view_name": "HBoxView",
       "box_style": "",
       "children": [
        "IPY_MODEL_5a08b68cb4c94996bdb220ad220554cb",
        "IPY_MODEL_ce1ff19fb7e3479e95707a4269d3607f",
        "IPY_MODEL_1d558f41e7e849ccbcec6a0ee69bc2cc"
       ],
       "layout": "IPY_MODEL_483cd781718d4452aacaa6fceea27857"
      }
     },
     "3844ef3bc44847c89150417a5e626e4b": {
      "model_module": "@jupyter-widgets/base",
      "model_module_version": "1.2.0",
      "model_name": "LayoutModel",
      "state": {
       "_model_module": "@jupyter-widgets/base",
       "_model_module_version": "1.2.0",
       "_model_name": "LayoutModel",
       "_view_count": null,
       "_view_module": "@jupyter-widgets/base",
       "_view_module_version": "1.2.0",
       "_view_name": "LayoutView",
       "align_content": null,
       "align_items": null,
       "align_self": null,
       "border": null,
       "bottom": null,
       "display": null,
       "flex": null,
       "flex_flow": null,
       "grid_area": null,
       "grid_auto_columns": null,
       "grid_auto_flow": null,
       "grid_auto_rows": null,
       "grid_column": null,
       "grid_gap": null,
       "grid_row": null,
       "grid_template_areas": null,
       "grid_template_columns": null,
       "grid_template_rows": null,
       "height": null,
       "justify_content": null,
       "justify_items": null,
       "left": null,
       "margin": null,
       "max_height": null,
       "max_width": null,
       "min_height": null,
       "min_width": null,
       "object_fit": null,
       "object_position": null,
       "order": null,
       "overflow": null,
       "overflow_x": null,
       "overflow_y": null,
       "padding": null,
       "right": null,
       "top": null,
       "visibility": null,
       "width": null
      }
     },
     "3931d804ae514b3f91040fdb02dfe41e": {
      "model_module": "@jupyter-widgets/controls",
      "model_module_version": "1.5.0",
      "model_name": "DescriptionStyleModel",
      "state": {
       "_model_module": "@jupyter-widgets/controls",
       "_model_module_version": "1.5.0",
       "_model_name": "DescriptionStyleModel",
       "_view_count": null,
       "_view_module": "@jupyter-widgets/base",
       "_view_module_version": "1.2.0",
       "_view_name": "StyleView",
       "description_width": ""
      }
     },
     "3c8f1cd4b6334bd99b640beb7fc3d813": {
      "model_module": "@jupyter-widgets/controls",
      "model_module_version": "1.5.0",
      "model_name": "DescriptionStyleModel",
      "state": {
       "_model_module": "@jupyter-widgets/controls",
       "_model_module_version": "1.5.0",
       "_model_name": "DescriptionStyleModel",
       "_view_count": null,
       "_view_module": "@jupyter-widgets/base",
       "_view_module_version": "1.2.0",
       "_view_name": "StyleView",
       "description_width": ""
      }
     },
     "3f236fbd8e3444e8914ac7f9a173cf30": {
      "model_module": "@jupyter-widgets/controls",
      "model_module_version": "1.5.0",
      "model_name": "HTMLModel",
      "state": {
       "_dom_classes": [],
       "_model_module": "@jupyter-widgets/controls",
       "_model_module_version": "1.5.0",
       "_model_name": "HTMLModel",
       "_view_count": null,
       "_view_module": "@jupyter-widgets/controls",
       "_view_module_version": "1.5.0",
       "_view_name": "HTMLView",
       "description": "",
       "description_tooltip": null,
       "layout": "IPY_MODEL_bcafce0f646f40178c7f4890039d33e1",
       "placeholder": "​",
       "style": "IPY_MODEL_b048305dbce24e30b16b988b38a61559",
       "value": " 524/524 [00:04&lt;00:00, 130.49it/s]"
      }
     },
     "3fa101ea4f34467f9128895612b2e289": {
      "model_module": "@jupyter-widgets/controls",
      "model_module_version": "1.5.0",
      "model_name": "HBoxModel",
      "state": {
       "_dom_classes": [],
       "_model_module": "@jupyter-widgets/controls",
       "_model_module_version": "1.5.0",
       "_model_name": "HBoxModel",
       "_view_count": null,
       "_view_module": "@jupyter-widgets/controls",
       "_view_module_version": "1.5.0",
       "_view_name": "HBoxView",
       "box_style": "",
       "children": [
        "IPY_MODEL_736c1c6a17124f5c903a163fb679e8a5",
        "IPY_MODEL_1339f489b9944322bcea1e274c913ece",
        "IPY_MODEL_97d9b25e724c42b0aa0a6dc9e8486965"
       ],
       "layout": "IPY_MODEL_f31eaeed51dd4c8d81eb87ba2e9bfd5d"
      }
     },
     "4119a255db0641d5b517ea62d0701485": {
      "model_module": "@jupyter-widgets/controls",
      "model_module_version": "1.5.0",
      "model_name": "DescriptionStyleModel",
      "state": {
       "_model_module": "@jupyter-widgets/controls",
       "_model_module_version": "1.5.0",
       "_model_name": "DescriptionStyleModel",
       "_view_count": null,
       "_view_module": "@jupyter-widgets/base",
       "_view_module_version": "1.2.0",
       "_view_name": "StyleView",
       "description_width": ""
      }
     },
     "42d573f19a384ce586a1f5d2a28d6b27": {
      "model_module": "@jupyter-widgets/base",
      "model_module_version": "1.2.0",
      "model_name": "LayoutModel",
      "state": {
       "_model_module": "@jupyter-widgets/base",
       "_model_module_version": "1.2.0",
       "_model_name": "LayoutModel",
       "_view_count": null,
       "_view_module": "@jupyter-widgets/base",
       "_view_module_version": "1.2.0",
       "_view_name": "LayoutView",
       "align_content": null,
       "align_items": null,
       "align_self": null,
       "border": null,
       "bottom": null,
       "display": null,
       "flex": null,
       "flex_flow": null,
       "grid_area": null,
       "grid_auto_columns": null,
       "grid_auto_flow": null,
       "grid_auto_rows": null,
       "grid_column": null,
       "grid_gap": null,
       "grid_row": null,
       "grid_template_areas": null,
       "grid_template_columns": null,
       "grid_template_rows": null,
       "height": null,
       "justify_content": null,
       "justify_items": null,
       "left": null,
       "margin": null,
       "max_height": null,
       "max_width": null,
       "min_height": null,
       "min_width": null,
       "object_fit": null,
       "object_position": null,
       "order": null,
       "overflow": null,
       "overflow_x": null,
       "overflow_y": null,
       "padding": null,
       "right": null,
       "top": null,
       "visibility": null,
       "width": null
      }
     },
     "42dab974c5d5466fa1ab142c83b52852": {
      "model_module": "@jupyter-widgets/controls",
      "model_module_version": "1.5.0",
      "model_name": "HBoxModel",
      "state": {
       "_dom_classes": [],
       "_model_module": "@jupyter-widgets/controls",
       "_model_module_version": "1.5.0",
       "_model_name": "HBoxModel",
       "_view_count": null,
       "_view_module": "@jupyter-widgets/controls",
       "_view_module_version": "1.5.0",
       "_view_name": "HBoxView",
       "box_style": "",
       "children": [
        "IPY_MODEL_9f8b2a19ffc14c91bd00aa947b4ed1f7",
        "IPY_MODEL_f01078d504ae4e6cad570b7c76f1cbfd",
        "IPY_MODEL_44c63afbfe2f43089335928af1929f01"
       ],
       "layout": "IPY_MODEL_ac946ce2ba3a439798b29d1fbbf4b30f"
      }
     },
     "43515fe3fd534bb2bbb8dec81e985b2d": {
      "model_module": "@jupyter-widgets/base",
      "model_module_version": "1.2.0",
      "model_name": "LayoutModel",
      "state": {
       "_model_module": "@jupyter-widgets/base",
       "_model_module_version": "1.2.0",
       "_model_name": "LayoutModel",
       "_view_count": null,
       "_view_module": "@jupyter-widgets/base",
       "_view_module_version": "1.2.0",
       "_view_name": "LayoutView",
       "align_content": null,
       "align_items": null,
       "align_self": null,
       "border": null,
       "bottom": null,
       "display": null,
       "flex": null,
       "flex_flow": null,
       "grid_area": null,
       "grid_auto_columns": null,
       "grid_auto_flow": null,
       "grid_auto_rows": null,
       "grid_column": null,
       "grid_gap": null,
       "grid_row": null,
       "grid_template_areas": null,
       "grid_template_columns": null,
       "grid_template_rows": null,
       "height": null,
       "justify_content": null,
       "justify_items": null,
       "left": null,
       "margin": null,
       "max_height": null,
       "max_width": null,
       "min_height": null,
       "min_width": null,
       "object_fit": null,
       "object_position": null,
       "order": null,
       "overflow": null,
       "overflow_x": null,
       "overflow_y": null,
       "padding": null,
       "right": null,
       "top": null,
       "visibility": null,
       "width": null
      }
     },
     "44102179170b470ca3749bafde45db90": {
      "model_module": "@jupyter-widgets/base",
      "model_module_version": "1.2.0",
      "model_name": "LayoutModel",
      "state": {
       "_model_module": "@jupyter-widgets/base",
       "_model_module_version": "1.2.0",
       "_model_name": "LayoutModel",
       "_view_count": null,
       "_view_module": "@jupyter-widgets/base",
       "_view_module_version": "1.2.0",
       "_view_name": "LayoutView",
       "align_content": null,
       "align_items": null,
       "align_self": null,
       "border": null,
       "bottom": null,
       "display": null,
       "flex": null,
       "flex_flow": null,
       "grid_area": null,
       "grid_auto_columns": null,
       "grid_auto_flow": null,
       "grid_auto_rows": null,
       "grid_column": null,
       "grid_gap": null,
       "grid_row": null,
       "grid_template_areas": null,
       "grid_template_columns": null,
       "grid_template_rows": null,
       "height": null,
       "justify_content": null,
       "justify_items": null,
       "left": null,
       "margin": null,
       "max_height": null,
       "max_width": null,
       "min_height": null,
       "min_width": null,
       "object_fit": null,
       "object_position": null,
       "order": null,
       "overflow": null,
       "overflow_x": null,
       "overflow_y": null,
       "padding": null,
       "right": null,
       "top": null,
       "visibility": null,
       "width": null
      }
     },
     "44140455b47f4f81a1ad08f53c42e0ea": {
      "model_module": "@jupyter-widgets/controls",
      "model_module_version": "1.5.0",
      "model_name": "DescriptionStyleModel",
      "state": {
       "_model_module": "@jupyter-widgets/controls",
       "_model_module_version": "1.5.0",
       "_model_name": "DescriptionStyleModel",
       "_view_count": null,
       "_view_module": "@jupyter-widgets/base",
       "_view_module_version": "1.2.0",
       "_view_name": "StyleView",
       "description_width": ""
      }
     },
     "44c63afbfe2f43089335928af1929f01": {
      "model_module": "@jupyter-widgets/controls",
      "model_module_version": "1.5.0",
      "model_name": "HTMLModel",
      "state": {
       "_dom_classes": [],
       "_model_module": "@jupyter-widgets/controls",
       "_model_module_version": "1.5.0",
       "_model_name": "HTMLModel",
       "_view_count": null,
       "_view_module": "@jupyter-widgets/controls",
       "_view_module_version": "1.5.0",
       "_view_name": "HTMLView",
       "description": "",
       "description_tooltip": null,
       "layout": "IPY_MODEL_c7602e7794054f1583a7899d0934ea17",
       "placeholder": "​",
       "style": "IPY_MODEL_3931d804ae514b3f91040fdb02dfe41e",
       "value": " 671/671 [00:04&lt;00:00, 164.65it/s]"
      }
     },
     "44c848a8c7304adabb397ea6b6170d32": {
      "model_module": "@jupyter-widgets/controls",
      "model_module_version": "1.5.0",
      "model_name": "HBoxModel",
      "state": {
       "_dom_classes": [],
       "_model_module": "@jupyter-widgets/controls",
       "_model_module_version": "1.5.0",
       "_model_name": "HBoxModel",
       "_view_count": null,
       "_view_module": "@jupyter-widgets/controls",
       "_view_module_version": "1.5.0",
       "_view_name": "HBoxView",
       "box_style": "",
       "children": [
        "IPY_MODEL_d2058619612a4df39310644ca5b87c3a",
        "IPY_MODEL_efbe167ba264459fa67351f790226411",
        "IPY_MODEL_3f236fbd8e3444e8914ac7f9a173cf30"
       ],
       "layout": "IPY_MODEL_d5b87b21917043e6bf3501319bcc462c"
      }
     },
     "45dc1770c45c4567b937fe44e3f59d65": {
      "model_module": "@jupyter-widgets/base",
      "model_module_version": "1.2.0",
      "model_name": "LayoutModel",
      "state": {
       "_model_module": "@jupyter-widgets/base",
       "_model_module_version": "1.2.0",
       "_model_name": "LayoutModel",
       "_view_count": null,
       "_view_module": "@jupyter-widgets/base",
       "_view_module_version": "1.2.0",
       "_view_name": "LayoutView",
       "align_content": null,
       "align_items": null,
       "align_self": null,
       "border": null,
       "bottom": null,
       "display": null,
       "flex": null,
       "flex_flow": null,
       "grid_area": null,
       "grid_auto_columns": null,
       "grid_auto_flow": null,
       "grid_auto_rows": null,
       "grid_column": null,
       "grid_gap": null,
       "grid_row": null,
       "grid_template_areas": null,
       "grid_template_columns": null,
       "grid_template_rows": null,
       "height": null,
       "justify_content": null,
       "justify_items": null,
       "left": null,
       "margin": null,
       "max_height": null,
       "max_width": null,
       "min_height": null,
       "min_width": null,
       "object_fit": null,
       "object_position": null,
       "order": null,
       "overflow": null,
       "overflow_x": null,
       "overflow_y": null,
       "padding": null,
       "right": null,
       "top": null,
       "visibility": null,
       "width": null
      }
     },
     "47926fef2a1b4abea619e2e4155ca134": {
      "model_module": "@jupyter-widgets/controls",
      "model_module_version": "1.5.0",
      "model_name": "ProgressStyleModel",
      "state": {
       "_model_module": "@jupyter-widgets/controls",
       "_model_module_version": "1.5.0",
       "_model_name": "ProgressStyleModel",
       "_view_count": null,
       "_view_module": "@jupyter-widgets/base",
       "_view_module_version": "1.2.0",
       "_view_name": "StyleView",
       "bar_color": null,
       "description_width": ""
      }
     },
     "483cd781718d4452aacaa6fceea27857": {
      "model_module": "@jupyter-widgets/base",
      "model_module_version": "1.2.0",
      "model_name": "LayoutModel",
      "state": {
       "_model_module": "@jupyter-widgets/base",
       "_model_module_version": "1.2.0",
       "_model_name": "LayoutModel",
       "_view_count": null,
       "_view_module": "@jupyter-widgets/base",
       "_view_module_version": "1.2.0",
       "_view_name": "LayoutView",
       "align_content": null,
       "align_items": null,
       "align_self": null,
       "border": null,
       "bottom": null,
       "display": null,
       "flex": null,
       "flex_flow": null,
       "grid_area": null,
       "grid_auto_columns": null,
       "grid_auto_flow": null,
       "grid_auto_rows": null,
       "grid_column": null,
       "grid_gap": null,
       "grid_row": null,
       "grid_template_areas": null,
       "grid_template_columns": null,
       "grid_template_rows": null,
       "height": null,
       "justify_content": null,
       "justify_items": null,
       "left": null,
       "margin": null,
       "max_height": null,
       "max_width": null,
       "min_height": null,
       "min_width": null,
       "object_fit": null,
       "object_position": null,
       "order": null,
       "overflow": null,
       "overflow_x": null,
       "overflow_y": null,
       "padding": null,
       "right": null,
       "top": null,
       "visibility": null,
       "width": null
      }
     },
     "48ada6c75eb4472fbd78076ad3fd12e7": {
      "model_module": "@jupyter-widgets/base",
      "model_module_version": "1.2.0",
      "model_name": "LayoutModel",
      "state": {
       "_model_module": "@jupyter-widgets/base",
       "_model_module_version": "1.2.0",
       "_model_name": "LayoutModel",
       "_view_count": null,
       "_view_module": "@jupyter-widgets/base",
       "_view_module_version": "1.2.0",
       "_view_name": "LayoutView",
       "align_content": null,
       "align_items": null,
       "align_self": null,
       "border": null,
       "bottom": null,
       "display": null,
       "flex": null,
       "flex_flow": null,
       "grid_area": null,
       "grid_auto_columns": null,
       "grid_auto_flow": null,
       "grid_auto_rows": null,
       "grid_column": null,
       "grid_gap": null,
       "grid_row": null,
       "grid_template_areas": null,
       "grid_template_columns": null,
       "grid_template_rows": null,
       "height": null,
       "justify_content": null,
       "justify_items": null,
       "left": null,
       "margin": null,
       "max_height": null,
       "max_width": null,
       "min_height": null,
       "min_width": null,
       "object_fit": null,
       "object_position": null,
       "order": null,
       "overflow": null,
       "overflow_x": null,
       "overflow_y": null,
       "padding": null,
       "right": null,
       "top": null,
       "visibility": null,
       "width": null
      }
     },
     "4f297d1120944bdb8760664ebf72e40e": {
      "model_module": "@jupyter-widgets/controls",
      "model_module_version": "1.5.0",
      "model_name": "HTMLModel",
      "state": {
       "_dom_classes": [],
       "_model_module": "@jupyter-widgets/controls",
       "_model_module_version": "1.5.0",
       "_model_name": "HTMLModel",
       "_view_count": null,
       "_view_module": "@jupyter-widgets/controls",
       "_view_module_version": "1.5.0",
       "_view_name": "HTMLView",
       "description": "",
       "description_tooltip": null,
       "layout": "IPY_MODEL_43515fe3fd534bb2bbb8dec81e985b2d",
       "placeholder": "​",
       "style": "IPY_MODEL_afcd7c5cdc744679808df50ec5a81c79",
       "value": "100%"
      }
     },
     "50040cc197b44c54bb77a9130d51c839": {
      "model_module": "@jupyter-widgets/base",
      "model_module_version": "1.2.0",
      "model_name": "LayoutModel",
      "state": {
       "_model_module": "@jupyter-widgets/base",
       "_model_module_version": "1.2.0",
       "_model_name": "LayoutModel",
       "_view_count": null,
       "_view_module": "@jupyter-widgets/base",
       "_view_module_version": "1.2.0",
       "_view_name": "LayoutView",
       "align_content": null,
       "align_items": null,
       "align_self": null,
       "border": null,
       "bottom": null,
       "display": null,
       "flex": null,
       "flex_flow": null,
       "grid_area": null,
       "grid_auto_columns": null,
       "grid_auto_flow": null,
       "grid_auto_rows": null,
       "grid_column": null,
       "grid_gap": null,
       "grid_row": null,
       "grid_template_areas": null,
       "grid_template_columns": null,
       "grid_template_rows": null,
       "height": null,
       "justify_content": null,
       "justify_items": null,
       "left": null,
       "margin": null,
       "max_height": null,
       "max_width": null,
       "min_height": null,
       "min_width": null,
       "object_fit": null,
       "object_position": null,
       "order": null,
       "overflow": null,
       "overflow_x": null,
       "overflow_y": null,
       "padding": null,
       "right": null,
       "top": null,
       "visibility": null,
       "width": null
      }
     },
     "5029b7c52e474c56bd9a666392eb1e1f": {
      "model_module": "@jupyter-widgets/base",
      "model_module_version": "1.2.0",
      "model_name": "LayoutModel",
      "state": {
       "_model_module": "@jupyter-widgets/base",
       "_model_module_version": "1.2.0",
       "_model_name": "LayoutModel",
       "_view_count": null,
       "_view_module": "@jupyter-widgets/base",
       "_view_module_version": "1.2.0",
       "_view_name": "LayoutView",
       "align_content": null,
       "align_items": null,
       "align_self": null,
       "border": null,
       "bottom": null,
       "display": null,
       "flex": null,
       "flex_flow": null,
       "grid_area": null,
       "grid_auto_columns": null,
       "grid_auto_flow": null,
       "grid_auto_rows": null,
       "grid_column": null,
       "grid_gap": null,
       "grid_row": null,
       "grid_template_areas": null,
       "grid_template_columns": null,
       "grid_template_rows": null,
       "height": null,
       "justify_content": null,
       "justify_items": null,
       "left": null,
       "margin": null,
       "max_height": null,
       "max_width": null,
       "min_height": null,
       "min_width": null,
       "object_fit": null,
       "object_position": null,
       "order": null,
       "overflow": null,
       "overflow_x": null,
       "overflow_y": null,
       "padding": null,
       "right": null,
       "top": null,
       "visibility": null,
       "width": null
      }
     },
     "5078233b7bda448cb2ac5ad477f204ef": {
      "model_module": "@jupyter-widgets/controls",
      "model_module_version": "1.5.0",
      "model_name": "HTMLModel",
      "state": {
       "_dom_classes": [],
       "_model_module": "@jupyter-widgets/controls",
       "_model_module_version": "1.5.0",
       "_model_name": "HTMLModel",
       "_view_count": null,
       "_view_module": "@jupyter-widgets/controls",
       "_view_module_version": "1.5.0",
       "_view_name": "HTMLView",
       "description": "",
       "description_tooltip": null,
       "layout": "IPY_MODEL_877f01a6112941b39c056478c87e0369",
       "placeholder": "​",
       "style": "IPY_MODEL_e4dac84cce054e23b5c6937cdb30997c",
       "value": "100%"
      }
     },
     "51945ba18adf4577af9a12cc5ce35d51": {
      "model_module": "@jupyter-widgets/base",
      "model_module_version": "1.2.0",
      "model_name": "LayoutModel",
      "state": {
       "_model_module": "@jupyter-widgets/base",
       "_model_module_version": "1.2.0",
       "_model_name": "LayoutModel",
       "_view_count": null,
       "_view_module": "@jupyter-widgets/base",
       "_view_module_version": "1.2.0",
       "_view_name": "LayoutView",
       "align_content": null,
       "align_items": null,
       "align_self": null,
       "border": null,
       "bottom": null,
       "display": null,
       "flex": null,
       "flex_flow": null,
       "grid_area": null,
       "grid_auto_columns": null,
       "grid_auto_flow": null,
       "grid_auto_rows": null,
       "grid_column": null,
       "grid_gap": null,
       "grid_row": null,
       "grid_template_areas": null,
       "grid_template_columns": null,
       "grid_template_rows": null,
       "height": null,
       "justify_content": null,
       "justify_items": null,
       "left": null,
       "margin": null,
       "max_height": null,
       "max_width": null,
       "min_height": null,
       "min_width": null,
       "object_fit": null,
       "object_position": null,
       "order": null,
       "overflow": null,
       "overflow_x": null,
       "overflow_y": null,
       "padding": null,
       "right": null,
       "top": null,
       "visibility": null,
       "width": null
      }
     },
     "534010cae83241299560583ba4a6071c": {
      "model_module": "@jupyter-widgets/controls",
      "model_module_version": "1.5.0",
      "model_name": "DescriptionStyleModel",
      "state": {
       "_model_module": "@jupyter-widgets/controls",
       "_model_module_version": "1.5.0",
       "_model_name": "DescriptionStyleModel",
       "_view_count": null,
       "_view_module": "@jupyter-widgets/base",
       "_view_module_version": "1.2.0",
       "_view_name": "StyleView",
       "description_width": ""
      }
     },
     "58c36f8d1ebd41a0ba95585048bbd70b": {
      "model_module": "@jupyter-widgets/controls",
      "model_module_version": "1.5.0",
      "model_name": "DescriptionStyleModel",
      "state": {
       "_model_module": "@jupyter-widgets/controls",
       "_model_module_version": "1.5.0",
       "_model_name": "DescriptionStyleModel",
       "_view_count": null,
       "_view_module": "@jupyter-widgets/base",
       "_view_module_version": "1.2.0",
       "_view_name": "StyleView",
       "description_width": ""
      }
     },
     "5907d97bbf1245a6b60e18d90b4f65f5": {
      "model_module": "@jupyter-widgets/base",
      "model_module_version": "1.2.0",
      "model_name": "LayoutModel",
      "state": {
       "_model_module": "@jupyter-widgets/base",
       "_model_module_version": "1.2.0",
       "_model_name": "LayoutModel",
       "_view_count": null,
       "_view_module": "@jupyter-widgets/base",
       "_view_module_version": "1.2.0",
       "_view_name": "LayoutView",
       "align_content": null,
       "align_items": null,
       "align_self": null,
       "border": null,
       "bottom": null,
       "display": null,
       "flex": null,
       "flex_flow": null,
       "grid_area": null,
       "grid_auto_columns": null,
       "grid_auto_flow": null,
       "grid_auto_rows": null,
       "grid_column": null,
       "grid_gap": null,
       "grid_row": null,
       "grid_template_areas": null,
       "grid_template_columns": null,
       "grid_template_rows": null,
       "height": null,
       "justify_content": null,
       "justify_items": null,
       "left": null,
       "margin": null,
       "max_height": null,
       "max_width": null,
       "min_height": null,
       "min_width": null,
       "object_fit": null,
       "object_position": null,
       "order": null,
       "overflow": null,
       "overflow_x": null,
       "overflow_y": null,
       "padding": null,
       "right": null,
       "top": null,
       "visibility": null,
       "width": null
      }
     },
     "597ed32a4abc48dfb4afd598eb348e0b": {
      "model_module": "@jupyter-widgets/controls",
      "model_module_version": "1.5.0",
      "model_name": "ProgressStyleModel",
      "state": {
       "_model_module": "@jupyter-widgets/controls",
       "_model_module_version": "1.5.0",
       "_model_name": "ProgressStyleModel",
       "_view_count": null,
       "_view_module": "@jupyter-widgets/base",
       "_view_module_version": "1.2.0",
       "_view_name": "StyleView",
       "bar_color": null,
       "description_width": ""
      }
     },
     "5a08b68cb4c94996bdb220ad220554cb": {
      "model_module": "@jupyter-widgets/controls",
      "model_module_version": "1.5.0",
      "model_name": "HTMLModel",
      "state": {
       "_dom_classes": [],
       "_model_module": "@jupyter-widgets/controls",
       "_model_module_version": "1.5.0",
       "_model_name": "HTMLModel",
       "_view_count": null,
       "_view_module": "@jupyter-widgets/controls",
       "_view_module_version": "1.5.0",
       "_view_name": "HTMLView",
       "description": "",
       "description_tooltip": null,
       "layout": "IPY_MODEL_288237a7bf184ed3a32c732f04953fc7",
       "placeholder": "​",
       "style": "IPY_MODEL_3c8f1cd4b6334bd99b640beb7fc3d813",
       "value": "100%"
      }
     },
     "5b7bdc230f4e405685eed3a2eac3aeea": {
      "model_module": "@jupyter-widgets/base",
      "model_module_version": "1.2.0",
      "model_name": "LayoutModel",
      "state": {
       "_model_module": "@jupyter-widgets/base",
       "_model_module_version": "1.2.0",
       "_model_name": "LayoutModel",
       "_view_count": null,
       "_view_module": "@jupyter-widgets/base",
       "_view_module_version": "1.2.0",
       "_view_name": "LayoutView",
       "align_content": null,
       "align_items": null,
       "align_self": null,
       "border": null,
       "bottom": null,
       "display": null,
       "flex": null,
       "flex_flow": null,
       "grid_area": null,
       "grid_auto_columns": null,
       "grid_auto_flow": null,
       "grid_auto_rows": null,
       "grid_column": null,
       "grid_gap": null,
       "grid_row": null,
       "grid_template_areas": null,
       "grid_template_columns": null,
       "grid_template_rows": null,
       "height": null,
       "justify_content": null,
       "justify_items": null,
       "left": null,
       "margin": null,
       "max_height": null,
       "max_width": null,
       "min_height": null,
       "min_width": null,
       "object_fit": null,
       "object_position": null,
       "order": null,
       "overflow": null,
       "overflow_x": null,
       "overflow_y": null,
       "padding": null,
       "right": null,
       "top": null,
       "visibility": null,
       "width": null
      }
     },
     "5cbab84675aa4b18ba2b4ea60fb64fbe": {
      "model_module": "@jupyter-widgets/controls",
      "model_module_version": "1.5.0",
      "model_name": "FloatProgressModel",
      "state": {
       "_dom_classes": [],
       "_model_module": "@jupyter-widgets/controls",
       "_model_module_version": "1.5.0",
       "_model_name": "FloatProgressModel",
       "_view_count": null,
       "_view_module": "@jupyter-widgets/controls",
       "_view_module_version": "1.5.0",
       "_view_name": "ProgressView",
       "bar_style": "success",
       "description": "",
       "description_tooltip": null,
       "layout": "IPY_MODEL_ab3a2b3a34174830a6565c45f9a6f98b",
       "max": 10000.0,
       "min": 0.0,
       "orientation": "horizontal",
       "style": "IPY_MODEL_33847929f1ef4cfba839910ee2ac7e01",
       "value": 455.0
      }
     },
     "5da41598ed934cfa9fa17676e059d0ce": {
      "model_module": "@jupyter-widgets/controls",
      "model_module_version": "1.5.0",
      "model_name": "ProgressStyleModel",
      "state": {
       "_model_module": "@jupyter-widgets/controls",
       "_model_module_version": "1.5.0",
       "_model_name": "ProgressStyleModel",
       "_view_count": null,
       "_view_module": "@jupyter-widgets/base",
       "_view_module_version": "1.2.0",
       "_view_name": "StyleView",
       "bar_color": null,
       "description_width": ""
      }
     },
     "5ec6a8dc47454d6e84ecc39ee4c02116": {
      "model_module": "@jupyter-widgets/controls",
      "model_module_version": "1.5.0",
      "model_name": "FloatProgressModel",
      "state": {
       "_dom_classes": [],
       "_model_module": "@jupyter-widgets/controls",
       "_model_module_version": "1.5.0",
       "_model_name": "FloatProgressModel",
       "_view_count": null,
       "_view_module": "@jupyter-widgets/controls",
       "_view_module_version": "1.5.0",
       "_view_name": "ProgressView",
       "bar_style": "success",
       "description": "",
       "description_tooltip": null,
       "layout": "IPY_MODEL_b7423be549fa44b6ac202499c42455ac",
       "max": 10.0,
       "min": 0.0,
       "orientation": "horizontal",
       "style": "IPY_MODEL_f6773093665e4aa4aa5e96083f1c4a4e",
       "value": 10.0
      }
     },
     "61a7a8b835ef4a399c3cf656ce8ddb30": {
      "model_module": "@jupyter-widgets/controls",
      "model_module_version": "1.5.0",
      "model_name": "ProgressStyleModel",
      "state": {
       "_model_module": "@jupyter-widgets/controls",
       "_model_module_version": "1.5.0",
       "_model_name": "ProgressStyleModel",
       "_view_count": null,
       "_view_module": "@jupyter-widgets/base",
       "_view_module_version": "1.2.0",
       "_view_name": "StyleView",
       "bar_color": null,
       "description_width": ""
      }
     },
     "6276157760014ecfa32127f9c945aab2": {
      "model_module": "@jupyter-widgets/controls",
      "model_module_version": "1.5.0",
      "model_name": "FloatProgressModel",
      "state": {
       "_dom_classes": [],
       "_model_module": "@jupyter-widgets/controls",
       "_model_module_version": "1.5.0",
       "_model_name": "FloatProgressModel",
       "_view_count": null,
       "_view_module": "@jupyter-widgets/controls",
       "_view_module_version": "1.5.0",
       "_view_name": "ProgressView",
       "bar_style": "success",
       "description": "",
       "description_tooltip": null,
       "layout": "IPY_MODEL_b5d5beb5b2274c14949157de1f203c54",
       "max": 10.0,
       "min": 0.0,
       "orientation": "horizontal",
       "style": "IPY_MODEL_32b18c0d823747648c9f55efad76c04e",
       "value": 10.0
      }
     },
     "629b1a6fccf144629c39e919de874f4c": {
      "model_module": "@jupyter-widgets/base",
      "model_module_version": "1.2.0",
      "model_name": "LayoutModel",
      "state": {
       "_model_module": "@jupyter-widgets/base",
       "_model_module_version": "1.2.0",
       "_model_name": "LayoutModel",
       "_view_count": null,
       "_view_module": "@jupyter-widgets/base",
       "_view_module_version": "1.2.0",
       "_view_name": "LayoutView",
       "align_content": null,
       "align_items": null,
       "align_self": null,
       "border": null,
       "bottom": null,
       "display": null,
       "flex": null,
       "flex_flow": null,
       "grid_area": null,
       "grid_auto_columns": null,
       "grid_auto_flow": null,
       "grid_auto_rows": null,
       "grid_column": null,
       "grid_gap": null,
       "grid_row": null,
       "grid_template_areas": null,
       "grid_template_columns": null,
       "grid_template_rows": null,
       "height": null,
       "justify_content": null,
       "justify_items": null,
       "left": null,
       "margin": null,
       "max_height": null,
       "max_width": null,
       "min_height": null,
       "min_width": null,
       "object_fit": null,
       "object_position": null,
       "order": null,
       "overflow": null,
       "overflow_x": null,
       "overflow_y": null,
       "padding": null,
       "right": null,
       "top": null,
       "visibility": null,
       "width": null
      }
     },
     "655b683c602f4fd7bac8dfbf23c47a73": {
      "model_module": "@jupyter-widgets/base",
      "model_module_version": "1.2.0",
      "model_name": "LayoutModel",
      "state": {
       "_model_module": "@jupyter-widgets/base",
       "_model_module_version": "1.2.0",
       "_model_name": "LayoutModel",
       "_view_count": null,
       "_view_module": "@jupyter-widgets/base",
       "_view_module_version": "1.2.0",
       "_view_name": "LayoutView",
       "align_content": null,
       "align_items": null,
       "align_self": null,
       "border": null,
       "bottom": null,
       "display": null,
       "flex": "2",
       "flex_flow": null,
       "grid_area": null,
       "grid_auto_columns": null,
       "grid_auto_flow": null,
       "grid_auto_rows": null,
       "grid_column": null,
       "grid_gap": null,
       "grid_row": null,
       "grid_template_areas": null,
       "grid_template_columns": null,
       "grid_template_rows": null,
       "height": null,
       "justify_content": null,
       "justify_items": null,
       "left": null,
       "margin": null,
       "max_height": null,
       "max_width": null,
       "min_height": null,
       "min_width": null,
       "object_fit": null,
       "object_position": null,
       "order": null,
       "overflow": null,
       "overflow_x": null,
       "overflow_y": null,
       "padding": null,
       "right": null,
       "top": null,
       "visibility": null,
       "width": null
      }
     },
     "67a931efad4c421e9c00978635e89fa4": {
      "model_module": "@jupyter-widgets/controls",
      "model_module_version": "1.5.0",
      "model_name": "ProgressStyleModel",
      "state": {
       "_model_module": "@jupyter-widgets/controls",
       "_model_module_version": "1.5.0",
       "_model_name": "ProgressStyleModel",
       "_view_count": null,
       "_view_module": "@jupyter-widgets/base",
       "_view_module_version": "1.2.0",
       "_view_name": "StyleView",
       "bar_color": null,
       "description_width": ""
      }
     },
     "6826a02838df4cc892f7d9761f8e2e1f": {
      "model_module": "@jupyter-widgets/controls",
      "model_module_version": "1.5.0",
      "model_name": "HTMLModel",
      "state": {
       "_dom_classes": [],
       "_model_module": "@jupyter-widgets/controls",
       "_model_module_version": "1.5.0",
       "_model_name": "HTMLModel",
       "_view_count": null,
       "_view_module": "@jupyter-widgets/controls",
       "_view_module_version": "1.5.0",
       "_view_name": "HTMLView",
       "description": "",
       "description_tooltip": null,
       "layout": "IPY_MODEL_eff78d9c196d44569a9b7cd03d364c65",
       "placeholder": "​",
       "style": "IPY_MODEL_365e24100dca4dafaba02503108cdcdb",
       "value": "100%"
      }
     },
     "6a43c90212fd498c950ddd567e55a568": {
      "model_module": "@jupyter-widgets/base",
      "model_module_version": "1.2.0",
      "model_name": "LayoutModel",
      "state": {
       "_model_module": "@jupyter-widgets/base",
       "_model_module_version": "1.2.0",
       "_model_name": "LayoutModel",
       "_view_count": null,
       "_view_module": "@jupyter-widgets/base",
       "_view_module_version": "1.2.0",
       "_view_name": "LayoutView",
       "align_content": null,
       "align_items": null,
       "align_self": null,
       "border": null,
       "bottom": null,
       "display": null,
       "flex": null,
       "flex_flow": null,
       "grid_area": null,
       "grid_auto_columns": null,
       "grid_auto_flow": null,
       "grid_auto_rows": null,
       "grid_column": null,
       "grid_gap": null,
       "grid_row": null,
       "grid_template_areas": null,
       "grid_template_columns": null,
       "grid_template_rows": null,
       "height": null,
       "justify_content": null,
       "justify_items": null,
       "left": null,
       "margin": null,
       "max_height": null,
       "max_width": null,
       "min_height": null,
       "min_width": null,
       "object_fit": null,
       "object_position": null,
       "order": null,
       "overflow": null,
       "overflow_x": null,
       "overflow_y": null,
       "padding": null,
       "right": null,
       "top": null,
       "visibility": null,
       "width": null
      }
     },
     "6aa71af31de248499efd8ca569244122": {
      "model_module": "@jupyter-widgets/controls",
      "model_module_version": "1.5.0",
      "model_name": "HBoxModel",
      "state": {
       "_dom_classes": [],
       "_model_module": "@jupyter-widgets/controls",
       "_model_module_version": "1.5.0",
       "_model_name": "HBoxModel",
       "_view_count": null,
       "_view_module": "@jupyter-widgets/controls",
       "_view_module_version": "1.5.0",
       "_view_name": "HBoxView",
       "box_style": "",
       "children": [
        "IPY_MODEL_6826a02838df4cc892f7d9761f8e2e1f",
        "IPY_MODEL_00a890b41bdb4c3db8b3eb36eabf6566",
        "IPY_MODEL_db49ba1505054aac9de03ae10d0a40b8"
       ],
       "layout": "IPY_MODEL_b7d1ae48be3941789982acc7a94f4bb0"
      }
     },
     "6c7d4996dc024eb598bfe1b4b5603811": {
      "model_module": "@jupyter-widgets/base",
      "model_module_version": "1.2.0",
      "model_name": "LayoutModel",
      "state": {
       "_model_module": "@jupyter-widgets/base",
       "_model_module_version": "1.2.0",
       "_model_name": "LayoutModel",
       "_view_count": null,
       "_view_module": "@jupyter-widgets/base",
       "_view_module_version": "1.2.0",
       "_view_name": "LayoutView",
       "align_content": null,
       "align_items": null,
       "align_self": null,
       "border": null,
       "bottom": null,
       "display": null,
       "flex": null,
       "flex_flow": null,
       "grid_area": null,
       "grid_auto_columns": null,
       "grid_auto_flow": null,
       "grid_auto_rows": null,
       "grid_column": null,
       "grid_gap": null,
       "grid_row": null,
       "grid_template_areas": null,
       "grid_template_columns": null,
       "grid_template_rows": null,
       "height": null,
       "justify_content": null,
       "justify_items": null,
       "left": null,
       "margin": null,
       "max_height": null,
       "max_width": null,
       "min_height": null,
       "min_width": null,
       "object_fit": null,
       "object_position": null,
       "order": null,
       "overflow": null,
       "overflow_x": null,
       "overflow_y": null,
       "padding": null,
       "right": null,
       "top": null,
       "visibility": null,
       "width": null
      }
     },
     "72cca60ba8244233bcf4e738dc34fbe8": {
      "model_module": "@jupyter-widgets/base",
      "model_module_version": "1.2.0",
      "model_name": "LayoutModel",
      "state": {
       "_model_module": "@jupyter-widgets/base",
       "_model_module_version": "1.2.0",
       "_model_name": "LayoutModel",
       "_view_count": null,
       "_view_module": "@jupyter-widgets/base",
       "_view_module_version": "1.2.0",
       "_view_name": "LayoutView",
       "align_content": null,
       "align_items": null,
       "align_self": null,
       "border": null,
       "bottom": null,
       "display": null,
       "flex": null,
       "flex_flow": null,
       "grid_area": null,
       "grid_auto_columns": null,
       "grid_auto_flow": null,
       "grid_auto_rows": null,
       "grid_column": null,
       "grid_gap": null,
       "grid_row": null,
       "grid_template_areas": null,
       "grid_template_columns": null,
       "grid_template_rows": null,
       "height": null,
       "justify_content": null,
       "justify_items": null,
       "left": null,
       "margin": null,
       "max_height": null,
       "max_width": null,
       "min_height": null,
       "min_width": null,
       "object_fit": null,
       "object_position": null,
       "order": null,
       "overflow": null,
       "overflow_x": null,
       "overflow_y": null,
       "padding": null,
       "right": null,
       "top": null,
       "visibility": null,
       "width": null
      }
     },
     "735ba772837c49f497991517a09dc00e": {
      "model_module": "@jupyter-widgets/controls",
      "model_module_version": "1.5.0",
      "model_name": "FloatProgressModel",
      "state": {
       "_dom_classes": [],
       "_model_module": "@jupyter-widgets/controls",
       "_model_module_version": "1.5.0",
       "_model_name": "FloatProgressModel",
       "_view_count": null,
       "_view_module": "@jupyter-widgets/controls",
       "_view_module_version": "1.5.0",
       "_view_name": "ProgressView",
       "bar_style": "success",
       "description": "",
       "description_tooltip": null,
       "layout": "IPY_MODEL_1f47a8cc7db54ec586ce5bae0dd0b006",
       "max": 10.0,
       "min": 0.0,
       "orientation": "horizontal",
       "style": "IPY_MODEL_e6f36479558944ee8a97b8116a610364",
       "value": 10.0
      }
     },
     "736c1c6a17124f5c903a163fb679e8a5": {
      "model_module": "@jupyter-widgets/controls",
      "model_module_version": "1.5.0",
      "model_name": "HTMLModel",
      "state": {
       "_dom_classes": [],
       "_model_module": "@jupyter-widgets/controls",
       "_model_module_version": "1.5.0",
       "_model_name": "HTMLModel",
       "_view_count": null,
       "_view_module": "@jupyter-widgets/controls",
       "_view_module_version": "1.5.0",
       "_view_name": "HTMLView",
       "description": "",
       "description_tooltip": null,
       "layout": "IPY_MODEL_e259d82669d642349a593d7de423bb81",
       "placeholder": "​",
       "style": "IPY_MODEL_1ef77abdfedd4128af02d3e3a67792ff",
       "value": "100%"
      }
     },
     "76f55a26404e42ecb7b2c40581293d82": {
      "model_module": "@jupyter-widgets/controls",
      "model_module_version": "1.5.0",
      "model_name": "DescriptionStyleModel",
      "state": {
       "_model_module": "@jupyter-widgets/controls",
       "_model_module_version": "1.5.0",
       "_model_name": "DescriptionStyleModel",
       "_view_count": null,
       "_view_module": "@jupyter-widgets/base",
       "_view_module_version": "1.2.0",
       "_view_name": "StyleView",
       "description_width": ""
      }
     },
     "797a4443e9ae4886b0d836dd1c645b9c": {
      "model_module": "@jupyter-widgets/controls",
      "model_module_version": "1.5.0",
      "model_name": "HBoxModel",
      "state": {
       "_dom_classes": [],
       "_model_module": "@jupyter-widgets/controls",
       "_model_module_version": "1.5.0",
       "_model_name": "HBoxModel",
       "_view_count": null,
       "_view_module": "@jupyter-widgets/controls",
       "_view_module_version": "1.5.0",
       "_view_name": "HBoxView",
       "box_style": "",
       "children": [
        "IPY_MODEL_917539bdc79e41019db5cfdfc8475548",
        "IPY_MODEL_dae237b9cf754ddb9a05cf94930248a3",
        "IPY_MODEL_1c303dbee07d42229e933dc1d278f4bc"
       ],
       "layout": "IPY_MODEL_085bba904c374f929c4832cc4f14cd97"
      }
     },
     "7986992c123347f5baf5da05dc61ec7e": {
      "model_module": "@jupyter-widgets/controls",
      "model_module_version": "1.5.0",
      "model_name": "HTMLModel",
      "state": {
       "_dom_classes": [],
       "_model_module": "@jupyter-widgets/controls",
       "_model_module_version": "1.5.0",
       "_model_name": "HTMLModel",
       "_view_count": null,
       "_view_module": "@jupyter-widgets/controls",
       "_view_module_version": "1.5.0",
       "_view_name": "HTMLView",
       "description": "",
       "description_tooltip": null,
       "layout": "IPY_MODEL_6c7d4996dc024eb598bfe1b4b5603811",
       "placeholder": "​",
       "style": "IPY_MODEL_c45b079bc468448382255dc15307fd11",
       "value": " 5/5 [00:00&lt;00:00, 355.18it/s]"
      }
     },
     "79af918506ba4a649dd055a3ae6dea95": {
      "model_module": "@jupyter-widgets/controls",
      "model_module_version": "1.5.0",
      "model_name": "HTMLModel",
      "state": {
       "_dom_classes": [],
       "_model_module": "@jupyter-widgets/controls",
       "_model_module_version": "1.5.0",
       "_model_name": "HTMLModel",
       "_view_count": null,
       "_view_module": "@jupyter-widgets/controls",
       "_view_module_version": "1.5.0",
       "_view_name": "HTMLView",
       "description": "",
       "description_tooltip": null,
       "layout": "IPY_MODEL_3844ef3bc44847c89150417a5e626e4b",
       "placeholder": "​",
       "style": "IPY_MODEL_b0776ef260ca4a378302e2e34ff6971e",
       "value": " 10/10 [00:00&lt;00:00, 107.20it/s]"
      }
     },
     "7ea208d55933455692012b752a811244": {
      "model_module": "@jupyter-widgets/controls",
      "model_module_version": "1.5.0",
      "model_name": "HTMLModel",
      "state": {
       "_dom_classes": [],
       "_model_module": "@jupyter-widgets/controls",
       "_model_module_version": "1.5.0",
       "_model_name": "HTMLModel",
       "_view_count": null,
       "_view_module": "@jupyter-widgets/controls",
       "_view_module_version": "1.5.0",
       "_view_name": "HTMLView",
       "description": "",
       "description_tooltip": null,
       "layout": "IPY_MODEL_f816818e98634237a596b8661dd91b09",
       "placeholder": "​",
       "style": "IPY_MODEL_c1b244c1e3bc40e39d67f34840f522e5",
       "value": "100%"
      }
     },
     "8214d80997af42cb920f13e019e0f22a": {
      "model_module": "@jupyter-widgets/controls",
      "model_module_version": "1.5.0",
      "model_name": "DescriptionStyleModel",
      "state": {
       "_model_module": "@jupyter-widgets/controls",
       "_model_module_version": "1.5.0",
       "_model_name": "DescriptionStyleModel",
       "_view_count": null,
       "_view_module": "@jupyter-widgets/base",
       "_view_module_version": "1.2.0",
       "_view_name": "StyleView",
       "description_width": ""
      }
     },
     "83dbd0eb05784a198ced0c0a8bfa78a4": {
      "model_module": "@jupyter-widgets/controls",
      "model_module_version": "1.5.0",
      "model_name": "DescriptionStyleModel",
      "state": {
       "_model_module": "@jupyter-widgets/controls",
       "_model_module_version": "1.5.0",
       "_model_name": "DescriptionStyleModel",
       "_view_count": null,
       "_view_module": "@jupyter-widgets/base",
       "_view_module_version": "1.2.0",
       "_view_name": "StyleView",
       "description_width": ""
      }
     },
     "84b01f12d44842539ec2353d85fdde45": {
      "model_module": "@jupyter-widgets/controls",
      "model_module_version": "1.5.0",
      "model_name": "ProgressStyleModel",
      "state": {
       "_model_module": "@jupyter-widgets/controls",
       "_model_module_version": "1.5.0",
       "_model_name": "ProgressStyleModel",
       "_view_count": null,
       "_view_module": "@jupyter-widgets/base",
       "_view_module_version": "1.2.0",
       "_view_name": "StyleView",
       "bar_color": null,
       "description_width": ""
      }
     },
     "857cc677202e41db8a6487910363079d": {
      "model_module": "@jupyter-widgets/base",
      "model_module_version": "1.2.0",
      "model_name": "LayoutModel",
      "state": {
       "_model_module": "@jupyter-widgets/base",
       "_model_module_version": "1.2.0",
       "_model_name": "LayoutModel",
       "_view_count": null,
       "_view_module": "@jupyter-widgets/base",
       "_view_module_version": "1.2.0",
       "_view_name": "LayoutView",
       "align_content": null,
       "align_items": null,
       "align_self": null,
       "border": null,
       "bottom": null,
       "display": null,
       "flex": null,
       "flex_flow": null,
       "grid_area": null,
       "grid_auto_columns": null,
       "grid_auto_flow": null,
       "grid_auto_rows": null,
       "grid_column": null,
       "grid_gap": null,
       "grid_row": null,
       "grid_template_areas": null,
       "grid_template_columns": null,
       "grid_template_rows": null,
       "height": null,
       "justify_content": null,
       "justify_items": null,
       "left": null,
       "margin": null,
       "max_height": null,
       "max_width": null,
       "min_height": null,
       "min_width": null,
       "object_fit": null,
       "object_position": null,
       "order": null,
       "overflow": null,
       "overflow_x": null,
       "overflow_y": null,
       "padding": null,
       "right": null,
       "top": null,
       "visibility": null,
       "width": null
      }
     },
     "8667d00d0e7444c2a1fcbc5e8c0e34f4": {
      "model_module": "@jupyter-widgets/controls",
      "model_module_version": "1.5.0",
      "model_name": "DescriptionStyleModel",
      "state": {
       "_model_module": "@jupyter-widgets/controls",
       "_model_module_version": "1.5.0",
       "_model_name": "DescriptionStyleModel",
       "_view_count": null,
       "_view_module": "@jupyter-widgets/base",
       "_view_module_version": "1.2.0",
       "_view_name": "StyleView",
       "description_width": ""
      }
     },
     "877f01a6112941b39c056478c87e0369": {
      "model_module": "@jupyter-widgets/base",
      "model_module_version": "1.2.0",
      "model_name": "LayoutModel",
      "state": {
       "_model_module": "@jupyter-widgets/base",
       "_model_module_version": "1.2.0",
       "_model_name": "LayoutModel",
       "_view_count": null,
       "_view_module": "@jupyter-widgets/base",
       "_view_module_version": "1.2.0",
       "_view_name": "LayoutView",
       "align_content": null,
       "align_items": null,
       "align_self": null,
       "border": null,
       "bottom": null,
       "display": null,
       "flex": null,
       "flex_flow": null,
       "grid_area": null,
       "grid_auto_columns": null,
       "grid_auto_flow": null,
       "grid_auto_rows": null,
       "grid_column": null,
       "grid_gap": null,
       "grid_row": null,
       "grid_template_areas": null,
       "grid_template_columns": null,
       "grid_template_rows": null,
       "height": null,
       "justify_content": null,
       "justify_items": null,
       "left": null,
       "margin": null,
       "max_height": null,
       "max_width": null,
       "min_height": null,
       "min_width": null,
       "object_fit": null,
       "object_position": null,
       "order": null,
       "overflow": null,
       "overflow_x": null,
       "overflow_y": null,
       "padding": null,
       "right": null,
       "top": null,
       "visibility": null,
       "width": null
      }
     },
     "89114304e43f402d8465b7a6825ea5a8": {
      "model_module": "@jupyter-widgets/base",
      "model_module_version": "1.2.0",
      "model_name": "LayoutModel",
      "state": {
       "_model_module": "@jupyter-widgets/base",
       "_model_module_version": "1.2.0",
       "_model_name": "LayoutModel",
       "_view_count": null,
       "_view_module": "@jupyter-widgets/base",
       "_view_module_version": "1.2.0",
       "_view_name": "LayoutView",
       "align_content": null,
       "align_items": null,
       "align_self": null,
       "border": null,
       "bottom": null,
       "display": null,
       "flex": null,
       "flex_flow": null,
       "grid_area": null,
       "grid_auto_columns": null,
       "grid_auto_flow": null,
       "grid_auto_rows": null,
       "grid_column": null,
       "grid_gap": null,
       "grid_row": null,
       "grid_template_areas": null,
       "grid_template_columns": null,
       "grid_template_rows": null,
       "height": null,
       "justify_content": null,
       "justify_items": null,
       "left": null,
       "margin": null,
       "max_height": null,
       "max_width": null,
       "min_height": null,
       "min_width": null,
       "object_fit": null,
       "object_position": null,
       "order": null,
       "overflow": null,
       "overflow_x": null,
       "overflow_y": null,
       "padding": null,
       "right": null,
       "top": null,
       "visibility": null,
       "width": null
      }
     },
     "8faa264db7804348bef682cf6a64340a": {
      "model_module": "@jupyter-widgets/base",
      "model_module_version": "1.2.0",
      "model_name": "LayoutModel",
      "state": {
       "_model_module": "@jupyter-widgets/base",
       "_model_module_version": "1.2.0",
       "_model_name": "LayoutModel",
       "_view_count": null,
       "_view_module": "@jupyter-widgets/base",
       "_view_module_version": "1.2.0",
       "_view_name": "LayoutView",
       "align_content": null,
       "align_items": null,
       "align_self": null,
       "border": null,
       "bottom": null,
       "display": null,
       "flex": null,
       "flex_flow": null,
       "grid_area": null,
       "grid_auto_columns": null,
       "grid_auto_flow": null,
       "grid_auto_rows": null,
       "grid_column": null,
       "grid_gap": null,
       "grid_row": null,
       "grid_template_areas": null,
       "grid_template_columns": null,
       "grid_template_rows": null,
       "height": null,
       "justify_content": null,
       "justify_items": null,
       "left": null,
       "margin": null,
       "max_height": null,
       "max_width": null,
       "min_height": null,
       "min_width": null,
       "object_fit": null,
       "object_position": null,
       "order": null,
       "overflow": null,
       "overflow_x": null,
       "overflow_y": null,
       "padding": null,
       "right": null,
       "top": null,
       "visibility": null,
       "width": null
      }
     },
     "917539bdc79e41019db5cfdfc8475548": {
      "model_module": "@jupyter-widgets/controls",
      "model_module_version": "1.5.0",
      "model_name": "HTMLModel",
      "state": {
       "_dom_classes": [],
       "_model_module": "@jupyter-widgets/controls",
       "_model_module_version": "1.5.0",
       "_model_name": "HTMLModel",
       "_view_count": null,
       "_view_module": "@jupyter-widgets/controls",
       "_view_module_version": "1.5.0",
       "_view_name": "HTMLView",
       "description": "",
       "description_tooltip": null,
       "layout": "IPY_MODEL_51945ba18adf4577af9a12cc5ce35d51",
       "placeholder": "​",
       "style": "IPY_MODEL_83dbd0eb05784a198ced0c0a8bfa78a4",
       "value": "100%"
      }
     },
     "944f064eadff420aa09e317bf1077507": {
      "model_module": "@jupyter-widgets/base",
      "model_module_version": "1.2.0",
      "model_name": "LayoutModel",
      "state": {
       "_model_module": "@jupyter-widgets/base",
       "_model_module_version": "1.2.0",
       "_model_name": "LayoutModel",
       "_view_count": null,
       "_view_module": "@jupyter-widgets/base",
       "_view_module_version": "1.2.0",
       "_view_name": "LayoutView",
       "align_content": null,
       "align_items": null,
       "align_self": null,
       "border": null,
       "bottom": null,
       "display": null,
       "flex": null,
       "flex_flow": null,
       "grid_area": null,
       "grid_auto_columns": null,
       "grid_auto_flow": null,
       "grid_auto_rows": null,
       "grid_column": null,
       "grid_gap": null,
       "grid_row": null,
       "grid_template_areas": null,
       "grid_template_columns": null,
       "grid_template_rows": null,
       "height": null,
       "justify_content": null,
       "justify_items": null,
       "left": null,
       "margin": null,
       "max_height": null,
       "max_width": null,
       "min_height": null,
       "min_width": null,
       "object_fit": null,
       "object_position": null,
       "order": null,
       "overflow": null,
       "overflow_x": null,
       "overflow_y": null,
       "padding": null,
       "right": null,
       "top": null,
       "visibility": null,
       "width": null
      }
     },
     "95832c16638e48cc9d5efdb7b0494d71": {
      "model_module": "@jupyter-widgets/controls",
      "model_module_version": "1.5.0",
      "model_name": "DescriptionStyleModel",
      "state": {
       "_model_module": "@jupyter-widgets/controls",
       "_model_module_version": "1.5.0",
       "_model_name": "DescriptionStyleModel",
       "_view_count": null,
       "_view_module": "@jupyter-widgets/base",
       "_view_module_version": "1.2.0",
       "_view_name": "StyleView",
       "description_width": ""
      }
     },
     "96054934e1144136ba8ab0591e96869c": {
      "model_module": "@jupyter-widgets/base",
      "model_module_version": "1.2.0",
      "model_name": "LayoutModel",
      "state": {
       "_model_module": "@jupyter-widgets/base",
       "_model_module_version": "1.2.0",
       "_model_name": "LayoutModel",
       "_view_count": null,
       "_view_module": "@jupyter-widgets/base",
       "_view_module_version": "1.2.0",
       "_view_name": "LayoutView",
       "align_content": null,
       "align_items": null,
       "align_self": null,
       "border": null,
       "bottom": null,
       "display": null,
       "flex": null,
       "flex_flow": null,
       "grid_area": null,
       "grid_auto_columns": null,
       "grid_auto_flow": null,
       "grid_auto_rows": null,
       "grid_column": null,
       "grid_gap": null,
       "grid_row": null,
       "grid_template_areas": null,
       "grid_template_columns": null,
       "grid_template_rows": null,
       "height": null,
       "justify_content": null,
       "justify_items": null,
       "left": null,
       "margin": null,
       "max_height": null,
       "max_width": null,
       "min_height": null,
       "min_width": null,
       "object_fit": null,
       "object_position": null,
       "order": null,
       "overflow": null,
       "overflow_x": null,
       "overflow_y": null,
       "padding": null,
       "right": null,
       "top": null,
       "visibility": null,
       "width": null
      }
     },
     "97c63810cdb04bd4a877f7d95f0d21e2": {
      "model_module": "@jupyter-widgets/controls",
      "model_module_version": "1.5.0",
      "model_name": "FloatProgressModel",
      "state": {
       "_dom_classes": [],
       "_model_module": "@jupyter-widgets/controls",
       "_model_module_version": "1.5.0",
       "_model_name": "FloatProgressModel",
       "_view_count": null,
       "_view_module": "@jupyter-widgets/controls",
       "_view_module_version": "1.5.0",
       "_view_name": "ProgressView",
       "bar_style": "success",
       "description": "",
       "description_tooltip": null,
       "layout": "IPY_MODEL_1a6ee4b87e6b432fa92127e49c23054b",
       "max": 5.0,
       "min": 0.0,
       "orientation": "horizontal",
       "style": "IPY_MODEL_84b01f12d44842539ec2353d85fdde45",
       "value": 5.0
      }
     },
     "97d9b25e724c42b0aa0a6dc9e8486965": {
      "model_module": "@jupyter-widgets/controls",
      "model_module_version": "1.5.0",
      "model_name": "HTMLModel",
      "state": {
       "_dom_classes": [],
       "_model_module": "@jupyter-widgets/controls",
       "_model_module_version": "1.5.0",
       "_model_name": "HTMLModel",
       "_view_count": null,
       "_view_module": "@jupyter-widgets/controls",
       "_view_module_version": "1.5.0",
       "_view_name": "HTMLView",
       "description": "",
       "description_tooltip": null,
       "layout": "IPY_MODEL_ca63953a8038451ca0f22530256d22fb",
       "placeholder": "​",
       "style": "IPY_MODEL_76f55a26404e42ecb7b2c40581293d82",
       "value": " 5/5 [00:00&lt;00:00, 361.19it/s]"
      }
     },
     "99fb080cd04a4dbabd847cb96771e484": {
      "model_module": "@jupyter-widgets/controls",
      "model_module_version": "1.5.0",
      "model_name": "ProgressStyleModel",
      "state": {
       "_model_module": "@jupyter-widgets/controls",
       "_model_module_version": "1.5.0",
       "_model_name": "ProgressStyleModel",
       "_view_count": null,
       "_view_module": "@jupyter-widgets/base",
       "_view_module_version": "1.2.0",
       "_view_name": "StyleView",
       "bar_color": null,
       "description_width": ""
      }
     },
     "9b28b24eb0c64d8ca028441c79e3615e": {
      "model_module": "@jupyter-widgets/controls",
      "model_module_version": "1.5.0",
      "model_name": "HTMLModel",
      "state": {
       "_dom_classes": [],
       "_model_module": "@jupyter-widgets/controls",
       "_model_module_version": "1.5.0",
       "_model_name": "HTMLModel",
       "_view_count": null,
       "_view_module": "@jupyter-widgets/controls",
       "_view_module_version": "1.5.0",
       "_view_name": "HTMLView",
       "description": "",
       "description_tooltip": null,
       "layout": "IPY_MODEL_d5894aa57aba4861a86cae994571285d",
       "placeholder": "​",
       "style": "IPY_MODEL_95832c16638e48cc9d5efdb7b0494d71",
       "value": " 10/10 [00:00&lt;00:00, 17.69it/s]"
      }
     },
     "9f8b2a19ffc14c91bd00aa947b4ed1f7": {
      "model_module": "@jupyter-widgets/controls",
      "model_module_version": "1.5.0",
      "model_name": "HTMLModel",
      "state": {
       "_dom_classes": [],
       "_model_module": "@jupyter-widgets/controls",
       "_model_module_version": "1.5.0",
       "_model_name": "HTMLModel",
       "_view_count": null,
       "_view_module": "@jupyter-widgets/controls",
       "_view_module_version": "1.5.0",
       "_view_name": "HTMLView",
       "description": "",
       "description_tooltip": null,
       "layout": "IPY_MODEL_cd4ab246e93841f9bbea3df72395632d",
       "placeholder": "​",
       "style": "IPY_MODEL_58c36f8d1ebd41a0ba95585048bbd70b",
       "value": " | loss 0.800 Δ -0.000 :  ✓: 100%"
      }
     },
     "a14ad0cd6ec44f4b8164ea954415c941": {
      "model_module": "@jupyter-widgets/controls",
      "model_module_version": "1.5.0",
      "model_name": "DescriptionStyleModel",
      "state": {
       "_model_module": "@jupyter-widgets/controls",
       "_model_module_version": "1.5.0",
       "_model_name": "DescriptionStyleModel",
       "_view_count": null,
       "_view_module": "@jupyter-widgets/base",
       "_view_module_version": "1.2.0",
       "_view_name": "StyleView",
       "description_width": ""
      }
     },
     "a7b84522e7f443718806bb2abcad9d28": {
      "model_module": "@jupyter-widgets/controls",
      "model_module_version": "1.5.0",
      "model_name": "ProgressStyleModel",
      "state": {
       "_model_module": "@jupyter-widgets/controls",
       "_model_module_version": "1.5.0",
       "_model_name": "ProgressStyleModel",
       "_view_count": null,
       "_view_module": "@jupyter-widgets/base",
       "_view_module_version": "1.2.0",
       "_view_name": "StyleView",
       "bar_color": null,
       "description_width": ""
      }
     },
     "a9559789d72e4aefac49f3738f415bf7": {
      "model_module": "@jupyter-widgets/controls",
      "model_module_version": "1.5.0",
      "model_name": "DescriptionStyleModel",
      "state": {
       "_model_module": "@jupyter-widgets/controls",
       "_model_module_version": "1.5.0",
       "_model_name": "DescriptionStyleModel",
       "_view_count": null,
       "_view_module": "@jupyter-widgets/base",
       "_view_module_version": "1.2.0",
       "_view_name": "StyleView",
       "description_width": ""
      }
     },
     "a9da2eefe42e48e5bd1edef62fe66772": {
      "model_module": "@jupyter-widgets/controls",
      "model_module_version": "1.5.0",
      "model_name": "HTMLModel",
      "state": {
       "_dom_classes": [],
       "_model_module": "@jupyter-widgets/controls",
       "_model_module_version": "1.5.0",
       "_model_name": "HTMLModel",
       "_view_count": null,
       "_view_module": "@jupyter-widgets/controls",
       "_view_module_version": "1.5.0",
       "_view_name": "HTMLView",
       "description": "",
       "description_tooltip": null,
       "layout": "IPY_MODEL_2b21c9df551c431fb87888e94f4bc523",
       "placeholder": "​",
       "style": "IPY_MODEL_0c6bb049c79645439e89936ddaba4aaa",
       "value": "100%"
      }
     },
     "a9da8c28ee6a442fa1e18d1012700199": {
      "model_module": "@jupyter-widgets/controls",
      "model_module_version": "1.5.0",
      "model_name": "ProgressStyleModel",
      "state": {
       "_model_module": "@jupyter-widgets/controls",
       "_model_module_version": "1.5.0",
       "_model_name": "ProgressStyleModel",
       "_view_count": null,
       "_view_module": "@jupyter-widgets/base",
       "_view_module_version": "1.2.0",
       "_view_name": "StyleView",
       "bar_color": null,
       "description_width": ""
      }
     },
     "aae0a8b8ec754706a8f87f281c8dc49b": {
      "model_module": "@jupyter-widgets/controls",
      "model_module_version": "1.5.0",
      "model_name": "DescriptionStyleModel",
      "state": {
       "_model_module": "@jupyter-widgets/controls",
       "_model_module_version": "1.5.0",
       "_model_name": "DescriptionStyleModel",
       "_view_count": null,
       "_view_module": "@jupyter-widgets/base",
       "_view_module_version": "1.2.0",
       "_view_name": "StyleView",
       "description_width": ""
      }
     },
     "ab3a2b3a34174830a6565c45f9a6f98b": {
      "model_module": "@jupyter-widgets/base",
      "model_module_version": "1.2.0",
      "model_name": "LayoutModel",
      "state": {
       "_model_module": "@jupyter-widgets/base",
       "_model_module_version": "1.2.0",
       "_model_name": "LayoutModel",
       "_view_count": null,
       "_view_module": "@jupyter-widgets/base",
       "_view_module_version": "1.2.0",
       "_view_name": "LayoutView",
       "align_content": null,
       "align_items": null,
       "align_self": null,
       "border": null,
       "bottom": null,
       "display": null,
       "flex": "2",
       "flex_flow": null,
       "grid_area": null,
       "grid_auto_columns": null,
       "grid_auto_flow": null,
       "grid_auto_rows": null,
       "grid_column": null,
       "grid_gap": null,
       "grid_row": null,
       "grid_template_areas": null,
       "grid_template_columns": null,
       "grid_template_rows": null,
       "height": null,
       "justify_content": null,
       "justify_items": null,
       "left": null,
       "margin": null,
       "max_height": null,
       "max_width": null,
       "min_height": null,
       "min_width": null,
       "object_fit": null,
       "object_position": null,
       "order": null,
       "overflow": null,
       "overflow_x": null,
       "overflow_y": null,
       "padding": null,
       "right": null,
       "top": null,
       "visibility": null,
       "width": null
      }
     },
     "ac946ce2ba3a439798b29d1fbbf4b30f": {
      "model_module": "@jupyter-widgets/base",
      "model_module_version": "1.2.0",
      "model_name": "LayoutModel",
      "state": {
       "_model_module": "@jupyter-widgets/base",
       "_model_module_version": "1.2.0",
       "_model_name": "LayoutModel",
       "_view_count": null,
       "_view_module": "@jupyter-widgets/base",
       "_view_module_version": "1.2.0",
       "_view_name": "LayoutView",
       "align_content": null,
       "align_items": null,
       "align_self": null,
       "border": null,
       "bottom": null,
       "display": "inline-flex",
       "flex": null,
       "flex_flow": "row wrap",
       "grid_area": null,
       "grid_auto_columns": null,
       "grid_auto_flow": null,
       "grid_auto_rows": null,
       "grid_column": null,
       "grid_gap": null,
       "grid_row": null,
       "grid_template_areas": null,
       "grid_template_columns": null,
       "grid_template_rows": null,
       "height": null,
       "justify_content": null,
       "justify_items": null,
       "left": null,
       "margin": null,
       "max_height": null,
       "max_width": null,
       "min_height": null,
       "min_width": null,
       "object_fit": null,
       "object_position": null,
       "order": null,
       "overflow": null,
       "overflow_x": null,
       "overflow_y": null,
       "padding": null,
       "right": null,
       "top": null,
       "visibility": null,
       "width": "1000px"
      }
     },
     "ad363b81c07d475fbd0e746bb5121bac": {
      "model_module": "@jupyter-widgets/base",
      "model_module_version": "1.2.0",
      "model_name": "LayoutModel",
      "state": {
       "_model_module": "@jupyter-widgets/base",
       "_model_module_version": "1.2.0",
       "_model_name": "LayoutModel",
       "_view_count": null,
       "_view_module": "@jupyter-widgets/base",
       "_view_module_version": "1.2.0",
       "_view_name": "LayoutView",
       "align_content": null,
       "align_items": null,
       "align_self": null,
       "border": null,
       "bottom": null,
       "display": null,
       "flex": null,
       "flex_flow": null,
       "grid_area": null,
       "grid_auto_columns": null,
       "grid_auto_flow": null,
       "grid_auto_rows": null,
       "grid_column": null,
       "grid_gap": null,
       "grid_row": null,
       "grid_template_areas": null,
       "grid_template_columns": null,
       "grid_template_rows": null,
       "height": null,
       "justify_content": null,
       "justify_items": null,
       "left": null,
       "margin": null,
       "max_height": null,
       "max_width": null,
       "min_height": null,
       "min_width": null,
       "object_fit": null,
       "object_position": null,
       "order": null,
       "overflow": null,
       "overflow_x": null,
       "overflow_y": null,
       "padding": null,
       "right": null,
       "top": null,
       "visibility": null,
       "width": null
      }
     },
     "ae79af97cae44980b98deded6c02cf6b": {
      "model_module": "@jupyter-widgets/base",
      "model_module_version": "1.2.0",
      "model_name": "LayoutModel",
      "state": {
       "_model_module": "@jupyter-widgets/base",
       "_model_module_version": "1.2.0",
       "_model_name": "LayoutModel",
       "_view_count": null,
       "_view_module": "@jupyter-widgets/base",
       "_view_module_version": "1.2.0",
       "_view_name": "LayoutView",
       "align_content": null,
       "align_items": null,
       "align_self": null,
       "border": null,
       "bottom": null,
       "display": null,
       "flex": "2",
       "flex_flow": null,
       "grid_area": null,
       "grid_auto_columns": null,
       "grid_auto_flow": null,
       "grid_auto_rows": null,
       "grid_column": null,
       "grid_gap": null,
       "grid_row": null,
       "grid_template_areas": null,
       "grid_template_columns": null,
       "grid_template_rows": null,
       "height": null,
       "justify_content": null,
       "justify_items": null,
       "left": null,
       "margin": null,
       "max_height": null,
       "max_width": null,
       "min_height": null,
       "min_width": null,
       "object_fit": null,
       "object_position": null,
       "order": null,
       "overflow": null,
       "overflow_x": null,
       "overflow_y": null,
       "padding": null,
       "right": null,
       "top": null,
       "visibility": null,
       "width": null
      }
     },
     "afcd7c5cdc744679808df50ec5a81c79": {
      "model_module": "@jupyter-widgets/controls",
      "model_module_version": "1.5.0",
      "model_name": "DescriptionStyleModel",
      "state": {
       "_model_module": "@jupyter-widgets/controls",
       "_model_module_version": "1.5.0",
       "_model_name": "DescriptionStyleModel",
       "_view_count": null,
       "_view_module": "@jupyter-widgets/base",
       "_view_module_version": "1.2.0",
       "_view_name": "StyleView",
       "description_width": ""
      }
     },
     "b048305dbce24e30b16b988b38a61559": {
      "model_module": "@jupyter-widgets/controls",
      "model_module_version": "1.5.0",
      "model_name": "DescriptionStyleModel",
      "state": {
       "_model_module": "@jupyter-widgets/controls",
       "_model_module_version": "1.5.0",
       "_model_name": "DescriptionStyleModel",
       "_view_count": null,
       "_view_module": "@jupyter-widgets/base",
       "_view_module_version": "1.2.0",
       "_view_name": "StyleView",
       "description_width": ""
      }
     },
     "b0776ef260ca4a378302e2e34ff6971e": {
      "model_module": "@jupyter-widgets/controls",
      "model_module_version": "1.5.0",
      "model_name": "DescriptionStyleModel",
      "state": {
       "_model_module": "@jupyter-widgets/controls",
       "_model_module_version": "1.5.0",
       "_model_name": "DescriptionStyleModel",
       "_view_count": null,
       "_view_module": "@jupyter-widgets/base",
       "_view_module_version": "1.2.0",
       "_view_name": "StyleView",
       "description_width": ""
      }
     },
     "b2d8568df92541a1872c4a8af661aa87": {
      "model_module": "@jupyter-widgets/base",
      "model_module_version": "1.2.0",
      "model_name": "LayoutModel",
      "state": {
       "_model_module": "@jupyter-widgets/base",
       "_model_module_version": "1.2.0",
       "_model_name": "LayoutModel",
       "_view_count": null,
       "_view_module": "@jupyter-widgets/base",
       "_view_module_version": "1.2.0",
       "_view_name": "LayoutView",
       "align_content": null,
       "align_items": null,
       "align_self": null,
       "border": null,
       "bottom": null,
       "display": null,
       "flex": null,
       "flex_flow": null,
       "grid_area": null,
       "grid_auto_columns": null,
       "grid_auto_flow": null,
       "grid_auto_rows": null,
       "grid_column": null,
       "grid_gap": null,
       "grid_row": null,
       "grid_template_areas": null,
       "grid_template_columns": null,
       "grid_template_rows": null,
       "height": null,
       "justify_content": null,
       "justify_items": null,
       "left": null,
       "margin": null,
       "max_height": null,
       "max_width": null,
       "min_height": null,
       "min_width": null,
       "object_fit": null,
       "object_position": null,
       "order": null,
       "overflow": null,
       "overflow_x": null,
       "overflow_y": null,
       "padding": null,
       "right": null,
       "top": null,
       "visibility": null,
       "width": null
      }
     },
     "b5aa04579eac418c97b7b2f17e390f80": {
      "model_module": "@jupyter-widgets/controls",
      "model_module_version": "1.5.0",
      "model_name": "DescriptionStyleModel",
      "state": {
       "_model_module": "@jupyter-widgets/controls",
       "_model_module_version": "1.5.0",
       "_model_name": "DescriptionStyleModel",
       "_view_count": null,
       "_view_module": "@jupyter-widgets/base",
       "_view_module_version": "1.2.0",
       "_view_name": "StyleView",
       "description_width": ""
      }
     },
     "b5d5beb5b2274c14949157de1f203c54": {
      "model_module": "@jupyter-widgets/base",
      "model_module_version": "1.2.0",
      "model_name": "LayoutModel",
      "state": {
       "_model_module": "@jupyter-widgets/base",
       "_model_module_version": "1.2.0",
       "_model_name": "LayoutModel",
       "_view_count": null,
       "_view_module": "@jupyter-widgets/base",
       "_view_module_version": "1.2.0",
       "_view_name": "LayoutView",
       "align_content": null,
       "align_items": null,
       "align_self": null,
       "border": null,
       "bottom": null,
       "display": null,
       "flex": null,
       "flex_flow": null,
       "grid_area": null,
       "grid_auto_columns": null,
       "grid_auto_flow": null,
       "grid_auto_rows": null,
       "grid_column": null,
       "grid_gap": null,
       "grid_row": null,
       "grid_template_areas": null,
       "grid_template_columns": null,
       "grid_template_rows": null,
       "height": null,
       "justify_content": null,
       "justify_items": null,
       "left": null,
       "margin": null,
       "max_height": null,
       "max_width": null,
       "min_height": null,
       "min_width": null,
       "object_fit": null,
       "object_position": null,
       "order": null,
       "overflow": null,
       "overflow_x": null,
       "overflow_y": null,
       "padding": null,
       "right": null,
       "top": null,
       "visibility": null,
       "width": null
      }
     },
     "b7423be549fa44b6ac202499c42455ac": {
      "model_module": "@jupyter-widgets/base",
      "model_module_version": "1.2.0",
      "model_name": "LayoutModel",
      "state": {
       "_model_module": "@jupyter-widgets/base",
       "_model_module_version": "1.2.0",
       "_model_name": "LayoutModel",
       "_view_count": null,
       "_view_module": "@jupyter-widgets/base",
       "_view_module_version": "1.2.0",
       "_view_name": "LayoutView",
       "align_content": null,
       "align_items": null,
       "align_self": null,
       "border": null,
       "bottom": null,
       "display": null,
       "flex": null,
       "flex_flow": null,
       "grid_area": null,
       "grid_auto_columns": null,
       "grid_auto_flow": null,
       "grid_auto_rows": null,
       "grid_column": null,
       "grid_gap": null,
       "grid_row": null,
       "grid_template_areas": null,
       "grid_template_columns": null,
       "grid_template_rows": null,
       "height": null,
       "justify_content": null,
       "justify_items": null,
       "left": null,
       "margin": null,
       "max_height": null,
       "max_width": null,
       "min_height": null,
       "min_width": null,
       "object_fit": null,
       "object_position": null,
       "order": null,
       "overflow": null,
       "overflow_x": null,
       "overflow_y": null,
       "padding": null,
       "right": null,
       "top": null,
       "visibility": null,
       "width": null
      }
     },
     "b7b4cdcd0f27453aa0d813f3bfe00725": {
      "model_module": "@jupyter-widgets/controls",
      "model_module_version": "1.5.0",
      "model_name": "DescriptionStyleModel",
      "state": {
       "_model_module": "@jupyter-widgets/controls",
       "_model_module_version": "1.5.0",
       "_model_name": "DescriptionStyleModel",
       "_view_count": null,
       "_view_module": "@jupyter-widgets/base",
       "_view_module_version": "1.2.0",
       "_view_name": "StyleView",
       "description_width": ""
      }
     },
     "b7d1ae48be3941789982acc7a94f4bb0": {
      "model_module": "@jupyter-widgets/base",
      "model_module_version": "1.2.0",
      "model_name": "LayoutModel",
      "state": {
       "_model_module": "@jupyter-widgets/base",
       "_model_module_version": "1.2.0",
       "_model_name": "LayoutModel",
       "_view_count": null,
       "_view_module": "@jupyter-widgets/base",
       "_view_module_version": "1.2.0",
       "_view_name": "LayoutView",
       "align_content": null,
       "align_items": null,
       "align_self": null,
       "border": null,
       "bottom": null,
       "display": null,
       "flex": null,
       "flex_flow": null,
       "grid_area": null,
       "grid_auto_columns": null,
       "grid_auto_flow": null,
       "grid_auto_rows": null,
       "grid_column": null,
       "grid_gap": null,
       "grid_row": null,
       "grid_template_areas": null,
       "grid_template_columns": null,
       "grid_template_rows": null,
       "height": null,
       "justify_content": null,
       "justify_items": null,
       "left": null,
       "margin": null,
       "max_height": null,
       "max_width": null,
       "min_height": null,
       "min_width": null,
       "object_fit": null,
       "object_position": null,
       "order": null,
       "overflow": null,
       "overflow_x": null,
       "overflow_y": null,
       "padding": null,
       "right": null,
       "top": null,
       "visibility": null,
       "width": null
      }
     },
     "bc5ae9ee76fc49c5afe497aabdc722fd": {
      "model_module": "@jupyter-widgets/base",
      "model_module_version": "1.2.0",
      "model_name": "LayoutModel",
      "state": {
       "_model_module": "@jupyter-widgets/base",
       "_model_module_version": "1.2.0",
       "_model_name": "LayoutModel",
       "_view_count": null,
       "_view_module": "@jupyter-widgets/base",
       "_view_module_version": "1.2.0",
       "_view_name": "LayoutView",
       "align_content": null,
       "align_items": null,
       "align_self": null,
       "border": null,
       "bottom": null,
       "display": null,
       "flex": null,
       "flex_flow": null,
       "grid_area": null,
       "grid_auto_columns": null,
       "grid_auto_flow": null,
       "grid_auto_rows": null,
       "grid_column": null,
       "grid_gap": null,
       "grid_row": null,
       "grid_template_areas": null,
       "grid_template_columns": null,
       "grid_template_rows": null,
       "height": null,
       "justify_content": null,
       "justify_items": null,
       "left": null,
       "margin": null,
       "max_height": null,
       "max_width": null,
       "min_height": null,
       "min_width": null,
       "object_fit": null,
       "object_position": null,
       "order": null,
       "overflow": null,
       "overflow_x": null,
       "overflow_y": null,
       "padding": null,
       "right": null,
       "top": null,
       "visibility": null,
       "width": null
      }
     },
     "bcafce0f646f40178c7f4890039d33e1": {
      "model_module": "@jupyter-widgets/base",
      "model_module_version": "1.2.0",
      "model_name": "LayoutModel",
      "state": {
       "_model_module": "@jupyter-widgets/base",
       "_model_module_version": "1.2.0",
       "_model_name": "LayoutModel",
       "_view_count": null,
       "_view_module": "@jupyter-widgets/base",
       "_view_module_version": "1.2.0",
       "_view_name": "LayoutView",
       "align_content": null,
       "align_items": null,
       "align_self": null,
       "border": null,
       "bottom": null,
       "display": null,
       "flex": null,
       "flex_flow": null,
       "grid_area": null,
       "grid_auto_columns": null,
       "grid_auto_flow": null,
       "grid_auto_rows": null,
       "grid_column": null,
       "grid_gap": null,
       "grid_row": null,
       "grid_template_areas": null,
       "grid_template_columns": null,
       "grid_template_rows": null,
       "height": null,
       "justify_content": null,
       "justify_items": null,
       "left": null,
       "margin": null,
       "max_height": null,
       "max_width": null,
       "min_height": null,
       "min_width": null,
       "object_fit": null,
       "object_position": null,
       "order": null,
       "overflow": null,
       "overflow_x": null,
       "overflow_y": null,
       "padding": null,
       "right": null,
       "top": null,
       "visibility": null,
       "width": null
      }
     },
     "c1b244c1e3bc40e39d67f34840f522e5": {
      "model_module": "@jupyter-widgets/controls",
      "model_module_version": "1.5.0",
      "model_name": "DescriptionStyleModel",
      "state": {
       "_model_module": "@jupyter-widgets/controls",
       "_model_module_version": "1.5.0",
       "_model_name": "DescriptionStyleModel",
       "_view_count": null,
       "_view_module": "@jupyter-widgets/base",
       "_view_module_version": "1.2.0",
       "_view_name": "StyleView",
       "description_width": ""
      }
     },
     "c22b4a94dc19481b9dce07e3cf7ecf1d": {
      "model_module": "@jupyter-widgets/base",
      "model_module_version": "1.2.0",
      "model_name": "LayoutModel",
      "state": {
       "_model_module": "@jupyter-widgets/base",
       "_model_module_version": "1.2.0",
       "_model_name": "LayoutModel",
       "_view_count": null,
       "_view_module": "@jupyter-widgets/base",
       "_view_module_version": "1.2.0",
       "_view_name": "LayoutView",
       "align_content": null,
       "align_items": null,
       "align_self": null,
       "border": null,
       "bottom": null,
       "display": null,
       "flex": null,
       "flex_flow": null,
       "grid_area": null,
       "grid_auto_columns": null,
       "grid_auto_flow": null,
       "grid_auto_rows": null,
       "grid_column": null,
       "grid_gap": null,
       "grid_row": null,
       "grid_template_areas": null,
       "grid_template_columns": null,
       "grid_template_rows": null,
       "height": null,
       "justify_content": null,
       "justify_items": null,
       "left": null,
       "margin": null,
       "max_height": null,
       "max_width": null,
       "min_height": null,
       "min_width": null,
       "object_fit": null,
       "object_position": null,
       "order": null,
       "overflow": null,
       "overflow_x": null,
       "overflow_y": null,
       "padding": null,
       "right": null,
       "top": null,
       "visibility": null,
       "width": null
      }
     },
     "c45b079bc468448382255dc15307fd11": {
      "model_module": "@jupyter-widgets/controls",
      "model_module_version": "1.5.0",
      "model_name": "DescriptionStyleModel",
      "state": {
       "_model_module": "@jupyter-widgets/controls",
       "_model_module_version": "1.5.0",
       "_model_name": "DescriptionStyleModel",
       "_view_count": null,
       "_view_module": "@jupyter-widgets/base",
       "_view_module_version": "1.2.0",
       "_view_name": "StyleView",
       "description_width": ""
      }
     },
     "c6011dc7ab4a4014b0919705d2e42307": {
      "model_module": "@jupyter-widgets/controls",
      "model_module_version": "1.5.0",
      "model_name": "DescriptionStyleModel",
      "state": {
       "_model_module": "@jupyter-widgets/controls",
       "_model_module_version": "1.5.0",
       "_model_name": "DescriptionStyleModel",
       "_view_count": null,
       "_view_module": "@jupyter-widgets/base",
       "_view_module_version": "1.2.0",
       "_view_name": "StyleView",
       "description_width": ""
      }
     },
     "c7602e7794054f1583a7899d0934ea17": {
      "model_module": "@jupyter-widgets/base",
      "model_module_version": "1.2.0",
      "model_name": "LayoutModel",
      "state": {
       "_model_module": "@jupyter-widgets/base",
       "_model_module_version": "1.2.0",
       "_model_name": "LayoutModel",
       "_view_count": null,
       "_view_module": "@jupyter-widgets/base",
       "_view_module_version": "1.2.0",
       "_view_name": "LayoutView",
       "align_content": null,
       "align_items": null,
       "align_self": null,
       "border": null,
       "bottom": null,
       "display": null,
       "flex": null,
       "flex_flow": null,
       "grid_area": null,
       "grid_auto_columns": null,
       "grid_auto_flow": null,
       "grid_auto_rows": null,
       "grid_column": null,
       "grid_gap": null,
       "grid_row": null,
       "grid_template_areas": null,
       "grid_template_columns": null,
       "grid_template_rows": null,
       "height": null,
       "justify_content": null,
       "justify_items": null,
       "left": null,
       "margin": null,
       "max_height": null,
       "max_width": null,
       "min_height": null,
       "min_width": null,
       "object_fit": null,
       "object_position": null,
       "order": null,
       "overflow": null,
       "overflow_x": null,
       "overflow_y": null,
       "padding": null,
       "right": null,
       "top": null,
       "visibility": null,
       "width": null
      }
     },
     "c86d5336a6e14ed99325664fd565a8b6": {
      "model_module": "@jupyter-widgets/controls",
      "model_module_version": "1.5.0",
      "model_name": "ProgressStyleModel",
      "state": {
       "_model_module": "@jupyter-widgets/controls",
       "_model_module_version": "1.5.0",
       "_model_name": "ProgressStyleModel",
       "_view_count": null,
       "_view_module": "@jupyter-widgets/base",
       "_view_module_version": "1.2.0",
       "_view_name": "StyleView",
       "bar_color": null,
       "description_width": ""
      }
     },
     "ca63953a8038451ca0f22530256d22fb": {
      "model_module": "@jupyter-widgets/base",
      "model_module_version": "1.2.0",
      "model_name": "LayoutModel",
      "state": {
       "_model_module": "@jupyter-widgets/base",
       "_model_module_version": "1.2.0",
       "_model_name": "LayoutModel",
       "_view_count": null,
       "_view_module": "@jupyter-widgets/base",
       "_view_module_version": "1.2.0",
       "_view_name": "LayoutView",
       "align_content": null,
       "align_items": null,
       "align_self": null,
       "border": null,
       "bottom": null,
       "display": null,
       "flex": null,
       "flex_flow": null,
       "grid_area": null,
       "grid_auto_columns": null,
       "grid_auto_flow": null,
       "grid_auto_rows": null,
       "grid_column": null,
       "grid_gap": null,
       "grid_row": null,
       "grid_template_areas": null,
       "grid_template_columns": null,
       "grid_template_rows": null,
       "height": null,
       "justify_content": null,
       "justify_items": null,
       "left": null,
       "margin": null,
       "max_height": null,
       "max_width": null,
       "min_height": null,
       "min_width": null,
       "object_fit": null,
       "object_position": null,
       "order": null,
       "overflow": null,
       "overflow_x": null,
       "overflow_y": null,
       "padding": null,
       "right": null,
       "top": null,
       "visibility": null,
       "width": null
      }
     },
     "ca99bf9c37234c078c0a81c9ccac268b": {
      "model_module": "@jupyter-widgets/controls",
      "model_module_version": "1.5.0",
      "model_name": "DescriptionStyleModel",
      "state": {
       "_model_module": "@jupyter-widgets/controls",
       "_model_module_version": "1.5.0",
       "_model_name": "DescriptionStyleModel",
       "_view_count": null,
       "_view_module": "@jupyter-widgets/base",
       "_view_module_version": "1.2.0",
       "_view_name": "StyleView",
       "description_width": ""
      }
     },
     "caa8d0648fc741ffa1044976e2523cbd": {
      "model_module": "@jupyter-widgets/base",
      "model_module_version": "1.2.0",
      "model_name": "LayoutModel",
      "state": {
       "_model_module": "@jupyter-widgets/base",
       "_model_module_version": "1.2.0",
       "_model_name": "LayoutModel",
       "_view_count": null,
       "_view_module": "@jupyter-widgets/base",
       "_view_module_version": "1.2.0",
       "_view_name": "LayoutView",
       "align_content": null,
       "align_items": null,
       "align_self": null,
       "border": null,
       "bottom": null,
       "display": null,
       "flex": null,
       "flex_flow": null,
       "grid_area": null,
       "grid_auto_columns": null,
       "grid_auto_flow": null,
       "grid_auto_rows": null,
       "grid_column": null,
       "grid_gap": null,
       "grid_row": null,
       "grid_template_areas": null,
       "grid_template_columns": null,
       "grid_template_rows": null,
       "height": null,
       "justify_content": null,
       "justify_items": null,
       "left": null,
       "margin": null,
       "max_height": null,
       "max_width": null,
       "min_height": null,
       "min_width": null,
       "object_fit": null,
       "object_position": null,
       "order": null,
       "overflow": null,
       "overflow_x": null,
       "overflow_y": null,
       "padding": null,
       "right": null,
       "top": null,
       "visibility": null,
       "width": null
      }
     },
     "cbb69f4d564946f3892f6301045f935a": {
      "model_module": "@jupyter-widgets/base",
      "model_module_version": "1.2.0",
      "model_name": "LayoutModel",
      "state": {
       "_model_module": "@jupyter-widgets/base",
       "_model_module_version": "1.2.0",
       "_model_name": "LayoutModel",
       "_view_count": null,
       "_view_module": "@jupyter-widgets/base",
       "_view_module_version": "1.2.0",
       "_view_name": "LayoutView",
       "align_content": null,
       "align_items": null,
       "align_self": null,
       "border": null,
       "bottom": null,
       "display": null,
       "flex": null,
       "flex_flow": null,
       "grid_area": null,
       "grid_auto_columns": null,
       "grid_auto_flow": null,
       "grid_auto_rows": null,
       "grid_column": null,
       "grid_gap": null,
       "grid_row": null,
       "grid_template_areas": null,
       "grid_template_columns": null,
       "grid_template_rows": null,
       "height": null,
       "justify_content": null,
       "justify_items": null,
       "left": null,
       "margin": null,
       "max_height": null,
       "max_width": null,
       "min_height": null,
       "min_width": null,
       "object_fit": null,
       "object_position": null,
       "order": null,
       "overflow": null,
       "overflow_x": null,
       "overflow_y": null,
       "padding": null,
       "right": null,
       "top": null,
       "visibility": null,
       "width": null
      }
     },
     "cd4ab246e93841f9bbea3df72395632d": {
      "model_module": "@jupyter-widgets/base",
      "model_module_version": "1.2.0",
      "model_name": "LayoutModel",
      "state": {
       "_model_module": "@jupyter-widgets/base",
       "_model_module_version": "1.2.0",
       "_model_name": "LayoutModel",
       "_view_count": null,
       "_view_module": "@jupyter-widgets/base",
       "_view_module_version": "1.2.0",
       "_view_name": "LayoutView",
       "align_content": null,
       "align_items": null,
       "align_self": null,
       "border": null,
       "bottom": null,
       "display": null,
       "flex": null,
       "flex_flow": null,
       "grid_area": null,
       "grid_auto_columns": null,
       "grid_auto_flow": null,
       "grid_auto_rows": null,
       "grid_column": null,
       "grid_gap": null,
       "grid_row": null,
       "grid_template_areas": null,
       "grid_template_columns": null,
       "grid_template_rows": null,
       "height": null,
       "justify_content": null,
       "justify_items": null,
       "left": null,
       "margin": null,
       "max_height": null,
       "max_width": null,
       "min_height": null,
       "min_width": null,
       "object_fit": null,
       "object_position": null,
       "order": null,
       "overflow": null,
       "overflow_x": null,
       "overflow_y": null,
       "padding": null,
       "right": null,
       "top": null,
       "visibility": null,
       "width": null
      }
     },
     "ce1ff19fb7e3479e95707a4269d3607f": {
      "model_module": "@jupyter-widgets/controls",
      "model_module_version": "1.5.0",
      "model_name": "FloatProgressModel",
      "state": {
       "_dom_classes": [],
       "_model_module": "@jupyter-widgets/controls",
       "_model_module_version": "1.5.0",
       "_model_name": "FloatProgressModel",
       "_view_count": null,
       "_view_module": "@jupyter-widgets/controls",
       "_view_module_version": "1.5.0",
       "_view_name": "ProgressView",
       "bar_style": "success",
       "description": "",
       "description_tooltip": null,
       "layout": "IPY_MODEL_2cab0bac413049eea0c39d055b908f7f",
       "max": 5.0,
       "min": 0.0,
       "orientation": "horizontal",
       "style": "IPY_MODEL_2d1a4141f93f4f81bc65b633539ed7e1",
       "value": 5.0
      }
     },
     "d2058619612a4df39310644ca5b87c3a": {
      "model_module": "@jupyter-widgets/controls",
      "model_module_version": "1.5.0",
      "model_name": "HTMLModel",
      "state": {
       "_dom_classes": [],
       "_model_module": "@jupyter-widgets/controls",
       "_model_module_version": "1.5.0",
       "_model_name": "HTMLModel",
       "_view_count": null,
       "_view_module": "@jupyter-widgets/controls",
       "_view_module_version": "1.5.0",
       "_view_name": "HTMLView",
       "description": "",
       "description_tooltip": null,
       "layout": "IPY_MODEL_ead064f83af14ff2b0f69ec6b850d33b",
       "placeholder": "​",
       "style": "IPY_MODEL_b5aa04579eac418c97b7b2f17e390f80",
       "value": " | loss 0.783 Δ 0.001 :  ✓: 100%"
      }
     },
     "d414b7fbc63b41d18bc6a0783b720d36": {
      "model_module": "@jupyter-widgets/controls",
      "model_module_version": "1.5.0",
      "model_name": "FloatProgressModel",
      "state": {
       "_dom_classes": [],
       "_model_module": "@jupyter-widgets/controls",
       "_model_module_version": "1.5.0",
       "_model_name": "FloatProgressModel",
       "_view_count": null,
       "_view_module": "@jupyter-widgets/controls",
       "_view_module_version": "1.5.0",
       "_view_name": "ProgressView",
       "bar_style": "success",
       "description": "",
       "description_tooltip": null,
       "layout": "IPY_MODEL_48ada6c75eb4472fbd78076ad3fd12e7",
       "max": 5.0,
       "min": 0.0,
       "orientation": "horizontal",
       "style": "IPY_MODEL_a9da8c28ee6a442fa1e18d1012700199",
       "value": 5.0
      }
     },
     "d5894aa57aba4861a86cae994571285d": {
      "model_module": "@jupyter-widgets/base",
      "model_module_version": "1.2.0",
      "model_name": "LayoutModel",
      "state": {
       "_model_module": "@jupyter-widgets/base",
       "_model_module_version": "1.2.0",
       "_model_name": "LayoutModel",
       "_view_count": null,
       "_view_module": "@jupyter-widgets/base",
       "_view_module_version": "1.2.0",
       "_view_name": "LayoutView",
       "align_content": null,
       "align_items": null,
       "align_self": null,
       "border": null,
       "bottom": null,
       "display": null,
       "flex": null,
       "flex_flow": null,
       "grid_area": null,
       "grid_auto_columns": null,
       "grid_auto_flow": null,
       "grid_auto_rows": null,
       "grid_column": null,
       "grid_gap": null,
       "grid_row": null,
       "grid_template_areas": null,
       "grid_template_columns": null,
       "grid_template_rows": null,
       "height": null,
       "justify_content": null,
       "justify_items": null,
       "left": null,
       "margin": null,
       "max_height": null,
       "max_width": null,
       "min_height": null,
       "min_width": null,
       "object_fit": null,
       "object_position": null,
       "order": null,
       "overflow": null,
       "overflow_x": null,
       "overflow_y": null,
       "padding": null,
       "right": null,
       "top": null,
       "visibility": null,
       "width": null
      }
     },
     "d5b87b21917043e6bf3501319bcc462c": {
      "model_module": "@jupyter-widgets/base",
      "model_module_version": "1.2.0",
      "model_name": "LayoutModel",
      "state": {
       "_model_module": "@jupyter-widgets/base",
       "_model_module_version": "1.2.0",
       "_model_name": "LayoutModel",
       "_view_count": null,
       "_view_module": "@jupyter-widgets/base",
       "_view_module_version": "1.2.0",
       "_view_name": "LayoutView",
       "align_content": null,
       "align_items": null,
       "align_self": null,
       "border": null,
       "bottom": null,
       "display": "inline-flex",
       "flex": null,
       "flex_flow": "row wrap",
       "grid_area": null,
       "grid_auto_columns": null,
       "grid_auto_flow": null,
       "grid_auto_rows": null,
       "grid_column": null,
       "grid_gap": null,
       "grid_row": null,
       "grid_template_areas": null,
       "grid_template_columns": null,
       "grid_template_rows": null,
       "height": null,
       "justify_content": null,
       "justify_items": null,
       "left": null,
       "margin": null,
       "max_height": null,
       "max_width": null,
       "min_height": null,
       "min_width": null,
       "object_fit": null,
       "object_position": null,
       "order": null,
       "overflow": null,
       "overflow_x": null,
       "overflow_y": null,
       "padding": null,
       "right": null,
       "top": null,
       "visibility": null,
       "width": "1000px"
      }
     },
     "d659cd342bba4587ade6380a22d24709": {
      "model_module": "@jupyter-widgets/controls",
      "model_module_version": "1.5.0",
      "model_name": "HBoxModel",
      "state": {
       "_dom_classes": [],
       "_model_module": "@jupyter-widgets/controls",
       "_model_module_version": "1.5.0",
       "_model_name": "HBoxModel",
       "_view_count": null,
       "_view_module": "@jupyter-widgets/controls",
       "_view_module_version": "1.5.0",
       "_view_name": "HBoxView",
       "box_style": "",
       "children": [
        "IPY_MODEL_e760485da385409eb9387397951b4dd5",
        "IPY_MODEL_2a33295043f947e8a21656c81ff6f28f",
        "IPY_MODEL_dd53efeba077467e9b521ac10e9b50a3"
       ],
       "layout": "IPY_MODEL_89114304e43f402d8465b7a6825ea5a8"
      }
     },
     "d84c0c245c3f4efa9a04cabfb5cc5c22": {
      "model_module": "@jupyter-widgets/controls",
      "model_module_version": "1.5.0",
      "model_name": "HTMLModel",
      "state": {
       "_dom_classes": [],
       "_model_module": "@jupyter-widgets/controls",
       "_model_module_version": "1.5.0",
       "_model_name": "HTMLModel",
       "_view_count": null,
       "_view_module": "@jupyter-widgets/controls",
       "_view_module_version": "1.5.0",
       "_view_name": "HTMLView",
       "description": "",
       "description_tooltip": null,
       "layout": "IPY_MODEL_50040cc197b44c54bb77a9130d51c839",
       "placeholder": "​",
       "style": "IPY_MODEL_44140455b47f4f81a1ad08f53c42e0ea",
       "value": " 455/455 [00:04&lt;00:00, 119.00it/s]"
      }
     },
     "da45e206b024404db2c884e3d9f27128": {
      "model_module": "@jupyter-widgets/base",
      "model_module_version": "1.2.0",
      "model_name": "LayoutModel",
      "state": {
       "_model_module": "@jupyter-widgets/base",
       "_model_module_version": "1.2.0",
       "_model_name": "LayoutModel",
       "_view_count": null,
       "_view_module": "@jupyter-widgets/base",
       "_view_module_version": "1.2.0",
       "_view_name": "LayoutView",
       "align_content": null,
       "align_items": null,
       "align_self": null,
       "border": null,
       "bottom": null,
       "display": null,
       "flex": null,
       "flex_flow": null,
       "grid_area": null,
       "grid_auto_columns": null,
       "grid_auto_flow": null,
       "grid_auto_rows": null,
       "grid_column": null,
       "grid_gap": null,
       "grid_row": null,
       "grid_template_areas": null,
       "grid_template_columns": null,
       "grid_template_rows": null,
       "height": null,
       "justify_content": null,
       "justify_items": null,
       "left": null,
       "margin": null,
       "max_height": null,
       "max_width": null,
       "min_height": null,
       "min_width": null,
       "object_fit": null,
       "object_position": null,
       "order": null,
       "overflow": null,
       "overflow_x": null,
       "overflow_y": null,
       "padding": null,
       "right": null,
       "top": null,
       "visibility": null,
       "width": null
      }
     },
     "dae237b9cf754ddb9a05cf94930248a3": {
      "model_module": "@jupyter-widgets/controls",
      "model_module_version": "1.5.0",
      "model_name": "FloatProgressModel",
      "state": {
       "_dom_classes": [],
       "_model_module": "@jupyter-widgets/controls",
       "_model_module_version": "1.5.0",
       "_model_name": "FloatProgressModel",
       "_view_count": null,
       "_view_module": "@jupyter-widgets/controls",
       "_view_module_version": "1.5.0",
       "_view_name": "ProgressView",
       "bar_style": "success",
       "description": "",
       "description_tooltip": null,
       "layout": "IPY_MODEL_bc5ae9ee76fc49c5afe497aabdc722fd",
       "max": 10.0,
       "min": 0.0,
       "orientation": "horizontal",
       "style": "IPY_MODEL_a7b84522e7f443718806bb2abcad9d28",
       "value": 10.0
      }
     },
     "db49ba1505054aac9de03ae10d0a40b8": {
      "model_module": "@jupyter-widgets/controls",
      "model_module_version": "1.5.0",
      "model_name": "HTMLModel",
      "state": {
       "_dom_classes": [],
       "_model_module": "@jupyter-widgets/controls",
       "_model_module_version": "1.5.0",
       "_model_name": "HTMLModel",
       "_view_count": null,
       "_view_module": "@jupyter-widgets/controls",
       "_view_module_version": "1.5.0",
       "_view_name": "HTMLView",
       "description": "",
       "description_tooltip": null,
       "layout": "IPY_MODEL_ad363b81c07d475fbd0e746bb5121bac",
       "placeholder": "​",
       "style": "IPY_MODEL_f89d7acc852b45bdac6282aa14079f0f",
       "value": " 10/10 [00:00&lt;00:00, 16.59it/s]"
      }
     },
     "dd53efeba077467e9b521ac10e9b50a3": {
      "model_module": "@jupyter-widgets/controls",
      "model_module_version": "1.5.0",
      "model_name": "HTMLModel",
      "state": {
       "_dom_classes": [],
       "_model_module": "@jupyter-widgets/controls",
       "_model_module_version": "1.5.0",
       "_model_name": "HTMLModel",
       "_view_count": null,
       "_view_module": "@jupyter-widgets/controls",
       "_view_module_version": "1.5.0",
       "_view_name": "HTMLView",
       "description": "",
       "description_tooltip": null,
       "layout": "IPY_MODEL_da45e206b024404db2c884e3d9f27128",
       "placeholder": "​",
       "style": "IPY_MODEL_8667d00d0e7444c2a1fcbc5e8c0e34f4",
       "value": " 5/5 [00:00&lt;00:00, 13.70it/s]"
      }
     },
     "e211fdec7f0d4fd395066e0acea06af6": {
      "model_module": "@jupyter-widgets/controls",
      "model_module_version": "1.5.0",
      "model_name": "HBoxModel",
      "state": {
       "_dom_classes": [],
       "_model_module": "@jupyter-widgets/controls",
       "_model_module_version": "1.5.0",
       "_model_name": "HBoxModel",
       "_view_count": null,
       "_view_module": "@jupyter-widgets/controls",
       "_view_module_version": "1.5.0",
       "_view_name": "HBoxView",
       "box_style": "",
       "children": [
        "IPY_MODEL_1e52e773aa79429f89f6f6853d3ce002",
        "IPY_MODEL_d414b7fbc63b41d18bc6a0783b720d36",
        "IPY_MODEL_f5706bf1549e41db8e7c0ca205767a86"
       ],
       "layout": "IPY_MODEL_629b1a6fccf144629c39e919de874f4c"
      }
     },
     "e259d82669d642349a593d7de423bb81": {
      "model_module": "@jupyter-widgets/base",
      "model_module_version": "1.2.0",
      "model_name": "LayoutModel",
      "state": {
       "_model_module": "@jupyter-widgets/base",
       "_model_module_version": "1.2.0",
       "_model_name": "LayoutModel",
       "_view_count": null,
       "_view_module": "@jupyter-widgets/base",
       "_view_module_version": "1.2.0",
       "_view_name": "LayoutView",
       "align_content": null,
       "align_items": null,
       "align_self": null,
       "border": null,
       "bottom": null,
       "display": null,
       "flex": null,
       "flex_flow": null,
       "grid_area": null,
       "grid_auto_columns": null,
       "grid_auto_flow": null,
       "grid_auto_rows": null,
       "grid_column": null,
       "grid_gap": null,
       "grid_row": null,
       "grid_template_areas": null,
       "grid_template_columns": null,
       "grid_template_rows": null,
       "height": null,
       "justify_content": null,
       "justify_items": null,
       "left": null,
       "margin": null,
       "max_height": null,
       "max_width": null,
       "min_height": null,
       "min_width": null,
       "object_fit": null,
       "object_position": null,
       "order": null,
       "overflow": null,
       "overflow_x": null,
       "overflow_y": null,
       "padding": null,
       "right": null,
       "top": null,
       "visibility": null,
       "width": null
      }
     },
     "e49800cff780447989ba1d530480aed0": {
      "model_module": "@jupyter-widgets/controls",
      "model_module_version": "1.5.0",
      "model_name": "HBoxModel",
      "state": {
       "_dom_classes": [],
       "_model_module": "@jupyter-widgets/controls",
       "_model_module_version": "1.5.0",
       "_model_name": "HBoxModel",
       "_view_count": null,
       "_view_module": "@jupyter-widgets/controls",
       "_view_module_version": "1.5.0",
       "_view_name": "HBoxView",
       "box_style": "",
       "children": [
        "IPY_MODEL_4f297d1120944bdb8760664ebf72e40e",
        "IPY_MODEL_97c63810cdb04bd4a877f7d95f0d21e2",
        "IPY_MODEL_11c5660c86474175892db8b1b1fe98ff"
       ],
       "layout": "IPY_MODEL_3622d9d9a57941f2bfd0edb63f2fa0be"
      }
     },
     "e4dac84cce054e23b5c6937cdb30997c": {
      "model_module": "@jupyter-widgets/controls",
      "model_module_version": "1.5.0",
      "model_name": "DescriptionStyleModel",
      "state": {
       "_model_module": "@jupyter-widgets/controls",
       "_model_module_version": "1.5.0",
       "_model_name": "DescriptionStyleModel",
       "_view_count": null,
       "_view_module": "@jupyter-widgets/base",
       "_view_module_version": "1.2.0",
       "_view_name": "StyleView",
       "description_width": ""
      }
     },
     "e600f47bde69456f830d022c228b0210": {
      "model_module": "@jupyter-widgets/controls",
      "model_module_version": "1.5.0",
      "model_name": "HBoxModel",
      "state": {
       "_dom_classes": [],
       "_model_module": "@jupyter-widgets/controls",
       "_model_module_version": "1.5.0",
       "_model_name": "HBoxModel",
       "_view_count": null,
       "_view_module": "@jupyter-widgets/controls",
       "_view_module_version": "1.5.0",
       "_view_name": "HBoxView",
       "box_style": "",
       "children": [
        "IPY_MODEL_021eddebce284e0bb980c44dcb9b247b",
        "IPY_MODEL_6276157760014ecfa32127f9c945aab2",
        "IPY_MODEL_9b28b24eb0c64d8ca028441c79e3615e"
       ],
       "layout": "IPY_MODEL_324db6ed4bd34996822a4ddb2673254b"
      }
     },
     "e6f36479558944ee8a97b8116a610364": {
      "model_module": "@jupyter-widgets/controls",
      "model_module_version": "1.5.0",
      "model_name": "ProgressStyleModel",
      "state": {
       "_model_module": "@jupyter-widgets/controls",
       "_model_module_version": "1.5.0",
       "_model_name": "ProgressStyleModel",
       "_view_count": null,
       "_view_module": "@jupyter-widgets/base",
       "_view_module_version": "1.2.0",
       "_view_name": "StyleView",
       "bar_color": null,
       "description_width": ""
      }
     },
     "e760485da385409eb9387397951b4dd5": {
      "model_module": "@jupyter-widgets/controls",
      "model_module_version": "1.5.0",
      "model_name": "HTMLModel",
      "state": {
       "_dom_classes": [],
       "_model_module": "@jupyter-widgets/controls",
       "_model_module_version": "1.5.0",
       "_model_name": "HTMLModel",
       "_view_count": null,
       "_view_module": "@jupyter-widgets/controls",
       "_view_module_version": "1.5.0",
       "_view_name": "HTMLView",
       "description": "",
       "description_tooltip": null,
       "layout": "IPY_MODEL_caa8d0648fc741ffa1044976e2523cbd",
       "placeholder": "​",
       "style": "IPY_MODEL_8214d80997af42cb920f13e019e0f22a",
       "value": "100%"
      }
     },
     "e98eb60e866b4773945df2a2cf751d1b": {
      "model_module": "@jupyter-widgets/controls",
      "model_module_version": "1.5.0",
      "model_name": "HBoxModel",
      "state": {
       "_dom_classes": [],
       "_model_module": "@jupyter-widgets/controls",
       "_model_module_version": "1.5.0",
       "_model_name": "HBoxModel",
       "_view_count": null,
       "_view_module": "@jupyter-widgets/controls",
       "_view_module_version": "1.5.0",
       "_view_name": "HBoxView",
       "box_style": "",
       "children": [
        "IPY_MODEL_7ea208d55933455692012b752a811244",
        "IPY_MODEL_2df634ba390142ac81e073c5ed2d1e86",
        "IPY_MODEL_7986992c123347f5baf5da05dc61ec7e"
       ],
       "layout": "IPY_MODEL_5b7bdc230f4e405685eed3a2eac3aeea"
      }
     },
     "ead064f83af14ff2b0f69ec6b850d33b": {
      "model_module": "@jupyter-widgets/base",
      "model_module_version": "1.2.0",
      "model_name": "LayoutModel",
      "state": {
       "_model_module": "@jupyter-widgets/base",
       "_model_module_version": "1.2.0",
       "_model_name": "LayoutModel",
       "_view_count": null,
       "_view_module": "@jupyter-widgets/base",
       "_view_module_version": "1.2.0",
       "_view_name": "LayoutView",
       "align_content": null,
       "align_items": null,
       "align_self": null,
       "border": null,
       "bottom": null,
       "display": null,
       "flex": null,
       "flex_flow": null,
       "grid_area": null,
       "grid_auto_columns": null,
       "grid_auto_flow": null,
       "grid_auto_rows": null,
       "grid_column": null,
       "grid_gap": null,
       "grid_row": null,
       "grid_template_areas": null,
       "grid_template_columns": null,
       "grid_template_rows": null,
       "height": null,
       "justify_content": null,
       "justify_items": null,
       "left": null,
       "margin": null,
       "max_height": null,
       "max_width": null,
       "min_height": null,
       "min_width": null,
       "object_fit": null,
       "object_position": null,
       "order": null,
       "overflow": null,
       "overflow_x": null,
       "overflow_y": null,
       "padding": null,
       "right": null,
       "top": null,
       "visibility": null,
       "width": null
      }
     },
     "ecde80dd7e334198bc8ffeb8b1978fc9": {
      "model_module": "@jupyter-widgets/base",
      "model_module_version": "1.2.0",
      "model_name": "LayoutModel",
      "state": {
       "_model_module": "@jupyter-widgets/base",
       "_model_module_version": "1.2.0",
       "_model_name": "LayoutModel",
       "_view_count": null,
       "_view_module": "@jupyter-widgets/base",
       "_view_module_version": "1.2.0",
       "_view_name": "LayoutView",
       "align_content": null,
       "align_items": null,
       "align_self": null,
       "border": null,
       "bottom": null,
       "display": null,
       "flex": null,
       "flex_flow": null,
       "grid_area": null,
       "grid_auto_columns": null,
       "grid_auto_flow": null,
       "grid_auto_rows": null,
       "grid_column": null,
       "grid_gap": null,
       "grid_row": null,
       "grid_template_areas": null,
       "grid_template_columns": null,
       "grid_template_rows": null,
       "height": null,
       "justify_content": null,
       "justify_items": null,
       "left": null,
       "margin": null,
       "max_height": null,
       "max_width": null,
       "min_height": null,
       "min_width": null,
       "object_fit": null,
       "object_position": null,
       "order": null,
       "overflow": null,
       "overflow_x": null,
       "overflow_y": null,
       "padding": null,
       "right": null,
       "top": null,
       "visibility": null,
       "width": null
      }
     },
     "efbe167ba264459fa67351f790226411": {
      "model_module": "@jupyter-widgets/controls",
      "model_module_version": "1.5.0",
      "model_name": "FloatProgressModel",
      "state": {
       "_dom_classes": [],
       "_model_module": "@jupyter-widgets/controls",
       "_model_module_version": "1.5.0",
       "_model_name": "FloatProgressModel",
       "_view_count": null,
       "_view_module": "@jupyter-widgets/controls",
       "_view_module_version": "1.5.0",
       "_view_name": "ProgressView",
       "bar_style": "success",
       "description": "",
       "description_tooltip": null,
       "layout": "IPY_MODEL_ae79af97cae44980b98deded6c02cf6b",
       "max": 10000.0,
       "min": 0.0,
       "orientation": "horizontal",
       "style": "IPY_MODEL_61a7a8b835ef4a399c3cf656ce8ddb30",
       "value": 524.0
      }
     },
     "eff78d9c196d44569a9b7cd03d364c65": {
      "model_module": "@jupyter-widgets/base",
      "model_module_version": "1.2.0",
      "model_name": "LayoutModel",
      "state": {
       "_model_module": "@jupyter-widgets/base",
       "_model_module_version": "1.2.0",
       "_model_name": "LayoutModel",
       "_view_count": null,
       "_view_module": "@jupyter-widgets/base",
       "_view_module_version": "1.2.0",
       "_view_name": "LayoutView",
       "align_content": null,
       "align_items": null,
       "align_self": null,
       "border": null,
       "bottom": null,
       "display": null,
       "flex": null,
       "flex_flow": null,
       "grid_area": null,
       "grid_auto_columns": null,
       "grid_auto_flow": null,
       "grid_auto_rows": null,
       "grid_column": null,
       "grid_gap": null,
       "grid_row": null,
       "grid_template_areas": null,
       "grid_template_columns": null,
       "grid_template_rows": null,
       "height": null,
       "justify_content": null,
       "justify_items": null,
       "left": null,
       "margin": null,
       "max_height": null,
       "max_width": null,
       "min_height": null,
       "min_width": null,
       "object_fit": null,
       "object_position": null,
       "order": null,
       "overflow": null,
       "overflow_x": null,
       "overflow_y": null,
       "padding": null,
       "right": null,
       "top": null,
       "visibility": null,
       "width": null
      }
     },
     "f01078d504ae4e6cad570b7c76f1cbfd": {
      "model_module": "@jupyter-widgets/controls",
      "model_module_version": "1.5.0",
      "model_name": "FloatProgressModel",
      "state": {
       "_dom_classes": [],
       "_model_module": "@jupyter-widgets/controls",
       "_model_module_version": "1.5.0",
       "_model_name": "FloatProgressModel",
       "_view_count": null,
       "_view_module": "@jupyter-widgets/controls",
       "_view_module_version": "1.5.0",
       "_view_name": "ProgressView",
       "bar_style": "success",
       "description": "",
       "description_tooltip": null,
       "layout": "IPY_MODEL_655b683c602f4fd7bac8dfbf23c47a73",
       "max": 10000.0,
       "min": 0.0,
       "orientation": "horizontal",
       "style": "IPY_MODEL_5da41598ed934cfa9fa17676e059d0ce",
       "value": 671.0
      }
     },
     "f21972afb85a4a87be394836a6e8c19e": {
      "model_module": "@jupyter-widgets/controls",
      "model_module_version": "1.5.0",
      "model_name": "HTMLModel",
      "state": {
       "_dom_classes": [],
       "_model_module": "@jupyter-widgets/controls",
       "_model_module_version": "1.5.0",
       "_model_name": "HTMLModel",
       "_view_count": null,
       "_view_module": "@jupyter-widgets/controls",
       "_view_module_version": "1.5.0",
       "_view_name": "HTMLView",
       "description": "",
       "description_tooltip": null,
       "layout": "IPY_MODEL_44102179170b470ca3749bafde45db90",
       "placeholder": "​",
       "style": "IPY_MODEL_a14ad0cd6ec44f4b8164ea954415c941",
       "value": " | loss 0.777 Δ 0.001 :  ✓: 100%"
      }
     },
     "f31eaeed51dd4c8d81eb87ba2e9bfd5d": {
      "model_module": "@jupyter-widgets/base",
      "model_module_version": "1.2.0",
      "model_name": "LayoutModel",
      "state": {
       "_model_module": "@jupyter-widgets/base",
       "_model_module_version": "1.2.0",
       "_model_name": "LayoutModel",
       "_view_count": null,
       "_view_module": "@jupyter-widgets/base",
       "_view_module_version": "1.2.0",
       "_view_name": "LayoutView",
       "align_content": null,
       "align_items": null,
       "align_self": null,
       "border": null,
       "bottom": null,
       "display": null,
       "flex": null,
       "flex_flow": null,
       "grid_area": null,
       "grid_auto_columns": null,
       "grid_auto_flow": null,
       "grid_auto_rows": null,
       "grid_column": null,
       "grid_gap": null,
       "grid_row": null,
       "grid_template_areas": null,
       "grid_template_columns": null,
       "grid_template_rows": null,
       "height": null,
       "justify_content": null,
       "justify_items": null,
       "left": null,
       "margin": null,
       "max_height": null,
       "max_width": null,
       "min_height": null,
       "min_width": null,
       "object_fit": null,
       "object_position": null,
       "order": null,
       "overflow": null,
       "overflow_x": null,
       "overflow_y": null,
       "padding": null,
       "right": null,
       "top": null,
       "visibility": null,
       "width": null
      }
     },
     "f5706bf1549e41db8e7c0ca205767a86": {
      "model_module": "@jupyter-widgets/controls",
      "model_module_version": "1.5.0",
      "model_name": "HTMLModel",
      "state": {
       "_dom_classes": [],
       "_model_module": "@jupyter-widgets/controls",
       "_model_module_version": "1.5.0",
       "_model_name": "HTMLModel",
       "_view_count": null,
       "_view_module": "@jupyter-widgets/controls",
       "_view_module_version": "1.5.0",
       "_view_name": "HTMLView",
       "description": "",
       "description_tooltip": null,
       "layout": "IPY_MODEL_944f064eadff420aa09e317bf1077507",
       "placeholder": "​",
       "style": "IPY_MODEL_1b7ce422d2b64b91adf5849d0d3a26ab",
       "value": " 5/5 [00:00&lt;00:00, 361.37it/s]"
      }
     },
     "f6773093665e4aa4aa5e96083f1c4a4e": {
      "model_module": "@jupyter-widgets/controls",
      "model_module_version": "1.5.0",
      "model_name": "ProgressStyleModel",
      "state": {
       "_model_module": "@jupyter-widgets/controls",
       "_model_module_version": "1.5.0",
       "_model_name": "ProgressStyleModel",
       "_view_count": null,
       "_view_module": "@jupyter-widgets/base",
       "_view_module_version": "1.2.0",
       "_view_name": "StyleView",
       "bar_color": null,
       "description_width": ""
      }
     },
     "f816818e98634237a596b8661dd91b09": {
      "model_module": "@jupyter-widgets/base",
      "model_module_version": "1.2.0",
      "model_name": "LayoutModel",
      "state": {
       "_model_module": "@jupyter-widgets/base",
       "_model_module_version": "1.2.0",
       "_model_name": "LayoutModel",
       "_view_count": null,
       "_view_module": "@jupyter-widgets/base",
       "_view_module_version": "1.2.0",
       "_view_name": "LayoutView",
       "align_content": null,
       "align_items": null,
       "align_self": null,
       "border": null,
       "bottom": null,
       "display": null,
       "flex": null,
       "flex_flow": null,
       "grid_area": null,
       "grid_auto_columns": null,
       "grid_auto_flow": null,
       "grid_auto_rows": null,
       "grid_column": null,
       "grid_gap": null,
       "grid_row": null,
       "grid_template_areas": null,
       "grid_template_columns": null,
       "grid_template_rows": null,
       "height": null,
       "justify_content": null,
       "justify_items": null,
       "left": null,
       "margin": null,
       "max_height": null,
       "max_width": null,
       "min_height": null,
       "min_width": null,
       "object_fit": null,
       "object_position": null,
       "order": null,
       "overflow": null,
       "overflow_x": null,
       "overflow_y": null,
       "padding": null,
       "right": null,
       "top": null,
       "visibility": null,
       "width": null
      }
     },
     "f89d7acc852b45bdac6282aa14079f0f": {
      "model_module": "@jupyter-widgets/controls",
      "model_module_version": "1.5.0",
      "model_name": "DescriptionStyleModel",
      "state": {
       "_model_module": "@jupyter-widgets/controls",
       "_model_module_version": "1.5.0",
       "_model_name": "DescriptionStyleModel",
       "_view_count": null,
       "_view_module": "@jupyter-widgets/base",
       "_view_module_version": "1.2.0",
       "_view_name": "StyleView",
       "description_width": ""
      }
     },
     "fa1c69effe71487b936fdd62fe3f87b0": {
      "model_module": "@jupyter-widgets/controls",
      "model_module_version": "1.5.0",
      "model_name": "HBoxModel",
      "state": {
       "_dom_classes": [],
       "_model_module": "@jupyter-widgets/controls",
       "_model_module_version": "1.5.0",
       "_model_name": "HBoxModel",
       "_view_count": null,
       "_view_module": "@jupyter-widgets/controls",
       "_view_module_version": "1.5.0",
       "_view_name": "HBoxView",
       "box_style": "",
       "children": [
        "IPY_MODEL_5078233b7bda448cb2ac5ad477f204ef",
        "IPY_MODEL_735ba772837c49f497991517a09dc00e",
        "IPY_MODEL_30e3e3fce96d4f799c4584671f49489b"
       ],
       "layout": "IPY_MODEL_5029b7c52e474c56bd9a666392eb1e1f"
      }
     },
     "fac9d0195c85428998ce67f4b15555bb": {
      "model_module": "@jupyter-widgets/controls",
      "model_module_version": "1.5.0",
      "model_name": "HBoxModel",
      "state": {
       "_dom_classes": [],
       "_model_module": "@jupyter-widgets/controls",
       "_model_module_version": "1.5.0",
       "_model_name": "HBoxModel",
       "_view_count": null,
       "_view_module": "@jupyter-widgets/controls",
       "_view_module_version": "1.5.0",
       "_view_name": "HBoxView",
       "box_style": "",
       "children": [
        "IPY_MODEL_f21972afb85a4a87be394836a6e8c19e",
        "IPY_MODEL_5cbab84675aa4b18ba2b4ea60fb64fbe",
        "IPY_MODEL_d84c0c245c3f4efa9a04cabfb5cc5c22"
       ],
       "layout": "IPY_MODEL_35a8c2b7b67640bea8bc76d93c88ebe1"
      }
     },
     "fae46538bbf4438fb4cad9b23ea153b4": {
      "model_module": "@jupyter-widgets/base",
      "model_module_version": "1.2.0",
      "model_name": "LayoutModel",
      "state": {
       "_model_module": "@jupyter-widgets/base",
       "_model_module_version": "1.2.0",
       "_model_name": "LayoutModel",
       "_view_count": null,
       "_view_module": "@jupyter-widgets/base",
       "_view_module_version": "1.2.0",
       "_view_name": "LayoutView",
       "align_content": null,
       "align_items": null,
       "align_self": null,
       "border": null,
       "bottom": null,
       "display": null,
       "flex": null,
       "flex_flow": null,
       "grid_area": null,
       "grid_auto_columns": null,
       "grid_auto_flow": null,
       "grid_auto_rows": null,
       "grid_column": null,
       "grid_gap": null,
       "grid_row": null,
       "grid_template_areas": null,
       "grid_template_columns": null,
       "grid_template_rows": null,
       "height": null,
       "justify_content": null,
       "justify_items": null,
       "left": null,
       "margin": null,
       "max_height": null,
       "max_width": null,
       "min_height": null,
       "min_width": null,
       "object_fit": null,
       "object_position": null,
       "order": null,
       "overflow": null,
       "overflow_x": null,
       "overflow_y": null,
       "padding": null,
       "right": null,
       "top": null,
       "visibility": null,
       "width": null
      }
     },
     "fb98b0837eb24938a3402d0e9010389f": {
      "model_module": "@jupyter-widgets/controls",
      "model_module_version": "1.5.0",
      "model_name": "HTMLModel",
      "state": {
       "_dom_classes": [],
       "_model_module": "@jupyter-widgets/controls",
       "_model_module_version": "1.5.0",
       "_model_name": "HTMLModel",
       "_view_count": null,
       "_view_module": "@jupyter-widgets/controls",
       "_view_module_version": "1.5.0",
       "_view_name": "HTMLView",
       "description": "",
       "description_tooltip": null,
       "layout": "IPY_MODEL_96054934e1144136ba8ab0591e96869c",
       "placeholder": "​",
       "style": "IPY_MODEL_b7b4cdcd0f27453aa0d813f3bfe00725",
       "value": "100%"
      }
     }
    },
    "version_major": 2,
    "version_minor": 0
   }
  }
 },
 "nbformat": 4,
 "nbformat_minor": 5
}
