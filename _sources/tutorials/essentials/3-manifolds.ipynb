{
 "cells": [
  {
   "cell_type": "markdown",
   "id": "9f4d7a2a",
   "metadata": {},
   "source": [
    "# Manifolds"
   ]
  },
  {
   "cell_type": "code",
   "execution_count": 1,
   "id": "b18ac688",
   "metadata": {},
   "outputs": [],
   "source": [
    "import latenta as la"
   ]
  },
  {
   "cell_type": "markdown",
   "id": "b30ed905-303a-4756-9c1c-40cff74fa77a",
   "metadata": {},
   "source": [
    "So far, we have focused on models that basically look like this:"
   ]
  },
  {
   "cell_type": "code",
   "execution_count": 22,
   "id": "e482e11a-8db3-4f0d-a345-490588e3c8e2",
   "metadata": {},
   "outputs": [],
   "source": [
    "from IPython import display"
   ]
  },
  {
   "cell_type": "code",
   "execution_count": 25,
   "id": "2fa595f5-a7a3-482f-96a8-61092e96639a",
   "metadata": {},
   "outputs": [
    {
     "data": {
      "image/svg+xml": [
       "<svg xmlns=\"http://www.w3.org/2000/svg\" xmlns:xlink=\"http://www.w3.org/1999/xlink\" version=\"1.1\" id=\"Layer_1\" x=\"0px\" y=\"0px\" viewBox=\"0 0 311.7 143.54\" style=\"enable-background:new 0 0 311.7 143.54;\" xml:space=\"preserve\">\n",
       "<style type=\"text/css\">\n",
       "\t.Graphic_x0020_Style_x0020_2{fill:#282828;}\n",
       "\t.Graphic_x0020_Style_x0020_38{fill:#E6E7E8;}\n",
       "\t.st0{fill:none;stroke:url(#SVGID_1_);stroke-width:2;}\n",
       "\t.st1{font-family:'ArialMT';}\n",
       "\t.st2{font-size:12px;}\n",
       "\t.st3{fill:none;stroke:#AADCD9;stroke-width:2;}\n",
       "\t.st4{fill:#FFFFFF;}\n",
       "\t.st5{fill:none;stroke:#F598A2;stroke-width:2;}\n",
       "\t.st6{fill:none;stroke:#000000;stroke-width:2;}\n",
       "</style>\n",
       "<g>\n",
       "\t<linearGradient id=\"SVGID_1_\" gradientUnits=\"userSpaceOnUse\" x1=\"116.2655\" y1=\"116.3826\" x2=\"195.0292\" y2=\"116.3826\">\n",
       "\t\t<stop offset=\"0.495\" style=\"stop-color:#F598A2\"/>\n",
       "\t\t<stop offset=\"0.5\" style=\"stop-color:#ABDDDA\"/>\n",
       "\t</linearGradient>\n",
       "\t<rect x=\"111.28\" y=\"104.61\" class=\"st0\" width=\"86.69\" height=\"24.19\"/>\n",
       "\t<rect x=\"113.28\" y=\"106.61\" class=\"Graphic_x0020_Style_x0020_38\" width=\"82.69\" height=\"20.19\"/>\n",
       "\t<text transform=\"matrix(1 0 0 1 116.2774 119.9044)\" class=\"st1 st2\">Transcriptome</text>\n",
       "</g>\n",
       "<g>\n",
       "\t<rect x=\"8.75\" y=\"17.53\" class=\"st3\" width=\"134.72\" height=\"38.59\"/>\n",
       "\t<rect x=\"10.75\" y=\"19.53\" class=\"Graphic_x0020_Style_x0020_2\" width=\"130.72\" height=\"34.59\"/>\n",
       "\t<text transform=\"matrix(1 0 0 1 13.748 32.8263)\"><tspan x=\"0\" y=\"0\" class=\"st4 st1 st2\">Gene-specific variables</tspan><tspan x=\"11.33\" y=\"14.4\" class=\"st4 st1 st2\">e.g. fold change, ...</tspan></text>\n",
       "</g>\n",
       "<g class=\"Graphic_x0020_Style_x0020_6\">\n",
       "\t<rect x=\"160.05\" y=\"32.43\" class=\"st5\" width=\"146.39\" height=\"23.19\"/>\n",
       "\t<rect x=\"161.55\" y=\"33.93\" class=\"st4\" width=\"143.39\" height=\"20.19\"/>\n",
       "\t<text transform=\"matrix(1 0 0 1 164.5482 47.2262)\" class=\"Graphic_x0020_Style_x0020_6 st1 st2\">Known cellular variable(s)</text>\n",
       "</g>\n",
       "<g>\n",
       "\t<g>\n",
       "\t\t<line class=\"st6\" x1=\"71.24\" y1=\"56.96\" x2=\"127.92\" y2=\"95.5\"/>\n",
       "\t\t<g>\n",
       "\t\t\t<polygon points=\"139.59,103.44 118.57,98.98 127.04,94.91 127.71,85.53    \"/>\n",
       "\t\t</g>\n",
       "\t</g>\n",
       "</g>\n",
       "<g>\n",
       "\t<g>\n",
       "\t\t<line class=\"st6\" x1=\"234.44\" y1=\"56.96\" x2=\"177.77\" y2=\"95.5\"/>\n",
       "\t\t<g>\n",
       "\t\t\t<polygon points=\"166.09,103.44 177.97,85.53 178.64,94.91 187.11,98.98    \"/>\n",
       "\t\t</g>\n",
       "\t</g>\n",
       "</g>\n",
       "</svg>"
      ],
      "text/plain": [
       "<IPython.core.display.SVG object>"
      ]
     },
     "execution_count": 25,
     "metadata": {},
     "output_type": "execute_result"
    }
   ],
   "source": [
    "display.SVG(filename = \"_static/regression.svg\")"
   ]
  },
  {
   "cell_type": "markdown",
   "id": "495f28df-d0dc-4cd0-b83e-c63c2f4f1928",
   "metadata": {},
   "source": [
    "But what if our cellular variables are also unknown:"
   ]
  },
  {
   "cell_type": "code",
   "execution_count": 21,
   "id": "78b2a675-110c-40b6-8ac2-3039b218bccf",
   "metadata": {},
   "outputs": [
    {
     "data": {
      "text/html": [
       "<canvas id=\"canvas\", width = 100, height = 200>\n",
       "\n",
       "</canvas>\n"
      ],
      "text/plain": [
       "<IPython.core.display.HTML object>"
      ]
     },
     "metadata": {},
     "output_type": "display_data"
    }
   ],
   "source": [
    "%%html\n",
    "<canvas id=\"canvas\", width = 100, height = 200>\n",
    "\n",
    "</canvas>"
   ]
  },
  {
   "cell_type": "code",
   "execution_count": 19,
   "id": "dbab90c3-cf3f-4001-8816-ef2b4444f61f",
   "metadata": {},
   "outputs": [
    {
     "data": {
      "application/javascript": [
       "const rc = rough.canvas(document.getElementById('canvas'));\n",
       "rc.rectangle(10, 10, 200, 200); // x, y, width, height\n"
      ],
      "text/plain": [
       "<IPython.core.display.Javascript object>"
      ]
     },
     "metadata": {},
     "output_type": "display_data"
    }
   ],
   "source": [
    "%%javascript\n",
    "const rc = rough.canvas(document.getElementById('canvas'));\n",
    "rc.rectangle(10, 10, 200, 200); // x, y, width, height"
   ]
  },
  {
   "cell_type": "markdown",
   "id": "7d26b687-f130-44f9-8a8d-4e339aa0010d",
   "metadata": {},
   "source": [
    "So far, we have "
   ]
  }
 ],
 "metadata": {
  "jupytext": {
   "encoding": "# -*- coding: utf-8 -*-",
   "formats": "ipynb,py:percent"
  },
  "kernelspec": {
   "display_name": "Python 3 (ipykernel)",
   "language": "python",
   "name": "python3"
  },
  "language_info": {
   "codemirror_mode": {
    "name": "ipython",
    "version": 3
   },
   "file_extension": ".py",
   "mimetype": "text/x-python",
   "name": "python",
   "nbconvert_exporter": "python",
   "pygments_lexer": "ipython3",
   "version": "3.8.10"
  }
 },
 "nbformat": 4,
 "nbformat_minor": 5
}
