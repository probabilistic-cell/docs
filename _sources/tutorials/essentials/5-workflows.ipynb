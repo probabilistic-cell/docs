{
 "cells": [
  {
   "cell_type": "markdown",
   "id": "c41e444e",
   "metadata": {},
   "source": [
    "# Workflows"
   ]
  },
  {
   "cell_type": "markdown",
   "id": "ca07933e-66cf-42a2-9ff9-d31aa4c22334",
   "metadata": {},
   "source": [
    "For now we mainly looked at models in isolation. However, the true power of probabilistic modelling lies in its ability to move beyond the \"one-model-fits-all\" idea, but rather create a variety of models and connect or compare them in various ways. Indeed, even for a normal use cases, we already typically go up to a dozen models or more. In more complex experimental designs, which are becoming every more common, this can easily go up to a hundred or more."
   ]
  },
  {
   "cell_type": "code",
   "execution_count": 183,
   "id": "64bdec88",
   "metadata": {},
   "outputs": [
    {
     "name": "stdout",
     "output_type": "stream",
     "text": [
      "The autoreload extension is already loaded. To reload it, use:\n",
      "  %reload_ext autoreload\n"
     ]
    }
   ],
   "source": [
    "%load_ext autoreload\n",
    "%autoreload 2\n",
    "import latenta as la\n",
    "import lacell as lac\n",
    "import numpy as np"
   ]
  },
  {
   "cell_type": "markdown",
   "id": "92267d0c-2c29-4dca-93a6-df6e11df7851",
   "metadata": {},
   "source": [
    "Even in relatively simple use cases, managing different models, storing them across sessions, and let them depend on each other can be a pain. To make this easier, we created a small workflow manager in the `laflow` package. It borrows elements from other workflow managers such as snakemake or nextflow. However, it is much more focused on interactivity, modularization and model inheritance that, all concepts very central to the modelling we're doing here.\n",
    "\n",
    "The core tasks of laflow is:\n",
    "- **Persistence**, to store sure models and its derivatives on disk\n",
    "- **Model inheritance**, creation of similar models that only differ in certain aspects\n",
    "- **Connecting data**, to explicitely define what a model needs and where it gets this"
   ]
  },
  {
   "cell_type": "code",
   "execution_count": 211,
   "id": "95ac7ce5-08eb-4936-989c-74dd5c159b3a",
   "metadata": {},
   "outputs": [],
   "source": [
    "import laflow as laf"
   ]
  },
  {
   "cell_type": "markdown",
   "id": "0ff40293-2cf6-4b8f-9e3f-3d79e75692e4",
   "metadata": {},
   "source": [
    "We'll use the same dataset as [before](./1-variables)."
   ]
  },
  {
   "cell_type": "code",
   "execution_count": 212,
   "id": "3bb40b57-729f-434b-92af-3b444992e870",
   "metadata": {
    "lines_to_next_cell": 2
   },
   "outputs": [],
   "source": [
    "import scanpy as sc\n",
    "\n",
    "adata = la.data.load_myod1()\n",
    "adata.obs[\"log_overexpression\"] = np.log1p(adata.obs[\"overexpression\"])\n",
    "adata.var[\"label\"] = adata.var[\"symbol\"]\n",
    "adata.raw = adata"
   ]
  },
  {
   "cell_type": "markdown",
   "id": "f4ed7637-f900-4df1-8d6c-314aff7e1881",
   "metadata": {},
   "source": [
    "## Persistence"
   ]
  },
  {
   "cell_type": "markdown",
   "id": "03787d73-32f6-4dcb-aa98-99bad611071d",
   "metadata": {},
   "source": [
    "::::{margin}\n",
    ":::{note}\n",
    "In the tutorials, we will always work from a temporary directory. In a real situation, the root directory will be typically your project's root directory or one of its subdirectories.\n",
    ":::\n",
    "::::"
   ]
  },
  {
   "cell_type": "code",
   "execution_count": 213,
   "id": "b50f9f6c-c147-4934-83e0-39e2ab96f10e",
   "metadata": {},
   "outputs": [],
   "source": [
    "import tempfile\n",
    "import pathlib\n",
    "project_root = pathlib.Path(tempfile.TemporaryDirectory().name)\n",
    "project_root.mkdir()\n",
    "laf.set_project_root(project_root) # sets the default project root"
   ]
  },
  {
   "cell_type": "markdown",
   "id": "7a363af5-994a-4815-95a2-ef6bea7840dc",
   "metadata": {},
   "source": [
    "The basis of laflow is the {class}`laflow.Flow` class. Each instance we create is associated with a particular folder on disk, starting from a given root directory."
   ]
  },
  {
   "cell_type": "code",
   "execution_count": 214,
   "id": "00f27ea1-efb4-494e-949e-ad9ad5903672",
   "metadata": {},
   "outputs": [
    {
     "data": {
      "text/plain": [
       "PosixPath('/tmp/tmpzawf8pcm/dataset')"
      ]
     },
     "execution_count": 214,
     "metadata": {},
     "output_type": "execute_result"
    }
   ],
   "source": [
    "dataset = laf.Flow(\"dataset\")\n",
    "dataset.path"
   ]
  },
  {
   "cell_type": "markdown",
   "id": "cbe2dbe1-8c2b-4492-a15c-853ed87f9425",
   "metadata": {},
   "source": [
    "This folder will store information on each object, links to other objects or flows, and the objects themselves if they are labeled as persistent. We can easily store an object inside a flow by simply assigning it:"
   ]
  },
  {
   "cell_type": "code",
   "execution_count": 188,
   "id": "f1916ca7-4d2d-4751-88b2-8963e77447df",
   "metadata": {},
   "outputs": [],
   "source": [
    "dataset.adata = adata"
   ]
  },
  {
   "cell_type": "markdown",
   "id": "8dce0ffe-42bf-4b33-abdc-1ba3ee058865",
   "metadata": {},
   "source": [
    "Because python objects are by default persistent, the `adata` object was saved in the folder as a pickle. Along with it is a info json file which is used internally to keep track which type of object it is and how it was created."
   ]
  },
  {
   "cell_type": "code",
   "execution_count": 189,
   "id": "32b42049-fb75-487a-985b-7256f38a6303",
   "metadata": {},
   "outputs": [
    {
     "name": "stdout",
     "output_type": "stream",
     "text": [
      "total 6.4M\n",
      "-rw-r--r-- 1 wsaelens updepla  156 Oct  3 19:59 adata.info\n",
      "-rw-r--r-- 1 wsaelens updepla 6.4M Oct  3 19:59 adata.pkl\n"
     ]
    }
   ],
   "source": [
    "!ls -lh {dataset.path}"
   ]
  },
  {
   "cell_type": "markdown",
   "id": "bb303b21-fb93-44ef-8cc0-8a0e4401ad0a",
   "metadata": {},
   "source": [
    "When working in IPython environments (e.g. Jupyter), we can always check what contents a flow object has as follows:"
   ]
  },
  {
   "cell_type": "code",
   "execution_count": 190,
   "id": "a8c86c6b-1038-49c3-a2c4-fc88fc40ba98",
   "metadata": {},
   "outputs": [
    {
     "data": {
      "text/html": [
       "\n",
       "        <script src=\"https://kit.fontawesome.com/77f7a120e4.js\" crossorigin=\"anonymous\"></script>\n",
       "        <style>\n",
       "        .la-flow ul {\n",
       "            margin-top:0;\n",
       "            list-style: none;\n",
       "            padding: 0;\n",
       "            padding-left: 10px !important;\n",
       "        }\n",
       "        .la-flow li {\n",
       "            padding-left: 10px;\n",
       "        }\n",
       "        .la-flow .instances li {\n",
       "            border-left: 1px dashed #ccc;\n",
       "        }\n",
       "        .la-flow .steps li {\n",
       "            border-left: 1px dotted #ccc;\n",
       "        }\n",
       "        .la-flow .soft {\n",
       "            opacity:0.5;\n",
       "        }\n",
       "        </style>\n",
       "        <div class='la-flow'>dataset <span class='soft'>(laflow.flow.Flow)</span><ul class='instances'><li><i class='fas fa-check-square' style='color:#2ECC40;' title='available and persistent'></i> adata <span class='soft'>(Py)</span></li></ul><ul class='steps'></ul>"
      ],
      "text/plain": [
       "<laflow.flow.Flow at 0x7f4663ea8970>"
      ]
     },
     "execution_count": 190,
     "metadata": {},
     "output_type": "execute_result"
    }
   ],
   "source": [
    "dataset"
   ]
  },
  {
   "cell_type": "markdown",
   "id": "234f23aa-7525-4f4b-806a-2cc4bccfd852",
   "metadata": {},
   "source": [
    "Even if we restart our session (simulated here by removing the flow object), we can always retrieve it by recreating a flow object in the correct folder:"
   ]
  },
  {
   "cell_type": "code",
   "execution_count": 191,
   "id": "8aaef670-e512-46d0-b218-9319d400255d",
   "metadata": {},
   "outputs": [],
   "source": [
    "if \"dataset\" in globals():\n",
    "    del dataset\n",
    "dataset = laf.Flow(\"dataset\")"
   ]
  },
  {
   "cell_type": "code",
   "execution_count": 192,
   "id": "e141def7-df7f-4088-a7d8-f54d7a7181e0",
   "metadata": {},
   "outputs": [
    {
     "data": {
      "text/html": [
       "\n",
       "        <script src=\"https://kit.fontawesome.com/77f7a120e4.js\" crossorigin=\"anonymous\"></script>\n",
       "        <style>\n",
       "        .la-flow ul {\n",
       "            margin-top:0;\n",
       "            list-style: none;\n",
       "            padding: 0;\n",
       "            padding-left: 10px !important;\n",
       "        }\n",
       "        .la-flow li {\n",
       "            padding-left: 10px;\n",
       "        }\n",
       "        .la-flow .instances li {\n",
       "            border-left: 1px dashed #ccc;\n",
       "        }\n",
       "        .la-flow .steps li {\n",
       "            border-left: 1px dotted #ccc;\n",
       "        }\n",
       "        .la-flow .soft {\n",
       "            opacity:0.5;\n",
       "        }\n",
       "        </style>\n",
       "        <div class='la-flow'>dataset <span class='soft'>(laflow.flow.Flow)</span><ul class='instances'><li><i class='fas fa-check-square' style='color:#2ECC40;' title='available and persistent'></i> adata <span class='soft'>(Py)</span></li></ul><ul class='steps'></ul>"
      ],
      "text/plain": [
       "<laflow.flow.Flow at 0x7f466a352cd0>"
      ]
     },
     "execution_count": 192,
     "metadata": {},
     "output_type": "execute_result"
    }
   ],
   "source": [
    "dataset"
   ]
  },
  {
   "cell_type": "markdown",
   "id": "77e6b710-8fcf-48d7-b862-124ea9cb851a",
   "metadata": {},
   "source": [
    "## Modularization"
   ]
  },
  {
   "cell_type": "markdown",
   "id": "7450629d-b9d0-4f99-98a1-c0462662a134",
   "metadata": {},
   "source": [
    "To make our workflows more modular, we use Python's OOP system to systematically let certain flows depend on each other and share common code. For example, a dataset in our example would be defined as follows:"
   ]
  },
  {
   "cell_type": "code",
   "execution_count": 193,
   "id": "8b64c708-9053-49fa-a0a1-ba831416f507",
   "metadata": {},
   "outputs": [],
   "source": [
    "class Dataset(laf.Flow):\n",
    "    default_name = \"dataset\"\n",
    "    adata = laf.PyObj()"
   ]
  },
  {
   "cell_type": "markdown",
   "id": "d6a3d9f7-7b1d-4409-8a45-af3fd2fb16e0",
   "metadata": {},
   "source": [
    "We can initialize this dataset as before. Note that we do not provide a name in this case as we want to use the default \"dataset\" name:"
   ]
  },
  {
   "cell_type": "code",
   "execution_count": 194,
   "id": "6fbb395b-4fe1-4514-aeb6-d200f37aef52",
   "metadata": {},
   "outputs": [],
   "source": [
    "dataset = Dataset()"
   ]
  },
  {
   "cell_type": "code",
   "execution_count": 195,
   "id": "56da4823-5e0c-4386-9bf5-e711dd139f08",
   "metadata": {},
   "outputs": [
    {
     "data": {
      "text/html": [
       "\n",
       "        <script src=\"https://kit.fontawesome.com/77f7a120e4.js\" crossorigin=\"anonymous\"></script>\n",
       "        <style>\n",
       "        .la-flow ul {\n",
       "            margin-top:0;\n",
       "            list-style: none;\n",
       "            padding: 0;\n",
       "            padding-left: 10px !important;\n",
       "        }\n",
       "        .la-flow li {\n",
       "            padding-left: 10px;\n",
       "        }\n",
       "        .la-flow .instances li {\n",
       "            border-left: 1px dashed #ccc;\n",
       "        }\n",
       "        .la-flow .steps li {\n",
       "            border-left: 1px dotted #ccc;\n",
       "        }\n",
       "        .la-flow .soft {\n",
       "            opacity:0.5;\n",
       "        }\n",
       "        </style>\n",
       "        <div class='la-flow'>dataset <span class='soft'>(__main__.Dataset)</span><ul class='instances'><li><i class='fas fa-check-square' style='color:#2ECC40;' title='available and persistent'></i> adata <span class='soft'>(Py)</span></li></ul><ul class='steps'></ul>"
      ],
      "text/plain": [
       "<__main__.Dataset at 0x7f466a352730>"
      ]
     },
     "execution_count": 195,
     "metadata": {},
     "output_type": "execute_result"
    }
   ],
   "source": [
    "dataset"
   ]
  },
  {
   "cell_type": "markdown",
   "id": "dbe7f1bc-2ec4-4223-a492-8ce71eee4951",
   "metadata": {},
   "source": [
    "We can now define our model as another Flow. It contains a link to the dataset flow, along with three methods that create, infer and interpret the model: "
   ]
  },
  {
   "cell_type": "code",
   "execution_count": 196,
   "id": "b34360ab-8aac-458e-a21a-b4f59622bd03",
   "metadata": {},
   "outputs": [],
   "source": [
    "class ConstantModel(laf.Flow):\n",
    "    default_name = \"constant\"\n",
    "    \n",
    "    dataset = laf.FlowObj()\n",
    "    \n",
    "    root_initial = laf.LatentaObj(persistent = False)\n",
    "    \n",
    "    root = laf.LatentaObj()\n",
    "    \n",
    "    def create_root_initial(self, adata):\n",
    "        overexpression = la.Fixed(adata.obs[\"log_overexpression\"], label=\"overexpression\")\n",
    "        transcriptome = lac.transcriptome.Transcriptome.from_adata(dataset.adata)\n",
    "        foldchange = transcriptome.find(\"foldchange\")\n",
    "\n",
    "        foldchange.overexpression = la.links.scalar.Constant(overexpression, definition=foldchange.value_definition)\n",
    "        \n",
    "        return transcriptome, \n",
    "        \n",
    "    def infer_model(self, root_initial):\n",
    "        root = root_initial.clone()\n",
    "        with root.switch(la.config.device):\n",
    "            inference = la.infer.svi.SVI(\n",
    "                root, [la.infer.loss.ELBO()], la.infer.optim.Adam(lr=5e-2)\n",
    "            )\n",
    "            trainer = la.infer.trainer.Trainer(inference)\n",
    "            trace = trainer.train(10000)\n",
    "            \n",
    "        return root, \n",
    "    \n",
    "    transcriptome_observed = laf.LatentaObj()\n",
    "    overexpression_observed = laf.LatentaObj()\n",
    "    overexpression_causal = laf.LatentaObj()\n",
    "            \n",
    "    def interpret(self, root):\n",
    "        transcriptome_observed = la.posterior.vector.VectorObserved(root)\n",
    "        transcriptome_observed.sample(5)\n",
    "        \n",
    "        overexpression = root.find(\"overexpression\")\n",
    "        \n",
    "        overexpression_observed = la.posterior.scalar.ScalarObserved(overexpression)\n",
    "        overexpression_observed.sample(5)\n",
    "        \n",
    "        overexpression_causal = la.posterior.scalar.ScalarVectorCausal(\n",
    "            overexpression, root, interpretable = root.p.mu.expression, observed = overexpression_observed\n",
    "        )\n",
    "        overexpression_causal.sample(10)\n",
    "        overexpression_causal.sample_random(10)\n",
    "        overexpression_causal.observed\n",
    "        overexpression_causal.sample_empirical()\n",
    "        \n",
    "        return transcriptome_observed, overexpression_observed, overexpression_causal"
   ]
  },
  {
   "cell_type": "code",
   "execution_count": 197,
   "id": "6abca9b5-9279-4c2e-a174-09a326a9ccae",
   "metadata": {},
   "outputs": [],
   "source": [
    "model = ConstantModel()"
   ]
  },
  {
   "cell_type": "code",
   "execution_count": 198,
   "id": "364026a5-25bc-4d5c-b7dd-e83136593e3b",
   "metadata": {},
   "outputs": [
    {
     "data": {
      "text/html": [
       "\n",
       "        <script src=\"https://kit.fontawesome.com/77f7a120e4.js\" crossorigin=\"anonymous\"></script>\n",
       "        <style>\n",
       "        .la-flow ul {\n",
       "            margin-top:0;\n",
       "            list-style: none;\n",
       "            padding: 0;\n",
       "            padding-left: 10px !important;\n",
       "        }\n",
       "        .la-flow li {\n",
       "            padding-left: 10px;\n",
       "        }\n",
       "        .la-flow .instances li {\n",
       "            border-left: 1px dashed #ccc;\n",
       "        }\n",
       "        .la-flow .steps li {\n",
       "            border-left: 1px dotted #ccc;\n",
       "        }\n",
       "        .la-flow .soft {\n",
       "            opacity:0.5;\n",
       "        }\n",
       "        </style>\n",
       "        <div class='la-flow'>constant <span class='soft'>(__main__.ConstantModel)</span><ul class='instances'><li><i class='fas fa-times' style='color:#FF4136;' title='unavailable'></i>&nbsp; dataset <span class='soft'>(FlowLink)</span></li><li><i class='fas fa-times' style='color:#FF4136;' title='unavailable'></i>&nbsp; root_initial <span class='soft'>(Latenta)</span></li><li><i class='fas fa-times' style='color:#FF4136;' title='unavailable'></i>&nbsp; root <span class='soft'>(Latenta)</span></li><li><i class='fas fa-times' style='color:#FF4136;' title='unavailable'></i>&nbsp; transcriptome_observed <span class='soft'>(Latenta)</span></li><li><i class='fas fa-times' style='color:#FF4136;' title='unavailable'></i>&nbsp; overexpression_observed <span class='soft'>(Latenta)</span></li><li><i class='fas fa-times' style='color:#FF4136;' title='unavailable'></i>&nbsp; overexpression_causal <span class='soft'>(Latenta)</span></li></ul><ul class='steps'></ul>"
      ],
      "text/plain": [
       "<__main__.ConstantModel at 0x7f4663e769d0>"
      ]
     },
     "execution_count": 198,
     "metadata": {},
     "output_type": "execute_result"
    }
   ],
   "source": [
    "model"
   ]
  },
  {
   "cell_type": "code",
   "execution_count": 199,
   "id": "b56c3b2c-e524-4d14-9642-dad803ba54f8",
   "metadata": {},
   "outputs": [],
   "source": [
    "model.dataset = dataset"
   ]
  },
  {
   "cell_type": "code",
   "execution_count": 200,
   "id": "f5a551f5-d897-4026-afd7-a25d116c7309",
   "metadata": {},
   "outputs": [
    {
     "data": {
      "text/html": [
       "\n",
       "        <script src=\"https://kit.fontawesome.com/77f7a120e4.js\" crossorigin=\"anonymous\"></script>\n",
       "        <style>\n",
       "        .la-flow ul {\n",
       "            margin-top:0;\n",
       "            list-style: none;\n",
       "            padding: 0;\n",
       "            padding-left: 10px !important;\n",
       "        }\n",
       "        .la-flow li {\n",
       "            padding-left: 10px;\n",
       "        }\n",
       "        .la-flow .instances li {\n",
       "            border-left: 1px dashed #ccc;\n",
       "        }\n",
       "        .la-flow .steps li {\n",
       "            border-left: 1px dotted #ccc;\n",
       "        }\n",
       "        .la-flow .soft {\n",
       "            opacity:0.5;\n",
       "        }\n",
       "        </style>\n",
       "        <div class='la-flow'>constant <span class='soft'>(__main__.ConstantModel)</span><ul class='instances'><li><i class='fas fa-check-square' style='color:#2ECC40;' title='available and persistent'></i> dataset <span class='soft'>(FlowLink)</span> → dataset</li><li><i class='fas fa-times' style='color:#FF4136;' title='unavailable'></i>&nbsp; root_initial <span class='soft'>(Latenta)</span></li><li><i class='fas fa-times' style='color:#FF4136;' title='unavailable'></i>&nbsp; root <span class='soft'>(Latenta)</span></li><li><i class='fas fa-times' style='color:#FF4136;' title='unavailable'></i>&nbsp; transcriptome_observed <span class='soft'>(Latenta)</span></li><li><i class='fas fa-times' style='color:#FF4136;' title='unavailable'></i>&nbsp; overexpression_observed <span class='soft'>(Latenta)</span></li><li><i class='fas fa-times' style='color:#FF4136;' title='unavailable'></i>&nbsp; overexpression_causal <span class='soft'>(Latenta)</span></li></ul><ul class='steps'></ul>"
      ],
      "text/plain": [
       "<__main__.ConstantModel at 0x7f4663e769d0>"
      ]
     },
     "execution_count": 200,
     "metadata": {},
     "output_type": "execute_result"
    }
   ],
   "source": [
    "model"
   ]
  },
  {
   "cell_type": "code",
   "execution_count": 201,
   "id": "c20aafa6-e2d6-47aa-ad35-43f35f614032",
   "metadata": {},
   "outputs": [
    {
     "data": {
      "text/html": [
       "\n",
       "        <script src=\"https://kit.fontawesome.com/77f7a120e4.js\" crossorigin=\"anonymous\"></script>\n",
       "        <style>\n",
       "        .la-flow ul {\n",
       "            margin-top:0;\n",
       "            list-style: none;\n",
       "            padding: 0;\n",
       "            padding-left: 10px !important;\n",
       "        }\n",
       "        .la-flow li {\n",
       "            padding-left: 10px;\n",
       "        }\n",
       "        .la-flow .instances li {\n",
       "            border-left: 1px dashed #ccc;\n",
       "        }\n",
       "        .la-flow .steps li {\n",
       "            border-left: 1px dotted #ccc;\n",
       "        }\n",
       "        .la-flow .soft {\n",
       "            opacity:0.5;\n",
       "        }\n",
       "        </style>\n",
       "        <div class='la-flow'>dataset <span class='soft'>(__main__.Dataset)</span><ul class='instances'><li><i class='fas fa-check-square' style='color:#2ECC40;' title='available and persistent'></i> adata <span class='soft'>(Py)</span></li></ul><ul class='steps'></ul>"
      ],
      "text/plain": [
       "<__main__.Dataset at 0x7f466a352730>"
      ]
     },
     "execution_count": 201,
     "metadata": {},
     "output_type": "execute_result"
    }
   ],
   "source": [
    "model.dataset"
   ]
  },
  {
   "cell_type": "code",
   "execution_count": 202,
   "id": "2b38dcd9-5f62-4d5c-b7ec-7dafa07858e7",
   "metadata": {},
   "outputs": [],
   "source": [
    "model.root_initial,  = model.create_root_initial(model.dataset.adata)"
   ]
  },
  {
   "cell_type": "code",
   "execution_count": 203,
   "id": "609970e5-7c2d-44fa-909d-1fab796a8290",
   "metadata": {},
   "outputs": [
    {
     "data": {
      "text/html": [
       "\n",
       "        <script src=\"https://kit.fontawesome.com/77f7a120e4.js\" crossorigin=\"anonymous\"></script>\n",
       "        <style>\n",
       "        .la-flow ul {\n",
       "            margin-top:0;\n",
       "            list-style: none;\n",
       "            padding: 0;\n",
       "            padding-left: 10px !important;\n",
       "        }\n",
       "        .la-flow li {\n",
       "            padding-left: 10px;\n",
       "        }\n",
       "        .la-flow .instances li {\n",
       "            border-left: 1px dashed #ccc;\n",
       "        }\n",
       "        .la-flow .steps li {\n",
       "            border-left: 1px dotted #ccc;\n",
       "        }\n",
       "        .la-flow .soft {\n",
       "            opacity:0.5;\n",
       "        }\n",
       "        </style>\n",
       "        <div class='la-flow'>constant <span class='soft'>(__main__.ConstantModel)</span><ul class='instances'><li><i class='fas fa-check-square' style='color:#2ECC40;' title='available and persistent'></i> dataset <span class='soft'>(FlowLink)</span> → dataset</li><li><i class='fas fa-check' style='color:#2ECC40;' title='available but not persistent'></i> root_initial <span class='soft'>(Latenta)</span></li><li><i class='fas fa-times' style='color:#FF4136;' title='unavailable'></i>&nbsp; root <span class='soft'>(Latenta)</span></li><li><i class='fas fa-times' style='color:#FF4136;' title='unavailable'></i>&nbsp; transcriptome_observed <span class='soft'>(Latenta)</span></li><li><i class='fas fa-times' style='color:#FF4136;' title='unavailable'></i>&nbsp; overexpression_observed <span class='soft'>(Latenta)</span></li><li><i class='fas fa-times' style='color:#FF4136;' title='unavailable'></i>&nbsp; overexpression_causal <span class='soft'>(Latenta)</span></li></ul><ul class='steps'></ul>"
      ],
      "text/plain": [
       "<__main__.ConstantModel at 0x7f4663e769d0>"
      ]
     },
     "execution_count": 203,
     "metadata": {},
     "output_type": "execute_result"
    }
   ],
   "source": [
    "model"
   ]
  },
  {
   "cell_type": "code",
   "execution_count": 204,
   "id": "8f8f6481-f4df-4036-806b-920b1b3e2967",
   "metadata": {},
   "outputs": [
    {
     "data": {
      "application/vnd.jupyter.widget-view+json": {
       "model_id": "98ac0b1e8202495b91d63145278b1c10",
       "version_major": 2,
       "version_minor": 0
      },
      "text/plain": [
       "  0%|                                                                                                         …"
      ]
     },
     "metadata": {},
     "output_type": "display_data"
    }
   ],
   "source": [
    "model.root, = model.infer_model(model.root_initial)"
   ]
  },
  {
   "cell_type": "code",
   "execution_count": 205,
   "id": "b6655373-1588-42dd-84fe-c2fb45c22611",
   "metadata": {},
   "outputs": [
    {
     "data": {
      "application/vnd.jupyter.widget-view+json": {
       "model_id": "2dcd2d59c67c445990485ca6734ca2f6",
       "version_major": 2,
       "version_minor": 0
      },
      "text/plain": [
       "  0%|          | 0/5 [00:00<?, ?it/s]"
      ]
     },
     "metadata": {},
     "output_type": "display_data"
    },
    {
     "data": {
      "application/vnd.jupyter.widget-view+json": {
       "model_id": "3ac6668d819f4f5ea3faf1f9730b440d",
       "version_major": 2,
       "version_minor": 0
      },
      "text/plain": [
       "  0%|          | 0/5 [00:00<?, ?it/s]"
      ]
     },
     "metadata": {},
     "output_type": "display_data"
    },
    {
     "data": {
      "application/vnd.jupyter.widget-view+json": {
       "model_id": "b558a4b206594c2c9eeab9b39025df2b",
       "version_major": 2,
       "version_minor": 0
      },
      "text/plain": [
       "  0%|          | 0/10 [00:00<?, ?it/s]"
      ]
     },
     "metadata": {},
     "output_type": "display_data"
    },
    {
     "data": {
      "application/vnd.jupyter.widget-view+json": {
       "model_id": "6d9cab286a734fcd8014c44ef2fc8662",
       "version_major": 2,
       "version_minor": 0
      },
      "text/plain": [
       "  0%|          | 0/10 [00:00<?, ?it/s]"
      ]
     },
     "metadata": {},
     "output_type": "display_data"
    },
    {
     "name": "stderr",
     "output_type": "stream",
     "text": [
      "/tmp/tmppluw9g_b/constant/root.pkl: 559.2 KiB / 11.2 MiB = 0.049, 0:02\n"
     ]
    }
   ],
   "source": [
    "model.transcriptome_observed, model.overexpression_observed, model.overexpression_causal = model.interpret(model.root)"
   ]
  },
  {
   "cell_type": "code",
   "execution_count": 206,
   "id": "36c79305-c543-43e8-a18c-e7d7c69e9da6",
   "metadata": {},
   "outputs": [
    {
     "data": {
      "text/html": [
       "\n",
       "        <script src=\"https://kit.fontawesome.com/77f7a120e4.js\" crossorigin=\"anonymous\"></script>\n",
       "        <style>\n",
       "        .la-flow ul {\n",
       "            margin-top:0;\n",
       "            list-style: none;\n",
       "            padding: 0;\n",
       "            padding-left: 10px !important;\n",
       "        }\n",
       "        .la-flow li {\n",
       "            padding-left: 10px;\n",
       "        }\n",
       "        .la-flow .instances li {\n",
       "            border-left: 1px dashed #ccc;\n",
       "        }\n",
       "        .la-flow .steps li {\n",
       "            border-left: 1px dotted #ccc;\n",
       "        }\n",
       "        .la-flow .soft {\n",
       "            opacity:0.5;\n",
       "        }\n",
       "        </style>\n",
       "        <div class='la-flow'>constant <span class='soft'>(__main__.ConstantModel)</span><ul class='instances'><li><i class='fas fa-check-square' style='color:#2ECC40;' title='available and persistent'></i> dataset <span class='soft'>(FlowLink)</span> → dataset</li><li><i class='fas fa-check' style='color:#2ECC40;' title='available but not persistent'></i> root_initial <span class='soft'>(Latenta)</span></li><li><i class='fas fa-check-square' style='color:#2ECC40;' title='available and persistent'></i> root <span class='soft'>(Latenta)</span></li><li><i class='fas fa-check-square' style='color:#2ECC40;' title='available and persistent'></i> transcriptome_observed <span class='soft'>(Latenta)</span></li><li><i class='fas fa-check-square' style='color:#2ECC40;' title='available and persistent'></i> overexpression_observed <span class='soft'>(Latenta)</span></li><li><i class='fas fa-check-square' style='color:#2ECC40;' title='available and persistent'></i> overexpression_causal <span class='soft'>(Latenta)</span></li></ul><ul class='steps'></ul>"
      ],
      "text/plain": [
       "<__main__.ConstantModel at 0x7f4663e769d0>"
      ]
     },
     "execution_count": 206,
     "metadata": {},
     "output_type": "execute_result"
    },
    {
     "name": "stderr",
     "output_type": "stream",
     "text": [
      "/tmp/tmppluw9g_b/constant/transcriptome_observed.pkl: 3,177.5 KiB / 24.7 MiB = 0.126, 6.2 MiB/s, 0:04\n",
      "/tmp/tmppluw9g_b/constant/overexpression_causal.pkl: 3,618.5 KiB / 40.6 MiB = 0.087, 10 MiB/s, 0:03\n"
     ]
    }
   ],
   "source": [
    "model"
   ]
  },
  {
   "cell_type": "code",
   "execution_count": 207,
   "id": "566e9332-48b4-4d95-8952-452ef61f533b",
   "metadata": {},
   "outputs": [
    {
     "data": {
      "image/png": "[encoded data removed]",
      "text/plain": [
       "<Figure size 1296x720 with 11 Axes>"
      ]
     },
     "metadata": {
      "needs_background": "light"
     },
     "output_type": "display_data"
    }
   ],
   "source": [
    "model.overexpression_causal.plot_features();"
   ]
  },
  {
   "cell_type": "markdown",
   "id": "8ba95202-c0da-4777-a636-bf99ad78e3dc",
   "metadata": {},
   "source": [
    "We can now define our spline and linear models through inheritance, and only change the bits that are different. In this case, this is at the level of model creation:"
   ]
  },
  {
   "cell_type": "code",
   "execution_count": 208,
   "id": "31a9e9e8-6769-4cc7-aea7-2520ff923e77",
   "metadata": {},
   "outputs": [],
   "source": [
    "class LinearModel(ConstantModel):\n",
    "    default_name = \"linear\"\n",
    "    \n",
    "    def create_root_initial(self, adata):\n",
    "        root_initial,  = super().create_root_initial(adata)\n",
    "        \n",
    "        foldchange = root_initial.find(\"foldchange\")\n",
    "        overexpression = root_initial.find(\"overexpression\")\n",
    "        \n",
    "        foldchange.overexpression = la.links.scalar.Linear(overexpression, a = True, definition=foldchange.value_definition)\n",
    "        \n",
    "        return root_initial, \n",
    "    \n",
    "class SplineModel(ConstantModel):\n",
    "    default_name = \"spline\"\n",
    "    \n",
    "    def create_root_initial(self, adata):\n",
    "        root_initial,  = super().create_root_initial(adata)\n",
    "        \n",
    "        foldchange = root_initial.find(\"foldchange\")\n",
    "        overexpression = root_initial.find(\"overexpression\")\n",
    "        \n",
    "        foldchange.overexpression = la.links.scalar.Spline(overexpression, definition=foldchange.value_definition)\n",
    "        \n",
    "        return root_initial, "
   ]
  },
  {
   "cell_type": "code",
   "execution_count": 209,
   "id": "62ede4b6-a326-4078-87cc-69cd5dc045e8",
   "metadata": {},
   "outputs": [
    {
     "data": {
      "application/vnd.jupyter.widget-view+json": {
       "model_id": "3c9ed29efd4c41328f6000082f4e0503",
       "version_major": 2,
       "version_minor": 0
      },
      "text/plain": [
       "  0%|                                                                                                         …"
      ]
     },
     "metadata": {},
     "output_type": "display_data"
    },
    {
     "data": {
      "application/vnd.jupyter.widget-view+json": {
       "model_id": "5d53247edaab4aef8bc3949a89074668",
       "version_major": 2,
       "version_minor": 0
      },
      "text/plain": [
       "  0%|          | 0/5 [00:00<?, ?it/s]"
      ]
     },
     "metadata": {},
     "output_type": "display_data"
    },
    {
     "data": {
      "application/vnd.jupyter.widget-view+json": {
       "model_id": "6d5cffb34a5540349dc2b3fb8bd288b2",
       "version_major": 2,
       "version_minor": 0
      },
      "text/plain": [
       "  0%|          | 0/5 [00:00<?, ?it/s]"
      ]
     },
     "metadata": {},
     "output_type": "display_data"
    },
    {
     "data": {
      "application/vnd.jupyter.widget-view+json": {
       "model_id": "307e8806f6be427fade7e6a12d5f3b74",
       "version_major": 2,
       "version_minor": 0
      },
      "text/plain": [
       "  0%|          | 0/10 [00:00<?, ?it/s]"
      ]
     },
     "metadata": {},
     "output_type": "display_data"
    },
    {
     "data": {
      "application/vnd.jupyter.widget-view+json": {
       "model_id": "fa2dc8b41142462392903eec27d45c6d",
       "version_major": 2,
       "version_minor": 0
      },
      "text/plain": [
       "  0%|          | 0/10 [00:00<?, ?it/s]"
      ]
     },
     "metadata": {},
     "output_type": "display_data"
    }
   ],
   "source": [
    "model = LinearModel(dataset = dataset)\n",
    "model.root_initial,  = model.create_root_initial(model.dataset.adata)\n",
    "model.root, = model.infer_model(model.root_initial)\n",
    "model.transcriptome_observed, model.overexpression_observed, model.overexpression_causal = model.interpret(model.root)"
   ]
  },
  {
   "cell_type": "code",
   "execution_count": 210,
   "id": "50b1aa5a-cfb9-431d-bfee-2f3ccd5c9d9a",
   "metadata": {},
   "outputs": [
    {
     "data": {
      "application/vnd.jupyter.widget-view+json": {
       "model_id": "b4e1f76421a94b6dadc19dc900892cac",
       "version_major": 2,
       "version_minor": 0
      },
      "text/plain": [
       "  0%|                                                                                                         …"
      ]
     },
     "metadata": {},
     "output_type": "display_data"
    },
    {
     "name": "stderr",
     "output_type": "stream",
     "text": [
      "/tmp/tmppluw9g_b/linear/root.pkl: 574.1 KiB / 11.3 MiB = 0.050, 0:02\n",
      "/tmp/tmppluw9g_b/linear/transcriptome_observed.pkl: 4,663.6 KiB / 24.7 MiB = 0.184, 5.6 MiB/s, 0:04\n",
      "/tmp/tmppluw9g_b/linear/overexpression_causal.pkl: 12.1 MiB / 40.6 MiB = 0.299, 9.0 MiB/s, 0:04\n"
     ]
    },
    {
     "data": {
      "application/vnd.jupyter.widget-view+json": {
       "model_id": "0ecb5982169e4c21986c186853903cfc",
       "version_major": 2,
       "version_minor": 0
      },
      "text/plain": [
       "  0%|          | 0/5 [00:00<?, ?it/s]"
      ]
     },
     "metadata": {},
     "output_type": "display_data"
    },
    {
     "data": {
      "application/vnd.jupyter.widget-view+json": {
       "model_id": "78701a5bb61c4eadbd21553b1ce8879a",
       "version_major": 2,
       "version_minor": 0
      },
      "text/plain": [
       "  0%|          | 0/5 [00:00<?, ?it/s]"
      ]
     },
     "metadata": {},
     "output_type": "display_data"
    },
    {
     "data": {
      "application/vnd.jupyter.widget-view+json": {
       "model_id": "739cd9515594475fae96cc870bf13dda",
       "version_major": 2,
       "version_minor": 0
      },
      "text/plain": [
       "  0%|          | 0/10 [00:00<?, ?it/s]"
      ]
     },
     "metadata": {},
     "output_type": "display_data"
    },
    {
     "data": {
      "application/vnd.jupyter.widget-view+json": {
       "model_id": "82abea1834b94c8b9fbb159255357469",
       "version_major": 2,
       "version_minor": 0
      },
      "text/plain": [
       "  0%|          | 0/10 [00:00<?, ?it/s]"
      ]
     },
     "metadata": {},
     "output_type": "display_data"
    },
    {
     "name": "stderr",
     "output_type": "stream",
     "text": [
      "/tmp/tmppluw9g_b/spline/root.pkl: 682.9 KiB / 11.6 MiB = 0.058, 0:02\n",
      "/tmp/tmppluw9g_b/spline/transcriptome_observed.pkl: 4,848.0 KiB / 25.1 MiB = 0.189, 5.6 MiB/s, 0:04\n",
      "/tmp/tmppluw9g_b/spline/overexpression_causal.pkl: 12.1 MiB / 40.9 MiB = 0.296, 8.8 MiB/s, 0:04\n"
     ]
    }
   ],
   "source": [
    "model = SplineModel(dataset = dataset)\n",
    "model.root_initial,  = model.create_root_initial(model.dataset.adata)\n",
    "model.root, = model.infer_model(model.root_initial)\n",
    "model.transcriptome_observed, model.overexpression_observed, model.overexpression_causal = model.interpret(model.root)"
   ]
  },
  {
   "cell_type": "code",
   "execution_count": 215,
   "id": "842106e6-fe90-4770-b9c4-8e9a989a1cd7",
   "metadata": {},
   "outputs": [
    {
     "data": {
      "text/html": [
       "\n",
       "        <script src=\"https://kit.fontawesome.com/77f7a120e4.js\" crossorigin=\"anonymous\"></script>\n",
       "        <style>\n",
       "        .la-flow ul {\n",
       "            margin-top:0;\n",
       "            list-style: none;\n",
       "            padding: 0;\n",
       "            padding-left: 10px !important;\n",
       "        }\n",
       "        .la-flow li {\n",
       "            padding-left: 10px;\n",
       "        }\n",
       "        .la-flow .instances li {\n",
       "            border-left: 1px dashed #ccc;\n",
       "        }\n",
       "        .la-flow .steps li {\n",
       "            border-left: 1px dotted #ccc;\n",
       "        }\n",
       "        .la-flow .soft {\n",
       "            opacity:0.5;\n",
       "        }\n",
       "        </style>\n",
       "        <div class='la-flow'>spline <span class='soft'>(__main__.SplineModel)</span><ul class='instances'><li><i class='fas fa-check-square' style='color:#2ECC40;' title='available and persistent'></i> dataset <span class='soft'>(FlowLink)</span> → dataset</li><li><i class='fas fa-check' style='color:#2ECC40;' title='available but not persistent'></i> root_initial <span class='soft'>(Latenta)</span></li><li><i class='fas fa-check-square' style='color:#2ECC40;' title='available and persistent'></i> root <span class='soft'>(Latenta)</span></li><li><i class='fas fa-check-square' style='color:#2ECC40;' title='available and persistent'></i> transcriptome_observed <span class='soft'>(Latenta)</span></li><li><i class='fas fa-check-square' style='color:#2ECC40;' title='available and persistent'></i> overexpression_observed <span class='soft'>(Latenta)</span></li><li><i class='fas fa-check-square' style='color:#2ECC40;' title='available and persistent'></i> overexpression_causal <span class='soft'>(Latenta)</span></li></ul><ul class='steps'></ul>"
      ],
      "text/plain": [
       "<__main__.SplineModel at 0x7f4642d0f5b0>"
      ]
     },
     "execution_count": 215,
     "metadata": {},
     "output_type": "execute_result"
    }
   ],
   "source": [
    "model"
   ]
  },
  {
   "cell_type": "markdown",
   "id": "877b63a1-20dc-4a54-ae3d-9010999efa99",
   "metadata": {},
   "source": [
    "## Building pipelines"
   ]
  },
  {
   "cell_type": "code",
   "execution_count": null,
   "id": "aa38b6e0-62de-4861-8247-14d5d4386ec9",
   "metadata": {},
   "outputs": [],
   "source": []
  }
 ],
 "metadata": {
  "jupytext": {
   "encoding": "# -*- coding: utf-8 -*-",
   "formats": "ipynb,py:percent"
  },
  "kernelspec": {
   "display_name": "Python 3 (ipykernel)",
   "language": "python",
   "name": "python3"
  },
  "language_info": {
   "codemirror_mode": {
    "name": "ipython",
    "version": 3
   },
   "file_extension": ".py",
   "mimetype": "text/x-python",
   "name": "python",
   "nbconvert_exporter": "python",
   "pygments_lexer": "ipython3",
   "version": "3.8.10"
  }
 },
 "nbformat": 4,
 "nbformat_minor": 5
}
