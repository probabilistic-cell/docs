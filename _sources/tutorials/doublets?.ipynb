{
 "cells": [
  {
   "cell_type": "markdown",
   "id": "65f542c5-ffcf-41dc-b09d-9920cdb4ab35",
   "metadata": {
    "tags": []
   },
   "source": [
    "# Doublets 😎"
   ]
  },
  {
   "cell_type": "code",
   "execution_count": 1,
   "id": "a339b749-5b98-49a6-8554-fe926973f6e2",
   "metadata": {
    "execution": {
     "iopub.execute_input": "2021-10-05T15:39:12.816337Z",
     "iopub.status.busy": "2021-10-05T15:39:12.815376Z",
     "iopub.status.idle": "2021-10-05T15:39:14.225874Z",
     "shell.execute_reply": "2021-10-05T15:39:14.225414Z"
    }
   },
   "outputs": [],
   "source": [
    "from IPython import get_ipython\n",
    "\n",
    "if get_ipython():\n",
    "    get_ipython().run_line_magic(\"load_ext\", \"autoreload\")\n",
    "    get_ipython().run_line_magic(\"autoreload\", \"2\")\n",
    "\n",
    "import numpy as np\n",
    "import pandas as pd\n",
    "import torch\n",
    "\n",
    "import xarray as xr\n",
    "\n",
    "import matplotlib.pyplot as plt\n",
    "import seaborn as sns\n",
    "\n",
    "import collections\n",
    "\n",
    "import latenta as la\n",
    "\n",
    "la.logger.setLevel(\"INFO\")"
   ]
  },
  {
   "cell_type": "markdown",
   "id": "ccf3fec3-7f92-49b7-8b40-16330c9efd1e",
   "metadata": {},
   "source": [
    "## Model 1"
   ]
  },
  {
   "cell_type": "code",
   "execution_count": 2,
   "id": "779c646c-cc8e-4f88-adeb-7140da258f16",
   "metadata": {
    "execution": {
     "iopub.execute_input": "2021-10-05T15:39:14.229215Z",
     "iopub.status.busy": "2021-10-05T15:39:14.228739Z",
     "iopub.status.idle": "2021-10-05T15:39:14.249000Z",
     "shell.execute_reply": "2021-10-05T15:39:14.248524Z"
    }
   },
   "outputs": [],
   "source": [
    "n_cells = 50\n",
    "cell_ids = [str(i) for i in range(n_cells)]\n",
    "cells = la.Dim(\"C\" + pd.Series(cell_ids, name=\"cell\"))\n",
    "\n",
    "n_genes = 100\n",
    "genes = la.Dim(\"G\" + pd.Series([str(i) for i in range(n_genes)]), name=\"gene\")\n",
    "\n",
    "celltype_ids = \"Ct\" + pd.Series([\"a\", \"b\"])\n",
    "celltypes = la.Dim(celltype_ids, name = \"celltype\")"
   ]
  },
  {
   "cell_type": "code",
   "execution_count": 3,
   "id": "f554e32f-7dfe-4711-b6a3-e85abe60be06",
   "metadata": {
    "execution": {
     "iopub.execute_input": "2021-10-05T15:39:14.251359Z",
     "iopub.status.busy": "2021-10-05T15:39:14.250893Z",
     "iopub.status.idle": "2021-10-05T15:39:14.269168Z",
     "shell.execute_reply": "2021-10-05T15:39:14.268756Z"
    }
   },
   "outputs": [],
   "source": [
    "# celltype_value = pd.Series(np.random.choice([\"a\", \"b\"], n_cells, replace = True), index = cells.index)"
   ]
  },
  {
   "cell_type": "code",
   "execution_count": 4,
   "id": "3aaebbf5-2a8a-4f2b-8396-2bc24aa10d11",
   "metadata": {
    "execution": {
     "iopub.execute_input": "2021-10-05T15:39:14.272158Z",
     "iopub.status.busy": "2021-10-05T15:39:14.271689Z",
     "iopub.status.idle": "2021-10-05T15:39:14.284843Z",
     "shell.execute_reply": "2021-10-05T15:39:14.284450Z"
    }
   },
   "outputs": [],
   "source": [
    "baseline_expression_value = pd.DataFrame(np.random.normal(scale = 3, size = (celltypes.size, genes.size)), index = celltypes.index, columns = genes.index)"
   ]
  },
  {
   "cell_type": "code",
   "execution_count": 5,
   "id": "f7b6bb7e-a165-4125-b9c7-b422f2a669fe",
   "metadata": {
    "execution": {
     "iopub.execute_input": "2021-10-05T15:39:14.287382Z",
     "iopub.status.busy": "2021-10-05T15:39:14.287016Z",
     "iopub.status.idle": "2021-10-05T15:39:14.304160Z",
     "shell.execute_reply": "2021-10-05T15:39:14.304453Z"
    }
   },
   "outputs": [],
   "source": [
    "proportions_value = pd.DataFrame(np.random.dirichlet((3., 5), size = (cells.size)), index = cells.index, columns = celltypes.index)"
   ]
  },
  {
   "cell_type": "code",
   "execution_count": 6,
   "id": "17f82a2f-7c45-40ed-8064-9ade925daf70",
   "metadata": {
    "execution": {
     "iopub.execute_input": "2021-10-05T15:39:14.306781Z",
     "iopub.status.busy": "2021-10-05T15:39:14.306406Z",
     "iopub.status.idle": "2021-10-05T15:39:14.512488Z",
     "shell.execute_reply": "2021-10-05T15:39:14.512077Z"
    }
   },
   "outputs": [
    {
     "data": {
      "text/plain": [
       "<AxesSubplot:xlabel='celltype', ylabel='cell'>"
      ]
     },
     "execution_count": 6,
     "metadata": {},
     "output_type": "execute_result"
    },
    {
     "data": {
      "image/png": "[encoded data removed]",
      "text/plain": [
       "<Figure size 432x288 with 2 Axes>"
      ]
     },
     "metadata": {
      "needs_background": "light"
     },
     "output_type": "display_data"
    }
   ],
   "source": [
    "# proportions_value = np.exp(proportions_value)/np.exp(proportions_value).sum(1).values[:, None]\n",
    "sns.heatmap(proportions_value)"
   ]
  },
  {
   "cell_type": "code",
   "execution_count": 7,
   "id": "c3c0774f-de94-4fc7-bdb6-4f8645dc1d9c",
   "metadata": {
    "execution": {
     "iopub.execute_input": "2021-10-05T15:39:14.515689Z",
     "iopub.status.busy": "2021-10-05T15:39:14.515224Z",
     "iopub.status.idle": "2021-10-05T15:39:14.536173Z",
     "shell.execute_reply": "2021-10-05T15:39:14.535779Z"
    }
   },
   "outputs": [],
   "source": [
    "proportions = la.Fixed(proportions_value, label = \"proportions\")"
   ]
  },
  {
   "cell_type": "code",
   "execution_count": 8,
   "id": "c05bf6e7-ef90-4f40-98a4-cff8ea1da5d2",
   "metadata": {
    "execution": {
     "iopub.execute_input": "2021-10-05T15:39:14.538770Z",
     "iopub.status.busy": "2021-10-05T15:39:14.538295Z",
     "iopub.status.idle": "2021-10-05T15:39:14.557866Z",
     "shell.execute_reply": "2021-10-05T15:39:14.557476Z"
    }
   },
   "outputs": [],
   "source": [
    "expression = la.links.vector.Matmul(proportions, baseline_expression_value, output = la.Definition([cells, genes]), label = \"expression\")"
   ]
  },
  {
   "cell_type": "code",
   "execution_count": 9,
   "id": "bf95fbfa-b549-4f83-b6f7-6542dbcefec7",
   "metadata": {
    "execution": {
     "iopub.execute_input": "2021-10-05T15:39:14.560586Z",
     "iopub.status.busy": "2021-10-05T15:39:14.560124Z",
     "iopub.status.idle": "2021-10-05T15:39:14.704024Z",
     "shell.execute_reply": "2021-10-05T15:39:14.703628Z"
    }
   },
   "outputs": [
    {
     "data": {
      "text/html": [
       "<link rel=\"stylesheet\" href=\"https://cdnjs.cloudflare.com/ajax/libs/tippy.js/6.3.1/tippy.css\">\n",
       "\n",
       "<div id=\"graph557\" style=\"text-align: center;\"></div>\n",
       "\n",
       "<style>\n",
       ".edge{\n",
       "    animation: edge 1s infinite;\n",
       "}\n",
       "\n",
       ".edge text{\n",
       "    font-family: \"Helvetica Neue\", Helvetica, Arial, sans-serif;\n",
       "    background: #fff;\n",
       "    z-index: 10;\n",
       "}\n",
       "</style>\n",
       "\n",
       "<script>\n",
       "    function loadgraph557() {\n",
       "\n",
       "    require.config({\n",
       "        paths: {\n",
       "            jquery: 'https://code.jquery.com/jquery-3.6.0.min',\n",
       "            d3: 'https://d3js.org/d3.v5.min',\n",
       "            'd3-interpolate': 'https://d3js.org/d3-interpolate.v2',\n",
       "            'd3-selection': 'https://d3js.org/d3-selection.v2',\n",
       "            'd3-dispatch': 'https://d3js.org/d3-dispatch.v2',\n",
       "            'd3-ease': 'https://d3js.org/d3-ease.v2',\n",
       "            'd3-transition': 'https://d3js.org/d3-transition.v2',\n",
       "            'd3-timer': 'https://d3js.org/d3-timer.v2',\n",
       "            'd3-drag': 'https://d3js.org/d3-drag.v2',\n",
       "            'd3-zoom': 'https://d3js.org/d3-zoom.v2',\n",
       "            'd3-color': 'https://d3js.org/d3-color.v2',\n",
       "            'd3-path': 'https://d3js.org/d3-path.v2',\n",
       "            'd3-format': 'https://d3js.org/d3-format.v2',\n",
       "            '@hpcc-js/wasm': \"https://cdn.jsdelivr.net/npm/@hpcc-js/wasm/dist/index\",\n",
       "            graphviz: \"https://unpkg.com/d3-graphviz@4.0.0/build/d3-graphviz\",\n",
       "            \"@popperjs/core\":\"https://cdnjs.cloudflare.com/ajax/libs/popper.js/2.9.3/umd/popper.min\",\n",
       "            tippy:\"https://cdnjs.cloudflare.com/ajax/libs/tippy.js/6.3.1/tippy.umd\",\n",
       "            // webfontloader: \"https://cdn.jsdelivr.net/npm/webfontloader@1.6.28/webfontloader.min\",\n",
       "            // createjs: \"https://code.createjs.com/1.0.0/createjs\",\n",
       "            // canvaslatex: \"https://gist.githack.com/zouter/2c56290a0ccef0133b8b70931cd347da/raw/038dc05e488d07e844e559feb01572dcd21e65be/canvas-latex\",\n",
       "            laplot: 'main',\n",
       "        }\n",
       "    });\n",
       "\n",
       "    let source = `digraph {\n",
       "\tgraph [dpi=72 start=0]\n",
       "\tedge [splines=ortho]\n",
       "\t\n",
       "\tsubgraph cluster_139818083153616 {\n",
       "\t\tcolor=\"#111111\" fillcolor=\"#A2E1DB:#F1CDB0\" label=\"\" margin=5 penwidth=0 style=striped\n",
       "\t\t139818083153616 [label=\"\" color=\"#111111\" fillcolor=\"#FFFFFF\" fontcolor=\"#111111\" fontname=\"sans-serif\" image=\"data:image/svg+xml;base64,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\" shape=rect style=filled]\n",
       "\t}\n",
       "\tsubgraph cluster_139818083154816 {\n",
       "\t\tcolor=\"#FFFFFF\" fillcolor=\"#FF9AA2:#F1CDB0\" label=\"\" margin=5 penwidth=0 style=striped\n",
       "\t\t139818083154816 [label=\"\" color=\"#FFFFFF\" fillcolor=\"#FFFFFF\" fontcolor=\"#000000\" fontname=\"sans-serif\" image=\"data:image/svg+xml;base64,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\" shape=rect style=filled]\n",
       "\t}\n",
       "\tsubgraph cluster_139818084397984 {\n",
       "\t\tcolor=\"#FFFFFF\" fillcolor=\"#A2E1DB:#FF9AA2\" label=\"\" margin=5 penwidth=0 style=striped\n",
       "\t\t139818084397984 [label=\"\" color=\"#FFFFFF\" fillcolor=\"#FFFFFF\" fontcolor=\"#000000\" fontname=\"sans-serif\" image=\"data:image/svg+xml;base64,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\" shape=rect style=filled]\n",
       "\t}\n",
       "\tsubgraph cluster_root {\n",
       "\t}\n",
       "\t139818083154816 -> 139818083153616 [label=a labeldistance=0.5 splines=polyline]\n",
       "\t139818084397984 -> 139818083153616 [label=x labeldistance=0.5 splines=polyline]\n",
       "}`;\n",
       "\n",
       "    let info = {\"edges\": {\"139818083154816-\\u003e139818083153616\": {\"description\": \"hi\"}, \"139818084397984-\\u003e139818083153616\": {\"description\": \"hi\"}}, \"nodes\": {\"139818083153616\": {\"data\": \"data:image/svg+xml;base64,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\", \"description\": [\"\\u003cspan style=\\u0027font-weight:bold;\\u0027\\u003eexpression\\u003c/span\\u003e\", \"\", \"[\\u003cspan style=\\u0027color:#A2E1DB;font-weight:bold;\\u0027\\u003ecell\\u003c/span\\u003e, \\u003cspan style=\\u0027color:#F1CDB0;font-weight:bold;\\u0027\\u003egene\\u003c/span\\u003e]\"], \"formula\": \"\\\\mathregular{ expression } \\\\;=\\\\;a \\\\cdot \\\\mathregular{ proportions }\", \"height\": 23.19, \"width\": 222.84}, \"139818083154816\": {\"data\": \"data:image/svg+xml;base64,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\", \"description\": [\"\\u003cspan style=\\u0027font-weight:bold;\\u0027\\u003ea\\u003c/span\\u003e\", \"\", \"[\\u003cspan style=\\u0027color:#FF9AA2;font-weight:bold;\\u0027\\u003ecelltype\\u003c/span\\u003e, \\u003cspan style=\\u0027color:#F1CDB0;font-weight:bold;\\u0027\\u003egene\\u003c/span\\u003e]\"], \"formula\": \"a\", \"height\": 23.157186, \"width\": 17.94}, \"139818084397984\": {\"data\": \"data:image/svg+xml;base64,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\", \"description\": [\"\\u003cspan style=\\u0027font-weight:bold;\\u0027\\u003eproportions\\u003c/span\\u003e\", \"\", \"[\\u003cspan style=\\u0027color:#A2E1DB;font-weight:bold;\\u0027\\u003ecell\\u003c/span\\u003e, \\u003cspan style=\\u0027color:#FF9AA2;font-weight:bold;\\u0027\\u003ecelltype\\u003c/span\\u003e]\"], \"formula\": \"\\\\mathregular{ proportions }\", \"height\": 23.19, \"width\": 95.03999999999999}}};\n",
       "\n",
       "\n",
       "    define(\"laplotgraph557\", ['d3-selection', '@hpcc-js/wasm', 'graphviz', \"@popperjs/core\", 'tippy'], function (d3, wasm, graphviz, Popper, tippy) {\n",
       "            wasm.wasmFolder(\"https://cdn.jsdelivr.net/npm/@hpcc-js/wasm/dist/\");\n",
       "        var update = function (graphviz, node_info, edge_info, diviz) {\n",
       "            data_info = diviz.attr(\"data-info\")\n",
       "\n",
       "            // edges\n",
       "            var node_edges = {}\n",
       "            selection = diviz.selectAll(\".edge\")\n",
       "            selection.each(function (p, j) {\n",
       "                var edge = d3.select(this)\n",
       "                var data = edge.datum()\n",
       "                var text = edge.select(\"text\")\n",
       "                var path = edge.select(\"path\")\n",
       "\n",
       "                var text2 = text.clone().text(text.text())\n",
       "                text.style(\"stroke\", \"#FFFFFF77\").style(\"stroke-width\", \"0.6em\")\n",
       "\n",
       "                // add tooltip\n",
       "                if (edge_info[data.key] !== undefined) {\n",
       "                    info = edge_info[data.key]\n",
       "\n",
       "                    tippy(text.node(), { content: info.description });\n",
       "                }\n",
       "\n",
       "                text.style(\"visibility\", \"hidden\")\n",
       "                text2.style(\"visibility\", \"hidden\")\n",
       "\n",
       "                // Add to node_edges for showing edge labels on hover over node\n",
       "                node_id = data.key.split(\"->\")[1]\n",
       "                if (node_edges[node_id] === undefined) {\n",
       "                    node_edges[node_id] = []\n",
       "                }\n",
       "                node_edges[node_id].push(text)\n",
       "                node_edges[node_id].push(text2)\n",
       "            });\n",
       "\n",
       "            // nodes\n",
       "            selection = diviz.selectAll(\".node\")\n",
       "            selection.each(function (p, j) {\n",
       "                var node = d3.select(this)\n",
       "                var data = node.datum()\n",
       "                var node_id = data.key\n",
       "\n",
       "                // add tooltip\n",
       "                if (node_info[node_id] !== undefined) {\n",
       "                    info = node_info[node_id]\n",
       "\n",
       "                    description = info.description.join(\"<br>\")\n",
       "\n",
       "                    if (info.description !== undefined) {\n",
       "                        tippy(this, { content: description, placement: \"bottom\", allowHTML: true,});\n",
       "                    }\n",
       "                }\n",
       "\n",
       "                // add edges mouseover\n",
       "\n",
       "                node.on(\"mouseover\", () => {\n",
       "                    if (node_edges[node_id] !== undefined) {\n",
       "                        node_edges[node_id].forEach(function(element) {\n",
       "                            element.style(\"visibility\", \"visible\")\n",
       "                        })\n",
       "                    }\n",
       "                })\n",
       "                node.on(\"mouseout\", () => {\n",
       "                    if (node_edges[node_id] !== undefined) {\n",
       "                        node_edges[node_id].forEach(function(element) {\n",
       "                            element.style(\"visibility\", \"hidden\")\n",
       "                        })\n",
       "                    }\n",
       "                })\n",
       "\n",
       "                // reset title\n",
       "                node.attr(\"title\", null)\n",
       "            });\n",
       "        }\n",
       "\n",
       "        var main = function (selector, info, source) {\n",
       "            let node_info = info[\"nodes\"]\n",
       "            let edge_info = info[\"edges\"]\n",
       "\n",
       "            window.d3_initialized = true\n",
       "            let diviz = d3.select(selector)\n",
       "\n",
       "            // create graphviz\n",
       "            let graphviz = diviz.graphviz({ zoom: false }).fit(false)\n",
       "\n",
       "            // add images\n",
       "            console.log(info)\n",
       "            Object.entries(node_info).forEach(([key, value], index) => {\n",
       "                graphviz.addImage(value.data, value.width, value.height)\n",
       "            });\n",
       "\n",
       "            // render image\n",
       "            graphviz.renderDot(source).on(\"end\", function () {\n",
       "            update(graphviz, node_info, edge_info, diviz)\n",
       "\n",
       "            scale = 3/3\n",
       "            svg = diviz.select(\"svg\")\n",
       "            svg.style(\"width\", parseInt(svg.attr(\"width\")) * scale)\n",
       "            svg.style(\"height\", parseInt(svg.attr(\"height\")) * scale)\n",
       "            });\n",
       "\n",
       "            delete graphviz\n",
       "\n",
       "        }\n",
       "\n",
       "        return {\n",
       "            main: main\n",
       "        };\n",
       "        });\n",
       "\n",
       "        require(['laplotgraph557'], function (laplot) {\n",
       "            laplot.main(\n",
       "            \"#graph557\",\n",
       "            info,\n",
       "            source\n",
       "            )\n",
       "        })\n",
       "    }\n",
       "\n",
       "    // Add script tag for requirejs\n",
       "    // If script tag not present => first add it\n",
       "    // If script tag already present => add to event listener to load the graph\n",
       "    // If already loaded => just load the graph\n",
       "\n",
       "    var lib = 'https://cdnjs.cloudflare.com/ajax/libs/require.js/2.3.6/require.js';\n",
       "\n",
       "    if (!isLoadedScript(lib)) {\n",
       "        loadScript(lib);\n",
       "    }\n",
       "\n",
       "    // Detect if library loaded\n",
       "    function isLoadedScript(lib) {\n",
       "        return document.querySelectorAll('[src=\"' + lib + '\"]').length > 0\n",
       "    }\n",
       "\n",
       "    // Load library\n",
       "    function loadScript(lib) {\n",
       "        var script = document.createElement('script');\n",
       "        script.setAttribute('src', lib);\n",
       "        document.getElementById('graph557').appendChild(script);\n",
       "        return script;\n",
       "    }\n",
       "\n",
       "    // Add listener\n",
       "    function listenScript(lib, callback){\n",
       "        script = document.querySelectorAll('[src=\"' + lib + '\"]')[0]\n",
       "        script.addEventListener('load', function() {\n",
       "            callback();\n",
       "        });\n",
       "    }\n",
       "\n",
       "    // Determine whether to listen or directly load\n",
       "    if( typeof require === 'undefined' || require === null ){\n",
       "        console.log(\"listening\")\n",
       "        listenScript(lib, loadgraph557)\n",
       "    } else {\n",
       "        console.log(require)\n",
       "        console.log(\"loading\")\n",
       "        loadgraph557();\n",
       "    }\n",
       "\n",
       "\n",
       "</script>"
      ],
      "text/plain": [
       "<IPython.core.display.HTML object>"
      ]
     },
     "metadata": {},
     "output_type": "display_data"
    },
    {
     "data": {
      "text/plain": [
       "<latenta.introspect.viz.component_graph.ComponentGraph at 0x7f29ef39dfd0>"
      ]
     },
     "execution_count": 9,
     "metadata": {},
     "output_type": "execute_result"
    }
   ],
   "source": [
    "expression.plot()"
   ]
  },
  {
   "cell_type": "code",
   "execution_count": 10,
   "id": "68d6e3e5-34ca-48c4-84b4-dce27cf77526",
   "metadata": {
    "execution": {
     "iopub.execute_input": "2021-10-05T15:39:14.706407Z",
     "iopub.status.busy": "2021-10-05T15:39:14.705944Z",
     "iopub.status.idle": "2021-10-05T15:39:14.721437Z",
     "shell.execute_reply": "2021-10-05T15:39:14.721056Z"
    }
   },
   "outputs": [],
   "source": [
    "noise = la.Fixed(1.)"
   ]
  },
  {
   "cell_type": "code",
   "execution_count": 11,
   "id": "5ac417d9-06d4-4a9f-996c-1c9561bbfc83",
   "metadata": {
    "execution": {
     "iopub.execute_input": "2021-10-05T15:39:14.723639Z",
     "iopub.status.busy": "2021-10-05T15:39:14.723271Z",
     "iopub.status.idle": "2021-10-05T15:39:14.737541Z",
     "shell.execute_reply": "2021-10-05T15:39:14.737143Z"
    }
   },
   "outputs": [],
   "source": [
    "dist = la.distributions.Normal(expression, noise, label = \"dist\")"
   ]
  },
  {
   "cell_type": "code",
   "execution_count": 12,
   "id": "17d42a39-e700-4d90-b0bb-7c5a86c360b8",
   "metadata": {
    "execution": {
     "iopub.execute_input": "2021-10-05T15:39:14.740007Z",
     "iopub.status.busy": "2021-10-05T15:39:14.739543Z",
     "iopub.status.idle": "2021-10-05T15:39:14.809264Z",
     "shell.execute_reply": "2021-10-05T15:39:14.809648Z"
    }
   },
   "outputs": [
    {
     "data": {
      "text/html": [
       "<link rel=\"stylesheet\" href=\"https://cdnjs.cloudflare.com/ajax/libs/tippy.js/6.3.1/tippy.css\">\n",
       "\n",
       "<div id=\"graph913\" style=\"text-align: center;\"></div>\n",
       "\n",
       "<style>\n",
       ".edge{\n",
       "    animation: edge 1s infinite;\n",
       "}\n",
       "\n",
       ".edge text{\n",
       "    font-family: \"Helvetica Neue\", Helvetica, Arial, sans-serif;\n",
       "    background: #fff;\n",
       "    z-index: 10;\n",
       "}\n",
       "</style>\n",
       "\n",
       "<script>\n",
       "    function loadgraph913() {\n",
       "\n",
       "    require.config({\n",
       "        paths: {\n",
       "            jquery: 'https://code.jquery.com/jquery-3.6.0.min',\n",
       "            d3: 'https://d3js.org/d3.v5.min',\n",
       "            'd3-interpolate': 'https://d3js.org/d3-interpolate.v2',\n",
       "            'd3-selection': 'https://d3js.org/d3-selection.v2',\n",
       "            'd3-dispatch': 'https://d3js.org/d3-dispatch.v2',\n",
       "            'd3-ease': 'https://d3js.org/d3-ease.v2',\n",
       "            'd3-transition': 'https://d3js.org/d3-transition.v2',\n",
       "            'd3-timer': 'https://d3js.org/d3-timer.v2',\n",
       "            'd3-drag': 'https://d3js.org/d3-drag.v2',\n",
       "            'd3-zoom': 'https://d3js.org/d3-zoom.v2',\n",
       "            'd3-color': 'https://d3js.org/d3-color.v2',\n",
       "            'd3-path': 'https://d3js.org/d3-path.v2',\n",
       "            'd3-format': 'https://d3js.org/d3-format.v2',\n",
       "            '@hpcc-js/wasm': \"https://cdn.jsdelivr.net/npm/@hpcc-js/wasm/dist/index\",\n",
       "            graphviz: \"https://unpkg.com/d3-graphviz@4.0.0/build/d3-graphviz\",\n",
       "            \"@popperjs/core\":\"https://cdnjs.cloudflare.com/ajax/libs/popper.js/2.9.3/umd/popper.min\",\n",
       "            tippy:\"https://cdnjs.cloudflare.com/ajax/libs/tippy.js/6.3.1/tippy.umd\",\n",
       "            // webfontloader: \"https://cdn.jsdelivr.net/npm/webfontloader@1.6.28/webfontloader.min\",\n",
       "            // createjs: \"https://code.createjs.com/1.0.0/createjs\",\n",
       "            // canvaslatex: \"https://gist.githack.com/zouter/2c56290a0ccef0133b8b70931cd347da/raw/038dc05e488d07e844e559feb01572dcd21e65be/canvas-latex\",\n",
       "            laplot: 'main',\n",
       "        }\n",
       "    });\n",
       "\n",
       "    let source = `digraph {\n",
       "\tgraph [dpi=72 start=0]\n",
       "\tedge [splines=ortho]\n",
       "\t\n",
       "\tsubgraph cluster_139818082661472 {\n",
       "\t\tcolor=\"#111111\" fillcolor=\"#A2E1DB:#F1CDB0\" label=\"\" margin=5 penwidth=0 style=\"dashed,striped\"\n",
       "\t\t139818082661472 [label=\"\" color=\"#111111\" fillcolor=\"#FFFFFF\" fontcolor=\"#111111\" fontname=\"sans-serif\" image=\"data:image/svg+xml;base64,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\" shape=rect style=\"filled,dashed\"]\n",
       "\t}\n",
       "\tsubgraph cluster_139818082405632 {\n",
       "\t\tcolor=\"#FFFFFF\" fillcolor=white label=\"\" margin=5 penwidth=0 style=striped\n",
       "\t\t139818082405632 [label=\"\" color=\"#FFFFFF\" fillcolor=\"#FFFFFF\" fontcolor=\"#000000\" fontname=\"sans-serif\" image=\"data:image/svg+xml;base64,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\" shape=rect style=filled]\n",
       "\t}\n",
       "\tsubgraph cluster_139818083153616 {\n",
       "\t\tcolor=\"#111111\" fillcolor=\"#A2E1DB:#F1CDB0\" label=\"\" margin=5 penwidth=0 style=striped\n",
       "\t\t139818083153616 [label=\"\" color=\"#111111\" fillcolor=\"#FFFFFF\" fontcolor=\"#111111\" fontname=\"sans-serif\" image=\"data:image/svg+xml;base64,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\" shape=rect style=filled]\n",
       "\t}\n",
       "\tsubgraph cluster_139818083154816 {\n",
       "\t\tcolor=\"#FFFFFF\" fillcolor=\"#FF9AA2:#F1CDB0\" label=\"\" margin=5 penwidth=0 style=striped\n",
       "\t\t139818083154816 [label=\"\" color=\"#FFFFFF\" fillcolor=\"#FFFFFF\" fontcolor=\"#000000\" fontname=\"sans-serif\" image=\"data:image/svg+xml;base64,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\" shape=rect style=filled]\n",
       "\t}\n",
       "\tsubgraph cluster_139818084397984 {\n",
       "\t\tcolor=\"#FFFFFF\" fillcolor=\"#A2E1DB:#FF9AA2\" label=\"\" margin=5 penwidth=0 style=striped\n",
       "\t\t139818084397984 [label=\"\" color=\"#FFFFFF\" fillcolor=\"#FFFFFF\" fontcolor=\"#000000\" fontname=\"sans-serif\" image=\"data:image/svg+xml;base64,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\" shape=rect style=filled]\n",
       "\t}\n",
       "\tsubgraph cluster_root {\n",
       "\t}\n",
       "\t139818082405632 -> 139818082661472 [label=scale labeldistance=0.5 splines=polyline]\n",
       "\t139818083153616 -> 139818082661472 [label=loc labeldistance=0.5 splines=polyline]\n",
       "\t139818083154816 -> 139818083153616 [label=a labeldistance=0.5 splines=polyline]\n",
       "\t139818084397984 -> 139818083153616 [label=x labeldistance=0.5 splines=polyline]\n",
       "}`;\n",
       "\n",
       "    let info = {\"edges\": {\"139818082405632-\\u003e139818082661472\": {\"description\": \"hi\"}, \"139818083153616-\\u003e139818082661472\": {\"description\": \"hi\"}, \"139818083154816-\\u003e139818083153616\": {\"description\": \"hi\"}, \"139818084397984-\\u003e139818083153616\": {\"description\": \"hi\"}}, \"nodes\": {\"139818082405632\": {\"data\": \"data:image/svg+xml;base64,PD94bWwgdmVyc2lvbj0iMS4wIiBlbmNvZGluZz0idXRmLTgiIHN0YW5kYWxvbmU9Im5vIj8+CjwhRE9DVFlQRSBzdmcgUFVCTElDICItLy9XM0MvL0RURCBTVkcgMS4xLy9FTiIKICAiaHR0cDovL3d3dy53My5vcmcvR3JhcGhpY3MvU1ZHLzEuMS9EVEQvc3ZnMTEuZHRkIj4KPHN2ZyBoZWlnaHQ9IjMuODU5NTMxcHQiIHZlcnNpb249IjEuMSIgdmlld0JveD0iMCAwIDMuMDQgMy44NTk1MzEiIHdpZHRoPSIzLjA0cHQiIHhtbG5zPSJodHRwOi8vd3d3LnczLm9yZy8yMDAwL3N2ZyIgeG1sbnM6eGxpbms9Imh0dHA6Ly93d3cudzMub3JnLzE5OTkveGxpbmsiPgogPG1ldGFkYXRhPgogIDxyZGY6UkRGIHhtbG5zOmNjPSJodHRwOi8vY3JlYXRpdmVjb21tb25zLm9yZy9ucyMiIHhtbG5zOmRjPSJodHRwOi8vcHVybC5vcmcvZGMvZWxlbWVudHMvMS4xLyIgeG1sbnM6cmRmPSJodHRwOi8vd3d3LnczLm9yZy8xOTk5LzAyLzIyLXJkZi1zeW50YXgtbnMjIj4KICAgPGNjOldvcms+CiAgICA8ZGM6dHlwZSByZGY6cmVzb3VyY2U9Imh0dHA6Ly9wdXJsLm9yZy9kYy9kY21pdHlwZS9TdGlsbEltYWdlIi8+CiAgICA8ZGM6ZGF0ZT4yMDIxLTEwLTA1VDE3OjM5OjE0Ljc2NzI4MjwvZGM6ZGF0ZT4KICAgIDxkYzpmb3JtYXQ+aW1hZ2Uvc3ZnK3htbDwvZGM6Zm9ybWF0PgogICAgPGRjOmNyZWF0b3I+CiAgICAgPGNjOkFnZW50PgogICAgICA8ZGM6dGl0bGU+TWF0cGxvdGxpYiB2My40LjMsIGh0dHBzOi8vbWF0cGxvdGxpYi5vcmcvPC9kYzp0aXRsZT4KICAgICA8L2NjOkFnZW50PgogICAgPC9kYzpjcmVhdG9yPgogICA8L2NjOldvcms+CiAgPC9yZGY6UkRGPgogPC9tZXRhZGF0YT4KIDxkZWZzPgogIDxzdHlsZSB0eXBlPSJ0ZXh0L2NzcyI+KntzdHJva2UtbGluZWNhcDpidXR0O3N0cm9rZS1saW5lam9pbjpyb3VuZDt9PC9zdHlsZT4KIDwvZGVmcz4KIDxnIGlkPSJmaWd1cmVfMSI+CiAgPGcgaWQ9InBhdGNoXzEiPgogICA8cGF0aCBkPSJNIDAgMy44NTk1MzEgCkwgMy4wNCAzLjg1OTUzMSAKTCAzLjA0IDAgCkwgMCAwIAp6CiIgc3R5bGU9ImZpbGw6bm9uZTsiLz4KICA8L2c+CiAgPGcgaWQ9InRleHRfMSI+CiAgIDwhLS0gJFxzaWdtYSQgLS0+CiAgIDxnIHRyYW5zZm9ybT0idHJhbnNsYXRlKDAuNzIgMi42MTk2MDkpc2NhbGUoMC4wMjUgLTAuMDI1KSI+CiAgICA8ZGVmcz4KICAgICA8cGF0aCBkPSJNIDIyMTkgMzA0NCAKUSAxNzQ0IDMwNDQgMTQyMiAyNzAwIApRIDEwODEgMjM0MSA5NjkgMTc0NyAKUSA4NDQgMTExOSAxMDQ0IDc1NiAKUSAxMjQxIDM5NyAxNzA2IDM5NyAKUSAyMTY2IDM5NyAyNTAzIDc1OSAKUSAyODQ0IDExMjIgMjk2NiAxNzQ3IApRIDMwNzUgMjMxOSAyODgxIDI3MDAgClEgMjcwMCAzMDQ0IDIyMTkgMzA0NCAKegpNIDIzMDkgMzUwMyAKTCA0MjE5IDM1MDAgCkwgNDEwNiAyOTI1IApMIDM0NjMgMjkyNSAKUSAzNzA2IDI0MzggMzU3NSAxNzQ3IApRIDM0MDYgODg4IDI4ODQgNDAwIApRIDIzNTkgLTkxIDE2MDkgLTkxIApRIDg1NiAtOTEgNTI1IDQwMCAKUSAxOTQgODg4IDM2MyAxNzQ3IApRIDUyOCAyNjA5IDEwNTAgMzA5NyAKUSAxNDg0IDM1MDMgMjMwOSAzNTAzIAp6CiIgaWQ9IkRlamFWdVNhbnMtT2JsaXF1ZS0zYzMiIHRyYW5zZm9ybT0ic2NhbGUoMC4wMTU2MjUpIi8+CiAgICA8L2RlZnM+CiAgICA8dXNlIHRyYW5zZm9ybT0idHJhbnNsYXRlKDAgMC4yNjU2MjUpIiB4bGluazpocmVmPSIjRGVqYVZ1U2Fucy1PYmxpcXVlLTNjMyIvPgogICA8L2c+CiAgPC9nPgogPC9nPgo8L3N2Zz4K\", \"description\": [\"\\u003cspan style=\\u0027font-weight:bold;\\u0027\\u003escale\\u003c/span\\u003e\", \"\", \"[]\"], \"formula\": \"\\\\sigma\", \"height\": 23.157186, \"width\": 18.240000000000002}, \"139818082661472\": {\"data\": \"data:image/svg+xml;base64,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\", \"description\": [\"\\u003cspan style=\\u0027font-weight:bold;\\u0027\\u003edist\\u003c/span\\u003e\", \"\", \"[\\u003cspan style=\\u0027color:#A2E1DB;font-weight:bold;\\u0027\\u003ecell\\u003c/span\\u003e, \\u003cspan style=\\u0027color:#F1CDB0;font-weight:bold;\\u0027\\u003egene\\u003c/span\\u003e]\"], \"formula\": \"\\\\mathregular{ dist }\\\\sim\\\\mathregular{Normal}\", \"height\": 23.157186, \"width\": 108.99}, \"139818083153616\": {\"data\": \"data:image/svg+xml;base64,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\", \"description\": [\"\\u003cspan style=\\u0027font-weight:bold;\\u0027\\u003eexpression\\u003c/span\\u003e\", \"\", \"[\\u003cspan style=\\u0027color:#A2E1DB;font-weight:bold;\\u0027\\u003ecell\\u003c/span\\u003e, \\u003cspan style=\\u0027color:#F1CDB0;font-weight:bold;\\u0027\\u003egene\\u003c/span\\u003e]\"], \"formula\": \"\\\\mathregular{ expression } \\\\;=\\\\;a \\\\cdot \\\\mathregular{ proportions }\", \"height\": 23.19, \"width\": 222.84}, \"139818083154816\": {\"data\": \"data:image/svg+xml;base64,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\", \"description\": [\"\\u003cspan style=\\u0027font-weight:bold;\\u0027\\u003ea\\u003c/span\\u003e\", \"\", \"[\\u003cspan style=\\u0027color:#FF9AA2;font-weight:bold;\\u0027\\u003ecelltype\\u003c/span\\u003e, \\u003cspan style=\\u0027color:#F1CDB0;font-weight:bold;\\u0027\\u003egene\\u003c/span\\u003e]\"], \"formula\": \"a\", \"height\": 23.157186, \"width\": 17.94}, \"139818084397984\": {\"data\": \"data:image/svg+xml;base64,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\", \"description\": [\"\\u003cspan style=\\u0027font-weight:bold;\\u0027\\u003eproportions\\u003c/span\\u003e\", \"\", \"[\\u003cspan style=\\u0027color:#A2E1DB;font-weight:bold;\\u0027\\u003ecell\\u003c/span\\u003e, \\u003cspan style=\\u0027color:#FF9AA2;font-weight:bold;\\u0027\\u003ecelltype\\u003c/span\\u003e]\"], \"formula\": \"\\\\mathregular{ proportions }\", \"height\": 23.19, \"width\": 95.03999999999999}}};\n",
       "\n",
       "\n",
       "    define(\"laplotgraph913\", ['d3-selection', '@hpcc-js/wasm', 'graphviz', \"@popperjs/core\", 'tippy'], function (d3, wasm, graphviz, Popper, tippy) {\n",
       "            wasm.wasmFolder(\"https://cdn.jsdelivr.net/npm/@hpcc-js/wasm/dist/\");\n",
       "        var update = function (graphviz, node_info, edge_info, diviz) {\n",
       "            data_info = diviz.attr(\"data-info\")\n",
       "\n",
       "            // edges\n",
       "            var node_edges = {}\n",
       "            selection = diviz.selectAll(\".edge\")\n",
       "            selection.each(function (p, j) {\n",
       "                var edge = d3.select(this)\n",
       "                var data = edge.datum()\n",
       "                var text = edge.select(\"text\")\n",
       "                var path = edge.select(\"path\")\n",
       "\n",
       "                var text2 = text.clone().text(text.text())\n",
       "                text.style(\"stroke\", \"#FFFFFF77\").style(\"stroke-width\", \"0.6em\")\n",
       "\n",
       "                // add tooltip\n",
       "                if (edge_info[data.key] !== undefined) {\n",
       "                    info = edge_info[data.key]\n",
       "\n",
       "                    tippy(text.node(), { content: info.description });\n",
       "                }\n",
       "\n",
       "                text.style(\"visibility\", \"hidden\")\n",
       "                text2.style(\"visibility\", \"hidden\")\n",
       "\n",
       "                // Add to node_edges for showing edge labels on hover over node\n",
       "                node_id = data.key.split(\"->\")[1]\n",
       "                if (node_edges[node_id] === undefined) {\n",
       "                    node_edges[node_id] = []\n",
       "                }\n",
       "                node_edges[node_id].push(text)\n",
       "                node_edges[node_id].push(text2)\n",
       "            });\n",
       "\n",
       "            // nodes\n",
       "            selection = diviz.selectAll(\".node\")\n",
       "            selection.each(function (p, j) {\n",
       "                var node = d3.select(this)\n",
       "                var data = node.datum()\n",
       "                var node_id = data.key\n",
       "\n",
       "                // add tooltip\n",
       "                if (node_info[node_id] !== undefined) {\n",
       "                    info = node_info[node_id]\n",
       "\n",
       "                    description = info.description.join(\"<br>\")\n",
       "\n",
       "                    if (info.description !== undefined) {\n",
       "                        tippy(this, { content: description, placement: \"bottom\", allowHTML: true,});\n",
       "                    }\n",
       "                }\n",
       "\n",
       "                // add edges mouseover\n",
       "\n",
       "                node.on(\"mouseover\", () => {\n",
       "                    if (node_edges[node_id] !== undefined) {\n",
       "                        node_edges[node_id].forEach(function(element) {\n",
       "                            element.style(\"visibility\", \"visible\")\n",
       "                        })\n",
       "                    }\n",
       "                })\n",
       "                node.on(\"mouseout\", () => {\n",
       "                    if (node_edges[node_id] !== undefined) {\n",
       "                        node_edges[node_id].forEach(function(element) {\n",
       "                            element.style(\"visibility\", \"hidden\")\n",
       "                        })\n",
       "                    }\n",
       "                })\n",
       "\n",
       "                // reset title\n",
       "                node.attr(\"title\", null)\n",
       "            });\n",
       "        }\n",
       "\n",
       "        var main = function (selector, info, source) {\n",
       "            let node_info = info[\"nodes\"]\n",
       "            let edge_info = info[\"edges\"]\n",
       "\n",
       "            window.d3_initialized = true\n",
       "            let diviz = d3.select(selector)\n",
       "\n",
       "            // create graphviz\n",
       "            let graphviz = diviz.graphviz({ zoom: false }).fit(false)\n",
       "\n",
       "            // add images\n",
       "            console.log(info)\n",
       "            Object.entries(node_info).forEach(([key, value], index) => {\n",
       "                graphviz.addImage(value.data, value.width, value.height)\n",
       "            });\n",
       "\n",
       "            // render image\n",
       "            graphviz.renderDot(source).on(\"end\", function () {\n",
       "            update(graphviz, node_info, edge_info, diviz)\n",
       "\n",
       "            scale = 3/3\n",
       "            svg = diviz.select(\"svg\")\n",
       "            svg.style(\"width\", parseInt(svg.attr(\"width\")) * scale)\n",
       "            svg.style(\"height\", parseInt(svg.attr(\"height\")) * scale)\n",
       "            });\n",
       "\n",
       "            delete graphviz\n",
       "\n",
       "        }\n",
       "\n",
       "        return {\n",
       "            main: main\n",
       "        };\n",
       "        });\n",
       "\n",
       "        require(['laplotgraph913'], function (laplot) {\n",
       "            laplot.main(\n",
       "            \"#graph913\",\n",
       "            info,\n",
       "            source\n",
       "            )\n",
       "        })\n",
       "    }\n",
       "\n",
       "    // Add script tag for requirejs\n",
       "    // If script tag not present => first add it\n",
       "    // If script tag already present => add to event listener to load the graph\n",
       "    // If already loaded => just load the graph\n",
       "\n",
       "    var lib = 'https://cdnjs.cloudflare.com/ajax/libs/require.js/2.3.6/require.js';\n",
       "\n",
       "    if (!isLoadedScript(lib)) {\n",
       "        loadScript(lib);\n",
       "    }\n",
       "\n",
       "    // Detect if library loaded\n",
       "    function isLoadedScript(lib) {\n",
       "        return document.querySelectorAll('[src=\"' + lib + '\"]').length > 0\n",
       "    }\n",
       "\n",
       "    // Load library\n",
       "    function loadScript(lib) {\n",
       "        var script = document.createElement('script');\n",
       "        script.setAttribute('src', lib);\n",
       "        document.getElementById('graph913').appendChild(script);\n",
       "        return script;\n",
       "    }\n",
       "\n",
       "    // Add listener\n",
       "    function listenScript(lib, callback){\n",
       "        script = document.querySelectorAll('[src=\"' + lib + '\"]')[0]\n",
       "        script.addEventListener('load', function() {\n",
       "            callback();\n",
       "        });\n",
       "    }\n",
       "\n",
       "    // Determine whether to listen or directly load\n",
       "    if( typeof require === 'undefined' || require === null ){\n",
       "        console.log(\"listening\")\n",
       "        listenScript(lib, loadgraph913)\n",
       "    } else {\n",
       "        console.log(require)\n",
       "        console.log(\"loading\")\n",
       "        loadgraph913();\n",
       "    }\n",
       "\n",
       "\n",
       "</script>"
      ],
      "text/plain": [
       "<IPython.core.display.HTML object>"
      ]
     },
     "metadata": {},
     "output_type": "display_data"
    },
    {
     "data": {
      "text/plain": [
       "<latenta.introspect.viz.component_graph.ComponentGraph at 0x7f29ef228670>"
      ]
     },
     "execution_count": 12,
     "metadata": {},
     "output_type": "execute_result"
    }
   ],
   "source": [
    "dist.plot()"
   ]
  },
  {
   "cell_type": "code",
   "execution_count": 13,
   "id": "ca1bf731-aebc-49c2-8811-c8bdce2ec8e8",
   "metadata": {
    "execution": {
     "iopub.execute_input": "2021-10-05T15:39:14.812273Z",
     "iopub.status.busy": "2021-10-05T15:39:14.811808Z",
     "iopub.status.idle": "2021-10-05T15:39:14.845272Z",
     "shell.execute_reply": "2021-10-05T15:39:14.844009Z"
    },
    "lines_to_next_cell": 2
   },
   "outputs": [
    {
     "data": {
      "application/vnd.jupyter.widget-view+json": {
       "model_id": "3f2153864f064c358587e582cd831f1c",
       "version_major": 2,
       "version_minor": 0
      },
      "text/plain": [
       "  0%|          | 0/1 [00:00<?, ?it/s]"
      ]
     },
     "metadata": {},
     "output_type": "display_data"
    }
   ],
   "source": [
    "posterior = la.posterior.Posterior(dist)\n",
    "posterior.sample(1)"
   ]
  },
  {
   "cell_type": "code",
   "execution_count": 14,
   "id": "77709391-4464-4ed7-b38a-ab163765bb3b",
   "metadata": {
    "execution": {
     "iopub.execute_input": "2021-10-05T15:39:14.847679Z",
     "iopub.status.busy": "2021-10-05T15:39:14.847406Z",
     "iopub.status.idle": "2021-10-05T15:39:15.068635Z",
     "shell.execute_reply": "2021-10-05T15:39:15.069026Z"
    }
   },
   "outputs": [
    {
     "data": {
      "text/plain": [
       "<AxesSubplot:xlabel='gene', ylabel='cell'>"
      ]
     },
     "execution_count": 14,
     "metadata": {},
     "output_type": "execute_result"
    },
    {
     "data": {
      "image/png": "[encoded data removed]",
      "text/plain": [
       "<Figure size 360x360 with 2 Axes>"
      ]
     },
     "metadata": {
      "needs_background": "light"
     },
     "output_type": "display_data"
    }
   ],
   "source": [
    "observation_value = posterior.samples[dist].sel(sample=0).to_pandas()\n",
    "fig, (ax0) = plt.subplots(1, 1, figsize=(5, 5))\n",
    "cell_order = proportions_value[celltype_ids[0]].sort_values().index\n",
    "sns.heatmap(observation_value.loc[cell_order], ax=ax0)"
   ]
  },
  {
   "cell_type": "code",
   "execution_count": 15,
   "id": "217ba583-4216-40ca-b1e8-ef3442728fcb",
   "metadata": {
    "execution": {
     "iopub.execute_input": "2021-10-05T15:39:15.077748Z",
     "iopub.status.busy": "2021-10-05T15:39:15.071822Z",
     "iopub.status.idle": "2021-10-05T15:39:15.153844Z",
     "shell.execute_reply": "2021-10-05T15:39:15.153441Z"
    }
   },
   "outputs": [
    {
     "name": "stderr",
     "output_type": "stream",
     "text": [
      "/home/wsaelens/projects/probabilistic-cell/.venv/lib/python3.8/site-packages/seaborn/_decorators.py:36: FutureWarning: Pass the following variables as keyword args: x, y. From version 0.12, the only valid positional argument will be `data`, and passing other arguments without an explicit keyword will result in an error or misinterpretation.\n",
      "  warnings.warn(\n"
     ]
    },
    {
     "data": {
      "text/plain": [
       "<AxesSubplot:xlabel='Cta', ylabel='G4'>"
      ]
     },
     "execution_count": 15,
     "metadata": {},
     "output_type": "execute_result"
    },
    {
     "data": {
      "image/png": "[encoded data removed]",
      "text/plain": [
       "<Figure size 432x288 with 1 Axes>"
      ]
     },
     "metadata": {
      "needs_background": "light"
     },
     "output_type": "display_data"
    }
   ],
   "source": [
    "sns.scatterplot(proportions_value.loc[cell_order, celltype_ids[0]], observation_value.loc[cell_order][\"G4\"])"
   ]
  },
  {
   "cell_type": "markdown",
   "id": "3cb2d8d4-3bc8-4b60-abc0-a0510cf41371",
   "metadata": {},
   "source": [
    "## Model 2"
   ]
  },
  {
   "cell_type": "code",
   "execution_count": 16,
   "id": "e8681a04-c61b-4d30-ac80-de272e059fac",
   "metadata": {
    "execution": {
     "iopub.execute_input": "2021-10-05T15:39:15.157861Z",
     "iopub.status.busy": "2021-10-05T15:39:15.157396Z",
     "iopub.status.idle": "2021-10-05T15:39:15.173600Z",
     "shell.execute_reply": "2021-10-05T15:39:15.173207Z"
    }
   },
   "outputs": [],
   "source": [
    "n_cells = 50\n",
    "cell_ids = [str(i) for i in range(n_cells)]\n",
    "cells = la.Dim(\"C\" + pd.Series(cell_ids, name=\"cell\"))\n",
    "\n",
    "n_genes = 100\n",
    "genes = la.Dim(\"G\" + pd.Series([str(i) for i in range(n_genes)]), name=\"gene\")\n",
    "\n",
    "celltype_ids = \"Ct\" + pd.Series([\"a\", \"b\"])\n",
    "celltypes = la.Dim(celltype_ids, name = \"celltype\")"
   ]
  },
  {
   "cell_type": "code",
   "execution_count": 17,
   "id": "9c5cfa0a-b1ca-4077-84df-873b5a285d25",
   "metadata": {
    "execution": {
     "iopub.execute_input": "2021-10-05T15:39:15.176312Z",
     "iopub.status.busy": "2021-10-05T15:39:15.175850Z",
     "iopub.status.idle": "2021-10-05T15:39:15.199569Z",
     "shell.execute_reply": "2021-10-05T15:39:15.199181Z"
    }
   },
   "outputs": [],
   "source": [
    "baseline_expression_value = pd.DataFrame(np.random.normal(scale = 3, size = (celltypes.size, genes.size)), index = celltypes.index, columns = genes.index)\n",
    "baseline_expression = la.Fixed(baseline_expression_value, label = \"baseline\")"
   ]
  },
  {
   "cell_type": "code",
   "execution_count": 18,
   "id": "5bd4c377-eca5-4bf5-be12-8df2cf7f39de",
   "metadata": {
    "execution": {
     "iopub.execute_input": "2021-10-05T15:39:15.202547Z",
     "iopub.status.busy": "2021-10-05T15:39:15.202057Z",
     "iopub.status.idle": "2021-10-05T15:39:15.218827Z",
     "shell.execute_reply": "2021-10-05T15:39:15.218520Z"
    }
   },
   "outputs": [],
   "source": [
    "baseline_modifier_value = (np.random.random(baseline_expression.shape) > 0.5) * (np.random.choice([-1, 1], baseline_expression.shape)) * (np.random.normal(3.0, 1.0, baseline_expression.shape))\n",
    "baseline_modifier = la.Fixed(baseline_modifier_value, definition = baseline_expression)"
   ]
  },
  {
   "cell_type": "code",
   "execution_count": 19,
   "id": "6a21a2a4-65bc-4290-b493-a5931a357fe7",
   "metadata": {
    "execution": {
     "iopub.execute_input": "2021-10-05T15:39:15.220784Z",
     "iopub.status.busy": "2021-10-05T15:39:15.220253Z",
     "iopub.status.idle": "2021-10-05T15:39:15.236491Z",
     "shell.execute_reply": "2021-10-05T15:39:15.236863Z"
    }
   },
   "outputs": [],
   "source": [
    "responded_baseline_expression = la.links.scalar.Linear(baseline_expression, b = baseline_modifier)"
   ]
  },
  {
   "cell_type": "code",
   "execution_count": 20,
   "id": "14c1b795-86d8-4660-b3fb-5069a875bb71",
   "metadata": {
    "execution": {
     "iopub.execute_input": "2021-10-05T15:39:15.239674Z",
     "iopub.status.busy": "2021-10-05T15:39:15.239211Z",
     "iopub.status.idle": "2021-10-05T15:39:15.253280Z",
     "shell.execute_reply": "2021-10-05T15:39:15.252891Z"
    }
   },
   "outputs": [],
   "source": [
    "proportions_value = pd.DataFrame(np.random.dirichlet((3., 5), size = (cells.size)), index = cells.index, columns = celltypes.index)"
   ]
  },
  {
   "cell_type": "code",
   "execution_count": 21,
   "id": "1083fe0a-7b16-4454-b0d8-b6fe99fec9de",
   "metadata": {
    "execution": {
     "iopub.execute_input": "2021-10-05T15:39:15.255691Z",
     "iopub.status.busy": "2021-10-05T15:39:15.255230Z",
     "iopub.status.idle": "2021-10-05T15:39:15.278147Z",
     "shell.execute_reply": "2021-10-05T15:39:15.277753Z"
    }
   },
   "outputs": [],
   "source": [
    "proportions = la.Fixed(proportions_value, label = \"proportions\")"
   ]
  },
  {
   "cell_type": "code",
   "execution_count": 22,
   "id": "1e559ca6-873d-4bb9-bc22-d2e45206d148",
   "metadata": {
    "execution": {
     "iopub.execute_input": "2021-10-05T15:39:15.280520Z",
     "iopub.status.busy": "2021-10-05T15:39:15.280080Z",
     "iopub.status.idle": "2021-10-05T15:39:15.294693Z",
     "shell.execute_reply": "2021-10-05T15:39:15.294287Z"
    }
   },
   "outputs": [],
   "source": [
    "# expression = la.links.vector.Matmul(proportions, baseline_expression, output = la.Definition([cells, genes]), label = \"expression\")\n",
    "expression = la.links.vector.Matmul(proportions, responded_baseline_expression, output = la.Definition([cells, genes]), label = \"expression\")"
   ]
  },
  {
   "cell_type": "code",
   "execution_count": 23,
   "id": "6c738026-26e4-4a8e-bda8-8e99ce56e78d",
   "metadata": {
    "execution": {
     "iopub.execute_input": "2021-10-05T15:39:15.296808Z",
     "iopub.status.busy": "2021-10-05T15:39:15.296374Z",
     "iopub.status.idle": "2021-10-05T15:39:15.369590Z",
     "shell.execute_reply": "2021-10-05T15:39:15.369967Z"
    }
   },
   "outputs": [
    {
     "data": {
      "text/html": [
       "<link rel=\"stylesheet\" href=\"https://cdnjs.cloudflare.com/ajax/libs/tippy.js/6.3.1/tippy.css\">\n",
       "\n",
       "<div id=\"graph769\" style=\"text-align: center;\"></div>\n",
       "\n",
       "<style>\n",
       ".edge{\n",
       "    animation: edge 1s infinite;\n",
       "}\n",
       "\n",
       ".edge text{\n",
       "    font-family: \"Helvetica Neue\", Helvetica, Arial, sans-serif;\n",
       "    background: #fff;\n",
       "    z-index: 10;\n",
       "}\n",
       "</style>\n",
       "\n",
       "<script>\n",
       "    function loadgraph769() {\n",
       "\n",
       "    require.config({\n",
       "        paths: {\n",
       "            jquery: 'https://code.jquery.com/jquery-3.6.0.min',\n",
       "            d3: 'https://d3js.org/d3.v5.min',\n",
       "            'd3-interpolate': 'https://d3js.org/d3-interpolate.v2',\n",
       "            'd3-selection': 'https://d3js.org/d3-selection.v2',\n",
       "            'd3-dispatch': 'https://d3js.org/d3-dispatch.v2',\n",
       "            'd3-ease': 'https://d3js.org/d3-ease.v2',\n",
       "            'd3-transition': 'https://d3js.org/d3-transition.v2',\n",
       "            'd3-timer': 'https://d3js.org/d3-timer.v2',\n",
       "            'd3-drag': 'https://d3js.org/d3-drag.v2',\n",
       "            'd3-zoom': 'https://d3js.org/d3-zoom.v2',\n",
       "            'd3-color': 'https://d3js.org/d3-color.v2',\n",
       "            'd3-path': 'https://d3js.org/d3-path.v2',\n",
       "            'd3-format': 'https://d3js.org/d3-format.v2',\n",
       "            '@hpcc-js/wasm': \"https://cdn.jsdelivr.net/npm/@hpcc-js/wasm/dist/index\",\n",
       "            graphviz: \"https://unpkg.com/d3-graphviz@4.0.0/build/d3-graphviz\",\n",
       "            \"@popperjs/core\":\"https://cdnjs.cloudflare.com/ajax/libs/popper.js/2.9.3/umd/popper.min\",\n",
       "            tippy:\"https://cdnjs.cloudflare.com/ajax/libs/tippy.js/6.3.1/tippy.umd\",\n",
       "            // webfontloader: \"https://cdn.jsdelivr.net/npm/webfontloader@1.6.28/webfontloader.min\",\n",
       "            // createjs: \"https://code.createjs.com/1.0.0/createjs\",\n",
       "            // canvaslatex: \"https://gist.githack.com/zouter/2c56290a0ccef0133b8b70931cd347da/raw/038dc05e488d07e844e559feb01572dcd21e65be/canvas-latex\",\n",
       "            laplot: 'main',\n",
       "        }\n",
       "    });\n",
       "\n",
       "    let source = `digraph {\n",
       "\tgraph [dpi=72 start=0]\n",
       "\tedge [splines=ortho]\n",
       "\t\n",
       "\tsubgraph cluster_139818081877296 {\n",
       "\t\tcolor=\"#111111\" fillcolor=\"#A2E1DB:#F1CDB0\" label=\"\" margin=5 penwidth=0 style=striped\n",
       "\t\t139818081877296 [label=\"\" color=\"#111111\" fillcolor=\"#FFFFFF\" fontcolor=\"#111111\" fontname=\"sans-serif\" image=\"data:image/svg+xml;base64,PD94bWwgdmVyc2lvbj0iMS4wIiBlbmNvZGluZz0idXRmLTgiIHN0YW5kYWxvbmU9Im5vIj8+CjwhRE9DVFlQRSBzdmcgUFVCTElDICItLy9XM0MvL0RURCBTVkcgMS4xLy9FTiIKICAiaHR0cDovL3d3dy53My5vcmcvR3JhcGhpY3MvU1ZHLzEuMS9EVEQvc3ZnMTEuZHRkIj4KPHN2ZyBoZWlnaHQ9IjMuODY1cHQiIHZlcnNpb249IjEuMSIgdmlld0JveD0iMCAwIDM3LjE0IDMuODY1IiB3aWR0aD0iMzcuMTRwdCIgeG1sbnM9Imh0dHA6Ly93d3cudzMub3JnLzIwMDAvc3ZnIiB4bWxuczp4bGluaz0iaHR0cDovL3d3dy53My5vcmcvMTk5OS94bGluayI+CiA8bWV0YWRhdGE+CiAgPHJkZjpSREYgeG1sbnM6Y2M9Imh0dHA6Ly9jcmVhdGl2ZWNvbW1vbnMub3JnL25zIyIgeG1sbnM6ZGM9Imh0dHA6Ly9wdXJsLm9yZy9kYy9lbGVtZW50cy8xLjEvIiB4bWxuczpyZGY9Imh0dHA6Ly93d3cudzMub3JnLzE5OTkvMDIvMjItcmRmLXN5bnRheC1ucyMiPgogICA8Y2M6V29yaz4KICAgIDxkYzp0eXBlIHJkZjpyZXNvdXJjZT0iaHR0cDovL3B1cmwub3JnL2RjL2RjbWl0eXBlL1N0aWxsSW1hZ2UiLz4KICAgIDxkYzpkYXRlPjIwMjEtMTAtMDVUMTc6Mzk6MTUuMzE3ODY3PC9kYzpkYXRlPgogICAgPGRjOmZvcm1hdD5pbWFnZS9zdmcreG1sPC9kYzpmb3JtYXQ+CiAgICA8ZGM6Y3JlYXRvcj4KICAgICA8Y2M6QWdlbnQ+CiAgICAgIDxkYzp0aXRsZT5NYXRwbG90bGliIHYzLjQuMywgaHR0cHM6Ly9tYXRwbG90bGliLm9yZy88L2RjOnRpdGxlPgogICAgIDwvY2M6QWdlbnQ+CiAgICA8L2RjOmNyZWF0b3I+CiAgIDwvY2M6V29yaz4KICA8L3JkZjpSREY+CiA8L21ldGFkYXRhPgogPGRlZnM+CiAgPHN0eWxlIHR5cGU9InRleHQvY3NzIj4qe3N0cm9rZS1saW5lY2FwOmJ1dHQ7c3Ryb2tlLWxpbmVqb2luOnJvdW5kO308L3N0eWxlPgogPC9kZWZzPgogPGcgaWQ9ImZpZ3VyZV8xIj4KICA8ZyBpZD0icGF0Y2hfMSI+CiAgIDxwYXRoIGQ9Ik0gMCAzLjg2NSAKTCAzNy4xNCAzLjg2NSAKTCAzNy4xNCAwIApMIDAgMCAKegoiIHN0eWxlPSJmaWxsOm5vbmU7Ii8+CiAgPC9nPgogIDxnIGlkPSJ0ZXh0XzEiPgogICA8IS0tICRcbWF0aHJlZ3VsYXJ7IGV4cHJlc3Npb24gfSBcOz1cO2EgXGNkb3QgXG1hdGhyZWd1bGFyeyBwcm9wb3J0aW9ucyB9JCAtLT4KICAgPGcgc3R5bGU9ImZpbGw6IzExMTExMTsiIHRyYW5zZm9ybT0idHJhbnNsYXRlKDAuNzIgMi42MilzY2FsZSgwLjAyNSAtMC4wMjUpIj4KICAgIDxkZWZzPgogICAgIDxwYXRoIGQ9Ik0gMzU5NyAxODk0IApMIDM1OTcgMTYxMyAKTCA5NTMgMTYxMyAKUSA5OTEgMTAxOSAxMzExIDcwOCAKUSAxNjMxIDM5NyAyMjAzIDM5NyAKUSAyNTM0IDM5NyAyODQ1IDQ3OCAKUSAzMTU2IDU1OSAzNDYzIDcyMiAKTCAzNDYzIDE3OCAKUSAzMTUzIDQ3IDI4MjggLTIyIApRIDI1MDMgLTkxIDIxNjkgLTkxIApRIDEzMzEgLTkxIDg0MiAzOTYgClEgMzUzIDg4NCAzNTMgMTcxNiAKUSAzNTMgMjU3NSA4MTcgMzA3OSAKUSAxMjgxIDM1ODQgMjA2OSAzNTg0IApRIDI3NzUgMzU4NCAzMTg2IDMxMjkgClEgMzU5NyAyNjc1IDM1OTcgMTg5NCAKegpNIDMwMjIgMjA2MyAKUSAzMDE2IDI1MzQgMjc1OCAyODE1IApRIDI1MDAgMzA5NyAyMDc1IDMwOTcgClEgMTU5NCAzMDk3IDEzMDUgMjgyNSAKUSAxMDE2IDI1NTMgOTcyIDIwNTkgCkwgMzAyMiAyMDYzIAp6CiIgaWQ9IkRlamFWdVNhbnMtNjUiIHRyYW5zZm9ybT0ic2NhbGUoMC4wMTU2MjUpIi8+CiAgICAgPHBhdGggZD0iTSAzNTEzIDM1MDAgCkwgMjI0NyAxNzk3IApMIDM1NzggMCAKTCAyOTAwIDAgCkwgMTg4MSAxMzc1IApMIDg2MyAwIApMIDE4NCAwIApMIDE1NDQgMTgzMSAKTCAzMDAgMzUwMCAKTCA5NzggMzUwMCAKTCAxOTA2IDIyNTMgCkwgMjgzNCAzNTAwIApMIDM1MTMgMzUwMCAKegoiIGlkPSJEZWphVnVTYW5zLTc4IiB0cmFuc2Zvcm09InNjYWxlKDAuMDE1NjI1KSIvPgogICAgIDxwYXRoIGQ9Ik0gMTE1OSA1MjUgCkwgMTE1OSAtMTMzMSAKTCA1ODEgLTEzMzEgCkwgNTgxIDM1MDAgCkwgMTE1OSAzNTAwIApMIDExNTkgMjk2OSAKUSAxMzQxIDMyODEgMTYxNyAzNDMyIApRIDE4OTQgMzU4NCAyMjc4IDM1ODQgClEgMjkxNiAzNTg0IDMzMTQgMzA3OCAKUSAzNzEzIDI1NzIgMzcxMyAxNzQ3IApRIDM3MTMgOTIyIDMzMTQgNDE1IApRIDI5MTYgLTkxIDIyNzggLTkxIApRIDE4OTQgLTkxIDE2MTcgNjEgClEgMTM0MSAyMTMgMTE1OSA1MjUgCnoKTSAzMTE2IDE3NDcgClEgMzExNiAyMzgxIDI4NTUgMjc0MiAKUSAyNTk0IDMxMDMgMjEzOCAzMTAzIApRIDE2ODEgMzEwMyAxNDIwIDI3NDIgClEgMTE1OSAyMzgxIDExNTkgMTc0NyAKUSAxMTU5IDExMTMgMTQyMCA3NTIgClEgMTY4MSAzOTEgMjEzOCAzOTEgClEgMjU5NCAzOTEgMjg1NSA3NTIgClEgMzExNiAxMTEzIDMxMTYgMTc0NyAKegoiIGlkPSJEZWphVnVTYW5zLTcwIiB0cmFuc2Zvcm09InNjYWxlKDAuMDE1NjI1KSIvPgogICAgIDxwYXRoIGQ9Ik0gMjYzMSAyOTYzIApRIDI1MzQgMzAxOSAyNDIwIDMwNDUgClEgMjMwNiAzMDcyIDIxNjkgMzA3MiAKUSAxNjgxIDMwNzIgMTQyMCAyNzU1IApRIDExNTkgMjQzOCAxMTU5IDE4NDQgCkwgMTE1OSAwIApMIDU4MSAwIApMIDU4MSAzNTAwIApMIDExNTkgMzUwMCAKTCAxMTU5IDI5NTYgClEgMTM0MSAzMjc1IDE2MzEgMzQyOSAKUSAxOTIyIDM1ODQgMjMzOCAzNTg0IApRIDIzOTcgMzU4NCAyNDY5IDM1NzYgClEgMjU0MSAzNTY5IDI2MjggMzU1MyAKTCAyNjMxIDI5NjMgCnoKIiBpZD0iRGVqYVZ1U2Fucy03MiIgdHJhbnNmb3JtPSJzY2FsZSgwLjAxNTYyNSkiLz4KICAgICA8cGF0aCBkPSJNIDI4MzQgMzM5NyAKTCAyODM0IDI4NTMgClEgMjU5MSAyOTc4IDIzMjggMzA0MCAKUSAyMDY2IDMxMDMgMTc4NCAzMTAzIApRIDEzNTYgMzEwMyAxMTQyIDI5NzIgClEgOTI4IDI4NDEgOTI4IDI1NzggClEgOTI4IDIzNzggMTA4MSAyMjY0IApRIDEyMzQgMjE1MCAxNjk3IDIwNDcgCkwgMTg5NCAyMDAzIApRIDI1MDYgMTg3MiAyNzY0IDE2MzMgClEgMzAyMiAxMzk0IDMwMjIgOTY2IApRIDMwMjIgNDc4IDI2MzYgMTkzIApRIDIyNTAgLTkxIDE1NzUgLTkxIApRIDEyOTQgLTkxIDk4OSAtMzYgClEgNjg0IDE5IDM0NyAxMjggCkwgMzQ3IDcyMiAKUSA2NjYgNTU2IDk3NSA0NzMgClEgMTI4NCAzOTEgMTU4OCAzOTEgClEgMTk5NCAzOTEgMjIxMiA1MzAgClEgMjQzMSA2NjkgMjQzMSA5MjIgClEgMjQzMSAxMTU2IDIyNzMgMTI4MSAKUSAyMTE2IDE0MDYgMTU4MSAxNTIyIApMIDEzODEgMTU2OSAKUSA4NDcgMTY4MSA2MDkgMTkxNCAKUSAzNzIgMjE0NyAzNzIgMjU1MyAKUSAzNzIgMzA0NyA3MjIgMzMxNSAKUSAxMDcyIDM1ODQgMTcxNiAzNTg0IApRIDIwMzQgMzU4NCAyMzE1IDM1MzcgClEgMjU5NyAzNDkxIDI4MzQgMzM5NyAKegoiIGlkPSJEZWphVnVTYW5zLTczIiB0cmFuc2Zvcm09InNjYWxlKDAuMDE1NjI1KSIvPgogICAgIDxwYXRoIGQ9Ik0gNjAzIDM1MDAgCkwgMTE3OCAzNTAwIApMIDExNzggMCAKTCA2MDMgMCAKTCA2MDMgMzUwMCAKegpNIDYwMyA0ODYzIApMIDExNzggNDg2MyAKTCAxMTc4IDQxMzQgCkwgNjAzIDQxMzQgCkwgNjAzIDQ4NjMgCnoKIiBpZD0iRGVqYVZ1U2Fucy02OSIgdHJhbnNmb3JtPSJzY2FsZSgwLjAxNTYyNSkiLz4KICAgICA8cGF0aCBkPSJNIDE5NTkgMzA5NyAKUSAxNDk3IDMwOTcgMTIyOCAyNzM2IApRIDk1OSAyMzc1IDk1OSAxNzQ3IApRIDk1OSAxMTE5IDEyMjYgNzU4IApRIDE0OTQgMzk3IDE5NTkgMzk3IApRIDI0MTkgMzk3IDI2ODcgNzU5IApRIDI5NTYgMTEyMiAyOTU2IDE3NDcgClEgMjk1NiAyMzY5IDI2ODcgMjczMyAKUSAyNDE5IDMwOTcgMTk1OSAzMDk3IAp6Ck0gMTk1OSAzNTg0IApRIDI3MDkgMzU4NCAzMTM3IDMwOTYgClEgMzU2NiAyNjA5IDM1NjYgMTc0NyAKUSAzNTY2IDg4OCAzMTM3IDM5OCAKUSAyNzA5IC05MSAxOTU5IC05MSAKUSAxMjA2IC05MSA3NzkgMzk4IApRIDM1MyA4ODggMzUzIDE3NDcgClEgMzUzIDI2MDkgNzc5IDMwOTYgClEgMTIwNiAzNTg0IDE5NTkgMzU4NCAKegoiIGlkPSJEZWphVnVTYW5zLTZmIiB0cmFuc2Zvcm09InNjYWxlKDAuMDE1NjI1KSIvPgogICAgIDxwYXRoIGQ9Ik0gMzUxMyAyMTEzIApMIDM1MTMgMCAKTCAyOTM4IDAgCkwgMjkzOCAyMDk0IApRIDI5MzggMjU5MSAyNzQ0IDI4MzcgClEgMjU1MCAzMDg0IDIxNjMgMzA4NCAKUSAxNjk3IDMwODQgMTQyOCAyNzg3IApRIDExNTkgMjQ5MSAxMTU5IDE5NzggCkwgMTE1OSAwIApMIDU4MSAwIApMIDU4MSAzNTAwIApMIDExNTkgMzUwMCAKTCAxMTU5IDI5NTYgClEgMTM2NiAzMjcyIDE2NDUgMzQyOCAKUSAxOTI1IDM1ODQgMjI5MSAzNTg0IApRIDI4OTQgMzU4NCAzMjAzIDMyMTEgClEgMzUxMyAyODM4IDM1MTMgMjExMyAKegoiIGlkPSJEZWphVnVTYW5zLTZlIiB0cmFuc2Zvcm09InNjYWxlKDAuMDE1NjI1KSIvPgogICAgIDxwYXRoIGQ9Ik0gNjc4IDI5MDYgCkwgNDY4NCAyOTA2IApMIDQ2ODQgMjM4MSAKTCA2NzggMjM4MSAKTCA2NzggMjkwNiAKegpNIDY3OCAxNjMxIApMIDQ2ODQgMTYzMSAKTCA0Njg0IDExMDAgCkwgNjc4IDExMDAgCkwgNjc4IDE2MzEgCnoKIiBpZD0iRGVqYVZ1U2Fucy0zZCIgdHJhbnNmb3JtPSJzY2FsZSgwLjAxNTYyNSkiLz4KICAgICA8cGF0aCBkPSJNIDM0MzggMTk5NyAKTCAzMDQ3IDAgCkwgMjQ3MiAwIApMIDI1NzggNTMxIApRIDIzMjUgMjE5IDIwMDEgNjQgClEgMTY3OCAtOTEgMTI4MSAtOTEgClEgODM0IC05MSA1NDggMTgyIApRIDI2MyA0NTYgMjYzIDg4NCAKUSAyNjMgMTQ5NyA3NTIgMTg1MyAKUSAxMjQxIDIyMDkgMjEwMCAyMjA5IApMIDI5MDAgMjIwOSAKTCAyOTMxIDIzNjMgClEgMjkzOCAyMzg4IDI5NDEgMjQxNyAKUSAyOTQ0IDI0NDcgMjk0NCAyNTA5IApRIDI5NDQgMjc4OCAyNzE3IDI5NDIgClEgMjQ5MSAzMDk3IDIwODEgMzA5NyAKUSAxODAwIDMwOTcgMTUwNCAzMDI1IApRIDEyMDkgMjk1MyA4OTcgMjgwOSAKTCA5OTcgMzM0MSAKUSAxMzIyIDM0NjMgMTYzMyAzNTIzIApRIDE5NDQgMzU4NCAyMjM0IDM1ODQgClEgMjg1MyAzNTg0IDMxNzYgMzMxNSAKUSAzNTAwIDMwNDcgMzUwMCAyNTM0IApRIDM1MDAgMjQzMSAzNDg0IDIyOTIgClEgMzQ2OSAyMTUzIDM0MzggMTk5NyAKegpNIDI4MTYgMTc1OSAKTCAyMjQxIDE3NTkgClEgMTUzNCAxNzU5IDExOTUgMTU3MCAKUSA4NTYgMTM4MSA4NTYgOTg0IApRIDg1NiA3MDkgMTAyOSA1NTMgClEgMTIwMyAzOTcgMTUwOSAzOTcgClEgMTk3OCAzOTcgMjMyOCA3MzMgClEgMjY3OCAxMDY5IDI3OTEgMTYzMSAKTCAyODE2IDE3NTkgCnoKIiBpZD0iRGVqYVZ1U2Fucy1PYmxpcXVlLTYxIiB0cmFuc2Zvcm09InNjYWxlKDAuMDE1NjI1KSIvPgogICAgIDxwYXRoIGQ9Ik0gNjg0IDI2MTkgCkwgMTM0NCAyNjE5IApMIDEzNDQgMTgyNSAKTCA2ODQgMTgyNSAKTCA2ODQgMjYxOSAKegoiIGlkPSJEZWphVnVTYW5zLTIyYzUiIHRyYW5zZm9ybT0ic2NhbGUoMC4wMTU2MjUpIi8+CiAgICAgPHBhdGggZD0iTSAxMTcyIDQ0OTQgCkwgMTE3MiAzNTAwIApMIDIzNTYgMzUwMCAKTCAyMzU2IDMwNTMgCkwgMTE3MiAzMDUzIApMIDExNzIgMTE1MyAKUSAxMTcyIDcyNSAxMjg5IDYwMyAKUSAxNDA2IDQ4MSAxNzY2IDQ4MSAKTCAyMzU2IDQ4MSAKTCAyMzU2IDAgCkwgMTc2NiAwIApRIDExMDAgMCA4NDcgMjQ4IApRIDU5NCA0OTcgNTk0IDExNTMgCkwgNTk0IDMwNTMgCkwgMTcyIDMwNTMgCkwgMTcyIDM1MDAgCkwgNTk0IDM1MDAgCkwgNTk0IDQ0OTQgCkwgMTE3MiA0NDk0IAp6CiIgaWQ9IkRlamFWdVNhbnMtNzQiIHRyYW5zZm9ybT0ic2NhbGUoMC4wMTU2MjUpIi8+CiAgICA8L2RlZnM+CiAgICA8dXNlIHRyYW5zZm9ybT0idHJhbnNsYXRlKDAgMC4wMTU2MjUpIiB4bGluazpocmVmPSIjRGVqYVZ1U2Fucy02NSIvPgogICAgPHVzZSB0cmFuc2Zvcm09InRyYW5zbGF0ZSg2MS41MjM0MzggMC4wMTU2MjUpIiB4bGluazpocmVmPSIjRGVqYVZ1U2Fucy03OCIvPgogICAgPHVzZSB0cmFuc2Zvcm09InRyYW5zbGF0ZSgxMjAuNzAzMTI1IDAuMDE1NjI1KSIgeGxpbms6aHJlZj0iI0RlamFWdVNhbnMtNzAiLz4KICAgIDx1c2UgdHJhbnNmb3JtPSJ0cmFuc2xhdGUoMTg0LjE3OTY4OCAwLjAxNTYyNSkiIHhsaW5rOmhyZWY9IiNEZWphVnVTYW5zLTcyIi8+CiAgICA8dXNlIHRyYW5zZm9ybT0idHJhbnNsYXRlKDIyNS4yOTI5NjkgMC4wMTU2MjUpIiB4bGluazpocmVmPSIjRGVqYVZ1U2Fucy02NSIvPgogICAgPHVzZSB0cmFuc2Zvcm09InRyYW5zbGF0ZSgyODYuODE2NDA2IDAuMDE1NjI1KSIgeGxpbms6aHJlZj0iI0RlamFWdVNhbnMtNzMiLz4KICAgIDx1c2UgdHJhbnNmb3JtPSJ0cmFuc2xhdGUoMzM4LjkxNjAxNiAwLjAxNTYyNSkiIHhsaW5rOmhyZWY9IiNEZWphVnVTYW5zLTczIi8+CiAgICA8dXNlIHRyYW5zZm9ybT0idHJhbnNsYXRlKDM5MS4wMTU2MjUgMC4wMTU2MjUpIiB4bGluazpocmVmPSIjRGVqYVZ1U2Fucy02OSIvPgogICAgPHVzZSB0cmFuc2Zvcm09InRyYW5zbGF0ZSg0MTguNzk4ODI4IDAuMDE1NjI1KSIgeGxpbms6aHJlZj0iI0RlamFWdVNhbnMtNmYiLz4KICAgIDx1c2UgdHJhbnNmb3JtPSJ0cmFuc2xhdGUoNDc5Ljk4MDQ2OSAwLjAxNTYyNSkiIHhsaW5rOmhyZWY9IiNEZWphVnVTYW5zLTZlIi8+CiAgICA8dXNlIHRyYW5zZm9ybT0idHJhbnNsYXRlKDU4OS45MDA5MzMgMC4wMTU2MjUpIiB4bGluazpocmVmPSIjRGVqYVZ1U2Fucy0zZCIvPgogICAgPHVzZSB0cmFuc2Zvcm09InRyYW5zbGF0ZSg3MjAuMjMxNTUzIDAuMDE1NjI1KSIgeGxpbms6aHJlZj0iI0RlamFWdVNhbnMtT2JsaXF1ZS02MSIvPgogICAgPHVzZSB0cmFuc2Zvcm09InRyYW5zbGF0ZSg4MDAuOTkzMjcxIDAuMDE1NjI1KSIgeGxpbms6aHJlZj0iI0RlamFWdVNhbnMtMjJjNSIvPgogICAgPHVzZSB0cmFuc2Zvcm09InRyYW5zbGF0ZSg4NTIuMjYyODAzIDAuMDE1NjI1KSIgeGxpbms6aHJlZj0iI0RlamFWdVNhbnMtNzAiLz4KICAgIDx1c2UgdHJhbnNmb3JtPSJ0cmFuc2xhdGUoOTE1LjczOTM2NSAwLjAxNTYyNSkiIHhsaW5rOmhyZWY9IiNEZWphVnVTYW5zLTcyIi8+CiAgICA8dXNlIHRyYW5zZm9ybT0idHJhbnNsYXRlKDk1Ni44NTI2NDYgMC4wMTU2MjUpIiB4bGluazpocmVmPSIjRGVqYVZ1U2Fucy02ZiIvPgogICAgPHVzZSB0cmFuc2Zvcm09InRyYW5zbGF0ZSgxMDE4LjAzNDI4NyAwLjAxNTYyNSkiIHhsaW5rOmhyZWY9IiNEZWphVnVTYW5zLTcwIi8+CiAgICA8dXNlIHRyYW5zZm9ybT0idHJhbnNsYXRlKDEwODEuNTEwODUgMC4wMTU2MjUpIiB4bGluazpocmVmPSIjRGVqYVZ1U2Fucy02ZiIvPgogICAgPHVzZSB0cmFuc2Zvcm09InRyYW5zbGF0ZSgxMTQyLjY5MjQ5IDAuMDE1NjI1KSIgeGxpbms6aHJlZj0iI0RlamFWdVNhbnMtNzIiLz4KICAgIDx1c2UgdHJhbnNmb3JtPSJ0cmFuc2xhdGUoMTE4My44MDU3NzEgMC4wMTU2MjUpIiB4bGluazpocmVmPSIjRGVqYVZ1U2Fucy03NCIvPgogICAgPHVzZSB0cmFuc2Zvcm09InRyYW5zbGF0ZSgxMjIzLjAxNDc1NiAwLjAxNTYyNSkiIHhsaW5rOmhyZWY9IiNEZWphVnVTYW5zLTY5Ii8+CiAgICA8dXNlIHRyYW5zZm9ybT0idHJhbnNsYXRlKDEyNTAuNzk3OTU5IDAuMDE1NjI1KSIgeGxpbms6aHJlZj0iI0RlamFWdVNhbnMtNmYiLz4KICAgIDx1c2UgdHJhbnNmb3JtPSJ0cmFuc2xhdGUoMTMxMS45Nzk2IDAuMDE1NjI1KSIgeGxpbms6aHJlZj0iI0RlamFWdVNhbnMtNmUiLz4KICAgIDx1c2UgdHJhbnNmb3JtPSJ0cmFuc2xhdGUoMTM3NS4zNTg1MDYgMC4wMTU2MjUpIiB4bGluazpocmVmPSIjRGVqYVZ1U2Fucy03MyIvPgogICA8L2c+CiAgPC9nPgogPC9nPgo8L3N2Zz4K\" shape=rect style=filled]\n",
       "\t}\n",
       "\tsubgraph cluster_139818046612864 {\n",
       "\t\tcolor=\"#111111\" fillcolor=\"#FF9AA2:#F1CDB0\" label=\"\" margin=5 penwidth=0 style=striped\n",
       "\t\t139818046612864 [label=\"\" color=\"#111111\" fillcolor=\"#FFFFFF\" fontcolor=\"#111111\" fontname=\"sans-serif\" image=\"data:image/svg+xml;base64,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\" shape=rect style=filled]\n",
       "\t}\n",
       "\tsubgraph cluster_139818046566208 {\n",
       "\t\tcolor=\"#FFFFFF\" fillcolor=\"#FF9AA2:#F1CDB0\" label=\"\" margin=5 penwidth=0 style=striped\n",
       "\t\t139818046566208 [label=\"\" color=\"#FFFFFF\" fillcolor=\"#FFFFFF\" fontcolor=\"#000000\" fontname=\"sans-serif\" image=\"data:image/svg+xml;base64,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\" shape=rect style=filled]\n",
       "\t}\n",
       "\tsubgraph cluster_139818047162928 {\n",
       "\t\tcolor=\"#FFFFFF\" fillcolor=\"#FF9AA2:#F1CDB0\" label=\"\" margin=5 penwidth=0 style=striped\n",
       "\t\t139818047162928 [label=\"\" color=\"#FFFFFF\" fillcolor=\"#FFFFFF\" fontcolor=\"#000000\" fontname=\"sans-serif\" image=\"data:image/svg+xml;base64,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\" shape=rect style=filled]\n",
       "\t}\n",
       "\tsubgraph cluster_139827895803424 {\n",
       "\t\tcolor=\"#FFFFFF\" fillcolor=\"#A2E1DB:#FF9AA2\" label=\"\" margin=5 penwidth=0 style=striped\n",
       "\t\t139827895803424 [label=\"\" color=\"#FFFFFF\" fillcolor=\"#FFFFFF\" fontcolor=\"#000000\" fontname=\"sans-serif\" image=\"data:image/svg+xml;base64,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\" shape=rect style=filled]\n",
       "\t}\n",
       "\tsubgraph cluster_root {\n",
       "\t}\n",
       "\t139818046612864 -> 139818081877296 [label=a labeldistance=0.5 splines=polyline]\n",
       "\t139818046566208 -> 139818046612864 [label=b labeldistance=0.5 splines=polyline]\n",
       "\t139818047162928 -> 139818046612864 [label=x labeldistance=0.5 splines=polyline]\n",
       "\t139827895803424 -> 139818081877296 [label=x labeldistance=0.5 splines=polyline]\n",
       "}`;\n",
       "\n",
       "    let info = {\"edges\": {\"139818046566208-\\u003e139818046612864\": {\"description\": \"hi\"}, \"139818046612864-\\u003e139818081877296\": {\"description\": \"hi\"}, \"139818047162928-\\u003e139818046612864\": {\"description\": \"hi\"}, \"139827895803424-\\u003e139818081877296\": {\"description\": \"hi\"}}, \"nodes\": {\"139818046566208\": {\"data\": \"data:image/svg+xml;base64,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\", \"description\": [\"\\u003cspan style=\\u0027font-weight:bold;\\u0027\\u003eintercept\\u003c/span\\u003e\", \"The intercept (also known as bias). Denotes the output when \\u00abx\\u00bb = 0.\", \"[\\u003cspan style=\\u0027color:#FF9AA2;font-weight:bold;\\u0027\\u003ecelltype\\u003c/span\\u003e, \\u003cspan style=\\u0027color:#F1CDB0;font-weight:bold;\\u0027\\u003egene\\u003c/span\\u003e]\"], \"formula\": \"b\", \"height\": 23.157186, \"width\": 18.240000000000002}, \"139818046612864\": {\"data\": \"data:image/svg+xml;base64,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\", \"description\": [\"\\u003cspan style=\\u0027font-weight:bold;\\u0027\\u003ea\\u003c/span\\u003e\", \"\", \"[\\u003cspan style=\\u0027color:#FF9AA2;font-weight:bold;\\u0027\\u003ecelltype\\u003c/span\\u003e, \\u003cspan style=\\u0027color:#F1CDB0;font-weight:bold;\\u0027\\u003egene\\u003c/span\\u003e]\"], \"formula\": \"a \\\\;=\\\\;b + \\\\mathregular{ baseline }\", \"height\": 23.157186, \"width\": 135.24}, \"139818047162928\": {\"data\": \"data:image/svg+xml;base64,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\", \"description\": [\"\\u003cspan style=\\u0027font-weight:bold;\\u0027\\u003ebaseline\\u003c/span\\u003e\", \"The input.\", \"[\\u003cspan style=\\u0027color:#FF9AA2;font-weight:bold;\\u0027\\u003ecelltype\\u003c/span\\u003e, \\u003cspan style=\\u0027color:#F1CDB0;font-weight:bold;\\u0027\\u003egene\\u003c/span\\u003e]\"], \"formula\": \"\\\\mathregular{ baseline }\", \"height\": 23.157186, \"width\": 71.49}, \"139818081877296\": {\"data\": \"data:image/svg+xml;base64,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\", \"description\": [\"\\u003cspan style=\\u0027font-weight:bold;\\u0027\\u003eexpression\\u003c/span\\u003e\", \"\", \"[\\u003cspan style=\\u0027color:#A2E1DB;font-weight:bold;\\u0027\\u003ecell\\u003c/span\\u003e, \\u003cspan style=\\u0027color:#F1CDB0;font-weight:bold;\\u0027\\u003egene\\u003c/span\\u003e]\"], \"formula\": \"\\\\mathregular{ expression } \\\\;=\\\\;a \\\\cdot \\\\mathregular{ proportions }\", \"height\": 23.19, \"width\": 222.84}, \"139827895803424\": {\"data\": \"data:image/svg+xml;base64,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\", \"description\": [\"\\u003cspan style=\\u0027font-weight:bold;\\u0027\\u003eproportions\\u003c/span\\u003e\", \"\", \"[\\u003cspan style=\\u0027color:#A2E1DB;font-weight:bold;\\u0027\\u003ecell\\u003c/span\\u003e, \\u003cspan style=\\u0027color:#FF9AA2;font-weight:bold;\\u0027\\u003ecelltype\\u003c/span\\u003e]\"], \"formula\": \"\\\\mathregular{ proportions }\", \"height\": 23.19, \"width\": 95.03999999999999}}};\n",
       "\n",
       "\n",
       "    define(\"laplotgraph769\", ['d3-selection', '@hpcc-js/wasm', 'graphviz', \"@popperjs/core\", 'tippy'], function (d3, wasm, graphviz, Popper, tippy) {\n",
       "            wasm.wasmFolder(\"https://cdn.jsdelivr.net/npm/@hpcc-js/wasm/dist/\");\n",
       "        var update = function (graphviz, node_info, edge_info, diviz) {\n",
       "            data_info = diviz.attr(\"data-info\")\n",
       "\n",
       "            // edges\n",
       "            var node_edges = {}\n",
       "            selection = diviz.selectAll(\".edge\")\n",
       "            selection.each(function (p, j) {\n",
       "                var edge = d3.select(this)\n",
       "                var data = edge.datum()\n",
       "                var text = edge.select(\"text\")\n",
       "                var path = edge.select(\"path\")\n",
       "\n",
       "                var text2 = text.clone().text(text.text())\n",
       "                text.style(\"stroke\", \"#FFFFFF77\").style(\"stroke-width\", \"0.6em\")\n",
       "\n",
       "                // add tooltip\n",
       "                if (edge_info[data.key] !== undefined) {\n",
       "                    info = edge_info[data.key]\n",
       "\n",
       "                    tippy(text.node(), { content: info.description });\n",
       "                }\n",
       "\n",
       "                text.style(\"visibility\", \"hidden\")\n",
       "                text2.style(\"visibility\", \"hidden\")\n",
       "\n",
       "                // Add to node_edges for showing edge labels on hover over node\n",
       "                node_id = data.key.split(\"->\")[1]\n",
       "                if (node_edges[node_id] === undefined) {\n",
       "                    node_edges[node_id] = []\n",
       "                }\n",
       "                node_edges[node_id].push(text)\n",
       "                node_edges[node_id].push(text2)\n",
       "            });\n",
       "\n",
       "            // nodes\n",
       "            selection = diviz.selectAll(\".node\")\n",
       "            selection.each(function (p, j) {\n",
       "                var node = d3.select(this)\n",
       "                var data = node.datum()\n",
       "                var node_id = data.key\n",
       "\n",
       "                // add tooltip\n",
       "                if (node_info[node_id] !== undefined) {\n",
       "                    info = node_info[node_id]\n",
       "\n",
       "                    description = info.description.join(\"<br>\")\n",
       "\n",
       "                    if (info.description !== undefined) {\n",
       "                        tippy(this, { content: description, placement: \"bottom\", allowHTML: true,});\n",
       "                    }\n",
       "                }\n",
       "\n",
       "                // add edges mouseover\n",
       "\n",
       "                node.on(\"mouseover\", () => {\n",
       "                    if (node_edges[node_id] !== undefined) {\n",
       "                        node_edges[node_id].forEach(function(element) {\n",
       "                            element.style(\"visibility\", \"visible\")\n",
       "                        })\n",
       "                    }\n",
       "                })\n",
       "                node.on(\"mouseout\", () => {\n",
       "                    if (node_edges[node_id] !== undefined) {\n",
       "                        node_edges[node_id].forEach(function(element) {\n",
       "                            element.style(\"visibility\", \"hidden\")\n",
       "                        })\n",
       "                    }\n",
       "                })\n",
       "\n",
       "                // reset title\n",
       "                node.attr(\"title\", null)\n",
       "            });\n",
       "        }\n",
       "\n",
       "        var main = function (selector, info, source) {\n",
       "            let node_info = info[\"nodes\"]\n",
       "            let edge_info = info[\"edges\"]\n",
       "\n",
       "            window.d3_initialized = true\n",
       "            let diviz = d3.select(selector)\n",
       "\n",
       "            // create graphviz\n",
       "            let graphviz = diviz.graphviz({ zoom: false }).fit(false)\n",
       "\n",
       "            // add images\n",
       "            console.log(info)\n",
       "            Object.entries(node_info).forEach(([key, value], index) => {\n",
       "                graphviz.addImage(value.data, value.width, value.height)\n",
       "            });\n",
       "\n",
       "            // render image\n",
       "            graphviz.renderDot(source).on(\"end\", function () {\n",
       "            update(graphviz, node_info, edge_info, diviz)\n",
       "\n",
       "            scale = 3/3\n",
       "            svg = diviz.select(\"svg\")\n",
       "            svg.style(\"width\", parseInt(svg.attr(\"width\")) * scale)\n",
       "            svg.style(\"height\", parseInt(svg.attr(\"height\")) * scale)\n",
       "            });\n",
       "\n",
       "            delete graphviz\n",
       "\n",
       "        }\n",
       "\n",
       "        return {\n",
       "            main: main\n",
       "        };\n",
       "        });\n",
       "\n",
       "        require(['laplotgraph769'], function (laplot) {\n",
       "            laplot.main(\n",
       "            \"#graph769\",\n",
       "            info,\n",
       "            source\n",
       "            )\n",
       "        })\n",
       "    }\n",
       "\n",
       "    // Add script tag for requirejs\n",
       "    // If script tag not present => first add it\n",
       "    // If script tag already present => add to event listener to load the graph\n",
       "    // If already loaded => just load the graph\n",
       "\n",
       "    var lib = 'https://cdnjs.cloudflare.com/ajax/libs/require.js/2.3.6/require.js';\n",
       "\n",
       "    if (!isLoadedScript(lib)) {\n",
       "        loadScript(lib);\n",
       "    }\n",
       "\n",
       "    // Detect if library loaded\n",
       "    function isLoadedScript(lib) {\n",
       "        return document.querySelectorAll('[src=\"' + lib + '\"]').length > 0\n",
       "    }\n",
       "\n",
       "    // Load library\n",
       "    function loadScript(lib) {\n",
       "        var script = document.createElement('script');\n",
       "        script.setAttribute('src', lib);\n",
       "        document.getElementById('graph769').appendChild(script);\n",
       "        return script;\n",
       "    }\n",
       "\n",
       "    // Add listener\n",
       "    function listenScript(lib, callback){\n",
       "        script = document.querySelectorAll('[src=\"' + lib + '\"]')[0]\n",
       "        script.addEventListener('load', function() {\n",
       "            callback();\n",
       "        });\n",
       "    }\n",
       "\n",
       "    // Determine whether to listen or directly load\n",
       "    if( typeof require === 'undefined' || require === null ){\n",
       "        console.log(\"listening\")\n",
       "        listenScript(lib, loadgraph769)\n",
       "    } else {\n",
       "        console.log(require)\n",
       "        console.log(\"loading\")\n",
       "        loadgraph769();\n",
       "    }\n",
       "\n",
       "\n",
       "</script>"
      ],
      "text/plain": [
       "<IPython.core.display.HTML object>"
      ]
     },
     "metadata": {},
     "output_type": "display_data"
    },
    {
     "data": {
      "text/plain": [
       "<latenta.introspect.viz.component_graph.ComponentGraph at 0x7f29ed05dd90>"
      ]
     },
     "execution_count": 23,
     "metadata": {},
     "output_type": "execute_result"
    }
   ],
   "source": [
    "expression.plot()"
   ]
  },
  {
   "cell_type": "code",
   "execution_count": 24,
   "id": "a3e52871-bbac-43eb-9b34-3cde520335f9",
   "metadata": {
    "execution": {
     "iopub.execute_input": "2021-10-05T15:39:15.372482Z",
     "iopub.status.busy": "2021-10-05T15:39:15.372045Z",
     "iopub.status.idle": "2021-10-05T15:39:15.391762Z",
     "shell.execute_reply": "2021-10-05T15:39:15.391380Z"
    }
   },
   "outputs": [],
   "source": [
    "noise = la.Fixed(0.1)"
   ]
  },
  {
   "cell_type": "code",
   "execution_count": 25,
   "id": "2dfdb5c8-c9ec-4060-a6ef-b60cc3d27218",
   "metadata": {
    "execution": {
     "iopub.execute_input": "2021-10-05T15:39:15.394277Z",
     "iopub.status.busy": "2021-10-05T15:39:15.393841Z",
     "iopub.status.idle": "2021-10-05T15:39:15.408384Z",
     "shell.execute_reply": "2021-10-05T15:39:15.408000Z"
    }
   },
   "outputs": [],
   "source": [
    "dist = la.distributions.Normal(expression, noise, label = \"dist\")"
   ]
  },
  {
   "cell_type": "code",
   "execution_count": 26,
   "id": "b1bc73a0-4d59-4327-8606-3559d484149b",
   "metadata": {
    "execution": {
     "iopub.execute_input": "2021-10-05T15:39:15.410553Z",
     "iopub.status.busy": "2021-10-05T15:39:15.410109Z",
     "iopub.status.idle": "2021-10-05T15:39:15.500209Z",
     "shell.execute_reply": "2021-10-05T15:39:15.500587Z"
    }
   },
   "outputs": [
    {
     "data": {
      "text/html": [
       "<link rel=\"stylesheet\" href=\"https://cdnjs.cloudflare.com/ajax/libs/tippy.js/6.3.1/tippy.css\">\n",
       "\n",
       "<div id=\"graph994\" style=\"text-align: center;\"></div>\n",
       "\n",
       "<style>\n",
       ".edge{\n",
       "    animation: edge 1s infinite;\n",
       "}\n",
       "\n",
       ".edge text{\n",
       "    font-family: \"Helvetica Neue\", Helvetica, Arial, sans-serif;\n",
       "    background: #fff;\n",
       "    z-index: 10;\n",
       "}\n",
       "</style>\n",
       "\n",
       "<script>\n",
       "    function loadgraph994() {\n",
       "\n",
       "    require.config({\n",
       "        paths: {\n",
       "            jquery: 'https://code.jquery.com/jquery-3.6.0.min',\n",
       "            d3: 'https://d3js.org/d3.v5.min',\n",
       "            'd3-interpolate': 'https://d3js.org/d3-interpolate.v2',\n",
       "            'd3-selection': 'https://d3js.org/d3-selection.v2',\n",
       "            'd3-dispatch': 'https://d3js.org/d3-dispatch.v2',\n",
       "            'd3-ease': 'https://d3js.org/d3-ease.v2',\n",
       "            'd3-transition': 'https://d3js.org/d3-transition.v2',\n",
       "            'd3-timer': 'https://d3js.org/d3-timer.v2',\n",
       "            'd3-drag': 'https://d3js.org/d3-drag.v2',\n",
       "            'd3-zoom': 'https://d3js.org/d3-zoom.v2',\n",
       "            'd3-color': 'https://d3js.org/d3-color.v2',\n",
       "            'd3-path': 'https://d3js.org/d3-path.v2',\n",
       "            'd3-format': 'https://d3js.org/d3-format.v2',\n",
       "            '@hpcc-js/wasm': \"https://cdn.jsdelivr.net/npm/@hpcc-js/wasm/dist/index\",\n",
       "            graphviz: \"https://unpkg.com/d3-graphviz@4.0.0/build/d3-graphviz\",\n",
       "            \"@popperjs/core\":\"https://cdnjs.cloudflare.com/ajax/libs/popper.js/2.9.3/umd/popper.min\",\n",
       "            tippy:\"https://cdnjs.cloudflare.com/ajax/libs/tippy.js/6.3.1/tippy.umd\",\n",
       "            // webfontloader: \"https://cdn.jsdelivr.net/npm/webfontloader@1.6.28/webfontloader.min\",\n",
       "            // createjs: \"https://code.createjs.com/1.0.0/createjs\",\n",
       "            // canvaslatex: \"https://gist.githack.com/zouter/2c56290a0ccef0133b8b70931cd347da/raw/038dc05e488d07e844e559feb01572dcd21e65be/canvas-latex\",\n",
       "            laplot: 'main',\n",
       "        }\n",
       "    });\n",
       "\n",
       "    let source = `digraph {\n",
       "\tgraph [dpi=72 start=0]\n",
       "\tedge [splines=ortho]\n",
       "\t\n",
       "\tsubgraph cluster_139818045877840 {\n",
       "\t\tcolor=\"#111111\" fillcolor=\"#A2E1DB:#F1CDB0\" label=\"\" margin=5 penwidth=0 style=\"dashed,striped\"\n",
       "\t\t139818045877840 [label=\"\" color=\"#111111\" fillcolor=\"#FFFFFF\" fontcolor=\"#111111\" fontname=\"sans-serif\" image=\"data:image/svg+xml;base64,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\" shape=rect style=\"filled,dashed\"]\n",
       "\t}\n",
       "\tsubgraph cluster_139818046362720 {\n",
       "\t\tcolor=\"#FFFFFF\" fillcolor=white label=\"\" margin=5 penwidth=0 style=striped\n",
       "\t\t139818046362720 [label=\"\" color=\"#FFFFFF\" fillcolor=\"#FFFFFF\" fontcolor=\"#000000\" fontname=\"sans-serif\" image=\"data:image/svg+xml;base64,PD94bWwgdmVyc2lvbj0iMS4wIiBlbmNvZGluZz0idXRmLTgiIHN0YW5kYWxvbmU9Im5vIj8+CjwhRE9DVFlQRSBzdmcgUFVCTElDICItLy9XM0MvL0RURCBTVkcgMS4xLy9FTiIKICAiaHR0cDovL3d3dy53My5vcmcvR3JhcGhpY3MvU1ZHLzEuMS9EVEQvc3ZnMTEuZHRkIj4KPHN2ZyBoZWlnaHQ9IjMuODU5NTMxcHQiIHZlcnNpb249IjEuMSIgdmlld0JveD0iMCAwIDMuMDQgMy44NTk1MzEiIHdpZHRoPSIzLjA0cHQiIHhtbG5zPSJodHRwOi8vd3d3LnczLm9yZy8yMDAwL3N2ZyIgeG1sbnM6eGxpbms9Imh0dHA6Ly93d3cudzMub3JnLzE5OTkveGxpbmsiPgogPG1ldGFkYXRhPgogIDxyZGY6UkRGIHhtbG5zOmNjPSJodHRwOi8vY3JlYXRpdmVjb21tb25zLm9yZy9ucyMiIHhtbG5zOmRjPSJodHRwOi8vcHVybC5vcmcvZGMvZWxlbWVudHMvMS4xLyIgeG1sbnM6cmRmPSJodHRwOi8vd3d3LnczLm9yZy8xOTk5LzAyLzIyLXJkZi1zeW50YXgtbnMjIj4KICAgPGNjOldvcms+CiAgICA8ZGM6dHlwZSByZGY6cmVzb3VyY2U9Imh0dHA6Ly9wdXJsLm9yZy9kYy9kY21pdHlwZS9TdGlsbEltYWdlIi8+CiAgICA8ZGM6ZGF0ZT4yMDIxLTEwLTA1VDE3OjM5OjE1LjQzNzg3OTwvZGM6ZGF0ZT4KICAgIDxkYzpmb3JtYXQ+aW1hZ2Uvc3ZnK3htbDwvZGM6Zm9ybWF0PgogICAgPGRjOmNyZWF0b3I+CiAgICAgPGNjOkFnZW50PgogICAgICA8ZGM6dGl0bGU+TWF0cGxvdGxpYiB2My40LjMsIGh0dHBzOi8vbWF0cGxvdGxpYi5vcmcvPC9kYzp0aXRsZT4KICAgICA8L2NjOkFnZW50PgogICAgPC9kYzpjcmVhdG9yPgogICA8L2NjOldvcms+CiAgPC9yZGY6UkRGPgogPC9tZXRhZGF0YT4KIDxkZWZzPgogIDxzdHlsZSB0eXBlPSJ0ZXh0L2NzcyI+KntzdHJva2UtbGluZWNhcDpidXR0O3N0cm9rZS1saW5lam9pbjpyb3VuZDt9PC9zdHlsZT4KIDwvZGVmcz4KIDxnIGlkPSJmaWd1cmVfMSI+CiAgPGcgaWQ9InBhdGNoXzEiPgogICA8cGF0aCBkPSJNIDAgMy44NTk1MzEgCkwgMy4wNCAzLjg1OTUzMSAKTCAzLjA0IDAgCkwgMCAwIAp6CiIgc3R5bGU9ImZpbGw6bm9uZTsiLz4KICA8L2c+CiAgPGcgaWQ9InRleHRfMSI+CiAgIDwhLS0gJFxzaWdtYSQgLS0+CiAgIDxnIHRyYW5zZm9ybT0idHJhbnNsYXRlKDAuNzIgMi42MTk2MDkpc2NhbGUoMC4wMjUgLTAuMDI1KSI+CiAgICA8ZGVmcz4KICAgICA8cGF0aCBkPSJNIDIyMTkgMzA0NCAKUSAxNzQ0IDMwNDQgMTQyMiAyNzAwIApRIDEwODEgMjM0MSA5NjkgMTc0NyAKUSA4NDQgMTExOSAxMDQ0IDc1NiAKUSAxMjQxIDM5NyAxNzA2IDM5NyAKUSAyMTY2IDM5NyAyNTAzIDc1OSAKUSAyODQ0IDExMjIgMjk2NiAxNzQ3IApRIDMwNzUgMjMxOSAyODgxIDI3MDAgClEgMjcwMCAzMDQ0IDIyMTkgMzA0NCAKegpNIDIzMDkgMzUwMyAKTCA0MjE5IDM1MDAgCkwgNDEwNiAyOTI1IApMIDM0NjMgMjkyNSAKUSAzNzA2IDI0MzggMzU3NSAxNzQ3IApRIDM0MDYgODg4IDI4ODQgNDAwIApRIDIzNTkgLTkxIDE2MDkgLTkxIApRIDg1NiAtOTEgNTI1IDQwMCAKUSAxOTQgODg4IDM2MyAxNzQ3IApRIDUyOCAyNjA5IDEwNTAgMzA5NyAKUSAxNDg0IDM1MDMgMjMwOSAzNTAzIAp6CiIgaWQ9IkRlamFWdVNhbnMtT2JsaXF1ZS0zYzMiIHRyYW5zZm9ybT0ic2NhbGUoMC4wMTU2MjUpIi8+CiAgICA8L2RlZnM+CiAgICA8dXNlIHRyYW5zZm9ybT0idHJhbnNsYXRlKDAgMC4yNjU2MjUpIiB4bGluazpocmVmPSIjRGVqYVZ1U2Fucy1PYmxpcXVlLTNjMyIvPgogICA8L2c+CiAgPC9nPgogPC9nPgo8L3N2Zz4K\" shape=rect style=filled]\n",
       "\t}\n",
       "\tsubgraph cluster_139818081877296 {\n",
       "\t\tcolor=\"#111111\" fillcolor=\"#A2E1DB:#F1CDB0\" label=\"\" margin=5 penwidth=0 style=striped\n",
       "\t\t139818081877296 [label=\"\" color=\"#111111\" fillcolor=\"#FFFFFF\" fontcolor=\"#111111\" fontname=\"sans-serif\" image=\"data:image/svg+xml;base64,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\" shape=rect style=filled]\n",
       "\t}\n",
       "\tsubgraph cluster_139818046612864 {\n",
       "\t\tcolor=\"#111111\" fillcolor=\"#FF9AA2:#F1CDB0\" label=\"\" margin=5 penwidth=0 style=striped\n",
       "\t\t139818046612864 [label=\"\" color=\"#111111\" fillcolor=\"#FFFFFF\" fontcolor=\"#111111\" fontname=\"sans-serif\" image=\"data:image/svg+xml;base64,PD94bWwgdmVyc2lvbj0iMS4wIiBlbmNvZGluZz0idXRmLTgiIHN0YW5kYWxvbmU9Im5vIj8+CjwhRE9DVFlQRSBzdmcgUFVCTElDICItLy9XM0MvL0RURCBTVkcgMS4xLy9FTiIKICAiaHR0cDovL3d3dy53My5vcmcvR3JhcGhpY3MvU1ZHLzEuMS9EVEQvc3ZnMTEuZHRkIj4KPHN2ZyBoZWlnaHQ9IjMuODU5NTMxcHQiIHZlcnNpb249IjEuMSIgdmlld0JveD0iMCAwIDIyLjU0IDMuODU5NTMxIiB3aWR0aD0iMjIuNTRwdCIgeG1sbnM9Imh0dHA6Ly93d3cudzMub3JnLzIwMDAvc3ZnIiB4bWxuczp4bGluaz0iaHR0cDovL3d3dy53My5vcmcvMTk5OS94bGluayI+CiA8bWV0YWRhdGE+CiAgPHJkZjpSREYgeG1sbnM6Y2M9Imh0dHA6Ly9jcmVhdGl2ZWNvbW1vbnMub3JnL25zIyIgeG1sbnM6ZGM9Imh0dHA6Ly9wdXJsLm9yZy9kYy9lbGVtZW50cy8xLjEvIiB4bWxuczpyZGY9Imh0dHA6Ly93d3cudzMub3JnLzE5OTkvMDIvMjItcmRmLXN5bnRheC1ucyMiPgogICA8Y2M6V29yaz4KICAgIDxkYzp0eXBlIHJkZjpyZXNvdXJjZT0iaHR0cDovL3B1cmwub3JnL2RjL2RjbWl0eXBlL1N0aWxsSW1hZ2UiLz4KICAgIDxkYzpkYXRlPjIwMjEtMTAtMDVUMTc6Mzk6MTUuNDYzMzM3PC9kYzpkYXRlPgogICAgPGRjOmZvcm1hdD5pbWFnZS9zdmcreG1sPC9kYzpmb3JtYXQ+CiAgICA8ZGM6Y3JlYXRvcj4KICAgICA8Y2M6QWdlbnQ+CiAgICAgIDxkYzp0aXRsZT5NYXRwbG90bGliIHYzLjQuMywgaHR0cHM6Ly9tYXRwbG90bGliLm9yZy88L2RjOnRpdGxlPgogICAgIDwvY2M6QWdlbnQ+CiAgICA8L2RjOmNyZWF0b3I+CiAgIDwvY2M6V29yaz4KICA8L3JkZjpSREY+CiA8L21ldGFkYXRhPgogPGRlZnM+CiAgPHN0eWxlIHR5cGU9InRleHQvY3NzIj4qe3N0cm9rZS1saW5lY2FwOmJ1dHQ7c3Ryb2tlLWxpbmVqb2luOnJvdW5kO308L3N0eWxlPgogPC9kZWZzPgogPGcgaWQ9ImZpZ3VyZV8xIj4KICA8ZyBpZD0icGF0Y2hfMSI+CiAgIDxwYXRoIGQ9Ik0gMCAzLjg1OTUzMSAKTCAyMi41NCAzLjg1OTUzMSAKTCAyMi41NCAwIApMIDAgMCAKegoiIHN0eWxlPSJmaWxsOm5vbmU7Ii8+CiAgPC9nPgogIDxnIGlkPSJ0ZXh0XzEiPgogICA8IS0tICRhIFw7PVw7YiArIFxtYXRocmVndWxhcnsgYmFzZWxpbmUgfSQgLS0+CiAgIDxnIHN0eWxlPSJmaWxsOiMxMTExMTE7IiB0cmFuc2Zvcm09InRyYW5zbGF0ZSgwLjcyIDIuNjE5NjA5KXNjYWxlKDAuMDI1IC0wLjAyNSkiPgogICAgPGRlZnM+CiAgICAgPHBhdGggZD0iTSAzNDM4IDE5OTcgCkwgMzA0NyAwIApMIDI0NzIgMCAKTCAyNTc4IDUzMSAKUSAyMzI1IDIxOSAyMDAxIDY0IApRIDE2NzggLTkxIDEyODEgLTkxIApRIDgzNCAtOTEgNTQ4IDE4MiAKUSAyNjMgNDU2IDI2MyA4ODQgClEgMjYzIDE0OTcgNzUyIDE4NTMgClEgMTI0MSAyMjA5IDIxMDAgMjIwOSAKTCAyOTAwIDIyMDkgCkwgMjkzMSAyMzYzIApRIDI5MzggMjM4OCAyOTQxIDI0MTcgClEgMjk0NCAyNDQ3IDI5NDQgMjUwOSAKUSAyOTQ0IDI3ODggMjcxNyAyOTQyIApRIDI0OTEgMzA5NyAyMDgxIDMwOTcgClEgMTgwMCAzMDk3IDE1MDQgMzAyNSAKUSAxMjA5IDI5NTMgODk3IDI4MDkgCkwgOTk3IDMzNDEgClEgMTMyMiAzNDYzIDE2MzMgMzUyMyAKUSAxOTQ0IDM1ODQgMjIzNCAzNTg0IApRIDI4NTMgMzU4NCAzMTc2IDMzMTUgClEgMzUwMCAzMDQ3IDM1MDAgMjUzNCAKUSAzNTAwIDI0MzEgMzQ4NCAyMjkyIApRIDM0NjkgMjE1MyAzNDM4IDE5OTcgCnoKTSAyODE2IDE3NTkgCkwgMjI0MSAxNzU5IApRIDE1MzQgMTc1OSAxMTk1IDE1NzAgClEgODU2IDEzODEgODU2IDk4NCAKUSA4NTYgNzA5IDEwMjkgNTUzIApRIDEyMDMgMzk3IDE1MDkgMzk3IApRIDE5NzggMzk3IDIzMjggNzMzIApRIDI2NzggMTA2OSAyNzkxIDE2MzEgCkwgMjgxNiAxNzU5IAp6CiIgaWQ9IkRlamFWdVNhbnMtT2JsaXF1ZS02MSIgdHJhbnNmb3JtPSJzY2FsZSgwLjAxNTYyNSkiLz4KICAgICA8cGF0aCBkPSJNIDY3OCAyOTA2IApMIDQ2ODQgMjkwNiAKTCA0Njg0IDIzODEgCkwgNjc4IDIzODEgCkwgNjc4IDI5MDYgCnoKTSA2NzggMTYzMSAKTCA0Njg0IDE2MzEgCkwgNDY4NCAxMTAwIApMIDY3OCAxMTAwIApMIDY3OCAxNjMxIAp6CiIgaWQ9IkRlamFWdVNhbnMtM2QiIHRyYW5zZm9ybT0ic2NhbGUoMC4wMTU2MjUpIi8+CiAgICAgPHBhdGggZD0iTSAzMTY5IDIxMzggClEgMzE2OSAyNTkxIDI5NjEgMjg0NyAKUSAyNzUzIDMxMDMgMjM4OCAzMTAzIApRIDIxMjIgMzEwMyAxODg5IDI5NzMgClEgMTY1NiAyODQ0IDE0ODQgMjU5NyAKUSAxMzAzIDIzMzggMTE5OCAxOTk1IApRIDEwOTQgMTY1MyAxMDk0IDEzMTMgClEgMTA5NCA4ODEgMTI5OCA2MzYgClEgMTUwMyAzOTEgMTg2MyAzOTEgClEgMjEzNCAzOTEgMjM2NSA1MTcgClEgMjU5NyA2NDQgMjc3MiA4OTEgClEgMjk1MCAxMTQ3IDMwNTkgMTQ4NyAKUSAzMTY5IDE4MjggMzE2OSAyMTM4IAp6Ck0gMTM4MSAyOTY5IApRIDE1OTQgMzI1NiAxOTE0IDM0MjAgClEgMjIzNCAzNTg0IDI1ODQgMzU4NCAKUSAzMTIyIDM1ODQgMzQzOSAzMjIxIApRIDM3NTYgMjg1OSAzNzU2IDIyNDEgClEgMzc1NiAxNzM0IDM1NzAgMTI1OSAKUSAzMzg0IDc4NCAzMDQxIDQxNiAKUSAyODE2IDE3MiAyNTIyIDQwIApRIDIyMjggLTkxIDE5MDYgLTkxIApRIDE1NjYgLTkxIDEzMTYgNjUgClEgMTA2NiAyMjIgOTA5IDUzMSAKTCA4MDYgMCAKTCAyMzEgMCAKTCAxMTc4IDQ4NjMgCkwgMTc1MyA0ODYzIApMIDEzODEgMjk2OSAKegoiIGlkPSJEZWphVnVTYW5zLU9ibGlxdWUtNjIiIHRyYW5zZm9ybT0ic2NhbGUoMC4wMTU2MjUpIi8+CiAgICAgPHBhdGggZD0iTSAyOTQ0IDQwMTMgCkwgMjk0NCAyMjcyIApMIDQ2ODQgMjI3MiAKTCA0Njg0IDE3NDEgCkwgMjk0NCAxNzQxIApMIDI5NDQgMCAKTCAyNDE5IDAgCkwgMjQxOSAxNzQxIApMIDY3OCAxNzQxIApMIDY3OCAyMjcyIApMIDI0MTkgMjI3MiAKTCAyNDE5IDQwMTMgCkwgMjk0NCA0MDEzIAp6CiIgaWQ9IkRlamFWdVNhbnMtMmIiIHRyYW5zZm9ybT0ic2NhbGUoMC4wMTU2MjUpIi8+CiAgICAgPHBhdGggZD0iTSAzMTE2IDE3NDcgClEgMzExNiAyMzgxIDI4NTUgMjc0MiAKUSAyNTk0IDMxMDMgMjEzOCAzMTAzIApRIDE2ODEgMzEwMyAxNDIwIDI3NDIgClEgMTE1OSAyMzgxIDExNTkgMTc0NyAKUSAxMTU5IDExMTMgMTQyMCA3NTIgClEgMTY4MSAzOTEgMjEzOCAzOTEgClEgMjU5NCAzOTEgMjg1NSA3NTIgClEgMzExNiAxMTEzIDMxMTYgMTc0NyAKegpNIDExNTkgMjk2OSAKUSAxMzQxIDMyODEgMTYxNyAzNDMyIApRIDE4OTQgMzU4NCAyMjc4IDM1ODQgClEgMjkxNiAzNTg0IDMzMTQgMzA3OCAKUSAzNzEzIDI1NzIgMzcxMyAxNzQ3IApRIDM3MTMgOTIyIDMzMTQgNDE1IApRIDI5MTYgLTkxIDIyNzggLTkxIApRIDE4OTQgLTkxIDE2MTcgNjEgClEgMTM0MSAyMTMgMTE1OSA1MjUgCkwgMTE1OSAwIApMIDU4MSAwIApMIDU4MSA0ODYzIApMIDExNTkgNDg2MyAKTCAxMTU5IDI5NjkgCnoKIiBpZD0iRGVqYVZ1U2Fucy02MiIgdHJhbnNmb3JtPSJzY2FsZSgwLjAxNTYyNSkiLz4KICAgICA8cGF0aCBkPSJNIDIxOTQgMTc1OSAKUSAxNDk3IDE3NTkgMTIyOCAxNjAwIApRIDk1OSAxNDQxIDk1OSAxMDU2IApRIDk1OSA3NTAgMTE2MSA1NzAgClEgMTM2MyAzOTEgMTcwOSAzOTEgClEgMjE4OCAzOTEgMjQ3NyA3MzAgClEgMjc2NiAxMDY5IDI3NjYgMTYzMSAKTCAyNzY2IDE3NTkgCkwgMjE5NCAxNzU5IAp6Ck0gMzM0MSAxOTk3IApMIDMzNDEgMCAKTCAyNzY2IDAgCkwgMjc2NiA1MzEgClEgMjU2OSAyMTMgMjI3NSA2MSAKUSAxOTgxIC05MSAxNTU2IC05MSAKUSAxMDE5IC05MSA3MDEgMjExIApRIDM4NCA1MTMgMzg0IDEwMTkgClEgMzg0IDE2MDkgNzc5IDE5MDkgClEgMTE3NSAyMjA5IDE5NTkgMjIwOSAKTCAyNzY2IDIyMDkgCkwgMjc2NiAyMjY2IApRIDI3NjYgMjY2MyAyNTA1IDI4ODAgClEgMjI0NCAzMDk3IDE3NzIgMzA5NyAKUSAxNDcyIDMwOTcgMTE4NyAzMDI1IApRIDkwMyAyOTUzIDY0MSAyODA5IApMIDY0MSAzMzQxIApRIDk1NiAzNDYzIDEyNTMgMzUyMyAKUSAxNTUwIDM1ODQgMTgzMSAzNTg0IApRIDI1OTEgMzU4NCAyOTY2IDMxOTAgClEgMzM0MSAyNzk3IDMzNDEgMTk5NyAKegoiIGlkPSJEZWphVnVTYW5zLTYxIiB0cmFuc2Zvcm09InNjYWxlKDAuMDE1NjI1KSIvPgogICAgIDxwYXRoIGQ9Ik0gMjgzNCAzMzk3IApMIDI4MzQgMjg1MyAKUSAyNTkxIDI5NzggMjMyOCAzMDQwIApRIDIwNjYgMzEwMyAxNzg0IDMxMDMgClEgMTM1NiAzMTAzIDExNDIgMjk3MiAKUSA5MjggMjg0MSA5MjggMjU3OCAKUSA5MjggMjM3OCAxMDgxIDIyNjQgClEgMTIzNCAyMTUwIDE2OTcgMjA0NyAKTCAxODk0IDIwMDMgClEgMjUwNiAxODcyIDI3NjQgMTYzMyAKUSAzMDIyIDEzOTQgMzAyMiA5NjYgClEgMzAyMiA0NzggMjYzNiAxOTMgClEgMjI1MCAtOTEgMTU3NSAtOTEgClEgMTI5NCAtOTEgOTg5IC0zNiAKUSA2ODQgMTkgMzQ3IDEyOCAKTCAzNDcgNzIyIApRIDY2NiA1NTYgOTc1IDQ3MyAKUSAxMjg0IDM5MSAxNTg4IDM5MSAKUSAxOTk0IDM5MSAyMjEyIDUzMCAKUSAyNDMxIDY2OSAyNDMxIDkyMiAKUSAyNDMxIDExNTYgMjI3MyAxMjgxIApRIDIxMTYgMTQwNiAxNTgxIDE1MjIgCkwgMTM4MSAxNTY5IApRIDg0NyAxNjgxIDYwOSAxOTE0IApRIDM3MiAyMTQ3IDM3MiAyNTUzIApRIDM3MiAzMDQ3IDcyMiAzMzE1IApRIDEwNzIgMzU4NCAxNzE2IDM1ODQgClEgMjAzNCAzNTg0IDIzMTUgMzUzNyAKUSAyNTk3IDM0OTEgMjgzNCAzMzk3IAp6CiIgaWQ9IkRlamFWdVNhbnMtNzMiIHRyYW5zZm9ybT0ic2NhbGUoMC4wMTU2MjUpIi8+CiAgICAgPHBhdGggZD0iTSAzNTk3IDE4OTQgCkwgMzU5NyAxNjEzIApMIDk1MyAxNjEzIApRIDk5MSAxMDE5IDEzMTEgNzA4IApRIDE2MzEgMzk3IDIyMDMgMzk3IApRIDI1MzQgMzk3IDI4NDUgNDc4IApRIDMxNTYgNTU5IDM0NjMgNzIyIApMIDM0NjMgMTc4IApRIDMxNTMgNDcgMjgyOCAtMjIgClEgMjUwMyAtOTEgMjE2OSAtOTEgClEgMTMzMSAtOTEgODQyIDM5NiAKUSAzNTMgODg0IDM1MyAxNzE2IApRIDM1MyAyNTc1IDgxNyAzMDc5IApRIDEyODEgMzU4NCAyMDY5IDM1ODQgClEgMjc3NSAzNTg0IDMxODYgMzEyOSAKUSAzNTk3IDI2NzUgMzU5NyAxODk0IAp6Ck0gMzAyMiAyMDYzIApRIDMwMTYgMjUzNCAyNzU4IDI4MTUgClEgMjUwMCAzMDk3IDIwNzUgMzA5NyAKUSAxNTk0IDMwOTcgMTMwNSAyODI1IApRIDEwMTYgMjU1MyA5NzIgMjA1OSAKTCAzMDIyIDIwNjMgCnoKIiBpZD0iRGVqYVZ1U2Fucy02NSIgdHJhbnNmb3JtPSJzY2FsZSgwLjAxNTYyNSkiLz4KICAgICA8cGF0aCBkPSJNIDYwMyA0ODYzIApMIDExNzggNDg2MyAKTCAxMTc4IDAgCkwgNjAzIDAgCkwgNjAzIDQ4NjMgCnoKIiBpZD0iRGVqYVZ1U2Fucy02YyIgdHJhbnNmb3JtPSJzY2FsZSgwLjAxNTYyNSkiLz4KICAgICA8cGF0aCBkPSJNIDYwMyAzNTAwIApMIDExNzggMzUwMCAKTCAxMTc4IDAgCkwgNjAzIDAgCkwgNjAzIDM1MDAgCnoKTSA2MDMgNDg2MyAKTCAxMTc4IDQ4NjMgCkwgMTE3OCA0MTM0IApMIDYwMyA0MTM0IApMIDYwMyA0ODYzIAp6CiIgaWQ9IkRlamFWdVNhbnMtNjkiIHRyYW5zZm9ybT0ic2NhbGUoMC4wMTU2MjUpIi8+CiAgICAgPHBhdGggZD0iTSAzNTEzIDIxMTMgCkwgMzUxMyAwIApMIDI5MzggMCAKTCAyOTM4IDIwOTQgClEgMjkzOCAyNTkxIDI3NDQgMjgzNyAKUSAyNTUwIDMwODQgMjE2MyAzMDg0IApRIDE2OTcgMzA4NCAxNDI4IDI3ODcgClEgMTE1OSAyNDkxIDExNTkgMTk3OCAKTCAxMTU5IDAgCkwgNTgxIDAgCkwgNTgxIDM1MDAgCkwgMTE1OSAzNTAwIApMIDExNTkgMjk1NiAKUSAxMzY2IDMyNzIgMTY0NSAzNDI4IApRIDE5MjUgMzU4NCAyMjkxIDM1ODQgClEgMjg5NCAzNTg0IDMyMDMgMzIxMSAKUSAzNTEzIDI4MzggMzUxMyAyMTEzIAp6CiIgaWQ9IkRlamFWdVNhbnMtNmUiIHRyYW5zZm9ybT0ic2NhbGUoMC4wMTU2MjUpIi8+CiAgICA8L2RlZnM+CiAgICA8dXNlIHRyYW5zZm9ybT0idHJhbnNsYXRlKDAgMC4wMTU2MjUpIiB4bGluazpocmVmPSIjRGVqYVZ1U2Fucy1PYmxpcXVlLTYxIi8+CiAgICA8dXNlIHRyYW5zZm9ybT0idHJhbnNsYXRlKDEwNy44MjA4NTQgMC4wMTU2MjUpIiB4bGluazpocmVmPSIjRGVqYVZ1U2Fucy0zZCIvPgogICAgPHVzZSB0cmFuc2Zvcm09InRyYW5zbGF0ZSgyMzguMTUxNDc1IDAuMDE1NjI1KSIgeGxpbms6aHJlZj0iI0RlamFWdVNhbnMtT2JsaXF1ZS02MiIvPgogICAgPHVzZSB0cmFuc2Zvcm09InRyYW5zbGF0ZSgzMjEuMTEwNDU5IDAuMDE1NjI1KSIgeGxpbms6aHJlZj0iI0RlamFWdVNhbnMtMmIiLz4KICAgIDx1c2UgdHJhbnNmb3JtPSJ0cmFuc2xhdGUoNDI0LjM4MTk0MyAwLjAxNTYyNSkiIHhsaW5rOmhyZWY9IiNEZWphVnVTYW5zLTYyIi8+CiAgICA8dXNlIHRyYW5zZm9ybT0idHJhbnNsYXRlKDQ4Ny44NTg1MDYgMC4wMTU2MjUpIiB4bGluazpocmVmPSIjRGVqYVZ1U2Fucy02MSIvPgogICAgPHVzZSB0cmFuc2Zvcm09InRyYW5zbGF0ZSg1NDkuMTM3ODAzIDAuMDE1NjI1KSIgeGxpbms6aHJlZj0iI0RlamFWdVNhbnMtNzMiLz4KICAgIDx1c2UgdHJhbnNmb3JtPSJ0cmFuc2xhdGUoNjAxLjIzNzQxMiAwLjAxNTYyNSkiIHhsaW5rOmhyZWY9IiNEZWphVnVTYW5zLTY1Ii8+CiAgICA8dXNlIHRyYW5zZm9ybT0idHJhbnNsYXRlKDY2Mi43NjA4NSAwLjAxNTYyNSkiIHhsaW5rOmhyZWY9IiNEZWphVnVTYW5zLTZjIi8+CiAgICA8dXNlIHRyYW5zZm9ybT0idHJhbnNsYXRlKDY5MC41NDQwNTMgMC4wMTU2MjUpIiB4bGluazpocmVmPSIjRGVqYVZ1U2Fucy02OSIvPgogICAgPHVzZSB0cmFuc2Zvcm09InRyYW5zbGF0ZSg3MTguMzI3MjU2IDAuMDE1NjI1KSIgeGxpbms6aHJlZj0iI0RlamFWdVNhbnMtNmUiLz4KICAgIDx1c2UgdHJhbnNmb3JtPSJ0cmFuc2xhdGUoNzgxLjcwNjE2MiAwLjAxNTYyNSkiIHhsaW5rOmhyZWY9IiNEZWphVnVTYW5zLTY1Ii8+CiAgIDwvZz4KICA8L2c+CiA8L2c+Cjwvc3ZnPgo=\" shape=rect style=filled]\n",
       "\t}\n",
       "\tsubgraph cluster_139818046566208 {\n",
       "\t\tcolor=\"#FFFFFF\" fillcolor=\"#FF9AA2:#F1CDB0\" label=\"\" margin=5 penwidth=0 style=striped\n",
       "\t\t139818046566208 [label=\"\" color=\"#FFFFFF\" fillcolor=\"#FFFFFF\" fontcolor=\"#000000\" fontname=\"sans-serif\" image=\"data:image/svg+xml;base64,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\" shape=rect style=filled]\n",
       "\t}\n",
       "\tsubgraph cluster_139818047162928 {\n",
       "\t\tcolor=\"#FFFFFF\" fillcolor=\"#FF9AA2:#F1CDB0\" label=\"\" margin=5 penwidth=0 style=striped\n",
       "\t\t139818047162928 [label=\"\" color=\"#FFFFFF\" fillcolor=\"#FFFFFF\" fontcolor=\"#000000\" fontname=\"sans-serif\" image=\"data:image/svg+xml;base64,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\" shape=rect style=filled]\n",
       "\t}\n",
       "\tsubgraph cluster_139827895803424 {\n",
       "\t\tcolor=\"#FFFFFF\" fillcolor=\"#A2E1DB:#FF9AA2\" label=\"\" margin=5 penwidth=0 style=striped\n",
       "\t\t139827895803424 [label=\"\" color=\"#FFFFFF\" fillcolor=\"#FFFFFF\" fontcolor=\"#000000\" fontname=\"sans-serif\" image=\"data:image/svg+xml;base64,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\" shape=rect style=filled]\n",
       "\t}\n",
       "\tsubgraph cluster_root {\n",
       "\t}\n",
       "\t139818046362720 -> 139818045877840 [label=scale labeldistance=0.5 splines=polyline]\n",
       "\t139818081877296 -> 139818045877840 [label=loc labeldistance=0.5 splines=polyline]\n",
       "\t139818046612864 -> 139818081877296 [label=a labeldistance=0.5 splines=polyline]\n",
       "\t139818046566208 -> 139818046612864 [label=b labeldistance=0.5 splines=polyline]\n",
       "\t139818047162928 -> 139818046612864 [label=x labeldistance=0.5 splines=polyline]\n",
       "\t139827895803424 -> 139818081877296 [label=x labeldistance=0.5 splines=polyline]\n",
       "}`;\n",
       "\n",
       "    let info = {\"edges\": {\"139818046362720-\\u003e139818045877840\": {\"description\": \"hi\"}, \"139818046566208-\\u003e139818046612864\": {\"description\": \"hi\"}, \"139818046612864-\\u003e139818081877296\": {\"description\": \"hi\"}, \"139818047162928-\\u003e139818046612864\": {\"description\": \"hi\"}, \"139818081877296-\\u003e139818045877840\": {\"description\": \"hi\"}, \"139827895803424-\\u003e139818081877296\": {\"description\": \"hi\"}}, \"nodes\": {\"139818045877840\": {\"data\": \"data:image/svg+xml;base64,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\", \"description\": [\"\\u003cspan style=\\u0027font-weight:bold;\\u0027\\u003edist\\u003c/span\\u003e\", \"\", \"[\\u003cspan style=\\u0027color:#A2E1DB;font-weight:bold;\\u0027\\u003ecell\\u003c/span\\u003e, \\u003cspan style=\\u0027color:#F1CDB0;font-weight:bold;\\u0027\\u003egene\\u003c/span\\u003e]\"], \"formula\": \"\\\\mathregular{ dist }\\\\sim\\\\mathregular{Normal}\", \"height\": 23.157186, \"width\": 108.99}, \"139818046362720\": {\"data\": \"data:image/svg+xml;base64,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\", \"description\": [\"\\u003cspan style=\\u0027font-weight:bold;\\u0027\\u003escale\\u003c/span\\u003e\", \"\", \"[]\"], \"formula\": \"\\\\sigma\", \"height\": 23.157186, \"width\": 18.240000000000002}, \"139818046566208\": {\"data\": \"data:image/svg+xml;base64,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\", \"description\": [\"\\u003cspan style=\\u0027font-weight:bold;\\u0027\\u003eintercept\\u003c/span\\u003e\", \"The intercept (also known as bias). Denotes the output when \\u00abx\\u00bb = 0.\", \"[\\u003cspan style=\\u0027color:#FF9AA2;font-weight:bold;\\u0027\\u003ecelltype\\u003c/span\\u003e, \\u003cspan style=\\u0027color:#F1CDB0;font-weight:bold;\\u0027\\u003egene\\u003c/span\\u003e]\"], \"formula\": \"b\", \"height\": 23.157186, \"width\": 18.240000000000002}, \"139818046612864\": {\"data\": \"data:image/svg+xml;base64,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\", \"description\": [\"\\u003cspan style=\\u0027font-weight:bold;\\u0027\\u003ea\\u003c/span\\u003e\", \"\", \"[\\u003cspan style=\\u0027color:#FF9AA2;font-weight:bold;\\u0027\\u003ecelltype\\u003c/span\\u003e, \\u003cspan style=\\u0027color:#F1CDB0;font-weight:bold;\\u0027\\u003egene\\u003c/span\\u003e]\"], \"formula\": \"a \\\\;=\\\\;b + \\\\mathregular{ baseline }\", \"height\": 23.157186, \"width\": 135.24}, \"139818047162928\": {\"data\": \"data:image/svg+xml;base64,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\", \"description\": [\"\\u003cspan style=\\u0027font-weight:bold;\\u0027\\u003ebaseline\\u003c/span\\u003e\", \"The input.\", \"[\\u003cspan style=\\u0027color:#FF9AA2;font-weight:bold;\\u0027\\u003ecelltype\\u003c/span\\u003e, \\u003cspan style=\\u0027color:#F1CDB0;font-weight:bold;\\u0027\\u003egene\\u003c/span\\u003e]\"], \"formula\": \"\\\\mathregular{ baseline }\", \"height\": 23.157186, \"width\": 71.49}, \"139818081877296\": {\"data\": \"data:image/svg+xml;base64,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\", \"description\": [\"\\u003cspan style=\\u0027font-weight:bold;\\u0027\\u003eexpression\\u003c/span\\u003e\", \"\", \"[\\u003cspan style=\\u0027color:#A2E1DB;font-weight:bold;\\u0027\\u003ecell\\u003c/span\\u003e, \\u003cspan style=\\u0027color:#F1CDB0;font-weight:bold;\\u0027\\u003egene\\u003c/span\\u003e]\"], \"formula\": \"\\\\mathregular{ expression } \\\\;=\\\\;a \\\\cdot \\\\mathregular{ proportions }\", \"height\": 23.19, \"width\": 222.84}, \"139827895803424\": {\"data\": \"data:image/svg+xml;base64,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\", \"description\": [\"\\u003cspan style=\\u0027font-weight:bold;\\u0027\\u003eproportions\\u003c/span\\u003e\", \"\", \"[\\u003cspan style=\\u0027color:#A2E1DB;font-weight:bold;\\u0027\\u003ecell\\u003c/span\\u003e, \\u003cspan style=\\u0027color:#FF9AA2;font-weight:bold;\\u0027\\u003ecelltype\\u003c/span\\u003e]\"], \"formula\": \"\\\\mathregular{ proportions }\", \"height\": 23.19, \"width\": 95.03999999999999}}};\n",
       "\n",
       "\n",
       "    define(\"laplotgraph994\", ['d3-selection', '@hpcc-js/wasm', 'graphviz', \"@popperjs/core\", 'tippy'], function (d3, wasm, graphviz, Popper, tippy) {\n",
       "            wasm.wasmFolder(\"https://cdn.jsdelivr.net/npm/@hpcc-js/wasm/dist/\");\n",
       "        var update = function (graphviz, node_info, edge_info, diviz) {\n",
       "            data_info = diviz.attr(\"data-info\")\n",
       "\n",
       "            // edges\n",
       "            var node_edges = {}\n",
       "            selection = diviz.selectAll(\".edge\")\n",
       "            selection.each(function (p, j) {\n",
       "                var edge = d3.select(this)\n",
       "                var data = edge.datum()\n",
       "                var text = edge.select(\"text\")\n",
       "                var path = edge.select(\"path\")\n",
       "\n",
       "                var text2 = text.clone().text(text.text())\n",
       "                text.style(\"stroke\", \"#FFFFFF77\").style(\"stroke-width\", \"0.6em\")\n",
       "\n",
       "                // add tooltip\n",
       "                if (edge_info[data.key] !== undefined) {\n",
       "                    info = edge_info[data.key]\n",
       "\n",
       "                    tippy(text.node(), { content: info.description });\n",
       "                }\n",
       "\n",
       "                text.style(\"visibility\", \"hidden\")\n",
       "                text2.style(\"visibility\", \"hidden\")\n",
       "\n",
       "                // Add to node_edges for showing edge labels on hover over node\n",
       "                node_id = data.key.split(\"->\")[1]\n",
       "                if (node_edges[node_id] === undefined) {\n",
       "                    node_edges[node_id] = []\n",
       "                }\n",
       "                node_edges[node_id].push(text)\n",
       "                node_edges[node_id].push(text2)\n",
       "            });\n",
       "\n",
       "            // nodes\n",
       "            selection = diviz.selectAll(\".node\")\n",
       "            selection.each(function (p, j) {\n",
       "                var node = d3.select(this)\n",
       "                var data = node.datum()\n",
       "                var node_id = data.key\n",
       "\n",
       "                // add tooltip\n",
       "                if (node_info[node_id] !== undefined) {\n",
       "                    info = node_info[node_id]\n",
       "\n",
       "                    description = info.description.join(\"<br>\")\n",
       "\n",
       "                    if (info.description !== undefined) {\n",
       "                        tippy(this, { content: description, placement: \"bottom\", allowHTML: true,});\n",
       "                    }\n",
       "                }\n",
       "\n",
       "                // add edges mouseover\n",
       "\n",
       "                node.on(\"mouseover\", () => {\n",
       "                    if (node_edges[node_id] !== undefined) {\n",
       "                        node_edges[node_id].forEach(function(element) {\n",
       "                            element.style(\"visibility\", \"visible\")\n",
       "                        })\n",
       "                    }\n",
       "                })\n",
       "                node.on(\"mouseout\", () => {\n",
       "                    if (node_edges[node_id] !== undefined) {\n",
       "                        node_edges[node_id].forEach(function(element) {\n",
       "                            element.style(\"visibility\", \"hidden\")\n",
       "                        })\n",
       "                    }\n",
       "                })\n",
       "\n",
       "                // reset title\n",
       "                node.attr(\"title\", null)\n",
       "            });\n",
       "        }\n",
       "\n",
       "        var main = function (selector, info, source) {\n",
       "            let node_info = info[\"nodes\"]\n",
       "            let edge_info = info[\"edges\"]\n",
       "\n",
       "            window.d3_initialized = true\n",
       "            let diviz = d3.select(selector)\n",
       "\n",
       "            // create graphviz\n",
       "            let graphviz = diviz.graphviz({ zoom: false }).fit(false)\n",
       "\n",
       "            // add images\n",
       "            console.log(info)\n",
       "            Object.entries(node_info).forEach(([key, value], index) => {\n",
       "                graphviz.addImage(value.data, value.width, value.height)\n",
       "            });\n",
       "\n",
       "            // render image\n",
       "            graphviz.renderDot(source).on(\"end\", function () {\n",
       "            update(graphviz, node_info, edge_info, diviz)\n",
       "\n",
       "            scale = 3/3\n",
       "            svg = diviz.select(\"svg\")\n",
       "            svg.style(\"width\", parseInt(svg.attr(\"width\")) * scale)\n",
       "            svg.style(\"height\", parseInt(svg.attr(\"height\")) * scale)\n",
       "            });\n",
       "\n",
       "            delete graphviz\n",
       "\n",
       "        }\n",
       "\n",
       "        return {\n",
       "            main: main\n",
       "        };\n",
       "        });\n",
       "\n",
       "        require(['laplotgraph994'], function (laplot) {\n",
       "            laplot.main(\n",
       "            \"#graph994\",\n",
       "            info,\n",
       "            source\n",
       "            )\n",
       "        })\n",
       "    }\n",
       "\n",
       "    // Add script tag for requirejs\n",
       "    // If script tag not present => first add it\n",
       "    // If script tag already present => add to event listener to load the graph\n",
       "    // If already loaded => just load the graph\n",
       "\n",
       "    var lib = 'https://cdnjs.cloudflare.com/ajax/libs/require.js/2.3.6/require.js';\n",
       "\n",
       "    if (!isLoadedScript(lib)) {\n",
       "        loadScript(lib);\n",
       "    }\n",
       "\n",
       "    // Detect if library loaded\n",
       "    function isLoadedScript(lib) {\n",
       "        return document.querySelectorAll('[src=\"' + lib + '\"]').length > 0\n",
       "    }\n",
       "\n",
       "    // Load library\n",
       "    function loadScript(lib) {\n",
       "        var script = document.createElement('script');\n",
       "        script.setAttribute('src', lib);\n",
       "        document.getElementById('graph994').appendChild(script);\n",
       "        return script;\n",
       "    }\n",
       "\n",
       "    // Add listener\n",
       "    function listenScript(lib, callback){\n",
       "        script = document.querySelectorAll('[src=\"' + lib + '\"]')[0]\n",
       "        script.addEventListener('load', function() {\n",
       "            callback();\n",
       "        });\n",
       "    }\n",
       "\n",
       "    // Determine whether to listen or directly load\n",
       "    if( typeof require === 'undefined' || require === null ){\n",
       "        console.log(\"listening\")\n",
       "        listenScript(lib, loadgraph994)\n",
       "    } else {\n",
       "        console.log(require)\n",
       "        console.log(\"loading\")\n",
       "        loadgraph994();\n",
       "    }\n",
       "\n",
       "\n",
       "</script>"
      ],
      "text/plain": [
       "<IPython.core.display.HTML object>"
      ]
     },
     "metadata": {},
     "output_type": "display_data"
    },
    {
     "data": {
      "text/plain": [
       "<latenta.introspect.viz.component_graph.ComponentGraph at 0x7f29ecf52850>"
      ]
     },
     "execution_count": 26,
     "metadata": {},
     "output_type": "execute_result"
    }
   ],
   "source": [
    "dist.plot()"
   ]
  },
  {
   "cell_type": "code",
   "execution_count": 27,
   "id": "7cb19c3e-e0ad-496b-a443-14a549366a45",
   "metadata": {
    "execution": {
     "iopub.execute_input": "2021-10-05T15:39:15.503131Z",
     "iopub.status.busy": "2021-10-05T15:39:15.502694Z",
     "iopub.status.idle": "2021-10-05T15:39:15.537236Z",
     "shell.execute_reply": "2021-10-05T15:39:15.535979Z"
    },
    "lines_to_next_cell": 2
   },
   "outputs": [
    {
     "data": {
      "application/vnd.jupyter.widget-view+json": {
       "model_id": "8ae1f1bddd414a5c92254f667d34ceef",
       "version_major": 2,
       "version_minor": 0
      },
      "text/plain": [
       "  0%|          | 0/1 [00:00<?, ?it/s]"
      ]
     },
     "metadata": {},
     "output_type": "display_data"
    }
   ],
   "source": [
    "posterior = la.posterior.Posterior(dist)\n",
    "posterior.sample(1)"
   ]
  },
  {
   "cell_type": "code",
   "execution_count": 28,
   "id": "f6001059-8189-486b-b903-f6bbb9d0a323",
   "metadata": {
    "execution": {
     "iopub.execute_input": "2021-10-05T15:39:15.540065Z",
     "iopub.status.busy": "2021-10-05T15:39:15.539622Z",
     "iopub.status.idle": "2021-10-05T15:39:15.760815Z",
     "shell.execute_reply": "2021-10-05T15:39:15.760609Z"
    }
   },
   "outputs": [
    {
     "data": {
      "text/plain": [
       "<AxesSubplot:xlabel='gene', ylabel='cell'>"
      ]
     },
     "execution_count": 28,
     "metadata": {},
     "output_type": "execute_result"
    },
    {
     "data": {
      "image/png": "[encoded data removed]",
      "text/plain": [
       "<Figure size 360x360 with 2 Axes>"
      ]
     },
     "metadata": {
      "needs_background": "light"
     },
     "output_type": "display_data"
    }
   ],
   "source": [
    "observation_value = posterior.samples[dist].sel(sample=0).to_pandas()\n",
    "fig, (ax0) = plt.subplots(1, 1, figsize=(5, 5))\n",
    "cell_order = proportions_value[celltype_ids[0]].sort_values().index\n",
    "sns.heatmap(observation_value.loc[cell_order], ax=ax0)"
   ]
  },
  {
   "cell_type": "code",
   "execution_count": 29,
   "id": "faeafb74-77a5-447e-9ea3-dff5a916deff",
   "metadata": {
    "execution": {
     "iopub.execute_input": "2021-10-05T15:39:15.763671Z",
     "iopub.status.busy": "2021-10-05T15:39:15.761978Z",
     "iopub.status.idle": "2021-10-05T15:39:16.051822Z",
     "shell.execute_reply": "2021-10-05T15:39:16.051407Z"
    }
   },
   "outputs": [
    {
     "name": "stdout",
     "output_type": "stream",
     "text": [
      "G0\n",
      "celltype\n",
      "Cta    0.000000\n",
      "Ctb   -2.894652\n",
      "Name: G0, dtype: float32\n",
      "G1\n",
      "celltype\n",
      "Cta    3.28817\n",
      "Ctb    0.00000\n",
      "Name: G1, dtype: float32\n",
      "G2\n",
      "celltype\n",
      "Cta    0.00000\n",
      "Ctb    3.92093\n",
      "Name: G2, dtype: float32\n",
      "G3\n",
      "celltype\n",
      "Cta    0.0\n",
      "Ctb    0.0\n",
      "Name: G3, dtype: float32\n",
      "G4\n",
      "celltype\n",
      "Cta   -4.427698\n",
      "Ctb    0.000000\n",
      "Name: G4, dtype: float32\n"
     ]
    },
    {
     "data": {
      "image/png": "[encoded data removed]",
      "text/plain": [
       "<Figure size 1296x144 with 5 Axes>"
      ]
     },
     "metadata": {
      "needs_background": "light"
     },
     "output_type": "display_data"
    }
   ],
   "source": [
    "gene_ids_oi = genes.coords[:5]\n",
    "\n",
    "fig, axes = la.plotting.axes_wrap(len(gene_ids_oi))\n",
    "\n",
    "for gene_id, ax in zip(gene_ids_oi, axes):\n",
    "    print(gene_id, )\n",
    "    print(baseline_modifier.prior_pd()[gene_id])\n",
    "    sns.scatterplot(\n",
    "        x = proportions_value.loc[cell_order, celltype_ids[0]],\n",
    "        y = observation_value.loc[cell_order][gene_id],\n",
    "        ax = ax\n",
    "    )\n",
    "    for celltype in celltype_ids:\n",
    "        ax.axhline(baseline_expression_value.loc[celltype, gene_id])"
   ]
  },
  {
   "cell_type": "code",
   "execution_count": null,
   "id": "dc2d64b2-041d-4682-a6cd-b202a95a7ed5",
   "metadata": {},
   "outputs": [],
   "source": []
  }
 ],
 "metadata": {
  "kernelspec": {
   "display_name": "Python 3 (ipykernel)",
   "language": "python",
   "name": "python3"
  },
  "language_info": {
   "codemirror_mode": {
    "name": "ipython",
    "version": 3
   },
   "file_extension": ".py",
   "mimetype": "text/x-python",
   "name": "python",
   "nbconvert_exporter": "python",
   "pygments_lexer": "ipython3",
   "version": "3.8.10"
  },
  "widgets": {
   "application/vnd.jupyter.widget-state+json": {
    "state": {
     "0bdada2f87de467382469c414f6e3846": {
      "model_module": "@jupyter-widgets/base",
      "model_module_version": "1.2.0",
      "model_name": "LayoutModel",
      "state": {
       "_model_module": "@jupyter-widgets/base",
       "_model_module_version": "1.2.0",
       "_model_name": "LayoutModel",
       "_view_count": null,
       "_view_module": "@jupyter-widgets/base",
       "_view_module_version": "1.2.0",
       "_view_name": "LayoutView",
       "align_content": null,
       "align_items": null,
       "align_self": null,
       "border": null,
       "bottom": null,
       "display": null,
       "flex": null,
       "flex_flow": null,
       "grid_area": null,
       "grid_auto_columns": null,
       "grid_auto_flow": null,
       "grid_auto_rows": null,
       "grid_column": null,
       "grid_gap": null,
       "grid_row": null,
       "grid_template_areas": null,
       "grid_template_columns": null,
       "grid_template_rows": null,
       "height": null,
       "justify_content": null,
       "justify_items": null,
       "left": null,
       "margin": null,
       "max_height": null,
       "max_width": null,
       "min_height": null,
       "min_width": null,
       "object_fit": null,
       "object_position": null,
       "order": null,
       "overflow": null,
       "overflow_x": null,
       "overflow_y": null,
       "padding": null,
       "right": null,
       "top": null,
       "visibility": null,
       "width": null
      }
     },
     "1952b03b8f254c6b870d4a32b30faadb": {
      "model_module": "@jupyter-widgets/base",
      "model_module_version": "1.2.0",
      "model_name": "LayoutModel",
      "state": {
       "_model_module": "@jupyter-widgets/base",
       "_model_module_version": "1.2.0",
       "_model_name": "LayoutModel",
       "_view_count": null,
       "_view_module": "@jupyter-widgets/base",
       "_view_module_version": "1.2.0",
       "_view_name": "LayoutView",
       "align_content": null,
       "align_items": null,
       "align_self": null,
       "border": null,
       "bottom": null,
       "display": null,
       "flex": null,
       "flex_flow": null,
       "grid_area": null,
       "grid_auto_columns": null,
       "grid_auto_flow": null,
       "grid_auto_rows": null,
       "grid_column": null,
       "grid_gap": null,
       "grid_row": null,
       "grid_template_areas": null,
       "grid_template_columns": null,
       "grid_template_rows": null,
       "height": null,
       "justify_content": null,
       "justify_items": null,
       "left": null,
       "margin": null,
       "max_height": null,
       "max_width": null,
       "min_height": null,
       "min_width": null,
       "object_fit": null,
       "object_position": null,
       "order": null,
       "overflow": null,
       "overflow_x": null,
       "overflow_y": null,
       "padding": null,
       "right": null,
       "top": null,
       "visibility": null,
       "width": null
      }
     },
     "1f6c847c1ab74cc88230402e5a73143a": {
      "model_module": "@jupyter-widgets/controls",
      "model_module_version": "1.5.0",
      "model_name": "HTMLModel",
      "state": {
       "_dom_classes": [],
       "_model_module": "@jupyter-widgets/controls",
       "_model_module_version": "1.5.0",
       "_model_name": "HTMLModel",
       "_view_count": null,
       "_view_module": "@jupyter-widgets/controls",
       "_view_module_version": "1.5.0",
       "_view_name": "HTMLView",
       "description": "",
       "description_tooltip": null,
       "layout": "IPY_MODEL_310d08c7314a45839721bdd725b38603",
       "placeholder": "​",
       "style": "IPY_MODEL_84c1583fc89c432aa57e68035070ba82",
       "value": " 1/1 [00:00&lt;00:00, 81.84it/s]"
      }
     },
     "23771fdee53f4ca0bc6d674073b19fa8": {
      "model_module": "@jupyter-widgets/controls",
      "model_module_version": "1.5.0",
      "model_name": "ProgressStyleModel",
      "state": {
       "_model_module": "@jupyter-widgets/controls",
       "_model_module_version": "1.5.0",
       "_model_name": "ProgressStyleModel",
       "_view_count": null,
       "_view_module": "@jupyter-widgets/base",
       "_view_module_version": "1.2.0",
       "_view_name": "StyleView",
       "bar_color": null,
       "description_width": ""
      }
     },
     "310d08c7314a45839721bdd725b38603": {
      "model_module": "@jupyter-widgets/base",
      "model_module_version": "1.2.0",
      "model_name": "LayoutModel",
      "state": {
       "_model_module": "@jupyter-widgets/base",
       "_model_module_version": "1.2.0",
       "_model_name": "LayoutModel",
       "_view_count": null,
       "_view_module": "@jupyter-widgets/base",
       "_view_module_version": "1.2.0",
       "_view_name": "LayoutView",
       "align_content": null,
       "align_items": null,
       "align_self": null,
       "border": null,
       "bottom": null,
       "display": null,
       "flex": null,
       "flex_flow": null,
       "grid_area": null,
       "grid_auto_columns": null,
       "grid_auto_flow": null,
       "grid_auto_rows": null,
       "grid_column": null,
       "grid_gap": null,
       "grid_row": null,
       "grid_template_areas": null,
       "grid_template_columns": null,
       "grid_template_rows": null,
       "height": null,
       "justify_content": null,
       "justify_items": null,
       "left": null,
       "margin": null,
       "max_height": null,
       "max_width": null,
       "min_height": null,
       "min_width": null,
       "object_fit": null,
       "object_position": null,
       "order": null,
       "overflow": null,
       "overflow_x": null,
       "overflow_y": null,
       "padding": null,
       "right": null,
       "top": null,
       "visibility": null,
       "width": null
      }
     },
     "3f2153864f064c358587e582cd831f1c": {
      "model_module": "@jupyter-widgets/controls",
      "model_module_version": "1.5.0",
      "model_name": "HBoxModel",
      "state": {
       "_dom_classes": [],
       "_model_module": "@jupyter-widgets/controls",
       "_model_module_version": "1.5.0",
       "_model_name": "HBoxModel",
       "_view_count": null,
       "_view_module": "@jupyter-widgets/controls",
       "_view_module_version": "1.5.0",
       "_view_name": "HBoxView",
       "box_style": "",
       "children": [
        "IPY_MODEL_460381ebf3824d7994508caacf553a1a",
        "IPY_MODEL_40bf45c46a094cd3951f15f6a6034593",
        "IPY_MODEL_4003fa559c084b0096bc29932bcbe1b7"
       ],
       "layout": "IPY_MODEL_f6c9fa104e554d4a83dad584150c45bf"
      }
     },
     "4003fa559c084b0096bc29932bcbe1b7": {
      "model_module": "@jupyter-widgets/controls",
      "model_module_version": "1.5.0",
      "model_name": "HTMLModel",
      "state": {
       "_dom_classes": [],
       "_model_module": "@jupyter-widgets/controls",
       "_model_module_version": "1.5.0",
       "_model_name": "HTMLModel",
       "_view_count": null,
       "_view_module": "@jupyter-widgets/controls",
       "_view_module_version": "1.5.0",
       "_view_name": "HTMLView",
       "description": "",
       "description_tooltip": null,
       "layout": "IPY_MODEL_0bdada2f87de467382469c414f6e3846",
       "placeholder": "​",
       "style": "IPY_MODEL_e1003fd62f5c430dab035f29be85fdf1",
       "value": " 1/1 [00:00&lt;00:00, 80.26it/s]"
      }
     },
     "40bf45c46a094cd3951f15f6a6034593": {
      "model_module": "@jupyter-widgets/controls",
      "model_module_version": "1.5.0",
      "model_name": "FloatProgressModel",
      "state": {
       "_dom_classes": [],
       "_model_module": "@jupyter-widgets/controls",
       "_model_module_version": "1.5.0",
       "_model_name": "FloatProgressModel",
       "_view_count": null,
       "_view_module": "@jupyter-widgets/controls",
       "_view_module_version": "1.5.0",
       "_view_name": "ProgressView",
       "bar_style": "success",
       "description": "",
       "description_tooltip": null,
       "layout": "IPY_MODEL_1952b03b8f254c6b870d4a32b30faadb",
       "max": 1.0,
       "min": 0.0,
       "orientation": "horizontal",
       "style": "IPY_MODEL_75eae8b56a424ade856a70f146e4c3d2",
       "value": 1.0
      }
     },
     "4517a57e33164cedb83099dc8c1e4f50": {
      "model_module": "@jupyter-widgets/controls",
      "model_module_version": "1.5.0",
      "model_name": "FloatProgressModel",
      "state": {
       "_dom_classes": [],
       "_model_module": "@jupyter-widgets/controls",
       "_model_module_version": "1.5.0",
       "_model_name": "FloatProgressModel",
       "_view_count": null,
       "_view_module": "@jupyter-widgets/controls",
       "_view_module_version": "1.5.0",
       "_view_name": "ProgressView",
       "bar_style": "success",
       "description": "",
       "description_tooltip": null,
       "layout": "IPY_MODEL_476992a164e54f9fa4f07cc5cb358e68",
       "max": 1.0,
       "min": 0.0,
       "orientation": "horizontal",
       "style": "IPY_MODEL_23771fdee53f4ca0bc6d674073b19fa8",
       "value": 1.0
      }
     },
     "460381ebf3824d7994508caacf553a1a": {
      "model_module": "@jupyter-widgets/controls",
      "model_module_version": "1.5.0",
      "model_name": "HTMLModel",
      "state": {
       "_dom_classes": [],
       "_model_module": "@jupyter-widgets/controls",
       "_model_module_version": "1.5.0",
       "_model_name": "HTMLModel",
       "_view_count": null,
       "_view_module": "@jupyter-widgets/controls",
       "_view_module_version": "1.5.0",
       "_view_name": "HTMLView",
       "description": "",
       "description_tooltip": null,
       "layout": "IPY_MODEL_5b5b2a0c32c14498b3ded7429b381e3c",
       "placeholder": "​",
       "style": "IPY_MODEL_4fc316cc621d43388d977c65a3044aa1",
       "value": "100%"
      }
     },
     "476992a164e54f9fa4f07cc5cb358e68": {
      "model_module": "@jupyter-widgets/base",
      "model_module_version": "1.2.0",
      "model_name": "LayoutModel",
      "state": {
       "_model_module": "@jupyter-widgets/base",
       "_model_module_version": "1.2.0",
       "_model_name": "LayoutModel",
       "_view_count": null,
       "_view_module": "@jupyter-widgets/base",
       "_view_module_version": "1.2.0",
       "_view_name": "LayoutView",
       "align_content": null,
       "align_items": null,
       "align_self": null,
       "border": null,
       "bottom": null,
       "display": null,
       "flex": null,
       "flex_flow": null,
       "grid_area": null,
       "grid_auto_columns": null,
       "grid_auto_flow": null,
       "grid_auto_rows": null,
       "grid_column": null,
       "grid_gap": null,
       "grid_row": null,
       "grid_template_areas": null,
       "grid_template_columns": null,
       "grid_template_rows": null,
       "height": null,
       "justify_content": null,
       "justify_items": null,
       "left": null,
       "margin": null,
       "max_height": null,
       "max_width": null,
       "min_height": null,
       "min_width": null,
       "object_fit": null,
       "object_position": null,
       "order": null,
       "overflow": null,
       "overflow_x": null,
       "overflow_y": null,
       "padding": null,
       "right": null,
       "top": null,
       "visibility": null,
       "width": null
      }
     },
     "49a2a5e54f15402e82deb284673eee11": {
      "model_module": "@jupyter-widgets/controls",
      "model_module_version": "1.5.0",
      "model_name": "HTMLModel",
      "state": {
       "_dom_classes": [],
       "_model_module": "@jupyter-widgets/controls",
       "_model_module_version": "1.5.0",
       "_model_name": "HTMLModel",
       "_view_count": null,
       "_view_module": "@jupyter-widgets/controls",
       "_view_module_version": "1.5.0",
       "_view_name": "HTMLView",
       "description": "",
       "description_tooltip": null,
       "layout": "IPY_MODEL_5be145507e4a43c7ae566a3786048c97",
       "placeholder": "​",
       "style": "IPY_MODEL_6431189d022f48e79f16504b38e1a928",
       "value": "100%"
      }
     },
     "4fc316cc621d43388d977c65a3044aa1": {
      "model_module": "@jupyter-widgets/controls",
      "model_module_version": "1.5.0",
      "model_name": "DescriptionStyleModel",
      "state": {
       "_model_module": "@jupyter-widgets/controls",
       "_model_module_version": "1.5.0",
       "_model_name": "DescriptionStyleModel",
       "_view_count": null,
       "_view_module": "@jupyter-widgets/base",
       "_view_module_version": "1.2.0",
       "_view_name": "StyleView",
       "description_width": ""
      }
     },
     "5b5b2a0c32c14498b3ded7429b381e3c": {
      "model_module": "@jupyter-widgets/base",
      "model_module_version": "1.2.0",
      "model_name": "LayoutModel",
      "state": {
       "_model_module": "@jupyter-widgets/base",
       "_model_module_version": "1.2.0",
       "_model_name": "LayoutModel",
       "_view_count": null,
       "_view_module": "@jupyter-widgets/base",
       "_view_module_version": "1.2.0",
       "_view_name": "LayoutView",
       "align_content": null,
       "align_items": null,
       "align_self": null,
       "border": null,
       "bottom": null,
       "display": null,
       "flex": null,
       "flex_flow": null,
       "grid_area": null,
       "grid_auto_columns": null,
       "grid_auto_flow": null,
       "grid_auto_rows": null,
       "grid_column": null,
       "grid_gap": null,
       "grid_row": null,
       "grid_template_areas": null,
       "grid_template_columns": null,
       "grid_template_rows": null,
       "height": null,
       "justify_content": null,
       "justify_items": null,
       "left": null,
       "margin": null,
       "max_height": null,
       "max_width": null,
       "min_height": null,
       "min_width": null,
       "object_fit": null,
       "object_position": null,
       "order": null,
       "overflow": null,
       "overflow_x": null,
       "overflow_y": null,
       "padding": null,
       "right": null,
       "top": null,
       "visibility": null,
       "width": null
      }
     },
     "5be145507e4a43c7ae566a3786048c97": {
      "model_module": "@jupyter-widgets/base",
      "model_module_version": "1.2.0",
      "model_name": "LayoutModel",
      "state": {
       "_model_module": "@jupyter-widgets/base",
       "_model_module_version": "1.2.0",
       "_model_name": "LayoutModel",
       "_view_count": null,
       "_view_module": "@jupyter-widgets/base",
       "_view_module_version": "1.2.0",
       "_view_name": "LayoutView",
       "align_content": null,
       "align_items": null,
       "align_self": null,
       "border": null,
       "bottom": null,
       "display": null,
       "flex": null,
       "flex_flow": null,
       "grid_area": null,
       "grid_auto_columns": null,
       "grid_auto_flow": null,
       "grid_auto_rows": null,
       "grid_column": null,
       "grid_gap": null,
       "grid_row": null,
       "grid_template_areas": null,
       "grid_template_columns": null,
       "grid_template_rows": null,
       "height": null,
       "justify_content": null,
       "justify_items": null,
       "left": null,
       "margin": null,
       "max_height": null,
       "max_width": null,
       "min_height": null,
       "min_width": null,
       "object_fit": null,
       "object_position": null,
       "order": null,
       "overflow": null,
       "overflow_x": null,
       "overflow_y": null,
       "padding": null,
       "right": null,
       "top": null,
       "visibility": null,
       "width": null
      }
     },
     "6431189d022f48e79f16504b38e1a928": {
      "model_module": "@jupyter-widgets/controls",
      "model_module_version": "1.5.0",
      "model_name": "DescriptionStyleModel",
      "state": {
       "_model_module": "@jupyter-widgets/controls",
       "_model_module_version": "1.5.0",
       "_model_name": "DescriptionStyleModel",
       "_view_count": null,
       "_view_module": "@jupyter-widgets/base",
       "_view_module_version": "1.2.0",
       "_view_name": "StyleView",
       "description_width": ""
      }
     },
     "75eae8b56a424ade856a70f146e4c3d2": {
      "model_module": "@jupyter-widgets/controls",
      "model_module_version": "1.5.0",
      "model_name": "ProgressStyleModel",
      "state": {
       "_model_module": "@jupyter-widgets/controls",
       "_model_module_version": "1.5.0",
       "_model_name": "ProgressStyleModel",
       "_view_count": null,
       "_view_module": "@jupyter-widgets/base",
       "_view_module_version": "1.2.0",
       "_view_name": "StyleView",
       "bar_color": null,
       "description_width": ""
      }
     },
     "78f924bd056a4fbba0ab981ab127a05a": {
      "model_module": "@jupyter-widgets/base",
      "model_module_version": "1.2.0",
      "model_name": "LayoutModel",
      "state": {
       "_model_module": "@jupyter-widgets/base",
       "_model_module_version": "1.2.0",
       "_model_name": "LayoutModel",
       "_view_count": null,
       "_view_module": "@jupyter-widgets/base",
       "_view_module_version": "1.2.0",
       "_view_name": "LayoutView",
       "align_content": null,
       "align_items": null,
       "align_self": null,
       "border": null,
       "bottom": null,
       "display": null,
       "flex": null,
       "flex_flow": null,
       "grid_area": null,
       "grid_auto_columns": null,
       "grid_auto_flow": null,
       "grid_auto_rows": null,
       "grid_column": null,
       "grid_gap": null,
       "grid_row": null,
       "grid_template_areas": null,
       "grid_template_columns": null,
       "grid_template_rows": null,
       "height": null,
       "justify_content": null,
       "justify_items": null,
       "left": null,
       "margin": null,
       "max_height": null,
       "max_width": null,
       "min_height": null,
       "min_width": null,
       "object_fit": null,
       "object_position": null,
       "order": null,
       "overflow": null,
       "overflow_x": null,
       "overflow_y": null,
       "padding": null,
       "right": null,
       "top": null,
       "visibility": null,
       "width": null
      }
     },
     "84c1583fc89c432aa57e68035070ba82": {
      "model_module": "@jupyter-widgets/controls",
      "model_module_version": "1.5.0",
      "model_name": "DescriptionStyleModel",
      "state": {
       "_model_module": "@jupyter-widgets/controls",
       "_model_module_version": "1.5.0",
       "_model_name": "DescriptionStyleModel",
       "_view_count": null,
       "_view_module": "@jupyter-widgets/base",
       "_view_module_version": "1.2.0",
       "_view_name": "StyleView",
       "description_width": ""
      }
     },
     "8ae1f1bddd414a5c92254f667d34ceef": {
      "model_module": "@jupyter-widgets/controls",
      "model_module_version": "1.5.0",
      "model_name": "HBoxModel",
      "state": {
       "_dom_classes": [],
       "_model_module": "@jupyter-widgets/controls",
       "_model_module_version": "1.5.0",
       "_model_name": "HBoxModel",
       "_view_count": null,
       "_view_module": "@jupyter-widgets/controls",
       "_view_module_version": "1.5.0",
       "_view_name": "HBoxView",
       "box_style": "",
       "children": [
        "IPY_MODEL_49a2a5e54f15402e82deb284673eee11",
        "IPY_MODEL_4517a57e33164cedb83099dc8c1e4f50",
        "IPY_MODEL_1f6c847c1ab74cc88230402e5a73143a"
       ],
       "layout": "IPY_MODEL_78f924bd056a4fbba0ab981ab127a05a"
      }
     },
     "e1003fd62f5c430dab035f29be85fdf1": {
      "model_module": "@jupyter-widgets/controls",
      "model_module_version": "1.5.0",
      "model_name": "DescriptionStyleModel",
      "state": {
       "_model_module": "@jupyter-widgets/controls",
       "_model_module_version": "1.5.0",
       "_model_name": "DescriptionStyleModel",
       "_view_count": null,
       "_view_module": "@jupyter-widgets/base",
       "_view_module_version": "1.2.0",
       "_view_name": "StyleView",
       "description_width": ""
      }
     },
     "f6c9fa104e554d4a83dad584150c45bf": {
      "model_module": "@jupyter-widgets/base",
      "model_module_version": "1.2.0",
      "model_name": "LayoutModel",
      "state": {
       "_model_module": "@jupyter-widgets/base",
       "_model_module_version": "1.2.0",
       "_model_name": "LayoutModel",
       "_view_count": null,
       "_view_module": "@jupyter-widgets/base",
       "_view_module_version": "1.2.0",
       "_view_name": "LayoutView",
       "align_content": null,
       "align_items": null,
       "align_self": null,
       "border": null,
       "bottom": null,
       "display": null,
       "flex": null,
       "flex_flow": null,
       "grid_area": null,
       "grid_auto_columns": null,
       "grid_auto_flow": null,
       "grid_auto_rows": null,
       "grid_column": null,
       "grid_gap": null,
       "grid_row": null,
       "grid_template_areas": null,
       "grid_template_columns": null,
       "grid_template_rows": null,
       "height": null,
       "justify_content": null,
       "justify_items": null,
       "left": null,
       "margin": null,
       "max_height": null,
       "max_width": null,
       "min_height": null,
       "min_width": null,
       "object_fit": null,
       "object_position": null,
       "order": null,
       "overflow": null,
       "overflow_x": null,
       "overflow_y": null,
       "padding": null,
       "right": null,
       "top": null,
       "visibility": null,
       "width": null
      }
     }
    },
    "version_major": 2,
    "version_minor": 0
   }
  }
 },
 "nbformat": 4,
 "nbformat_minor": 5
}
