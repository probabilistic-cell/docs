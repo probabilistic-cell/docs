{
 "cells": [
  {
   "cell_type": "markdown",
   "id": "9d50aa3d",
   "metadata": {},
   "source": [
    "# Leaf variables"
   ]
  },
  {
   "cell_type": "code",
   "execution_count": 100,
   "id": "52b5154a",
   "metadata": {},
   "outputs": [
    {
     "name": "stdout",
     "output_type": "stream",
     "text": [
      "The autoreload extension is already loaded. To reload it, use:\n",
      "  %reload_ext autoreload\n"
     ]
    }
   ],
   "source": [
    "from IPython import get_ipython\n",
    "\n",
    "if get_ipython():\n",
    "    get_ipython().run_line_magic(\"load_ext\", \"autoreload\")\n",
    "    get_ipython().run_line_magic(\"autoreload\", \"2\")\n",
    "\n",
    "import latenta as la\n",
    "import scanpy as sc\n",
    "import numpy as np\n",
    "import pandas as pd\n",
    "import seaborn as sns\n",
    "import scipy\n",
    "import torch"
   ]
  },
  {
   "cell_type": "code",
   "execution_count": 101,
   "id": "77abc9a4",
   "metadata": {},
   "outputs": [],
   "source": [
    "cells = la.Dim(10000, \"cell\")\n",
    "genes = la.Dim(1000, \"gene\")\n",
    "definition = la.Definition([cells, genes])"
   ]
  },
  {
   "cell_type": "code",
   "execution_count": 106,
   "id": "ab3d149c-b56e-4801-8b71-6c59239cfdfa",
   "metadata": {},
   "outputs": [],
   "source": [
    "import tempfile"
   ]
  },
  {
   "cell_type": "code",
   "execution_count": 116,
   "id": "7d317774-766b-44e3-bb85-43777fbd40dd",
   "metadata": {},
   "outputs": [],
   "source": [
    "tmpdir = tempfile.TemporaryDirectory().name\n",
    "pathlib.Path(tmpdir).mkdir()"
   ]
  },
  {
   "cell_type": "code",
   "execution_count": 121,
   "id": "a3c855cb-b0ca-4b83-9099-40eaf89b6395",
   "metadata": {},
   "outputs": [
    {
     "data": {
      "text/plain": [
       "3.2922792434692383"
      ]
     },
     "execution_count": 121,
     "metadata": {},
     "output_type": "execute_result"
    }
   ],
   "source": [
    "filesize"
   ]
  },
  {
   "cell_type": "markdown",
   "id": "b8cb6e76",
   "metadata": {},
   "source": [
    "## Loaders"
   ]
  },
  {
   "cell_type": "code",
   "execution_count": 102,
   "id": "1b3bb1e0",
   "metadata": {},
   "outputs": [],
   "source": [
    "value = np.zeros(definition.shape)\n",
    "for i in range(value.shape[0]):\n",
    "    value[i, np.random.choice(value.shape[1])] = 1.0"
   ]
  },
  {
   "cell_type": "code",
   "execution_count": 103,
   "id": "72611a81",
   "metadata": {},
   "outputs": [
    {
     "data": {
      "text/plain": [
       "10000.0"
      ]
     },
     "execution_count": 103,
     "metadata": {},
     "output_type": "execute_result"
    }
   ],
   "source": [
    "value.sum()"
   ]
  },
  {
   "cell_type": "markdown",
   "id": "d9c9764a",
   "metadata": {},
   "source": [
    "### Memory loader"
   ]
  },
  {
   "cell_type": "code",
   "execution_count": 87,
   "id": "d18cf353",
   "metadata": {},
   "outputs": [],
   "source": [
    "loader = la.loaders.MemoryLoader(value)\n",
    "fixed = la.Fixed(loader, definition=la.Definition([cells, genes]))"
   ]
  },
  {
   "cell_type": "markdown",
   "id": "65b641a1",
   "metadata": {},
   "source": [
    "### Sparse loader"
   ]
  },
  {
   "cell_type": "code",
   "execution_count": 88,
   "id": "c1b52222",
   "metadata": {
    "tags": [
     "hide-input"
    ]
   },
   "outputs": [],
   "source": [
    "import sys\n",
    "from types import ModuleType, FunctionType\n",
    "from gc import get_referents\n",
    "\n",
    "# Custom objects know their class.\n",
    "# Function objects seem to know way too much, including modules.\n",
    "# Exclude modules as well.\n",
    "BLACKLIST = type, ModuleType, FunctionType\n",
    "\n",
    "\n",
    "def getsize(obj):\n",
    "    \"\"\"sum size of object & members.\"\"\"\n",
    "    if isinstance(obj, BLACKLIST):\n",
    "        raise TypeError(\"getsize() does not take argument of type: \" + str(type(obj)))\n",
    "    seen_ids = set()\n",
    "    size = 0\n",
    "    objects = [obj]\n",
    "    while objects:\n",
    "        need_referents = []\n",
    "        for obj in objects:\n",
    "            if not isinstance(obj, BLACKLIST) and id(obj) not in seen_ids:\n",
    "                seen_ids.add(id(obj))\n",
    "                size += sys.getsizeof(obj)\n",
    "                need_referents.append(obj)\n",
    "            if torch.is_tensor(obj):\n",
    "                size += obj.element_size() * obj.nelement()\n",
    "        objects = get_referents(*need_referents)\n",
    "    return size"
   ]
  },
  {
   "cell_type": "markdown",
   "id": "eef66898",
   "metadata": {},
   "source": [
    "Obviously, a large difference in memory usage."
   ]
  },
  {
   "cell_type": "code",
   "execution_count": 89,
   "id": "8e05bc1f",
   "metadata": {},
   "outputs": [
    {
     "data": {
      "text/plain": [
       "3814.6980419158936"
      ]
     },
     "execution_count": 89,
     "metadata": {},
     "output_type": "execute_result"
    }
   ],
   "source": [
    "getsize(loader) / 1024**2"
   ]
  },
  {
   "cell_type": "markdown",
   "id": "5358243a",
   "metadata": {},
   "source": [
    "Using 3GB (or more) on current GPUs would be prohibitive."
   ]
  },
  {
   "cell_type": "code",
   "execution_count": 90,
   "id": "6128119b",
   "metadata": {},
   "outputs": [],
   "source": [
    "sparse = la.sparse.COOMatrix.from_numpy_array(value)\n",
    "loader_sparse = la.loaders.SparseMemoryLoader(\n",
    "    sparse\n",
    ")\n",
    "fixed_sparse = la.Fixed(loader_sparse, definition=la.Definition([cells, genes]))"
   ]
  },
  {
   "cell_type": "code",
   "execution_count": 91,
   "id": "5528b98b-5d05-4ed9-9149-703eb9f78d02",
   "metadata": {},
   "outputs": [],
   "source": [
    "loader_sparse.initialize(fixed_sparse)"
   ]
  },
  {
   "cell_type": "code",
   "execution_count": 40,
   "id": "1ef912de",
   "metadata": {},
   "outputs": [
    {
     "data": {
      "text/plain": [
       "17.58980369567871"
      ]
     },
     "execution_count": 40,
     "metadata": {},
     "output_type": "execute_result"
    }
   ],
   "source": [
    "getsize(loader_sparse) / 1024**2"
   ]
  },
  {
   "cell_type": "markdown",
   "id": "b898d75f",
   "metadata": {},
   "source": [
    "#### Initialization"
   ]
  },
  {
   "cell_type": "markdown",
   "id": "241efaa6",
   "metadata": {},
   "source": [
    "There are several ways to initialize the COOMatrix:"
   ]
  },
  {
   "cell_type": "code",
   "execution_count": 41,
   "id": "46e95b2e",
   "metadata": {},
   "outputs": [
    {
     "data": {
      "text/plain": [
       "COOMatrix(row=tensor([    0,     1,     2,  ..., 99997, 99998, 99999]), col=tensor([1931, 3859, 5623,  ...,  525, 5523, 9345]), values=tensor([1., 1., 1.,  ..., 1., 1., 1.], dtype=torch.float64), shape=(100000, 10000), mapping=None)"
      ]
     },
     "execution_count": 41,
     "metadata": {},
     "output_type": "execute_result"
    }
   ],
   "source": [
    "la.sparse.COOMatrix.from_numpy_array(value)"
   ]
  },
  {
   "cell_type": "code",
   "execution_count": 42,
   "id": "7dfcb8dd",
   "metadata": {},
   "outputs": [
    {
     "data": {
      "text/plain": [
       "COOMatrix(row=tensor([    0,     1,     2,  ..., 99997, 99998, 99999]), col=tensor([1931, 3859, 5623,  ...,  525, 5523, 9345]), values=tensor([1., 1., 1.,  ..., 1., 1., 1.], dtype=torch.float64), shape=(100000, 10000), mapping=None)"
      ]
     },
     "execution_count": 42,
     "metadata": {},
     "output_type": "execute_result"
    }
   ],
   "source": [
    "value_scipy_coo = scipy.sparse.coo_matrix(value)\n",
    "la.sparse.COOMatrix.from_scipy_coo(value_scipy_coo)"
   ]
  },
  {
   "cell_type": "code",
   "execution_count": 43,
   "id": "6b8e3e78",
   "metadata": {},
   "outputs": [
    {
     "data": {
      "text/plain": [
       "COOMatrix(row=tensor([    0,     1,     2,  ..., 99997, 99998, 99999]), col=tensor([1931, 3859, 5623,  ...,  525, 5523, 9345]), values=tensor([1., 1., 1.,  ..., 1., 1., 1.], dtype=torch.float64), shape=(100000, 10000), mapping=None)"
      ]
     },
     "execution_count": 43,
     "metadata": {},
     "output_type": "execute_result"
    }
   ],
   "source": [
    "value_scipy_csr = scipy.sparse.csr_matrix(value)\n",
    "la.sparse.COOMatrix.from_scipy_csr(value_scipy_csr)"
   ]
  },
  {
   "cell_type": "markdown",
   "id": "60a4f142",
   "metadata": {},
   "source": [
    "#### Timing"
   ]
  },
  {
   "cell_type": "markdown",
   "id": "afe1aab4",
   "metadata": {},
   "source": [
    "When data is accessed from a SparseMemoryLoader, it is converted to a dense tensor. This can cause a slowdown:"
   ]
  },
  {
   "cell_type": "code",
   "execution_count": 44,
   "id": "045ddf16",
   "metadata": {},
   "outputs": [],
   "source": [
    "import timeit"
   ]
  },
  {
   "cell_type": "code",
   "execution_count": 47,
   "id": "bf97a732",
   "metadata": {},
   "outputs": [
    {
     "data": {
      "text/plain": [
       "3.500143066048622e-06"
      ]
     },
     "execution_count": 47,
     "metadata": {},
     "output_type": "execute_result"
    }
   ],
   "source": [
    "time = timeit.timeit(\"loader.get()\", number=1, globals=globals())\n",
    "time"
   ]
  },
  {
   "cell_type": "code",
   "execution_count": 48,
   "id": "fe882efe",
   "metadata": {},
   "outputs": [
    {
     "data": {
      "text/plain": [
       "0.7765716260764748"
      ]
     },
     "execution_count": 48,
     "metadata": {},
     "output_type": "execute_result"
    }
   ],
   "source": [
    "time = timeit.timeit(\"loader_sparse.get()\", number=1, globals=globals())\n",
    "time"
   ]
  },
  {
   "cell_type": "markdown",
   "id": "da87d8b4",
   "metadata": {},
   "source": [
    "Speed is however much more competitive when taking only a subsample, which is the typical use case anyway when working with large sparse tensors:"
   ]
  },
  {
   "cell_type": "code",
   "execution_count": 52,
   "id": "2ce76a67",
   "metadata": {},
   "outputs": [],
   "source": [
    "idx = {\"cell\": torch.tensor(range(500))}"
   ]
  },
  {
   "cell_type": "code",
   "execution_count": 53,
   "id": "d3c3c494",
   "metadata": {},
   "outputs": [
    {
     "data": {
      "text/plain": [
       "0.001256783027201891"
      ]
     },
     "execution_count": 53,
     "metadata": {},
     "output_type": "execute_result"
    }
   ],
   "source": [
    "time = timeit.timeit(\"loader.get(idx)\", number=1, globals=globals())\n",
    "time"
   ]
  },
  {
   "cell_type": "code",
   "execution_count": 54,
   "id": "4a1b0f12",
   "metadata": {},
   "outputs": [
    {
     "data": {
      "text/plain": [
       "0.0043448100332170725"
      ]
     },
     "execution_count": 54,
     "metadata": {},
     "output_type": "execute_result"
    }
   ],
   "source": [
    "time = timeit.timeit(\"loader_sparse.get(idx)\", number=1, globals=globals())\n",
    "time"
   ]
  },
  {
   "cell_type": "markdown",
   "id": "1f1509f9-4769-4414-abf2-f5ec211ce989",
   "metadata": {},
   "source": [
    "### File loader"
   ]
  },
  {
   "cell_type": "markdown",
   "id": "7a1be2bd-dc47-4ecb-a6c8-40fa8db88fd8",
   "metadata": {},
   "source": [
    "Supply a path to a pickle. The value will not be saved along with the loader"
   ]
  },
  {
   "cell_type": "code",
   "execution_count": 60,
   "id": "5462b1d2-1b1e-4415-99d3-69b96c0ef690",
   "metadata": {},
   "outputs": [],
   "source": [
    "import pickle\n",
    "import tempfile\n",
    "import pathlib\n",
    "import os"
   ]
  },
  {
   "cell_type": "code",
   "execution_count": 61,
   "id": "0ee66cdc-ea50-4570-9caf-32cb378ec9cd",
   "metadata": {},
   "outputs": [],
   "source": [
    "path = pathlib.Path(tempfile.NamedTemporaryFile().name)\n",
    "pickle.dump(value, path.open(\"wb\"))"
   ]
  },
  {
   "cell_type": "code",
   "execution_count": 62,
   "id": "10eaff47-05e0-4e6d-bee4-34151dce9515",
   "metadata": {},
   "outputs": [
    {
     "name": "stdout",
     "output_type": "stream",
     "text": [
      "7629.3946924209595 Mb\n"
     ]
    }
   ],
   "source": [
    "filesize = os.path.getsize(path) / 1024**2\n",
    "print(filesize, \"Mb\")"
   ]
  },
  {
   "cell_type": "code",
   "execution_count": null,
   "id": "8f9b1b96-ceb4-4ba7-a84f-a0f8e00d085e",
   "metadata": {},
   "outputs": [],
   "source": [
    "assert filesize > 1024"
   ]
  },
  {
   "cell_type": "code",
   "execution_count": 63,
   "id": "9adfee2a-85c6-45d3-b29f-a81833601172",
   "metadata": {},
   "outputs": [],
   "source": [
    "fixed = la.Fixed(path, definition = la.Definition([cells, genes]))"
   ]
  },
  {
   "cell_type": "code",
   "execution_count": 64,
   "id": "82560162-c636-4f00-a8c9-958fb67af0ce",
   "metadata": {},
   "outputs": [],
   "source": [
    "fixed_path = pathlib.Path(tempfile.NamedTemporaryFile().name)\n",
    "pickle.dump(fixed, fixed_path.open(\"wb\"))"
   ]
  },
  {
   "cell_type": "code",
   "execution_count": 65,
   "id": "1a201c32-a3cb-4ccd-81ef-16fcb9c5b612",
   "metadata": {},
   "outputs": [
    {
     "name": "stdout",
     "output_type": "stream",
     "text": [
      "2.060612678527832 Mb\n"
     ]
    }
   ],
   "source": [
    "filesize = os.path.getsize(fixed_path) / 1024**2\n",
    "print(filesize, \"Mb\")"
   ]
  },
  {
   "cell_type": "code",
   "execution_count": 67,
   "id": "83beb2b4-73ce-4dbb-9ac4-1c8fea874fd0",
   "metadata": {},
   "outputs": [],
   "source": [
    "assert filesize < 3"
   ]
  },
  {
   "cell_type": "markdown",
   "id": "a35793a3-97cd-440e-a2db-2e9e28fe8445",
   "metadata": {},
   "source": [
    "### Sparse File Loader"
   ]
  },
  {
   "cell_type": "markdown",
   "id": "f08ce682-bcaa-42ed-a9a8-e2e7eb06ab44",
   "metadata": {},
   "source": [
    "Similarly, we can load a sparse matrix from a file. This is especially useful with larger tensors, i.e. over a billion values (e.g. hundred thousands cells and ten thousand genes)"
   ]
  },
  {
   "cell_type": "code",
   "execution_count": 68,
   "id": "4dd1307b-cd00-40d4-a94c-a637bc41a09b",
   "metadata": {},
   "outputs": [],
   "source": [
    "path = pathlib.Path(tempfile.NamedTemporaryFile().name)\n",
    "pickle.dump(sparse, path.open(\"wb\"))"
   ]
  },
  {
   "cell_type": "code",
   "execution_count": 69,
   "id": "2e302200-372f-42f3-8b19-6c6034d43a5a",
   "metadata": {},
   "outputs": [
    {
     "name": "stdout",
     "output_type": "stream",
     "text": [
      "30.111458778381348 Mb\n"
     ]
    }
   ],
   "source": [
    "filesize = os.path.getsize(path) / 1024**2\n",
    "print(filesize, \"Mb\")"
   ]
  },
  {
   "cell_type": "code",
   "execution_count": 71,
   "id": "92a9d3d1-c798-42f3-a3f0-aec30134b462",
   "metadata": {},
   "outputs": [],
   "source": [
    "assert filesize > 3"
   ]
  },
  {
   "cell_type": "code",
   "execution_count": 72,
   "id": "501fa6f7-0f53-4ce5-8b9d-e1e7d8b9a13a",
   "metadata": {},
   "outputs": [],
   "source": [
    "fixed = la.Fixed(\n",
    "    la.loaders.COOMatrixFileLoader(path),\n",
    "    definition = la.Definition([cells, genes])\n",
    ")"
   ]
  },
  {
   "cell_type": "code",
   "execution_count": 73,
   "id": "e7e13829-d79a-42e9-ad02-47264ddc64b7",
   "metadata": {},
   "outputs": [],
   "source": [
    "fixed_path = pathlib.Path(tempfile.NamedTemporaryFile().name)\n",
    "pickle.dump(fixed, fixed_path.open(\"wb\"))"
   ]
  },
  {
   "cell_type": "code",
   "execution_count": 74,
   "id": "f2944e51-c5a3-4169-afe7-efabb16929cd",
   "metadata": {},
   "outputs": [
    {
     "name": "stdout",
     "output_type": "stream",
     "text": [
      "2.0606231689453125 Mb\n"
     ]
    }
   ],
   "source": [
    "filesize = os.path.getsize(fixed_path) / 1024**2\n",
    "print(filesize, \"Mb\")"
   ]
  },
  {
   "cell_type": "code",
   "execution_count": 78,
   "id": "1e81acfe-a37e-48ff-b792-b8699c61cf5b",
   "metadata": {},
   "outputs": [],
   "source": [
    "assert filesize < 3"
   ]
  },
  {
   "cell_type": "code",
   "execution_count": 79,
   "id": "dcd1fe50-9483-47b9-99d3-6f3281d43fdc",
   "metadata": {},
   "outputs": [],
   "source": [
    "fixed2 = pickle.load(fixed_path.open(\"rb\"))"
   ]
  },
  {
   "cell_type": "code",
   "execution_count": 82,
   "id": "d00e5310-41f5-4025-b655-387d2f5fd962",
   "metadata": {},
   "outputs": [
    {
     "data": {
      "text/plain": [
       "tensor([[0., 0., 0.,  ..., 0., 0., 0.],\n",
       "        [0., 0., 0.,  ..., 0., 0., 0.],\n",
       "        [0., 0., 0.,  ..., 0., 0., 0.],\n",
       "        ...,\n",
       "        [0., 0., 0.,  ..., 0., 0., 0.],\n",
       "        [0., 0., 0.,  ..., 0., 0., 0.],\n",
       "        [0., 0., 0.,  ..., 0., 0., 0.]], dtype=torch.float64)"
      ]
     },
     "execution_count": 82,
     "metadata": {},
     "output_type": "execute_result"
    }
   ],
   "source": [
    "fixed2.loader.get()"
   ]
  },
  {
   "cell_type": "code",
   "execution_count": null,
   "id": "fbec1b8a-c679-4ef9-b2c2-725b4eb9c8c0",
   "metadata": {},
   "outputs": [],
   "source": []
  }
 ],
 "metadata": {
  "interpreter": {
   "hash": "67f2bc5d0a4b821c8bb058df1e7f636de0fd718ca5110ddb2a5d99375a72ab00"
  },
  "jupytext": {
   "formats": "ipynb,py:percent"
  },
  "kernelspec": {
   "display_name": "Python 3 (ipykernel)",
   "language": "python",
   "name": "python3"
  },
  "language_info": {
   "codemirror_mode": {
    "name": "ipython",
    "version": 3
   },
   "file_extension": ".py",
   "mimetype": "text/x-python",
   "name": "python",
   "nbconvert_exporter": "python",
   "pygments_lexer": "ipython3",
   "version": "3.8.10"
  }
 },
 "nbformat": 4,
 "nbformat_minor": 5
}
