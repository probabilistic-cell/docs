{
 "cells": [
  {
   "cell_type": "code",
   "execution_count": 1,
   "id": "e12bc90e-145f-4388-8cf1-e926a1f54e8a",
   "metadata": {},
   "outputs": [],
   "source": [
    "from IPython import get_ipython\n",
    "\n",
    "if get_ipython():\n",
    "    get_ipython().run_line_magic(\"load_ext\", \"autoreload\")\n",
    "    get_ipython().run_line_magic(\"autoreload\", \"2\")\n",
    "\n",
    "import numpy as np\n",
    "import pandas as pd\n",
    "import torch\n",
    "\n",
    "import xarray as xr\n",
    "\n",
    "import matplotlib.pyplot as plt\n",
    "import seaborn as sns\n",
    "import math\n",
    "\n",
    "import latenta as la\n",
    "la.logger.setLevel(\"INFO\")"
   ]
  },
  {
   "cell_type": "code",
   "execution_count": 2,
   "id": "26042536-c0a4-4bb5-bf25-f9ca2bfeca62",
   "metadata": {},
   "outputs": [],
   "source": [
    "cells = la.Dim(1000, id = \"cell\")\n",
    "clusters = la.Dim(3, id = \"cluster\")"
   ]
  },
  {
   "cell_type": "code",
   "execution_count": 5,
   "id": "52078365-b503-4bda-8e16-b47dca49dda7",
   "metadata": {},
   "outputs": [],
   "source": [
    "latent = la.Latent(\n",
    "    la.distributions.Normal(),\n",
    "    definition = la.Definition([cells])\n",
    ")\n",
    "p = latent.p\n",
    "q = latent.q\n",
    "initial = None\n",
    "initial_quantiles = None"
   ]
  },
  {
   "cell_type": "code",
   "execution_count": 18,
   "id": "8c206174-9c54-463e-b972-5a731b599d89",
   "metadata": {},
   "outputs": [],
   "source": [
    "latent = la.Latent(\n",
    "    la.distributions.CircularUniform(),\n",
    "    definition = la.Definition([cells])\n",
    ")\n",
    "p = latent.p\n",
    "q = latent.q\n",
    "initial = None\n",
    "initial_quantiles = None"
   ]
  },
  {
   "cell_type": "code",
   "execution_count": 7,
   "id": "9f78856c-89d2-4d6e-91d7-81686e33b8d0",
   "metadata": {},
   "outputs": [],
   "source": [
    "latent = la.Latent(\n",
    "    la.distributions.LogNormal(),\n",
    "    initial = 1.,\n",
    "    definition = la.Definition([cells])\n",
    ")\n",
    "p = latent.p\n",
    "q = latent.q\n",
    "initial = None\n",
    "initial_quantiles = None"
   ]
  },
  {
   "cell_type": "code",
   "execution_count": 8,
   "id": "dcffe16f-b7d7-4a24-85d0-d4c483197678",
   "metadata": {},
   "outputs": [],
   "source": [
    "latent = la.Latent(\n",
    "    la.distributions.LogitNormal(loc = 4.),\n",
    "    definition = la.Definition([cells])\n",
    ")\n",
    "p = latent.p\n",
    "q = latent.q\n",
    "initial = None\n",
    "initial_quantiles = None"
   ]
  },
  {
   "cell_type": "code",
   "execution_count": 9,
   "id": "880a9ca8-1c89-4077-95e1-c903f43a4d99",
   "metadata": {},
   "outputs": [],
   "source": [
    "latent = la.Latent(\n",
    "    la.distributions.Dirichlet(definition = la.Definition([clusters])),\n",
    "    definition = la.Definition([cells, clusters])\n",
    ")\n",
    "p = latent.p\n",
    "q = latent.q\n",
    "initial = None\n",
    "initial_quantiles = None"
   ]
  },
  {
   "cell_type": "code",
   "execution_count": 10,
   "id": "c4b8d71a-6a35-4dd0-9956-55bb5a939add",
   "metadata": {},
   "outputs": [],
   "source": [
    "latent = la.Latent(\n",
    "    la.distributions.Dirichlet(0.5, definition = la.Definition([clusters])),\n",
    "    definition = la.Definition([cells, clusters])\n",
    ")\n",
    "p = latent.p\n",
    "q = latent.q\n",
    "initial = None\n",
    "initial_quantiles = None"
   ]
  },
  {
   "cell_type": "code",
   "execution_count": 11,
   "id": "be725db7-207e-487a-9d07-d66c7276ddcd",
   "metadata": {},
   "outputs": [],
   "source": [
    "latent = la.Latent(\n",
    "    la.distributions.Laplace(),\n",
    "    definition = la.Definition([cells])\n",
    ")\n",
    "p = latent.p\n",
    "q = latent.q\n",
    "initial = None\n",
    "initial_quantiles = None"
   ]
  },
  {
   "cell_type": "code",
   "execution_count": 12,
   "id": "b69879b8-a9b0-4641-a757-1ab886f44e1f",
   "metadata": {},
   "outputs": [],
   "source": [
    "latent = la.Latent(\n",
    "    la.distributions.Laplace(loc = 4., scale = 10.),\n",
    "    definition = la.Definition([cells])\n",
    ")\n",
    "p = latent.p\n",
    "q = latent.q\n",
    "initial = None\n",
    "initial_quantiles = None"
   ]
  },
  {
   "cell_type": "code",
   "execution_count": 13,
   "id": "c9d0c65c-7fec-4d8f-aae1-ee9ba5c070c6",
   "metadata": {},
   "outputs": [],
   "source": [
    "latent = la.Latent(\n",
    "    la.distributions.Beta(),\n",
    "    definition = la.Definition([cells])\n",
    ")\n",
    "p = latent.p\n",
    "q = latent.q\n",
    "initial = None\n",
    "initial_quantiles = None"
   ]
  },
  {
   "cell_type": "code",
   "execution_count": 14,
   "id": "867ee09b-9864-4ee0-8d3d-61f9736a6477",
   "metadata": {},
   "outputs": [],
   "source": [
    "latent = la.Latent(\n",
    "    la.distributions.Beta(0.1, 0.1),\n",
    "    definition = la.Definition([cells])\n",
    ")\n",
    "p = latent.p\n",
    "q = latent.q\n",
    "initial = None\n",
    "initial_quantiles = None"
   ]
  },
  {
   "cell_type": "code",
   "execution_count": 19,
   "id": "c2b2c708-e7e6-4d17-bb69-5c924191122d",
   "metadata": {},
   "outputs": [],
   "source": [
    "initial_quantile_mapping = [[0.9, 0.65], [0.1, 0.35]]\n",
    "samples_p = torch.stack([latent.p.prior() for _ in range(5)])\n",
    "samples_q = torch.stack([latent.q.prior() for _ in range(5)])"
   ]
  },
  {
   "cell_type": "code",
   "execution_count": 20,
   "id": "2b1dbcfc-4676-45f6-a32a-f00b3e4466d4",
   "metadata": {},
   "outputs": [
    {
     "name": "stdout",
     "output_type": "stream",
     "text": [
      "tensor(0.7177)\n",
      "tensor(3.6747)\n"
     ]
    },
    {
     "data": {
      "image/png": "[encoded data removed]",
      "text/plain": [
       "<Figure size 432x288 with 1 Axes>"
      ]
     },
     "metadata": {
      "needs_background": "light"
     },
     "output_type": "display_data"
    }
   ],
   "source": [
    "for q1, q2 in initial_quantile_mapping:\n",
    "    print(samples_p.quantile(q2) / samples_p.quantile(q1))\n",
    "    ax = sns.scatterplot(x = samples_p.quantile(q2).numpy().flatten(), y = samples_q.quantile(q1).numpy().flatten(), label = q1)"
   ]
  },
  {
   "cell_type": "code",
   "execution_count": 21,
   "id": "bdbe03cb-7c9a-489b-8fec-6193cb67cf01",
   "metadata": {},
   "outputs": [
    {
     "data": {
      "text/plain": [
       "<matplotlib.legend.Legend at 0x7f2228175df0>"
      ]
     },
     "execution_count": 21,
     "metadata": {},
     "output_type": "execute_result"
    },
    {
     "data": {
      "image/png": "[encoded data removed]",
      "text/plain": [
       "<Figure size 432x288 with 1 Axes>"
      ]
     },
     "metadata": {
      "needs_background": "light"
     },
     "output_type": "display_data"
    }
   ],
   "source": [
    "sns.histplot(samples_p.flatten(), color = \"red\", alpha = 0.5, label = \"p\")\n",
    "sns.histplot(samples_q.flatten(), color = \"blue\", alpha = 0.5, label = \"q\")\n",
    "plt.legend()"
   ]
  },
  {
   "cell_type": "code",
   "execution_count": null,
   "id": "39e04cca-f9cf-4bda-bdf7-4d09a181e1b6",
   "metadata": {},
   "outputs": [],
   "source": []
  }
 ],
 "metadata": {
  "kernelspec": {
   "display_name": "Python 3 (ipykernel)",
   "language": "python",
   "name": "python3"
  },
  "language_info": {
   "codemirror_mode": {
    "name": "ipython",
    "version": 3
   },
   "file_extension": ".py",
   "mimetype": "text/x-python",
   "name": "python",
   "nbconvert_exporter": "python",
   "pygments_lexer": "ipython3",
   "version": "3.8.10"
  }
 },
 "nbformat": 4,
 "nbformat_minor": 5
}
