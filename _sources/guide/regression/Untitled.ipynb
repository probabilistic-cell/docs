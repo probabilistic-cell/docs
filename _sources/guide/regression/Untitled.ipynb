{
 "cells": [
  {
   "cell_type": "code",
   "execution_count": 161,
   "id": "6ca2af10-ed15-4ab7-be1e-9ab828632848",
   "metadata": {},
   "outputs": [
    {
     "name": "stdout",
     "output_type": "stream",
     "text": [
      "The autoreload extension is already loaded. To reload it, use:\n",
      "  %reload_ext autoreload\n"
     ]
    }
   ],
   "source": [
    "from IPython import get_ipython\n",
    "\n",
    "if get_ipython():\n",
    "    get_ipython().run_line_magic(\"load_ext\", \"autoreload\")\n",
    "    get_ipython().run_line_magic(\"autoreload\", \"2\")\n",
    "\n",
    "import numpy as np\n",
    "import pandas as pd\n",
    "import torch\n",
    "\n",
    "import xarray as xr\n",
    "\n",
    "import matplotlib.pyplot as plt\n",
    "import seaborn as sns\n",
    "\n",
    "import collections\n",
    "\n",
    "import latenta as la"
   ]
  },
  {
   "cell_type": "code",
   "execution_count": 162,
   "id": "f219724e-c46d-446c-b49c-1e3426d3c28b",
   "metadata": {},
   "outputs": [],
   "source": [
    "cells = la.Dim(pd.Series(range(100), name=\"cell\").astype(str))\n",
    "genes = la.Dim(pd.Series(range(4), name=\"gene\").astype(str))\n",
    "knots = la.Dim(range(11), \"knot\")"
   ]
  },
  {
   "cell_type": "code",
   "execution_count": 163,
   "id": "4d45e765-4564-444d-9e08-2c8791caa55b",
   "metadata": {},
   "outputs": [],
   "source": [
    "steps = torch.cat([torch.ones(len(knots)-1)])\n",
    "\n",
    "steps = -torch.cat([torch.ones(len(knots)-1)])\n",
    "\n",
    "steps = torch.cat([torch.ones(len(knots)-1)])\n",
    "steps[:int(len(steps)/2)] *= -1"
   ]
  },
  {
   "cell_type": "code",
   "execution_count": 164,
   "id": "0c8c9a8f-1927-4132-86c2-aa6787abd8f3",
   "metadata": {},
   "outputs": [
    {
     "data": {
      "text/plain": [
       "tensor([-1., -1., -1., -1., -1.,  1.,  1.,  1.,  1.,  1.])"
      ]
     },
     "execution_count": 164,
     "metadata": {},
     "output_type": "execute_result"
    }
   ],
   "source": [
    "steps"
   ]
  },
  {
   "cell_type": "code",
   "execution_count": 165,
   "id": "27091357-26ff-4c33-88cf-bb64a0798e4a",
   "metadata": {},
   "outputs": [],
   "source": [
    "sign = torch.sigmoid(steps.sum())"
   ]
  },
  {
   "cell_type": "code",
   "execution_count": 166,
   "id": "a785bf9a-9d5b-449a-8b2b-ed091fa3c33d",
   "metadata": {},
   "outputs": [
    {
     "data": {
      "text/plain": [
       "tensor(0.5000)"
      ]
     },
     "execution_count": 166,
     "metadata": {},
     "output_type": "execute_result"
    }
   ],
   "source": [
    "sign"
   ]
  },
  {
   "cell_type": "code",
   "execution_count": 167,
   "id": "7b43dbe8-e1c6-4250-a75c-10713aef8763",
   "metadata": {},
   "outputs": [],
   "source": [
    "temperature = 0.1"
   ]
  },
  {
   "cell_type": "code",
   "execution_count": 168,
   "id": "70c32227-d9a1-4339-ad2d-8c517ba0f1b9",
   "metadata": {},
   "outputs": [],
   "source": [
    "step = la.distributions.HalfNormal()\n",
    "step.run()"
   ]
  },
  {
   "cell_type": "code",
   "execution_count": 188,
   "id": "ff4dbe78-3969-4c6f-8fe2-e478fb7bc2e8",
   "metadata": {},
   "outputs": [],
   "source": [
    "step_likelihood = step.log_prob(torch.exp(steps.abs()))"
   ]
  },
  {
   "cell_type": "code",
   "execution_count": 189,
   "id": "cfeae811-c243-4b91-a40a-2d821ed8b505",
   "metadata": {},
   "outputs": [
    {
     "data": {
      "text/plain": [
       "tensor([-3.9203, -3.9203, -3.9203, -3.9203, -3.9203, -3.9203, -3.9203, -3.9203,\n",
       "        -3.9203, -3.9203])"
      ]
     },
     "execution_count": 189,
     "metadata": {},
     "output_type": "execute_result"
    }
   ],
   "source": [
    "step_likelihood"
   ]
  },
  {
   "cell_type": "code",
   "execution_count": 171,
   "id": "23de8c2b-9c87-4e2b-aacf-31f20f2372d8",
   "metadata": {},
   "outputs": [],
   "source": [
    "penalty_shift = 0.5\n",
    "penalty_scale = 0.2\n",
    "penalty_annealing = 1 # n_cells?"
   ]
  },
  {
   "cell_type": "code",
   "execution_count": 172,
   "id": "2aebb57e-c3ee-4f73-b6bc-e3ae0c930f4e",
   "metadata": {},
   "outputs": [
    {
     "data": {
      "text/plain": [
       "tensor([-4.9203, -4.9203, -4.9203, -4.9203, -4.9203, -4.9203, -4.9203, -4.9203,\n",
       "        -4.9203, -4.9203])"
      ]
     },
     "execution_count": 172,
     "metadata": {},
     "output_type": "execute_result"
    }
   ],
   "source": [
    "step_likelihood - penalty"
   ]
  },
  {
   "cell_type": "code",
   "execution_count": 181,
   "id": "3fceae2c-8cce-4517-b1ec-22a4ec1dd94c",
   "metadata": {},
   "outputs": [],
   "source": [
    "penalty_increasing = penalty_annealing * torch.sigmoid((-steps - penalty_cutoff)/penalty_scale) * sign\n",
    "penalty_decreasing = penalty_annealing * torch.sigmoid((steps - penalty_cutoff)/penalty_scale) * (1-sign)"
   ]
  },
  {
   "cell_type": "code",
   "execution_count": 182,
   "id": "231daea9-afc5-4e0b-ac69-c963863514a6",
   "metadata": {},
   "outputs": [
    {
     "data": {
      "text/plain": [
       "tensor([ 0.5000,  0.5000,  0.5000,  0.5000,  0.5000, -1.5000, -1.5000, -1.5000,\n",
       "        -1.5000, -1.5000])"
      ]
     },
     "execution_count": 182,
     "metadata": {},
     "output_type": "execute_result"
    }
   ],
   "source": [
    "(-penalty_cutoff - steps)"
   ]
  },
  {
   "cell_type": "code",
   "execution_count": 183,
   "id": "93f6b6bc-3aee-4e77-a0db-b3ea1de0fdd3",
   "metadata": {},
   "outputs": [
    {
     "data": {
      "text/plain": [
       "tensor([-0.5000, -0.5000, -0.5000, -0.5000, -0.5000,  1.5000,  1.5000,  1.5000,\n",
       "         1.5000,  1.5000])"
      ]
     },
     "execution_count": 183,
     "metadata": {},
     "output_type": "execute_result"
    }
   ],
   "source": [
    "(penalty_cutoff + steps)"
   ]
  },
  {
   "cell_type": "code",
   "execution_count": 186,
   "id": "3f7f0a56-d55f-4d9e-8f8f-e7db07c99099",
   "metadata": {},
   "outputs": [],
   "source": [
    "penalty = penalty_increasing + penalty_decreasing"
   ]
  },
  {
   "cell_type": "code",
   "execution_count": 187,
   "id": "e3286d14-4bcb-4cef-86aa-af8df04ebf7c",
   "metadata": {},
   "outputs": [
    {
     "data": {
      "text/plain": [
       "tensor([0.4623, 0.4623, 0.4623, 0.4623, 0.4623, 0.4623, 0.4623, 0.4623, 0.4623,\n",
       "        0.4623])"
      ]
     },
     "execution_count": 187,
     "metadata": {},
     "output_type": "execute_result"
    }
   ],
   "source": [
    "penalty"
   ]
  },
  {
   "cell_type": "code",
   "execution_count": 95,
   "id": "ddb21083-7dfc-41d1-894c-331bf6d94390",
   "metadata": {},
   "outputs": [
    {
     "data": {
      "text/plain": [
       "tensor(0.9933)"
      ]
     },
     "execution_count": 95,
     "metadata": {},
     "output_type": "execute_result"
    }
   ],
   "source": [
    "sign"
   ]
  },
  {
   "cell_type": "code",
   "execution_count": null,
   "id": "058eb4ab-72c6-4e2a-8bcd-48f770285ea6",
   "metadata": {},
   "outputs": [],
   "source": []
  }
 ],
 "metadata": {
  "kernelspec": {
   "display_name": "Python 3 (ipykernel)",
   "language": "python",
   "name": "python3"
  },
  "language_info": {
   "codemirror_mode": {
    "name": "ipython",
    "version": 3
   },
   "file_extension": ".py",
   "mimetype": "text/x-python",
   "name": "python",
   "nbconvert_exporter": "python",
   "pygments_lexer": "ipython3",
   "version": "3.8.10"
  }
 },
 "nbformat": 4,
 "nbformat_minor": 5
}
