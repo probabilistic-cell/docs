{
 "cells": [
  {
   "cell_type": "markdown",
   "id": "0fdca9f7-c73f-4f0d-8119-c7cae11137d8",
   "metadata": {},
   "source": [
    "# Scalability of sparse matrices"
   ]
  },
  {
   "cell_type": "code",
   "execution_count": 1,
   "id": "069fb3ef-c8a9-44a9-93e4-50f4a7c4f863",
   "metadata": {},
   "outputs": [],
   "source": [
    "from IPython import get_ipython\n",
    "if get_ipython():\n",
    "    get_ipython().run_line_magic('load_ext', 'autoreload')\n",
    "    get_ipython().run_line_magic('autoreload', '2')\n",
    "\n",
    "import latenta as la\n",
    "import scanpy as sc\n",
    "import numpy as np\n",
    "import pandas as pd\n",
    "import seaborn as sns\n",
    "import torch"
   ]
  },
  {
   "cell_type": "code",
   "execution_count": 2,
   "id": "dbf2f505-056b-4149-9252-a4818d1b8c3d",
   "metadata": {},
   "outputs": [],
   "source": [
    "cells = la.Dim(10000, \"cell\")\n",
    "genes = la.Dim(10000, \"gene\")"
   ]
  },
  {
   "cell_type": "code",
   "execution_count": 3,
   "id": "f87793e1-874a-46be-8062-f6b70e765140",
   "metadata": {},
   "outputs": [],
   "source": [
    "value = np.zeros((len(cells), len(genes)))\n",
    "for i in range(value.shape[0]):\n",
    "    value[i, np.random.choice(value.shape[1])] = 1."
   ]
  },
  {
   "cell_type": "code",
   "execution_count": 4,
   "id": "5dfa301a-0b70-448d-95e6-ca5f8a4bbed1",
   "metadata": {
    "tags": [
     "hide-input"
    ]
   },
   "outputs": [],
   "source": [
    "import sys\n",
    "from types import ModuleType, FunctionType\n",
    "from gc import get_referents\n",
    "\n",
    "# Custom objects know their class.\n",
    "# Function objects seem to know way too much, including modules.\n",
    "# Exclude modules as well.\n",
    "BLACKLIST = type, ModuleType, FunctionType\n",
    "\n",
    "def getsize(obj):\n",
    "    \"\"\"sum size of object & members.\"\"\"\n",
    "    if isinstance(obj, BLACKLIST):\n",
    "        raise TypeError('getsize() does not take argument of type: '+ str(type(obj)))\n",
    "    seen_ids = set()\n",
    "    size = 0\n",
    "    objects = [obj]\n",
    "    while objects:\n",
    "        need_referents = []\n",
    "        for obj in objects:\n",
    "            if not isinstance(obj, BLACKLIST) and id(obj) not in seen_ids:\n",
    "                seen_ids.add(id(obj))\n",
    "                size += sys.getsizeof(obj)\n",
    "                need_referents.append(obj)\n",
    "            if torch.is_tensor(obj):\n",
    "                size += obj.element_size() * obj.nelement()\n",
    "        objects = get_referents(*need_referents)\n",
    "    return size"
   ]
  },
  {
   "cell_type": "code",
   "execution_count": 5,
   "id": "c42cd0d4-3cc5-4c87-9609-dc6d01fb0587",
   "metadata": {},
   "outputs": [],
   "source": [
    "loader_dense = la.variables.loaders.MemoryLoader(value)\n",
    "fixed_dense = la.Fixed(loader_dense, definition = la.Definition([cells, genes]))"
   ]
  },
  {
   "cell_type": "markdown",
   "id": "5244b8a3-9d72-4afc-9658-4f9c8ded0178",
   "metadata": {},
   "source": [
    "Obviously, a large difference in memory usage."
   ]
  },
  {
   "cell_type": "code",
   "execution_count": 6,
   "id": "9e00a768-5137-412d-aeec-56ed32d33503",
   "metadata": {},
   "outputs": [
    {
     "data": {
      "text/plain": [
       "381.47050285339355"
      ]
     },
     "execution_count": 6,
     "metadata": {},
     "output_type": "execute_result"
    }
   ],
   "source": [
    "getsize(loader_dense)/1024/1024"
   ]
  },
  {
   "cell_type": "markdown",
   "id": "a0878d0f-aab3-442d-a6b8-6a4df255323e",
   "metadata": {},
   "source": [
    "Using 3GB (or more) on current GPUs would be prohibitive."
   ]
  },
  {
   "cell_type": "code",
   "execution_count": 7,
   "id": "892fc197-1404-4d17-a840-154df728fd61",
   "metadata": {},
   "outputs": [],
   "source": [
    "loader_sparse = la.variables.loaders.SparseDenseMemoryLoader(la.sparse.COO.from_numpy_array(value))\n",
    "fixed_sparse = la.Fixed(loader_sparse, definition = la.Definition([cells, genes]))"
   ]
  },
  {
   "cell_type": "code",
   "execution_count": 8,
   "id": "73378819-fc8b-4e8b-95fe-13bb92e7fda0",
   "metadata": {},
   "outputs": [
    {
     "data": {
      "text/plain": [
       "1.5413875579833984"
      ]
     },
     "execution_count": 8,
     "metadata": {},
     "output_type": "execute_result"
    }
   ],
   "source": [
    "getsize(loader_sparse)/1024/1024"
   ]
  },
  {
   "cell_type": "markdown",
   "id": "f9020734-b7f6-4161-adf0-d19f2200ecd7",
   "metadata": {},
   "source": [
    "## Timing"
   ]
  },
  {
   "cell_type": "markdown",
   "id": "cea20cc0-39ef-4c15-9961-a8a2403c2dc4",
   "metadata": {},
   "source": [
    "When data is accessed from a SparseDenseMemoryLoader, it is converted to a dense tensor. This can cause a slowdown:"
   ]
  },
  {
   "cell_type": "code",
   "execution_count": 9,
   "id": "27916049-1d5d-4409-ab9b-eb677914425d",
   "metadata": {},
   "outputs": [],
   "source": [
    "import timeit"
   ]
  },
  {
   "cell_type": "code",
   "execution_count": 10,
   "id": "85bc0f73-4f0e-4ed8-9140-e932a1b93b32",
   "metadata": {},
   "outputs": [
    {
     "data": {
      "text/plain": [
       "3.9800070226192474e-06"
      ]
     },
     "execution_count": 10,
     "metadata": {},
     "output_type": "execute_result"
    }
   ],
   "source": [
    "time = timeit.timeit(\"loader_dense.get()\", number = 1, globals = globals())\n",
    "time"
   ]
  },
  {
   "cell_type": "code",
   "execution_count": 11,
   "id": "6f7f1957-4013-4070-b79a-7fee812b0ad6",
   "metadata": {},
   "outputs": [
    {
     "data": {
      "text/plain": [
       "0.057309878058731556"
      ]
     },
     "execution_count": 11,
     "metadata": {},
     "output_type": "execute_result"
    }
   ],
   "source": [
    "time = timeit.timeit(\"loader_sparse.get()\", number = 1, globals = globals())\n",
    "time"
   ]
  },
  {
   "cell_type": "markdown",
   "id": "e00ce0fa-3cf8-436a-8bf7-a1e75f92eceb",
   "metadata": {},
   "source": [
    "Speed is however competitive when subsampling:"
   ]
  },
  {
   "cell_type": "code",
   "execution_count": 12,
   "id": "022b4d22-fa1c-4471-9c4e-f787c5b46a70",
   "metadata": {},
   "outputs": [],
   "source": [
    "idx = {\"cell\":torch.tensor(range(500))}"
   ]
  },
  {
   "cell_type": "code",
   "execution_count": 13,
   "id": "0a777ea1-782a-46c8-8a03-ca424c173522",
   "metadata": {},
   "outputs": [
    {
     "data": {
      "text/plain": [
       "0.00218003592453897"
      ]
     },
     "execution_count": 13,
     "metadata": {},
     "output_type": "execute_result"
    }
   ],
   "source": [
    "time = timeit.timeit(\"loader_dense.get(idx)\", number = 1, globals = globals())\n",
    "time"
   ]
  },
  {
   "cell_type": "code",
   "execution_count": 14,
   "id": "2b903692-55da-4811-986d-7ead5e43ba5d",
   "metadata": {},
   "outputs": [
    {
     "data": {
      "text/plain": [
       "0.003363447031006217"
      ]
     },
     "execution_count": 14,
     "metadata": {},
     "output_type": "execute_result"
    }
   ],
   "source": [
    "time = timeit.timeit(\"loader_sparse.get(idx)\", number = 1, globals = globals())\n",
    "time"
   ]
  },
  {
   "cell_type": "markdown",
   "id": "2538cc02-d001-4ce0-9f5c-a9d4bff048f2",
   "metadata": {
    "tags": []
   },
   "source": [
    "### GPU"
   ]
  },
  {
   "cell_type": "markdown",
   "id": "d0dd0d6b-747b-43ce-abd0-038e775843d0",
   "metadata": {},
   "source": [
    "Conversion is much faster on a GPU"
   ]
  },
  {
   "cell_type": "code",
   "execution_count": 15,
   "id": "d6a39068-f9b9-4dc4-982f-4bb473655d7b",
   "metadata": {},
   "outputs": [],
   "source": [
    "fixed_sparse.to(\"cuda\")\n",
    "fixed_dense.to(\"cuda\")"
   ]
  },
  {
   "cell_type": "code",
   "execution_count": 16,
   "id": "252049d8-6c7c-4112-adcc-31da30f1688b",
   "metadata": {},
   "outputs": [],
   "source": [
    "import timeit"
   ]
  },
  {
   "cell_type": "code",
   "execution_count": 17,
   "id": "a612ece1-6ff1-452b-a1ab-af87c1d423c6",
   "metadata": {},
   "outputs": [
    {
     "data": {
      "text/plain": [
       "0.0038368440000340343"
      ]
     },
     "execution_count": 17,
     "metadata": {},
     "output_type": "execute_result"
    }
   ],
   "source": [
    "idx = {\"cell\":np.random.choice(len(cells), 1000)}\n",
    "timeit.timeit(\"fixed_sparse.loader.get(idx)\", number = 3, globals = {\"fixed_sparse\":fixed_sparse, \"idx\":idx})"
   ]
  },
  {
   "cell_type": "code",
   "execution_count": 18,
   "id": "00d2bdfa-f56d-4ae3-b355-03b6c3b33cac",
   "metadata": {},
   "outputs": [
    {
     "data": {
      "text/plain": [
       "6.793090142309666e-05"
      ]
     },
     "execution_count": 18,
     "metadata": {},
     "output_type": "execute_result"
    }
   ],
   "source": [
    "idx = {\"cell\":torch.tensor(np.random.choice(len(cells), 500), device = \"cuda\")}\n",
    "timeit.timeit(\"fixed_dense.loader.get(idx)\", number = 3, globals = {\"fixed_dense\":fixed_dense, \"idx\":idx})"
   ]
  },
  {
   "cell_type": "markdown",
   "id": "d5cfdf08-f32c-4233-8a3f-7a564ce13b49",
   "metadata": {},
   "source": [
    "### Scalability"
   ]
  },
  {
   "cell_type": "markdown",
   "id": "bbb7b897-c958-416b-8075-d4f39bd386e9",
   "metadata": {},
   "source": [
    "The accessing speed scales linearly with the number subsampled elements. Importantly, because of custom indexing in the `la.sparse.COO()` class, it does not scale horrible with higher dataset size:"
   ]
  },
  {
   "cell_type": "code",
   "execution_count": 19,
   "id": "682cfe9c-8910-4ac8-946b-aa5fe176a32e",
   "metadata": {},
   "outputs": [
    {
     "name": "stdout",
     "output_type": "stream",
     "text": [
      "100.0\n",
      "1000.0\n",
      "10000.0\n",
      "100000.0\n",
      "1000000.0\n"
     ]
    }
   ],
   "source": [
    "timings = []\n",
    "for n_cells in [1e2, 1e3, 1e4, 1e5, 1e6]:\n",
    "    print(n_cells)\n",
    "    cells = la.Dim(int(n_cells), \"cell\")\n",
    "    genes = la.Dim(10000, \"gene\")\n",
    "    \n",
    "    row = torch.arange(len(cells))\n",
    "    col = torch.randint(len(genes), size = (len(row), ))\n",
    "    value = torch.ones(len(row))\n",
    "    \n",
    "    coo = la.sparse.COO(row, col, value, shape = (len(cells), len(genes)))\n",
    "    loader = la.variables.loaders.SparseDenseMemoryLoader(coo)\n",
    "    fixed = la.Fixed(loader, definition = la.Definition([cells, genes]))\n",
    "    \n",
    "    for n_cells_sampled in [100, 200, 500, 1000, 2000, 5000]:\n",
    "        if n_cells_sampled >= n_cells:\n",
    "            continue\n",
    "        idx = {\"cell\":np.random.choice(len(cells), n_cells_sampled)}\n",
    "        time = timeit.timeit(\"loader.get(idx)\", number = 1, globals = {\"loader\":loader, \"idx\":idx})\n",
    "        timings.append({\"n_cells\":n_cells, \"n_cells_sampled\":n_cells_sampled, \"time\":time})\n",
    "timings = pd.DataFrame(timings)"
   ]
  },
  {
   "cell_type": "code",
   "execution_count": 20,
   "id": "855bbf6d-f39d-4bd3-ab07-eb9e3e4fdb88",
   "metadata": {},
   "outputs": [
    {
     "data": {
      "text/plain": [
       "''"
      ]
     },
     "execution_count": 20,
     "metadata": {},
     "output_type": "execute_result"
    },
    {
     "data": {
      "image/png": "[encoded data removed]",
      "text/plain": [
       "<Figure size 432x288 with 1 Axes>"
      ]
     },
     "metadata": {
      "needs_background": "light"
     },
     "output_type": "display_data"
    }
   ],
   "source": [
    "ax = sns.lineplot(x = timings[\"n_cells_sampled\"], y = timings[\"time\"], hue = timings[\"n_cells\"].astype(\"category\"))\n",
    "ax.set_xscale(\"log\")\n",
    "ax.set_yscale(\"log\")\n",
    "ax.set_xticks(timings.n_cells_sampled.unique())\n",
    "ax.set_xticklabels(timings.n_cells_sampled.unique())\n",
    ";"
   ]
  },
  {
   "cell_type": "code",
   "execution_count": null,
   "id": "8b41e75d-9fc8-47dd-b56c-65f95abff740",
   "metadata": {},
   "outputs": [],
   "source": []
  }
 ],
 "metadata": {
  "kernelspec": {
   "display_name": "Python 3 (ipykernel)",
   "language": "python",
   "name": "python3"
  },
  "language_info": {
   "codemirror_mode": {
    "name": "ipython",
    "version": 3
   },
   "file_extension": ".py",
   "mimetype": "text/x-python",
   "name": "python",
   "nbconvert_exporter": "python",
   "pygments_lexer": "ipython3",
   "version": "3.8.10"
  }
 },
 "nbformat": 4,
 "nbformat_minor": 5
}
