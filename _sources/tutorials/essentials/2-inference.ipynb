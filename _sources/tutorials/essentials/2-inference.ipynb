{
 "cells": [
  {
   "cell_type": "markdown",
   "id": "3ff72015",
   "metadata": {},
   "source": [
    "# Inference"
   ]
  },
  {
   "cell_type": "code",
   "execution_count": null,
   "id": "3c5b8370",
   "metadata": {},
   "outputs": [],
   "source": [
    "import latenta as la\n",
    "import scanpy as sc"
   ]
  },
  {
   "cell_type": "markdown",
   "id": "d868a8ae",
   "metadata": {},
   "source": [
    "We'll use the same dataset as [before](./1-variables)..."
   ]
  },
  {
   "cell_type": "code",
   "execution_count": null,
   "id": "3e5e6386",
   "metadata": {},
   "outputs": [],
   "source": [
    "adata = sc.datasets.pbmc3k()\n",
    "\n",
    "sc.pp.filter_cells(adata, min_counts = 100)\n",
    "\n",
    "sc.pp.normalize_per_cell(adata)\n",
    "sc.pp.log1p(adata)\n",
    "sc.pp.filter_genes_dispersion(adata)\n",
    "\n",
    "sc.pp.pca(adata)\n",
    "sc.pp.neighbors(adata)"
   ]
  },
  {
   "cell_type": "markdown",
   "id": "94a4ef5b",
   "metadata": {
    "lines_to_next_cell": 2
   },
   "source": [
    "and also the same model:"
   ]
  }
 ],
 "metadata": {
  "jupytext": {
   "encoding": "# -*- coding: utf-8 -*-",
   "formats": "ipynb,py:percent"
  },
  "kernelspec": {
   "display_name": "Python 3 (ipykernel)",
   "language": "python",
   "name": "python3"
  }
 },
 "nbformat": 4,
 "nbformat_minor": 5
}
